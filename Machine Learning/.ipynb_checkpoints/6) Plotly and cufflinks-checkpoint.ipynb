{
 "cells": [
  {
   "cell_type": "markdown",
   "metadata": {},
   "source": [
    "___\n",
    "\n",
    "<a href='http://www.pieriandata.com'> <img src='../Pierian_Data_Logo.png' /></a>\n",
    "___\n",
    "# Plotly and Cufflinks"
   ]
  },
  {
   "cell_type": "markdown",
   "metadata": {},
   "source": [
    "Plotly is a library that allows you to create interactive plots that you can use in dashboards or websites (you can save them as html files or static images).\n",
    "\n",
    "## Installation\n",
    "\n",
    "In order for this all to work, you'll need to install plotly and cufflinks to call plots directly off of a pandas dataframe. These libraries are not currently available through **conda** but are available through **pip**. Install the libraries at your command line/terminal using:\n",
    "\n",
    "    pip install plotly\n",
    "    pip install cufflinks\n",
    "\n",
    "** NOTE: Make sure you only have one installation of Python on your computer when you do this, otherwise the installation may not work. **\n",
    "\n",
    "## Imports and Set-up"
   ]
  },
  {
   "cell_type": "code",
   "execution_count": 19,
   "metadata": {},
   "outputs": [
    {
     "data": {
      "text/html": [
       "        <script type=\"text/javascript\">\n",
       "        window.PlotlyConfig = {MathJaxConfig: 'local'};\n",
       "        if (window.MathJax && window.MathJax.Hub && window.MathJax.Hub.Config) {window.MathJax.Hub.Config({SVG: {font: \"STIX-Web\"}});}\n",
       "        if (typeof require !== 'undefined') {\n",
       "        require.undef(\"plotly\");\n",
       "        requirejs.config({\n",
       "            paths: {\n",
       "                'plotly': ['https://cdn.plot.ly/plotly-2.12.1.min']\n",
       "            }\n",
       "        });\n",
       "        require(['plotly'], function(Plotly) {\n",
       "            window._Plotly = Plotly;\n",
       "        });\n",
       "        }\n",
       "        </script>\n",
       "        "
      ]
     },
     "metadata": {},
     "output_type": "display_data"
    },
    {
     "data": {
      "text/html": [
       "        <script type=\"text/javascript\">\n",
       "        window.PlotlyConfig = {MathJaxConfig: 'local'};\n",
       "        if (window.MathJax && window.MathJax.Hub && window.MathJax.Hub.Config) {window.MathJax.Hub.Config({SVG: {font: \"STIX-Web\"}});}\n",
       "        if (typeof require !== 'undefined') {\n",
       "        require.undef(\"plotly\");\n",
       "        requirejs.config({\n",
       "            paths: {\n",
       "                'plotly': ['https://cdn.plot.ly/plotly-2.12.1.min']\n",
       "            }\n",
       "        });\n",
       "        require(['plotly'], function(Plotly) {\n",
       "            window._Plotly = Plotly;\n",
       "        });\n",
       "        }\n",
       "        </script>\n",
       "        "
      ]
     },
     "metadata": {},
     "output_type": "display_data"
    }
   ],
   "source": [
    "import pandas as pd\n",
    "import numpy as np\n",
    "%matplotlib inline\n",
    "\n",
    "\n",
    "from plotly import __version__\n",
    "from plotly.offline import download_plotlyjs, init_notebook_mode, plot, iplot\n",
    "import cufflinks as cf\n",
    "\n",
    "# For Notebooks\n",
    "init_notebook_mode(connected=True)\n",
    "\n",
    "# For offline use\n",
    "cf.go_offline()"
   ]
  },
  {
   "cell_type": "markdown",
   "metadata": {},
   "source": [
    "### Fake Data"
   ]
  },
  {
   "cell_type": "code",
   "execution_count": 6,
   "metadata": {},
   "outputs": [],
   "source": [
    "df = pd.DataFrame(np.random.randn(100,4),columns='A B C D'.split())"
   ]
  },
  {
   "cell_type": "code",
   "execution_count": 7,
   "metadata": {},
   "outputs": [
    {
     "data": {
      "text/html": [
       "<div>\n",
       "<style scoped>\n",
       "    .dataframe tbody tr th:only-of-type {\n",
       "        vertical-align: middle;\n",
       "    }\n",
       "\n",
       "    .dataframe tbody tr th {\n",
       "        vertical-align: top;\n",
       "    }\n",
       "\n",
       "    .dataframe thead th {\n",
       "        text-align: right;\n",
       "    }\n",
       "</style>\n",
       "<table border=\"1\" class=\"dataframe\">\n",
       "  <thead>\n",
       "    <tr style=\"text-align: right;\">\n",
       "      <th></th>\n",
       "      <th>A</th>\n",
       "      <th>B</th>\n",
       "      <th>C</th>\n",
       "      <th>D</th>\n",
       "    </tr>\n",
       "  </thead>\n",
       "  <tbody>\n",
       "    <tr>\n",
       "      <th>0</th>\n",
       "      <td>1.237665</td>\n",
       "      <td>-0.554824</td>\n",
       "      <td>-0.269069</td>\n",
       "      <td>-0.449142</td>\n",
       "    </tr>\n",
       "    <tr>\n",
       "      <th>1</th>\n",
       "      <td>-0.558865</td>\n",
       "      <td>-0.460339</td>\n",
       "      <td>0.208137</td>\n",
       "      <td>1.202948</td>\n",
       "    </tr>\n",
       "    <tr>\n",
       "      <th>2</th>\n",
       "      <td>0.409467</td>\n",
       "      <td>1.586638</td>\n",
       "      <td>0.743413</td>\n",
       "      <td>0.253782</td>\n",
       "    </tr>\n",
       "    <tr>\n",
       "      <th>3</th>\n",
       "      <td>0.429830</td>\n",
       "      <td>-0.327221</td>\n",
       "      <td>-0.580305</td>\n",
       "      <td>-1.506380</td>\n",
       "    </tr>\n",
       "    <tr>\n",
       "      <th>4</th>\n",
       "      <td>0.072383</td>\n",
       "      <td>0.034021</td>\n",
       "      <td>1.012642</td>\n",
       "      <td>1.389354</td>\n",
       "    </tr>\n",
       "  </tbody>\n",
       "</table>\n",
       "</div>"
      ],
      "text/plain": [
       "          A         B         C         D\n",
       "0  1.237665 -0.554824 -0.269069 -0.449142\n",
       "1 -0.558865 -0.460339  0.208137  1.202948\n",
       "2  0.409467  1.586638  0.743413  0.253782\n",
       "3  0.429830 -0.327221 -0.580305 -1.506380\n",
       "4  0.072383  0.034021  1.012642  1.389354"
      ]
     },
     "execution_count": 7,
     "metadata": {},
     "output_type": "execute_result"
    }
   ],
   "source": [
    "df.head()"
   ]
  },
  {
   "cell_type": "code",
   "execution_count": 8,
   "metadata": {},
   "outputs": [],
   "source": [
    "df2 = pd.DataFrame({'Category':['A','B','C'],'Values':[32,43,50]})"
   ]
  },
  {
   "cell_type": "code",
   "execution_count": 9,
   "metadata": {},
   "outputs": [
    {
     "data": {
      "text/html": [
       "<div>\n",
       "<style scoped>\n",
       "    .dataframe tbody tr th:only-of-type {\n",
       "        vertical-align: middle;\n",
       "    }\n",
       "\n",
       "    .dataframe tbody tr th {\n",
       "        vertical-align: top;\n",
       "    }\n",
       "\n",
       "    .dataframe thead th {\n",
       "        text-align: right;\n",
       "    }\n",
       "</style>\n",
       "<table border=\"1\" class=\"dataframe\">\n",
       "  <thead>\n",
       "    <tr style=\"text-align: right;\">\n",
       "      <th></th>\n",
       "      <th>Category</th>\n",
       "      <th>Values</th>\n",
       "    </tr>\n",
       "  </thead>\n",
       "  <tbody>\n",
       "    <tr>\n",
       "      <th>0</th>\n",
       "      <td>A</td>\n",
       "      <td>32</td>\n",
       "    </tr>\n",
       "    <tr>\n",
       "      <th>1</th>\n",
       "      <td>B</td>\n",
       "      <td>43</td>\n",
       "    </tr>\n",
       "    <tr>\n",
       "      <th>2</th>\n",
       "      <td>C</td>\n",
       "      <td>50</td>\n",
       "    </tr>\n",
       "  </tbody>\n",
       "</table>\n",
       "</div>"
      ],
      "text/plain": [
       "  Category  Values\n",
       "0        A      32\n",
       "1        B      43\n",
       "2        C      50"
      ]
     },
     "execution_count": 9,
     "metadata": {},
     "output_type": "execute_result"
    }
   ],
   "source": [
    "df2.head()"
   ]
  },
  {
   "cell_type": "markdown",
   "metadata": {},
   "source": [
    "## Using Cufflinks and iplot()\n",
    "\n",
    "* scatter\n",
    "* bar\n",
    "* box\n",
    "* spread\n",
    "* ratio\n",
    "* heatmap\n",
    "* surface\n",
    "* histogram\n",
    "* bubble"
   ]
  },
  {
   "cell_type": "markdown",
   "metadata": {},
   "source": [
    "## Scatter"
   ]
  },
  {
   "cell_type": "code",
   "execution_count": 10,
   "metadata": {},
   "outputs": [
    {
     "data": {
      "application/vnd.plotly.v1+json": {
       "config": {
        "linkText": "Export to plot.ly",
        "plotlyServerURL": "https://plot.ly",
        "showLink": true
       },
       "data": [
        {
         "line": {
          "color": "rgba(255, 153, 51, 1.0)",
          "dash": "solid",
          "shape": "linear",
          "width": 1.3
         },
         "marker": {
          "size": 10,
          "symbol": "circle"
         },
         "mode": "markers",
         "name": "B",
         "text": "",
         "type": "scatter",
         "x": [
          1.2376648357470055,
          -0.5588649056406358,
          0.40946706449563175,
          0.4298301337164253,
          0.07238270128864749,
          -0.20598883801382525,
          1.2385584747531542,
          -1.0633617765803824,
          0.3434542115634483,
          1.3645551658564248,
          -0.7290820511381018,
          -1.035624379248983,
          0.32740419197523757,
          -0.3351406777735119,
          -0.6995413769041855,
          -0.32313520691160347,
          -0.6968944913793241,
          -1.2658169541706465,
          1.8681787506166567,
          1.654531174173863,
          0.4323609959994185,
          0.13342603725333999,
          -0.25726923923873757,
          0.7180052009841095,
          1.403861120520268,
          1.4472639088688162,
          -0.6399257301458914,
          -1.1614404005478682,
          2.821851024615292,
          -0.45675635524671515,
          -1.5795633950159544,
          -0.36823092116578626,
          -1.0381007781369387,
          1.80093516549471,
          0.605519660199255,
          0.5520713257359585,
          1.0739598975916955,
          -0.08606957115270493,
          -0.5388402188322184,
          1.4131676971194618,
          -0.5605172697322097,
          -0.6056944769115583,
          -0.9428065238847683,
          1.3962914689468222,
          -0.9272551780488926,
          -0.16998328050440442,
          1.957273987112428,
          -0.08974156694888845,
          -0.6345160635027977,
          -0.4863315382609629,
          -0.6461642065112355,
          -0.4394231941140874,
          0.37048755383772125,
          0.5298402144160002,
          1.0054517069637832,
          1.1136464518705884,
          -2.158906419697583,
          2.1091061818145262,
          -1.0703594134064252,
          -0.5814437688577203,
          0.03924795414460957,
          1.006378179337866,
          -0.3903396632439928,
          -1.3561617236485808,
          -1.0708998832851322,
          1.5806859251958079,
          0.17179271377825836,
          -0.9047325249055707,
          1.1275038903666008,
          1.989443049293253,
          -1.090722702073496,
          -0.2993575416216889,
          -0.6394549917325748,
          -1.2244878399342731,
          1.6452364982836245,
          0.6177372762506392,
          -1.3176302335739636,
          0.03300243685919273,
          -1.0649093458079049,
          0.975689453023733,
          0.05122198401087867,
          -0.2976791863225247,
          -0.790150167428062,
          -0.6625271152615411,
          0.7860844830326141,
          -0.016153571380949677,
          -0.8598140138716176,
          -0.3185632602435938,
          -0.8067190607871518,
          -0.6147307859444832,
          0.6156300197507949,
          -0.9048669572075687,
          -0.2106043328452722,
          -1.0358044675788922,
          0.8941804936081772,
          0.6979637785733713,
          -0.8090777129605745,
          0.48770364177028785,
          -1.317158662969975,
          1.273288323901588
         ],
         "y": [
          -0.5548235720002016,
          -0.46033933106280667,
          1.5866377741729345,
          -0.3272212503881288,
          0.03402138478618209,
          -0.7624627502472152,
          2.348882566100373,
          -0.4593864721542771,
          0.31916528326146887,
          -0.6902004464640703,
          -0.9071182373778008,
          0.8693879352151368,
          0.0908984501140434,
          1.439719510453182,
          -1.8632253399626302,
          -0.479055317221008,
          0.5925242567873134,
          0.9182777533280958,
          -0.7754625687794833,
          -2.6583226781800797,
          0.5484315599141389,
          -0.7042914583634231,
          -0.1764697624966167,
          0.2502484719538905,
          -0.04785972571489474,
          1.2294110679482604,
          -0.11427358475630707,
          -0.3697207652302923,
          1.6043967881949919,
          -1.339472912051616,
          -1.29217789705882,
          -0.36153222275651,
          1.022692009649764,
          0.16598675428648627,
          0.5551363037720237,
          0.6740029189118928,
          0.4826622004974322,
          -0.11755937452739242,
          -0.32126785538898134,
          0.7929988121107323,
          0.3951830074407376,
          -2.088496378240888,
          -0.8759883673140567,
          0.06364644137637034,
          0.39384361906406923,
          0.36875154769134777,
          -0.30784011826382807,
          0.7917959824498457,
          1.5677280244828602,
          -0.05900920362274808,
          1.0375464873238087,
          1.6379622252173518,
          -1.4057904636265286,
          0.5394882447018408,
          1.013559324777699,
          0.0317138450739195,
          -0.7447209913640487,
          0.20612512058230376,
          -1.7003724779460927,
          1.352623651396288,
          1.982935602840355,
          0.5068908613077829,
          -0.5164100240190705,
          0.630123868949732,
          0.7732102744966399,
          -1.2393677901893128,
          -0.3370213940892322,
          0.3483949651157315,
          -0.24066619524369812,
          0.6770539844969181,
          1.2288154644853018,
          -1.6743318035872083,
          -0.021365537352325627,
          -0.6672899618296045,
          0.10000066548559038,
          -1.7247613547037848,
          -0.05389893734429868,
          0.9180552257999586,
          0.48811130008099096,
          0.33920897319785864,
          -0.5707494319732833,
          -0.018216433868223143,
          -1.2482714701915105,
          -0.9430832695332753,
          0.7916447472466199,
          -0.06956062234436486,
          1.332297904497416,
          -0.4046384777011825,
          -0.7120292252325473,
          0.058700079993735624,
          -0.7810474905274281,
          -0.613129044372448,
          0.07107100611789133,
          -1.2234832464477743,
          -0.04915232875895141,
          -0.5740497723863638,
          -0.07084727333194477,
          -1.1230549919447825,
          1.2690967918899319,
          0.8833972953210805
         ]
        }
       ],
       "layout": {
        "legend": {
         "bgcolor": "#F5F6F9",
         "font": {
          "color": "#4D5663"
         }
        },
        "paper_bgcolor": "#F5F6F9",
        "plot_bgcolor": "#F5F6F9",
        "template": {
         "data": {
          "bar": [
           {
            "error_x": {
             "color": "#2a3f5f"
            },
            "error_y": {
             "color": "#2a3f5f"
            },
            "marker": {
             "line": {
              "color": "#E5ECF6",
              "width": 0.5
             },
             "pattern": {
              "fillmode": "overlay",
              "size": 10,
              "solidity": 0.2
             }
            },
            "type": "bar"
           }
          ],
          "barpolar": [
           {
            "marker": {
             "line": {
              "color": "#E5ECF6",
              "width": 0.5
             },
             "pattern": {
              "fillmode": "overlay",
              "size": 10,
              "solidity": 0.2
             }
            },
            "type": "barpolar"
           }
          ],
          "carpet": [
           {
            "aaxis": {
             "endlinecolor": "#2a3f5f",
             "gridcolor": "white",
             "linecolor": "white",
             "minorgridcolor": "white",
             "startlinecolor": "#2a3f5f"
            },
            "baxis": {
             "endlinecolor": "#2a3f5f",
             "gridcolor": "white",
             "linecolor": "white",
             "minorgridcolor": "white",
             "startlinecolor": "#2a3f5f"
            },
            "type": "carpet"
           }
          ],
          "choropleth": [
           {
            "colorbar": {
             "outlinewidth": 0,
             "ticks": ""
            },
            "type": "choropleth"
           }
          ],
          "contour": [
           {
            "colorbar": {
             "outlinewidth": 0,
             "ticks": ""
            },
            "colorscale": [
             [
              0,
              "#0d0887"
             ],
             [
              0.1111111111111111,
              "#46039f"
             ],
             [
              0.2222222222222222,
              "#7201a8"
             ],
             [
              0.3333333333333333,
              "#9c179e"
             ],
             [
              0.4444444444444444,
              "#bd3786"
             ],
             [
              0.5555555555555556,
              "#d8576b"
             ],
             [
              0.6666666666666666,
              "#ed7953"
             ],
             [
              0.7777777777777778,
              "#fb9f3a"
             ],
             [
              0.8888888888888888,
              "#fdca26"
             ],
             [
              1,
              "#f0f921"
             ]
            ],
            "type": "contour"
           }
          ],
          "contourcarpet": [
           {
            "colorbar": {
             "outlinewidth": 0,
             "ticks": ""
            },
            "type": "contourcarpet"
           }
          ],
          "heatmap": [
           {
            "colorbar": {
             "outlinewidth": 0,
             "ticks": ""
            },
            "colorscale": [
             [
              0,
              "#0d0887"
             ],
             [
              0.1111111111111111,
              "#46039f"
             ],
             [
              0.2222222222222222,
              "#7201a8"
             ],
             [
              0.3333333333333333,
              "#9c179e"
             ],
             [
              0.4444444444444444,
              "#bd3786"
             ],
             [
              0.5555555555555556,
              "#d8576b"
             ],
             [
              0.6666666666666666,
              "#ed7953"
             ],
             [
              0.7777777777777778,
              "#fb9f3a"
             ],
             [
              0.8888888888888888,
              "#fdca26"
             ],
             [
              1,
              "#f0f921"
             ]
            ],
            "type": "heatmap"
           }
          ],
          "heatmapgl": [
           {
            "colorbar": {
             "outlinewidth": 0,
             "ticks": ""
            },
            "colorscale": [
             [
              0,
              "#0d0887"
             ],
             [
              0.1111111111111111,
              "#46039f"
             ],
             [
              0.2222222222222222,
              "#7201a8"
             ],
             [
              0.3333333333333333,
              "#9c179e"
             ],
             [
              0.4444444444444444,
              "#bd3786"
             ],
             [
              0.5555555555555556,
              "#d8576b"
             ],
             [
              0.6666666666666666,
              "#ed7953"
             ],
             [
              0.7777777777777778,
              "#fb9f3a"
             ],
             [
              0.8888888888888888,
              "#fdca26"
             ],
             [
              1,
              "#f0f921"
             ]
            ],
            "type": "heatmapgl"
           }
          ],
          "histogram": [
           {
            "marker": {
             "pattern": {
              "fillmode": "overlay",
              "size": 10,
              "solidity": 0.2
             }
            },
            "type": "histogram"
           }
          ],
          "histogram2d": [
           {
            "colorbar": {
             "outlinewidth": 0,
             "ticks": ""
            },
            "colorscale": [
             [
              0,
              "#0d0887"
             ],
             [
              0.1111111111111111,
              "#46039f"
             ],
             [
              0.2222222222222222,
              "#7201a8"
             ],
             [
              0.3333333333333333,
              "#9c179e"
             ],
             [
              0.4444444444444444,
              "#bd3786"
             ],
             [
              0.5555555555555556,
              "#d8576b"
             ],
             [
              0.6666666666666666,
              "#ed7953"
             ],
             [
              0.7777777777777778,
              "#fb9f3a"
             ],
             [
              0.8888888888888888,
              "#fdca26"
             ],
             [
              1,
              "#f0f921"
             ]
            ],
            "type": "histogram2d"
           }
          ],
          "histogram2dcontour": [
           {
            "colorbar": {
             "outlinewidth": 0,
             "ticks": ""
            },
            "colorscale": [
             [
              0,
              "#0d0887"
             ],
             [
              0.1111111111111111,
              "#46039f"
             ],
             [
              0.2222222222222222,
              "#7201a8"
             ],
             [
              0.3333333333333333,
              "#9c179e"
             ],
             [
              0.4444444444444444,
              "#bd3786"
             ],
             [
              0.5555555555555556,
              "#d8576b"
             ],
             [
              0.6666666666666666,
              "#ed7953"
             ],
             [
              0.7777777777777778,
              "#fb9f3a"
             ],
             [
              0.8888888888888888,
              "#fdca26"
             ],
             [
              1,
              "#f0f921"
             ]
            ],
            "type": "histogram2dcontour"
           }
          ],
          "mesh3d": [
           {
            "colorbar": {
             "outlinewidth": 0,
             "ticks": ""
            },
            "type": "mesh3d"
           }
          ],
          "parcoords": [
           {
            "line": {
             "colorbar": {
              "outlinewidth": 0,
              "ticks": ""
             }
            },
            "type": "parcoords"
           }
          ],
          "pie": [
           {
            "automargin": true,
            "type": "pie"
           }
          ],
          "scatter": [
           {
            "fillpattern": {
             "fillmode": "overlay",
             "size": 10,
             "solidity": 0.2
            },
            "type": "scatter"
           }
          ],
          "scatter3d": [
           {
            "line": {
             "colorbar": {
              "outlinewidth": 0,
              "ticks": ""
             }
            },
            "marker": {
             "colorbar": {
              "outlinewidth": 0,
              "ticks": ""
             }
            },
            "type": "scatter3d"
           }
          ],
          "scattercarpet": [
           {
            "marker": {
             "colorbar": {
              "outlinewidth": 0,
              "ticks": ""
             }
            },
            "type": "scattercarpet"
           }
          ],
          "scattergeo": [
           {
            "marker": {
             "colorbar": {
              "outlinewidth": 0,
              "ticks": ""
             }
            },
            "type": "scattergeo"
           }
          ],
          "scattergl": [
           {
            "marker": {
             "colorbar": {
              "outlinewidth": 0,
              "ticks": ""
             }
            },
            "type": "scattergl"
           }
          ],
          "scattermapbox": [
           {
            "marker": {
             "colorbar": {
              "outlinewidth": 0,
              "ticks": ""
             }
            },
            "type": "scattermapbox"
           }
          ],
          "scatterpolar": [
           {
            "marker": {
             "colorbar": {
              "outlinewidth": 0,
              "ticks": ""
             }
            },
            "type": "scatterpolar"
           }
          ],
          "scatterpolargl": [
           {
            "marker": {
             "colorbar": {
              "outlinewidth": 0,
              "ticks": ""
             }
            },
            "type": "scatterpolargl"
           }
          ],
          "scatterternary": [
           {
            "marker": {
             "colorbar": {
              "outlinewidth": 0,
              "ticks": ""
             }
            },
            "type": "scatterternary"
           }
          ],
          "surface": [
           {
            "colorbar": {
             "outlinewidth": 0,
             "ticks": ""
            },
            "colorscale": [
             [
              0,
              "#0d0887"
             ],
             [
              0.1111111111111111,
              "#46039f"
             ],
             [
              0.2222222222222222,
              "#7201a8"
             ],
             [
              0.3333333333333333,
              "#9c179e"
             ],
             [
              0.4444444444444444,
              "#bd3786"
             ],
             [
              0.5555555555555556,
              "#d8576b"
             ],
             [
              0.6666666666666666,
              "#ed7953"
             ],
             [
              0.7777777777777778,
              "#fb9f3a"
             ],
             [
              0.8888888888888888,
              "#fdca26"
             ],
             [
              1,
              "#f0f921"
             ]
            ],
            "type": "surface"
           }
          ],
          "table": [
           {
            "cells": {
             "fill": {
              "color": "#EBF0F8"
             },
             "line": {
              "color": "white"
             }
            },
            "header": {
             "fill": {
              "color": "#C8D4E3"
             },
             "line": {
              "color": "white"
             }
            },
            "type": "table"
           }
          ]
         },
         "layout": {
          "annotationdefaults": {
           "arrowcolor": "#2a3f5f",
           "arrowhead": 0,
           "arrowwidth": 1
          },
          "autotypenumbers": "strict",
          "coloraxis": {
           "colorbar": {
            "outlinewidth": 0,
            "ticks": ""
           }
          },
          "colorscale": {
           "diverging": [
            [
             0,
             "#8e0152"
            ],
            [
             0.1,
             "#c51b7d"
            ],
            [
             0.2,
             "#de77ae"
            ],
            [
             0.3,
             "#f1b6da"
            ],
            [
             0.4,
             "#fde0ef"
            ],
            [
             0.5,
             "#f7f7f7"
            ],
            [
             0.6,
             "#e6f5d0"
            ],
            [
             0.7,
             "#b8e186"
            ],
            [
             0.8,
             "#7fbc41"
            ],
            [
             0.9,
             "#4d9221"
            ],
            [
             1,
             "#276419"
            ]
           ],
           "sequential": [
            [
             0,
             "#0d0887"
            ],
            [
             0.1111111111111111,
             "#46039f"
            ],
            [
             0.2222222222222222,
             "#7201a8"
            ],
            [
             0.3333333333333333,
             "#9c179e"
            ],
            [
             0.4444444444444444,
             "#bd3786"
            ],
            [
             0.5555555555555556,
             "#d8576b"
            ],
            [
             0.6666666666666666,
             "#ed7953"
            ],
            [
             0.7777777777777778,
             "#fb9f3a"
            ],
            [
             0.8888888888888888,
             "#fdca26"
            ],
            [
             1,
             "#f0f921"
            ]
           ],
           "sequentialminus": [
            [
             0,
             "#0d0887"
            ],
            [
             0.1111111111111111,
             "#46039f"
            ],
            [
             0.2222222222222222,
             "#7201a8"
            ],
            [
             0.3333333333333333,
             "#9c179e"
            ],
            [
             0.4444444444444444,
             "#bd3786"
            ],
            [
             0.5555555555555556,
             "#d8576b"
            ],
            [
             0.6666666666666666,
             "#ed7953"
            ],
            [
             0.7777777777777778,
             "#fb9f3a"
            ],
            [
             0.8888888888888888,
             "#fdca26"
            ],
            [
             1,
             "#f0f921"
            ]
           ]
          },
          "colorway": [
           "#636efa",
           "#EF553B",
           "#00cc96",
           "#ab63fa",
           "#FFA15A",
           "#19d3f3",
           "#FF6692",
           "#B6E880",
           "#FF97FF",
           "#FECB52"
          ],
          "font": {
           "color": "#2a3f5f"
          },
          "geo": {
           "bgcolor": "white",
           "lakecolor": "white",
           "landcolor": "#E5ECF6",
           "showlakes": true,
           "showland": true,
           "subunitcolor": "white"
          },
          "hoverlabel": {
           "align": "left"
          },
          "hovermode": "closest",
          "mapbox": {
           "style": "light"
          },
          "paper_bgcolor": "white",
          "plot_bgcolor": "#E5ECF6",
          "polar": {
           "angularaxis": {
            "gridcolor": "white",
            "linecolor": "white",
            "ticks": ""
           },
           "bgcolor": "#E5ECF6",
           "radialaxis": {
            "gridcolor": "white",
            "linecolor": "white",
            "ticks": ""
           }
          },
          "scene": {
           "xaxis": {
            "backgroundcolor": "#E5ECF6",
            "gridcolor": "white",
            "gridwidth": 2,
            "linecolor": "white",
            "showbackground": true,
            "ticks": "",
            "zerolinecolor": "white"
           },
           "yaxis": {
            "backgroundcolor": "#E5ECF6",
            "gridcolor": "white",
            "gridwidth": 2,
            "linecolor": "white",
            "showbackground": true,
            "ticks": "",
            "zerolinecolor": "white"
           },
           "zaxis": {
            "backgroundcolor": "#E5ECF6",
            "gridcolor": "white",
            "gridwidth": 2,
            "linecolor": "white",
            "showbackground": true,
            "ticks": "",
            "zerolinecolor": "white"
           }
          },
          "shapedefaults": {
           "line": {
            "color": "#2a3f5f"
           }
          },
          "ternary": {
           "aaxis": {
            "gridcolor": "white",
            "linecolor": "white",
            "ticks": ""
           },
           "baxis": {
            "gridcolor": "white",
            "linecolor": "white",
            "ticks": ""
           },
           "bgcolor": "#E5ECF6",
           "caxis": {
            "gridcolor": "white",
            "linecolor": "white",
            "ticks": ""
           }
          },
          "title": {
           "x": 0.05
          },
          "xaxis": {
           "automargin": true,
           "gridcolor": "white",
           "linecolor": "white",
           "ticks": "",
           "title": {
            "standoff": 15
           },
           "zerolinecolor": "white",
           "zerolinewidth": 2
          },
          "yaxis": {
           "automargin": true,
           "gridcolor": "white",
           "linecolor": "white",
           "ticks": "",
           "title": {
            "standoff": 15
           },
           "zerolinecolor": "white",
           "zerolinewidth": 2
          }
         }
        },
        "title": {
         "font": {
          "color": "#4D5663"
         }
        },
        "xaxis": {
         "gridcolor": "#E1E5ED",
         "showgrid": true,
         "tickfont": {
          "color": "#4D5663"
         },
         "title": {
          "font": {
           "color": "#4D5663"
          },
          "text": ""
         },
         "zerolinecolor": "#E1E5ED"
        },
        "yaxis": {
         "gridcolor": "#E1E5ED",
         "showgrid": true,
         "tickfont": {
          "color": "#4D5663"
         },
         "title": {
          "font": {
           "color": "#4D5663"
          },
          "text": ""
         },
         "zerolinecolor": "#E1E5ED"
        }
       }
      },
      "text/html": [
       "<div>                            <div id=\"d2457b17-8384-4f5e-93ca-b41c10ceedcd\" class=\"plotly-graph-div\" style=\"height:525px; width:100%;\"></div>            <script type=\"text/javascript\">                require([\"plotly\"], function(Plotly) {                    window.PLOTLYENV=window.PLOTLYENV || {};\n",
       "                    window.PLOTLYENV.BASE_URL='https://plot.ly';                                    if (document.getElementById(\"d2457b17-8384-4f5e-93ca-b41c10ceedcd\")) {                    Plotly.newPlot(                        \"d2457b17-8384-4f5e-93ca-b41c10ceedcd\",                        [{\"line\":{\"color\":\"rgba(255, 153, 51, 1.0)\",\"dash\":\"solid\",\"shape\":\"linear\",\"width\":1.3},\"marker\":{\"size\":10,\"symbol\":\"circle\"},\"mode\":\"markers\",\"name\":\"B\",\"text\":\"\",\"x\":[1.2376648357470055,-0.5588649056406358,0.40946706449563175,0.4298301337164253,0.07238270128864749,-0.20598883801382525,1.2385584747531542,-1.0633617765803824,0.3434542115634483,1.3645551658564248,-0.7290820511381018,-1.035624379248983,0.32740419197523757,-0.3351406777735119,-0.6995413769041855,-0.32313520691160347,-0.6968944913793241,-1.2658169541706465,1.8681787506166567,1.654531174173863,0.4323609959994185,0.13342603725333999,-0.25726923923873757,0.7180052009841095,1.403861120520268,1.4472639088688162,-0.6399257301458914,-1.1614404005478682,2.821851024615292,-0.45675635524671515,-1.5795633950159544,-0.36823092116578626,-1.0381007781369387,1.80093516549471,0.605519660199255,0.5520713257359585,1.0739598975916955,-0.08606957115270493,-0.5388402188322184,1.4131676971194618,-0.5605172697322097,-0.6056944769115583,-0.9428065238847683,1.3962914689468222,-0.9272551780488926,-0.16998328050440442,1.957273987112428,-0.08974156694888845,-0.6345160635027977,-0.4863315382609629,-0.6461642065112355,-0.4394231941140874,0.37048755383772125,0.5298402144160002,1.0054517069637832,1.1136464518705884,-2.158906419697583,2.1091061818145262,-1.0703594134064252,-0.5814437688577203,0.03924795414460957,1.006378179337866,-0.3903396632439928,-1.3561617236485808,-1.0708998832851322,1.5806859251958079,0.17179271377825836,-0.9047325249055707,1.1275038903666008,1.989443049293253,-1.090722702073496,-0.2993575416216889,-0.6394549917325748,-1.2244878399342731,1.6452364982836245,0.6177372762506392,-1.3176302335739636,0.03300243685919273,-1.0649093458079049,0.975689453023733,0.05122198401087867,-0.2976791863225247,-0.790150167428062,-0.6625271152615411,0.7860844830326141,-0.016153571380949677,-0.8598140138716176,-0.3185632602435938,-0.8067190607871518,-0.6147307859444832,0.6156300197507949,-0.9048669572075687,-0.2106043328452722,-1.0358044675788922,0.8941804936081772,0.6979637785733713,-0.8090777129605745,0.48770364177028785,-1.317158662969975,1.273288323901588],\"y\":[-0.5548235720002016,-0.46033933106280667,1.5866377741729345,-0.3272212503881288,0.03402138478618209,-0.7624627502472152,2.348882566100373,-0.4593864721542771,0.31916528326146887,-0.6902004464640703,-0.9071182373778008,0.8693879352151368,0.0908984501140434,1.439719510453182,-1.8632253399626302,-0.479055317221008,0.5925242567873134,0.9182777533280958,-0.7754625687794833,-2.6583226781800797,0.5484315599141389,-0.7042914583634231,-0.1764697624966167,0.2502484719538905,-0.04785972571489474,1.2294110679482604,-0.11427358475630707,-0.3697207652302923,1.6043967881949919,-1.339472912051616,-1.29217789705882,-0.36153222275651,1.022692009649764,0.16598675428648627,0.5551363037720237,0.6740029189118928,0.4826622004974322,-0.11755937452739242,-0.32126785538898134,0.7929988121107323,0.3951830074407376,-2.088496378240888,-0.8759883673140567,0.06364644137637034,0.39384361906406923,0.36875154769134777,-0.30784011826382807,0.7917959824498457,1.5677280244828602,-0.05900920362274808,1.0375464873238087,1.6379622252173518,-1.4057904636265286,0.5394882447018408,1.013559324777699,0.0317138450739195,-0.7447209913640487,0.20612512058230376,-1.7003724779460927,1.352623651396288,1.982935602840355,0.5068908613077829,-0.5164100240190705,0.630123868949732,0.7732102744966399,-1.2393677901893128,-0.3370213940892322,0.3483949651157315,-0.24066619524369812,0.6770539844969181,1.2288154644853018,-1.6743318035872083,-0.021365537352325627,-0.6672899618296045,0.10000066548559038,-1.7247613547037848,-0.05389893734429868,0.9180552257999586,0.48811130008099096,0.33920897319785864,-0.5707494319732833,-0.018216433868223143,-1.2482714701915105,-0.9430832695332753,0.7916447472466199,-0.06956062234436486,1.332297904497416,-0.4046384777011825,-0.7120292252325473,0.058700079993735624,-0.7810474905274281,-0.613129044372448,0.07107100611789133,-1.2234832464477743,-0.04915232875895141,-0.5740497723863638,-0.07084727333194477,-1.1230549919447825,1.2690967918899319,0.8833972953210805],\"type\":\"scatter\"}],                        {\"legend\":{\"bgcolor\":\"#F5F6F9\",\"font\":{\"color\":\"#4D5663\"}},\"paper_bgcolor\":\"#F5F6F9\",\"plot_bgcolor\":\"#F5F6F9\",\"template\":{\"data\":{\"barpolar\":[{\"marker\":{\"line\":{\"color\":\"#E5ECF6\",\"width\":0.5},\"pattern\":{\"fillmode\":\"overlay\",\"size\":10,\"solidity\":0.2}},\"type\":\"barpolar\"}],\"bar\":[{\"error_x\":{\"color\":\"#2a3f5f\"},\"error_y\":{\"color\":\"#2a3f5f\"},\"marker\":{\"line\":{\"color\":\"#E5ECF6\",\"width\":0.5},\"pattern\":{\"fillmode\":\"overlay\",\"size\":10,\"solidity\":0.2}},\"type\":\"bar\"}],\"carpet\":[{\"aaxis\":{\"endlinecolor\":\"#2a3f5f\",\"gridcolor\":\"white\",\"linecolor\":\"white\",\"minorgridcolor\":\"white\",\"startlinecolor\":\"#2a3f5f\"},\"baxis\":{\"endlinecolor\":\"#2a3f5f\",\"gridcolor\":\"white\",\"linecolor\":\"white\",\"minorgridcolor\":\"white\",\"startlinecolor\":\"#2a3f5f\"},\"type\":\"carpet\"}],\"choropleth\":[{\"colorbar\":{\"outlinewidth\":0,\"ticks\":\"\"},\"type\":\"choropleth\"}],\"contourcarpet\":[{\"colorbar\":{\"outlinewidth\":0,\"ticks\":\"\"},\"type\":\"contourcarpet\"}],\"contour\":[{\"colorbar\":{\"outlinewidth\":0,\"ticks\":\"\"},\"colorscale\":[[0.0,\"#0d0887\"],[0.1111111111111111,\"#46039f\"],[0.2222222222222222,\"#7201a8\"],[0.3333333333333333,\"#9c179e\"],[0.4444444444444444,\"#bd3786\"],[0.5555555555555556,\"#d8576b\"],[0.6666666666666666,\"#ed7953\"],[0.7777777777777778,\"#fb9f3a\"],[0.8888888888888888,\"#fdca26\"],[1.0,\"#f0f921\"]],\"type\":\"contour\"}],\"heatmapgl\":[{\"colorbar\":{\"outlinewidth\":0,\"ticks\":\"\"},\"colorscale\":[[0.0,\"#0d0887\"],[0.1111111111111111,\"#46039f\"],[0.2222222222222222,\"#7201a8\"],[0.3333333333333333,\"#9c179e\"],[0.4444444444444444,\"#bd3786\"],[0.5555555555555556,\"#d8576b\"],[0.6666666666666666,\"#ed7953\"],[0.7777777777777778,\"#fb9f3a\"],[0.8888888888888888,\"#fdca26\"],[1.0,\"#f0f921\"]],\"type\":\"heatmapgl\"}],\"heatmap\":[{\"colorbar\":{\"outlinewidth\":0,\"ticks\":\"\"},\"colorscale\":[[0.0,\"#0d0887\"],[0.1111111111111111,\"#46039f\"],[0.2222222222222222,\"#7201a8\"],[0.3333333333333333,\"#9c179e\"],[0.4444444444444444,\"#bd3786\"],[0.5555555555555556,\"#d8576b\"],[0.6666666666666666,\"#ed7953\"],[0.7777777777777778,\"#fb9f3a\"],[0.8888888888888888,\"#fdca26\"],[1.0,\"#f0f921\"]],\"type\":\"heatmap\"}],\"histogram2dcontour\":[{\"colorbar\":{\"outlinewidth\":0,\"ticks\":\"\"},\"colorscale\":[[0.0,\"#0d0887\"],[0.1111111111111111,\"#46039f\"],[0.2222222222222222,\"#7201a8\"],[0.3333333333333333,\"#9c179e\"],[0.4444444444444444,\"#bd3786\"],[0.5555555555555556,\"#d8576b\"],[0.6666666666666666,\"#ed7953\"],[0.7777777777777778,\"#fb9f3a\"],[0.8888888888888888,\"#fdca26\"],[1.0,\"#f0f921\"]],\"type\":\"histogram2dcontour\"}],\"histogram2d\":[{\"colorbar\":{\"outlinewidth\":0,\"ticks\":\"\"},\"colorscale\":[[0.0,\"#0d0887\"],[0.1111111111111111,\"#46039f\"],[0.2222222222222222,\"#7201a8\"],[0.3333333333333333,\"#9c179e\"],[0.4444444444444444,\"#bd3786\"],[0.5555555555555556,\"#d8576b\"],[0.6666666666666666,\"#ed7953\"],[0.7777777777777778,\"#fb9f3a\"],[0.8888888888888888,\"#fdca26\"],[1.0,\"#f0f921\"]],\"type\":\"histogram2d\"}],\"histogram\":[{\"marker\":{\"pattern\":{\"fillmode\":\"overlay\",\"size\":10,\"solidity\":0.2}},\"type\":\"histogram\"}],\"mesh3d\":[{\"colorbar\":{\"outlinewidth\":0,\"ticks\":\"\"},\"type\":\"mesh3d\"}],\"parcoords\":[{\"line\":{\"colorbar\":{\"outlinewidth\":0,\"ticks\":\"\"}},\"type\":\"parcoords\"}],\"pie\":[{\"automargin\":true,\"type\":\"pie\"}],\"scatter3d\":[{\"line\":{\"colorbar\":{\"outlinewidth\":0,\"ticks\":\"\"}},\"marker\":{\"colorbar\":{\"outlinewidth\":0,\"ticks\":\"\"}},\"type\":\"scatter3d\"}],\"scattercarpet\":[{\"marker\":{\"colorbar\":{\"outlinewidth\":0,\"ticks\":\"\"}},\"type\":\"scattercarpet\"}],\"scattergeo\":[{\"marker\":{\"colorbar\":{\"outlinewidth\":0,\"ticks\":\"\"}},\"type\":\"scattergeo\"}],\"scattergl\":[{\"marker\":{\"colorbar\":{\"outlinewidth\":0,\"ticks\":\"\"}},\"type\":\"scattergl\"}],\"scattermapbox\":[{\"marker\":{\"colorbar\":{\"outlinewidth\":0,\"ticks\":\"\"}},\"type\":\"scattermapbox\"}],\"scatterpolargl\":[{\"marker\":{\"colorbar\":{\"outlinewidth\":0,\"ticks\":\"\"}},\"type\":\"scatterpolargl\"}],\"scatterpolar\":[{\"marker\":{\"colorbar\":{\"outlinewidth\":0,\"ticks\":\"\"}},\"type\":\"scatterpolar\"}],\"scatter\":[{\"fillpattern\":{\"fillmode\":\"overlay\",\"size\":10,\"solidity\":0.2},\"type\":\"scatter\"}],\"scatterternary\":[{\"marker\":{\"colorbar\":{\"outlinewidth\":0,\"ticks\":\"\"}},\"type\":\"scatterternary\"}],\"surface\":[{\"colorbar\":{\"outlinewidth\":0,\"ticks\":\"\"},\"colorscale\":[[0.0,\"#0d0887\"],[0.1111111111111111,\"#46039f\"],[0.2222222222222222,\"#7201a8\"],[0.3333333333333333,\"#9c179e\"],[0.4444444444444444,\"#bd3786\"],[0.5555555555555556,\"#d8576b\"],[0.6666666666666666,\"#ed7953\"],[0.7777777777777778,\"#fb9f3a\"],[0.8888888888888888,\"#fdca26\"],[1.0,\"#f0f921\"]],\"type\":\"surface\"}],\"table\":[{\"cells\":{\"fill\":{\"color\":\"#EBF0F8\"},\"line\":{\"color\":\"white\"}},\"header\":{\"fill\":{\"color\":\"#C8D4E3\"},\"line\":{\"color\":\"white\"}},\"type\":\"table\"}]},\"layout\":{\"annotationdefaults\":{\"arrowcolor\":\"#2a3f5f\",\"arrowhead\":0,\"arrowwidth\":1},\"autotypenumbers\":\"strict\",\"coloraxis\":{\"colorbar\":{\"outlinewidth\":0,\"ticks\":\"\"}},\"colorscale\":{\"diverging\":[[0,\"#8e0152\"],[0.1,\"#c51b7d\"],[0.2,\"#de77ae\"],[0.3,\"#f1b6da\"],[0.4,\"#fde0ef\"],[0.5,\"#f7f7f7\"],[0.6,\"#e6f5d0\"],[0.7,\"#b8e186\"],[0.8,\"#7fbc41\"],[0.9,\"#4d9221\"],[1,\"#276419\"]],\"sequential\":[[0.0,\"#0d0887\"],[0.1111111111111111,\"#46039f\"],[0.2222222222222222,\"#7201a8\"],[0.3333333333333333,\"#9c179e\"],[0.4444444444444444,\"#bd3786\"],[0.5555555555555556,\"#d8576b\"],[0.6666666666666666,\"#ed7953\"],[0.7777777777777778,\"#fb9f3a\"],[0.8888888888888888,\"#fdca26\"],[1.0,\"#f0f921\"]],\"sequentialminus\":[[0.0,\"#0d0887\"],[0.1111111111111111,\"#46039f\"],[0.2222222222222222,\"#7201a8\"],[0.3333333333333333,\"#9c179e\"],[0.4444444444444444,\"#bd3786\"],[0.5555555555555556,\"#d8576b\"],[0.6666666666666666,\"#ed7953\"],[0.7777777777777778,\"#fb9f3a\"],[0.8888888888888888,\"#fdca26\"],[1.0,\"#f0f921\"]]},\"colorway\":[\"#636efa\",\"#EF553B\",\"#00cc96\",\"#ab63fa\",\"#FFA15A\",\"#19d3f3\",\"#FF6692\",\"#B6E880\",\"#FF97FF\",\"#FECB52\"],\"font\":{\"color\":\"#2a3f5f\"},\"geo\":{\"bgcolor\":\"white\",\"lakecolor\":\"white\",\"landcolor\":\"#E5ECF6\",\"showlakes\":true,\"showland\":true,\"subunitcolor\":\"white\"},\"hoverlabel\":{\"align\":\"left\"},\"hovermode\":\"closest\",\"mapbox\":{\"style\":\"light\"},\"paper_bgcolor\":\"white\",\"plot_bgcolor\":\"#E5ECF6\",\"polar\":{\"angularaxis\":{\"gridcolor\":\"white\",\"linecolor\":\"white\",\"ticks\":\"\"},\"bgcolor\":\"#E5ECF6\",\"radialaxis\":{\"gridcolor\":\"white\",\"linecolor\":\"white\",\"ticks\":\"\"}},\"scene\":{\"xaxis\":{\"backgroundcolor\":\"#E5ECF6\",\"gridcolor\":\"white\",\"gridwidth\":2,\"linecolor\":\"white\",\"showbackground\":true,\"ticks\":\"\",\"zerolinecolor\":\"white\"},\"yaxis\":{\"backgroundcolor\":\"#E5ECF6\",\"gridcolor\":\"white\",\"gridwidth\":2,\"linecolor\":\"white\",\"showbackground\":true,\"ticks\":\"\",\"zerolinecolor\":\"white\"},\"zaxis\":{\"backgroundcolor\":\"#E5ECF6\",\"gridcolor\":\"white\",\"gridwidth\":2,\"linecolor\":\"white\",\"showbackground\":true,\"ticks\":\"\",\"zerolinecolor\":\"white\"}},\"shapedefaults\":{\"line\":{\"color\":\"#2a3f5f\"}},\"ternary\":{\"aaxis\":{\"gridcolor\":\"white\",\"linecolor\":\"white\",\"ticks\":\"\"},\"baxis\":{\"gridcolor\":\"white\",\"linecolor\":\"white\",\"ticks\":\"\"},\"bgcolor\":\"#E5ECF6\",\"caxis\":{\"gridcolor\":\"white\",\"linecolor\":\"white\",\"ticks\":\"\"}},\"title\":{\"x\":0.05},\"xaxis\":{\"automargin\":true,\"gridcolor\":\"white\",\"linecolor\":\"white\",\"ticks\":\"\",\"title\":{\"standoff\":15},\"zerolinecolor\":\"white\",\"zerolinewidth\":2},\"yaxis\":{\"automargin\":true,\"gridcolor\":\"white\",\"linecolor\":\"white\",\"ticks\":\"\",\"title\":{\"standoff\":15},\"zerolinecolor\":\"white\",\"zerolinewidth\":2}}},\"title\":{\"font\":{\"color\":\"#4D5663\"}},\"xaxis\":{\"gridcolor\":\"#E1E5ED\",\"showgrid\":true,\"tickfont\":{\"color\":\"#4D5663\"},\"title\":{\"font\":{\"color\":\"#4D5663\"},\"text\":\"\"},\"zerolinecolor\":\"#E1E5ED\"},\"yaxis\":{\"gridcolor\":\"#E1E5ED\",\"showgrid\":true,\"tickfont\":{\"color\":\"#4D5663\"},\"title\":{\"font\":{\"color\":\"#4D5663\"},\"text\":\"\"},\"zerolinecolor\":\"#E1E5ED\"}},                        {\"showLink\": true, \"linkText\": \"Export to plot.ly\", \"plotlyServerURL\": \"https://plot.ly\", \"responsive\": true}                    ).then(function(){\n",
       "                            \n",
       "var gd = document.getElementById('d2457b17-8384-4f5e-93ca-b41c10ceedcd');\n",
       "var x = new MutationObserver(function (mutations, observer) {{\n",
       "        var display = window.getComputedStyle(gd).display;\n",
       "        if (!display || display === 'none') {{\n",
       "            console.log([gd, 'removed!']);\n",
       "            Plotly.purge(gd);\n",
       "            observer.disconnect();\n",
       "        }}\n",
       "}});\n",
       "\n",
       "// Listen for the removal of the full notebook cells\n",
       "var notebookContainer = gd.closest('#notebook-container');\n",
       "if (notebookContainer) {{\n",
       "    x.observe(notebookContainer, {childList: true});\n",
       "}}\n",
       "\n",
       "// Listen for the clearing of the current output cell\n",
       "var outputEl = gd.closest('.output');\n",
       "if (outputEl) {{\n",
       "    x.observe(outputEl, {childList: true});\n",
       "}}\n",
       "\n",
       "                        })                };                });            </script>        </div>"
      ]
     },
     "metadata": {},
     "output_type": "display_data"
    }
   ],
   "source": [
    "df.iplot(kind='scatter',x='A',y='B',mode='markers',size=10)"
   ]
  },
  {
   "cell_type": "markdown",
   "metadata": {},
   "source": [
    "## Bar Plots"
   ]
  },
  {
   "cell_type": "code",
   "execution_count": 11,
   "metadata": {},
   "outputs": [
    {
     "data": {
      "application/vnd.plotly.v1+json": {
       "config": {
        "linkText": "Export to plot.ly",
        "plotlyServerURL": "https://plot.ly",
        "showLink": true
       },
       "data": [
        {
         "marker": {
          "color": "rgba(255, 153, 51, 0.6)",
          "line": {
           "color": "rgba(255, 153, 51, 1.0)",
           "width": 1
          }
         },
         "name": "Values",
         "orientation": "v",
         "text": "",
         "type": "bar",
         "x": [
          "A",
          "B",
          "C"
         ],
         "y": [
          32,
          43,
          50
         ]
        }
       ],
       "layout": {
        "legend": {
         "bgcolor": "#F5F6F9",
         "font": {
          "color": "#4D5663"
         }
        },
        "paper_bgcolor": "#F5F6F9",
        "plot_bgcolor": "#F5F6F9",
        "template": {
         "data": {
          "bar": [
           {
            "error_x": {
             "color": "#2a3f5f"
            },
            "error_y": {
             "color": "#2a3f5f"
            },
            "marker": {
             "line": {
              "color": "#E5ECF6",
              "width": 0.5
             },
             "pattern": {
              "fillmode": "overlay",
              "size": 10,
              "solidity": 0.2
             }
            },
            "type": "bar"
           }
          ],
          "barpolar": [
           {
            "marker": {
             "line": {
              "color": "#E5ECF6",
              "width": 0.5
             },
             "pattern": {
              "fillmode": "overlay",
              "size": 10,
              "solidity": 0.2
             }
            },
            "type": "barpolar"
           }
          ],
          "carpet": [
           {
            "aaxis": {
             "endlinecolor": "#2a3f5f",
             "gridcolor": "white",
             "linecolor": "white",
             "minorgridcolor": "white",
             "startlinecolor": "#2a3f5f"
            },
            "baxis": {
             "endlinecolor": "#2a3f5f",
             "gridcolor": "white",
             "linecolor": "white",
             "minorgridcolor": "white",
             "startlinecolor": "#2a3f5f"
            },
            "type": "carpet"
           }
          ],
          "choropleth": [
           {
            "colorbar": {
             "outlinewidth": 0,
             "ticks": ""
            },
            "type": "choropleth"
           }
          ],
          "contour": [
           {
            "colorbar": {
             "outlinewidth": 0,
             "ticks": ""
            },
            "colorscale": [
             [
              0,
              "#0d0887"
             ],
             [
              0.1111111111111111,
              "#46039f"
             ],
             [
              0.2222222222222222,
              "#7201a8"
             ],
             [
              0.3333333333333333,
              "#9c179e"
             ],
             [
              0.4444444444444444,
              "#bd3786"
             ],
             [
              0.5555555555555556,
              "#d8576b"
             ],
             [
              0.6666666666666666,
              "#ed7953"
             ],
             [
              0.7777777777777778,
              "#fb9f3a"
             ],
             [
              0.8888888888888888,
              "#fdca26"
             ],
             [
              1,
              "#f0f921"
             ]
            ],
            "type": "contour"
           }
          ],
          "contourcarpet": [
           {
            "colorbar": {
             "outlinewidth": 0,
             "ticks": ""
            },
            "type": "contourcarpet"
           }
          ],
          "heatmap": [
           {
            "colorbar": {
             "outlinewidth": 0,
             "ticks": ""
            },
            "colorscale": [
             [
              0,
              "#0d0887"
             ],
             [
              0.1111111111111111,
              "#46039f"
             ],
             [
              0.2222222222222222,
              "#7201a8"
             ],
             [
              0.3333333333333333,
              "#9c179e"
             ],
             [
              0.4444444444444444,
              "#bd3786"
             ],
             [
              0.5555555555555556,
              "#d8576b"
             ],
             [
              0.6666666666666666,
              "#ed7953"
             ],
             [
              0.7777777777777778,
              "#fb9f3a"
             ],
             [
              0.8888888888888888,
              "#fdca26"
             ],
             [
              1,
              "#f0f921"
             ]
            ],
            "type": "heatmap"
           }
          ],
          "heatmapgl": [
           {
            "colorbar": {
             "outlinewidth": 0,
             "ticks": ""
            },
            "colorscale": [
             [
              0,
              "#0d0887"
             ],
             [
              0.1111111111111111,
              "#46039f"
             ],
             [
              0.2222222222222222,
              "#7201a8"
             ],
             [
              0.3333333333333333,
              "#9c179e"
             ],
             [
              0.4444444444444444,
              "#bd3786"
             ],
             [
              0.5555555555555556,
              "#d8576b"
             ],
             [
              0.6666666666666666,
              "#ed7953"
             ],
             [
              0.7777777777777778,
              "#fb9f3a"
             ],
             [
              0.8888888888888888,
              "#fdca26"
             ],
             [
              1,
              "#f0f921"
             ]
            ],
            "type": "heatmapgl"
           }
          ],
          "histogram": [
           {
            "marker": {
             "pattern": {
              "fillmode": "overlay",
              "size": 10,
              "solidity": 0.2
             }
            },
            "type": "histogram"
           }
          ],
          "histogram2d": [
           {
            "colorbar": {
             "outlinewidth": 0,
             "ticks": ""
            },
            "colorscale": [
             [
              0,
              "#0d0887"
             ],
             [
              0.1111111111111111,
              "#46039f"
             ],
             [
              0.2222222222222222,
              "#7201a8"
             ],
             [
              0.3333333333333333,
              "#9c179e"
             ],
             [
              0.4444444444444444,
              "#bd3786"
             ],
             [
              0.5555555555555556,
              "#d8576b"
             ],
             [
              0.6666666666666666,
              "#ed7953"
             ],
             [
              0.7777777777777778,
              "#fb9f3a"
             ],
             [
              0.8888888888888888,
              "#fdca26"
             ],
             [
              1,
              "#f0f921"
             ]
            ],
            "type": "histogram2d"
           }
          ],
          "histogram2dcontour": [
           {
            "colorbar": {
             "outlinewidth": 0,
             "ticks": ""
            },
            "colorscale": [
             [
              0,
              "#0d0887"
             ],
             [
              0.1111111111111111,
              "#46039f"
             ],
             [
              0.2222222222222222,
              "#7201a8"
             ],
             [
              0.3333333333333333,
              "#9c179e"
             ],
             [
              0.4444444444444444,
              "#bd3786"
             ],
             [
              0.5555555555555556,
              "#d8576b"
             ],
             [
              0.6666666666666666,
              "#ed7953"
             ],
             [
              0.7777777777777778,
              "#fb9f3a"
             ],
             [
              0.8888888888888888,
              "#fdca26"
             ],
             [
              1,
              "#f0f921"
             ]
            ],
            "type": "histogram2dcontour"
           }
          ],
          "mesh3d": [
           {
            "colorbar": {
             "outlinewidth": 0,
             "ticks": ""
            },
            "type": "mesh3d"
           }
          ],
          "parcoords": [
           {
            "line": {
             "colorbar": {
              "outlinewidth": 0,
              "ticks": ""
             }
            },
            "type": "parcoords"
           }
          ],
          "pie": [
           {
            "automargin": true,
            "type": "pie"
           }
          ],
          "scatter": [
           {
            "fillpattern": {
             "fillmode": "overlay",
             "size": 10,
             "solidity": 0.2
            },
            "type": "scatter"
           }
          ],
          "scatter3d": [
           {
            "line": {
             "colorbar": {
              "outlinewidth": 0,
              "ticks": ""
             }
            },
            "marker": {
             "colorbar": {
              "outlinewidth": 0,
              "ticks": ""
             }
            },
            "type": "scatter3d"
           }
          ],
          "scattercarpet": [
           {
            "marker": {
             "colorbar": {
              "outlinewidth": 0,
              "ticks": ""
             }
            },
            "type": "scattercarpet"
           }
          ],
          "scattergeo": [
           {
            "marker": {
             "colorbar": {
              "outlinewidth": 0,
              "ticks": ""
             }
            },
            "type": "scattergeo"
           }
          ],
          "scattergl": [
           {
            "marker": {
             "colorbar": {
              "outlinewidth": 0,
              "ticks": ""
             }
            },
            "type": "scattergl"
           }
          ],
          "scattermapbox": [
           {
            "marker": {
             "colorbar": {
              "outlinewidth": 0,
              "ticks": ""
             }
            },
            "type": "scattermapbox"
           }
          ],
          "scatterpolar": [
           {
            "marker": {
             "colorbar": {
              "outlinewidth": 0,
              "ticks": ""
             }
            },
            "type": "scatterpolar"
           }
          ],
          "scatterpolargl": [
           {
            "marker": {
             "colorbar": {
              "outlinewidth": 0,
              "ticks": ""
             }
            },
            "type": "scatterpolargl"
           }
          ],
          "scatterternary": [
           {
            "marker": {
             "colorbar": {
              "outlinewidth": 0,
              "ticks": ""
             }
            },
            "type": "scatterternary"
           }
          ],
          "surface": [
           {
            "colorbar": {
             "outlinewidth": 0,
             "ticks": ""
            },
            "colorscale": [
             [
              0,
              "#0d0887"
             ],
             [
              0.1111111111111111,
              "#46039f"
             ],
             [
              0.2222222222222222,
              "#7201a8"
             ],
             [
              0.3333333333333333,
              "#9c179e"
             ],
             [
              0.4444444444444444,
              "#bd3786"
             ],
             [
              0.5555555555555556,
              "#d8576b"
             ],
             [
              0.6666666666666666,
              "#ed7953"
             ],
             [
              0.7777777777777778,
              "#fb9f3a"
             ],
             [
              0.8888888888888888,
              "#fdca26"
             ],
             [
              1,
              "#f0f921"
             ]
            ],
            "type": "surface"
           }
          ],
          "table": [
           {
            "cells": {
             "fill": {
              "color": "#EBF0F8"
             },
             "line": {
              "color": "white"
             }
            },
            "header": {
             "fill": {
              "color": "#C8D4E3"
             },
             "line": {
              "color": "white"
             }
            },
            "type": "table"
           }
          ]
         },
         "layout": {
          "annotationdefaults": {
           "arrowcolor": "#2a3f5f",
           "arrowhead": 0,
           "arrowwidth": 1
          },
          "autotypenumbers": "strict",
          "coloraxis": {
           "colorbar": {
            "outlinewidth": 0,
            "ticks": ""
           }
          },
          "colorscale": {
           "diverging": [
            [
             0,
             "#8e0152"
            ],
            [
             0.1,
             "#c51b7d"
            ],
            [
             0.2,
             "#de77ae"
            ],
            [
             0.3,
             "#f1b6da"
            ],
            [
             0.4,
             "#fde0ef"
            ],
            [
             0.5,
             "#f7f7f7"
            ],
            [
             0.6,
             "#e6f5d0"
            ],
            [
             0.7,
             "#b8e186"
            ],
            [
             0.8,
             "#7fbc41"
            ],
            [
             0.9,
             "#4d9221"
            ],
            [
             1,
             "#276419"
            ]
           ],
           "sequential": [
            [
             0,
             "#0d0887"
            ],
            [
             0.1111111111111111,
             "#46039f"
            ],
            [
             0.2222222222222222,
             "#7201a8"
            ],
            [
             0.3333333333333333,
             "#9c179e"
            ],
            [
             0.4444444444444444,
             "#bd3786"
            ],
            [
             0.5555555555555556,
             "#d8576b"
            ],
            [
             0.6666666666666666,
             "#ed7953"
            ],
            [
             0.7777777777777778,
             "#fb9f3a"
            ],
            [
             0.8888888888888888,
             "#fdca26"
            ],
            [
             1,
             "#f0f921"
            ]
           ],
           "sequentialminus": [
            [
             0,
             "#0d0887"
            ],
            [
             0.1111111111111111,
             "#46039f"
            ],
            [
             0.2222222222222222,
             "#7201a8"
            ],
            [
             0.3333333333333333,
             "#9c179e"
            ],
            [
             0.4444444444444444,
             "#bd3786"
            ],
            [
             0.5555555555555556,
             "#d8576b"
            ],
            [
             0.6666666666666666,
             "#ed7953"
            ],
            [
             0.7777777777777778,
             "#fb9f3a"
            ],
            [
             0.8888888888888888,
             "#fdca26"
            ],
            [
             1,
             "#f0f921"
            ]
           ]
          },
          "colorway": [
           "#636efa",
           "#EF553B",
           "#00cc96",
           "#ab63fa",
           "#FFA15A",
           "#19d3f3",
           "#FF6692",
           "#B6E880",
           "#FF97FF",
           "#FECB52"
          ],
          "font": {
           "color": "#2a3f5f"
          },
          "geo": {
           "bgcolor": "white",
           "lakecolor": "white",
           "landcolor": "#E5ECF6",
           "showlakes": true,
           "showland": true,
           "subunitcolor": "white"
          },
          "hoverlabel": {
           "align": "left"
          },
          "hovermode": "closest",
          "mapbox": {
           "style": "light"
          },
          "paper_bgcolor": "white",
          "plot_bgcolor": "#E5ECF6",
          "polar": {
           "angularaxis": {
            "gridcolor": "white",
            "linecolor": "white",
            "ticks": ""
           },
           "bgcolor": "#E5ECF6",
           "radialaxis": {
            "gridcolor": "white",
            "linecolor": "white",
            "ticks": ""
           }
          },
          "scene": {
           "xaxis": {
            "backgroundcolor": "#E5ECF6",
            "gridcolor": "white",
            "gridwidth": 2,
            "linecolor": "white",
            "showbackground": true,
            "ticks": "",
            "zerolinecolor": "white"
           },
           "yaxis": {
            "backgroundcolor": "#E5ECF6",
            "gridcolor": "white",
            "gridwidth": 2,
            "linecolor": "white",
            "showbackground": true,
            "ticks": "",
            "zerolinecolor": "white"
           },
           "zaxis": {
            "backgroundcolor": "#E5ECF6",
            "gridcolor": "white",
            "gridwidth": 2,
            "linecolor": "white",
            "showbackground": true,
            "ticks": "",
            "zerolinecolor": "white"
           }
          },
          "shapedefaults": {
           "line": {
            "color": "#2a3f5f"
           }
          },
          "ternary": {
           "aaxis": {
            "gridcolor": "white",
            "linecolor": "white",
            "ticks": ""
           },
           "baxis": {
            "gridcolor": "white",
            "linecolor": "white",
            "ticks": ""
           },
           "bgcolor": "#E5ECF6",
           "caxis": {
            "gridcolor": "white",
            "linecolor": "white",
            "ticks": ""
           }
          },
          "title": {
           "x": 0.05
          },
          "xaxis": {
           "automargin": true,
           "gridcolor": "white",
           "linecolor": "white",
           "ticks": "",
           "title": {
            "standoff": 15
           },
           "zerolinecolor": "white",
           "zerolinewidth": 2
          },
          "yaxis": {
           "automargin": true,
           "gridcolor": "white",
           "linecolor": "white",
           "ticks": "",
           "title": {
            "standoff": 15
           },
           "zerolinecolor": "white",
           "zerolinewidth": 2
          }
         }
        },
        "title": {
         "font": {
          "color": "#4D5663"
         }
        },
        "xaxis": {
         "gridcolor": "#E1E5ED",
         "showgrid": true,
         "tickfont": {
          "color": "#4D5663"
         },
         "title": {
          "font": {
           "color": "#4D5663"
          },
          "text": ""
         },
         "zerolinecolor": "#E1E5ED"
        },
        "yaxis": {
         "gridcolor": "#E1E5ED",
         "showgrid": true,
         "tickfont": {
          "color": "#4D5663"
         },
         "title": {
          "font": {
           "color": "#4D5663"
          },
          "text": ""
         },
         "zerolinecolor": "#E1E5ED"
        }
       }
      },
      "text/html": [
       "<div>                            <div id=\"077f00ea-bb75-412b-b7fc-0ec35fdf1d77\" class=\"plotly-graph-div\" style=\"height:525px; width:100%;\"></div>            <script type=\"text/javascript\">                require([\"plotly\"], function(Plotly) {                    window.PLOTLYENV=window.PLOTLYENV || {};\n",
       "                    window.PLOTLYENV.BASE_URL='https://plot.ly';                                    if (document.getElementById(\"077f00ea-bb75-412b-b7fc-0ec35fdf1d77\")) {                    Plotly.newPlot(                        \"077f00ea-bb75-412b-b7fc-0ec35fdf1d77\",                        [{\"marker\":{\"color\":\"rgba(255, 153, 51, 0.6)\",\"line\":{\"color\":\"rgba(255, 153, 51, 1.0)\",\"width\":1}},\"name\":\"Values\",\"orientation\":\"v\",\"text\":\"\",\"x\":[\"A\",\"B\",\"C\"],\"y\":[32,43,50],\"type\":\"bar\"}],                        {\"legend\":{\"bgcolor\":\"#F5F6F9\",\"font\":{\"color\":\"#4D5663\"}},\"paper_bgcolor\":\"#F5F6F9\",\"plot_bgcolor\":\"#F5F6F9\",\"template\":{\"data\":{\"barpolar\":[{\"marker\":{\"line\":{\"color\":\"#E5ECF6\",\"width\":0.5},\"pattern\":{\"fillmode\":\"overlay\",\"size\":10,\"solidity\":0.2}},\"type\":\"barpolar\"}],\"bar\":[{\"error_x\":{\"color\":\"#2a3f5f\"},\"error_y\":{\"color\":\"#2a3f5f\"},\"marker\":{\"line\":{\"color\":\"#E5ECF6\",\"width\":0.5},\"pattern\":{\"fillmode\":\"overlay\",\"size\":10,\"solidity\":0.2}},\"type\":\"bar\"}],\"carpet\":[{\"aaxis\":{\"endlinecolor\":\"#2a3f5f\",\"gridcolor\":\"white\",\"linecolor\":\"white\",\"minorgridcolor\":\"white\",\"startlinecolor\":\"#2a3f5f\"},\"baxis\":{\"endlinecolor\":\"#2a3f5f\",\"gridcolor\":\"white\",\"linecolor\":\"white\",\"minorgridcolor\":\"white\",\"startlinecolor\":\"#2a3f5f\"},\"type\":\"carpet\"}],\"choropleth\":[{\"colorbar\":{\"outlinewidth\":0,\"ticks\":\"\"},\"type\":\"choropleth\"}],\"contourcarpet\":[{\"colorbar\":{\"outlinewidth\":0,\"ticks\":\"\"},\"type\":\"contourcarpet\"}],\"contour\":[{\"colorbar\":{\"outlinewidth\":0,\"ticks\":\"\"},\"colorscale\":[[0.0,\"#0d0887\"],[0.1111111111111111,\"#46039f\"],[0.2222222222222222,\"#7201a8\"],[0.3333333333333333,\"#9c179e\"],[0.4444444444444444,\"#bd3786\"],[0.5555555555555556,\"#d8576b\"],[0.6666666666666666,\"#ed7953\"],[0.7777777777777778,\"#fb9f3a\"],[0.8888888888888888,\"#fdca26\"],[1.0,\"#f0f921\"]],\"type\":\"contour\"}],\"heatmapgl\":[{\"colorbar\":{\"outlinewidth\":0,\"ticks\":\"\"},\"colorscale\":[[0.0,\"#0d0887\"],[0.1111111111111111,\"#46039f\"],[0.2222222222222222,\"#7201a8\"],[0.3333333333333333,\"#9c179e\"],[0.4444444444444444,\"#bd3786\"],[0.5555555555555556,\"#d8576b\"],[0.6666666666666666,\"#ed7953\"],[0.7777777777777778,\"#fb9f3a\"],[0.8888888888888888,\"#fdca26\"],[1.0,\"#f0f921\"]],\"type\":\"heatmapgl\"}],\"heatmap\":[{\"colorbar\":{\"outlinewidth\":0,\"ticks\":\"\"},\"colorscale\":[[0.0,\"#0d0887\"],[0.1111111111111111,\"#46039f\"],[0.2222222222222222,\"#7201a8\"],[0.3333333333333333,\"#9c179e\"],[0.4444444444444444,\"#bd3786\"],[0.5555555555555556,\"#d8576b\"],[0.6666666666666666,\"#ed7953\"],[0.7777777777777778,\"#fb9f3a\"],[0.8888888888888888,\"#fdca26\"],[1.0,\"#f0f921\"]],\"type\":\"heatmap\"}],\"histogram2dcontour\":[{\"colorbar\":{\"outlinewidth\":0,\"ticks\":\"\"},\"colorscale\":[[0.0,\"#0d0887\"],[0.1111111111111111,\"#46039f\"],[0.2222222222222222,\"#7201a8\"],[0.3333333333333333,\"#9c179e\"],[0.4444444444444444,\"#bd3786\"],[0.5555555555555556,\"#d8576b\"],[0.6666666666666666,\"#ed7953\"],[0.7777777777777778,\"#fb9f3a\"],[0.8888888888888888,\"#fdca26\"],[1.0,\"#f0f921\"]],\"type\":\"histogram2dcontour\"}],\"histogram2d\":[{\"colorbar\":{\"outlinewidth\":0,\"ticks\":\"\"},\"colorscale\":[[0.0,\"#0d0887\"],[0.1111111111111111,\"#46039f\"],[0.2222222222222222,\"#7201a8\"],[0.3333333333333333,\"#9c179e\"],[0.4444444444444444,\"#bd3786\"],[0.5555555555555556,\"#d8576b\"],[0.6666666666666666,\"#ed7953\"],[0.7777777777777778,\"#fb9f3a\"],[0.8888888888888888,\"#fdca26\"],[1.0,\"#f0f921\"]],\"type\":\"histogram2d\"}],\"histogram\":[{\"marker\":{\"pattern\":{\"fillmode\":\"overlay\",\"size\":10,\"solidity\":0.2}},\"type\":\"histogram\"}],\"mesh3d\":[{\"colorbar\":{\"outlinewidth\":0,\"ticks\":\"\"},\"type\":\"mesh3d\"}],\"parcoords\":[{\"line\":{\"colorbar\":{\"outlinewidth\":0,\"ticks\":\"\"}},\"type\":\"parcoords\"}],\"pie\":[{\"automargin\":true,\"type\":\"pie\"}],\"scatter3d\":[{\"line\":{\"colorbar\":{\"outlinewidth\":0,\"ticks\":\"\"}},\"marker\":{\"colorbar\":{\"outlinewidth\":0,\"ticks\":\"\"}},\"type\":\"scatter3d\"}],\"scattercarpet\":[{\"marker\":{\"colorbar\":{\"outlinewidth\":0,\"ticks\":\"\"}},\"type\":\"scattercarpet\"}],\"scattergeo\":[{\"marker\":{\"colorbar\":{\"outlinewidth\":0,\"ticks\":\"\"}},\"type\":\"scattergeo\"}],\"scattergl\":[{\"marker\":{\"colorbar\":{\"outlinewidth\":0,\"ticks\":\"\"}},\"type\":\"scattergl\"}],\"scattermapbox\":[{\"marker\":{\"colorbar\":{\"outlinewidth\":0,\"ticks\":\"\"}},\"type\":\"scattermapbox\"}],\"scatterpolargl\":[{\"marker\":{\"colorbar\":{\"outlinewidth\":0,\"ticks\":\"\"}},\"type\":\"scatterpolargl\"}],\"scatterpolar\":[{\"marker\":{\"colorbar\":{\"outlinewidth\":0,\"ticks\":\"\"}},\"type\":\"scatterpolar\"}],\"scatter\":[{\"fillpattern\":{\"fillmode\":\"overlay\",\"size\":10,\"solidity\":0.2},\"type\":\"scatter\"}],\"scatterternary\":[{\"marker\":{\"colorbar\":{\"outlinewidth\":0,\"ticks\":\"\"}},\"type\":\"scatterternary\"}],\"surface\":[{\"colorbar\":{\"outlinewidth\":0,\"ticks\":\"\"},\"colorscale\":[[0.0,\"#0d0887\"],[0.1111111111111111,\"#46039f\"],[0.2222222222222222,\"#7201a8\"],[0.3333333333333333,\"#9c179e\"],[0.4444444444444444,\"#bd3786\"],[0.5555555555555556,\"#d8576b\"],[0.6666666666666666,\"#ed7953\"],[0.7777777777777778,\"#fb9f3a\"],[0.8888888888888888,\"#fdca26\"],[1.0,\"#f0f921\"]],\"type\":\"surface\"}],\"table\":[{\"cells\":{\"fill\":{\"color\":\"#EBF0F8\"},\"line\":{\"color\":\"white\"}},\"header\":{\"fill\":{\"color\":\"#C8D4E3\"},\"line\":{\"color\":\"white\"}},\"type\":\"table\"}]},\"layout\":{\"annotationdefaults\":{\"arrowcolor\":\"#2a3f5f\",\"arrowhead\":0,\"arrowwidth\":1},\"autotypenumbers\":\"strict\",\"coloraxis\":{\"colorbar\":{\"outlinewidth\":0,\"ticks\":\"\"}},\"colorscale\":{\"diverging\":[[0,\"#8e0152\"],[0.1,\"#c51b7d\"],[0.2,\"#de77ae\"],[0.3,\"#f1b6da\"],[0.4,\"#fde0ef\"],[0.5,\"#f7f7f7\"],[0.6,\"#e6f5d0\"],[0.7,\"#b8e186\"],[0.8,\"#7fbc41\"],[0.9,\"#4d9221\"],[1,\"#276419\"]],\"sequential\":[[0.0,\"#0d0887\"],[0.1111111111111111,\"#46039f\"],[0.2222222222222222,\"#7201a8\"],[0.3333333333333333,\"#9c179e\"],[0.4444444444444444,\"#bd3786\"],[0.5555555555555556,\"#d8576b\"],[0.6666666666666666,\"#ed7953\"],[0.7777777777777778,\"#fb9f3a\"],[0.8888888888888888,\"#fdca26\"],[1.0,\"#f0f921\"]],\"sequentialminus\":[[0.0,\"#0d0887\"],[0.1111111111111111,\"#46039f\"],[0.2222222222222222,\"#7201a8\"],[0.3333333333333333,\"#9c179e\"],[0.4444444444444444,\"#bd3786\"],[0.5555555555555556,\"#d8576b\"],[0.6666666666666666,\"#ed7953\"],[0.7777777777777778,\"#fb9f3a\"],[0.8888888888888888,\"#fdca26\"],[1.0,\"#f0f921\"]]},\"colorway\":[\"#636efa\",\"#EF553B\",\"#00cc96\",\"#ab63fa\",\"#FFA15A\",\"#19d3f3\",\"#FF6692\",\"#B6E880\",\"#FF97FF\",\"#FECB52\"],\"font\":{\"color\":\"#2a3f5f\"},\"geo\":{\"bgcolor\":\"white\",\"lakecolor\":\"white\",\"landcolor\":\"#E5ECF6\",\"showlakes\":true,\"showland\":true,\"subunitcolor\":\"white\"},\"hoverlabel\":{\"align\":\"left\"},\"hovermode\":\"closest\",\"mapbox\":{\"style\":\"light\"},\"paper_bgcolor\":\"white\",\"plot_bgcolor\":\"#E5ECF6\",\"polar\":{\"angularaxis\":{\"gridcolor\":\"white\",\"linecolor\":\"white\",\"ticks\":\"\"},\"bgcolor\":\"#E5ECF6\",\"radialaxis\":{\"gridcolor\":\"white\",\"linecolor\":\"white\",\"ticks\":\"\"}},\"scene\":{\"xaxis\":{\"backgroundcolor\":\"#E5ECF6\",\"gridcolor\":\"white\",\"gridwidth\":2,\"linecolor\":\"white\",\"showbackground\":true,\"ticks\":\"\",\"zerolinecolor\":\"white\"},\"yaxis\":{\"backgroundcolor\":\"#E5ECF6\",\"gridcolor\":\"white\",\"gridwidth\":2,\"linecolor\":\"white\",\"showbackground\":true,\"ticks\":\"\",\"zerolinecolor\":\"white\"},\"zaxis\":{\"backgroundcolor\":\"#E5ECF6\",\"gridcolor\":\"white\",\"gridwidth\":2,\"linecolor\":\"white\",\"showbackground\":true,\"ticks\":\"\",\"zerolinecolor\":\"white\"}},\"shapedefaults\":{\"line\":{\"color\":\"#2a3f5f\"}},\"ternary\":{\"aaxis\":{\"gridcolor\":\"white\",\"linecolor\":\"white\",\"ticks\":\"\"},\"baxis\":{\"gridcolor\":\"white\",\"linecolor\":\"white\",\"ticks\":\"\"},\"bgcolor\":\"#E5ECF6\",\"caxis\":{\"gridcolor\":\"white\",\"linecolor\":\"white\",\"ticks\":\"\"}},\"title\":{\"x\":0.05},\"xaxis\":{\"automargin\":true,\"gridcolor\":\"white\",\"linecolor\":\"white\",\"ticks\":\"\",\"title\":{\"standoff\":15},\"zerolinecolor\":\"white\",\"zerolinewidth\":2},\"yaxis\":{\"automargin\":true,\"gridcolor\":\"white\",\"linecolor\":\"white\",\"ticks\":\"\",\"title\":{\"standoff\":15},\"zerolinecolor\":\"white\",\"zerolinewidth\":2}}},\"title\":{\"font\":{\"color\":\"#4D5663\"}},\"xaxis\":{\"gridcolor\":\"#E1E5ED\",\"showgrid\":true,\"tickfont\":{\"color\":\"#4D5663\"},\"title\":{\"font\":{\"color\":\"#4D5663\"},\"text\":\"\"},\"zerolinecolor\":\"#E1E5ED\"},\"yaxis\":{\"gridcolor\":\"#E1E5ED\",\"showgrid\":true,\"tickfont\":{\"color\":\"#4D5663\"},\"title\":{\"font\":{\"color\":\"#4D5663\"},\"text\":\"\"},\"zerolinecolor\":\"#E1E5ED\"}},                        {\"showLink\": true, \"linkText\": \"Export to plot.ly\", \"plotlyServerURL\": \"https://plot.ly\", \"responsive\": true}                    ).then(function(){\n",
       "                            \n",
       "var gd = document.getElementById('077f00ea-bb75-412b-b7fc-0ec35fdf1d77');\n",
       "var x = new MutationObserver(function (mutations, observer) {{\n",
       "        var display = window.getComputedStyle(gd).display;\n",
       "        if (!display || display === 'none') {{\n",
       "            console.log([gd, 'removed!']);\n",
       "            Plotly.purge(gd);\n",
       "            observer.disconnect();\n",
       "        }}\n",
       "}});\n",
       "\n",
       "// Listen for the removal of the full notebook cells\n",
       "var notebookContainer = gd.closest('#notebook-container');\n",
       "if (notebookContainer) {{\n",
       "    x.observe(notebookContainer, {childList: true});\n",
       "}}\n",
       "\n",
       "// Listen for the clearing of the current output cell\n",
       "var outputEl = gd.closest('.output');\n",
       "if (outputEl) {{\n",
       "    x.observe(outputEl, {childList: true});\n",
       "}}\n",
       "\n",
       "                        })                };                });            </script>        </div>"
      ]
     },
     "metadata": {},
     "output_type": "display_data"
    }
   ],
   "source": [
    "df2.iplot(kind='bar',x='Category',y='Values')"
   ]
  },
  {
   "cell_type": "code",
   "execution_count": 12,
   "metadata": {},
   "outputs": [
    {
     "data": {
      "application/vnd.plotly.v1+json": {
       "config": {
        "linkText": "Export to plot.ly",
        "plotlyServerURL": "https://plot.ly",
        "showLink": true
       },
       "data": [
        {
         "marker": {
          "color": "rgba(255, 153, 51, 0.6)",
          "line": {
           "color": "rgba(255, 153, 51, 1.0)",
           "width": 1
          }
         },
         "name": "None",
         "orientation": "v",
         "text": "",
         "type": "bar",
         "x": [
          "A",
          "B",
          "C",
          "D"
         ],
         "y": [
          100,
          100,
          100,
          100
         ]
        }
       ],
       "layout": {
        "legend": {
         "bgcolor": "#F5F6F9",
         "font": {
          "color": "#4D5663"
         }
        },
        "paper_bgcolor": "#F5F6F9",
        "plot_bgcolor": "#F5F6F9",
        "template": {
         "data": {
          "bar": [
           {
            "error_x": {
             "color": "#2a3f5f"
            },
            "error_y": {
             "color": "#2a3f5f"
            },
            "marker": {
             "line": {
              "color": "#E5ECF6",
              "width": 0.5
             },
             "pattern": {
              "fillmode": "overlay",
              "size": 10,
              "solidity": 0.2
             }
            },
            "type": "bar"
           }
          ],
          "barpolar": [
           {
            "marker": {
             "line": {
              "color": "#E5ECF6",
              "width": 0.5
             },
             "pattern": {
              "fillmode": "overlay",
              "size": 10,
              "solidity": 0.2
             }
            },
            "type": "barpolar"
           }
          ],
          "carpet": [
           {
            "aaxis": {
             "endlinecolor": "#2a3f5f",
             "gridcolor": "white",
             "linecolor": "white",
             "minorgridcolor": "white",
             "startlinecolor": "#2a3f5f"
            },
            "baxis": {
             "endlinecolor": "#2a3f5f",
             "gridcolor": "white",
             "linecolor": "white",
             "minorgridcolor": "white",
             "startlinecolor": "#2a3f5f"
            },
            "type": "carpet"
           }
          ],
          "choropleth": [
           {
            "colorbar": {
             "outlinewidth": 0,
             "ticks": ""
            },
            "type": "choropleth"
           }
          ],
          "contour": [
           {
            "colorbar": {
             "outlinewidth": 0,
             "ticks": ""
            },
            "colorscale": [
             [
              0,
              "#0d0887"
             ],
             [
              0.1111111111111111,
              "#46039f"
             ],
             [
              0.2222222222222222,
              "#7201a8"
             ],
             [
              0.3333333333333333,
              "#9c179e"
             ],
             [
              0.4444444444444444,
              "#bd3786"
             ],
             [
              0.5555555555555556,
              "#d8576b"
             ],
             [
              0.6666666666666666,
              "#ed7953"
             ],
             [
              0.7777777777777778,
              "#fb9f3a"
             ],
             [
              0.8888888888888888,
              "#fdca26"
             ],
             [
              1,
              "#f0f921"
             ]
            ],
            "type": "contour"
           }
          ],
          "contourcarpet": [
           {
            "colorbar": {
             "outlinewidth": 0,
             "ticks": ""
            },
            "type": "contourcarpet"
           }
          ],
          "heatmap": [
           {
            "colorbar": {
             "outlinewidth": 0,
             "ticks": ""
            },
            "colorscale": [
             [
              0,
              "#0d0887"
             ],
             [
              0.1111111111111111,
              "#46039f"
             ],
             [
              0.2222222222222222,
              "#7201a8"
             ],
             [
              0.3333333333333333,
              "#9c179e"
             ],
             [
              0.4444444444444444,
              "#bd3786"
             ],
             [
              0.5555555555555556,
              "#d8576b"
             ],
             [
              0.6666666666666666,
              "#ed7953"
             ],
             [
              0.7777777777777778,
              "#fb9f3a"
             ],
             [
              0.8888888888888888,
              "#fdca26"
             ],
             [
              1,
              "#f0f921"
             ]
            ],
            "type": "heatmap"
           }
          ],
          "heatmapgl": [
           {
            "colorbar": {
             "outlinewidth": 0,
             "ticks": ""
            },
            "colorscale": [
             [
              0,
              "#0d0887"
             ],
             [
              0.1111111111111111,
              "#46039f"
             ],
             [
              0.2222222222222222,
              "#7201a8"
             ],
             [
              0.3333333333333333,
              "#9c179e"
             ],
             [
              0.4444444444444444,
              "#bd3786"
             ],
             [
              0.5555555555555556,
              "#d8576b"
             ],
             [
              0.6666666666666666,
              "#ed7953"
             ],
             [
              0.7777777777777778,
              "#fb9f3a"
             ],
             [
              0.8888888888888888,
              "#fdca26"
             ],
             [
              1,
              "#f0f921"
             ]
            ],
            "type": "heatmapgl"
           }
          ],
          "histogram": [
           {
            "marker": {
             "pattern": {
              "fillmode": "overlay",
              "size": 10,
              "solidity": 0.2
             }
            },
            "type": "histogram"
           }
          ],
          "histogram2d": [
           {
            "colorbar": {
             "outlinewidth": 0,
             "ticks": ""
            },
            "colorscale": [
             [
              0,
              "#0d0887"
             ],
             [
              0.1111111111111111,
              "#46039f"
             ],
             [
              0.2222222222222222,
              "#7201a8"
             ],
             [
              0.3333333333333333,
              "#9c179e"
             ],
             [
              0.4444444444444444,
              "#bd3786"
             ],
             [
              0.5555555555555556,
              "#d8576b"
             ],
             [
              0.6666666666666666,
              "#ed7953"
             ],
             [
              0.7777777777777778,
              "#fb9f3a"
             ],
             [
              0.8888888888888888,
              "#fdca26"
             ],
             [
              1,
              "#f0f921"
             ]
            ],
            "type": "histogram2d"
           }
          ],
          "histogram2dcontour": [
           {
            "colorbar": {
             "outlinewidth": 0,
             "ticks": ""
            },
            "colorscale": [
             [
              0,
              "#0d0887"
             ],
             [
              0.1111111111111111,
              "#46039f"
             ],
             [
              0.2222222222222222,
              "#7201a8"
             ],
             [
              0.3333333333333333,
              "#9c179e"
             ],
             [
              0.4444444444444444,
              "#bd3786"
             ],
             [
              0.5555555555555556,
              "#d8576b"
             ],
             [
              0.6666666666666666,
              "#ed7953"
             ],
             [
              0.7777777777777778,
              "#fb9f3a"
             ],
             [
              0.8888888888888888,
              "#fdca26"
             ],
             [
              1,
              "#f0f921"
             ]
            ],
            "type": "histogram2dcontour"
           }
          ],
          "mesh3d": [
           {
            "colorbar": {
             "outlinewidth": 0,
             "ticks": ""
            },
            "type": "mesh3d"
           }
          ],
          "parcoords": [
           {
            "line": {
             "colorbar": {
              "outlinewidth": 0,
              "ticks": ""
             }
            },
            "type": "parcoords"
           }
          ],
          "pie": [
           {
            "automargin": true,
            "type": "pie"
           }
          ],
          "scatter": [
           {
            "fillpattern": {
             "fillmode": "overlay",
             "size": 10,
             "solidity": 0.2
            },
            "type": "scatter"
           }
          ],
          "scatter3d": [
           {
            "line": {
             "colorbar": {
              "outlinewidth": 0,
              "ticks": ""
             }
            },
            "marker": {
             "colorbar": {
              "outlinewidth": 0,
              "ticks": ""
             }
            },
            "type": "scatter3d"
           }
          ],
          "scattercarpet": [
           {
            "marker": {
             "colorbar": {
              "outlinewidth": 0,
              "ticks": ""
             }
            },
            "type": "scattercarpet"
           }
          ],
          "scattergeo": [
           {
            "marker": {
             "colorbar": {
              "outlinewidth": 0,
              "ticks": ""
             }
            },
            "type": "scattergeo"
           }
          ],
          "scattergl": [
           {
            "marker": {
             "colorbar": {
              "outlinewidth": 0,
              "ticks": ""
             }
            },
            "type": "scattergl"
           }
          ],
          "scattermapbox": [
           {
            "marker": {
             "colorbar": {
              "outlinewidth": 0,
              "ticks": ""
             }
            },
            "type": "scattermapbox"
           }
          ],
          "scatterpolar": [
           {
            "marker": {
             "colorbar": {
              "outlinewidth": 0,
              "ticks": ""
             }
            },
            "type": "scatterpolar"
           }
          ],
          "scatterpolargl": [
           {
            "marker": {
             "colorbar": {
              "outlinewidth": 0,
              "ticks": ""
             }
            },
            "type": "scatterpolargl"
           }
          ],
          "scatterternary": [
           {
            "marker": {
             "colorbar": {
              "outlinewidth": 0,
              "ticks": ""
             }
            },
            "type": "scatterternary"
           }
          ],
          "surface": [
           {
            "colorbar": {
             "outlinewidth": 0,
             "ticks": ""
            },
            "colorscale": [
             [
              0,
              "#0d0887"
             ],
             [
              0.1111111111111111,
              "#46039f"
             ],
             [
              0.2222222222222222,
              "#7201a8"
             ],
             [
              0.3333333333333333,
              "#9c179e"
             ],
             [
              0.4444444444444444,
              "#bd3786"
             ],
             [
              0.5555555555555556,
              "#d8576b"
             ],
             [
              0.6666666666666666,
              "#ed7953"
             ],
             [
              0.7777777777777778,
              "#fb9f3a"
             ],
             [
              0.8888888888888888,
              "#fdca26"
             ],
             [
              1,
              "#f0f921"
             ]
            ],
            "type": "surface"
           }
          ],
          "table": [
           {
            "cells": {
             "fill": {
              "color": "#EBF0F8"
             },
             "line": {
              "color": "white"
             }
            },
            "header": {
             "fill": {
              "color": "#C8D4E3"
             },
             "line": {
              "color": "white"
             }
            },
            "type": "table"
           }
          ]
         },
         "layout": {
          "annotationdefaults": {
           "arrowcolor": "#2a3f5f",
           "arrowhead": 0,
           "arrowwidth": 1
          },
          "autotypenumbers": "strict",
          "coloraxis": {
           "colorbar": {
            "outlinewidth": 0,
            "ticks": ""
           }
          },
          "colorscale": {
           "diverging": [
            [
             0,
             "#8e0152"
            ],
            [
             0.1,
             "#c51b7d"
            ],
            [
             0.2,
             "#de77ae"
            ],
            [
             0.3,
             "#f1b6da"
            ],
            [
             0.4,
             "#fde0ef"
            ],
            [
             0.5,
             "#f7f7f7"
            ],
            [
             0.6,
             "#e6f5d0"
            ],
            [
             0.7,
             "#b8e186"
            ],
            [
             0.8,
             "#7fbc41"
            ],
            [
             0.9,
             "#4d9221"
            ],
            [
             1,
             "#276419"
            ]
           ],
           "sequential": [
            [
             0,
             "#0d0887"
            ],
            [
             0.1111111111111111,
             "#46039f"
            ],
            [
             0.2222222222222222,
             "#7201a8"
            ],
            [
             0.3333333333333333,
             "#9c179e"
            ],
            [
             0.4444444444444444,
             "#bd3786"
            ],
            [
             0.5555555555555556,
             "#d8576b"
            ],
            [
             0.6666666666666666,
             "#ed7953"
            ],
            [
             0.7777777777777778,
             "#fb9f3a"
            ],
            [
             0.8888888888888888,
             "#fdca26"
            ],
            [
             1,
             "#f0f921"
            ]
           ],
           "sequentialminus": [
            [
             0,
             "#0d0887"
            ],
            [
             0.1111111111111111,
             "#46039f"
            ],
            [
             0.2222222222222222,
             "#7201a8"
            ],
            [
             0.3333333333333333,
             "#9c179e"
            ],
            [
             0.4444444444444444,
             "#bd3786"
            ],
            [
             0.5555555555555556,
             "#d8576b"
            ],
            [
             0.6666666666666666,
             "#ed7953"
            ],
            [
             0.7777777777777778,
             "#fb9f3a"
            ],
            [
             0.8888888888888888,
             "#fdca26"
            ],
            [
             1,
             "#f0f921"
            ]
           ]
          },
          "colorway": [
           "#636efa",
           "#EF553B",
           "#00cc96",
           "#ab63fa",
           "#FFA15A",
           "#19d3f3",
           "#FF6692",
           "#B6E880",
           "#FF97FF",
           "#FECB52"
          ],
          "font": {
           "color": "#2a3f5f"
          },
          "geo": {
           "bgcolor": "white",
           "lakecolor": "white",
           "landcolor": "#E5ECF6",
           "showlakes": true,
           "showland": true,
           "subunitcolor": "white"
          },
          "hoverlabel": {
           "align": "left"
          },
          "hovermode": "closest",
          "mapbox": {
           "style": "light"
          },
          "paper_bgcolor": "white",
          "plot_bgcolor": "#E5ECF6",
          "polar": {
           "angularaxis": {
            "gridcolor": "white",
            "linecolor": "white",
            "ticks": ""
           },
           "bgcolor": "#E5ECF6",
           "radialaxis": {
            "gridcolor": "white",
            "linecolor": "white",
            "ticks": ""
           }
          },
          "scene": {
           "xaxis": {
            "backgroundcolor": "#E5ECF6",
            "gridcolor": "white",
            "gridwidth": 2,
            "linecolor": "white",
            "showbackground": true,
            "ticks": "",
            "zerolinecolor": "white"
           },
           "yaxis": {
            "backgroundcolor": "#E5ECF6",
            "gridcolor": "white",
            "gridwidth": 2,
            "linecolor": "white",
            "showbackground": true,
            "ticks": "",
            "zerolinecolor": "white"
           },
           "zaxis": {
            "backgroundcolor": "#E5ECF6",
            "gridcolor": "white",
            "gridwidth": 2,
            "linecolor": "white",
            "showbackground": true,
            "ticks": "",
            "zerolinecolor": "white"
           }
          },
          "shapedefaults": {
           "line": {
            "color": "#2a3f5f"
           }
          },
          "ternary": {
           "aaxis": {
            "gridcolor": "white",
            "linecolor": "white",
            "ticks": ""
           },
           "baxis": {
            "gridcolor": "white",
            "linecolor": "white",
            "ticks": ""
           },
           "bgcolor": "#E5ECF6",
           "caxis": {
            "gridcolor": "white",
            "linecolor": "white",
            "ticks": ""
           }
          },
          "title": {
           "x": 0.05
          },
          "xaxis": {
           "automargin": true,
           "gridcolor": "white",
           "linecolor": "white",
           "ticks": "",
           "title": {
            "standoff": 15
           },
           "zerolinecolor": "white",
           "zerolinewidth": 2
          },
          "yaxis": {
           "automargin": true,
           "gridcolor": "white",
           "linecolor": "white",
           "ticks": "",
           "title": {
            "standoff": 15
           },
           "zerolinecolor": "white",
           "zerolinewidth": 2
          }
         }
        },
        "title": {
         "font": {
          "color": "#4D5663"
         }
        },
        "xaxis": {
         "gridcolor": "#E1E5ED",
         "showgrid": true,
         "tickfont": {
          "color": "#4D5663"
         },
         "title": {
          "font": {
           "color": "#4D5663"
          },
          "text": ""
         },
         "zerolinecolor": "#E1E5ED"
        },
        "yaxis": {
         "gridcolor": "#E1E5ED",
         "showgrid": true,
         "tickfont": {
          "color": "#4D5663"
         },
         "title": {
          "font": {
           "color": "#4D5663"
          },
          "text": ""
         },
         "zerolinecolor": "#E1E5ED"
        }
       }
      },
      "text/html": [
       "<div>                            <div id=\"4b47fdd0-3732-469d-8f4a-702ba194de89\" class=\"plotly-graph-div\" style=\"height:525px; width:100%;\"></div>            <script type=\"text/javascript\">                require([\"plotly\"], function(Plotly) {                    window.PLOTLYENV=window.PLOTLYENV || {};\n",
       "                    window.PLOTLYENV.BASE_URL='https://plot.ly';                                    if (document.getElementById(\"4b47fdd0-3732-469d-8f4a-702ba194de89\")) {                    Plotly.newPlot(                        \"4b47fdd0-3732-469d-8f4a-702ba194de89\",                        [{\"marker\":{\"color\":\"rgba(255, 153, 51, 0.6)\",\"line\":{\"color\":\"rgba(255, 153, 51, 1.0)\",\"width\":1}},\"name\":\"None\",\"orientation\":\"v\",\"text\":\"\",\"x\":[\"A\",\"B\",\"C\",\"D\"],\"y\":[100,100,100,100],\"type\":\"bar\"}],                        {\"legend\":{\"bgcolor\":\"#F5F6F9\",\"font\":{\"color\":\"#4D5663\"}},\"paper_bgcolor\":\"#F5F6F9\",\"plot_bgcolor\":\"#F5F6F9\",\"template\":{\"data\":{\"barpolar\":[{\"marker\":{\"line\":{\"color\":\"#E5ECF6\",\"width\":0.5},\"pattern\":{\"fillmode\":\"overlay\",\"size\":10,\"solidity\":0.2}},\"type\":\"barpolar\"}],\"bar\":[{\"error_x\":{\"color\":\"#2a3f5f\"},\"error_y\":{\"color\":\"#2a3f5f\"},\"marker\":{\"line\":{\"color\":\"#E5ECF6\",\"width\":0.5},\"pattern\":{\"fillmode\":\"overlay\",\"size\":10,\"solidity\":0.2}},\"type\":\"bar\"}],\"carpet\":[{\"aaxis\":{\"endlinecolor\":\"#2a3f5f\",\"gridcolor\":\"white\",\"linecolor\":\"white\",\"minorgridcolor\":\"white\",\"startlinecolor\":\"#2a3f5f\"},\"baxis\":{\"endlinecolor\":\"#2a3f5f\",\"gridcolor\":\"white\",\"linecolor\":\"white\",\"minorgridcolor\":\"white\",\"startlinecolor\":\"#2a3f5f\"},\"type\":\"carpet\"}],\"choropleth\":[{\"colorbar\":{\"outlinewidth\":0,\"ticks\":\"\"},\"type\":\"choropleth\"}],\"contourcarpet\":[{\"colorbar\":{\"outlinewidth\":0,\"ticks\":\"\"},\"type\":\"contourcarpet\"}],\"contour\":[{\"colorbar\":{\"outlinewidth\":0,\"ticks\":\"\"},\"colorscale\":[[0.0,\"#0d0887\"],[0.1111111111111111,\"#46039f\"],[0.2222222222222222,\"#7201a8\"],[0.3333333333333333,\"#9c179e\"],[0.4444444444444444,\"#bd3786\"],[0.5555555555555556,\"#d8576b\"],[0.6666666666666666,\"#ed7953\"],[0.7777777777777778,\"#fb9f3a\"],[0.8888888888888888,\"#fdca26\"],[1.0,\"#f0f921\"]],\"type\":\"contour\"}],\"heatmapgl\":[{\"colorbar\":{\"outlinewidth\":0,\"ticks\":\"\"},\"colorscale\":[[0.0,\"#0d0887\"],[0.1111111111111111,\"#46039f\"],[0.2222222222222222,\"#7201a8\"],[0.3333333333333333,\"#9c179e\"],[0.4444444444444444,\"#bd3786\"],[0.5555555555555556,\"#d8576b\"],[0.6666666666666666,\"#ed7953\"],[0.7777777777777778,\"#fb9f3a\"],[0.8888888888888888,\"#fdca26\"],[1.0,\"#f0f921\"]],\"type\":\"heatmapgl\"}],\"heatmap\":[{\"colorbar\":{\"outlinewidth\":0,\"ticks\":\"\"},\"colorscale\":[[0.0,\"#0d0887\"],[0.1111111111111111,\"#46039f\"],[0.2222222222222222,\"#7201a8\"],[0.3333333333333333,\"#9c179e\"],[0.4444444444444444,\"#bd3786\"],[0.5555555555555556,\"#d8576b\"],[0.6666666666666666,\"#ed7953\"],[0.7777777777777778,\"#fb9f3a\"],[0.8888888888888888,\"#fdca26\"],[1.0,\"#f0f921\"]],\"type\":\"heatmap\"}],\"histogram2dcontour\":[{\"colorbar\":{\"outlinewidth\":0,\"ticks\":\"\"},\"colorscale\":[[0.0,\"#0d0887\"],[0.1111111111111111,\"#46039f\"],[0.2222222222222222,\"#7201a8\"],[0.3333333333333333,\"#9c179e\"],[0.4444444444444444,\"#bd3786\"],[0.5555555555555556,\"#d8576b\"],[0.6666666666666666,\"#ed7953\"],[0.7777777777777778,\"#fb9f3a\"],[0.8888888888888888,\"#fdca26\"],[1.0,\"#f0f921\"]],\"type\":\"histogram2dcontour\"}],\"histogram2d\":[{\"colorbar\":{\"outlinewidth\":0,\"ticks\":\"\"},\"colorscale\":[[0.0,\"#0d0887\"],[0.1111111111111111,\"#46039f\"],[0.2222222222222222,\"#7201a8\"],[0.3333333333333333,\"#9c179e\"],[0.4444444444444444,\"#bd3786\"],[0.5555555555555556,\"#d8576b\"],[0.6666666666666666,\"#ed7953\"],[0.7777777777777778,\"#fb9f3a\"],[0.8888888888888888,\"#fdca26\"],[1.0,\"#f0f921\"]],\"type\":\"histogram2d\"}],\"histogram\":[{\"marker\":{\"pattern\":{\"fillmode\":\"overlay\",\"size\":10,\"solidity\":0.2}},\"type\":\"histogram\"}],\"mesh3d\":[{\"colorbar\":{\"outlinewidth\":0,\"ticks\":\"\"},\"type\":\"mesh3d\"}],\"parcoords\":[{\"line\":{\"colorbar\":{\"outlinewidth\":0,\"ticks\":\"\"}},\"type\":\"parcoords\"}],\"pie\":[{\"automargin\":true,\"type\":\"pie\"}],\"scatter3d\":[{\"line\":{\"colorbar\":{\"outlinewidth\":0,\"ticks\":\"\"}},\"marker\":{\"colorbar\":{\"outlinewidth\":0,\"ticks\":\"\"}},\"type\":\"scatter3d\"}],\"scattercarpet\":[{\"marker\":{\"colorbar\":{\"outlinewidth\":0,\"ticks\":\"\"}},\"type\":\"scattercarpet\"}],\"scattergeo\":[{\"marker\":{\"colorbar\":{\"outlinewidth\":0,\"ticks\":\"\"}},\"type\":\"scattergeo\"}],\"scattergl\":[{\"marker\":{\"colorbar\":{\"outlinewidth\":0,\"ticks\":\"\"}},\"type\":\"scattergl\"}],\"scattermapbox\":[{\"marker\":{\"colorbar\":{\"outlinewidth\":0,\"ticks\":\"\"}},\"type\":\"scattermapbox\"}],\"scatterpolargl\":[{\"marker\":{\"colorbar\":{\"outlinewidth\":0,\"ticks\":\"\"}},\"type\":\"scatterpolargl\"}],\"scatterpolar\":[{\"marker\":{\"colorbar\":{\"outlinewidth\":0,\"ticks\":\"\"}},\"type\":\"scatterpolar\"}],\"scatter\":[{\"fillpattern\":{\"fillmode\":\"overlay\",\"size\":10,\"solidity\":0.2},\"type\":\"scatter\"}],\"scatterternary\":[{\"marker\":{\"colorbar\":{\"outlinewidth\":0,\"ticks\":\"\"}},\"type\":\"scatterternary\"}],\"surface\":[{\"colorbar\":{\"outlinewidth\":0,\"ticks\":\"\"},\"colorscale\":[[0.0,\"#0d0887\"],[0.1111111111111111,\"#46039f\"],[0.2222222222222222,\"#7201a8\"],[0.3333333333333333,\"#9c179e\"],[0.4444444444444444,\"#bd3786\"],[0.5555555555555556,\"#d8576b\"],[0.6666666666666666,\"#ed7953\"],[0.7777777777777778,\"#fb9f3a\"],[0.8888888888888888,\"#fdca26\"],[1.0,\"#f0f921\"]],\"type\":\"surface\"}],\"table\":[{\"cells\":{\"fill\":{\"color\":\"#EBF0F8\"},\"line\":{\"color\":\"white\"}},\"header\":{\"fill\":{\"color\":\"#C8D4E3\"},\"line\":{\"color\":\"white\"}},\"type\":\"table\"}]},\"layout\":{\"annotationdefaults\":{\"arrowcolor\":\"#2a3f5f\",\"arrowhead\":0,\"arrowwidth\":1},\"autotypenumbers\":\"strict\",\"coloraxis\":{\"colorbar\":{\"outlinewidth\":0,\"ticks\":\"\"}},\"colorscale\":{\"diverging\":[[0,\"#8e0152\"],[0.1,\"#c51b7d\"],[0.2,\"#de77ae\"],[0.3,\"#f1b6da\"],[0.4,\"#fde0ef\"],[0.5,\"#f7f7f7\"],[0.6,\"#e6f5d0\"],[0.7,\"#b8e186\"],[0.8,\"#7fbc41\"],[0.9,\"#4d9221\"],[1,\"#276419\"]],\"sequential\":[[0.0,\"#0d0887\"],[0.1111111111111111,\"#46039f\"],[0.2222222222222222,\"#7201a8\"],[0.3333333333333333,\"#9c179e\"],[0.4444444444444444,\"#bd3786\"],[0.5555555555555556,\"#d8576b\"],[0.6666666666666666,\"#ed7953\"],[0.7777777777777778,\"#fb9f3a\"],[0.8888888888888888,\"#fdca26\"],[1.0,\"#f0f921\"]],\"sequentialminus\":[[0.0,\"#0d0887\"],[0.1111111111111111,\"#46039f\"],[0.2222222222222222,\"#7201a8\"],[0.3333333333333333,\"#9c179e\"],[0.4444444444444444,\"#bd3786\"],[0.5555555555555556,\"#d8576b\"],[0.6666666666666666,\"#ed7953\"],[0.7777777777777778,\"#fb9f3a\"],[0.8888888888888888,\"#fdca26\"],[1.0,\"#f0f921\"]]},\"colorway\":[\"#636efa\",\"#EF553B\",\"#00cc96\",\"#ab63fa\",\"#FFA15A\",\"#19d3f3\",\"#FF6692\",\"#B6E880\",\"#FF97FF\",\"#FECB52\"],\"font\":{\"color\":\"#2a3f5f\"},\"geo\":{\"bgcolor\":\"white\",\"lakecolor\":\"white\",\"landcolor\":\"#E5ECF6\",\"showlakes\":true,\"showland\":true,\"subunitcolor\":\"white\"},\"hoverlabel\":{\"align\":\"left\"},\"hovermode\":\"closest\",\"mapbox\":{\"style\":\"light\"},\"paper_bgcolor\":\"white\",\"plot_bgcolor\":\"#E5ECF6\",\"polar\":{\"angularaxis\":{\"gridcolor\":\"white\",\"linecolor\":\"white\",\"ticks\":\"\"},\"bgcolor\":\"#E5ECF6\",\"radialaxis\":{\"gridcolor\":\"white\",\"linecolor\":\"white\",\"ticks\":\"\"}},\"scene\":{\"xaxis\":{\"backgroundcolor\":\"#E5ECF6\",\"gridcolor\":\"white\",\"gridwidth\":2,\"linecolor\":\"white\",\"showbackground\":true,\"ticks\":\"\",\"zerolinecolor\":\"white\"},\"yaxis\":{\"backgroundcolor\":\"#E5ECF6\",\"gridcolor\":\"white\",\"gridwidth\":2,\"linecolor\":\"white\",\"showbackground\":true,\"ticks\":\"\",\"zerolinecolor\":\"white\"},\"zaxis\":{\"backgroundcolor\":\"#E5ECF6\",\"gridcolor\":\"white\",\"gridwidth\":2,\"linecolor\":\"white\",\"showbackground\":true,\"ticks\":\"\",\"zerolinecolor\":\"white\"}},\"shapedefaults\":{\"line\":{\"color\":\"#2a3f5f\"}},\"ternary\":{\"aaxis\":{\"gridcolor\":\"white\",\"linecolor\":\"white\",\"ticks\":\"\"},\"baxis\":{\"gridcolor\":\"white\",\"linecolor\":\"white\",\"ticks\":\"\"},\"bgcolor\":\"#E5ECF6\",\"caxis\":{\"gridcolor\":\"white\",\"linecolor\":\"white\",\"ticks\":\"\"}},\"title\":{\"x\":0.05},\"xaxis\":{\"automargin\":true,\"gridcolor\":\"white\",\"linecolor\":\"white\",\"ticks\":\"\",\"title\":{\"standoff\":15},\"zerolinecolor\":\"white\",\"zerolinewidth\":2},\"yaxis\":{\"automargin\":true,\"gridcolor\":\"white\",\"linecolor\":\"white\",\"ticks\":\"\",\"title\":{\"standoff\":15},\"zerolinecolor\":\"white\",\"zerolinewidth\":2}}},\"title\":{\"font\":{\"color\":\"#4D5663\"}},\"xaxis\":{\"gridcolor\":\"#E1E5ED\",\"showgrid\":true,\"tickfont\":{\"color\":\"#4D5663\"},\"title\":{\"font\":{\"color\":\"#4D5663\"},\"text\":\"\"},\"zerolinecolor\":\"#E1E5ED\"},\"yaxis\":{\"gridcolor\":\"#E1E5ED\",\"showgrid\":true,\"tickfont\":{\"color\":\"#4D5663\"},\"title\":{\"font\":{\"color\":\"#4D5663\"},\"text\":\"\"},\"zerolinecolor\":\"#E1E5ED\"}},                        {\"showLink\": true, \"linkText\": \"Export to plot.ly\", \"plotlyServerURL\": \"https://plot.ly\", \"responsive\": true}                    ).then(function(){\n",
       "                            \n",
       "var gd = document.getElementById('4b47fdd0-3732-469d-8f4a-702ba194de89');\n",
       "var x = new MutationObserver(function (mutations, observer) {{\n",
       "        var display = window.getComputedStyle(gd).display;\n",
       "        if (!display || display === 'none') {{\n",
       "            console.log([gd, 'removed!']);\n",
       "            Plotly.purge(gd);\n",
       "            observer.disconnect();\n",
       "        }}\n",
       "}});\n",
       "\n",
       "// Listen for the removal of the full notebook cells\n",
       "var notebookContainer = gd.closest('#notebook-container');\n",
       "if (notebookContainer) {{\n",
       "    x.observe(notebookContainer, {childList: true});\n",
       "}}\n",
       "\n",
       "// Listen for the clearing of the current output cell\n",
       "var outputEl = gd.closest('.output');\n",
       "if (outputEl) {{\n",
       "    x.observe(outputEl, {childList: true});\n",
       "}}\n",
       "\n",
       "                        })                };                });            </script>        </div>"
      ]
     },
     "metadata": {},
     "output_type": "display_data"
    }
   ],
   "source": [
    "df.count().iplot(kind='bar')"
   ]
  },
  {
   "cell_type": "markdown",
   "metadata": {},
   "source": [
    "## Boxplots"
   ]
  },
  {
   "cell_type": "code",
   "execution_count": 13,
   "metadata": {},
   "outputs": [
    {
     "data": {
      "application/vnd.plotly.v1+json": {
       "config": {
        "linkText": "Export to plot.ly",
        "plotlyServerURL": "https://plot.ly",
        "showLink": true
       },
       "data": [
        {
         "boxpoints": false,
         "line": {
          "width": 1.3
         },
         "marker": {
          "color": "rgba(255, 153, 51, 1.0)"
         },
         "name": "A",
         "orientation": "v",
         "type": "box",
         "y": [
          1.2376648357470055,
          -0.5588649056406358,
          0.40946706449563175,
          0.4298301337164253,
          0.07238270128864749,
          -0.20598883801382525,
          1.2385584747531542,
          -1.0633617765803824,
          0.3434542115634483,
          1.3645551658564248,
          -0.7290820511381018,
          -1.035624379248983,
          0.32740419197523757,
          -0.3351406777735119,
          -0.6995413769041855,
          -0.32313520691160347,
          -0.6968944913793241,
          -1.2658169541706465,
          1.8681787506166567,
          1.654531174173863,
          0.4323609959994185,
          0.13342603725333999,
          -0.25726923923873757,
          0.7180052009841095,
          1.403861120520268,
          1.4472639088688162,
          -0.6399257301458914,
          -1.1614404005478682,
          2.821851024615292,
          -0.45675635524671515,
          -1.5795633950159544,
          -0.36823092116578626,
          -1.0381007781369387,
          1.80093516549471,
          0.605519660199255,
          0.5520713257359585,
          1.0739598975916955,
          -0.08606957115270493,
          -0.5388402188322184,
          1.4131676971194618,
          -0.5605172697322097,
          -0.6056944769115583,
          -0.9428065238847683,
          1.3962914689468222,
          -0.9272551780488926,
          -0.16998328050440442,
          1.957273987112428,
          -0.08974156694888845,
          -0.6345160635027977,
          -0.4863315382609629,
          -0.6461642065112355,
          -0.4394231941140874,
          0.37048755383772125,
          0.5298402144160002,
          1.0054517069637832,
          1.1136464518705884,
          -2.158906419697583,
          2.1091061818145262,
          -1.0703594134064252,
          -0.5814437688577203,
          0.03924795414460957,
          1.006378179337866,
          -0.3903396632439928,
          -1.3561617236485808,
          -1.0708998832851322,
          1.5806859251958079,
          0.17179271377825836,
          -0.9047325249055707,
          1.1275038903666008,
          1.989443049293253,
          -1.090722702073496,
          -0.2993575416216889,
          -0.6394549917325748,
          -1.2244878399342731,
          1.6452364982836245,
          0.6177372762506392,
          -1.3176302335739636,
          0.03300243685919273,
          -1.0649093458079049,
          0.975689453023733,
          0.05122198401087867,
          -0.2976791863225247,
          -0.790150167428062,
          -0.6625271152615411,
          0.7860844830326141,
          -0.016153571380949677,
          -0.8598140138716176,
          -0.3185632602435938,
          -0.8067190607871518,
          -0.6147307859444832,
          0.6156300197507949,
          -0.9048669572075687,
          -0.2106043328452722,
          -1.0358044675788922,
          0.8941804936081772,
          0.6979637785733713,
          -0.8090777129605745,
          0.48770364177028785,
          -1.317158662969975,
          1.273288323901588
         ]
        },
        {
         "boxpoints": false,
         "line": {
          "width": 1.3
         },
         "marker": {
          "color": "rgba(55, 128, 191, 1.0)"
         },
         "name": "B",
         "orientation": "v",
         "type": "box",
         "y": [
          -0.5548235720002016,
          -0.46033933106280667,
          1.5866377741729345,
          -0.3272212503881288,
          0.03402138478618209,
          -0.7624627502472152,
          2.348882566100373,
          -0.4593864721542771,
          0.31916528326146887,
          -0.6902004464640703,
          -0.9071182373778008,
          0.8693879352151368,
          0.0908984501140434,
          1.439719510453182,
          -1.8632253399626302,
          -0.479055317221008,
          0.5925242567873134,
          0.9182777533280958,
          -0.7754625687794833,
          -2.6583226781800797,
          0.5484315599141389,
          -0.7042914583634231,
          -0.1764697624966167,
          0.2502484719538905,
          -0.04785972571489474,
          1.2294110679482604,
          -0.11427358475630707,
          -0.3697207652302923,
          1.6043967881949919,
          -1.339472912051616,
          -1.29217789705882,
          -0.36153222275651,
          1.022692009649764,
          0.16598675428648627,
          0.5551363037720237,
          0.6740029189118928,
          0.4826622004974322,
          -0.11755937452739242,
          -0.32126785538898134,
          0.7929988121107323,
          0.3951830074407376,
          -2.088496378240888,
          -0.8759883673140567,
          0.06364644137637034,
          0.39384361906406923,
          0.36875154769134777,
          -0.30784011826382807,
          0.7917959824498457,
          1.5677280244828602,
          -0.05900920362274808,
          1.0375464873238087,
          1.6379622252173518,
          -1.4057904636265286,
          0.5394882447018408,
          1.013559324777699,
          0.0317138450739195,
          -0.7447209913640487,
          0.20612512058230376,
          -1.7003724779460927,
          1.352623651396288,
          1.982935602840355,
          0.5068908613077829,
          -0.5164100240190705,
          0.630123868949732,
          0.7732102744966399,
          -1.2393677901893128,
          -0.3370213940892322,
          0.3483949651157315,
          -0.24066619524369812,
          0.6770539844969181,
          1.2288154644853018,
          -1.6743318035872083,
          -0.021365537352325627,
          -0.6672899618296045,
          0.10000066548559038,
          -1.7247613547037848,
          -0.05389893734429868,
          0.9180552257999586,
          0.48811130008099096,
          0.33920897319785864,
          -0.5707494319732833,
          -0.018216433868223143,
          -1.2482714701915105,
          -0.9430832695332753,
          0.7916447472466199,
          -0.06956062234436486,
          1.332297904497416,
          -0.4046384777011825,
          -0.7120292252325473,
          0.058700079993735624,
          -0.7810474905274281,
          -0.613129044372448,
          0.07107100611789133,
          -1.2234832464477743,
          -0.04915232875895141,
          -0.5740497723863638,
          -0.07084727333194477,
          -1.1230549919447825,
          1.2690967918899319,
          0.8833972953210805
         ]
        },
        {
         "boxpoints": false,
         "line": {
          "width": 1.3
         },
         "marker": {
          "color": "rgba(50, 171, 96, 1.0)"
         },
         "name": "C",
         "orientation": "v",
         "type": "box",
         "y": [
          -0.26906904181459984,
          0.2081365237057489,
          0.7434127044545952,
          -0.5803046955447627,
          1.0126419450126272,
          1.1938906824422673,
          1.2159765066535102,
          -0.3310849231718713,
          0.5077203376407015,
          0.34209242810181456,
          -0.11878946540649828,
          -0.4749705207550622,
          1.207185380191627,
          0.12943069644011224,
          1.3355989559232668,
          -0.7731247278756137,
          0.3807405717358539,
          0.266643240510313,
          -2.3777426803100257,
          0.0027779141300425035,
          0.1309034139658154,
          0.17238796318819677,
          0.27372680579883435,
          -1.1927389215889832,
          0.3873475119923371,
          1.718910613734451,
          -1.253580021353978,
          0.6034098698527122,
          -0.203623097256541,
          -0.5170646697402146,
          -0.16230635256296833,
          -0.6734102209160207,
          0.5196148131668465,
          0.29505417711255283,
          -2.3134073395997343,
          1.8201532702913714,
          0.9101868757665937,
          0.06780133898843106,
          -1.0766921698404543,
          2.3340108037093183,
          -0.5250312340582639,
          -1.2437738802864404,
          -1.6538668013395428,
          -0.45117417337726884,
          0.15832560576274293,
          -1.1549036467497915,
          -0.4138082042237622,
          2.3928142584894543,
          -0.9229286361133364,
          0.8269859271253687,
          -1.2267680346468983,
          -0.03157069409661295,
          0.8442269401278604,
          -0.8575855005126751,
          0.33113393835030586,
          -1.183084933062807,
          1.0417316110762198,
          0.7175987720056594,
          0.8814649528881313,
          0.28688702830024254,
          -1.2115696509980969,
          1.2056811520386082,
          0.3119990970994984,
          1.468750620432369,
          -0.03806325884520373,
          -1.1185715906259237,
          -0.08679478685379335,
          0.7972403161269461,
          0.631344147502726,
          -1.0025337810071915,
          0.13768162891975838,
          0.0050747807457603294,
          1.5723024365366773,
          -1.3892323025995186,
          -0.36639754856807305,
          2.2407998702377756,
          0.3819042754995391,
          0.050112072061411835,
          -0.43747120962076497,
          -0.5747401738028871,
          -1.1244149923334,
          0.7642250360111837,
          -2.5666888114649877,
          -1.915087613015398,
          1.630728006304569,
          0.6092488423656572,
          0.8161476087219586,
          -0.2471281885659989,
          0.29780268305984525,
          1.8544690780700486,
          0.6851016157507686,
          1.391156815114278,
          1.6541213644367931,
          0.6844302629511626,
          1.9796956636054142,
          0.2841274948328375,
          -1.1817696734719931,
          0.9864863478398745,
          -0.42745822098441166,
          1.5231821229104305
         ]
        },
        {
         "boxpoints": false,
         "line": {
          "width": 1.3
         },
         "marker": {
          "color": "rgba(128, 0, 128, 1.0)"
         },
         "name": "D",
         "orientation": "v",
         "type": "box",
         "y": [
          -0.4491421908640809,
          1.2029482993147849,
          0.25378214610395416,
          -1.5063801748777694,
          1.3893539198044096,
          -0.9432078965941402,
          -0.6446134035867747,
          0.8829828739161394,
          0.32252916422399003,
          0.3043863498359023,
          -0.29872535210843226,
          1.2219065843467145,
          -0.4384353103826866,
          0.1657212574596592,
          -0.10509909234048634,
          -2.243069716006099,
          1.4018508384967856,
          0.3359896311992802,
          0.18241104077563605,
          -0.38289345158000965,
          0.6989107400684714,
          0.09613322515106505,
          0.36708603588622446,
          1.0654167299756634,
          1.4046787193426418,
          0.12944956647884878,
          -0.5752600419634767,
          0.6611244163550766,
          -0.09600859876502027,
          -0.9127876016098776,
          0.7213829965251812,
          0.9790738769347126,
          0.5753829352579928,
          0.38501319741583534,
          -0.42639630856853616,
          0.1684574936406595,
          0.2233771854734719,
          0.7216612879731006,
          0.3659398767935382,
          -1.16920504499437,
          -1.6426211588162785,
          -0.023236051268636395,
          0.8781898056187787,
          -1.2695964066351786,
          -0.7388100105945554,
          -0.12831274961768427,
          -1.6893279797156782,
          -0.49448320610754015,
          0.3187977161816559,
          -0.6874489064136562,
          -0.5881057803215165,
          -1.6175080062644085,
          -0.13627568523939648,
          0.22454415947119186,
          0.8061210849250724,
          0.5771316513712762,
          0.1407443447222844,
          -1.21803004602897,
          1.5003507313842335,
          -0.5262134322632784,
          -0.7776486145049962,
          1.6498639151877899,
          -0.7003918202246326,
          -0.4751232877017714,
          1.0715211265223172,
          -0.5157879249215598,
          -1.5251799429116442,
          1.6960593842474612,
          -1.0974245911801566,
          0.8157835346436526,
          -0.42949996169374904,
          0.6705685225946463,
          0.6698422801457918,
          -0.5951528711771942,
          -0.4924206210373965,
          -0.03397542210465927,
          0.5070841906803677,
          0.08069046452911735,
          1.073276414332532,
          0.6560155256664106,
          -1.8358140238405625,
          -1.4564528505248389,
          -0.5211912942399656,
          1.1619745147625549,
          1.1520565316385558,
          -0.15629430700252106,
          -1.1310990092759103,
          -0.7064144271527389,
          0.5297706528090994,
          -0.23680306625286474,
          0.5322863071415616,
          -1.0345383389929206,
          0.054635002811138526,
          0.5207287140263027,
          0.2663792440154259,
          0.48963295811603796,
          1.0261660060415485,
          1.414486694783853,
          1.3797201341016805,
          0.4154231562235997
         ]
        }
       ],
       "layout": {
        "legend": {
         "bgcolor": "#F5F6F9",
         "font": {
          "color": "#4D5663"
         }
        },
        "paper_bgcolor": "#F5F6F9",
        "plot_bgcolor": "#F5F6F9",
        "template": {
         "data": {
          "bar": [
           {
            "error_x": {
             "color": "#2a3f5f"
            },
            "error_y": {
             "color": "#2a3f5f"
            },
            "marker": {
             "line": {
              "color": "#E5ECF6",
              "width": 0.5
             },
             "pattern": {
              "fillmode": "overlay",
              "size": 10,
              "solidity": 0.2
             }
            },
            "type": "bar"
           }
          ],
          "barpolar": [
           {
            "marker": {
             "line": {
              "color": "#E5ECF6",
              "width": 0.5
             },
             "pattern": {
              "fillmode": "overlay",
              "size": 10,
              "solidity": 0.2
             }
            },
            "type": "barpolar"
           }
          ],
          "carpet": [
           {
            "aaxis": {
             "endlinecolor": "#2a3f5f",
             "gridcolor": "white",
             "linecolor": "white",
             "minorgridcolor": "white",
             "startlinecolor": "#2a3f5f"
            },
            "baxis": {
             "endlinecolor": "#2a3f5f",
             "gridcolor": "white",
             "linecolor": "white",
             "minorgridcolor": "white",
             "startlinecolor": "#2a3f5f"
            },
            "type": "carpet"
           }
          ],
          "choropleth": [
           {
            "colorbar": {
             "outlinewidth": 0,
             "ticks": ""
            },
            "type": "choropleth"
           }
          ],
          "contour": [
           {
            "colorbar": {
             "outlinewidth": 0,
             "ticks": ""
            },
            "colorscale": [
             [
              0,
              "#0d0887"
             ],
             [
              0.1111111111111111,
              "#46039f"
             ],
             [
              0.2222222222222222,
              "#7201a8"
             ],
             [
              0.3333333333333333,
              "#9c179e"
             ],
             [
              0.4444444444444444,
              "#bd3786"
             ],
             [
              0.5555555555555556,
              "#d8576b"
             ],
             [
              0.6666666666666666,
              "#ed7953"
             ],
             [
              0.7777777777777778,
              "#fb9f3a"
             ],
             [
              0.8888888888888888,
              "#fdca26"
             ],
             [
              1,
              "#f0f921"
             ]
            ],
            "type": "contour"
           }
          ],
          "contourcarpet": [
           {
            "colorbar": {
             "outlinewidth": 0,
             "ticks": ""
            },
            "type": "contourcarpet"
           }
          ],
          "heatmap": [
           {
            "colorbar": {
             "outlinewidth": 0,
             "ticks": ""
            },
            "colorscale": [
             [
              0,
              "#0d0887"
             ],
             [
              0.1111111111111111,
              "#46039f"
             ],
             [
              0.2222222222222222,
              "#7201a8"
             ],
             [
              0.3333333333333333,
              "#9c179e"
             ],
             [
              0.4444444444444444,
              "#bd3786"
             ],
             [
              0.5555555555555556,
              "#d8576b"
             ],
             [
              0.6666666666666666,
              "#ed7953"
             ],
             [
              0.7777777777777778,
              "#fb9f3a"
             ],
             [
              0.8888888888888888,
              "#fdca26"
             ],
             [
              1,
              "#f0f921"
             ]
            ],
            "type": "heatmap"
           }
          ],
          "heatmapgl": [
           {
            "colorbar": {
             "outlinewidth": 0,
             "ticks": ""
            },
            "colorscale": [
             [
              0,
              "#0d0887"
             ],
             [
              0.1111111111111111,
              "#46039f"
             ],
             [
              0.2222222222222222,
              "#7201a8"
             ],
             [
              0.3333333333333333,
              "#9c179e"
             ],
             [
              0.4444444444444444,
              "#bd3786"
             ],
             [
              0.5555555555555556,
              "#d8576b"
             ],
             [
              0.6666666666666666,
              "#ed7953"
             ],
             [
              0.7777777777777778,
              "#fb9f3a"
             ],
             [
              0.8888888888888888,
              "#fdca26"
             ],
             [
              1,
              "#f0f921"
             ]
            ],
            "type": "heatmapgl"
           }
          ],
          "histogram": [
           {
            "marker": {
             "pattern": {
              "fillmode": "overlay",
              "size": 10,
              "solidity": 0.2
             }
            },
            "type": "histogram"
           }
          ],
          "histogram2d": [
           {
            "colorbar": {
             "outlinewidth": 0,
             "ticks": ""
            },
            "colorscale": [
             [
              0,
              "#0d0887"
             ],
             [
              0.1111111111111111,
              "#46039f"
             ],
             [
              0.2222222222222222,
              "#7201a8"
             ],
             [
              0.3333333333333333,
              "#9c179e"
             ],
             [
              0.4444444444444444,
              "#bd3786"
             ],
             [
              0.5555555555555556,
              "#d8576b"
             ],
             [
              0.6666666666666666,
              "#ed7953"
             ],
             [
              0.7777777777777778,
              "#fb9f3a"
             ],
             [
              0.8888888888888888,
              "#fdca26"
             ],
             [
              1,
              "#f0f921"
             ]
            ],
            "type": "histogram2d"
           }
          ],
          "histogram2dcontour": [
           {
            "colorbar": {
             "outlinewidth": 0,
             "ticks": ""
            },
            "colorscale": [
             [
              0,
              "#0d0887"
             ],
             [
              0.1111111111111111,
              "#46039f"
             ],
             [
              0.2222222222222222,
              "#7201a8"
             ],
             [
              0.3333333333333333,
              "#9c179e"
             ],
             [
              0.4444444444444444,
              "#bd3786"
             ],
             [
              0.5555555555555556,
              "#d8576b"
             ],
             [
              0.6666666666666666,
              "#ed7953"
             ],
             [
              0.7777777777777778,
              "#fb9f3a"
             ],
             [
              0.8888888888888888,
              "#fdca26"
             ],
             [
              1,
              "#f0f921"
             ]
            ],
            "type": "histogram2dcontour"
           }
          ],
          "mesh3d": [
           {
            "colorbar": {
             "outlinewidth": 0,
             "ticks": ""
            },
            "type": "mesh3d"
           }
          ],
          "parcoords": [
           {
            "line": {
             "colorbar": {
              "outlinewidth": 0,
              "ticks": ""
             }
            },
            "type": "parcoords"
           }
          ],
          "pie": [
           {
            "automargin": true,
            "type": "pie"
           }
          ],
          "scatter": [
           {
            "fillpattern": {
             "fillmode": "overlay",
             "size": 10,
             "solidity": 0.2
            },
            "type": "scatter"
           }
          ],
          "scatter3d": [
           {
            "line": {
             "colorbar": {
              "outlinewidth": 0,
              "ticks": ""
             }
            },
            "marker": {
             "colorbar": {
              "outlinewidth": 0,
              "ticks": ""
             }
            },
            "type": "scatter3d"
           }
          ],
          "scattercarpet": [
           {
            "marker": {
             "colorbar": {
              "outlinewidth": 0,
              "ticks": ""
             }
            },
            "type": "scattercarpet"
           }
          ],
          "scattergeo": [
           {
            "marker": {
             "colorbar": {
              "outlinewidth": 0,
              "ticks": ""
             }
            },
            "type": "scattergeo"
           }
          ],
          "scattergl": [
           {
            "marker": {
             "colorbar": {
              "outlinewidth": 0,
              "ticks": ""
             }
            },
            "type": "scattergl"
           }
          ],
          "scattermapbox": [
           {
            "marker": {
             "colorbar": {
              "outlinewidth": 0,
              "ticks": ""
             }
            },
            "type": "scattermapbox"
           }
          ],
          "scatterpolar": [
           {
            "marker": {
             "colorbar": {
              "outlinewidth": 0,
              "ticks": ""
             }
            },
            "type": "scatterpolar"
           }
          ],
          "scatterpolargl": [
           {
            "marker": {
             "colorbar": {
              "outlinewidth": 0,
              "ticks": ""
             }
            },
            "type": "scatterpolargl"
           }
          ],
          "scatterternary": [
           {
            "marker": {
             "colorbar": {
              "outlinewidth": 0,
              "ticks": ""
             }
            },
            "type": "scatterternary"
           }
          ],
          "surface": [
           {
            "colorbar": {
             "outlinewidth": 0,
             "ticks": ""
            },
            "colorscale": [
             [
              0,
              "#0d0887"
             ],
             [
              0.1111111111111111,
              "#46039f"
             ],
             [
              0.2222222222222222,
              "#7201a8"
             ],
             [
              0.3333333333333333,
              "#9c179e"
             ],
             [
              0.4444444444444444,
              "#bd3786"
             ],
             [
              0.5555555555555556,
              "#d8576b"
             ],
             [
              0.6666666666666666,
              "#ed7953"
             ],
             [
              0.7777777777777778,
              "#fb9f3a"
             ],
             [
              0.8888888888888888,
              "#fdca26"
             ],
             [
              1,
              "#f0f921"
             ]
            ],
            "type": "surface"
           }
          ],
          "table": [
           {
            "cells": {
             "fill": {
              "color": "#EBF0F8"
             },
             "line": {
              "color": "white"
             }
            },
            "header": {
             "fill": {
              "color": "#C8D4E3"
             },
             "line": {
              "color": "white"
             }
            },
            "type": "table"
           }
          ]
         },
         "layout": {
          "annotationdefaults": {
           "arrowcolor": "#2a3f5f",
           "arrowhead": 0,
           "arrowwidth": 1
          },
          "autotypenumbers": "strict",
          "coloraxis": {
           "colorbar": {
            "outlinewidth": 0,
            "ticks": ""
           }
          },
          "colorscale": {
           "diverging": [
            [
             0,
             "#8e0152"
            ],
            [
             0.1,
             "#c51b7d"
            ],
            [
             0.2,
             "#de77ae"
            ],
            [
             0.3,
             "#f1b6da"
            ],
            [
             0.4,
             "#fde0ef"
            ],
            [
             0.5,
             "#f7f7f7"
            ],
            [
             0.6,
             "#e6f5d0"
            ],
            [
             0.7,
             "#b8e186"
            ],
            [
             0.8,
             "#7fbc41"
            ],
            [
             0.9,
             "#4d9221"
            ],
            [
             1,
             "#276419"
            ]
           ],
           "sequential": [
            [
             0,
             "#0d0887"
            ],
            [
             0.1111111111111111,
             "#46039f"
            ],
            [
             0.2222222222222222,
             "#7201a8"
            ],
            [
             0.3333333333333333,
             "#9c179e"
            ],
            [
             0.4444444444444444,
             "#bd3786"
            ],
            [
             0.5555555555555556,
             "#d8576b"
            ],
            [
             0.6666666666666666,
             "#ed7953"
            ],
            [
             0.7777777777777778,
             "#fb9f3a"
            ],
            [
             0.8888888888888888,
             "#fdca26"
            ],
            [
             1,
             "#f0f921"
            ]
           ],
           "sequentialminus": [
            [
             0,
             "#0d0887"
            ],
            [
             0.1111111111111111,
             "#46039f"
            ],
            [
             0.2222222222222222,
             "#7201a8"
            ],
            [
             0.3333333333333333,
             "#9c179e"
            ],
            [
             0.4444444444444444,
             "#bd3786"
            ],
            [
             0.5555555555555556,
             "#d8576b"
            ],
            [
             0.6666666666666666,
             "#ed7953"
            ],
            [
             0.7777777777777778,
             "#fb9f3a"
            ],
            [
             0.8888888888888888,
             "#fdca26"
            ],
            [
             1,
             "#f0f921"
            ]
           ]
          },
          "colorway": [
           "#636efa",
           "#EF553B",
           "#00cc96",
           "#ab63fa",
           "#FFA15A",
           "#19d3f3",
           "#FF6692",
           "#B6E880",
           "#FF97FF",
           "#FECB52"
          ],
          "font": {
           "color": "#2a3f5f"
          },
          "geo": {
           "bgcolor": "white",
           "lakecolor": "white",
           "landcolor": "#E5ECF6",
           "showlakes": true,
           "showland": true,
           "subunitcolor": "white"
          },
          "hoverlabel": {
           "align": "left"
          },
          "hovermode": "closest",
          "mapbox": {
           "style": "light"
          },
          "paper_bgcolor": "white",
          "plot_bgcolor": "#E5ECF6",
          "polar": {
           "angularaxis": {
            "gridcolor": "white",
            "linecolor": "white",
            "ticks": ""
           },
           "bgcolor": "#E5ECF6",
           "radialaxis": {
            "gridcolor": "white",
            "linecolor": "white",
            "ticks": ""
           }
          },
          "scene": {
           "xaxis": {
            "backgroundcolor": "#E5ECF6",
            "gridcolor": "white",
            "gridwidth": 2,
            "linecolor": "white",
            "showbackground": true,
            "ticks": "",
            "zerolinecolor": "white"
           },
           "yaxis": {
            "backgroundcolor": "#E5ECF6",
            "gridcolor": "white",
            "gridwidth": 2,
            "linecolor": "white",
            "showbackground": true,
            "ticks": "",
            "zerolinecolor": "white"
           },
           "zaxis": {
            "backgroundcolor": "#E5ECF6",
            "gridcolor": "white",
            "gridwidth": 2,
            "linecolor": "white",
            "showbackground": true,
            "ticks": "",
            "zerolinecolor": "white"
           }
          },
          "shapedefaults": {
           "line": {
            "color": "#2a3f5f"
           }
          },
          "ternary": {
           "aaxis": {
            "gridcolor": "white",
            "linecolor": "white",
            "ticks": ""
           },
           "baxis": {
            "gridcolor": "white",
            "linecolor": "white",
            "ticks": ""
           },
           "bgcolor": "#E5ECF6",
           "caxis": {
            "gridcolor": "white",
            "linecolor": "white",
            "ticks": ""
           }
          },
          "title": {
           "x": 0.05
          },
          "xaxis": {
           "automargin": true,
           "gridcolor": "white",
           "linecolor": "white",
           "ticks": "",
           "title": {
            "standoff": 15
           },
           "zerolinecolor": "white",
           "zerolinewidth": 2
          },
          "yaxis": {
           "automargin": true,
           "gridcolor": "white",
           "linecolor": "white",
           "ticks": "",
           "title": {
            "standoff": 15
           },
           "zerolinecolor": "white",
           "zerolinewidth": 2
          }
         }
        },
        "title": {
         "font": {
          "color": "#4D5663"
         }
        },
        "xaxis": {
         "gridcolor": "#E1E5ED",
         "showgrid": true,
         "tickfont": {
          "color": "#4D5663"
         },
         "title": {
          "font": {
           "color": "#4D5663"
          },
          "text": ""
         },
         "zerolinecolor": "#E1E5ED"
        },
        "yaxis": {
         "gridcolor": "#E1E5ED",
         "showgrid": true,
         "tickfont": {
          "color": "#4D5663"
         },
         "title": {
          "font": {
           "color": "#4D5663"
          },
          "text": ""
         },
         "zerolinecolor": "#E1E5ED"
        }
       }
      },
      "text/html": [
       "<div>                            <div id=\"4dcf8367-e404-4413-b13d-ab8be8563776\" class=\"plotly-graph-div\" style=\"height:525px; width:100%;\"></div>            <script type=\"text/javascript\">                require([\"plotly\"], function(Plotly) {                    window.PLOTLYENV=window.PLOTLYENV || {};\n",
       "                    window.PLOTLYENV.BASE_URL='https://plot.ly';                                    if (document.getElementById(\"4dcf8367-e404-4413-b13d-ab8be8563776\")) {                    Plotly.newPlot(                        \"4dcf8367-e404-4413-b13d-ab8be8563776\",                        [{\"boxpoints\":false,\"line\":{\"width\":1.3},\"marker\":{\"color\":\"rgba(255, 153, 51, 1.0)\"},\"name\":\"A\",\"orientation\":\"v\",\"y\":[1.2376648357470055,-0.5588649056406358,0.40946706449563175,0.4298301337164253,0.07238270128864749,-0.20598883801382525,1.2385584747531542,-1.0633617765803824,0.3434542115634483,1.3645551658564248,-0.7290820511381018,-1.035624379248983,0.32740419197523757,-0.3351406777735119,-0.6995413769041855,-0.32313520691160347,-0.6968944913793241,-1.2658169541706465,1.8681787506166567,1.654531174173863,0.4323609959994185,0.13342603725333999,-0.25726923923873757,0.7180052009841095,1.403861120520268,1.4472639088688162,-0.6399257301458914,-1.1614404005478682,2.821851024615292,-0.45675635524671515,-1.5795633950159544,-0.36823092116578626,-1.0381007781369387,1.80093516549471,0.605519660199255,0.5520713257359585,1.0739598975916955,-0.08606957115270493,-0.5388402188322184,1.4131676971194618,-0.5605172697322097,-0.6056944769115583,-0.9428065238847683,1.3962914689468222,-0.9272551780488926,-0.16998328050440442,1.957273987112428,-0.08974156694888845,-0.6345160635027977,-0.4863315382609629,-0.6461642065112355,-0.4394231941140874,0.37048755383772125,0.5298402144160002,1.0054517069637832,1.1136464518705884,-2.158906419697583,2.1091061818145262,-1.0703594134064252,-0.5814437688577203,0.03924795414460957,1.006378179337866,-0.3903396632439928,-1.3561617236485808,-1.0708998832851322,1.5806859251958079,0.17179271377825836,-0.9047325249055707,1.1275038903666008,1.989443049293253,-1.090722702073496,-0.2993575416216889,-0.6394549917325748,-1.2244878399342731,1.6452364982836245,0.6177372762506392,-1.3176302335739636,0.03300243685919273,-1.0649093458079049,0.975689453023733,0.05122198401087867,-0.2976791863225247,-0.790150167428062,-0.6625271152615411,0.7860844830326141,-0.016153571380949677,-0.8598140138716176,-0.3185632602435938,-0.8067190607871518,-0.6147307859444832,0.6156300197507949,-0.9048669572075687,-0.2106043328452722,-1.0358044675788922,0.8941804936081772,0.6979637785733713,-0.8090777129605745,0.48770364177028785,-1.317158662969975,1.273288323901588],\"type\":\"box\"},{\"boxpoints\":false,\"line\":{\"width\":1.3},\"marker\":{\"color\":\"rgba(55, 128, 191, 1.0)\"},\"name\":\"B\",\"orientation\":\"v\",\"y\":[-0.5548235720002016,-0.46033933106280667,1.5866377741729345,-0.3272212503881288,0.03402138478618209,-0.7624627502472152,2.348882566100373,-0.4593864721542771,0.31916528326146887,-0.6902004464640703,-0.9071182373778008,0.8693879352151368,0.0908984501140434,1.439719510453182,-1.8632253399626302,-0.479055317221008,0.5925242567873134,0.9182777533280958,-0.7754625687794833,-2.6583226781800797,0.5484315599141389,-0.7042914583634231,-0.1764697624966167,0.2502484719538905,-0.04785972571489474,1.2294110679482604,-0.11427358475630707,-0.3697207652302923,1.6043967881949919,-1.339472912051616,-1.29217789705882,-0.36153222275651,1.022692009649764,0.16598675428648627,0.5551363037720237,0.6740029189118928,0.4826622004974322,-0.11755937452739242,-0.32126785538898134,0.7929988121107323,0.3951830074407376,-2.088496378240888,-0.8759883673140567,0.06364644137637034,0.39384361906406923,0.36875154769134777,-0.30784011826382807,0.7917959824498457,1.5677280244828602,-0.05900920362274808,1.0375464873238087,1.6379622252173518,-1.4057904636265286,0.5394882447018408,1.013559324777699,0.0317138450739195,-0.7447209913640487,0.20612512058230376,-1.7003724779460927,1.352623651396288,1.982935602840355,0.5068908613077829,-0.5164100240190705,0.630123868949732,0.7732102744966399,-1.2393677901893128,-0.3370213940892322,0.3483949651157315,-0.24066619524369812,0.6770539844969181,1.2288154644853018,-1.6743318035872083,-0.021365537352325627,-0.6672899618296045,0.10000066548559038,-1.7247613547037848,-0.05389893734429868,0.9180552257999586,0.48811130008099096,0.33920897319785864,-0.5707494319732833,-0.018216433868223143,-1.2482714701915105,-0.9430832695332753,0.7916447472466199,-0.06956062234436486,1.332297904497416,-0.4046384777011825,-0.7120292252325473,0.058700079993735624,-0.7810474905274281,-0.613129044372448,0.07107100611789133,-1.2234832464477743,-0.04915232875895141,-0.5740497723863638,-0.07084727333194477,-1.1230549919447825,1.2690967918899319,0.8833972953210805],\"type\":\"box\"},{\"boxpoints\":false,\"line\":{\"width\":1.3},\"marker\":{\"color\":\"rgba(50, 171, 96, 1.0)\"},\"name\":\"C\",\"orientation\":\"v\",\"y\":[-0.26906904181459984,0.2081365237057489,0.7434127044545952,-0.5803046955447627,1.0126419450126272,1.1938906824422673,1.2159765066535102,-0.3310849231718713,0.5077203376407015,0.34209242810181456,-0.11878946540649828,-0.4749705207550622,1.207185380191627,0.12943069644011224,1.3355989559232668,-0.7731247278756137,0.3807405717358539,0.266643240510313,-2.3777426803100257,0.0027779141300425035,0.1309034139658154,0.17238796318819677,0.27372680579883435,-1.1927389215889832,0.3873475119923371,1.718910613734451,-1.253580021353978,0.6034098698527122,-0.203623097256541,-0.5170646697402146,-0.16230635256296833,-0.6734102209160207,0.5196148131668465,0.29505417711255283,-2.3134073395997343,1.8201532702913714,0.9101868757665937,0.06780133898843106,-1.0766921698404543,2.3340108037093183,-0.5250312340582639,-1.2437738802864404,-1.6538668013395428,-0.45117417337726884,0.15832560576274293,-1.1549036467497915,-0.4138082042237622,2.3928142584894543,-0.9229286361133364,0.8269859271253687,-1.2267680346468983,-0.03157069409661295,0.8442269401278604,-0.8575855005126751,0.33113393835030586,-1.183084933062807,1.0417316110762198,0.7175987720056594,0.8814649528881313,0.28688702830024254,-1.2115696509980969,1.2056811520386082,0.3119990970994984,1.468750620432369,-0.03806325884520373,-1.1185715906259237,-0.08679478685379335,0.7972403161269461,0.631344147502726,-1.0025337810071915,0.13768162891975838,0.0050747807457603294,1.5723024365366773,-1.3892323025995186,-0.36639754856807305,2.2407998702377756,0.3819042754995391,0.050112072061411835,-0.43747120962076497,-0.5747401738028871,-1.1244149923334,0.7642250360111837,-2.5666888114649877,-1.915087613015398,1.630728006304569,0.6092488423656572,0.8161476087219586,-0.2471281885659989,0.29780268305984525,1.8544690780700486,0.6851016157507686,1.391156815114278,1.6541213644367931,0.6844302629511626,1.9796956636054142,0.2841274948328375,-1.1817696734719931,0.9864863478398745,-0.42745822098441166,1.5231821229104305],\"type\":\"box\"},{\"boxpoints\":false,\"line\":{\"width\":1.3},\"marker\":{\"color\":\"rgba(128, 0, 128, 1.0)\"},\"name\":\"D\",\"orientation\":\"v\",\"y\":[-0.4491421908640809,1.2029482993147849,0.25378214610395416,-1.5063801748777694,1.3893539198044096,-0.9432078965941402,-0.6446134035867747,0.8829828739161394,0.32252916422399003,0.3043863498359023,-0.29872535210843226,1.2219065843467145,-0.4384353103826866,0.1657212574596592,-0.10509909234048634,-2.243069716006099,1.4018508384967856,0.3359896311992802,0.18241104077563605,-0.38289345158000965,0.6989107400684714,0.09613322515106505,0.36708603588622446,1.0654167299756634,1.4046787193426418,0.12944956647884878,-0.5752600419634767,0.6611244163550766,-0.09600859876502027,-0.9127876016098776,0.7213829965251812,0.9790738769347126,0.5753829352579928,0.38501319741583534,-0.42639630856853616,0.1684574936406595,0.2233771854734719,0.7216612879731006,0.3659398767935382,-1.16920504499437,-1.6426211588162785,-0.023236051268636395,0.8781898056187787,-1.2695964066351786,-0.7388100105945554,-0.12831274961768427,-1.6893279797156782,-0.49448320610754015,0.3187977161816559,-0.6874489064136562,-0.5881057803215165,-1.6175080062644085,-0.13627568523939648,0.22454415947119186,0.8061210849250724,0.5771316513712762,0.1407443447222844,-1.21803004602897,1.5003507313842335,-0.5262134322632784,-0.7776486145049962,1.6498639151877899,-0.7003918202246326,-0.4751232877017714,1.0715211265223172,-0.5157879249215598,-1.5251799429116442,1.6960593842474612,-1.0974245911801566,0.8157835346436526,-0.42949996169374904,0.6705685225946463,0.6698422801457918,-0.5951528711771942,-0.4924206210373965,-0.03397542210465927,0.5070841906803677,0.08069046452911735,1.073276414332532,0.6560155256664106,-1.8358140238405625,-1.4564528505248389,-0.5211912942399656,1.1619745147625549,1.1520565316385558,-0.15629430700252106,-1.1310990092759103,-0.7064144271527389,0.5297706528090994,-0.23680306625286474,0.5322863071415616,-1.0345383389929206,0.054635002811138526,0.5207287140263027,0.2663792440154259,0.48963295811603796,1.0261660060415485,1.414486694783853,1.3797201341016805,0.4154231562235997],\"type\":\"box\"}],                        {\"legend\":{\"bgcolor\":\"#F5F6F9\",\"font\":{\"color\":\"#4D5663\"}},\"paper_bgcolor\":\"#F5F6F9\",\"plot_bgcolor\":\"#F5F6F9\",\"template\":{\"data\":{\"barpolar\":[{\"marker\":{\"line\":{\"color\":\"#E5ECF6\",\"width\":0.5},\"pattern\":{\"fillmode\":\"overlay\",\"size\":10,\"solidity\":0.2}},\"type\":\"barpolar\"}],\"bar\":[{\"error_x\":{\"color\":\"#2a3f5f\"},\"error_y\":{\"color\":\"#2a3f5f\"},\"marker\":{\"line\":{\"color\":\"#E5ECF6\",\"width\":0.5},\"pattern\":{\"fillmode\":\"overlay\",\"size\":10,\"solidity\":0.2}},\"type\":\"bar\"}],\"carpet\":[{\"aaxis\":{\"endlinecolor\":\"#2a3f5f\",\"gridcolor\":\"white\",\"linecolor\":\"white\",\"minorgridcolor\":\"white\",\"startlinecolor\":\"#2a3f5f\"},\"baxis\":{\"endlinecolor\":\"#2a3f5f\",\"gridcolor\":\"white\",\"linecolor\":\"white\",\"minorgridcolor\":\"white\",\"startlinecolor\":\"#2a3f5f\"},\"type\":\"carpet\"}],\"choropleth\":[{\"colorbar\":{\"outlinewidth\":0,\"ticks\":\"\"},\"type\":\"choropleth\"}],\"contourcarpet\":[{\"colorbar\":{\"outlinewidth\":0,\"ticks\":\"\"},\"type\":\"contourcarpet\"}],\"contour\":[{\"colorbar\":{\"outlinewidth\":0,\"ticks\":\"\"},\"colorscale\":[[0.0,\"#0d0887\"],[0.1111111111111111,\"#46039f\"],[0.2222222222222222,\"#7201a8\"],[0.3333333333333333,\"#9c179e\"],[0.4444444444444444,\"#bd3786\"],[0.5555555555555556,\"#d8576b\"],[0.6666666666666666,\"#ed7953\"],[0.7777777777777778,\"#fb9f3a\"],[0.8888888888888888,\"#fdca26\"],[1.0,\"#f0f921\"]],\"type\":\"contour\"}],\"heatmapgl\":[{\"colorbar\":{\"outlinewidth\":0,\"ticks\":\"\"},\"colorscale\":[[0.0,\"#0d0887\"],[0.1111111111111111,\"#46039f\"],[0.2222222222222222,\"#7201a8\"],[0.3333333333333333,\"#9c179e\"],[0.4444444444444444,\"#bd3786\"],[0.5555555555555556,\"#d8576b\"],[0.6666666666666666,\"#ed7953\"],[0.7777777777777778,\"#fb9f3a\"],[0.8888888888888888,\"#fdca26\"],[1.0,\"#f0f921\"]],\"type\":\"heatmapgl\"}],\"heatmap\":[{\"colorbar\":{\"outlinewidth\":0,\"ticks\":\"\"},\"colorscale\":[[0.0,\"#0d0887\"],[0.1111111111111111,\"#46039f\"],[0.2222222222222222,\"#7201a8\"],[0.3333333333333333,\"#9c179e\"],[0.4444444444444444,\"#bd3786\"],[0.5555555555555556,\"#d8576b\"],[0.6666666666666666,\"#ed7953\"],[0.7777777777777778,\"#fb9f3a\"],[0.8888888888888888,\"#fdca26\"],[1.0,\"#f0f921\"]],\"type\":\"heatmap\"}],\"histogram2dcontour\":[{\"colorbar\":{\"outlinewidth\":0,\"ticks\":\"\"},\"colorscale\":[[0.0,\"#0d0887\"],[0.1111111111111111,\"#46039f\"],[0.2222222222222222,\"#7201a8\"],[0.3333333333333333,\"#9c179e\"],[0.4444444444444444,\"#bd3786\"],[0.5555555555555556,\"#d8576b\"],[0.6666666666666666,\"#ed7953\"],[0.7777777777777778,\"#fb9f3a\"],[0.8888888888888888,\"#fdca26\"],[1.0,\"#f0f921\"]],\"type\":\"histogram2dcontour\"}],\"histogram2d\":[{\"colorbar\":{\"outlinewidth\":0,\"ticks\":\"\"},\"colorscale\":[[0.0,\"#0d0887\"],[0.1111111111111111,\"#46039f\"],[0.2222222222222222,\"#7201a8\"],[0.3333333333333333,\"#9c179e\"],[0.4444444444444444,\"#bd3786\"],[0.5555555555555556,\"#d8576b\"],[0.6666666666666666,\"#ed7953\"],[0.7777777777777778,\"#fb9f3a\"],[0.8888888888888888,\"#fdca26\"],[1.0,\"#f0f921\"]],\"type\":\"histogram2d\"}],\"histogram\":[{\"marker\":{\"pattern\":{\"fillmode\":\"overlay\",\"size\":10,\"solidity\":0.2}},\"type\":\"histogram\"}],\"mesh3d\":[{\"colorbar\":{\"outlinewidth\":0,\"ticks\":\"\"},\"type\":\"mesh3d\"}],\"parcoords\":[{\"line\":{\"colorbar\":{\"outlinewidth\":0,\"ticks\":\"\"}},\"type\":\"parcoords\"}],\"pie\":[{\"automargin\":true,\"type\":\"pie\"}],\"scatter3d\":[{\"line\":{\"colorbar\":{\"outlinewidth\":0,\"ticks\":\"\"}},\"marker\":{\"colorbar\":{\"outlinewidth\":0,\"ticks\":\"\"}},\"type\":\"scatter3d\"}],\"scattercarpet\":[{\"marker\":{\"colorbar\":{\"outlinewidth\":0,\"ticks\":\"\"}},\"type\":\"scattercarpet\"}],\"scattergeo\":[{\"marker\":{\"colorbar\":{\"outlinewidth\":0,\"ticks\":\"\"}},\"type\":\"scattergeo\"}],\"scattergl\":[{\"marker\":{\"colorbar\":{\"outlinewidth\":0,\"ticks\":\"\"}},\"type\":\"scattergl\"}],\"scattermapbox\":[{\"marker\":{\"colorbar\":{\"outlinewidth\":0,\"ticks\":\"\"}},\"type\":\"scattermapbox\"}],\"scatterpolargl\":[{\"marker\":{\"colorbar\":{\"outlinewidth\":0,\"ticks\":\"\"}},\"type\":\"scatterpolargl\"}],\"scatterpolar\":[{\"marker\":{\"colorbar\":{\"outlinewidth\":0,\"ticks\":\"\"}},\"type\":\"scatterpolar\"}],\"scatter\":[{\"fillpattern\":{\"fillmode\":\"overlay\",\"size\":10,\"solidity\":0.2},\"type\":\"scatter\"}],\"scatterternary\":[{\"marker\":{\"colorbar\":{\"outlinewidth\":0,\"ticks\":\"\"}},\"type\":\"scatterternary\"}],\"surface\":[{\"colorbar\":{\"outlinewidth\":0,\"ticks\":\"\"},\"colorscale\":[[0.0,\"#0d0887\"],[0.1111111111111111,\"#46039f\"],[0.2222222222222222,\"#7201a8\"],[0.3333333333333333,\"#9c179e\"],[0.4444444444444444,\"#bd3786\"],[0.5555555555555556,\"#d8576b\"],[0.6666666666666666,\"#ed7953\"],[0.7777777777777778,\"#fb9f3a\"],[0.8888888888888888,\"#fdca26\"],[1.0,\"#f0f921\"]],\"type\":\"surface\"}],\"table\":[{\"cells\":{\"fill\":{\"color\":\"#EBF0F8\"},\"line\":{\"color\":\"white\"}},\"header\":{\"fill\":{\"color\":\"#C8D4E3\"},\"line\":{\"color\":\"white\"}},\"type\":\"table\"}]},\"layout\":{\"annotationdefaults\":{\"arrowcolor\":\"#2a3f5f\",\"arrowhead\":0,\"arrowwidth\":1},\"autotypenumbers\":\"strict\",\"coloraxis\":{\"colorbar\":{\"outlinewidth\":0,\"ticks\":\"\"}},\"colorscale\":{\"diverging\":[[0,\"#8e0152\"],[0.1,\"#c51b7d\"],[0.2,\"#de77ae\"],[0.3,\"#f1b6da\"],[0.4,\"#fde0ef\"],[0.5,\"#f7f7f7\"],[0.6,\"#e6f5d0\"],[0.7,\"#b8e186\"],[0.8,\"#7fbc41\"],[0.9,\"#4d9221\"],[1,\"#276419\"]],\"sequential\":[[0.0,\"#0d0887\"],[0.1111111111111111,\"#46039f\"],[0.2222222222222222,\"#7201a8\"],[0.3333333333333333,\"#9c179e\"],[0.4444444444444444,\"#bd3786\"],[0.5555555555555556,\"#d8576b\"],[0.6666666666666666,\"#ed7953\"],[0.7777777777777778,\"#fb9f3a\"],[0.8888888888888888,\"#fdca26\"],[1.0,\"#f0f921\"]],\"sequentialminus\":[[0.0,\"#0d0887\"],[0.1111111111111111,\"#46039f\"],[0.2222222222222222,\"#7201a8\"],[0.3333333333333333,\"#9c179e\"],[0.4444444444444444,\"#bd3786\"],[0.5555555555555556,\"#d8576b\"],[0.6666666666666666,\"#ed7953\"],[0.7777777777777778,\"#fb9f3a\"],[0.8888888888888888,\"#fdca26\"],[1.0,\"#f0f921\"]]},\"colorway\":[\"#636efa\",\"#EF553B\",\"#00cc96\",\"#ab63fa\",\"#FFA15A\",\"#19d3f3\",\"#FF6692\",\"#B6E880\",\"#FF97FF\",\"#FECB52\"],\"font\":{\"color\":\"#2a3f5f\"},\"geo\":{\"bgcolor\":\"white\",\"lakecolor\":\"white\",\"landcolor\":\"#E5ECF6\",\"showlakes\":true,\"showland\":true,\"subunitcolor\":\"white\"},\"hoverlabel\":{\"align\":\"left\"},\"hovermode\":\"closest\",\"mapbox\":{\"style\":\"light\"},\"paper_bgcolor\":\"white\",\"plot_bgcolor\":\"#E5ECF6\",\"polar\":{\"angularaxis\":{\"gridcolor\":\"white\",\"linecolor\":\"white\",\"ticks\":\"\"},\"bgcolor\":\"#E5ECF6\",\"radialaxis\":{\"gridcolor\":\"white\",\"linecolor\":\"white\",\"ticks\":\"\"}},\"scene\":{\"xaxis\":{\"backgroundcolor\":\"#E5ECF6\",\"gridcolor\":\"white\",\"gridwidth\":2,\"linecolor\":\"white\",\"showbackground\":true,\"ticks\":\"\",\"zerolinecolor\":\"white\"},\"yaxis\":{\"backgroundcolor\":\"#E5ECF6\",\"gridcolor\":\"white\",\"gridwidth\":2,\"linecolor\":\"white\",\"showbackground\":true,\"ticks\":\"\",\"zerolinecolor\":\"white\"},\"zaxis\":{\"backgroundcolor\":\"#E5ECF6\",\"gridcolor\":\"white\",\"gridwidth\":2,\"linecolor\":\"white\",\"showbackground\":true,\"ticks\":\"\",\"zerolinecolor\":\"white\"}},\"shapedefaults\":{\"line\":{\"color\":\"#2a3f5f\"}},\"ternary\":{\"aaxis\":{\"gridcolor\":\"white\",\"linecolor\":\"white\",\"ticks\":\"\"},\"baxis\":{\"gridcolor\":\"white\",\"linecolor\":\"white\",\"ticks\":\"\"},\"bgcolor\":\"#E5ECF6\",\"caxis\":{\"gridcolor\":\"white\",\"linecolor\":\"white\",\"ticks\":\"\"}},\"title\":{\"x\":0.05},\"xaxis\":{\"automargin\":true,\"gridcolor\":\"white\",\"linecolor\":\"white\",\"ticks\":\"\",\"title\":{\"standoff\":15},\"zerolinecolor\":\"white\",\"zerolinewidth\":2},\"yaxis\":{\"automargin\":true,\"gridcolor\":\"white\",\"linecolor\":\"white\",\"ticks\":\"\",\"title\":{\"standoff\":15},\"zerolinecolor\":\"white\",\"zerolinewidth\":2}}},\"title\":{\"font\":{\"color\":\"#4D5663\"}},\"xaxis\":{\"gridcolor\":\"#E1E5ED\",\"showgrid\":true,\"tickfont\":{\"color\":\"#4D5663\"},\"title\":{\"font\":{\"color\":\"#4D5663\"},\"text\":\"\"},\"zerolinecolor\":\"#E1E5ED\"},\"yaxis\":{\"gridcolor\":\"#E1E5ED\",\"showgrid\":true,\"tickfont\":{\"color\":\"#4D5663\"},\"title\":{\"font\":{\"color\":\"#4D5663\"},\"text\":\"\"},\"zerolinecolor\":\"#E1E5ED\"}},                        {\"showLink\": true, \"linkText\": \"Export to plot.ly\", \"plotlyServerURL\": \"https://plot.ly\", \"responsive\": true}                    ).then(function(){\n",
       "                            \n",
       "var gd = document.getElementById('4dcf8367-e404-4413-b13d-ab8be8563776');\n",
       "var x = new MutationObserver(function (mutations, observer) {{\n",
       "        var display = window.getComputedStyle(gd).display;\n",
       "        if (!display || display === 'none') {{\n",
       "            console.log([gd, 'removed!']);\n",
       "            Plotly.purge(gd);\n",
       "            observer.disconnect();\n",
       "        }}\n",
       "}});\n",
       "\n",
       "// Listen for the removal of the full notebook cells\n",
       "var notebookContainer = gd.closest('#notebook-container');\n",
       "if (notebookContainer) {{\n",
       "    x.observe(notebookContainer, {childList: true});\n",
       "}}\n",
       "\n",
       "// Listen for the clearing of the current output cell\n",
       "var outputEl = gd.closest('.output');\n",
       "if (outputEl) {{\n",
       "    x.observe(outputEl, {childList: true});\n",
       "}}\n",
       "\n",
       "                        })                };                });            </script>        </div>"
      ]
     },
     "metadata": {},
     "output_type": "display_data"
    }
   ],
   "source": [
    "df.iplot(kind='box')"
   ]
  },
  {
   "cell_type": "markdown",
   "metadata": {},
   "source": [
    "## 3d Surface"
   ]
  },
  {
   "cell_type": "code",
   "execution_count": 14,
   "metadata": {},
   "outputs": [
    {
     "data": {
      "application/vnd.plotly.v1+json": {
       "config": {
        "linkText": "Export to plot.ly",
        "plotlyServerURL": "https://plot.ly",
        "showLink": true
       },
       "data": [
        {
         "colorscale": [
          [
           0,
           "rgb(165,0,38)"
          ],
          [
           0.1,
           "rgb(215,48,39)"
          ],
          [
           0.2,
           "rgb(244,109,67)"
          ],
          [
           0.3,
           "rgb(253,174,97)"
          ],
          [
           0.4,
           "rgb(254,224,144)"
          ],
          [
           0.5,
           "rgb(255,255,191)"
          ],
          [
           0.6,
           "rgb(224,243,248)"
          ],
          [
           0.7,
           "rgb(171,217,233)"
          ],
          [
           0.8,
           "rgb(116,173,209)"
          ],
          [
           0.9,
           "rgb(69,117,180)"
          ],
          [
           1,
           "rgb(49,54,149)"
          ]
         ],
         "type": "surface",
         "x": [
          0,
          1,
          2,
          3,
          4
         ],
         "y": [
          "x",
          "y",
          "z"
         ],
         "z": [
          [
           1,
           2,
           3,
           4,
           5
          ],
          [
           10,
           20,
           30,
           20,
           10
          ],
          [
           5,
           4,
           3,
           2,
           1
          ]
         ]
        }
       ],
       "layout": {
        "legend": {
         "bgcolor": "#F5F6F9",
         "font": {
          "color": "#4D5663"
         }
        },
        "paper_bgcolor": "#F5F6F9",
        "plot_bgcolor": "#F5F6F9",
        "template": {
         "data": {
          "bar": [
           {
            "error_x": {
             "color": "#2a3f5f"
            },
            "error_y": {
             "color": "#2a3f5f"
            },
            "marker": {
             "line": {
              "color": "#E5ECF6",
              "width": 0.5
             },
             "pattern": {
              "fillmode": "overlay",
              "size": 10,
              "solidity": 0.2
             }
            },
            "type": "bar"
           }
          ],
          "barpolar": [
           {
            "marker": {
             "line": {
              "color": "#E5ECF6",
              "width": 0.5
             },
             "pattern": {
              "fillmode": "overlay",
              "size": 10,
              "solidity": 0.2
             }
            },
            "type": "barpolar"
           }
          ],
          "carpet": [
           {
            "aaxis": {
             "endlinecolor": "#2a3f5f",
             "gridcolor": "white",
             "linecolor": "white",
             "minorgridcolor": "white",
             "startlinecolor": "#2a3f5f"
            },
            "baxis": {
             "endlinecolor": "#2a3f5f",
             "gridcolor": "white",
             "linecolor": "white",
             "minorgridcolor": "white",
             "startlinecolor": "#2a3f5f"
            },
            "type": "carpet"
           }
          ],
          "choropleth": [
           {
            "colorbar": {
             "outlinewidth": 0,
             "ticks": ""
            },
            "type": "choropleth"
           }
          ],
          "contour": [
           {
            "colorbar": {
             "outlinewidth": 0,
             "ticks": ""
            },
            "colorscale": [
             [
              0,
              "#0d0887"
             ],
             [
              0.1111111111111111,
              "#46039f"
             ],
             [
              0.2222222222222222,
              "#7201a8"
             ],
             [
              0.3333333333333333,
              "#9c179e"
             ],
             [
              0.4444444444444444,
              "#bd3786"
             ],
             [
              0.5555555555555556,
              "#d8576b"
             ],
             [
              0.6666666666666666,
              "#ed7953"
             ],
             [
              0.7777777777777778,
              "#fb9f3a"
             ],
             [
              0.8888888888888888,
              "#fdca26"
             ],
             [
              1,
              "#f0f921"
             ]
            ],
            "type": "contour"
           }
          ],
          "contourcarpet": [
           {
            "colorbar": {
             "outlinewidth": 0,
             "ticks": ""
            },
            "type": "contourcarpet"
           }
          ],
          "heatmap": [
           {
            "colorbar": {
             "outlinewidth": 0,
             "ticks": ""
            },
            "colorscale": [
             [
              0,
              "#0d0887"
             ],
             [
              0.1111111111111111,
              "#46039f"
             ],
             [
              0.2222222222222222,
              "#7201a8"
             ],
             [
              0.3333333333333333,
              "#9c179e"
             ],
             [
              0.4444444444444444,
              "#bd3786"
             ],
             [
              0.5555555555555556,
              "#d8576b"
             ],
             [
              0.6666666666666666,
              "#ed7953"
             ],
             [
              0.7777777777777778,
              "#fb9f3a"
             ],
             [
              0.8888888888888888,
              "#fdca26"
             ],
             [
              1,
              "#f0f921"
             ]
            ],
            "type": "heatmap"
           }
          ],
          "heatmapgl": [
           {
            "colorbar": {
             "outlinewidth": 0,
             "ticks": ""
            },
            "colorscale": [
             [
              0,
              "#0d0887"
             ],
             [
              0.1111111111111111,
              "#46039f"
             ],
             [
              0.2222222222222222,
              "#7201a8"
             ],
             [
              0.3333333333333333,
              "#9c179e"
             ],
             [
              0.4444444444444444,
              "#bd3786"
             ],
             [
              0.5555555555555556,
              "#d8576b"
             ],
             [
              0.6666666666666666,
              "#ed7953"
             ],
             [
              0.7777777777777778,
              "#fb9f3a"
             ],
             [
              0.8888888888888888,
              "#fdca26"
             ],
             [
              1,
              "#f0f921"
             ]
            ],
            "type": "heatmapgl"
           }
          ],
          "histogram": [
           {
            "marker": {
             "pattern": {
              "fillmode": "overlay",
              "size": 10,
              "solidity": 0.2
             }
            },
            "type": "histogram"
           }
          ],
          "histogram2d": [
           {
            "colorbar": {
             "outlinewidth": 0,
             "ticks": ""
            },
            "colorscale": [
             [
              0,
              "#0d0887"
             ],
             [
              0.1111111111111111,
              "#46039f"
             ],
             [
              0.2222222222222222,
              "#7201a8"
             ],
             [
              0.3333333333333333,
              "#9c179e"
             ],
             [
              0.4444444444444444,
              "#bd3786"
             ],
             [
              0.5555555555555556,
              "#d8576b"
             ],
             [
              0.6666666666666666,
              "#ed7953"
             ],
             [
              0.7777777777777778,
              "#fb9f3a"
             ],
             [
              0.8888888888888888,
              "#fdca26"
             ],
             [
              1,
              "#f0f921"
             ]
            ],
            "type": "histogram2d"
           }
          ],
          "histogram2dcontour": [
           {
            "colorbar": {
             "outlinewidth": 0,
             "ticks": ""
            },
            "colorscale": [
             [
              0,
              "#0d0887"
             ],
             [
              0.1111111111111111,
              "#46039f"
             ],
             [
              0.2222222222222222,
              "#7201a8"
             ],
             [
              0.3333333333333333,
              "#9c179e"
             ],
             [
              0.4444444444444444,
              "#bd3786"
             ],
             [
              0.5555555555555556,
              "#d8576b"
             ],
             [
              0.6666666666666666,
              "#ed7953"
             ],
             [
              0.7777777777777778,
              "#fb9f3a"
             ],
             [
              0.8888888888888888,
              "#fdca26"
             ],
             [
              1,
              "#f0f921"
             ]
            ],
            "type": "histogram2dcontour"
           }
          ],
          "mesh3d": [
           {
            "colorbar": {
             "outlinewidth": 0,
             "ticks": ""
            },
            "type": "mesh3d"
           }
          ],
          "parcoords": [
           {
            "line": {
             "colorbar": {
              "outlinewidth": 0,
              "ticks": ""
             }
            },
            "type": "parcoords"
           }
          ],
          "pie": [
           {
            "automargin": true,
            "type": "pie"
           }
          ],
          "scatter": [
           {
            "fillpattern": {
             "fillmode": "overlay",
             "size": 10,
             "solidity": 0.2
            },
            "type": "scatter"
           }
          ],
          "scatter3d": [
           {
            "line": {
             "colorbar": {
              "outlinewidth": 0,
              "ticks": ""
             }
            },
            "marker": {
             "colorbar": {
              "outlinewidth": 0,
              "ticks": ""
             }
            },
            "type": "scatter3d"
           }
          ],
          "scattercarpet": [
           {
            "marker": {
             "colorbar": {
              "outlinewidth": 0,
              "ticks": ""
             }
            },
            "type": "scattercarpet"
           }
          ],
          "scattergeo": [
           {
            "marker": {
             "colorbar": {
              "outlinewidth": 0,
              "ticks": ""
             }
            },
            "type": "scattergeo"
           }
          ],
          "scattergl": [
           {
            "marker": {
             "colorbar": {
              "outlinewidth": 0,
              "ticks": ""
             }
            },
            "type": "scattergl"
           }
          ],
          "scattermapbox": [
           {
            "marker": {
             "colorbar": {
              "outlinewidth": 0,
              "ticks": ""
             }
            },
            "type": "scattermapbox"
           }
          ],
          "scatterpolar": [
           {
            "marker": {
             "colorbar": {
              "outlinewidth": 0,
              "ticks": ""
             }
            },
            "type": "scatterpolar"
           }
          ],
          "scatterpolargl": [
           {
            "marker": {
             "colorbar": {
              "outlinewidth": 0,
              "ticks": ""
             }
            },
            "type": "scatterpolargl"
           }
          ],
          "scatterternary": [
           {
            "marker": {
             "colorbar": {
              "outlinewidth": 0,
              "ticks": ""
             }
            },
            "type": "scatterternary"
           }
          ],
          "surface": [
           {
            "colorbar": {
             "outlinewidth": 0,
             "ticks": ""
            },
            "colorscale": [
             [
              0,
              "#0d0887"
             ],
             [
              0.1111111111111111,
              "#46039f"
             ],
             [
              0.2222222222222222,
              "#7201a8"
             ],
             [
              0.3333333333333333,
              "#9c179e"
             ],
             [
              0.4444444444444444,
              "#bd3786"
             ],
             [
              0.5555555555555556,
              "#d8576b"
             ],
             [
              0.6666666666666666,
              "#ed7953"
             ],
             [
              0.7777777777777778,
              "#fb9f3a"
             ],
             [
              0.8888888888888888,
              "#fdca26"
             ],
             [
              1,
              "#f0f921"
             ]
            ],
            "type": "surface"
           }
          ],
          "table": [
           {
            "cells": {
             "fill": {
              "color": "#EBF0F8"
             },
             "line": {
              "color": "white"
             }
            },
            "header": {
             "fill": {
              "color": "#C8D4E3"
             },
             "line": {
              "color": "white"
             }
            },
            "type": "table"
           }
          ]
         },
         "layout": {
          "annotationdefaults": {
           "arrowcolor": "#2a3f5f",
           "arrowhead": 0,
           "arrowwidth": 1
          },
          "autotypenumbers": "strict",
          "coloraxis": {
           "colorbar": {
            "outlinewidth": 0,
            "ticks": ""
           }
          },
          "colorscale": {
           "diverging": [
            [
             0,
             "#8e0152"
            ],
            [
             0.1,
             "#c51b7d"
            ],
            [
             0.2,
             "#de77ae"
            ],
            [
             0.3,
             "#f1b6da"
            ],
            [
             0.4,
             "#fde0ef"
            ],
            [
             0.5,
             "#f7f7f7"
            ],
            [
             0.6,
             "#e6f5d0"
            ],
            [
             0.7,
             "#b8e186"
            ],
            [
             0.8,
             "#7fbc41"
            ],
            [
             0.9,
             "#4d9221"
            ],
            [
             1,
             "#276419"
            ]
           ],
           "sequential": [
            [
             0,
             "#0d0887"
            ],
            [
             0.1111111111111111,
             "#46039f"
            ],
            [
             0.2222222222222222,
             "#7201a8"
            ],
            [
             0.3333333333333333,
             "#9c179e"
            ],
            [
             0.4444444444444444,
             "#bd3786"
            ],
            [
             0.5555555555555556,
             "#d8576b"
            ],
            [
             0.6666666666666666,
             "#ed7953"
            ],
            [
             0.7777777777777778,
             "#fb9f3a"
            ],
            [
             0.8888888888888888,
             "#fdca26"
            ],
            [
             1,
             "#f0f921"
            ]
           ],
           "sequentialminus": [
            [
             0,
             "#0d0887"
            ],
            [
             0.1111111111111111,
             "#46039f"
            ],
            [
             0.2222222222222222,
             "#7201a8"
            ],
            [
             0.3333333333333333,
             "#9c179e"
            ],
            [
             0.4444444444444444,
             "#bd3786"
            ],
            [
             0.5555555555555556,
             "#d8576b"
            ],
            [
             0.6666666666666666,
             "#ed7953"
            ],
            [
             0.7777777777777778,
             "#fb9f3a"
            ],
            [
             0.8888888888888888,
             "#fdca26"
            ],
            [
             1,
             "#f0f921"
            ]
           ]
          },
          "colorway": [
           "#636efa",
           "#EF553B",
           "#00cc96",
           "#ab63fa",
           "#FFA15A",
           "#19d3f3",
           "#FF6692",
           "#B6E880",
           "#FF97FF",
           "#FECB52"
          ],
          "font": {
           "color": "#2a3f5f"
          },
          "geo": {
           "bgcolor": "white",
           "lakecolor": "white",
           "landcolor": "#E5ECF6",
           "showlakes": true,
           "showland": true,
           "subunitcolor": "white"
          },
          "hoverlabel": {
           "align": "left"
          },
          "hovermode": "closest",
          "mapbox": {
           "style": "light"
          },
          "paper_bgcolor": "white",
          "plot_bgcolor": "#E5ECF6",
          "polar": {
           "angularaxis": {
            "gridcolor": "white",
            "linecolor": "white",
            "ticks": ""
           },
           "bgcolor": "#E5ECF6",
           "radialaxis": {
            "gridcolor": "white",
            "linecolor": "white",
            "ticks": ""
           }
          },
          "scene": {
           "xaxis": {
            "backgroundcolor": "#E5ECF6",
            "gridcolor": "white",
            "gridwidth": 2,
            "linecolor": "white",
            "showbackground": true,
            "ticks": "",
            "zerolinecolor": "white"
           },
           "yaxis": {
            "backgroundcolor": "#E5ECF6",
            "gridcolor": "white",
            "gridwidth": 2,
            "linecolor": "white",
            "showbackground": true,
            "ticks": "",
            "zerolinecolor": "white"
           },
           "zaxis": {
            "backgroundcolor": "#E5ECF6",
            "gridcolor": "white",
            "gridwidth": 2,
            "linecolor": "white",
            "showbackground": true,
            "ticks": "",
            "zerolinecolor": "white"
           }
          },
          "shapedefaults": {
           "line": {
            "color": "#2a3f5f"
           }
          },
          "ternary": {
           "aaxis": {
            "gridcolor": "white",
            "linecolor": "white",
            "ticks": ""
           },
           "baxis": {
            "gridcolor": "white",
            "linecolor": "white",
            "ticks": ""
           },
           "bgcolor": "#E5ECF6",
           "caxis": {
            "gridcolor": "white",
            "linecolor": "white",
            "ticks": ""
           }
          },
          "title": {
           "x": 0.05
          },
          "xaxis": {
           "automargin": true,
           "gridcolor": "white",
           "linecolor": "white",
           "ticks": "",
           "title": {
            "standoff": 15
           },
           "zerolinecolor": "white",
           "zerolinewidth": 2
          },
          "yaxis": {
           "automargin": true,
           "gridcolor": "white",
           "linecolor": "white",
           "ticks": "",
           "title": {
            "standoff": 15
           },
           "zerolinecolor": "white",
           "zerolinewidth": 2
          }
         }
        },
        "title": {
         "font": {
          "color": "#4D5663"
         }
        },
        "xaxis": {
         "gridcolor": "#E1E5ED",
         "showgrid": true,
         "tickfont": {
          "color": "#4D5663"
         },
         "title": {
          "font": {
           "color": "#4D5663"
          },
          "text": ""
         },
         "zerolinecolor": "#E1E5ED"
        },
        "yaxis": {
         "gridcolor": "#E1E5ED",
         "showgrid": true,
         "tickfont": {
          "color": "#4D5663"
         },
         "title": {
          "font": {
           "color": "#4D5663"
          },
          "text": ""
         },
         "zerolinecolor": "#E1E5ED"
        }
       }
      },
      "text/html": [
       "<div>                            <div id=\"c9377336-fca1-4a54-b463-f55344f090f2\" class=\"plotly-graph-div\" style=\"height:525px; width:100%;\"></div>            <script type=\"text/javascript\">                require([\"plotly\"], function(Plotly) {                    window.PLOTLYENV=window.PLOTLYENV || {};\n",
       "                    window.PLOTLYENV.BASE_URL='https://plot.ly';                                    if (document.getElementById(\"c9377336-fca1-4a54-b463-f55344f090f2\")) {                    Plotly.newPlot(                        \"c9377336-fca1-4a54-b463-f55344f090f2\",                        [{\"colorscale\":[[0.0,\"rgb(165,0,38)\"],[0.1,\"rgb(215,48,39)\"],[0.2,\"rgb(244,109,67)\"],[0.3,\"rgb(253,174,97)\"],[0.4,\"rgb(254,224,144)\"],[0.5,\"rgb(255,255,191)\"],[0.6,\"rgb(224,243,248)\"],[0.7,\"rgb(171,217,233)\"],[0.8,\"rgb(116,173,209)\"],[0.9,\"rgb(69,117,180)\"],[1.0,\"rgb(49,54,149)\"]],\"x\":[0,1,2,3,4],\"y\":[\"x\",\"y\",\"z\"],\"z\":[[1,2,3,4,5],[10,20,30,20,10],[5,4,3,2,1]],\"type\":\"surface\"}],                        {\"legend\":{\"bgcolor\":\"#F5F6F9\",\"font\":{\"color\":\"#4D5663\"}},\"paper_bgcolor\":\"#F5F6F9\",\"plot_bgcolor\":\"#F5F6F9\",\"template\":{\"data\":{\"barpolar\":[{\"marker\":{\"line\":{\"color\":\"#E5ECF6\",\"width\":0.5},\"pattern\":{\"fillmode\":\"overlay\",\"size\":10,\"solidity\":0.2}},\"type\":\"barpolar\"}],\"bar\":[{\"error_x\":{\"color\":\"#2a3f5f\"},\"error_y\":{\"color\":\"#2a3f5f\"},\"marker\":{\"line\":{\"color\":\"#E5ECF6\",\"width\":0.5},\"pattern\":{\"fillmode\":\"overlay\",\"size\":10,\"solidity\":0.2}},\"type\":\"bar\"}],\"carpet\":[{\"aaxis\":{\"endlinecolor\":\"#2a3f5f\",\"gridcolor\":\"white\",\"linecolor\":\"white\",\"minorgridcolor\":\"white\",\"startlinecolor\":\"#2a3f5f\"},\"baxis\":{\"endlinecolor\":\"#2a3f5f\",\"gridcolor\":\"white\",\"linecolor\":\"white\",\"minorgridcolor\":\"white\",\"startlinecolor\":\"#2a3f5f\"},\"type\":\"carpet\"}],\"choropleth\":[{\"colorbar\":{\"outlinewidth\":0,\"ticks\":\"\"},\"type\":\"choropleth\"}],\"contourcarpet\":[{\"colorbar\":{\"outlinewidth\":0,\"ticks\":\"\"},\"type\":\"contourcarpet\"}],\"contour\":[{\"colorbar\":{\"outlinewidth\":0,\"ticks\":\"\"},\"colorscale\":[[0.0,\"#0d0887\"],[0.1111111111111111,\"#46039f\"],[0.2222222222222222,\"#7201a8\"],[0.3333333333333333,\"#9c179e\"],[0.4444444444444444,\"#bd3786\"],[0.5555555555555556,\"#d8576b\"],[0.6666666666666666,\"#ed7953\"],[0.7777777777777778,\"#fb9f3a\"],[0.8888888888888888,\"#fdca26\"],[1.0,\"#f0f921\"]],\"type\":\"contour\"}],\"heatmapgl\":[{\"colorbar\":{\"outlinewidth\":0,\"ticks\":\"\"},\"colorscale\":[[0.0,\"#0d0887\"],[0.1111111111111111,\"#46039f\"],[0.2222222222222222,\"#7201a8\"],[0.3333333333333333,\"#9c179e\"],[0.4444444444444444,\"#bd3786\"],[0.5555555555555556,\"#d8576b\"],[0.6666666666666666,\"#ed7953\"],[0.7777777777777778,\"#fb9f3a\"],[0.8888888888888888,\"#fdca26\"],[1.0,\"#f0f921\"]],\"type\":\"heatmapgl\"}],\"heatmap\":[{\"colorbar\":{\"outlinewidth\":0,\"ticks\":\"\"},\"colorscale\":[[0.0,\"#0d0887\"],[0.1111111111111111,\"#46039f\"],[0.2222222222222222,\"#7201a8\"],[0.3333333333333333,\"#9c179e\"],[0.4444444444444444,\"#bd3786\"],[0.5555555555555556,\"#d8576b\"],[0.6666666666666666,\"#ed7953\"],[0.7777777777777778,\"#fb9f3a\"],[0.8888888888888888,\"#fdca26\"],[1.0,\"#f0f921\"]],\"type\":\"heatmap\"}],\"histogram2dcontour\":[{\"colorbar\":{\"outlinewidth\":0,\"ticks\":\"\"},\"colorscale\":[[0.0,\"#0d0887\"],[0.1111111111111111,\"#46039f\"],[0.2222222222222222,\"#7201a8\"],[0.3333333333333333,\"#9c179e\"],[0.4444444444444444,\"#bd3786\"],[0.5555555555555556,\"#d8576b\"],[0.6666666666666666,\"#ed7953\"],[0.7777777777777778,\"#fb9f3a\"],[0.8888888888888888,\"#fdca26\"],[1.0,\"#f0f921\"]],\"type\":\"histogram2dcontour\"}],\"histogram2d\":[{\"colorbar\":{\"outlinewidth\":0,\"ticks\":\"\"},\"colorscale\":[[0.0,\"#0d0887\"],[0.1111111111111111,\"#46039f\"],[0.2222222222222222,\"#7201a8\"],[0.3333333333333333,\"#9c179e\"],[0.4444444444444444,\"#bd3786\"],[0.5555555555555556,\"#d8576b\"],[0.6666666666666666,\"#ed7953\"],[0.7777777777777778,\"#fb9f3a\"],[0.8888888888888888,\"#fdca26\"],[1.0,\"#f0f921\"]],\"type\":\"histogram2d\"}],\"histogram\":[{\"marker\":{\"pattern\":{\"fillmode\":\"overlay\",\"size\":10,\"solidity\":0.2}},\"type\":\"histogram\"}],\"mesh3d\":[{\"colorbar\":{\"outlinewidth\":0,\"ticks\":\"\"},\"type\":\"mesh3d\"}],\"parcoords\":[{\"line\":{\"colorbar\":{\"outlinewidth\":0,\"ticks\":\"\"}},\"type\":\"parcoords\"}],\"pie\":[{\"automargin\":true,\"type\":\"pie\"}],\"scatter3d\":[{\"line\":{\"colorbar\":{\"outlinewidth\":0,\"ticks\":\"\"}},\"marker\":{\"colorbar\":{\"outlinewidth\":0,\"ticks\":\"\"}},\"type\":\"scatter3d\"}],\"scattercarpet\":[{\"marker\":{\"colorbar\":{\"outlinewidth\":0,\"ticks\":\"\"}},\"type\":\"scattercarpet\"}],\"scattergeo\":[{\"marker\":{\"colorbar\":{\"outlinewidth\":0,\"ticks\":\"\"}},\"type\":\"scattergeo\"}],\"scattergl\":[{\"marker\":{\"colorbar\":{\"outlinewidth\":0,\"ticks\":\"\"}},\"type\":\"scattergl\"}],\"scattermapbox\":[{\"marker\":{\"colorbar\":{\"outlinewidth\":0,\"ticks\":\"\"}},\"type\":\"scattermapbox\"}],\"scatterpolargl\":[{\"marker\":{\"colorbar\":{\"outlinewidth\":0,\"ticks\":\"\"}},\"type\":\"scatterpolargl\"}],\"scatterpolar\":[{\"marker\":{\"colorbar\":{\"outlinewidth\":0,\"ticks\":\"\"}},\"type\":\"scatterpolar\"}],\"scatter\":[{\"fillpattern\":{\"fillmode\":\"overlay\",\"size\":10,\"solidity\":0.2},\"type\":\"scatter\"}],\"scatterternary\":[{\"marker\":{\"colorbar\":{\"outlinewidth\":0,\"ticks\":\"\"}},\"type\":\"scatterternary\"}],\"surface\":[{\"colorbar\":{\"outlinewidth\":0,\"ticks\":\"\"},\"colorscale\":[[0.0,\"#0d0887\"],[0.1111111111111111,\"#46039f\"],[0.2222222222222222,\"#7201a8\"],[0.3333333333333333,\"#9c179e\"],[0.4444444444444444,\"#bd3786\"],[0.5555555555555556,\"#d8576b\"],[0.6666666666666666,\"#ed7953\"],[0.7777777777777778,\"#fb9f3a\"],[0.8888888888888888,\"#fdca26\"],[1.0,\"#f0f921\"]],\"type\":\"surface\"}],\"table\":[{\"cells\":{\"fill\":{\"color\":\"#EBF0F8\"},\"line\":{\"color\":\"white\"}},\"header\":{\"fill\":{\"color\":\"#C8D4E3\"},\"line\":{\"color\":\"white\"}},\"type\":\"table\"}]},\"layout\":{\"annotationdefaults\":{\"arrowcolor\":\"#2a3f5f\",\"arrowhead\":0,\"arrowwidth\":1},\"autotypenumbers\":\"strict\",\"coloraxis\":{\"colorbar\":{\"outlinewidth\":0,\"ticks\":\"\"}},\"colorscale\":{\"diverging\":[[0,\"#8e0152\"],[0.1,\"#c51b7d\"],[0.2,\"#de77ae\"],[0.3,\"#f1b6da\"],[0.4,\"#fde0ef\"],[0.5,\"#f7f7f7\"],[0.6,\"#e6f5d0\"],[0.7,\"#b8e186\"],[0.8,\"#7fbc41\"],[0.9,\"#4d9221\"],[1,\"#276419\"]],\"sequential\":[[0.0,\"#0d0887\"],[0.1111111111111111,\"#46039f\"],[0.2222222222222222,\"#7201a8\"],[0.3333333333333333,\"#9c179e\"],[0.4444444444444444,\"#bd3786\"],[0.5555555555555556,\"#d8576b\"],[0.6666666666666666,\"#ed7953\"],[0.7777777777777778,\"#fb9f3a\"],[0.8888888888888888,\"#fdca26\"],[1.0,\"#f0f921\"]],\"sequentialminus\":[[0.0,\"#0d0887\"],[0.1111111111111111,\"#46039f\"],[0.2222222222222222,\"#7201a8\"],[0.3333333333333333,\"#9c179e\"],[0.4444444444444444,\"#bd3786\"],[0.5555555555555556,\"#d8576b\"],[0.6666666666666666,\"#ed7953\"],[0.7777777777777778,\"#fb9f3a\"],[0.8888888888888888,\"#fdca26\"],[1.0,\"#f0f921\"]]},\"colorway\":[\"#636efa\",\"#EF553B\",\"#00cc96\",\"#ab63fa\",\"#FFA15A\",\"#19d3f3\",\"#FF6692\",\"#B6E880\",\"#FF97FF\",\"#FECB52\"],\"font\":{\"color\":\"#2a3f5f\"},\"geo\":{\"bgcolor\":\"white\",\"lakecolor\":\"white\",\"landcolor\":\"#E5ECF6\",\"showlakes\":true,\"showland\":true,\"subunitcolor\":\"white\"},\"hoverlabel\":{\"align\":\"left\"},\"hovermode\":\"closest\",\"mapbox\":{\"style\":\"light\"},\"paper_bgcolor\":\"white\",\"plot_bgcolor\":\"#E5ECF6\",\"polar\":{\"angularaxis\":{\"gridcolor\":\"white\",\"linecolor\":\"white\",\"ticks\":\"\"},\"bgcolor\":\"#E5ECF6\",\"radialaxis\":{\"gridcolor\":\"white\",\"linecolor\":\"white\",\"ticks\":\"\"}},\"scene\":{\"xaxis\":{\"backgroundcolor\":\"#E5ECF6\",\"gridcolor\":\"white\",\"gridwidth\":2,\"linecolor\":\"white\",\"showbackground\":true,\"ticks\":\"\",\"zerolinecolor\":\"white\"},\"yaxis\":{\"backgroundcolor\":\"#E5ECF6\",\"gridcolor\":\"white\",\"gridwidth\":2,\"linecolor\":\"white\",\"showbackground\":true,\"ticks\":\"\",\"zerolinecolor\":\"white\"},\"zaxis\":{\"backgroundcolor\":\"#E5ECF6\",\"gridcolor\":\"white\",\"gridwidth\":2,\"linecolor\":\"white\",\"showbackground\":true,\"ticks\":\"\",\"zerolinecolor\":\"white\"}},\"shapedefaults\":{\"line\":{\"color\":\"#2a3f5f\"}},\"ternary\":{\"aaxis\":{\"gridcolor\":\"white\",\"linecolor\":\"white\",\"ticks\":\"\"},\"baxis\":{\"gridcolor\":\"white\",\"linecolor\":\"white\",\"ticks\":\"\"},\"bgcolor\":\"#E5ECF6\",\"caxis\":{\"gridcolor\":\"white\",\"linecolor\":\"white\",\"ticks\":\"\"}},\"title\":{\"x\":0.05},\"xaxis\":{\"automargin\":true,\"gridcolor\":\"white\",\"linecolor\":\"white\",\"ticks\":\"\",\"title\":{\"standoff\":15},\"zerolinecolor\":\"white\",\"zerolinewidth\":2},\"yaxis\":{\"automargin\":true,\"gridcolor\":\"white\",\"linecolor\":\"white\",\"ticks\":\"\",\"title\":{\"standoff\":15},\"zerolinecolor\":\"white\",\"zerolinewidth\":2}}},\"title\":{\"font\":{\"color\":\"#4D5663\"}},\"xaxis\":{\"gridcolor\":\"#E1E5ED\",\"showgrid\":true,\"tickfont\":{\"color\":\"#4D5663\"},\"title\":{\"font\":{\"color\":\"#4D5663\"},\"text\":\"\"},\"zerolinecolor\":\"#E1E5ED\"},\"yaxis\":{\"gridcolor\":\"#E1E5ED\",\"showgrid\":true,\"tickfont\":{\"color\":\"#4D5663\"},\"title\":{\"font\":{\"color\":\"#4D5663\"},\"text\":\"\"},\"zerolinecolor\":\"#E1E5ED\"}},                        {\"showLink\": true, \"linkText\": \"Export to plot.ly\", \"plotlyServerURL\": \"https://plot.ly\", \"responsive\": true}                    ).then(function(){\n",
       "                            \n",
       "var gd = document.getElementById('c9377336-fca1-4a54-b463-f55344f090f2');\n",
       "var x = new MutationObserver(function (mutations, observer) {{\n",
       "        var display = window.getComputedStyle(gd).display;\n",
       "        if (!display || display === 'none') {{\n",
       "            console.log([gd, 'removed!']);\n",
       "            Plotly.purge(gd);\n",
       "            observer.disconnect();\n",
       "        }}\n",
       "}});\n",
       "\n",
       "// Listen for the removal of the full notebook cells\n",
       "var notebookContainer = gd.closest('#notebook-container');\n",
       "if (notebookContainer) {{\n",
       "    x.observe(notebookContainer, {childList: true});\n",
       "}}\n",
       "\n",
       "// Listen for the clearing of the current output cell\n",
       "var outputEl = gd.closest('.output');\n",
       "if (outputEl) {{\n",
       "    x.observe(outputEl, {childList: true});\n",
       "}}\n",
       "\n",
       "                        })                };                });            </script>        </div>"
      ]
     },
     "metadata": {},
     "output_type": "display_data"
    }
   ],
   "source": [
    "df3 = pd.DataFrame({'x':[1,2,3,4,5],'y':[10,20,30,20,10],'z':[5,4,3,2,1]})\n",
    "df3.iplot(kind='surface',colorscale='rdylbu')"
   ]
  },
  {
   "cell_type": "markdown",
   "metadata": {},
   "source": [
    "## Spread"
   ]
  },
  {
   "cell_type": "code",
   "execution_count": 15,
   "metadata": {},
   "outputs": [
    {
     "name": "stderr",
     "output_type": "stream",
     "text": [
      "C:\\Users\\Lenovo\\anaconda3\\lib\\site-packages\\cufflinks\\plotlytools.py:849: FutureWarning:\n",
      "\n",
      "The pandas.np module is deprecated and will be removed from pandas in a future version. Import numpy directly instead.\n",
      "\n",
      "C:\\Users\\Lenovo\\anaconda3\\lib\\site-packages\\cufflinks\\plotlytools.py:850: FutureWarning:\n",
      "\n",
      "The pandas.np module is deprecated and will be removed from pandas in a future version. Import numpy directly instead.\n",
      "\n"
     ]
    },
    {
     "data": {
      "application/vnd.plotly.v1+json": {
       "config": {
        "linkText": "Export to plot.ly",
        "plotlyServerURL": "https://plot.ly",
        "showLink": true
       },
       "data": [
        {
         "line": {
          "color": "rgba(255, 153, 51, 1.0)",
          "dash": "solid",
          "shape": "linear",
          "width": 1.3
         },
         "mode": "lines",
         "name": "A",
         "text": "",
         "type": "scatter",
         "x": [
          0,
          1,
          2,
          3,
          4,
          5,
          6,
          7,
          8,
          9,
          10,
          11,
          12,
          13,
          14,
          15,
          16,
          17,
          18,
          19,
          20,
          21,
          22,
          23,
          24,
          25,
          26,
          27,
          28,
          29,
          30,
          31,
          32,
          33,
          34,
          35,
          36,
          37,
          38,
          39,
          40,
          41,
          42,
          43,
          44,
          45,
          46,
          47,
          48,
          49,
          50,
          51,
          52,
          53,
          54,
          55,
          56,
          57,
          58,
          59,
          60,
          61,
          62,
          63,
          64,
          65,
          66,
          67,
          68,
          69,
          70,
          71,
          72,
          73,
          74,
          75,
          76,
          77,
          78,
          79,
          80,
          81,
          82,
          83,
          84,
          85,
          86,
          87,
          88,
          89,
          90,
          91,
          92,
          93,
          94,
          95,
          96,
          97,
          98,
          99
         ],
         "y": [
          1.2376648357470055,
          -0.5588649056406358,
          0.40946706449563175,
          0.4298301337164253,
          0.07238270128864749,
          -0.20598883801382525,
          1.2385584747531542,
          -1.0633617765803824,
          0.3434542115634483,
          1.3645551658564248,
          -0.7290820511381018,
          -1.035624379248983,
          0.32740419197523757,
          -0.3351406777735119,
          -0.6995413769041855,
          -0.32313520691160347,
          -0.6968944913793241,
          -1.2658169541706465,
          1.8681787506166567,
          1.654531174173863,
          0.4323609959994185,
          0.13342603725333999,
          -0.25726923923873757,
          0.7180052009841095,
          1.403861120520268,
          1.4472639088688162,
          -0.6399257301458914,
          -1.1614404005478682,
          2.821851024615292,
          -0.45675635524671515,
          -1.5795633950159544,
          -0.36823092116578626,
          -1.0381007781369387,
          1.80093516549471,
          0.605519660199255,
          0.5520713257359585,
          1.0739598975916955,
          -0.08606957115270493,
          -0.5388402188322184,
          1.4131676971194618,
          -0.5605172697322097,
          -0.6056944769115583,
          -0.9428065238847683,
          1.3962914689468222,
          -0.9272551780488926,
          -0.16998328050440442,
          1.957273987112428,
          -0.08974156694888845,
          -0.6345160635027977,
          -0.4863315382609629,
          -0.6461642065112355,
          -0.4394231941140874,
          0.37048755383772125,
          0.5298402144160002,
          1.0054517069637832,
          1.1136464518705884,
          -2.158906419697583,
          2.1091061818145262,
          -1.0703594134064252,
          -0.5814437688577203,
          0.03924795414460957,
          1.006378179337866,
          -0.3903396632439928,
          -1.3561617236485808,
          -1.0708998832851322,
          1.5806859251958079,
          0.17179271377825836,
          -0.9047325249055707,
          1.1275038903666008,
          1.989443049293253,
          -1.090722702073496,
          -0.2993575416216889,
          -0.6394549917325748,
          -1.2244878399342731,
          1.6452364982836245,
          0.6177372762506392,
          -1.3176302335739636,
          0.03300243685919273,
          -1.0649093458079049,
          0.975689453023733,
          0.05122198401087867,
          -0.2976791863225247,
          -0.790150167428062,
          -0.6625271152615411,
          0.7860844830326141,
          -0.016153571380949677,
          -0.8598140138716176,
          -0.3185632602435938,
          -0.8067190607871518,
          -0.6147307859444832,
          0.6156300197507949,
          -0.9048669572075687,
          -0.2106043328452722,
          -1.0358044675788922,
          0.8941804936081772,
          0.6979637785733713,
          -0.8090777129605745,
          0.48770364177028785,
          -1.317158662969975,
          1.273288323901588
         ]
        },
        {
         "line": {
          "color": "rgba(55, 128, 191, 1.0)",
          "dash": "solid",
          "shape": "linear",
          "width": 1.3
         },
         "mode": "lines",
         "name": "B",
         "text": "",
         "type": "scatter",
         "x": [
          0,
          1,
          2,
          3,
          4,
          5,
          6,
          7,
          8,
          9,
          10,
          11,
          12,
          13,
          14,
          15,
          16,
          17,
          18,
          19,
          20,
          21,
          22,
          23,
          24,
          25,
          26,
          27,
          28,
          29,
          30,
          31,
          32,
          33,
          34,
          35,
          36,
          37,
          38,
          39,
          40,
          41,
          42,
          43,
          44,
          45,
          46,
          47,
          48,
          49,
          50,
          51,
          52,
          53,
          54,
          55,
          56,
          57,
          58,
          59,
          60,
          61,
          62,
          63,
          64,
          65,
          66,
          67,
          68,
          69,
          70,
          71,
          72,
          73,
          74,
          75,
          76,
          77,
          78,
          79,
          80,
          81,
          82,
          83,
          84,
          85,
          86,
          87,
          88,
          89,
          90,
          91,
          92,
          93,
          94,
          95,
          96,
          97,
          98,
          99
         ],
         "y": [
          -0.5548235720002016,
          -0.46033933106280667,
          1.5866377741729345,
          -0.3272212503881288,
          0.03402138478618209,
          -0.7624627502472152,
          2.348882566100373,
          -0.4593864721542771,
          0.31916528326146887,
          -0.6902004464640703,
          -0.9071182373778008,
          0.8693879352151368,
          0.0908984501140434,
          1.439719510453182,
          -1.8632253399626302,
          -0.479055317221008,
          0.5925242567873134,
          0.9182777533280958,
          -0.7754625687794833,
          -2.6583226781800797,
          0.5484315599141389,
          -0.7042914583634231,
          -0.1764697624966167,
          0.2502484719538905,
          -0.04785972571489474,
          1.2294110679482604,
          -0.11427358475630707,
          -0.3697207652302923,
          1.6043967881949919,
          -1.339472912051616,
          -1.29217789705882,
          -0.36153222275651,
          1.022692009649764,
          0.16598675428648627,
          0.5551363037720237,
          0.6740029189118928,
          0.4826622004974322,
          -0.11755937452739242,
          -0.32126785538898134,
          0.7929988121107323,
          0.3951830074407376,
          -2.088496378240888,
          -0.8759883673140567,
          0.06364644137637034,
          0.39384361906406923,
          0.36875154769134777,
          -0.30784011826382807,
          0.7917959824498457,
          1.5677280244828602,
          -0.05900920362274808,
          1.0375464873238087,
          1.6379622252173518,
          -1.4057904636265286,
          0.5394882447018408,
          1.013559324777699,
          0.0317138450739195,
          -0.7447209913640487,
          0.20612512058230376,
          -1.7003724779460927,
          1.352623651396288,
          1.982935602840355,
          0.5068908613077829,
          -0.5164100240190705,
          0.630123868949732,
          0.7732102744966399,
          -1.2393677901893128,
          -0.3370213940892322,
          0.3483949651157315,
          -0.24066619524369812,
          0.6770539844969181,
          1.2288154644853018,
          -1.6743318035872083,
          -0.021365537352325627,
          -0.6672899618296045,
          0.10000066548559038,
          -1.7247613547037848,
          -0.05389893734429868,
          0.9180552257999586,
          0.48811130008099096,
          0.33920897319785864,
          -0.5707494319732833,
          -0.018216433868223143,
          -1.2482714701915105,
          -0.9430832695332753,
          0.7916447472466199,
          -0.06956062234436486,
          1.332297904497416,
          -0.4046384777011825,
          -0.7120292252325473,
          0.058700079993735624,
          -0.7810474905274281,
          -0.613129044372448,
          0.07107100611789133,
          -1.2234832464477743,
          -0.04915232875895141,
          -0.5740497723863638,
          -0.07084727333194477,
          -1.1230549919447825,
          1.2690967918899319,
          0.8833972953210805
         ]
        },
        {
         "connectgaps": false,
         "fill": "tozeroy",
         "line": {
          "color": "green",
          "dash": "solid",
          "shape": "linear",
          "width": 0.5
         },
         "mode": "lines",
         "name": "Spread",
         "showlegend": false,
         "type": "scatter",
         "x": [
          0,
          1,
          2,
          3,
          4,
          5,
          6,
          7,
          8,
          9,
          10,
          11,
          12,
          13,
          14,
          15,
          16,
          17,
          18,
          19,
          20,
          21,
          22,
          23,
          24,
          25,
          26,
          27,
          28,
          29,
          30,
          31,
          32,
          33,
          34,
          35,
          36,
          37,
          38,
          39,
          40,
          41,
          42,
          43,
          44,
          45,
          46,
          47,
          48,
          49,
          50,
          51,
          52,
          53,
          54,
          55,
          56,
          57,
          58,
          59,
          60,
          61,
          62,
          63,
          64,
          65,
          66,
          67,
          68,
          69,
          70,
          71,
          72,
          73,
          74,
          75,
          76,
          77,
          78,
          79,
          80,
          81,
          82,
          83,
          84,
          85,
          86,
          87,
          88,
          89,
          90,
          91,
          92,
          93,
          94,
          95,
          96,
          97,
          98,
          99
         ],
         "xaxis": "x2",
         "y": [
          1.7924884077472072,
          "",
          "",
          0.7570513841045541,
          0.038361316502465395,
          0.5564739122333899,
          "",
          "",
          0.02428892830197943,
          2.054755612320495,
          0.17803618623969908,
          "",
          0.23650574186119416,
          "",
          1.1636839630584448,
          0.15592011030940456,
          "",
          "",
          2.64364131939614,
          4.312853852353943,
          "",
          0.8377174956167631,
          "",
          0.467756729030219,
          1.4517208462351627,
          0.2178528409205558,
          "",
          "",
          1.2174542364203003,
          0.8827165568049009,
          "",
          "",
          "",
          1.6349484112082238,
          0.05038335642723124,
          "",
          0.5912976970942634,
          0.031489803374687486,
          "",
          0.6201688850087295,
          "",
          1.4828019013293297,
          "",
          1.3326450275704518,
          "",
          "",
          2.2651141053762562,
          "",
          "",
          "",
          "",
          "",
          1.7762780174642498,
          "",
          "",
          1.081932606796669,
          "",
          1.9029810612322224,
          0.6300130645396675,
          "",
          "",
          0.49948731803008317,
          0.12607036077507777,
          "",
          "",
          2.8200537153851206,
          0.5088141078674906,
          "",
          1.368170085610299,
          1.312389064796335,
          "",
          1.3749742619655194,
          "",
          "",
          1.5452358327980342,
          2.342498630954424,
          "",
          "",
          "",
          0.6364804798258743,
          0.621971415984162,
          "",
          0.45812130276344853,
          0.2805561542717342,
          "",
          0.05340705096341518,
          "",
          0.08607521745758867,
          "",
          "",
          1.396677510278223,
          "",
          "",
          0.18767877886888207,
          0.9433328223671286,
          1.272013550959735,
          "",
          1.6107586337150703,
          "",
          0.3898910285805075
         ],
         "yaxis": "y2"
        },
        {
         "connectgaps": false,
         "fill": "tozeroy",
         "line": {
          "color": "red",
          "dash": "solid",
          "shape": "linear",
          "width": 0.5
         },
         "mode": "lines",
         "name": "Spread",
         "showlegend": false,
         "type": "scatter",
         "x": [
          0,
          1,
          2,
          3,
          4,
          5,
          6,
          7,
          8,
          9,
          10,
          11,
          12,
          13,
          14,
          15,
          16,
          17,
          18,
          19,
          20,
          21,
          22,
          23,
          24,
          25,
          26,
          27,
          28,
          29,
          30,
          31,
          32,
          33,
          34,
          35,
          36,
          37,
          38,
          39,
          40,
          41,
          42,
          43,
          44,
          45,
          46,
          47,
          48,
          49,
          50,
          51,
          52,
          53,
          54,
          55,
          56,
          57,
          58,
          59,
          60,
          61,
          62,
          63,
          64,
          65,
          66,
          67,
          68,
          69,
          70,
          71,
          72,
          73,
          74,
          75,
          76,
          77,
          78,
          79,
          80,
          81,
          82,
          83,
          84,
          85,
          86,
          87,
          88,
          89,
          90,
          91,
          92,
          93,
          94,
          95,
          96,
          97,
          98,
          99
         ],
         "xaxis": "x2",
         "y": [
          "",
          -0.09852557457782918,
          -1.1771707096773028,
          "",
          "",
          "",
          -1.1103240913472188,
          -0.6039753044261054,
          "",
          "",
          "",
          -1.9050123144641198,
          "",
          -1.774860188226694,
          "",
          "",
          -1.2894187481666375,
          -2.1840947074987422,
          "",
          "",
          -0.11607056391472043,
          "",
          -0.08079947674212087,
          "",
          "",
          "",
          -0.5256521453895843,
          -0.7917196353175759,
          "",
          "",
          -0.2873854979571344,
          -0.0066986984092762825,
          -2.0607927877867027,
          "",
          "",
          -0.12193159317593427,
          "",
          "",
          -0.2175723634432371,
          "",
          -0.9557002771729473,
          "",
          -0.06681815657071155,
          "",
          -1.3210987971129617,
          -0.5387348281957522,
          "",
          -0.8815375493987342,
          -2.2022440879856577,
          -0.42732233463821484,
          -1.6837106938350441,
          -2.0773854193314394,
          "",
          -0.009648030285840603,
          -0.00810761781391589,
          "",
          -1.4141854283335342,
          "",
          "",
          -1.9340674202540082,
          -1.9436876486957455,
          "",
          "",
          -1.9862855925983127,
          -1.8441101577817722,
          "",
          "",
          -1.253127490021302,
          "",
          "",
          -2.3195381665587975,
          "",
          -0.6180894543802492,
          -0.5571978781046686,
          "",
          "",
          -1.263731296229665,
          -0.8850527889407659,
          -1.5530206458888958,
          "",
          "",
          -0.2794627524543016,
          "",
          "",
          -0.0055602642140057945,
          "",
          -2.1921119183690334,
          "",
          -0.09468983555460453,
          -0.6734308659382188,
          "",
          -0.29173791283512074,
          -0.28167533896316355,
          "",
          "",
          "",
          -0.7382304396286298,
          "",
          -2.5862554548599066,
          ""
         ],
         "yaxis": "y2"
        }
       ],
       "layout": {
        "hovermode": "x",
        "legend": {
         "bgcolor": "#F5F6F9",
         "font": {
          "color": "#4D5663"
         }
        },
        "paper_bgcolor": "#F5F6F9",
        "plot_bgcolor": "#F5F6F9",
        "template": {
         "data": {
          "bar": [
           {
            "error_x": {
             "color": "#2a3f5f"
            },
            "error_y": {
             "color": "#2a3f5f"
            },
            "marker": {
             "line": {
              "color": "#E5ECF6",
              "width": 0.5
             },
             "pattern": {
              "fillmode": "overlay",
              "size": 10,
              "solidity": 0.2
             }
            },
            "type": "bar"
           }
          ],
          "barpolar": [
           {
            "marker": {
             "line": {
              "color": "#E5ECF6",
              "width": 0.5
             },
             "pattern": {
              "fillmode": "overlay",
              "size": 10,
              "solidity": 0.2
             }
            },
            "type": "barpolar"
           }
          ],
          "carpet": [
           {
            "aaxis": {
             "endlinecolor": "#2a3f5f",
             "gridcolor": "white",
             "linecolor": "white",
             "minorgridcolor": "white",
             "startlinecolor": "#2a3f5f"
            },
            "baxis": {
             "endlinecolor": "#2a3f5f",
             "gridcolor": "white",
             "linecolor": "white",
             "minorgridcolor": "white",
             "startlinecolor": "#2a3f5f"
            },
            "type": "carpet"
           }
          ],
          "choropleth": [
           {
            "colorbar": {
             "outlinewidth": 0,
             "ticks": ""
            },
            "type": "choropleth"
           }
          ],
          "contour": [
           {
            "colorbar": {
             "outlinewidth": 0,
             "ticks": ""
            },
            "colorscale": [
             [
              0,
              "#0d0887"
             ],
             [
              0.1111111111111111,
              "#46039f"
             ],
             [
              0.2222222222222222,
              "#7201a8"
             ],
             [
              0.3333333333333333,
              "#9c179e"
             ],
             [
              0.4444444444444444,
              "#bd3786"
             ],
             [
              0.5555555555555556,
              "#d8576b"
             ],
             [
              0.6666666666666666,
              "#ed7953"
             ],
             [
              0.7777777777777778,
              "#fb9f3a"
             ],
             [
              0.8888888888888888,
              "#fdca26"
             ],
             [
              1,
              "#f0f921"
             ]
            ],
            "type": "contour"
           }
          ],
          "contourcarpet": [
           {
            "colorbar": {
             "outlinewidth": 0,
             "ticks": ""
            },
            "type": "contourcarpet"
           }
          ],
          "heatmap": [
           {
            "colorbar": {
             "outlinewidth": 0,
             "ticks": ""
            },
            "colorscale": [
             [
              0,
              "#0d0887"
             ],
             [
              0.1111111111111111,
              "#46039f"
             ],
             [
              0.2222222222222222,
              "#7201a8"
             ],
             [
              0.3333333333333333,
              "#9c179e"
             ],
             [
              0.4444444444444444,
              "#bd3786"
             ],
             [
              0.5555555555555556,
              "#d8576b"
             ],
             [
              0.6666666666666666,
              "#ed7953"
             ],
             [
              0.7777777777777778,
              "#fb9f3a"
             ],
             [
              0.8888888888888888,
              "#fdca26"
             ],
             [
              1,
              "#f0f921"
             ]
            ],
            "type": "heatmap"
           }
          ],
          "heatmapgl": [
           {
            "colorbar": {
             "outlinewidth": 0,
             "ticks": ""
            },
            "colorscale": [
             [
              0,
              "#0d0887"
             ],
             [
              0.1111111111111111,
              "#46039f"
             ],
             [
              0.2222222222222222,
              "#7201a8"
             ],
             [
              0.3333333333333333,
              "#9c179e"
             ],
             [
              0.4444444444444444,
              "#bd3786"
             ],
             [
              0.5555555555555556,
              "#d8576b"
             ],
             [
              0.6666666666666666,
              "#ed7953"
             ],
             [
              0.7777777777777778,
              "#fb9f3a"
             ],
             [
              0.8888888888888888,
              "#fdca26"
             ],
             [
              1,
              "#f0f921"
             ]
            ],
            "type": "heatmapgl"
           }
          ],
          "histogram": [
           {
            "marker": {
             "pattern": {
              "fillmode": "overlay",
              "size": 10,
              "solidity": 0.2
             }
            },
            "type": "histogram"
           }
          ],
          "histogram2d": [
           {
            "colorbar": {
             "outlinewidth": 0,
             "ticks": ""
            },
            "colorscale": [
             [
              0,
              "#0d0887"
             ],
             [
              0.1111111111111111,
              "#46039f"
             ],
             [
              0.2222222222222222,
              "#7201a8"
             ],
             [
              0.3333333333333333,
              "#9c179e"
             ],
             [
              0.4444444444444444,
              "#bd3786"
             ],
             [
              0.5555555555555556,
              "#d8576b"
             ],
             [
              0.6666666666666666,
              "#ed7953"
             ],
             [
              0.7777777777777778,
              "#fb9f3a"
             ],
             [
              0.8888888888888888,
              "#fdca26"
             ],
             [
              1,
              "#f0f921"
             ]
            ],
            "type": "histogram2d"
           }
          ],
          "histogram2dcontour": [
           {
            "colorbar": {
             "outlinewidth": 0,
             "ticks": ""
            },
            "colorscale": [
             [
              0,
              "#0d0887"
             ],
             [
              0.1111111111111111,
              "#46039f"
             ],
             [
              0.2222222222222222,
              "#7201a8"
             ],
             [
              0.3333333333333333,
              "#9c179e"
             ],
             [
              0.4444444444444444,
              "#bd3786"
             ],
             [
              0.5555555555555556,
              "#d8576b"
             ],
             [
              0.6666666666666666,
              "#ed7953"
             ],
             [
              0.7777777777777778,
              "#fb9f3a"
             ],
             [
              0.8888888888888888,
              "#fdca26"
             ],
             [
              1,
              "#f0f921"
             ]
            ],
            "type": "histogram2dcontour"
           }
          ],
          "mesh3d": [
           {
            "colorbar": {
             "outlinewidth": 0,
             "ticks": ""
            },
            "type": "mesh3d"
           }
          ],
          "parcoords": [
           {
            "line": {
             "colorbar": {
              "outlinewidth": 0,
              "ticks": ""
             }
            },
            "type": "parcoords"
           }
          ],
          "pie": [
           {
            "automargin": true,
            "type": "pie"
           }
          ],
          "scatter": [
           {
            "fillpattern": {
             "fillmode": "overlay",
             "size": 10,
             "solidity": 0.2
            },
            "type": "scatter"
           }
          ],
          "scatter3d": [
           {
            "line": {
             "colorbar": {
              "outlinewidth": 0,
              "ticks": ""
             }
            },
            "marker": {
             "colorbar": {
              "outlinewidth": 0,
              "ticks": ""
             }
            },
            "type": "scatter3d"
           }
          ],
          "scattercarpet": [
           {
            "marker": {
             "colorbar": {
              "outlinewidth": 0,
              "ticks": ""
             }
            },
            "type": "scattercarpet"
           }
          ],
          "scattergeo": [
           {
            "marker": {
             "colorbar": {
              "outlinewidth": 0,
              "ticks": ""
             }
            },
            "type": "scattergeo"
           }
          ],
          "scattergl": [
           {
            "marker": {
             "colorbar": {
              "outlinewidth": 0,
              "ticks": ""
             }
            },
            "type": "scattergl"
           }
          ],
          "scattermapbox": [
           {
            "marker": {
             "colorbar": {
              "outlinewidth": 0,
              "ticks": ""
             }
            },
            "type": "scattermapbox"
           }
          ],
          "scatterpolar": [
           {
            "marker": {
             "colorbar": {
              "outlinewidth": 0,
              "ticks": ""
             }
            },
            "type": "scatterpolar"
           }
          ],
          "scatterpolargl": [
           {
            "marker": {
             "colorbar": {
              "outlinewidth": 0,
              "ticks": ""
             }
            },
            "type": "scatterpolargl"
           }
          ],
          "scatterternary": [
           {
            "marker": {
             "colorbar": {
              "outlinewidth": 0,
              "ticks": ""
             }
            },
            "type": "scatterternary"
           }
          ],
          "surface": [
           {
            "colorbar": {
             "outlinewidth": 0,
             "ticks": ""
            },
            "colorscale": [
             [
              0,
              "#0d0887"
             ],
             [
              0.1111111111111111,
              "#46039f"
             ],
             [
              0.2222222222222222,
              "#7201a8"
             ],
             [
              0.3333333333333333,
              "#9c179e"
             ],
             [
              0.4444444444444444,
              "#bd3786"
             ],
             [
              0.5555555555555556,
              "#d8576b"
             ],
             [
              0.6666666666666666,
              "#ed7953"
             ],
             [
              0.7777777777777778,
              "#fb9f3a"
             ],
             [
              0.8888888888888888,
              "#fdca26"
             ],
             [
              1,
              "#f0f921"
             ]
            ],
            "type": "surface"
           }
          ],
          "table": [
           {
            "cells": {
             "fill": {
              "color": "#EBF0F8"
             },
             "line": {
              "color": "white"
             }
            },
            "header": {
             "fill": {
              "color": "#C8D4E3"
             },
             "line": {
              "color": "white"
             }
            },
            "type": "table"
           }
          ]
         },
         "layout": {
          "annotationdefaults": {
           "arrowcolor": "#2a3f5f",
           "arrowhead": 0,
           "arrowwidth": 1
          },
          "autotypenumbers": "strict",
          "coloraxis": {
           "colorbar": {
            "outlinewidth": 0,
            "ticks": ""
           }
          },
          "colorscale": {
           "diverging": [
            [
             0,
             "#8e0152"
            ],
            [
             0.1,
             "#c51b7d"
            ],
            [
             0.2,
             "#de77ae"
            ],
            [
             0.3,
             "#f1b6da"
            ],
            [
             0.4,
             "#fde0ef"
            ],
            [
             0.5,
             "#f7f7f7"
            ],
            [
             0.6,
             "#e6f5d0"
            ],
            [
             0.7,
             "#b8e186"
            ],
            [
             0.8,
             "#7fbc41"
            ],
            [
             0.9,
             "#4d9221"
            ],
            [
             1,
             "#276419"
            ]
           ],
           "sequential": [
            [
             0,
             "#0d0887"
            ],
            [
             0.1111111111111111,
             "#46039f"
            ],
            [
             0.2222222222222222,
             "#7201a8"
            ],
            [
             0.3333333333333333,
             "#9c179e"
            ],
            [
             0.4444444444444444,
             "#bd3786"
            ],
            [
             0.5555555555555556,
             "#d8576b"
            ],
            [
             0.6666666666666666,
             "#ed7953"
            ],
            [
             0.7777777777777778,
             "#fb9f3a"
            ],
            [
             0.8888888888888888,
             "#fdca26"
            ],
            [
             1,
             "#f0f921"
            ]
           ],
           "sequentialminus": [
            [
             0,
             "#0d0887"
            ],
            [
             0.1111111111111111,
             "#46039f"
            ],
            [
             0.2222222222222222,
             "#7201a8"
            ],
            [
             0.3333333333333333,
             "#9c179e"
            ],
            [
             0.4444444444444444,
             "#bd3786"
            ],
            [
             0.5555555555555556,
             "#d8576b"
            ],
            [
             0.6666666666666666,
             "#ed7953"
            ],
            [
             0.7777777777777778,
             "#fb9f3a"
            ],
            [
             0.8888888888888888,
             "#fdca26"
            ],
            [
             1,
             "#f0f921"
            ]
           ]
          },
          "colorway": [
           "#636efa",
           "#EF553B",
           "#00cc96",
           "#ab63fa",
           "#FFA15A",
           "#19d3f3",
           "#FF6692",
           "#B6E880",
           "#FF97FF",
           "#FECB52"
          ],
          "font": {
           "color": "#2a3f5f"
          },
          "geo": {
           "bgcolor": "white",
           "lakecolor": "white",
           "landcolor": "#E5ECF6",
           "showlakes": true,
           "showland": true,
           "subunitcolor": "white"
          },
          "hoverlabel": {
           "align": "left"
          },
          "hovermode": "closest",
          "mapbox": {
           "style": "light"
          },
          "paper_bgcolor": "white",
          "plot_bgcolor": "#E5ECF6",
          "polar": {
           "angularaxis": {
            "gridcolor": "white",
            "linecolor": "white",
            "ticks": ""
           },
           "bgcolor": "#E5ECF6",
           "radialaxis": {
            "gridcolor": "white",
            "linecolor": "white",
            "ticks": ""
           }
          },
          "scene": {
           "xaxis": {
            "backgroundcolor": "#E5ECF6",
            "gridcolor": "white",
            "gridwidth": 2,
            "linecolor": "white",
            "showbackground": true,
            "ticks": "",
            "zerolinecolor": "white"
           },
           "yaxis": {
            "backgroundcolor": "#E5ECF6",
            "gridcolor": "white",
            "gridwidth": 2,
            "linecolor": "white",
            "showbackground": true,
            "ticks": "",
            "zerolinecolor": "white"
           },
           "zaxis": {
            "backgroundcolor": "#E5ECF6",
            "gridcolor": "white",
            "gridwidth": 2,
            "linecolor": "white",
            "showbackground": true,
            "ticks": "",
            "zerolinecolor": "white"
           }
          },
          "shapedefaults": {
           "line": {
            "color": "#2a3f5f"
           }
          },
          "ternary": {
           "aaxis": {
            "gridcolor": "white",
            "linecolor": "white",
            "ticks": ""
           },
           "baxis": {
            "gridcolor": "white",
            "linecolor": "white",
            "ticks": ""
           },
           "bgcolor": "#E5ECF6",
           "caxis": {
            "gridcolor": "white",
            "linecolor": "white",
            "ticks": ""
           }
          },
          "title": {
           "x": 0.05
          },
          "xaxis": {
           "automargin": true,
           "gridcolor": "white",
           "linecolor": "white",
           "ticks": "",
           "title": {
            "standoff": 15
           },
           "zerolinecolor": "white",
           "zerolinewidth": 2
          },
          "yaxis": {
           "automargin": true,
           "gridcolor": "white",
           "linecolor": "white",
           "ticks": "",
           "title": {
            "standoff": 15
           },
           "zerolinecolor": "white",
           "zerolinewidth": 2
          }
         }
        },
        "title": {
         "font": {
          "color": "#4D5663"
         }
        },
        "xaxis": {
         "gridcolor": "#E1E5ED",
         "showgrid": true,
         "tickfont": {
          "color": "#4D5663"
         },
         "title": {
          "font": {
           "color": "#4D5663"
          },
          "text": ""
         },
         "zerolinecolor": "#E1E5ED"
        },
        "xaxis2": {
         "anchor": "y2",
         "gridcolor": "#E1E5ED",
         "showgrid": true,
         "showticklabels": false,
         "tickfont": {
          "color": "#4D5663"
         },
         "title": {
          "font": {
           "color": "#4D5663"
          },
          "text": ""
         },
         "zerolinecolor": "#E1E5ED"
        },
        "yaxis": {
         "domain": [
          0.3,
          1
         ],
         "gridcolor": "#E1E5ED",
         "showgrid": true,
         "tickfont": {
          "color": "#4D5663"
         },
         "title": {
          "font": {
           "color": "#4D5663"
          },
          "text": ""
         },
         "zerolinecolor": "#E1E5ED"
        },
        "yaxis2": {
         "domain": [
          0,
          0.25
         ],
         "gridcolor": "#E1E5ED",
         "showgrid": true,
         "tickfont": {
          "color": "#4D5663"
         },
         "title": {
          "font": {
           "color": "#4D5663"
          },
          "text": "Spread"
         },
         "zerolinecolor": "#E1E5ED"
        }
       }
      },
      "text/html": [
       "<div>                            <div id=\"0e4deb76-b3c1-4404-8c8e-f6b107b18fef\" class=\"plotly-graph-div\" style=\"height:525px; width:100%;\"></div>            <script type=\"text/javascript\">                require([\"plotly\"], function(Plotly) {                    window.PLOTLYENV=window.PLOTLYENV || {};\n",
       "                    window.PLOTLYENV.BASE_URL='https://plot.ly';                                    if (document.getElementById(\"0e4deb76-b3c1-4404-8c8e-f6b107b18fef\")) {                    Plotly.newPlot(                        \"0e4deb76-b3c1-4404-8c8e-f6b107b18fef\",                        [{\"line\":{\"color\":\"rgba(255, 153, 51, 1.0)\",\"dash\":\"solid\",\"shape\":\"linear\",\"width\":1.3},\"mode\":\"lines\",\"name\":\"A\",\"text\":\"\",\"x\":[0,1,2,3,4,5,6,7,8,9,10,11,12,13,14,15,16,17,18,19,20,21,22,23,24,25,26,27,28,29,30,31,32,33,34,35,36,37,38,39,40,41,42,43,44,45,46,47,48,49,50,51,52,53,54,55,56,57,58,59,60,61,62,63,64,65,66,67,68,69,70,71,72,73,74,75,76,77,78,79,80,81,82,83,84,85,86,87,88,89,90,91,92,93,94,95,96,97,98,99],\"y\":[1.2376648357470055,-0.5588649056406358,0.40946706449563175,0.4298301337164253,0.07238270128864749,-0.20598883801382525,1.2385584747531542,-1.0633617765803824,0.3434542115634483,1.3645551658564248,-0.7290820511381018,-1.035624379248983,0.32740419197523757,-0.3351406777735119,-0.6995413769041855,-0.32313520691160347,-0.6968944913793241,-1.2658169541706465,1.8681787506166567,1.654531174173863,0.4323609959994185,0.13342603725333999,-0.25726923923873757,0.7180052009841095,1.403861120520268,1.4472639088688162,-0.6399257301458914,-1.1614404005478682,2.821851024615292,-0.45675635524671515,-1.5795633950159544,-0.36823092116578626,-1.0381007781369387,1.80093516549471,0.605519660199255,0.5520713257359585,1.0739598975916955,-0.08606957115270493,-0.5388402188322184,1.4131676971194618,-0.5605172697322097,-0.6056944769115583,-0.9428065238847683,1.3962914689468222,-0.9272551780488926,-0.16998328050440442,1.957273987112428,-0.08974156694888845,-0.6345160635027977,-0.4863315382609629,-0.6461642065112355,-0.4394231941140874,0.37048755383772125,0.5298402144160002,1.0054517069637832,1.1136464518705884,-2.158906419697583,2.1091061818145262,-1.0703594134064252,-0.5814437688577203,0.03924795414460957,1.006378179337866,-0.3903396632439928,-1.3561617236485808,-1.0708998832851322,1.5806859251958079,0.17179271377825836,-0.9047325249055707,1.1275038903666008,1.989443049293253,-1.090722702073496,-0.2993575416216889,-0.6394549917325748,-1.2244878399342731,1.6452364982836245,0.6177372762506392,-1.3176302335739636,0.03300243685919273,-1.0649093458079049,0.975689453023733,0.05122198401087867,-0.2976791863225247,-0.790150167428062,-0.6625271152615411,0.7860844830326141,-0.016153571380949677,-0.8598140138716176,-0.3185632602435938,-0.8067190607871518,-0.6147307859444832,0.6156300197507949,-0.9048669572075687,-0.2106043328452722,-1.0358044675788922,0.8941804936081772,0.6979637785733713,-0.8090777129605745,0.48770364177028785,-1.317158662969975,1.273288323901588],\"type\":\"scatter\"},{\"line\":{\"color\":\"rgba(55, 128, 191, 1.0)\",\"dash\":\"solid\",\"shape\":\"linear\",\"width\":1.3},\"mode\":\"lines\",\"name\":\"B\",\"text\":\"\",\"x\":[0,1,2,3,4,5,6,7,8,9,10,11,12,13,14,15,16,17,18,19,20,21,22,23,24,25,26,27,28,29,30,31,32,33,34,35,36,37,38,39,40,41,42,43,44,45,46,47,48,49,50,51,52,53,54,55,56,57,58,59,60,61,62,63,64,65,66,67,68,69,70,71,72,73,74,75,76,77,78,79,80,81,82,83,84,85,86,87,88,89,90,91,92,93,94,95,96,97,98,99],\"y\":[-0.5548235720002016,-0.46033933106280667,1.5866377741729345,-0.3272212503881288,0.03402138478618209,-0.7624627502472152,2.348882566100373,-0.4593864721542771,0.31916528326146887,-0.6902004464640703,-0.9071182373778008,0.8693879352151368,0.0908984501140434,1.439719510453182,-1.8632253399626302,-0.479055317221008,0.5925242567873134,0.9182777533280958,-0.7754625687794833,-2.6583226781800797,0.5484315599141389,-0.7042914583634231,-0.1764697624966167,0.2502484719538905,-0.04785972571489474,1.2294110679482604,-0.11427358475630707,-0.3697207652302923,1.6043967881949919,-1.339472912051616,-1.29217789705882,-0.36153222275651,1.022692009649764,0.16598675428648627,0.5551363037720237,0.6740029189118928,0.4826622004974322,-0.11755937452739242,-0.32126785538898134,0.7929988121107323,0.3951830074407376,-2.088496378240888,-0.8759883673140567,0.06364644137637034,0.39384361906406923,0.36875154769134777,-0.30784011826382807,0.7917959824498457,1.5677280244828602,-0.05900920362274808,1.0375464873238087,1.6379622252173518,-1.4057904636265286,0.5394882447018408,1.013559324777699,0.0317138450739195,-0.7447209913640487,0.20612512058230376,-1.7003724779460927,1.352623651396288,1.982935602840355,0.5068908613077829,-0.5164100240190705,0.630123868949732,0.7732102744966399,-1.2393677901893128,-0.3370213940892322,0.3483949651157315,-0.24066619524369812,0.6770539844969181,1.2288154644853018,-1.6743318035872083,-0.021365537352325627,-0.6672899618296045,0.10000066548559038,-1.7247613547037848,-0.05389893734429868,0.9180552257999586,0.48811130008099096,0.33920897319785864,-0.5707494319732833,-0.018216433868223143,-1.2482714701915105,-0.9430832695332753,0.7916447472466199,-0.06956062234436486,1.332297904497416,-0.4046384777011825,-0.7120292252325473,0.058700079993735624,-0.7810474905274281,-0.613129044372448,0.07107100611789133,-1.2234832464477743,-0.04915232875895141,-0.5740497723863638,-0.07084727333194477,-1.1230549919447825,1.2690967918899319,0.8833972953210805],\"type\":\"scatter\"},{\"connectgaps\":false,\"fill\":\"tozeroy\",\"line\":{\"color\":\"green\",\"dash\":\"solid\",\"shape\":\"linear\",\"width\":0.5},\"mode\":\"lines\",\"name\":\"Spread\",\"showlegend\":false,\"x\":[0,1,2,3,4,5,6,7,8,9,10,11,12,13,14,15,16,17,18,19,20,21,22,23,24,25,26,27,28,29,30,31,32,33,34,35,36,37,38,39,40,41,42,43,44,45,46,47,48,49,50,51,52,53,54,55,56,57,58,59,60,61,62,63,64,65,66,67,68,69,70,71,72,73,74,75,76,77,78,79,80,81,82,83,84,85,86,87,88,89,90,91,92,93,94,95,96,97,98,99],\"xaxis\":\"x2\",\"y\":[1.7924884077472072,\"\",\"\",0.7570513841045541,0.038361316502465395,0.5564739122333899,\"\",\"\",0.02428892830197943,2.054755612320495,0.17803618623969908,\"\",0.23650574186119416,\"\",1.1636839630584448,0.15592011030940456,\"\",\"\",2.64364131939614,4.312853852353943,\"\",0.8377174956167631,\"\",0.467756729030219,1.4517208462351627,0.2178528409205558,\"\",\"\",1.2174542364203003,0.8827165568049009,\"\",\"\",\"\",1.6349484112082238,0.05038335642723124,\"\",0.5912976970942634,0.031489803374687486,\"\",0.6201688850087295,\"\",1.4828019013293297,\"\",1.3326450275704518,\"\",\"\",2.2651141053762562,\"\",\"\",\"\",\"\",\"\",1.7762780174642498,\"\",\"\",1.081932606796669,\"\",1.9029810612322224,0.6300130645396675,\"\",\"\",0.49948731803008317,0.12607036077507777,\"\",\"\",2.8200537153851206,0.5088141078674906,\"\",1.368170085610299,1.312389064796335,\"\",1.3749742619655194,\"\",\"\",1.5452358327980342,2.342498630954424,\"\",\"\",\"\",0.6364804798258743,0.621971415984162,\"\",0.45812130276344853,0.2805561542717342,\"\",0.05340705096341518,\"\",0.08607521745758867,\"\",\"\",1.396677510278223,\"\",\"\",0.18767877886888207,0.9433328223671286,1.272013550959735,\"\",1.6107586337150703,\"\",0.3898910285805075],\"yaxis\":\"y2\",\"type\":\"scatter\"},{\"connectgaps\":false,\"fill\":\"tozeroy\",\"line\":{\"color\":\"red\",\"dash\":\"solid\",\"shape\":\"linear\",\"width\":0.5},\"mode\":\"lines\",\"name\":\"Spread\",\"showlegend\":false,\"x\":[0,1,2,3,4,5,6,7,8,9,10,11,12,13,14,15,16,17,18,19,20,21,22,23,24,25,26,27,28,29,30,31,32,33,34,35,36,37,38,39,40,41,42,43,44,45,46,47,48,49,50,51,52,53,54,55,56,57,58,59,60,61,62,63,64,65,66,67,68,69,70,71,72,73,74,75,76,77,78,79,80,81,82,83,84,85,86,87,88,89,90,91,92,93,94,95,96,97,98,99],\"xaxis\":\"x2\",\"y\":[\"\",-0.09852557457782918,-1.1771707096773028,\"\",\"\",\"\",-1.1103240913472188,-0.6039753044261054,\"\",\"\",\"\",-1.9050123144641198,\"\",-1.774860188226694,\"\",\"\",-1.2894187481666375,-2.1840947074987422,\"\",\"\",-0.11607056391472043,\"\",-0.08079947674212087,\"\",\"\",\"\",-0.5256521453895843,-0.7917196353175759,\"\",\"\",-0.2873854979571344,-0.0066986984092762825,-2.0607927877867027,\"\",\"\",-0.12193159317593427,\"\",\"\",-0.2175723634432371,\"\",-0.9557002771729473,\"\",-0.06681815657071155,\"\",-1.3210987971129617,-0.5387348281957522,\"\",-0.8815375493987342,-2.2022440879856577,-0.42732233463821484,-1.6837106938350441,-2.0773854193314394,\"\",-0.009648030285840603,-0.00810761781391589,\"\",-1.4141854283335342,\"\",\"\",-1.9340674202540082,-1.9436876486957455,\"\",\"\",-1.9862855925983127,-1.8441101577817722,\"\",\"\",-1.253127490021302,\"\",\"\",-2.3195381665587975,\"\",-0.6180894543802492,-0.5571978781046686,\"\",\"\",-1.263731296229665,-0.8850527889407659,-1.5530206458888958,\"\",\"\",-0.2794627524543016,\"\",\"\",-0.0055602642140057945,\"\",-2.1921119183690334,\"\",-0.09468983555460453,-0.6734308659382188,\"\",-0.29173791283512074,-0.28167533896316355,\"\",\"\",\"\",-0.7382304396286298,\"\",-2.5862554548599066,\"\"],\"yaxis\":\"y2\",\"type\":\"scatter\"}],                        {\"hovermode\":\"x\",\"legend\":{\"bgcolor\":\"#F5F6F9\",\"font\":{\"color\":\"#4D5663\"}},\"paper_bgcolor\":\"#F5F6F9\",\"plot_bgcolor\":\"#F5F6F9\",\"template\":{\"data\":{\"barpolar\":[{\"marker\":{\"line\":{\"color\":\"#E5ECF6\",\"width\":0.5},\"pattern\":{\"fillmode\":\"overlay\",\"size\":10,\"solidity\":0.2}},\"type\":\"barpolar\"}],\"bar\":[{\"error_x\":{\"color\":\"#2a3f5f\"},\"error_y\":{\"color\":\"#2a3f5f\"},\"marker\":{\"line\":{\"color\":\"#E5ECF6\",\"width\":0.5},\"pattern\":{\"fillmode\":\"overlay\",\"size\":10,\"solidity\":0.2}},\"type\":\"bar\"}],\"carpet\":[{\"aaxis\":{\"endlinecolor\":\"#2a3f5f\",\"gridcolor\":\"white\",\"linecolor\":\"white\",\"minorgridcolor\":\"white\",\"startlinecolor\":\"#2a3f5f\"},\"baxis\":{\"endlinecolor\":\"#2a3f5f\",\"gridcolor\":\"white\",\"linecolor\":\"white\",\"minorgridcolor\":\"white\",\"startlinecolor\":\"#2a3f5f\"},\"type\":\"carpet\"}],\"choropleth\":[{\"colorbar\":{\"outlinewidth\":0,\"ticks\":\"\"},\"type\":\"choropleth\"}],\"contourcarpet\":[{\"colorbar\":{\"outlinewidth\":0,\"ticks\":\"\"},\"type\":\"contourcarpet\"}],\"contour\":[{\"colorbar\":{\"outlinewidth\":0,\"ticks\":\"\"},\"colorscale\":[[0.0,\"#0d0887\"],[0.1111111111111111,\"#46039f\"],[0.2222222222222222,\"#7201a8\"],[0.3333333333333333,\"#9c179e\"],[0.4444444444444444,\"#bd3786\"],[0.5555555555555556,\"#d8576b\"],[0.6666666666666666,\"#ed7953\"],[0.7777777777777778,\"#fb9f3a\"],[0.8888888888888888,\"#fdca26\"],[1.0,\"#f0f921\"]],\"type\":\"contour\"}],\"heatmapgl\":[{\"colorbar\":{\"outlinewidth\":0,\"ticks\":\"\"},\"colorscale\":[[0.0,\"#0d0887\"],[0.1111111111111111,\"#46039f\"],[0.2222222222222222,\"#7201a8\"],[0.3333333333333333,\"#9c179e\"],[0.4444444444444444,\"#bd3786\"],[0.5555555555555556,\"#d8576b\"],[0.6666666666666666,\"#ed7953\"],[0.7777777777777778,\"#fb9f3a\"],[0.8888888888888888,\"#fdca26\"],[1.0,\"#f0f921\"]],\"type\":\"heatmapgl\"}],\"heatmap\":[{\"colorbar\":{\"outlinewidth\":0,\"ticks\":\"\"},\"colorscale\":[[0.0,\"#0d0887\"],[0.1111111111111111,\"#46039f\"],[0.2222222222222222,\"#7201a8\"],[0.3333333333333333,\"#9c179e\"],[0.4444444444444444,\"#bd3786\"],[0.5555555555555556,\"#d8576b\"],[0.6666666666666666,\"#ed7953\"],[0.7777777777777778,\"#fb9f3a\"],[0.8888888888888888,\"#fdca26\"],[1.0,\"#f0f921\"]],\"type\":\"heatmap\"}],\"histogram2dcontour\":[{\"colorbar\":{\"outlinewidth\":0,\"ticks\":\"\"},\"colorscale\":[[0.0,\"#0d0887\"],[0.1111111111111111,\"#46039f\"],[0.2222222222222222,\"#7201a8\"],[0.3333333333333333,\"#9c179e\"],[0.4444444444444444,\"#bd3786\"],[0.5555555555555556,\"#d8576b\"],[0.6666666666666666,\"#ed7953\"],[0.7777777777777778,\"#fb9f3a\"],[0.8888888888888888,\"#fdca26\"],[1.0,\"#f0f921\"]],\"type\":\"histogram2dcontour\"}],\"histogram2d\":[{\"colorbar\":{\"outlinewidth\":0,\"ticks\":\"\"},\"colorscale\":[[0.0,\"#0d0887\"],[0.1111111111111111,\"#46039f\"],[0.2222222222222222,\"#7201a8\"],[0.3333333333333333,\"#9c179e\"],[0.4444444444444444,\"#bd3786\"],[0.5555555555555556,\"#d8576b\"],[0.6666666666666666,\"#ed7953\"],[0.7777777777777778,\"#fb9f3a\"],[0.8888888888888888,\"#fdca26\"],[1.0,\"#f0f921\"]],\"type\":\"histogram2d\"}],\"histogram\":[{\"marker\":{\"pattern\":{\"fillmode\":\"overlay\",\"size\":10,\"solidity\":0.2}},\"type\":\"histogram\"}],\"mesh3d\":[{\"colorbar\":{\"outlinewidth\":0,\"ticks\":\"\"},\"type\":\"mesh3d\"}],\"parcoords\":[{\"line\":{\"colorbar\":{\"outlinewidth\":0,\"ticks\":\"\"}},\"type\":\"parcoords\"}],\"pie\":[{\"automargin\":true,\"type\":\"pie\"}],\"scatter3d\":[{\"line\":{\"colorbar\":{\"outlinewidth\":0,\"ticks\":\"\"}},\"marker\":{\"colorbar\":{\"outlinewidth\":0,\"ticks\":\"\"}},\"type\":\"scatter3d\"}],\"scattercarpet\":[{\"marker\":{\"colorbar\":{\"outlinewidth\":0,\"ticks\":\"\"}},\"type\":\"scattercarpet\"}],\"scattergeo\":[{\"marker\":{\"colorbar\":{\"outlinewidth\":0,\"ticks\":\"\"}},\"type\":\"scattergeo\"}],\"scattergl\":[{\"marker\":{\"colorbar\":{\"outlinewidth\":0,\"ticks\":\"\"}},\"type\":\"scattergl\"}],\"scattermapbox\":[{\"marker\":{\"colorbar\":{\"outlinewidth\":0,\"ticks\":\"\"}},\"type\":\"scattermapbox\"}],\"scatterpolargl\":[{\"marker\":{\"colorbar\":{\"outlinewidth\":0,\"ticks\":\"\"}},\"type\":\"scatterpolargl\"}],\"scatterpolar\":[{\"marker\":{\"colorbar\":{\"outlinewidth\":0,\"ticks\":\"\"}},\"type\":\"scatterpolar\"}],\"scatter\":[{\"fillpattern\":{\"fillmode\":\"overlay\",\"size\":10,\"solidity\":0.2},\"type\":\"scatter\"}],\"scatterternary\":[{\"marker\":{\"colorbar\":{\"outlinewidth\":0,\"ticks\":\"\"}},\"type\":\"scatterternary\"}],\"surface\":[{\"colorbar\":{\"outlinewidth\":0,\"ticks\":\"\"},\"colorscale\":[[0.0,\"#0d0887\"],[0.1111111111111111,\"#46039f\"],[0.2222222222222222,\"#7201a8\"],[0.3333333333333333,\"#9c179e\"],[0.4444444444444444,\"#bd3786\"],[0.5555555555555556,\"#d8576b\"],[0.6666666666666666,\"#ed7953\"],[0.7777777777777778,\"#fb9f3a\"],[0.8888888888888888,\"#fdca26\"],[1.0,\"#f0f921\"]],\"type\":\"surface\"}],\"table\":[{\"cells\":{\"fill\":{\"color\":\"#EBF0F8\"},\"line\":{\"color\":\"white\"}},\"header\":{\"fill\":{\"color\":\"#C8D4E3\"},\"line\":{\"color\":\"white\"}},\"type\":\"table\"}]},\"layout\":{\"annotationdefaults\":{\"arrowcolor\":\"#2a3f5f\",\"arrowhead\":0,\"arrowwidth\":1},\"autotypenumbers\":\"strict\",\"coloraxis\":{\"colorbar\":{\"outlinewidth\":0,\"ticks\":\"\"}},\"colorscale\":{\"diverging\":[[0,\"#8e0152\"],[0.1,\"#c51b7d\"],[0.2,\"#de77ae\"],[0.3,\"#f1b6da\"],[0.4,\"#fde0ef\"],[0.5,\"#f7f7f7\"],[0.6,\"#e6f5d0\"],[0.7,\"#b8e186\"],[0.8,\"#7fbc41\"],[0.9,\"#4d9221\"],[1,\"#276419\"]],\"sequential\":[[0.0,\"#0d0887\"],[0.1111111111111111,\"#46039f\"],[0.2222222222222222,\"#7201a8\"],[0.3333333333333333,\"#9c179e\"],[0.4444444444444444,\"#bd3786\"],[0.5555555555555556,\"#d8576b\"],[0.6666666666666666,\"#ed7953\"],[0.7777777777777778,\"#fb9f3a\"],[0.8888888888888888,\"#fdca26\"],[1.0,\"#f0f921\"]],\"sequentialminus\":[[0.0,\"#0d0887\"],[0.1111111111111111,\"#46039f\"],[0.2222222222222222,\"#7201a8\"],[0.3333333333333333,\"#9c179e\"],[0.4444444444444444,\"#bd3786\"],[0.5555555555555556,\"#d8576b\"],[0.6666666666666666,\"#ed7953\"],[0.7777777777777778,\"#fb9f3a\"],[0.8888888888888888,\"#fdca26\"],[1.0,\"#f0f921\"]]},\"colorway\":[\"#636efa\",\"#EF553B\",\"#00cc96\",\"#ab63fa\",\"#FFA15A\",\"#19d3f3\",\"#FF6692\",\"#B6E880\",\"#FF97FF\",\"#FECB52\"],\"font\":{\"color\":\"#2a3f5f\"},\"geo\":{\"bgcolor\":\"white\",\"lakecolor\":\"white\",\"landcolor\":\"#E5ECF6\",\"showlakes\":true,\"showland\":true,\"subunitcolor\":\"white\"},\"hoverlabel\":{\"align\":\"left\"},\"hovermode\":\"closest\",\"mapbox\":{\"style\":\"light\"},\"paper_bgcolor\":\"white\",\"plot_bgcolor\":\"#E5ECF6\",\"polar\":{\"angularaxis\":{\"gridcolor\":\"white\",\"linecolor\":\"white\",\"ticks\":\"\"},\"bgcolor\":\"#E5ECF6\",\"radialaxis\":{\"gridcolor\":\"white\",\"linecolor\":\"white\",\"ticks\":\"\"}},\"scene\":{\"xaxis\":{\"backgroundcolor\":\"#E5ECF6\",\"gridcolor\":\"white\",\"gridwidth\":2,\"linecolor\":\"white\",\"showbackground\":true,\"ticks\":\"\",\"zerolinecolor\":\"white\"},\"yaxis\":{\"backgroundcolor\":\"#E5ECF6\",\"gridcolor\":\"white\",\"gridwidth\":2,\"linecolor\":\"white\",\"showbackground\":true,\"ticks\":\"\",\"zerolinecolor\":\"white\"},\"zaxis\":{\"backgroundcolor\":\"#E5ECF6\",\"gridcolor\":\"white\",\"gridwidth\":2,\"linecolor\":\"white\",\"showbackground\":true,\"ticks\":\"\",\"zerolinecolor\":\"white\"}},\"shapedefaults\":{\"line\":{\"color\":\"#2a3f5f\"}},\"ternary\":{\"aaxis\":{\"gridcolor\":\"white\",\"linecolor\":\"white\",\"ticks\":\"\"},\"baxis\":{\"gridcolor\":\"white\",\"linecolor\":\"white\",\"ticks\":\"\"},\"bgcolor\":\"#E5ECF6\",\"caxis\":{\"gridcolor\":\"white\",\"linecolor\":\"white\",\"ticks\":\"\"}},\"title\":{\"x\":0.05},\"xaxis\":{\"automargin\":true,\"gridcolor\":\"white\",\"linecolor\":\"white\",\"ticks\":\"\",\"title\":{\"standoff\":15},\"zerolinecolor\":\"white\",\"zerolinewidth\":2},\"yaxis\":{\"automargin\":true,\"gridcolor\":\"white\",\"linecolor\":\"white\",\"ticks\":\"\",\"title\":{\"standoff\":15},\"zerolinecolor\":\"white\",\"zerolinewidth\":2}}},\"title\":{\"font\":{\"color\":\"#4D5663\"}},\"xaxis\":{\"gridcolor\":\"#E1E5ED\",\"showgrid\":true,\"tickfont\":{\"color\":\"#4D5663\"},\"title\":{\"font\":{\"color\":\"#4D5663\"},\"text\":\"\"},\"zerolinecolor\":\"#E1E5ED\"},\"yaxis\":{\"domain\":[0.3,1],\"gridcolor\":\"#E1E5ED\",\"showgrid\":true,\"tickfont\":{\"color\":\"#4D5663\"},\"title\":{\"font\":{\"color\":\"#4D5663\"},\"text\":\"\"},\"zerolinecolor\":\"#E1E5ED\"},\"yaxis2\":{\"domain\":[0,0.25],\"gridcolor\":\"#E1E5ED\",\"showgrid\":true,\"tickfont\":{\"color\":\"#4D5663\"},\"title\":{\"font\":{\"color\":\"#4D5663\"},\"text\":\"Spread\"},\"zerolinecolor\":\"#E1E5ED\"},\"xaxis2\":{\"anchor\":\"y2\",\"gridcolor\":\"#E1E5ED\",\"showgrid\":true,\"showticklabels\":false,\"tickfont\":{\"color\":\"#4D5663\"},\"title\":{\"font\":{\"color\":\"#4D5663\"},\"text\":\"\"},\"zerolinecolor\":\"#E1E5ED\"}},                        {\"showLink\": true, \"linkText\": \"Export to plot.ly\", \"plotlyServerURL\": \"https://plot.ly\", \"responsive\": true}                    ).then(function(){\n",
       "                            \n",
       "var gd = document.getElementById('0e4deb76-b3c1-4404-8c8e-f6b107b18fef');\n",
       "var x = new MutationObserver(function (mutations, observer) {{\n",
       "        var display = window.getComputedStyle(gd).display;\n",
       "        if (!display || display === 'none') {{\n",
       "            console.log([gd, 'removed!']);\n",
       "            Plotly.purge(gd);\n",
       "            observer.disconnect();\n",
       "        }}\n",
       "}});\n",
       "\n",
       "// Listen for the removal of the full notebook cells\n",
       "var notebookContainer = gd.closest('#notebook-container');\n",
       "if (notebookContainer) {{\n",
       "    x.observe(notebookContainer, {childList: true});\n",
       "}}\n",
       "\n",
       "// Listen for the clearing of the current output cell\n",
       "var outputEl = gd.closest('.output');\n",
       "if (outputEl) {{\n",
       "    x.observe(outputEl, {childList: true});\n",
       "}}\n",
       "\n",
       "                        })                };                });            </script>        </div>"
      ]
     },
     "metadata": {},
     "output_type": "display_data"
    }
   ],
   "source": [
    "df[['A','B']].iplot(kind='spread')"
   ]
  },
  {
   "cell_type": "markdown",
   "metadata": {},
   "source": [
    "## histogram"
   ]
  },
  {
   "cell_type": "code",
   "execution_count": 16,
   "metadata": {},
   "outputs": [
    {
     "data": {
      "application/vnd.plotly.v1+json": {
       "config": {
        "linkText": "Export to plot.ly",
        "plotlyServerURL": "https://plot.ly",
        "showLink": true
       },
       "data": [
        {
         "histfunc": "count",
         "histnorm": "",
         "marker": {
          "color": "rgba(255, 153, 51, 1.0)",
          "line": {
           "color": "#4D5663",
           "width": 1.3
          }
         },
         "name": "A",
         "nbinsx": 25,
         "opacity": 0.8,
         "orientation": "v",
         "type": "histogram",
         "x": [
          1.2376648357470055,
          -0.5588649056406358,
          0.40946706449563175,
          0.4298301337164253,
          0.07238270128864749,
          -0.20598883801382525,
          1.2385584747531542,
          -1.0633617765803824,
          0.3434542115634483,
          1.3645551658564248,
          -0.7290820511381018,
          -1.035624379248983,
          0.32740419197523757,
          -0.3351406777735119,
          -0.6995413769041855,
          -0.32313520691160347,
          -0.6968944913793241,
          -1.2658169541706465,
          1.8681787506166567,
          1.654531174173863,
          0.4323609959994185,
          0.13342603725333999,
          -0.25726923923873757,
          0.7180052009841095,
          1.403861120520268,
          1.4472639088688162,
          -0.6399257301458914,
          -1.1614404005478682,
          2.821851024615292,
          -0.45675635524671515,
          -1.5795633950159544,
          -0.36823092116578626,
          -1.0381007781369387,
          1.80093516549471,
          0.605519660199255,
          0.5520713257359585,
          1.0739598975916955,
          -0.08606957115270493,
          -0.5388402188322184,
          1.4131676971194618,
          -0.5605172697322097,
          -0.6056944769115583,
          -0.9428065238847683,
          1.3962914689468222,
          -0.9272551780488926,
          -0.16998328050440442,
          1.957273987112428,
          -0.08974156694888845,
          -0.6345160635027977,
          -0.4863315382609629,
          -0.6461642065112355,
          -0.4394231941140874,
          0.37048755383772125,
          0.5298402144160002,
          1.0054517069637832,
          1.1136464518705884,
          -2.158906419697583,
          2.1091061818145262,
          -1.0703594134064252,
          -0.5814437688577203,
          0.03924795414460957,
          1.006378179337866,
          -0.3903396632439928,
          -1.3561617236485808,
          -1.0708998832851322,
          1.5806859251958079,
          0.17179271377825836,
          -0.9047325249055707,
          1.1275038903666008,
          1.989443049293253,
          -1.090722702073496,
          -0.2993575416216889,
          -0.6394549917325748,
          -1.2244878399342731,
          1.6452364982836245,
          0.6177372762506392,
          -1.3176302335739636,
          0.03300243685919273,
          -1.0649093458079049,
          0.975689453023733,
          0.05122198401087867,
          -0.2976791863225247,
          -0.790150167428062,
          -0.6625271152615411,
          0.7860844830326141,
          -0.016153571380949677,
          -0.8598140138716176,
          -0.3185632602435938,
          -0.8067190607871518,
          -0.6147307859444832,
          0.6156300197507949,
          -0.9048669572075687,
          -0.2106043328452722,
          -1.0358044675788922,
          0.8941804936081772,
          0.6979637785733713,
          -0.8090777129605745,
          0.48770364177028785,
          -1.317158662969975,
          1.273288323901588
         ]
        }
       ],
       "layout": {
        "barmode": "overlay",
        "legend": {
         "bgcolor": "#F5F6F9",
         "font": {
          "color": "#4D5663"
         }
        },
        "paper_bgcolor": "#F5F6F9",
        "plot_bgcolor": "#F5F6F9",
        "template": {
         "data": {
          "bar": [
           {
            "error_x": {
             "color": "#2a3f5f"
            },
            "error_y": {
             "color": "#2a3f5f"
            },
            "marker": {
             "line": {
              "color": "#E5ECF6",
              "width": 0.5
             },
             "pattern": {
              "fillmode": "overlay",
              "size": 10,
              "solidity": 0.2
             }
            },
            "type": "bar"
           }
          ],
          "barpolar": [
           {
            "marker": {
             "line": {
              "color": "#E5ECF6",
              "width": 0.5
             },
             "pattern": {
              "fillmode": "overlay",
              "size": 10,
              "solidity": 0.2
             }
            },
            "type": "barpolar"
           }
          ],
          "carpet": [
           {
            "aaxis": {
             "endlinecolor": "#2a3f5f",
             "gridcolor": "white",
             "linecolor": "white",
             "minorgridcolor": "white",
             "startlinecolor": "#2a3f5f"
            },
            "baxis": {
             "endlinecolor": "#2a3f5f",
             "gridcolor": "white",
             "linecolor": "white",
             "minorgridcolor": "white",
             "startlinecolor": "#2a3f5f"
            },
            "type": "carpet"
           }
          ],
          "choropleth": [
           {
            "colorbar": {
             "outlinewidth": 0,
             "ticks": ""
            },
            "type": "choropleth"
           }
          ],
          "contour": [
           {
            "colorbar": {
             "outlinewidth": 0,
             "ticks": ""
            },
            "colorscale": [
             [
              0,
              "#0d0887"
             ],
             [
              0.1111111111111111,
              "#46039f"
             ],
             [
              0.2222222222222222,
              "#7201a8"
             ],
             [
              0.3333333333333333,
              "#9c179e"
             ],
             [
              0.4444444444444444,
              "#bd3786"
             ],
             [
              0.5555555555555556,
              "#d8576b"
             ],
             [
              0.6666666666666666,
              "#ed7953"
             ],
             [
              0.7777777777777778,
              "#fb9f3a"
             ],
             [
              0.8888888888888888,
              "#fdca26"
             ],
             [
              1,
              "#f0f921"
             ]
            ],
            "type": "contour"
           }
          ],
          "contourcarpet": [
           {
            "colorbar": {
             "outlinewidth": 0,
             "ticks": ""
            },
            "type": "contourcarpet"
           }
          ],
          "heatmap": [
           {
            "colorbar": {
             "outlinewidth": 0,
             "ticks": ""
            },
            "colorscale": [
             [
              0,
              "#0d0887"
             ],
             [
              0.1111111111111111,
              "#46039f"
             ],
             [
              0.2222222222222222,
              "#7201a8"
             ],
             [
              0.3333333333333333,
              "#9c179e"
             ],
             [
              0.4444444444444444,
              "#bd3786"
             ],
             [
              0.5555555555555556,
              "#d8576b"
             ],
             [
              0.6666666666666666,
              "#ed7953"
             ],
             [
              0.7777777777777778,
              "#fb9f3a"
             ],
             [
              0.8888888888888888,
              "#fdca26"
             ],
             [
              1,
              "#f0f921"
             ]
            ],
            "type": "heatmap"
           }
          ],
          "heatmapgl": [
           {
            "colorbar": {
             "outlinewidth": 0,
             "ticks": ""
            },
            "colorscale": [
             [
              0,
              "#0d0887"
             ],
             [
              0.1111111111111111,
              "#46039f"
             ],
             [
              0.2222222222222222,
              "#7201a8"
             ],
             [
              0.3333333333333333,
              "#9c179e"
             ],
             [
              0.4444444444444444,
              "#bd3786"
             ],
             [
              0.5555555555555556,
              "#d8576b"
             ],
             [
              0.6666666666666666,
              "#ed7953"
             ],
             [
              0.7777777777777778,
              "#fb9f3a"
             ],
             [
              0.8888888888888888,
              "#fdca26"
             ],
             [
              1,
              "#f0f921"
             ]
            ],
            "type": "heatmapgl"
           }
          ],
          "histogram": [
           {
            "marker": {
             "pattern": {
              "fillmode": "overlay",
              "size": 10,
              "solidity": 0.2
             }
            },
            "type": "histogram"
           }
          ],
          "histogram2d": [
           {
            "colorbar": {
             "outlinewidth": 0,
             "ticks": ""
            },
            "colorscale": [
             [
              0,
              "#0d0887"
             ],
             [
              0.1111111111111111,
              "#46039f"
             ],
             [
              0.2222222222222222,
              "#7201a8"
             ],
             [
              0.3333333333333333,
              "#9c179e"
             ],
             [
              0.4444444444444444,
              "#bd3786"
             ],
             [
              0.5555555555555556,
              "#d8576b"
             ],
             [
              0.6666666666666666,
              "#ed7953"
             ],
             [
              0.7777777777777778,
              "#fb9f3a"
             ],
             [
              0.8888888888888888,
              "#fdca26"
             ],
             [
              1,
              "#f0f921"
             ]
            ],
            "type": "histogram2d"
           }
          ],
          "histogram2dcontour": [
           {
            "colorbar": {
             "outlinewidth": 0,
             "ticks": ""
            },
            "colorscale": [
             [
              0,
              "#0d0887"
             ],
             [
              0.1111111111111111,
              "#46039f"
             ],
             [
              0.2222222222222222,
              "#7201a8"
             ],
             [
              0.3333333333333333,
              "#9c179e"
             ],
             [
              0.4444444444444444,
              "#bd3786"
             ],
             [
              0.5555555555555556,
              "#d8576b"
             ],
             [
              0.6666666666666666,
              "#ed7953"
             ],
             [
              0.7777777777777778,
              "#fb9f3a"
             ],
             [
              0.8888888888888888,
              "#fdca26"
             ],
             [
              1,
              "#f0f921"
             ]
            ],
            "type": "histogram2dcontour"
           }
          ],
          "mesh3d": [
           {
            "colorbar": {
             "outlinewidth": 0,
             "ticks": ""
            },
            "type": "mesh3d"
           }
          ],
          "parcoords": [
           {
            "line": {
             "colorbar": {
              "outlinewidth": 0,
              "ticks": ""
             }
            },
            "type": "parcoords"
           }
          ],
          "pie": [
           {
            "automargin": true,
            "type": "pie"
           }
          ],
          "scatter": [
           {
            "fillpattern": {
             "fillmode": "overlay",
             "size": 10,
             "solidity": 0.2
            },
            "type": "scatter"
           }
          ],
          "scatter3d": [
           {
            "line": {
             "colorbar": {
              "outlinewidth": 0,
              "ticks": ""
             }
            },
            "marker": {
             "colorbar": {
              "outlinewidth": 0,
              "ticks": ""
             }
            },
            "type": "scatter3d"
           }
          ],
          "scattercarpet": [
           {
            "marker": {
             "colorbar": {
              "outlinewidth": 0,
              "ticks": ""
             }
            },
            "type": "scattercarpet"
           }
          ],
          "scattergeo": [
           {
            "marker": {
             "colorbar": {
              "outlinewidth": 0,
              "ticks": ""
             }
            },
            "type": "scattergeo"
           }
          ],
          "scattergl": [
           {
            "marker": {
             "colorbar": {
              "outlinewidth": 0,
              "ticks": ""
             }
            },
            "type": "scattergl"
           }
          ],
          "scattermapbox": [
           {
            "marker": {
             "colorbar": {
              "outlinewidth": 0,
              "ticks": ""
             }
            },
            "type": "scattermapbox"
           }
          ],
          "scatterpolar": [
           {
            "marker": {
             "colorbar": {
              "outlinewidth": 0,
              "ticks": ""
             }
            },
            "type": "scatterpolar"
           }
          ],
          "scatterpolargl": [
           {
            "marker": {
             "colorbar": {
              "outlinewidth": 0,
              "ticks": ""
             }
            },
            "type": "scatterpolargl"
           }
          ],
          "scatterternary": [
           {
            "marker": {
             "colorbar": {
              "outlinewidth": 0,
              "ticks": ""
             }
            },
            "type": "scatterternary"
           }
          ],
          "surface": [
           {
            "colorbar": {
             "outlinewidth": 0,
             "ticks": ""
            },
            "colorscale": [
             [
              0,
              "#0d0887"
             ],
             [
              0.1111111111111111,
              "#46039f"
             ],
             [
              0.2222222222222222,
              "#7201a8"
             ],
             [
              0.3333333333333333,
              "#9c179e"
             ],
             [
              0.4444444444444444,
              "#bd3786"
             ],
             [
              0.5555555555555556,
              "#d8576b"
             ],
             [
              0.6666666666666666,
              "#ed7953"
             ],
             [
              0.7777777777777778,
              "#fb9f3a"
             ],
             [
              0.8888888888888888,
              "#fdca26"
             ],
             [
              1,
              "#f0f921"
             ]
            ],
            "type": "surface"
           }
          ],
          "table": [
           {
            "cells": {
             "fill": {
              "color": "#EBF0F8"
             },
             "line": {
              "color": "white"
             }
            },
            "header": {
             "fill": {
              "color": "#C8D4E3"
             },
             "line": {
              "color": "white"
             }
            },
            "type": "table"
           }
          ]
         },
         "layout": {
          "annotationdefaults": {
           "arrowcolor": "#2a3f5f",
           "arrowhead": 0,
           "arrowwidth": 1
          },
          "autotypenumbers": "strict",
          "coloraxis": {
           "colorbar": {
            "outlinewidth": 0,
            "ticks": ""
           }
          },
          "colorscale": {
           "diverging": [
            [
             0,
             "#8e0152"
            ],
            [
             0.1,
             "#c51b7d"
            ],
            [
             0.2,
             "#de77ae"
            ],
            [
             0.3,
             "#f1b6da"
            ],
            [
             0.4,
             "#fde0ef"
            ],
            [
             0.5,
             "#f7f7f7"
            ],
            [
             0.6,
             "#e6f5d0"
            ],
            [
             0.7,
             "#b8e186"
            ],
            [
             0.8,
             "#7fbc41"
            ],
            [
             0.9,
             "#4d9221"
            ],
            [
             1,
             "#276419"
            ]
           ],
           "sequential": [
            [
             0,
             "#0d0887"
            ],
            [
             0.1111111111111111,
             "#46039f"
            ],
            [
             0.2222222222222222,
             "#7201a8"
            ],
            [
             0.3333333333333333,
             "#9c179e"
            ],
            [
             0.4444444444444444,
             "#bd3786"
            ],
            [
             0.5555555555555556,
             "#d8576b"
            ],
            [
             0.6666666666666666,
             "#ed7953"
            ],
            [
             0.7777777777777778,
             "#fb9f3a"
            ],
            [
             0.8888888888888888,
             "#fdca26"
            ],
            [
             1,
             "#f0f921"
            ]
           ],
           "sequentialminus": [
            [
             0,
             "#0d0887"
            ],
            [
             0.1111111111111111,
             "#46039f"
            ],
            [
             0.2222222222222222,
             "#7201a8"
            ],
            [
             0.3333333333333333,
             "#9c179e"
            ],
            [
             0.4444444444444444,
             "#bd3786"
            ],
            [
             0.5555555555555556,
             "#d8576b"
            ],
            [
             0.6666666666666666,
             "#ed7953"
            ],
            [
             0.7777777777777778,
             "#fb9f3a"
            ],
            [
             0.8888888888888888,
             "#fdca26"
            ],
            [
             1,
             "#f0f921"
            ]
           ]
          },
          "colorway": [
           "#636efa",
           "#EF553B",
           "#00cc96",
           "#ab63fa",
           "#FFA15A",
           "#19d3f3",
           "#FF6692",
           "#B6E880",
           "#FF97FF",
           "#FECB52"
          ],
          "font": {
           "color": "#2a3f5f"
          },
          "geo": {
           "bgcolor": "white",
           "lakecolor": "white",
           "landcolor": "#E5ECF6",
           "showlakes": true,
           "showland": true,
           "subunitcolor": "white"
          },
          "hoverlabel": {
           "align": "left"
          },
          "hovermode": "closest",
          "mapbox": {
           "style": "light"
          },
          "paper_bgcolor": "white",
          "plot_bgcolor": "#E5ECF6",
          "polar": {
           "angularaxis": {
            "gridcolor": "white",
            "linecolor": "white",
            "ticks": ""
           },
           "bgcolor": "#E5ECF6",
           "radialaxis": {
            "gridcolor": "white",
            "linecolor": "white",
            "ticks": ""
           }
          },
          "scene": {
           "xaxis": {
            "backgroundcolor": "#E5ECF6",
            "gridcolor": "white",
            "gridwidth": 2,
            "linecolor": "white",
            "showbackground": true,
            "ticks": "",
            "zerolinecolor": "white"
           },
           "yaxis": {
            "backgroundcolor": "#E5ECF6",
            "gridcolor": "white",
            "gridwidth": 2,
            "linecolor": "white",
            "showbackground": true,
            "ticks": "",
            "zerolinecolor": "white"
           },
           "zaxis": {
            "backgroundcolor": "#E5ECF6",
            "gridcolor": "white",
            "gridwidth": 2,
            "linecolor": "white",
            "showbackground": true,
            "ticks": "",
            "zerolinecolor": "white"
           }
          },
          "shapedefaults": {
           "line": {
            "color": "#2a3f5f"
           }
          },
          "ternary": {
           "aaxis": {
            "gridcolor": "white",
            "linecolor": "white",
            "ticks": ""
           },
           "baxis": {
            "gridcolor": "white",
            "linecolor": "white",
            "ticks": ""
           },
           "bgcolor": "#E5ECF6",
           "caxis": {
            "gridcolor": "white",
            "linecolor": "white",
            "ticks": ""
           }
          },
          "title": {
           "x": 0.05
          },
          "xaxis": {
           "automargin": true,
           "gridcolor": "white",
           "linecolor": "white",
           "ticks": "",
           "title": {
            "standoff": 15
           },
           "zerolinecolor": "white",
           "zerolinewidth": 2
          },
          "yaxis": {
           "automargin": true,
           "gridcolor": "white",
           "linecolor": "white",
           "ticks": "",
           "title": {
            "standoff": 15
           },
           "zerolinecolor": "white",
           "zerolinewidth": 2
          }
         }
        },
        "title": {
         "font": {
          "color": "#4D5663"
         }
        },
        "xaxis": {
         "gridcolor": "#E1E5ED",
         "showgrid": true,
         "tickfont": {
          "color": "#4D5663"
         },
         "title": {
          "font": {
           "color": "#4D5663"
          },
          "text": ""
         },
         "zerolinecolor": "#E1E5ED"
        },
        "yaxis": {
         "gridcolor": "#E1E5ED",
         "showgrid": true,
         "tickfont": {
          "color": "#4D5663"
         },
         "title": {
          "font": {
           "color": "#4D5663"
          },
          "text": ""
         },
         "zerolinecolor": "#E1E5ED"
        }
       }
      },
      "text/html": [
       "<div>                            <div id=\"2a59fa34-5bba-4c66-86dd-f4a73976b875\" class=\"plotly-graph-div\" style=\"height:525px; width:100%;\"></div>            <script type=\"text/javascript\">                require([\"plotly\"], function(Plotly) {                    window.PLOTLYENV=window.PLOTLYENV || {};\n",
       "                    window.PLOTLYENV.BASE_URL='https://plot.ly';                                    if (document.getElementById(\"2a59fa34-5bba-4c66-86dd-f4a73976b875\")) {                    Plotly.newPlot(                        \"2a59fa34-5bba-4c66-86dd-f4a73976b875\",                        [{\"histfunc\":\"count\",\"histnorm\":\"\",\"marker\":{\"color\":\"rgba(255, 153, 51, 1.0)\",\"line\":{\"color\":\"#4D5663\",\"width\":1.3}},\"name\":\"A\",\"nbinsx\":25,\"opacity\":0.8,\"orientation\":\"v\",\"x\":[1.2376648357470055,-0.5588649056406358,0.40946706449563175,0.4298301337164253,0.07238270128864749,-0.20598883801382525,1.2385584747531542,-1.0633617765803824,0.3434542115634483,1.3645551658564248,-0.7290820511381018,-1.035624379248983,0.32740419197523757,-0.3351406777735119,-0.6995413769041855,-0.32313520691160347,-0.6968944913793241,-1.2658169541706465,1.8681787506166567,1.654531174173863,0.4323609959994185,0.13342603725333999,-0.25726923923873757,0.7180052009841095,1.403861120520268,1.4472639088688162,-0.6399257301458914,-1.1614404005478682,2.821851024615292,-0.45675635524671515,-1.5795633950159544,-0.36823092116578626,-1.0381007781369387,1.80093516549471,0.605519660199255,0.5520713257359585,1.0739598975916955,-0.08606957115270493,-0.5388402188322184,1.4131676971194618,-0.5605172697322097,-0.6056944769115583,-0.9428065238847683,1.3962914689468222,-0.9272551780488926,-0.16998328050440442,1.957273987112428,-0.08974156694888845,-0.6345160635027977,-0.4863315382609629,-0.6461642065112355,-0.4394231941140874,0.37048755383772125,0.5298402144160002,1.0054517069637832,1.1136464518705884,-2.158906419697583,2.1091061818145262,-1.0703594134064252,-0.5814437688577203,0.03924795414460957,1.006378179337866,-0.3903396632439928,-1.3561617236485808,-1.0708998832851322,1.5806859251958079,0.17179271377825836,-0.9047325249055707,1.1275038903666008,1.989443049293253,-1.090722702073496,-0.2993575416216889,-0.6394549917325748,-1.2244878399342731,1.6452364982836245,0.6177372762506392,-1.3176302335739636,0.03300243685919273,-1.0649093458079049,0.975689453023733,0.05122198401087867,-0.2976791863225247,-0.790150167428062,-0.6625271152615411,0.7860844830326141,-0.016153571380949677,-0.8598140138716176,-0.3185632602435938,-0.8067190607871518,-0.6147307859444832,0.6156300197507949,-0.9048669572075687,-0.2106043328452722,-1.0358044675788922,0.8941804936081772,0.6979637785733713,-0.8090777129605745,0.48770364177028785,-1.317158662969975,1.273288323901588],\"type\":\"histogram\"}],                        {\"barmode\":\"overlay\",\"legend\":{\"bgcolor\":\"#F5F6F9\",\"font\":{\"color\":\"#4D5663\"}},\"paper_bgcolor\":\"#F5F6F9\",\"plot_bgcolor\":\"#F5F6F9\",\"template\":{\"data\":{\"barpolar\":[{\"marker\":{\"line\":{\"color\":\"#E5ECF6\",\"width\":0.5},\"pattern\":{\"fillmode\":\"overlay\",\"size\":10,\"solidity\":0.2}},\"type\":\"barpolar\"}],\"bar\":[{\"error_x\":{\"color\":\"#2a3f5f\"},\"error_y\":{\"color\":\"#2a3f5f\"},\"marker\":{\"line\":{\"color\":\"#E5ECF6\",\"width\":0.5},\"pattern\":{\"fillmode\":\"overlay\",\"size\":10,\"solidity\":0.2}},\"type\":\"bar\"}],\"carpet\":[{\"aaxis\":{\"endlinecolor\":\"#2a3f5f\",\"gridcolor\":\"white\",\"linecolor\":\"white\",\"minorgridcolor\":\"white\",\"startlinecolor\":\"#2a3f5f\"},\"baxis\":{\"endlinecolor\":\"#2a3f5f\",\"gridcolor\":\"white\",\"linecolor\":\"white\",\"minorgridcolor\":\"white\",\"startlinecolor\":\"#2a3f5f\"},\"type\":\"carpet\"}],\"choropleth\":[{\"colorbar\":{\"outlinewidth\":0,\"ticks\":\"\"},\"type\":\"choropleth\"}],\"contourcarpet\":[{\"colorbar\":{\"outlinewidth\":0,\"ticks\":\"\"},\"type\":\"contourcarpet\"}],\"contour\":[{\"colorbar\":{\"outlinewidth\":0,\"ticks\":\"\"},\"colorscale\":[[0.0,\"#0d0887\"],[0.1111111111111111,\"#46039f\"],[0.2222222222222222,\"#7201a8\"],[0.3333333333333333,\"#9c179e\"],[0.4444444444444444,\"#bd3786\"],[0.5555555555555556,\"#d8576b\"],[0.6666666666666666,\"#ed7953\"],[0.7777777777777778,\"#fb9f3a\"],[0.8888888888888888,\"#fdca26\"],[1.0,\"#f0f921\"]],\"type\":\"contour\"}],\"heatmapgl\":[{\"colorbar\":{\"outlinewidth\":0,\"ticks\":\"\"},\"colorscale\":[[0.0,\"#0d0887\"],[0.1111111111111111,\"#46039f\"],[0.2222222222222222,\"#7201a8\"],[0.3333333333333333,\"#9c179e\"],[0.4444444444444444,\"#bd3786\"],[0.5555555555555556,\"#d8576b\"],[0.6666666666666666,\"#ed7953\"],[0.7777777777777778,\"#fb9f3a\"],[0.8888888888888888,\"#fdca26\"],[1.0,\"#f0f921\"]],\"type\":\"heatmapgl\"}],\"heatmap\":[{\"colorbar\":{\"outlinewidth\":0,\"ticks\":\"\"},\"colorscale\":[[0.0,\"#0d0887\"],[0.1111111111111111,\"#46039f\"],[0.2222222222222222,\"#7201a8\"],[0.3333333333333333,\"#9c179e\"],[0.4444444444444444,\"#bd3786\"],[0.5555555555555556,\"#d8576b\"],[0.6666666666666666,\"#ed7953\"],[0.7777777777777778,\"#fb9f3a\"],[0.8888888888888888,\"#fdca26\"],[1.0,\"#f0f921\"]],\"type\":\"heatmap\"}],\"histogram2dcontour\":[{\"colorbar\":{\"outlinewidth\":0,\"ticks\":\"\"},\"colorscale\":[[0.0,\"#0d0887\"],[0.1111111111111111,\"#46039f\"],[0.2222222222222222,\"#7201a8\"],[0.3333333333333333,\"#9c179e\"],[0.4444444444444444,\"#bd3786\"],[0.5555555555555556,\"#d8576b\"],[0.6666666666666666,\"#ed7953\"],[0.7777777777777778,\"#fb9f3a\"],[0.8888888888888888,\"#fdca26\"],[1.0,\"#f0f921\"]],\"type\":\"histogram2dcontour\"}],\"histogram2d\":[{\"colorbar\":{\"outlinewidth\":0,\"ticks\":\"\"},\"colorscale\":[[0.0,\"#0d0887\"],[0.1111111111111111,\"#46039f\"],[0.2222222222222222,\"#7201a8\"],[0.3333333333333333,\"#9c179e\"],[0.4444444444444444,\"#bd3786\"],[0.5555555555555556,\"#d8576b\"],[0.6666666666666666,\"#ed7953\"],[0.7777777777777778,\"#fb9f3a\"],[0.8888888888888888,\"#fdca26\"],[1.0,\"#f0f921\"]],\"type\":\"histogram2d\"}],\"histogram\":[{\"marker\":{\"pattern\":{\"fillmode\":\"overlay\",\"size\":10,\"solidity\":0.2}},\"type\":\"histogram\"}],\"mesh3d\":[{\"colorbar\":{\"outlinewidth\":0,\"ticks\":\"\"},\"type\":\"mesh3d\"}],\"parcoords\":[{\"line\":{\"colorbar\":{\"outlinewidth\":0,\"ticks\":\"\"}},\"type\":\"parcoords\"}],\"pie\":[{\"automargin\":true,\"type\":\"pie\"}],\"scatter3d\":[{\"line\":{\"colorbar\":{\"outlinewidth\":0,\"ticks\":\"\"}},\"marker\":{\"colorbar\":{\"outlinewidth\":0,\"ticks\":\"\"}},\"type\":\"scatter3d\"}],\"scattercarpet\":[{\"marker\":{\"colorbar\":{\"outlinewidth\":0,\"ticks\":\"\"}},\"type\":\"scattercarpet\"}],\"scattergeo\":[{\"marker\":{\"colorbar\":{\"outlinewidth\":0,\"ticks\":\"\"}},\"type\":\"scattergeo\"}],\"scattergl\":[{\"marker\":{\"colorbar\":{\"outlinewidth\":0,\"ticks\":\"\"}},\"type\":\"scattergl\"}],\"scattermapbox\":[{\"marker\":{\"colorbar\":{\"outlinewidth\":0,\"ticks\":\"\"}},\"type\":\"scattermapbox\"}],\"scatterpolargl\":[{\"marker\":{\"colorbar\":{\"outlinewidth\":0,\"ticks\":\"\"}},\"type\":\"scatterpolargl\"}],\"scatterpolar\":[{\"marker\":{\"colorbar\":{\"outlinewidth\":0,\"ticks\":\"\"}},\"type\":\"scatterpolar\"}],\"scatter\":[{\"fillpattern\":{\"fillmode\":\"overlay\",\"size\":10,\"solidity\":0.2},\"type\":\"scatter\"}],\"scatterternary\":[{\"marker\":{\"colorbar\":{\"outlinewidth\":0,\"ticks\":\"\"}},\"type\":\"scatterternary\"}],\"surface\":[{\"colorbar\":{\"outlinewidth\":0,\"ticks\":\"\"},\"colorscale\":[[0.0,\"#0d0887\"],[0.1111111111111111,\"#46039f\"],[0.2222222222222222,\"#7201a8\"],[0.3333333333333333,\"#9c179e\"],[0.4444444444444444,\"#bd3786\"],[0.5555555555555556,\"#d8576b\"],[0.6666666666666666,\"#ed7953\"],[0.7777777777777778,\"#fb9f3a\"],[0.8888888888888888,\"#fdca26\"],[1.0,\"#f0f921\"]],\"type\":\"surface\"}],\"table\":[{\"cells\":{\"fill\":{\"color\":\"#EBF0F8\"},\"line\":{\"color\":\"white\"}},\"header\":{\"fill\":{\"color\":\"#C8D4E3\"},\"line\":{\"color\":\"white\"}},\"type\":\"table\"}]},\"layout\":{\"annotationdefaults\":{\"arrowcolor\":\"#2a3f5f\",\"arrowhead\":0,\"arrowwidth\":1},\"autotypenumbers\":\"strict\",\"coloraxis\":{\"colorbar\":{\"outlinewidth\":0,\"ticks\":\"\"}},\"colorscale\":{\"diverging\":[[0,\"#8e0152\"],[0.1,\"#c51b7d\"],[0.2,\"#de77ae\"],[0.3,\"#f1b6da\"],[0.4,\"#fde0ef\"],[0.5,\"#f7f7f7\"],[0.6,\"#e6f5d0\"],[0.7,\"#b8e186\"],[0.8,\"#7fbc41\"],[0.9,\"#4d9221\"],[1,\"#276419\"]],\"sequential\":[[0.0,\"#0d0887\"],[0.1111111111111111,\"#46039f\"],[0.2222222222222222,\"#7201a8\"],[0.3333333333333333,\"#9c179e\"],[0.4444444444444444,\"#bd3786\"],[0.5555555555555556,\"#d8576b\"],[0.6666666666666666,\"#ed7953\"],[0.7777777777777778,\"#fb9f3a\"],[0.8888888888888888,\"#fdca26\"],[1.0,\"#f0f921\"]],\"sequentialminus\":[[0.0,\"#0d0887\"],[0.1111111111111111,\"#46039f\"],[0.2222222222222222,\"#7201a8\"],[0.3333333333333333,\"#9c179e\"],[0.4444444444444444,\"#bd3786\"],[0.5555555555555556,\"#d8576b\"],[0.6666666666666666,\"#ed7953\"],[0.7777777777777778,\"#fb9f3a\"],[0.8888888888888888,\"#fdca26\"],[1.0,\"#f0f921\"]]},\"colorway\":[\"#636efa\",\"#EF553B\",\"#00cc96\",\"#ab63fa\",\"#FFA15A\",\"#19d3f3\",\"#FF6692\",\"#B6E880\",\"#FF97FF\",\"#FECB52\"],\"font\":{\"color\":\"#2a3f5f\"},\"geo\":{\"bgcolor\":\"white\",\"lakecolor\":\"white\",\"landcolor\":\"#E5ECF6\",\"showlakes\":true,\"showland\":true,\"subunitcolor\":\"white\"},\"hoverlabel\":{\"align\":\"left\"},\"hovermode\":\"closest\",\"mapbox\":{\"style\":\"light\"},\"paper_bgcolor\":\"white\",\"plot_bgcolor\":\"#E5ECF6\",\"polar\":{\"angularaxis\":{\"gridcolor\":\"white\",\"linecolor\":\"white\",\"ticks\":\"\"},\"bgcolor\":\"#E5ECF6\",\"radialaxis\":{\"gridcolor\":\"white\",\"linecolor\":\"white\",\"ticks\":\"\"}},\"scene\":{\"xaxis\":{\"backgroundcolor\":\"#E5ECF6\",\"gridcolor\":\"white\",\"gridwidth\":2,\"linecolor\":\"white\",\"showbackground\":true,\"ticks\":\"\",\"zerolinecolor\":\"white\"},\"yaxis\":{\"backgroundcolor\":\"#E5ECF6\",\"gridcolor\":\"white\",\"gridwidth\":2,\"linecolor\":\"white\",\"showbackground\":true,\"ticks\":\"\",\"zerolinecolor\":\"white\"},\"zaxis\":{\"backgroundcolor\":\"#E5ECF6\",\"gridcolor\":\"white\",\"gridwidth\":2,\"linecolor\":\"white\",\"showbackground\":true,\"ticks\":\"\",\"zerolinecolor\":\"white\"}},\"shapedefaults\":{\"line\":{\"color\":\"#2a3f5f\"}},\"ternary\":{\"aaxis\":{\"gridcolor\":\"white\",\"linecolor\":\"white\",\"ticks\":\"\"},\"baxis\":{\"gridcolor\":\"white\",\"linecolor\":\"white\",\"ticks\":\"\"},\"bgcolor\":\"#E5ECF6\",\"caxis\":{\"gridcolor\":\"white\",\"linecolor\":\"white\",\"ticks\":\"\"}},\"title\":{\"x\":0.05},\"xaxis\":{\"automargin\":true,\"gridcolor\":\"white\",\"linecolor\":\"white\",\"ticks\":\"\",\"title\":{\"standoff\":15},\"zerolinecolor\":\"white\",\"zerolinewidth\":2},\"yaxis\":{\"automargin\":true,\"gridcolor\":\"white\",\"linecolor\":\"white\",\"ticks\":\"\",\"title\":{\"standoff\":15},\"zerolinecolor\":\"white\",\"zerolinewidth\":2}}},\"title\":{\"font\":{\"color\":\"#4D5663\"}},\"xaxis\":{\"gridcolor\":\"#E1E5ED\",\"showgrid\":true,\"tickfont\":{\"color\":\"#4D5663\"},\"title\":{\"font\":{\"color\":\"#4D5663\"},\"text\":\"\"},\"zerolinecolor\":\"#E1E5ED\"},\"yaxis\":{\"gridcolor\":\"#E1E5ED\",\"showgrid\":true,\"tickfont\":{\"color\":\"#4D5663\"},\"title\":{\"font\":{\"color\":\"#4D5663\"},\"text\":\"\"},\"zerolinecolor\":\"#E1E5ED\"}},                        {\"showLink\": true, \"linkText\": \"Export to plot.ly\", \"plotlyServerURL\": \"https://plot.ly\", \"responsive\": true}                    ).then(function(){\n",
       "                            \n",
       "var gd = document.getElementById('2a59fa34-5bba-4c66-86dd-f4a73976b875');\n",
       "var x = new MutationObserver(function (mutations, observer) {{\n",
       "        var display = window.getComputedStyle(gd).display;\n",
       "        if (!display || display === 'none') {{\n",
       "            console.log([gd, 'removed!']);\n",
       "            Plotly.purge(gd);\n",
       "            observer.disconnect();\n",
       "        }}\n",
       "}});\n",
       "\n",
       "// Listen for the removal of the full notebook cells\n",
       "var notebookContainer = gd.closest('#notebook-container');\n",
       "if (notebookContainer) {{\n",
       "    x.observe(notebookContainer, {childList: true});\n",
       "}}\n",
       "\n",
       "// Listen for the clearing of the current output cell\n",
       "var outputEl = gd.closest('.output');\n",
       "if (outputEl) {{\n",
       "    x.observe(outputEl, {childList: true});\n",
       "}}\n",
       "\n",
       "                        })                };                });            </script>        </div>"
      ]
     },
     "metadata": {},
     "output_type": "display_data"
    }
   ],
   "source": [
    "df['A'].iplot(kind='hist',bins=25)"
   ]
  },
  {
   "cell_type": "code",
   "execution_count": 17,
   "metadata": {},
   "outputs": [
    {
     "data": {
      "application/vnd.plotly.v1+json": {
       "config": {
        "linkText": "Export to plot.ly",
        "plotlyServerURL": "https://plot.ly",
        "showLink": true
       },
       "data": [
        {
         "marker": {
          "color": [
           "rgb(255, 153, 51)",
           "rgb(55, 128, 191)",
           "rgb(50, 171, 96)",
           "rgb(128, 0, 128)",
           "rgb(219, 64, 82)",
           "rgb(0, 128, 128)",
           "rgb(255, 255, 51)",
           "rgb(128, 128, 0)",
           "rgb(251, 128, 114)",
           "rgb(128, 177, 211)"
          ],
          "line": {
           "width": 1.3
          },
          "size": [
           58,
           67,
           78,
           52,
           84,
           87,
           88,
           57,
           73,
           70,
           61,
           54,
           88,
           66,
           90,
           48,
           71,
           69,
           15,
           63,
           66,
           67,
           69,
           39,
           71,
           98,
           38,
           75,
           59,
           53,
           60,
           50,
           74,
           69,
           17,
           100,
           82,
           65,
           42,
           110,
           53,
           38,
           30,
           54,
           66,
           40,
           55,
           112,
           45,
           80,
           39,
           63,
           80,
           46,
           70,
           39,
           84,
           78,
           81,
           69,
           39,
           88,
           70,
           93,
           62,
           41,
           62,
           79,
           76,
           43,
           66,
           63,
           95,
           35,
           56,
           108,
           71,
           64,
           54,
           52,
           41,
           79,
           12,
           25,
           96,
           76,
           80,
           58,
           69,
           101,
           77,
           91,
           97,
           77,
           103,
           69,
           39,
           83,
           55,
           94
          ],
          "symbol": "circle"
         },
         "mode": "markers",
         "text": "",
         "type": "scatter",
         "x": [
          1.2376648357470055,
          -0.5588649056406358,
          0.40946706449563175,
          0.4298301337164253,
          0.07238270128864749,
          -0.20598883801382525,
          1.2385584747531542,
          -1.0633617765803824,
          0.3434542115634483,
          1.3645551658564248,
          -0.7290820511381018,
          -1.035624379248983,
          0.32740419197523757,
          -0.3351406777735119,
          -0.6995413769041855,
          -0.32313520691160347,
          -0.6968944913793241,
          -1.2658169541706465,
          1.8681787506166567,
          1.654531174173863,
          0.4323609959994185,
          0.13342603725333999,
          -0.25726923923873757,
          0.7180052009841095,
          1.403861120520268,
          1.4472639088688162,
          -0.6399257301458914,
          -1.1614404005478682,
          2.821851024615292,
          -0.45675635524671515,
          -1.5795633950159544,
          -0.36823092116578626,
          -1.0381007781369387,
          1.80093516549471,
          0.605519660199255,
          0.5520713257359585,
          1.0739598975916955,
          -0.08606957115270493,
          -0.5388402188322184,
          1.4131676971194618,
          -0.5605172697322097,
          -0.6056944769115583,
          -0.9428065238847683,
          1.3962914689468222,
          -0.9272551780488926,
          -0.16998328050440442,
          1.957273987112428,
          -0.08974156694888845,
          -0.6345160635027977,
          -0.4863315382609629,
          -0.6461642065112355,
          -0.4394231941140874,
          0.37048755383772125,
          0.5298402144160002,
          1.0054517069637832,
          1.1136464518705884,
          -2.158906419697583,
          2.1091061818145262,
          -1.0703594134064252,
          -0.5814437688577203,
          0.03924795414460957,
          1.006378179337866,
          -0.3903396632439928,
          -1.3561617236485808,
          -1.0708998832851322,
          1.5806859251958079,
          0.17179271377825836,
          -0.9047325249055707,
          1.1275038903666008,
          1.989443049293253,
          -1.090722702073496,
          -0.2993575416216889,
          -0.6394549917325748,
          -1.2244878399342731,
          1.6452364982836245,
          0.6177372762506392,
          -1.3176302335739636,
          0.03300243685919273,
          -1.0649093458079049,
          0.975689453023733,
          0.05122198401087867,
          -0.2976791863225247,
          -0.790150167428062,
          -0.6625271152615411,
          0.7860844830326141,
          -0.016153571380949677,
          -0.8598140138716176,
          -0.3185632602435938,
          -0.8067190607871518,
          -0.6147307859444832,
          0.6156300197507949,
          -0.9048669572075687,
          -0.2106043328452722,
          -1.0358044675788922,
          0.8941804936081772,
          0.6979637785733713,
          -0.8090777129605745,
          0.48770364177028785,
          -1.317158662969975,
          1.273288323901588
         ],
         "y": [
          -0.5548235720002016,
          -0.46033933106280667,
          1.5866377741729345,
          -0.3272212503881288,
          0.03402138478618209,
          -0.7624627502472152,
          2.348882566100373,
          -0.4593864721542771,
          0.31916528326146887,
          -0.6902004464640703,
          -0.9071182373778008,
          0.8693879352151368,
          0.0908984501140434,
          1.439719510453182,
          -1.8632253399626302,
          -0.479055317221008,
          0.5925242567873134,
          0.9182777533280958,
          -0.7754625687794833,
          -2.6583226781800797,
          0.5484315599141389,
          -0.7042914583634231,
          -0.1764697624966167,
          0.2502484719538905,
          -0.04785972571489474,
          1.2294110679482604,
          -0.11427358475630707,
          -0.3697207652302923,
          1.6043967881949919,
          -1.339472912051616,
          -1.29217789705882,
          -0.36153222275651,
          1.022692009649764,
          0.16598675428648627,
          0.5551363037720237,
          0.6740029189118928,
          0.4826622004974322,
          -0.11755937452739242,
          -0.32126785538898134,
          0.7929988121107323,
          0.3951830074407376,
          -2.088496378240888,
          -0.8759883673140567,
          0.06364644137637034,
          0.39384361906406923,
          0.36875154769134777,
          -0.30784011826382807,
          0.7917959824498457,
          1.5677280244828602,
          -0.05900920362274808,
          1.0375464873238087,
          1.6379622252173518,
          -1.4057904636265286,
          0.5394882447018408,
          1.013559324777699,
          0.0317138450739195,
          -0.7447209913640487,
          0.20612512058230376,
          -1.7003724779460927,
          1.352623651396288,
          1.982935602840355,
          0.5068908613077829,
          -0.5164100240190705,
          0.630123868949732,
          0.7732102744966399,
          -1.2393677901893128,
          -0.3370213940892322,
          0.3483949651157315,
          -0.24066619524369812,
          0.6770539844969181,
          1.2288154644853018,
          -1.6743318035872083,
          -0.021365537352325627,
          -0.6672899618296045,
          0.10000066548559038,
          -1.7247613547037848,
          -0.05389893734429868,
          0.9180552257999586,
          0.48811130008099096,
          0.33920897319785864,
          -0.5707494319732833,
          -0.018216433868223143,
          -1.2482714701915105,
          -0.9430832695332753,
          0.7916447472466199,
          -0.06956062234436486,
          1.332297904497416,
          -0.4046384777011825,
          -0.7120292252325473,
          0.058700079993735624,
          -0.7810474905274281,
          -0.613129044372448,
          0.07107100611789133,
          -1.2234832464477743,
          -0.04915232875895141,
          -0.5740497723863638,
          -0.07084727333194477,
          -1.1230549919447825,
          1.2690967918899319,
          0.8833972953210805
         ]
        }
       ],
       "layout": {
        "legend": {
         "bgcolor": "#F5F6F9",
         "font": {
          "color": "#4D5663"
         }
        },
        "paper_bgcolor": "#F5F6F9",
        "plot_bgcolor": "#F5F6F9",
        "template": {
         "data": {
          "bar": [
           {
            "error_x": {
             "color": "#2a3f5f"
            },
            "error_y": {
             "color": "#2a3f5f"
            },
            "marker": {
             "line": {
              "color": "#E5ECF6",
              "width": 0.5
             },
             "pattern": {
              "fillmode": "overlay",
              "size": 10,
              "solidity": 0.2
             }
            },
            "type": "bar"
           }
          ],
          "barpolar": [
           {
            "marker": {
             "line": {
              "color": "#E5ECF6",
              "width": 0.5
             },
             "pattern": {
              "fillmode": "overlay",
              "size": 10,
              "solidity": 0.2
             }
            },
            "type": "barpolar"
           }
          ],
          "carpet": [
           {
            "aaxis": {
             "endlinecolor": "#2a3f5f",
             "gridcolor": "white",
             "linecolor": "white",
             "minorgridcolor": "white",
             "startlinecolor": "#2a3f5f"
            },
            "baxis": {
             "endlinecolor": "#2a3f5f",
             "gridcolor": "white",
             "linecolor": "white",
             "minorgridcolor": "white",
             "startlinecolor": "#2a3f5f"
            },
            "type": "carpet"
           }
          ],
          "choropleth": [
           {
            "colorbar": {
             "outlinewidth": 0,
             "ticks": ""
            },
            "type": "choropleth"
           }
          ],
          "contour": [
           {
            "colorbar": {
             "outlinewidth": 0,
             "ticks": ""
            },
            "colorscale": [
             [
              0,
              "#0d0887"
             ],
             [
              0.1111111111111111,
              "#46039f"
             ],
             [
              0.2222222222222222,
              "#7201a8"
             ],
             [
              0.3333333333333333,
              "#9c179e"
             ],
             [
              0.4444444444444444,
              "#bd3786"
             ],
             [
              0.5555555555555556,
              "#d8576b"
             ],
             [
              0.6666666666666666,
              "#ed7953"
             ],
             [
              0.7777777777777778,
              "#fb9f3a"
             ],
             [
              0.8888888888888888,
              "#fdca26"
             ],
             [
              1,
              "#f0f921"
             ]
            ],
            "type": "contour"
           }
          ],
          "contourcarpet": [
           {
            "colorbar": {
             "outlinewidth": 0,
             "ticks": ""
            },
            "type": "contourcarpet"
           }
          ],
          "heatmap": [
           {
            "colorbar": {
             "outlinewidth": 0,
             "ticks": ""
            },
            "colorscale": [
             [
              0,
              "#0d0887"
             ],
             [
              0.1111111111111111,
              "#46039f"
             ],
             [
              0.2222222222222222,
              "#7201a8"
             ],
             [
              0.3333333333333333,
              "#9c179e"
             ],
             [
              0.4444444444444444,
              "#bd3786"
             ],
             [
              0.5555555555555556,
              "#d8576b"
             ],
             [
              0.6666666666666666,
              "#ed7953"
             ],
             [
              0.7777777777777778,
              "#fb9f3a"
             ],
             [
              0.8888888888888888,
              "#fdca26"
             ],
             [
              1,
              "#f0f921"
             ]
            ],
            "type": "heatmap"
           }
          ],
          "heatmapgl": [
           {
            "colorbar": {
             "outlinewidth": 0,
             "ticks": ""
            },
            "colorscale": [
             [
              0,
              "#0d0887"
             ],
             [
              0.1111111111111111,
              "#46039f"
             ],
             [
              0.2222222222222222,
              "#7201a8"
             ],
             [
              0.3333333333333333,
              "#9c179e"
             ],
             [
              0.4444444444444444,
              "#bd3786"
             ],
             [
              0.5555555555555556,
              "#d8576b"
             ],
             [
              0.6666666666666666,
              "#ed7953"
             ],
             [
              0.7777777777777778,
              "#fb9f3a"
             ],
             [
              0.8888888888888888,
              "#fdca26"
             ],
             [
              1,
              "#f0f921"
             ]
            ],
            "type": "heatmapgl"
           }
          ],
          "histogram": [
           {
            "marker": {
             "pattern": {
              "fillmode": "overlay",
              "size": 10,
              "solidity": 0.2
             }
            },
            "type": "histogram"
           }
          ],
          "histogram2d": [
           {
            "colorbar": {
             "outlinewidth": 0,
             "ticks": ""
            },
            "colorscale": [
             [
              0,
              "#0d0887"
             ],
             [
              0.1111111111111111,
              "#46039f"
             ],
             [
              0.2222222222222222,
              "#7201a8"
             ],
             [
              0.3333333333333333,
              "#9c179e"
             ],
             [
              0.4444444444444444,
              "#bd3786"
             ],
             [
              0.5555555555555556,
              "#d8576b"
             ],
             [
              0.6666666666666666,
              "#ed7953"
             ],
             [
              0.7777777777777778,
              "#fb9f3a"
             ],
             [
              0.8888888888888888,
              "#fdca26"
             ],
             [
              1,
              "#f0f921"
             ]
            ],
            "type": "histogram2d"
           }
          ],
          "histogram2dcontour": [
           {
            "colorbar": {
             "outlinewidth": 0,
             "ticks": ""
            },
            "colorscale": [
             [
              0,
              "#0d0887"
             ],
             [
              0.1111111111111111,
              "#46039f"
             ],
             [
              0.2222222222222222,
              "#7201a8"
             ],
             [
              0.3333333333333333,
              "#9c179e"
             ],
             [
              0.4444444444444444,
              "#bd3786"
             ],
             [
              0.5555555555555556,
              "#d8576b"
             ],
             [
              0.6666666666666666,
              "#ed7953"
             ],
             [
              0.7777777777777778,
              "#fb9f3a"
             ],
             [
              0.8888888888888888,
              "#fdca26"
             ],
             [
              1,
              "#f0f921"
             ]
            ],
            "type": "histogram2dcontour"
           }
          ],
          "mesh3d": [
           {
            "colorbar": {
             "outlinewidth": 0,
             "ticks": ""
            },
            "type": "mesh3d"
           }
          ],
          "parcoords": [
           {
            "line": {
             "colorbar": {
              "outlinewidth": 0,
              "ticks": ""
             }
            },
            "type": "parcoords"
           }
          ],
          "pie": [
           {
            "automargin": true,
            "type": "pie"
           }
          ],
          "scatter": [
           {
            "fillpattern": {
             "fillmode": "overlay",
             "size": 10,
             "solidity": 0.2
            },
            "type": "scatter"
           }
          ],
          "scatter3d": [
           {
            "line": {
             "colorbar": {
              "outlinewidth": 0,
              "ticks": ""
             }
            },
            "marker": {
             "colorbar": {
              "outlinewidth": 0,
              "ticks": ""
             }
            },
            "type": "scatter3d"
           }
          ],
          "scattercarpet": [
           {
            "marker": {
             "colorbar": {
              "outlinewidth": 0,
              "ticks": ""
             }
            },
            "type": "scattercarpet"
           }
          ],
          "scattergeo": [
           {
            "marker": {
             "colorbar": {
              "outlinewidth": 0,
              "ticks": ""
             }
            },
            "type": "scattergeo"
           }
          ],
          "scattergl": [
           {
            "marker": {
             "colorbar": {
              "outlinewidth": 0,
              "ticks": ""
             }
            },
            "type": "scattergl"
           }
          ],
          "scattermapbox": [
           {
            "marker": {
             "colorbar": {
              "outlinewidth": 0,
              "ticks": ""
             }
            },
            "type": "scattermapbox"
           }
          ],
          "scatterpolar": [
           {
            "marker": {
             "colorbar": {
              "outlinewidth": 0,
              "ticks": ""
             }
            },
            "type": "scatterpolar"
           }
          ],
          "scatterpolargl": [
           {
            "marker": {
             "colorbar": {
              "outlinewidth": 0,
              "ticks": ""
             }
            },
            "type": "scatterpolargl"
           }
          ],
          "scatterternary": [
           {
            "marker": {
             "colorbar": {
              "outlinewidth": 0,
              "ticks": ""
             }
            },
            "type": "scatterternary"
           }
          ],
          "surface": [
           {
            "colorbar": {
             "outlinewidth": 0,
             "ticks": ""
            },
            "colorscale": [
             [
              0,
              "#0d0887"
             ],
             [
              0.1111111111111111,
              "#46039f"
             ],
             [
              0.2222222222222222,
              "#7201a8"
             ],
             [
              0.3333333333333333,
              "#9c179e"
             ],
             [
              0.4444444444444444,
              "#bd3786"
             ],
             [
              0.5555555555555556,
              "#d8576b"
             ],
             [
              0.6666666666666666,
              "#ed7953"
             ],
             [
              0.7777777777777778,
              "#fb9f3a"
             ],
             [
              0.8888888888888888,
              "#fdca26"
             ],
             [
              1,
              "#f0f921"
             ]
            ],
            "type": "surface"
           }
          ],
          "table": [
           {
            "cells": {
             "fill": {
              "color": "#EBF0F8"
             },
             "line": {
              "color": "white"
             }
            },
            "header": {
             "fill": {
              "color": "#C8D4E3"
             },
             "line": {
              "color": "white"
             }
            },
            "type": "table"
           }
          ]
         },
         "layout": {
          "annotationdefaults": {
           "arrowcolor": "#2a3f5f",
           "arrowhead": 0,
           "arrowwidth": 1
          },
          "autotypenumbers": "strict",
          "coloraxis": {
           "colorbar": {
            "outlinewidth": 0,
            "ticks": ""
           }
          },
          "colorscale": {
           "diverging": [
            [
             0,
             "#8e0152"
            ],
            [
             0.1,
             "#c51b7d"
            ],
            [
             0.2,
             "#de77ae"
            ],
            [
             0.3,
             "#f1b6da"
            ],
            [
             0.4,
             "#fde0ef"
            ],
            [
             0.5,
             "#f7f7f7"
            ],
            [
             0.6,
             "#e6f5d0"
            ],
            [
             0.7,
             "#b8e186"
            ],
            [
             0.8,
             "#7fbc41"
            ],
            [
             0.9,
             "#4d9221"
            ],
            [
             1,
             "#276419"
            ]
           ],
           "sequential": [
            [
             0,
             "#0d0887"
            ],
            [
             0.1111111111111111,
             "#46039f"
            ],
            [
             0.2222222222222222,
             "#7201a8"
            ],
            [
             0.3333333333333333,
             "#9c179e"
            ],
            [
             0.4444444444444444,
             "#bd3786"
            ],
            [
             0.5555555555555556,
             "#d8576b"
            ],
            [
             0.6666666666666666,
             "#ed7953"
            ],
            [
             0.7777777777777778,
             "#fb9f3a"
            ],
            [
             0.8888888888888888,
             "#fdca26"
            ],
            [
             1,
             "#f0f921"
            ]
           ],
           "sequentialminus": [
            [
             0,
             "#0d0887"
            ],
            [
             0.1111111111111111,
             "#46039f"
            ],
            [
             0.2222222222222222,
             "#7201a8"
            ],
            [
             0.3333333333333333,
             "#9c179e"
            ],
            [
             0.4444444444444444,
             "#bd3786"
            ],
            [
             0.5555555555555556,
             "#d8576b"
            ],
            [
             0.6666666666666666,
             "#ed7953"
            ],
            [
             0.7777777777777778,
             "#fb9f3a"
            ],
            [
             0.8888888888888888,
             "#fdca26"
            ],
            [
             1,
             "#f0f921"
            ]
           ]
          },
          "colorway": [
           "#636efa",
           "#EF553B",
           "#00cc96",
           "#ab63fa",
           "#FFA15A",
           "#19d3f3",
           "#FF6692",
           "#B6E880",
           "#FF97FF",
           "#FECB52"
          ],
          "font": {
           "color": "#2a3f5f"
          },
          "geo": {
           "bgcolor": "white",
           "lakecolor": "white",
           "landcolor": "#E5ECF6",
           "showlakes": true,
           "showland": true,
           "subunitcolor": "white"
          },
          "hoverlabel": {
           "align": "left"
          },
          "hovermode": "closest",
          "mapbox": {
           "style": "light"
          },
          "paper_bgcolor": "white",
          "plot_bgcolor": "#E5ECF6",
          "polar": {
           "angularaxis": {
            "gridcolor": "white",
            "linecolor": "white",
            "ticks": ""
           },
           "bgcolor": "#E5ECF6",
           "radialaxis": {
            "gridcolor": "white",
            "linecolor": "white",
            "ticks": ""
           }
          },
          "scene": {
           "xaxis": {
            "backgroundcolor": "#E5ECF6",
            "gridcolor": "white",
            "gridwidth": 2,
            "linecolor": "white",
            "showbackground": true,
            "ticks": "",
            "zerolinecolor": "white"
           },
           "yaxis": {
            "backgroundcolor": "#E5ECF6",
            "gridcolor": "white",
            "gridwidth": 2,
            "linecolor": "white",
            "showbackground": true,
            "ticks": "",
            "zerolinecolor": "white"
           },
           "zaxis": {
            "backgroundcolor": "#E5ECF6",
            "gridcolor": "white",
            "gridwidth": 2,
            "linecolor": "white",
            "showbackground": true,
            "ticks": "",
            "zerolinecolor": "white"
           }
          },
          "shapedefaults": {
           "line": {
            "color": "#2a3f5f"
           }
          },
          "ternary": {
           "aaxis": {
            "gridcolor": "white",
            "linecolor": "white",
            "ticks": ""
           },
           "baxis": {
            "gridcolor": "white",
            "linecolor": "white",
            "ticks": ""
           },
           "bgcolor": "#E5ECF6",
           "caxis": {
            "gridcolor": "white",
            "linecolor": "white",
            "ticks": ""
           }
          },
          "title": {
           "x": 0.05
          },
          "xaxis": {
           "automargin": true,
           "gridcolor": "white",
           "linecolor": "white",
           "ticks": "",
           "title": {
            "standoff": 15
           },
           "zerolinecolor": "white",
           "zerolinewidth": 2
          },
          "yaxis": {
           "automargin": true,
           "gridcolor": "white",
           "linecolor": "white",
           "ticks": "",
           "title": {
            "standoff": 15
           },
           "zerolinecolor": "white",
           "zerolinewidth": 2
          }
         }
        },
        "title": {
         "font": {
          "color": "#4D5663"
         }
        },
        "xaxis": {
         "gridcolor": "#E1E5ED",
         "showgrid": true,
         "tickfont": {
          "color": "#4D5663"
         },
         "title": {
          "font": {
           "color": "#4D5663"
          },
          "text": ""
         },
         "zerolinecolor": "#E1E5ED"
        },
        "yaxis": {
         "gridcolor": "#E1E5ED",
         "showgrid": true,
         "tickfont": {
          "color": "#4D5663"
         },
         "title": {
          "font": {
           "color": "#4D5663"
          },
          "text": ""
         },
         "zerolinecolor": "#E1E5ED"
        }
       }
      },
      "text/html": [
       "<div>                            <div id=\"1417bd05-c5cc-4eb1-a239-092bac51c3f7\" class=\"plotly-graph-div\" style=\"height:525px; width:100%;\"></div>            <script type=\"text/javascript\">                require([\"plotly\"], function(Plotly) {                    window.PLOTLYENV=window.PLOTLYENV || {};\n",
       "                    window.PLOTLYENV.BASE_URL='https://plot.ly';                                    if (document.getElementById(\"1417bd05-c5cc-4eb1-a239-092bac51c3f7\")) {                    Plotly.newPlot(                        \"1417bd05-c5cc-4eb1-a239-092bac51c3f7\",                        [{\"marker\":{\"color\":[\"rgb(255, 153, 51)\",\"rgb(55, 128, 191)\",\"rgb(50, 171, 96)\",\"rgb(128, 0, 128)\",\"rgb(219, 64, 82)\",\"rgb(0, 128, 128)\",\"rgb(255, 255, 51)\",\"rgb(128, 128, 0)\",\"rgb(251, 128, 114)\",\"rgb(128, 177, 211)\"],\"line\":{\"width\":1.3},\"size\":[58,67,78,52,84,87,88,57,73,70,61,54,88,66,90,48,71,69,15,63,66,67,69,39,71,98,38,75,59,53,60,50,74,69,17,100,82,65,42,110,53,38,30,54,66,40,55,112,45,80,39,63,80,46,70,39,84,78,81,69,39,88,70,93,62,41,62,79,76,43,66,63,95,35,56,108,71,64,54,52,41,79,12,25,96,76,80,58,69,101,77,91,97,77,103,69,39,83,55,94],\"symbol\":\"circle\"},\"mode\":\"markers\",\"text\":\"\",\"x\":[1.2376648357470055,-0.5588649056406358,0.40946706449563175,0.4298301337164253,0.07238270128864749,-0.20598883801382525,1.2385584747531542,-1.0633617765803824,0.3434542115634483,1.3645551658564248,-0.7290820511381018,-1.035624379248983,0.32740419197523757,-0.3351406777735119,-0.6995413769041855,-0.32313520691160347,-0.6968944913793241,-1.2658169541706465,1.8681787506166567,1.654531174173863,0.4323609959994185,0.13342603725333999,-0.25726923923873757,0.7180052009841095,1.403861120520268,1.4472639088688162,-0.6399257301458914,-1.1614404005478682,2.821851024615292,-0.45675635524671515,-1.5795633950159544,-0.36823092116578626,-1.0381007781369387,1.80093516549471,0.605519660199255,0.5520713257359585,1.0739598975916955,-0.08606957115270493,-0.5388402188322184,1.4131676971194618,-0.5605172697322097,-0.6056944769115583,-0.9428065238847683,1.3962914689468222,-0.9272551780488926,-0.16998328050440442,1.957273987112428,-0.08974156694888845,-0.6345160635027977,-0.4863315382609629,-0.6461642065112355,-0.4394231941140874,0.37048755383772125,0.5298402144160002,1.0054517069637832,1.1136464518705884,-2.158906419697583,2.1091061818145262,-1.0703594134064252,-0.5814437688577203,0.03924795414460957,1.006378179337866,-0.3903396632439928,-1.3561617236485808,-1.0708998832851322,1.5806859251958079,0.17179271377825836,-0.9047325249055707,1.1275038903666008,1.989443049293253,-1.090722702073496,-0.2993575416216889,-0.6394549917325748,-1.2244878399342731,1.6452364982836245,0.6177372762506392,-1.3176302335739636,0.03300243685919273,-1.0649093458079049,0.975689453023733,0.05122198401087867,-0.2976791863225247,-0.790150167428062,-0.6625271152615411,0.7860844830326141,-0.016153571380949677,-0.8598140138716176,-0.3185632602435938,-0.8067190607871518,-0.6147307859444832,0.6156300197507949,-0.9048669572075687,-0.2106043328452722,-1.0358044675788922,0.8941804936081772,0.6979637785733713,-0.8090777129605745,0.48770364177028785,-1.317158662969975,1.273288323901588],\"y\":[-0.5548235720002016,-0.46033933106280667,1.5866377741729345,-0.3272212503881288,0.03402138478618209,-0.7624627502472152,2.348882566100373,-0.4593864721542771,0.31916528326146887,-0.6902004464640703,-0.9071182373778008,0.8693879352151368,0.0908984501140434,1.439719510453182,-1.8632253399626302,-0.479055317221008,0.5925242567873134,0.9182777533280958,-0.7754625687794833,-2.6583226781800797,0.5484315599141389,-0.7042914583634231,-0.1764697624966167,0.2502484719538905,-0.04785972571489474,1.2294110679482604,-0.11427358475630707,-0.3697207652302923,1.6043967881949919,-1.339472912051616,-1.29217789705882,-0.36153222275651,1.022692009649764,0.16598675428648627,0.5551363037720237,0.6740029189118928,0.4826622004974322,-0.11755937452739242,-0.32126785538898134,0.7929988121107323,0.3951830074407376,-2.088496378240888,-0.8759883673140567,0.06364644137637034,0.39384361906406923,0.36875154769134777,-0.30784011826382807,0.7917959824498457,1.5677280244828602,-0.05900920362274808,1.0375464873238087,1.6379622252173518,-1.4057904636265286,0.5394882447018408,1.013559324777699,0.0317138450739195,-0.7447209913640487,0.20612512058230376,-1.7003724779460927,1.352623651396288,1.982935602840355,0.5068908613077829,-0.5164100240190705,0.630123868949732,0.7732102744966399,-1.2393677901893128,-0.3370213940892322,0.3483949651157315,-0.24066619524369812,0.6770539844969181,1.2288154644853018,-1.6743318035872083,-0.021365537352325627,-0.6672899618296045,0.10000066548559038,-1.7247613547037848,-0.05389893734429868,0.9180552257999586,0.48811130008099096,0.33920897319785864,-0.5707494319732833,-0.018216433868223143,-1.2482714701915105,-0.9430832695332753,0.7916447472466199,-0.06956062234436486,1.332297904497416,-0.4046384777011825,-0.7120292252325473,0.058700079993735624,-0.7810474905274281,-0.613129044372448,0.07107100611789133,-1.2234832464477743,-0.04915232875895141,-0.5740497723863638,-0.07084727333194477,-1.1230549919447825,1.2690967918899319,0.8833972953210805],\"type\":\"scatter\"}],                        {\"legend\":{\"bgcolor\":\"#F5F6F9\",\"font\":{\"color\":\"#4D5663\"}},\"paper_bgcolor\":\"#F5F6F9\",\"plot_bgcolor\":\"#F5F6F9\",\"template\":{\"data\":{\"barpolar\":[{\"marker\":{\"line\":{\"color\":\"#E5ECF6\",\"width\":0.5},\"pattern\":{\"fillmode\":\"overlay\",\"size\":10,\"solidity\":0.2}},\"type\":\"barpolar\"}],\"bar\":[{\"error_x\":{\"color\":\"#2a3f5f\"},\"error_y\":{\"color\":\"#2a3f5f\"},\"marker\":{\"line\":{\"color\":\"#E5ECF6\",\"width\":0.5},\"pattern\":{\"fillmode\":\"overlay\",\"size\":10,\"solidity\":0.2}},\"type\":\"bar\"}],\"carpet\":[{\"aaxis\":{\"endlinecolor\":\"#2a3f5f\",\"gridcolor\":\"white\",\"linecolor\":\"white\",\"minorgridcolor\":\"white\",\"startlinecolor\":\"#2a3f5f\"},\"baxis\":{\"endlinecolor\":\"#2a3f5f\",\"gridcolor\":\"white\",\"linecolor\":\"white\",\"minorgridcolor\":\"white\",\"startlinecolor\":\"#2a3f5f\"},\"type\":\"carpet\"}],\"choropleth\":[{\"colorbar\":{\"outlinewidth\":0,\"ticks\":\"\"},\"type\":\"choropleth\"}],\"contourcarpet\":[{\"colorbar\":{\"outlinewidth\":0,\"ticks\":\"\"},\"type\":\"contourcarpet\"}],\"contour\":[{\"colorbar\":{\"outlinewidth\":0,\"ticks\":\"\"},\"colorscale\":[[0.0,\"#0d0887\"],[0.1111111111111111,\"#46039f\"],[0.2222222222222222,\"#7201a8\"],[0.3333333333333333,\"#9c179e\"],[0.4444444444444444,\"#bd3786\"],[0.5555555555555556,\"#d8576b\"],[0.6666666666666666,\"#ed7953\"],[0.7777777777777778,\"#fb9f3a\"],[0.8888888888888888,\"#fdca26\"],[1.0,\"#f0f921\"]],\"type\":\"contour\"}],\"heatmapgl\":[{\"colorbar\":{\"outlinewidth\":0,\"ticks\":\"\"},\"colorscale\":[[0.0,\"#0d0887\"],[0.1111111111111111,\"#46039f\"],[0.2222222222222222,\"#7201a8\"],[0.3333333333333333,\"#9c179e\"],[0.4444444444444444,\"#bd3786\"],[0.5555555555555556,\"#d8576b\"],[0.6666666666666666,\"#ed7953\"],[0.7777777777777778,\"#fb9f3a\"],[0.8888888888888888,\"#fdca26\"],[1.0,\"#f0f921\"]],\"type\":\"heatmapgl\"}],\"heatmap\":[{\"colorbar\":{\"outlinewidth\":0,\"ticks\":\"\"},\"colorscale\":[[0.0,\"#0d0887\"],[0.1111111111111111,\"#46039f\"],[0.2222222222222222,\"#7201a8\"],[0.3333333333333333,\"#9c179e\"],[0.4444444444444444,\"#bd3786\"],[0.5555555555555556,\"#d8576b\"],[0.6666666666666666,\"#ed7953\"],[0.7777777777777778,\"#fb9f3a\"],[0.8888888888888888,\"#fdca26\"],[1.0,\"#f0f921\"]],\"type\":\"heatmap\"}],\"histogram2dcontour\":[{\"colorbar\":{\"outlinewidth\":0,\"ticks\":\"\"},\"colorscale\":[[0.0,\"#0d0887\"],[0.1111111111111111,\"#46039f\"],[0.2222222222222222,\"#7201a8\"],[0.3333333333333333,\"#9c179e\"],[0.4444444444444444,\"#bd3786\"],[0.5555555555555556,\"#d8576b\"],[0.6666666666666666,\"#ed7953\"],[0.7777777777777778,\"#fb9f3a\"],[0.8888888888888888,\"#fdca26\"],[1.0,\"#f0f921\"]],\"type\":\"histogram2dcontour\"}],\"histogram2d\":[{\"colorbar\":{\"outlinewidth\":0,\"ticks\":\"\"},\"colorscale\":[[0.0,\"#0d0887\"],[0.1111111111111111,\"#46039f\"],[0.2222222222222222,\"#7201a8\"],[0.3333333333333333,\"#9c179e\"],[0.4444444444444444,\"#bd3786\"],[0.5555555555555556,\"#d8576b\"],[0.6666666666666666,\"#ed7953\"],[0.7777777777777778,\"#fb9f3a\"],[0.8888888888888888,\"#fdca26\"],[1.0,\"#f0f921\"]],\"type\":\"histogram2d\"}],\"histogram\":[{\"marker\":{\"pattern\":{\"fillmode\":\"overlay\",\"size\":10,\"solidity\":0.2}},\"type\":\"histogram\"}],\"mesh3d\":[{\"colorbar\":{\"outlinewidth\":0,\"ticks\":\"\"},\"type\":\"mesh3d\"}],\"parcoords\":[{\"line\":{\"colorbar\":{\"outlinewidth\":0,\"ticks\":\"\"}},\"type\":\"parcoords\"}],\"pie\":[{\"automargin\":true,\"type\":\"pie\"}],\"scatter3d\":[{\"line\":{\"colorbar\":{\"outlinewidth\":0,\"ticks\":\"\"}},\"marker\":{\"colorbar\":{\"outlinewidth\":0,\"ticks\":\"\"}},\"type\":\"scatter3d\"}],\"scattercarpet\":[{\"marker\":{\"colorbar\":{\"outlinewidth\":0,\"ticks\":\"\"}},\"type\":\"scattercarpet\"}],\"scattergeo\":[{\"marker\":{\"colorbar\":{\"outlinewidth\":0,\"ticks\":\"\"}},\"type\":\"scattergeo\"}],\"scattergl\":[{\"marker\":{\"colorbar\":{\"outlinewidth\":0,\"ticks\":\"\"}},\"type\":\"scattergl\"}],\"scattermapbox\":[{\"marker\":{\"colorbar\":{\"outlinewidth\":0,\"ticks\":\"\"}},\"type\":\"scattermapbox\"}],\"scatterpolargl\":[{\"marker\":{\"colorbar\":{\"outlinewidth\":0,\"ticks\":\"\"}},\"type\":\"scatterpolargl\"}],\"scatterpolar\":[{\"marker\":{\"colorbar\":{\"outlinewidth\":0,\"ticks\":\"\"}},\"type\":\"scatterpolar\"}],\"scatter\":[{\"fillpattern\":{\"fillmode\":\"overlay\",\"size\":10,\"solidity\":0.2},\"type\":\"scatter\"}],\"scatterternary\":[{\"marker\":{\"colorbar\":{\"outlinewidth\":0,\"ticks\":\"\"}},\"type\":\"scatterternary\"}],\"surface\":[{\"colorbar\":{\"outlinewidth\":0,\"ticks\":\"\"},\"colorscale\":[[0.0,\"#0d0887\"],[0.1111111111111111,\"#46039f\"],[0.2222222222222222,\"#7201a8\"],[0.3333333333333333,\"#9c179e\"],[0.4444444444444444,\"#bd3786\"],[0.5555555555555556,\"#d8576b\"],[0.6666666666666666,\"#ed7953\"],[0.7777777777777778,\"#fb9f3a\"],[0.8888888888888888,\"#fdca26\"],[1.0,\"#f0f921\"]],\"type\":\"surface\"}],\"table\":[{\"cells\":{\"fill\":{\"color\":\"#EBF0F8\"},\"line\":{\"color\":\"white\"}},\"header\":{\"fill\":{\"color\":\"#C8D4E3\"},\"line\":{\"color\":\"white\"}},\"type\":\"table\"}]},\"layout\":{\"annotationdefaults\":{\"arrowcolor\":\"#2a3f5f\",\"arrowhead\":0,\"arrowwidth\":1},\"autotypenumbers\":\"strict\",\"coloraxis\":{\"colorbar\":{\"outlinewidth\":0,\"ticks\":\"\"}},\"colorscale\":{\"diverging\":[[0,\"#8e0152\"],[0.1,\"#c51b7d\"],[0.2,\"#de77ae\"],[0.3,\"#f1b6da\"],[0.4,\"#fde0ef\"],[0.5,\"#f7f7f7\"],[0.6,\"#e6f5d0\"],[0.7,\"#b8e186\"],[0.8,\"#7fbc41\"],[0.9,\"#4d9221\"],[1,\"#276419\"]],\"sequential\":[[0.0,\"#0d0887\"],[0.1111111111111111,\"#46039f\"],[0.2222222222222222,\"#7201a8\"],[0.3333333333333333,\"#9c179e\"],[0.4444444444444444,\"#bd3786\"],[0.5555555555555556,\"#d8576b\"],[0.6666666666666666,\"#ed7953\"],[0.7777777777777778,\"#fb9f3a\"],[0.8888888888888888,\"#fdca26\"],[1.0,\"#f0f921\"]],\"sequentialminus\":[[0.0,\"#0d0887\"],[0.1111111111111111,\"#46039f\"],[0.2222222222222222,\"#7201a8\"],[0.3333333333333333,\"#9c179e\"],[0.4444444444444444,\"#bd3786\"],[0.5555555555555556,\"#d8576b\"],[0.6666666666666666,\"#ed7953\"],[0.7777777777777778,\"#fb9f3a\"],[0.8888888888888888,\"#fdca26\"],[1.0,\"#f0f921\"]]},\"colorway\":[\"#636efa\",\"#EF553B\",\"#00cc96\",\"#ab63fa\",\"#FFA15A\",\"#19d3f3\",\"#FF6692\",\"#B6E880\",\"#FF97FF\",\"#FECB52\"],\"font\":{\"color\":\"#2a3f5f\"},\"geo\":{\"bgcolor\":\"white\",\"lakecolor\":\"white\",\"landcolor\":\"#E5ECF6\",\"showlakes\":true,\"showland\":true,\"subunitcolor\":\"white\"},\"hoverlabel\":{\"align\":\"left\"},\"hovermode\":\"closest\",\"mapbox\":{\"style\":\"light\"},\"paper_bgcolor\":\"white\",\"plot_bgcolor\":\"#E5ECF6\",\"polar\":{\"angularaxis\":{\"gridcolor\":\"white\",\"linecolor\":\"white\",\"ticks\":\"\"},\"bgcolor\":\"#E5ECF6\",\"radialaxis\":{\"gridcolor\":\"white\",\"linecolor\":\"white\",\"ticks\":\"\"}},\"scene\":{\"xaxis\":{\"backgroundcolor\":\"#E5ECF6\",\"gridcolor\":\"white\",\"gridwidth\":2,\"linecolor\":\"white\",\"showbackground\":true,\"ticks\":\"\",\"zerolinecolor\":\"white\"},\"yaxis\":{\"backgroundcolor\":\"#E5ECF6\",\"gridcolor\":\"white\",\"gridwidth\":2,\"linecolor\":\"white\",\"showbackground\":true,\"ticks\":\"\",\"zerolinecolor\":\"white\"},\"zaxis\":{\"backgroundcolor\":\"#E5ECF6\",\"gridcolor\":\"white\",\"gridwidth\":2,\"linecolor\":\"white\",\"showbackground\":true,\"ticks\":\"\",\"zerolinecolor\":\"white\"}},\"shapedefaults\":{\"line\":{\"color\":\"#2a3f5f\"}},\"ternary\":{\"aaxis\":{\"gridcolor\":\"white\",\"linecolor\":\"white\",\"ticks\":\"\"},\"baxis\":{\"gridcolor\":\"white\",\"linecolor\":\"white\",\"ticks\":\"\"},\"bgcolor\":\"#E5ECF6\",\"caxis\":{\"gridcolor\":\"white\",\"linecolor\":\"white\",\"ticks\":\"\"}},\"title\":{\"x\":0.05},\"xaxis\":{\"automargin\":true,\"gridcolor\":\"white\",\"linecolor\":\"white\",\"ticks\":\"\",\"title\":{\"standoff\":15},\"zerolinecolor\":\"white\",\"zerolinewidth\":2},\"yaxis\":{\"automargin\":true,\"gridcolor\":\"white\",\"linecolor\":\"white\",\"ticks\":\"\",\"title\":{\"standoff\":15},\"zerolinecolor\":\"white\",\"zerolinewidth\":2}}},\"title\":{\"font\":{\"color\":\"#4D5663\"}},\"xaxis\":{\"gridcolor\":\"#E1E5ED\",\"showgrid\":true,\"tickfont\":{\"color\":\"#4D5663\"},\"title\":{\"font\":{\"color\":\"#4D5663\"},\"text\":\"\"},\"zerolinecolor\":\"#E1E5ED\"},\"yaxis\":{\"gridcolor\":\"#E1E5ED\",\"showgrid\":true,\"tickfont\":{\"color\":\"#4D5663\"},\"title\":{\"font\":{\"color\":\"#4D5663\"},\"text\":\"\"},\"zerolinecolor\":\"#E1E5ED\"}},                        {\"showLink\": true, \"linkText\": \"Export to plot.ly\", \"plotlyServerURL\": \"https://plot.ly\", \"responsive\": true}                    ).then(function(){\n",
       "                            \n",
       "var gd = document.getElementById('1417bd05-c5cc-4eb1-a239-092bac51c3f7');\n",
       "var x = new MutationObserver(function (mutations, observer) {{\n",
       "        var display = window.getComputedStyle(gd).display;\n",
       "        if (!display || display === 'none') {{\n",
       "            console.log([gd, 'removed!']);\n",
       "            Plotly.purge(gd);\n",
       "            observer.disconnect();\n",
       "        }}\n",
       "}});\n",
       "\n",
       "// Listen for the removal of the full notebook cells\n",
       "var notebookContainer = gd.closest('#notebook-container');\n",
       "if (notebookContainer) {{\n",
       "    x.observe(notebookContainer, {childList: true});\n",
       "}}\n",
       "\n",
       "// Listen for the clearing of the current output cell\n",
       "var outputEl = gd.closest('.output');\n",
       "if (outputEl) {{\n",
       "    x.observe(outputEl, {childList: true});\n",
       "}}\n",
       "\n",
       "                        })                };                });            </script>        </div>"
      ]
     },
     "metadata": {},
     "output_type": "display_data"
    }
   ],
   "source": [
    "df.iplot(kind='bubble',x='A',y='B',size='C')"
   ]
  },
  {
   "cell_type": "markdown",
   "metadata": {},
   "source": [
    "## scatter_matrix()\n",
    "\n",
    "Similar to sns.pairplot()"
   ]
  },
  {
   "cell_type": "code",
   "execution_count": 18,
   "metadata": {},
   "outputs": [
    {
     "data": {
      "application/vnd.plotly.v1+json": {
       "config": {
        "linkText": "Export to plot.ly",
        "plotlyServerURL": "https://plot.ly",
        "showLink": true
       },
       "data": [
        {
         "histfunc": "count",
         "histnorm": "",
         "marker": {
          "color": "rgba(255, 153, 51, 1.0)",
          "line": {
           "color": "#4D5663",
           "width": 1.3
          }
         },
         "name": "A",
         "nbinsx": 10,
         "opacity": 0.8,
         "orientation": "v",
         "type": "histogram",
         "x": [
          1.2376648357470055,
          -0.5588649056406358,
          0.40946706449563175,
          0.4298301337164253,
          0.07238270128864749,
          -0.20598883801382525,
          1.2385584747531542,
          -1.0633617765803824,
          0.3434542115634483,
          1.3645551658564248,
          -0.7290820511381018,
          -1.035624379248983,
          0.32740419197523757,
          -0.3351406777735119,
          -0.6995413769041855,
          -0.32313520691160347,
          -0.6968944913793241,
          -1.2658169541706465,
          1.8681787506166567,
          1.654531174173863,
          0.4323609959994185,
          0.13342603725333999,
          -0.25726923923873757,
          0.7180052009841095,
          1.403861120520268,
          1.4472639088688162,
          -0.6399257301458914,
          -1.1614404005478682,
          2.821851024615292,
          -0.45675635524671515,
          -1.5795633950159544,
          -0.36823092116578626,
          -1.0381007781369387,
          1.80093516549471,
          0.605519660199255,
          0.5520713257359585,
          1.0739598975916955,
          -0.08606957115270493,
          -0.5388402188322184,
          1.4131676971194618,
          -0.5605172697322097,
          -0.6056944769115583,
          -0.9428065238847683,
          1.3962914689468222,
          -0.9272551780488926,
          -0.16998328050440442,
          1.957273987112428,
          -0.08974156694888845,
          -0.6345160635027977,
          -0.4863315382609629,
          -0.6461642065112355,
          -0.4394231941140874,
          0.37048755383772125,
          0.5298402144160002,
          1.0054517069637832,
          1.1136464518705884,
          -2.158906419697583,
          2.1091061818145262,
          -1.0703594134064252,
          -0.5814437688577203,
          0.03924795414460957,
          1.006378179337866,
          -0.3903396632439928,
          -1.3561617236485808,
          -1.0708998832851322,
          1.5806859251958079,
          0.17179271377825836,
          -0.9047325249055707,
          1.1275038903666008,
          1.989443049293253,
          -1.090722702073496,
          -0.2993575416216889,
          -0.6394549917325748,
          -1.2244878399342731,
          1.6452364982836245,
          0.6177372762506392,
          -1.3176302335739636,
          0.03300243685919273,
          -1.0649093458079049,
          0.975689453023733,
          0.05122198401087867,
          -0.2976791863225247,
          -0.790150167428062,
          -0.6625271152615411,
          0.7860844830326141,
          -0.016153571380949677,
          -0.8598140138716176,
          -0.3185632602435938,
          -0.8067190607871518,
          -0.6147307859444832,
          0.6156300197507949,
          -0.9048669572075687,
          -0.2106043328452722,
          -1.0358044675788922,
          0.8941804936081772,
          0.6979637785733713,
          -0.8090777129605745,
          0.48770364177028785,
          -1.317158662969975,
          1.273288323901588
         ],
         "xaxis": "x",
         "yaxis": "y"
        },
        {
         "line": {
          "color": "rgba(128, 128, 128, 1.0)",
          "dash": "solid",
          "shape": "linear",
          "width": 1.3
         },
         "marker": {
          "size": 2,
          "symbol": "circle"
         },
         "mode": "markers",
         "name": "A",
         "text": "",
         "type": "scatter",
         "x": [
          -0.5548235720002016,
          -0.46033933106280667,
          1.5866377741729345,
          -0.3272212503881288,
          0.03402138478618209,
          -0.7624627502472152,
          2.348882566100373,
          -0.4593864721542771,
          0.31916528326146887,
          -0.6902004464640703,
          -0.9071182373778008,
          0.8693879352151368,
          0.0908984501140434,
          1.439719510453182,
          -1.8632253399626302,
          -0.479055317221008,
          0.5925242567873134,
          0.9182777533280958,
          -0.7754625687794833,
          -2.6583226781800797,
          0.5484315599141389,
          -0.7042914583634231,
          -0.1764697624966167,
          0.2502484719538905,
          -0.04785972571489474,
          1.2294110679482604,
          -0.11427358475630707,
          -0.3697207652302923,
          1.6043967881949919,
          -1.339472912051616,
          -1.29217789705882,
          -0.36153222275651,
          1.022692009649764,
          0.16598675428648627,
          0.5551363037720237,
          0.6740029189118928,
          0.4826622004974322,
          -0.11755937452739242,
          -0.32126785538898134,
          0.7929988121107323,
          0.3951830074407376,
          -2.088496378240888,
          -0.8759883673140567,
          0.06364644137637034,
          0.39384361906406923,
          0.36875154769134777,
          -0.30784011826382807,
          0.7917959824498457,
          1.5677280244828602,
          -0.05900920362274808,
          1.0375464873238087,
          1.6379622252173518,
          -1.4057904636265286,
          0.5394882447018408,
          1.013559324777699,
          0.0317138450739195,
          -0.7447209913640487,
          0.20612512058230376,
          -1.7003724779460927,
          1.352623651396288,
          1.982935602840355,
          0.5068908613077829,
          -0.5164100240190705,
          0.630123868949732,
          0.7732102744966399,
          -1.2393677901893128,
          -0.3370213940892322,
          0.3483949651157315,
          -0.24066619524369812,
          0.6770539844969181,
          1.2288154644853018,
          -1.6743318035872083,
          -0.021365537352325627,
          -0.6672899618296045,
          0.10000066548559038,
          -1.7247613547037848,
          -0.05389893734429868,
          0.9180552257999586,
          0.48811130008099096,
          0.33920897319785864,
          -0.5707494319732833,
          -0.018216433868223143,
          -1.2482714701915105,
          -0.9430832695332753,
          0.7916447472466199,
          -0.06956062234436486,
          1.332297904497416,
          -0.4046384777011825,
          -0.7120292252325473,
          0.058700079993735624,
          -0.7810474905274281,
          -0.613129044372448,
          0.07107100611789133,
          -1.2234832464477743,
          -0.04915232875895141,
          -0.5740497723863638,
          -0.07084727333194477,
          -1.1230549919447825,
          1.2690967918899319,
          0.8833972953210805
         ],
         "xaxis": "x2",
         "y": [
          1.2376648357470055,
          -0.5588649056406358,
          0.40946706449563175,
          0.4298301337164253,
          0.07238270128864749,
          -0.20598883801382525,
          1.2385584747531542,
          -1.0633617765803824,
          0.3434542115634483,
          1.3645551658564248,
          -0.7290820511381018,
          -1.035624379248983,
          0.32740419197523757,
          -0.3351406777735119,
          -0.6995413769041855,
          -0.32313520691160347,
          -0.6968944913793241,
          -1.2658169541706465,
          1.8681787506166567,
          1.654531174173863,
          0.4323609959994185,
          0.13342603725333999,
          -0.25726923923873757,
          0.7180052009841095,
          1.403861120520268,
          1.4472639088688162,
          -0.6399257301458914,
          -1.1614404005478682,
          2.821851024615292,
          -0.45675635524671515,
          -1.5795633950159544,
          -0.36823092116578626,
          -1.0381007781369387,
          1.80093516549471,
          0.605519660199255,
          0.5520713257359585,
          1.0739598975916955,
          -0.08606957115270493,
          -0.5388402188322184,
          1.4131676971194618,
          -0.5605172697322097,
          -0.6056944769115583,
          -0.9428065238847683,
          1.3962914689468222,
          -0.9272551780488926,
          -0.16998328050440442,
          1.957273987112428,
          -0.08974156694888845,
          -0.6345160635027977,
          -0.4863315382609629,
          -0.6461642065112355,
          -0.4394231941140874,
          0.37048755383772125,
          0.5298402144160002,
          1.0054517069637832,
          1.1136464518705884,
          -2.158906419697583,
          2.1091061818145262,
          -1.0703594134064252,
          -0.5814437688577203,
          0.03924795414460957,
          1.006378179337866,
          -0.3903396632439928,
          -1.3561617236485808,
          -1.0708998832851322,
          1.5806859251958079,
          0.17179271377825836,
          -0.9047325249055707,
          1.1275038903666008,
          1.989443049293253,
          -1.090722702073496,
          -0.2993575416216889,
          -0.6394549917325748,
          -1.2244878399342731,
          1.6452364982836245,
          0.6177372762506392,
          -1.3176302335739636,
          0.03300243685919273,
          -1.0649093458079049,
          0.975689453023733,
          0.05122198401087867,
          -0.2976791863225247,
          -0.790150167428062,
          -0.6625271152615411,
          0.7860844830326141,
          -0.016153571380949677,
          -0.8598140138716176,
          -0.3185632602435938,
          -0.8067190607871518,
          -0.6147307859444832,
          0.6156300197507949,
          -0.9048669572075687,
          -0.2106043328452722,
          -1.0358044675788922,
          0.8941804936081772,
          0.6979637785733713,
          -0.8090777129605745,
          0.48770364177028785,
          -1.317158662969975,
          1.273288323901588
         ],
         "yaxis": "y2"
        },
        {
         "line": {
          "color": "rgba(128, 128, 128, 1.0)",
          "dash": "solid",
          "shape": "linear",
          "width": 1.3
         },
         "marker": {
          "size": 2,
          "symbol": "circle"
         },
         "mode": "markers",
         "name": "A",
         "text": "",
         "type": "scatter",
         "x": [
          -0.26906904181459984,
          0.2081365237057489,
          0.7434127044545952,
          -0.5803046955447627,
          1.0126419450126272,
          1.1938906824422673,
          1.2159765066535102,
          -0.3310849231718713,
          0.5077203376407015,
          0.34209242810181456,
          -0.11878946540649828,
          -0.4749705207550622,
          1.207185380191627,
          0.12943069644011224,
          1.3355989559232668,
          -0.7731247278756137,
          0.3807405717358539,
          0.266643240510313,
          -2.3777426803100257,
          0.0027779141300425035,
          0.1309034139658154,
          0.17238796318819677,
          0.27372680579883435,
          -1.1927389215889832,
          0.3873475119923371,
          1.718910613734451,
          -1.253580021353978,
          0.6034098698527122,
          -0.203623097256541,
          -0.5170646697402146,
          -0.16230635256296833,
          -0.6734102209160207,
          0.5196148131668465,
          0.29505417711255283,
          -2.3134073395997343,
          1.8201532702913714,
          0.9101868757665937,
          0.06780133898843106,
          -1.0766921698404543,
          2.3340108037093183,
          -0.5250312340582639,
          -1.2437738802864404,
          -1.6538668013395428,
          -0.45117417337726884,
          0.15832560576274293,
          -1.1549036467497915,
          -0.4138082042237622,
          2.3928142584894543,
          -0.9229286361133364,
          0.8269859271253687,
          -1.2267680346468983,
          -0.03157069409661295,
          0.8442269401278604,
          -0.8575855005126751,
          0.33113393835030586,
          -1.183084933062807,
          1.0417316110762198,
          0.7175987720056594,
          0.8814649528881313,
          0.28688702830024254,
          -1.2115696509980969,
          1.2056811520386082,
          0.3119990970994984,
          1.468750620432369,
          -0.03806325884520373,
          -1.1185715906259237,
          -0.08679478685379335,
          0.7972403161269461,
          0.631344147502726,
          -1.0025337810071915,
          0.13768162891975838,
          0.0050747807457603294,
          1.5723024365366773,
          -1.3892323025995186,
          -0.36639754856807305,
          2.2407998702377756,
          0.3819042754995391,
          0.050112072061411835,
          -0.43747120962076497,
          -0.5747401738028871,
          -1.1244149923334,
          0.7642250360111837,
          -2.5666888114649877,
          -1.915087613015398,
          1.630728006304569,
          0.6092488423656572,
          0.8161476087219586,
          -0.2471281885659989,
          0.29780268305984525,
          1.8544690780700486,
          0.6851016157507686,
          1.391156815114278,
          1.6541213644367931,
          0.6844302629511626,
          1.9796956636054142,
          0.2841274948328375,
          -1.1817696734719931,
          0.9864863478398745,
          -0.42745822098441166,
          1.5231821229104305
         ],
         "xaxis": "x3",
         "y": [
          1.2376648357470055,
          -0.5588649056406358,
          0.40946706449563175,
          0.4298301337164253,
          0.07238270128864749,
          -0.20598883801382525,
          1.2385584747531542,
          -1.0633617765803824,
          0.3434542115634483,
          1.3645551658564248,
          -0.7290820511381018,
          -1.035624379248983,
          0.32740419197523757,
          -0.3351406777735119,
          -0.6995413769041855,
          -0.32313520691160347,
          -0.6968944913793241,
          -1.2658169541706465,
          1.8681787506166567,
          1.654531174173863,
          0.4323609959994185,
          0.13342603725333999,
          -0.25726923923873757,
          0.7180052009841095,
          1.403861120520268,
          1.4472639088688162,
          -0.6399257301458914,
          -1.1614404005478682,
          2.821851024615292,
          -0.45675635524671515,
          -1.5795633950159544,
          -0.36823092116578626,
          -1.0381007781369387,
          1.80093516549471,
          0.605519660199255,
          0.5520713257359585,
          1.0739598975916955,
          -0.08606957115270493,
          -0.5388402188322184,
          1.4131676971194618,
          -0.5605172697322097,
          -0.6056944769115583,
          -0.9428065238847683,
          1.3962914689468222,
          -0.9272551780488926,
          -0.16998328050440442,
          1.957273987112428,
          -0.08974156694888845,
          -0.6345160635027977,
          -0.4863315382609629,
          -0.6461642065112355,
          -0.4394231941140874,
          0.37048755383772125,
          0.5298402144160002,
          1.0054517069637832,
          1.1136464518705884,
          -2.158906419697583,
          2.1091061818145262,
          -1.0703594134064252,
          -0.5814437688577203,
          0.03924795414460957,
          1.006378179337866,
          -0.3903396632439928,
          -1.3561617236485808,
          -1.0708998832851322,
          1.5806859251958079,
          0.17179271377825836,
          -0.9047325249055707,
          1.1275038903666008,
          1.989443049293253,
          -1.090722702073496,
          -0.2993575416216889,
          -0.6394549917325748,
          -1.2244878399342731,
          1.6452364982836245,
          0.6177372762506392,
          -1.3176302335739636,
          0.03300243685919273,
          -1.0649093458079049,
          0.975689453023733,
          0.05122198401087867,
          -0.2976791863225247,
          -0.790150167428062,
          -0.6625271152615411,
          0.7860844830326141,
          -0.016153571380949677,
          -0.8598140138716176,
          -0.3185632602435938,
          -0.8067190607871518,
          -0.6147307859444832,
          0.6156300197507949,
          -0.9048669572075687,
          -0.2106043328452722,
          -1.0358044675788922,
          0.8941804936081772,
          0.6979637785733713,
          -0.8090777129605745,
          0.48770364177028785,
          -1.317158662969975,
          1.273288323901588
         ],
         "yaxis": "y3"
        },
        {
         "line": {
          "color": "rgba(128, 128, 128, 1.0)",
          "dash": "solid",
          "shape": "linear",
          "width": 1.3
         },
         "marker": {
          "size": 2,
          "symbol": "circle"
         },
         "mode": "markers",
         "name": "A",
         "text": "",
         "type": "scatter",
         "x": [
          -0.4491421908640809,
          1.2029482993147849,
          0.25378214610395416,
          -1.5063801748777694,
          1.3893539198044096,
          -0.9432078965941402,
          -0.6446134035867747,
          0.8829828739161394,
          0.32252916422399003,
          0.3043863498359023,
          -0.29872535210843226,
          1.2219065843467145,
          -0.4384353103826866,
          0.1657212574596592,
          -0.10509909234048634,
          -2.243069716006099,
          1.4018508384967856,
          0.3359896311992802,
          0.18241104077563605,
          -0.38289345158000965,
          0.6989107400684714,
          0.09613322515106505,
          0.36708603588622446,
          1.0654167299756634,
          1.4046787193426418,
          0.12944956647884878,
          -0.5752600419634767,
          0.6611244163550766,
          -0.09600859876502027,
          -0.9127876016098776,
          0.7213829965251812,
          0.9790738769347126,
          0.5753829352579928,
          0.38501319741583534,
          -0.42639630856853616,
          0.1684574936406595,
          0.2233771854734719,
          0.7216612879731006,
          0.3659398767935382,
          -1.16920504499437,
          -1.6426211588162785,
          -0.023236051268636395,
          0.8781898056187787,
          -1.2695964066351786,
          -0.7388100105945554,
          -0.12831274961768427,
          -1.6893279797156782,
          -0.49448320610754015,
          0.3187977161816559,
          -0.6874489064136562,
          -0.5881057803215165,
          -1.6175080062644085,
          -0.13627568523939648,
          0.22454415947119186,
          0.8061210849250724,
          0.5771316513712762,
          0.1407443447222844,
          -1.21803004602897,
          1.5003507313842335,
          -0.5262134322632784,
          -0.7776486145049962,
          1.6498639151877899,
          -0.7003918202246326,
          -0.4751232877017714,
          1.0715211265223172,
          -0.5157879249215598,
          -1.5251799429116442,
          1.6960593842474612,
          -1.0974245911801566,
          0.8157835346436526,
          -0.42949996169374904,
          0.6705685225946463,
          0.6698422801457918,
          -0.5951528711771942,
          -0.4924206210373965,
          -0.03397542210465927,
          0.5070841906803677,
          0.08069046452911735,
          1.073276414332532,
          0.6560155256664106,
          -1.8358140238405625,
          -1.4564528505248389,
          -0.5211912942399656,
          1.1619745147625549,
          1.1520565316385558,
          -0.15629430700252106,
          -1.1310990092759103,
          -0.7064144271527389,
          0.5297706528090994,
          -0.23680306625286474,
          0.5322863071415616,
          -1.0345383389929206,
          0.054635002811138526,
          0.5207287140263027,
          0.2663792440154259,
          0.48963295811603796,
          1.0261660060415485,
          1.414486694783853,
          1.3797201341016805,
          0.4154231562235997
         ],
         "xaxis": "x4",
         "y": [
          1.2376648357470055,
          -0.5588649056406358,
          0.40946706449563175,
          0.4298301337164253,
          0.07238270128864749,
          -0.20598883801382525,
          1.2385584747531542,
          -1.0633617765803824,
          0.3434542115634483,
          1.3645551658564248,
          -0.7290820511381018,
          -1.035624379248983,
          0.32740419197523757,
          -0.3351406777735119,
          -0.6995413769041855,
          -0.32313520691160347,
          -0.6968944913793241,
          -1.2658169541706465,
          1.8681787506166567,
          1.654531174173863,
          0.4323609959994185,
          0.13342603725333999,
          -0.25726923923873757,
          0.7180052009841095,
          1.403861120520268,
          1.4472639088688162,
          -0.6399257301458914,
          -1.1614404005478682,
          2.821851024615292,
          -0.45675635524671515,
          -1.5795633950159544,
          -0.36823092116578626,
          -1.0381007781369387,
          1.80093516549471,
          0.605519660199255,
          0.5520713257359585,
          1.0739598975916955,
          -0.08606957115270493,
          -0.5388402188322184,
          1.4131676971194618,
          -0.5605172697322097,
          -0.6056944769115583,
          -0.9428065238847683,
          1.3962914689468222,
          -0.9272551780488926,
          -0.16998328050440442,
          1.957273987112428,
          -0.08974156694888845,
          -0.6345160635027977,
          -0.4863315382609629,
          -0.6461642065112355,
          -0.4394231941140874,
          0.37048755383772125,
          0.5298402144160002,
          1.0054517069637832,
          1.1136464518705884,
          -2.158906419697583,
          2.1091061818145262,
          -1.0703594134064252,
          -0.5814437688577203,
          0.03924795414460957,
          1.006378179337866,
          -0.3903396632439928,
          -1.3561617236485808,
          -1.0708998832851322,
          1.5806859251958079,
          0.17179271377825836,
          -0.9047325249055707,
          1.1275038903666008,
          1.989443049293253,
          -1.090722702073496,
          -0.2993575416216889,
          -0.6394549917325748,
          -1.2244878399342731,
          1.6452364982836245,
          0.6177372762506392,
          -1.3176302335739636,
          0.03300243685919273,
          -1.0649093458079049,
          0.975689453023733,
          0.05122198401087867,
          -0.2976791863225247,
          -0.790150167428062,
          -0.6625271152615411,
          0.7860844830326141,
          -0.016153571380949677,
          -0.8598140138716176,
          -0.3185632602435938,
          -0.8067190607871518,
          -0.6147307859444832,
          0.6156300197507949,
          -0.9048669572075687,
          -0.2106043328452722,
          -1.0358044675788922,
          0.8941804936081772,
          0.6979637785733713,
          -0.8090777129605745,
          0.48770364177028785,
          -1.317158662969975,
          1.273288323901588
         ],
         "yaxis": "y4"
        },
        {
         "line": {
          "color": "rgba(128, 128, 128, 1.0)",
          "dash": "solid",
          "shape": "linear",
          "width": 1.3
         },
         "marker": {
          "size": 2,
          "symbol": "circle"
         },
         "mode": "markers",
         "name": "B",
         "text": "",
         "type": "scatter",
         "x": [
          1.2376648357470055,
          -0.5588649056406358,
          0.40946706449563175,
          0.4298301337164253,
          0.07238270128864749,
          -0.20598883801382525,
          1.2385584747531542,
          -1.0633617765803824,
          0.3434542115634483,
          1.3645551658564248,
          -0.7290820511381018,
          -1.035624379248983,
          0.32740419197523757,
          -0.3351406777735119,
          -0.6995413769041855,
          -0.32313520691160347,
          -0.6968944913793241,
          -1.2658169541706465,
          1.8681787506166567,
          1.654531174173863,
          0.4323609959994185,
          0.13342603725333999,
          -0.25726923923873757,
          0.7180052009841095,
          1.403861120520268,
          1.4472639088688162,
          -0.6399257301458914,
          -1.1614404005478682,
          2.821851024615292,
          -0.45675635524671515,
          -1.5795633950159544,
          -0.36823092116578626,
          -1.0381007781369387,
          1.80093516549471,
          0.605519660199255,
          0.5520713257359585,
          1.0739598975916955,
          -0.08606957115270493,
          -0.5388402188322184,
          1.4131676971194618,
          -0.5605172697322097,
          -0.6056944769115583,
          -0.9428065238847683,
          1.3962914689468222,
          -0.9272551780488926,
          -0.16998328050440442,
          1.957273987112428,
          -0.08974156694888845,
          -0.6345160635027977,
          -0.4863315382609629,
          -0.6461642065112355,
          -0.4394231941140874,
          0.37048755383772125,
          0.5298402144160002,
          1.0054517069637832,
          1.1136464518705884,
          -2.158906419697583,
          2.1091061818145262,
          -1.0703594134064252,
          -0.5814437688577203,
          0.03924795414460957,
          1.006378179337866,
          -0.3903396632439928,
          -1.3561617236485808,
          -1.0708998832851322,
          1.5806859251958079,
          0.17179271377825836,
          -0.9047325249055707,
          1.1275038903666008,
          1.989443049293253,
          -1.090722702073496,
          -0.2993575416216889,
          -0.6394549917325748,
          -1.2244878399342731,
          1.6452364982836245,
          0.6177372762506392,
          -1.3176302335739636,
          0.03300243685919273,
          -1.0649093458079049,
          0.975689453023733,
          0.05122198401087867,
          -0.2976791863225247,
          -0.790150167428062,
          -0.6625271152615411,
          0.7860844830326141,
          -0.016153571380949677,
          -0.8598140138716176,
          -0.3185632602435938,
          -0.8067190607871518,
          -0.6147307859444832,
          0.6156300197507949,
          -0.9048669572075687,
          -0.2106043328452722,
          -1.0358044675788922,
          0.8941804936081772,
          0.6979637785733713,
          -0.8090777129605745,
          0.48770364177028785,
          -1.317158662969975,
          1.273288323901588
         ],
         "xaxis": "x5",
         "y": [
          -0.5548235720002016,
          -0.46033933106280667,
          1.5866377741729345,
          -0.3272212503881288,
          0.03402138478618209,
          -0.7624627502472152,
          2.348882566100373,
          -0.4593864721542771,
          0.31916528326146887,
          -0.6902004464640703,
          -0.9071182373778008,
          0.8693879352151368,
          0.0908984501140434,
          1.439719510453182,
          -1.8632253399626302,
          -0.479055317221008,
          0.5925242567873134,
          0.9182777533280958,
          -0.7754625687794833,
          -2.6583226781800797,
          0.5484315599141389,
          -0.7042914583634231,
          -0.1764697624966167,
          0.2502484719538905,
          -0.04785972571489474,
          1.2294110679482604,
          -0.11427358475630707,
          -0.3697207652302923,
          1.6043967881949919,
          -1.339472912051616,
          -1.29217789705882,
          -0.36153222275651,
          1.022692009649764,
          0.16598675428648627,
          0.5551363037720237,
          0.6740029189118928,
          0.4826622004974322,
          -0.11755937452739242,
          -0.32126785538898134,
          0.7929988121107323,
          0.3951830074407376,
          -2.088496378240888,
          -0.8759883673140567,
          0.06364644137637034,
          0.39384361906406923,
          0.36875154769134777,
          -0.30784011826382807,
          0.7917959824498457,
          1.5677280244828602,
          -0.05900920362274808,
          1.0375464873238087,
          1.6379622252173518,
          -1.4057904636265286,
          0.5394882447018408,
          1.013559324777699,
          0.0317138450739195,
          -0.7447209913640487,
          0.20612512058230376,
          -1.7003724779460927,
          1.352623651396288,
          1.982935602840355,
          0.5068908613077829,
          -0.5164100240190705,
          0.630123868949732,
          0.7732102744966399,
          -1.2393677901893128,
          -0.3370213940892322,
          0.3483949651157315,
          -0.24066619524369812,
          0.6770539844969181,
          1.2288154644853018,
          -1.6743318035872083,
          -0.021365537352325627,
          -0.6672899618296045,
          0.10000066548559038,
          -1.7247613547037848,
          -0.05389893734429868,
          0.9180552257999586,
          0.48811130008099096,
          0.33920897319785864,
          -0.5707494319732833,
          -0.018216433868223143,
          -1.2482714701915105,
          -0.9430832695332753,
          0.7916447472466199,
          -0.06956062234436486,
          1.332297904497416,
          -0.4046384777011825,
          -0.7120292252325473,
          0.058700079993735624,
          -0.7810474905274281,
          -0.613129044372448,
          0.07107100611789133,
          -1.2234832464477743,
          -0.04915232875895141,
          -0.5740497723863638,
          -0.07084727333194477,
          -1.1230549919447825,
          1.2690967918899319,
          0.8833972953210805
         ],
         "yaxis": "y5"
        },
        {
         "histfunc": "count",
         "histnorm": "",
         "marker": {
          "color": "rgba(55, 128, 191, 1.0)",
          "line": {
           "color": "#4D5663",
           "width": 1.3
          }
         },
         "name": "B",
         "nbinsx": 10,
         "opacity": 0.8,
         "orientation": "v",
         "type": "histogram",
         "x": [
          -0.5548235720002016,
          -0.46033933106280667,
          1.5866377741729345,
          -0.3272212503881288,
          0.03402138478618209,
          -0.7624627502472152,
          2.348882566100373,
          -0.4593864721542771,
          0.31916528326146887,
          -0.6902004464640703,
          -0.9071182373778008,
          0.8693879352151368,
          0.0908984501140434,
          1.439719510453182,
          -1.8632253399626302,
          -0.479055317221008,
          0.5925242567873134,
          0.9182777533280958,
          -0.7754625687794833,
          -2.6583226781800797,
          0.5484315599141389,
          -0.7042914583634231,
          -0.1764697624966167,
          0.2502484719538905,
          -0.04785972571489474,
          1.2294110679482604,
          -0.11427358475630707,
          -0.3697207652302923,
          1.6043967881949919,
          -1.339472912051616,
          -1.29217789705882,
          -0.36153222275651,
          1.022692009649764,
          0.16598675428648627,
          0.5551363037720237,
          0.6740029189118928,
          0.4826622004974322,
          -0.11755937452739242,
          -0.32126785538898134,
          0.7929988121107323,
          0.3951830074407376,
          -2.088496378240888,
          -0.8759883673140567,
          0.06364644137637034,
          0.39384361906406923,
          0.36875154769134777,
          -0.30784011826382807,
          0.7917959824498457,
          1.5677280244828602,
          -0.05900920362274808,
          1.0375464873238087,
          1.6379622252173518,
          -1.4057904636265286,
          0.5394882447018408,
          1.013559324777699,
          0.0317138450739195,
          -0.7447209913640487,
          0.20612512058230376,
          -1.7003724779460927,
          1.352623651396288,
          1.982935602840355,
          0.5068908613077829,
          -0.5164100240190705,
          0.630123868949732,
          0.7732102744966399,
          -1.2393677901893128,
          -0.3370213940892322,
          0.3483949651157315,
          -0.24066619524369812,
          0.6770539844969181,
          1.2288154644853018,
          -1.6743318035872083,
          -0.021365537352325627,
          -0.6672899618296045,
          0.10000066548559038,
          -1.7247613547037848,
          -0.05389893734429868,
          0.9180552257999586,
          0.48811130008099096,
          0.33920897319785864,
          -0.5707494319732833,
          -0.018216433868223143,
          -1.2482714701915105,
          -0.9430832695332753,
          0.7916447472466199,
          -0.06956062234436486,
          1.332297904497416,
          -0.4046384777011825,
          -0.7120292252325473,
          0.058700079993735624,
          -0.7810474905274281,
          -0.613129044372448,
          0.07107100611789133,
          -1.2234832464477743,
          -0.04915232875895141,
          -0.5740497723863638,
          -0.07084727333194477,
          -1.1230549919447825,
          1.2690967918899319,
          0.8833972953210805
         ],
         "xaxis": "x6",
         "yaxis": "y6"
        },
        {
         "line": {
          "color": "rgba(128, 128, 128, 1.0)",
          "dash": "solid",
          "shape": "linear",
          "width": 1.3
         },
         "marker": {
          "size": 2,
          "symbol": "circle"
         },
         "mode": "markers",
         "name": "B",
         "text": "",
         "type": "scatter",
         "x": [
          -0.26906904181459984,
          0.2081365237057489,
          0.7434127044545952,
          -0.5803046955447627,
          1.0126419450126272,
          1.1938906824422673,
          1.2159765066535102,
          -0.3310849231718713,
          0.5077203376407015,
          0.34209242810181456,
          -0.11878946540649828,
          -0.4749705207550622,
          1.207185380191627,
          0.12943069644011224,
          1.3355989559232668,
          -0.7731247278756137,
          0.3807405717358539,
          0.266643240510313,
          -2.3777426803100257,
          0.0027779141300425035,
          0.1309034139658154,
          0.17238796318819677,
          0.27372680579883435,
          -1.1927389215889832,
          0.3873475119923371,
          1.718910613734451,
          -1.253580021353978,
          0.6034098698527122,
          -0.203623097256541,
          -0.5170646697402146,
          -0.16230635256296833,
          -0.6734102209160207,
          0.5196148131668465,
          0.29505417711255283,
          -2.3134073395997343,
          1.8201532702913714,
          0.9101868757665937,
          0.06780133898843106,
          -1.0766921698404543,
          2.3340108037093183,
          -0.5250312340582639,
          -1.2437738802864404,
          -1.6538668013395428,
          -0.45117417337726884,
          0.15832560576274293,
          -1.1549036467497915,
          -0.4138082042237622,
          2.3928142584894543,
          -0.9229286361133364,
          0.8269859271253687,
          -1.2267680346468983,
          -0.03157069409661295,
          0.8442269401278604,
          -0.8575855005126751,
          0.33113393835030586,
          -1.183084933062807,
          1.0417316110762198,
          0.7175987720056594,
          0.8814649528881313,
          0.28688702830024254,
          -1.2115696509980969,
          1.2056811520386082,
          0.3119990970994984,
          1.468750620432369,
          -0.03806325884520373,
          -1.1185715906259237,
          -0.08679478685379335,
          0.7972403161269461,
          0.631344147502726,
          -1.0025337810071915,
          0.13768162891975838,
          0.0050747807457603294,
          1.5723024365366773,
          -1.3892323025995186,
          -0.36639754856807305,
          2.2407998702377756,
          0.3819042754995391,
          0.050112072061411835,
          -0.43747120962076497,
          -0.5747401738028871,
          -1.1244149923334,
          0.7642250360111837,
          -2.5666888114649877,
          -1.915087613015398,
          1.630728006304569,
          0.6092488423656572,
          0.8161476087219586,
          -0.2471281885659989,
          0.29780268305984525,
          1.8544690780700486,
          0.6851016157507686,
          1.391156815114278,
          1.6541213644367931,
          0.6844302629511626,
          1.9796956636054142,
          0.2841274948328375,
          -1.1817696734719931,
          0.9864863478398745,
          -0.42745822098441166,
          1.5231821229104305
         ],
         "xaxis": "x7",
         "y": [
          -0.5548235720002016,
          -0.46033933106280667,
          1.5866377741729345,
          -0.3272212503881288,
          0.03402138478618209,
          -0.7624627502472152,
          2.348882566100373,
          -0.4593864721542771,
          0.31916528326146887,
          -0.6902004464640703,
          -0.9071182373778008,
          0.8693879352151368,
          0.0908984501140434,
          1.439719510453182,
          -1.8632253399626302,
          -0.479055317221008,
          0.5925242567873134,
          0.9182777533280958,
          -0.7754625687794833,
          -2.6583226781800797,
          0.5484315599141389,
          -0.7042914583634231,
          -0.1764697624966167,
          0.2502484719538905,
          -0.04785972571489474,
          1.2294110679482604,
          -0.11427358475630707,
          -0.3697207652302923,
          1.6043967881949919,
          -1.339472912051616,
          -1.29217789705882,
          -0.36153222275651,
          1.022692009649764,
          0.16598675428648627,
          0.5551363037720237,
          0.6740029189118928,
          0.4826622004974322,
          -0.11755937452739242,
          -0.32126785538898134,
          0.7929988121107323,
          0.3951830074407376,
          -2.088496378240888,
          -0.8759883673140567,
          0.06364644137637034,
          0.39384361906406923,
          0.36875154769134777,
          -0.30784011826382807,
          0.7917959824498457,
          1.5677280244828602,
          -0.05900920362274808,
          1.0375464873238087,
          1.6379622252173518,
          -1.4057904636265286,
          0.5394882447018408,
          1.013559324777699,
          0.0317138450739195,
          -0.7447209913640487,
          0.20612512058230376,
          -1.7003724779460927,
          1.352623651396288,
          1.982935602840355,
          0.5068908613077829,
          -0.5164100240190705,
          0.630123868949732,
          0.7732102744966399,
          -1.2393677901893128,
          -0.3370213940892322,
          0.3483949651157315,
          -0.24066619524369812,
          0.6770539844969181,
          1.2288154644853018,
          -1.6743318035872083,
          -0.021365537352325627,
          -0.6672899618296045,
          0.10000066548559038,
          -1.7247613547037848,
          -0.05389893734429868,
          0.9180552257999586,
          0.48811130008099096,
          0.33920897319785864,
          -0.5707494319732833,
          -0.018216433868223143,
          -1.2482714701915105,
          -0.9430832695332753,
          0.7916447472466199,
          -0.06956062234436486,
          1.332297904497416,
          -0.4046384777011825,
          -0.7120292252325473,
          0.058700079993735624,
          -0.7810474905274281,
          -0.613129044372448,
          0.07107100611789133,
          -1.2234832464477743,
          -0.04915232875895141,
          -0.5740497723863638,
          -0.07084727333194477,
          -1.1230549919447825,
          1.2690967918899319,
          0.8833972953210805
         ],
         "yaxis": "y7"
        },
        {
         "line": {
          "color": "rgba(128, 128, 128, 1.0)",
          "dash": "solid",
          "shape": "linear",
          "width": 1.3
         },
         "marker": {
          "size": 2,
          "symbol": "circle"
         },
         "mode": "markers",
         "name": "B",
         "text": "",
         "type": "scatter",
         "x": [
          -0.4491421908640809,
          1.2029482993147849,
          0.25378214610395416,
          -1.5063801748777694,
          1.3893539198044096,
          -0.9432078965941402,
          -0.6446134035867747,
          0.8829828739161394,
          0.32252916422399003,
          0.3043863498359023,
          -0.29872535210843226,
          1.2219065843467145,
          -0.4384353103826866,
          0.1657212574596592,
          -0.10509909234048634,
          -2.243069716006099,
          1.4018508384967856,
          0.3359896311992802,
          0.18241104077563605,
          -0.38289345158000965,
          0.6989107400684714,
          0.09613322515106505,
          0.36708603588622446,
          1.0654167299756634,
          1.4046787193426418,
          0.12944956647884878,
          -0.5752600419634767,
          0.6611244163550766,
          -0.09600859876502027,
          -0.9127876016098776,
          0.7213829965251812,
          0.9790738769347126,
          0.5753829352579928,
          0.38501319741583534,
          -0.42639630856853616,
          0.1684574936406595,
          0.2233771854734719,
          0.7216612879731006,
          0.3659398767935382,
          -1.16920504499437,
          -1.6426211588162785,
          -0.023236051268636395,
          0.8781898056187787,
          -1.2695964066351786,
          -0.7388100105945554,
          -0.12831274961768427,
          -1.6893279797156782,
          -0.49448320610754015,
          0.3187977161816559,
          -0.6874489064136562,
          -0.5881057803215165,
          -1.6175080062644085,
          -0.13627568523939648,
          0.22454415947119186,
          0.8061210849250724,
          0.5771316513712762,
          0.1407443447222844,
          -1.21803004602897,
          1.5003507313842335,
          -0.5262134322632784,
          -0.7776486145049962,
          1.6498639151877899,
          -0.7003918202246326,
          -0.4751232877017714,
          1.0715211265223172,
          -0.5157879249215598,
          -1.5251799429116442,
          1.6960593842474612,
          -1.0974245911801566,
          0.8157835346436526,
          -0.42949996169374904,
          0.6705685225946463,
          0.6698422801457918,
          -0.5951528711771942,
          -0.4924206210373965,
          -0.03397542210465927,
          0.5070841906803677,
          0.08069046452911735,
          1.073276414332532,
          0.6560155256664106,
          -1.8358140238405625,
          -1.4564528505248389,
          -0.5211912942399656,
          1.1619745147625549,
          1.1520565316385558,
          -0.15629430700252106,
          -1.1310990092759103,
          -0.7064144271527389,
          0.5297706528090994,
          -0.23680306625286474,
          0.5322863071415616,
          -1.0345383389929206,
          0.054635002811138526,
          0.5207287140263027,
          0.2663792440154259,
          0.48963295811603796,
          1.0261660060415485,
          1.414486694783853,
          1.3797201341016805,
          0.4154231562235997
         ],
         "xaxis": "x8",
         "y": [
          -0.5548235720002016,
          -0.46033933106280667,
          1.5866377741729345,
          -0.3272212503881288,
          0.03402138478618209,
          -0.7624627502472152,
          2.348882566100373,
          -0.4593864721542771,
          0.31916528326146887,
          -0.6902004464640703,
          -0.9071182373778008,
          0.8693879352151368,
          0.0908984501140434,
          1.439719510453182,
          -1.8632253399626302,
          -0.479055317221008,
          0.5925242567873134,
          0.9182777533280958,
          -0.7754625687794833,
          -2.6583226781800797,
          0.5484315599141389,
          -0.7042914583634231,
          -0.1764697624966167,
          0.2502484719538905,
          -0.04785972571489474,
          1.2294110679482604,
          -0.11427358475630707,
          -0.3697207652302923,
          1.6043967881949919,
          -1.339472912051616,
          -1.29217789705882,
          -0.36153222275651,
          1.022692009649764,
          0.16598675428648627,
          0.5551363037720237,
          0.6740029189118928,
          0.4826622004974322,
          -0.11755937452739242,
          -0.32126785538898134,
          0.7929988121107323,
          0.3951830074407376,
          -2.088496378240888,
          -0.8759883673140567,
          0.06364644137637034,
          0.39384361906406923,
          0.36875154769134777,
          -0.30784011826382807,
          0.7917959824498457,
          1.5677280244828602,
          -0.05900920362274808,
          1.0375464873238087,
          1.6379622252173518,
          -1.4057904636265286,
          0.5394882447018408,
          1.013559324777699,
          0.0317138450739195,
          -0.7447209913640487,
          0.20612512058230376,
          -1.7003724779460927,
          1.352623651396288,
          1.982935602840355,
          0.5068908613077829,
          -0.5164100240190705,
          0.630123868949732,
          0.7732102744966399,
          -1.2393677901893128,
          -0.3370213940892322,
          0.3483949651157315,
          -0.24066619524369812,
          0.6770539844969181,
          1.2288154644853018,
          -1.6743318035872083,
          -0.021365537352325627,
          -0.6672899618296045,
          0.10000066548559038,
          -1.7247613547037848,
          -0.05389893734429868,
          0.9180552257999586,
          0.48811130008099096,
          0.33920897319785864,
          -0.5707494319732833,
          -0.018216433868223143,
          -1.2482714701915105,
          -0.9430832695332753,
          0.7916447472466199,
          -0.06956062234436486,
          1.332297904497416,
          -0.4046384777011825,
          -0.7120292252325473,
          0.058700079993735624,
          -0.7810474905274281,
          -0.613129044372448,
          0.07107100611789133,
          -1.2234832464477743,
          -0.04915232875895141,
          -0.5740497723863638,
          -0.07084727333194477,
          -1.1230549919447825,
          1.2690967918899319,
          0.8833972953210805
         ],
         "yaxis": "y8"
        },
        {
         "line": {
          "color": "rgba(128, 128, 128, 1.0)",
          "dash": "solid",
          "shape": "linear",
          "width": 1.3
         },
         "marker": {
          "size": 2,
          "symbol": "circle"
         },
         "mode": "markers",
         "name": "C",
         "text": "",
         "type": "scatter",
         "x": [
          1.2376648357470055,
          -0.5588649056406358,
          0.40946706449563175,
          0.4298301337164253,
          0.07238270128864749,
          -0.20598883801382525,
          1.2385584747531542,
          -1.0633617765803824,
          0.3434542115634483,
          1.3645551658564248,
          -0.7290820511381018,
          -1.035624379248983,
          0.32740419197523757,
          -0.3351406777735119,
          -0.6995413769041855,
          -0.32313520691160347,
          -0.6968944913793241,
          -1.2658169541706465,
          1.8681787506166567,
          1.654531174173863,
          0.4323609959994185,
          0.13342603725333999,
          -0.25726923923873757,
          0.7180052009841095,
          1.403861120520268,
          1.4472639088688162,
          -0.6399257301458914,
          -1.1614404005478682,
          2.821851024615292,
          -0.45675635524671515,
          -1.5795633950159544,
          -0.36823092116578626,
          -1.0381007781369387,
          1.80093516549471,
          0.605519660199255,
          0.5520713257359585,
          1.0739598975916955,
          -0.08606957115270493,
          -0.5388402188322184,
          1.4131676971194618,
          -0.5605172697322097,
          -0.6056944769115583,
          -0.9428065238847683,
          1.3962914689468222,
          -0.9272551780488926,
          -0.16998328050440442,
          1.957273987112428,
          -0.08974156694888845,
          -0.6345160635027977,
          -0.4863315382609629,
          -0.6461642065112355,
          -0.4394231941140874,
          0.37048755383772125,
          0.5298402144160002,
          1.0054517069637832,
          1.1136464518705884,
          -2.158906419697583,
          2.1091061818145262,
          -1.0703594134064252,
          -0.5814437688577203,
          0.03924795414460957,
          1.006378179337866,
          -0.3903396632439928,
          -1.3561617236485808,
          -1.0708998832851322,
          1.5806859251958079,
          0.17179271377825836,
          -0.9047325249055707,
          1.1275038903666008,
          1.989443049293253,
          -1.090722702073496,
          -0.2993575416216889,
          -0.6394549917325748,
          -1.2244878399342731,
          1.6452364982836245,
          0.6177372762506392,
          -1.3176302335739636,
          0.03300243685919273,
          -1.0649093458079049,
          0.975689453023733,
          0.05122198401087867,
          -0.2976791863225247,
          -0.790150167428062,
          -0.6625271152615411,
          0.7860844830326141,
          -0.016153571380949677,
          -0.8598140138716176,
          -0.3185632602435938,
          -0.8067190607871518,
          -0.6147307859444832,
          0.6156300197507949,
          -0.9048669572075687,
          -0.2106043328452722,
          -1.0358044675788922,
          0.8941804936081772,
          0.6979637785733713,
          -0.8090777129605745,
          0.48770364177028785,
          -1.317158662969975,
          1.273288323901588
         ],
         "xaxis": "x9",
         "y": [
          -0.26906904181459984,
          0.2081365237057489,
          0.7434127044545952,
          -0.5803046955447627,
          1.0126419450126272,
          1.1938906824422673,
          1.2159765066535102,
          -0.3310849231718713,
          0.5077203376407015,
          0.34209242810181456,
          -0.11878946540649828,
          -0.4749705207550622,
          1.207185380191627,
          0.12943069644011224,
          1.3355989559232668,
          -0.7731247278756137,
          0.3807405717358539,
          0.266643240510313,
          -2.3777426803100257,
          0.0027779141300425035,
          0.1309034139658154,
          0.17238796318819677,
          0.27372680579883435,
          -1.1927389215889832,
          0.3873475119923371,
          1.718910613734451,
          -1.253580021353978,
          0.6034098698527122,
          -0.203623097256541,
          -0.5170646697402146,
          -0.16230635256296833,
          -0.6734102209160207,
          0.5196148131668465,
          0.29505417711255283,
          -2.3134073395997343,
          1.8201532702913714,
          0.9101868757665937,
          0.06780133898843106,
          -1.0766921698404543,
          2.3340108037093183,
          -0.5250312340582639,
          -1.2437738802864404,
          -1.6538668013395428,
          -0.45117417337726884,
          0.15832560576274293,
          -1.1549036467497915,
          -0.4138082042237622,
          2.3928142584894543,
          -0.9229286361133364,
          0.8269859271253687,
          -1.2267680346468983,
          -0.03157069409661295,
          0.8442269401278604,
          -0.8575855005126751,
          0.33113393835030586,
          -1.183084933062807,
          1.0417316110762198,
          0.7175987720056594,
          0.8814649528881313,
          0.28688702830024254,
          -1.2115696509980969,
          1.2056811520386082,
          0.3119990970994984,
          1.468750620432369,
          -0.03806325884520373,
          -1.1185715906259237,
          -0.08679478685379335,
          0.7972403161269461,
          0.631344147502726,
          -1.0025337810071915,
          0.13768162891975838,
          0.0050747807457603294,
          1.5723024365366773,
          -1.3892323025995186,
          -0.36639754856807305,
          2.2407998702377756,
          0.3819042754995391,
          0.050112072061411835,
          -0.43747120962076497,
          -0.5747401738028871,
          -1.1244149923334,
          0.7642250360111837,
          -2.5666888114649877,
          -1.915087613015398,
          1.630728006304569,
          0.6092488423656572,
          0.8161476087219586,
          -0.2471281885659989,
          0.29780268305984525,
          1.8544690780700486,
          0.6851016157507686,
          1.391156815114278,
          1.6541213644367931,
          0.6844302629511626,
          1.9796956636054142,
          0.2841274948328375,
          -1.1817696734719931,
          0.9864863478398745,
          -0.42745822098441166,
          1.5231821229104305
         ],
         "yaxis": "y9"
        },
        {
         "line": {
          "color": "rgba(128, 128, 128, 1.0)",
          "dash": "solid",
          "shape": "linear",
          "width": 1.3
         },
         "marker": {
          "size": 2,
          "symbol": "circle"
         },
         "mode": "markers",
         "name": "C",
         "text": "",
         "type": "scatter",
         "x": [
          -0.5548235720002016,
          -0.46033933106280667,
          1.5866377741729345,
          -0.3272212503881288,
          0.03402138478618209,
          -0.7624627502472152,
          2.348882566100373,
          -0.4593864721542771,
          0.31916528326146887,
          -0.6902004464640703,
          -0.9071182373778008,
          0.8693879352151368,
          0.0908984501140434,
          1.439719510453182,
          -1.8632253399626302,
          -0.479055317221008,
          0.5925242567873134,
          0.9182777533280958,
          -0.7754625687794833,
          -2.6583226781800797,
          0.5484315599141389,
          -0.7042914583634231,
          -0.1764697624966167,
          0.2502484719538905,
          -0.04785972571489474,
          1.2294110679482604,
          -0.11427358475630707,
          -0.3697207652302923,
          1.6043967881949919,
          -1.339472912051616,
          -1.29217789705882,
          -0.36153222275651,
          1.022692009649764,
          0.16598675428648627,
          0.5551363037720237,
          0.6740029189118928,
          0.4826622004974322,
          -0.11755937452739242,
          -0.32126785538898134,
          0.7929988121107323,
          0.3951830074407376,
          -2.088496378240888,
          -0.8759883673140567,
          0.06364644137637034,
          0.39384361906406923,
          0.36875154769134777,
          -0.30784011826382807,
          0.7917959824498457,
          1.5677280244828602,
          -0.05900920362274808,
          1.0375464873238087,
          1.6379622252173518,
          -1.4057904636265286,
          0.5394882447018408,
          1.013559324777699,
          0.0317138450739195,
          -0.7447209913640487,
          0.20612512058230376,
          -1.7003724779460927,
          1.352623651396288,
          1.982935602840355,
          0.5068908613077829,
          -0.5164100240190705,
          0.630123868949732,
          0.7732102744966399,
          -1.2393677901893128,
          -0.3370213940892322,
          0.3483949651157315,
          -0.24066619524369812,
          0.6770539844969181,
          1.2288154644853018,
          -1.6743318035872083,
          -0.021365537352325627,
          -0.6672899618296045,
          0.10000066548559038,
          -1.7247613547037848,
          -0.05389893734429868,
          0.9180552257999586,
          0.48811130008099096,
          0.33920897319785864,
          -0.5707494319732833,
          -0.018216433868223143,
          -1.2482714701915105,
          -0.9430832695332753,
          0.7916447472466199,
          -0.06956062234436486,
          1.332297904497416,
          -0.4046384777011825,
          -0.7120292252325473,
          0.058700079993735624,
          -0.7810474905274281,
          -0.613129044372448,
          0.07107100611789133,
          -1.2234832464477743,
          -0.04915232875895141,
          -0.5740497723863638,
          -0.07084727333194477,
          -1.1230549919447825,
          1.2690967918899319,
          0.8833972953210805
         ],
         "xaxis": "x10",
         "y": [
          -0.26906904181459984,
          0.2081365237057489,
          0.7434127044545952,
          -0.5803046955447627,
          1.0126419450126272,
          1.1938906824422673,
          1.2159765066535102,
          -0.3310849231718713,
          0.5077203376407015,
          0.34209242810181456,
          -0.11878946540649828,
          -0.4749705207550622,
          1.207185380191627,
          0.12943069644011224,
          1.3355989559232668,
          -0.7731247278756137,
          0.3807405717358539,
          0.266643240510313,
          -2.3777426803100257,
          0.0027779141300425035,
          0.1309034139658154,
          0.17238796318819677,
          0.27372680579883435,
          -1.1927389215889832,
          0.3873475119923371,
          1.718910613734451,
          -1.253580021353978,
          0.6034098698527122,
          -0.203623097256541,
          -0.5170646697402146,
          -0.16230635256296833,
          -0.6734102209160207,
          0.5196148131668465,
          0.29505417711255283,
          -2.3134073395997343,
          1.8201532702913714,
          0.9101868757665937,
          0.06780133898843106,
          -1.0766921698404543,
          2.3340108037093183,
          -0.5250312340582639,
          -1.2437738802864404,
          -1.6538668013395428,
          -0.45117417337726884,
          0.15832560576274293,
          -1.1549036467497915,
          -0.4138082042237622,
          2.3928142584894543,
          -0.9229286361133364,
          0.8269859271253687,
          -1.2267680346468983,
          -0.03157069409661295,
          0.8442269401278604,
          -0.8575855005126751,
          0.33113393835030586,
          -1.183084933062807,
          1.0417316110762198,
          0.7175987720056594,
          0.8814649528881313,
          0.28688702830024254,
          -1.2115696509980969,
          1.2056811520386082,
          0.3119990970994984,
          1.468750620432369,
          -0.03806325884520373,
          -1.1185715906259237,
          -0.08679478685379335,
          0.7972403161269461,
          0.631344147502726,
          -1.0025337810071915,
          0.13768162891975838,
          0.0050747807457603294,
          1.5723024365366773,
          -1.3892323025995186,
          -0.36639754856807305,
          2.2407998702377756,
          0.3819042754995391,
          0.050112072061411835,
          -0.43747120962076497,
          -0.5747401738028871,
          -1.1244149923334,
          0.7642250360111837,
          -2.5666888114649877,
          -1.915087613015398,
          1.630728006304569,
          0.6092488423656572,
          0.8161476087219586,
          -0.2471281885659989,
          0.29780268305984525,
          1.8544690780700486,
          0.6851016157507686,
          1.391156815114278,
          1.6541213644367931,
          0.6844302629511626,
          1.9796956636054142,
          0.2841274948328375,
          -1.1817696734719931,
          0.9864863478398745,
          -0.42745822098441166,
          1.5231821229104305
         ],
         "yaxis": "y10"
        },
        {
         "histfunc": "count",
         "histnorm": "",
         "marker": {
          "color": "rgba(50, 171, 96, 1.0)",
          "line": {
           "color": "#4D5663",
           "width": 1.3
          }
         },
         "name": "C",
         "nbinsx": 10,
         "opacity": 0.8,
         "orientation": "v",
         "type": "histogram",
         "x": [
          -0.26906904181459984,
          0.2081365237057489,
          0.7434127044545952,
          -0.5803046955447627,
          1.0126419450126272,
          1.1938906824422673,
          1.2159765066535102,
          -0.3310849231718713,
          0.5077203376407015,
          0.34209242810181456,
          -0.11878946540649828,
          -0.4749705207550622,
          1.207185380191627,
          0.12943069644011224,
          1.3355989559232668,
          -0.7731247278756137,
          0.3807405717358539,
          0.266643240510313,
          -2.3777426803100257,
          0.0027779141300425035,
          0.1309034139658154,
          0.17238796318819677,
          0.27372680579883435,
          -1.1927389215889832,
          0.3873475119923371,
          1.718910613734451,
          -1.253580021353978,
          0.6034098698527122,
          -0.203623097256541,
          -0.5170646697402146,
          -0.16230635256296833,
          -0.6734102209160207,
          0.5196148131668465,
          0.29505417711255283,
          -2.3134073395997343,
          1.8201532702913714,
          0.9101868757665937,
          0.06780133898843106,
          -1.0766921698404543,
          2.3340108037093183,
          -0.5250312340582639,
          -1.2437738802864404,
          -1.6538668013395428,
          -0.45117417337726884,
          0.15832560576274293,
          -1.1549036467497915,
          -0.4138082042237622,
          2.3928142584894543,
          -0.9229286361133364,
          0.8269859271253687,
          -1.2267680346468983,
          -0.03157069409661295,
          0.8442269401278604,
          -0.8575855005126751,
          0.33113393835030586,
          -1.183084933062807,
          1.0417316110762198,
          0.7175987720056594,
          0.8814649528881313,
          0.28688702830024254,
          -1.2115696509980969,
          1.2056811520386082,
          0.3119990970994984,
          1.468750620432369,
          -0.03806325884520373,
          -1.1185715906259237,
          -0.08679478685379335,
          0.7972403161269461,
          0.631344147502726,
          -1.0025337810071915,
          0.13768162891975838,
          0.0050747807457603294,
          1.5723024365366773,
          -1.3892323025995186,
          -0.36639754856807305,
          2.2407998702377756,
          0.3819042754995391,
          0.050112072061411835,
          -0.43747120962076497,
          -0.5747401738028871,
          -1.1244149923334,
          0.7642250360111837,
          -2.5666888114649877,
          -1.915087613015398,
          1.630728006304569,
          0.6092488423656572,
          0.8161476087219586,
          -0.2471281885659989,
          0.29780268305984525,
          1.8544690780700486,
          0.6851016157507686,
          1.391156815114278,
          1.6541213644367931,
          0.6844302629511626,
          1.9796956636054142,
          0.2841274948328375,
          -1.1817696734719931,
          0.9864863478398745,
          -0.42745822098441166,
          1.5231821229104305
         ],
         "xaxis": "x11",
         "yaxis": "y11"
        },
        {
         "line": {
          "color": "rgba(128, 128, 128, 1.0)",
          "dash": "solid",
          "shape": "linear",
          "width": 1.3
         },
         "marker": {
          "size": 2,
          "symbol": "circle"
         },
         "mode": "markers",
         "name": "C",
         "text": "",
         "type": "scatter",
         "x": [
          -0.4491421908640809,
          1.2029482993147849,
          0.25378214610395416,
          -1.5063801748777694,
          1.3893539198044096,
          -0.9432078965941402,
          -0.6446134035867747,
          0.8829828739161394,
          0.32252916422399003,
          0.3043863498359023,
          -0.29872535210843226,
          1.2219065843467145,
          -0.4384353103826866,
          0.1657212574596592,
          -0.10509909234048634,
          -2.243069716006099,
          1.4018508384967856,
          0.3359896311992802,
          0.18241104077563605,
          -0.38289345158000965,
          0.6989107400684714,
          0.09613322515106505,
          0.36708603588622446,
          1.0654167299756634,
          1.4046787193426418,
          0.12944956647884878,
          -0.5752600419634767,
          0.6611244163550766,
          -0.09600859876502027,
          -0.9127876016098776,
          0.7213829965251812,
          0.9790738769347126,
          0.5753829352579928,
          0.38501319741583534,
          -0.42639630856853616,
          0.1684574936406595,
          0.2233771854734719,
          0.7216612879731006,
          0.3659398767935382,
          -1.16920504499437,
          -1.6426211588162785,
          -0.023236051268636395,
          0.8781898056187787,
          -1.2695964066351786,
          -0.7388100105945554,
          -0.12831274961768427,
          -1.6893279797156782,
          -0.49448320610754015,
          0.3187977161816559,
          -0.6874489064136562,
          -0.5881057803215165,
          -1.6175080062644085,
          -0.13627568523939648,
          0.22454415947119186,
          0.8061210849250724,
          0.5771316513712762,
          0.1407443447222844,
          -1.21803004602897,
          1.5003507313842335,
          -0.5262134322632784,
          -0.7776486145049962,
          1.6498639151877899,
          -0.7003918202246326,
          -0.4751232877017714,
          1.0715211265223172,
          -0.5157879249215598,
          -1.5251799429116442,
          1.6960593842474612,
          -1.0974245911801566,
          0.8157835346436526,
          -0.42949996169374904,
          0.6705685225946463,
          0.6698422801457918,
          -0.5951528711771942,
          -0.4924206210373965,
          -0.03397542210465927,
          0.5070841906803677,
          0.08069046452911735,
          1.073276414332532,
          0.6560155256664106,
          -1.8358140238405625,
          -1.4564528505248389,
          -0.5211912942399656,
          1.1619745147625549,
          1.1520565316385558,
          -0.15629430700252106,
          -1.1310990092759103,
          -0.7064144271527389,
          0.5297706528090994,
          -0.23680306625286474,
          0.5322863071415616,
          -1.0345383389929206,
          0.054635002811138526,
          0.5207287140263027,
          0.2663792440154259,
          0.48963295811603796,
          1.0261660060415485,
          1.414486694783853,
          1.3797201341016805,
          0.4154231562235997
         ],
         "xaxis": "x12",
         "y": [
          -0.26906904181459984,
          0.2081365237057489,
          0.7434127044545952,
          -0.5803046955447627,
          1.0126419450126272,
          1.1938906824422673,
          1.2159765066535102,
          -0.3310849231718713,
          0.5077203376407015,
          0.34209242810181456,
          -0.11878946540649828,
          -0.4749705207550622,
          1.207185380191627,
          0.12943069644011224,
          1.3355989559232668,
          -0.7731247278756137,
          0.3807405717358539,
          0.266643240510313,
          -2.3777426803100257,
          0.0027779141300425035,
          0.1309034139658154,
          0.17238796318819677,
          0.27372680579883435,
          -1.1927389215889832,
          0.3873475119923371,
          1.718910613734451,
          -1.253580021353978,
          0.6034098698527122,
          -0.203623097256541,
          -0.5170646697402146,
          -0.16230635256296833,
          -0.6734102209160207,
          0.5196148131668465,
          0.29505417711255283,
          -2.3134073395997343,
          1.8201532702913714,
          0.9101868757665937,
          0.06780133898843106,
          -1.0766921698404543,
          2.3340108037093183,
          -0.5250312340582639,
          -1.2437738802864404,
          -1.6538668013395428,
          -0.45117417337726884,
          0.15832560576274293,
          -1.1549036467497915,
          -0.4138082042237622,
          2.3928142584894543,
          -0.9229286361133364,
          0.8269859271253687,
          -1.2267680346468983,
          -0.03157069409661295,
          0.8442269401278604,
          -0.8575855005126751,
          0.33113393835030586,
          -1.183084933062807,
          1.0417316110762198,
          0.7175987720056594,
          0.8814649528881313,
          0.28688702830024254,
          -1.2115696509980969,
          1.2056811520386082,
          0.3119990970994984,
          1.468750620432369,
          -0.03806325884520373,
          -1.1185715906259237,
          -0.08679478685379335,
          0.7972403161269461,
          0.631344147502726,
          -1.0025337810071915,
          0.13768162891975838,
          0.0050747807457603294,
          1.5723024365366773,
          -1.3892323025995186,
          -0.36639754856807305,
          2.2407998702377756,
          0.3819042754995391,
          0.050112072061411835,
          -0.43747120962076497,
          -0.5747401738028871,
          -1.1244149923334,
          0.7642250360111837,
          -2.5666888114649877,
          -1.915087613015398,
          1.630728006304569,
          0.6092488423656572,
          0.8161476087219586,
          -0.2471281885659989,
          0.29780268305984525,
          1.8544690780700486,
          0.6851016157507686,
          1.391156815114278,
          1.6541213644367931,
          0.6844302629511626,
          1.9796956636054142,
          0.2841274948328375,
          -1.1817696734719931,
          0.9864863478398745,
          -0.42745822098441166,
          1.5231821229104305
         ],
         "yaxis": "y12"
        },
        {
         "line": {
          "color": "rgba(128, 128, 128, 1.0)",
          "dash": "solid",
          "shape": "linear",
          "width": 1.3
         },
         "marker": {
          "size": 2,
          "symbol": "circle"
         },
         "mode": "markers",
         "name": "D",
         "text": "",
         "type": "scatter",
         "x": [
          1.2376648357470055,
          -0.5588649056406358,
          0.40946706449563175,
          0.4298301337164253,
          0.07238270128864749,
          -0.20598883801382525,
          1.2385584747531542,
          -1.0633617765803824,
          0.3434542115634483,
          1.3645551658564248,
          -0.7290820511381018,
          -1.035624379248983,
          0.32740419197523757,
          -0.3351406777735119,
          -0.6995413769041855,
          -0.32313520691160347,
          -0.6968944913793241,
          -1.2658169541706465,
          1.8681787506166567,
          1.654531174173863,
          0.4323609959994185,
          0.13342603725333999,
          -0.25726923923873757,
          0.7180052009841095,
          1.403861120520268,
          1.4472639088688162,
          -0.6399257301458914,
          -1.1614404005478682,
          2.821851024615292,
          -0.45675635524671515,
          -1.5795633950159544,
          -0.36823092116578626,
          -1.0381007781369387,
          1.80093516549471,
          0.605519660199255,
          0.5520713257359585,
          1.0739598975916955,
          -0.08606957115270493,
          -0.5388402188322184,
          1.4131676971194618,
          -0.5605172697322097,
          -0.6056944769115583,
          -0.9428065238847683,
          1.3962914689468222,
          -0.9272551780488926,
          -0.16998328050440442,
          1.957273987112428,
          -0.08974156694888845,
          -0.6345160635027977,
          -0.4863315382609629,
          -0.6461642065112355,
          -0.4394231941140874,
          0.37048755383772125,
          0.5298402144160002,
          1.0054517069637832,
          1.1136464518705884,
          -2.158906419697583,
          2.1091061818145262,
          -1.0703594134064252,
          -0.5814437688577203,
          0.03924795414460957,
          1.006378179337866,
          -0.3903396632439928,
          -1.3561617236485808,
          -1.0708998832851322,
          1.5806859251958079,
          0.17179271377825836,
          -0.9047325249055707,
          1.1275038903666008,
          1.989443049293253,
          -1.090722702073496,
          -0.2993575416216889,
          -0.6394549917325748,
          -1.2244878399342731,
          1.6452364982836245,
          0.6177372762506392,
          -1.3176302335739636,
          0.03300243685919273,
          -1.0649093458079049,
          0.975689453023733,
          0.05122198401087867,
          -0.2976791863225247,
          -0.790150167428062,
          -0.6625271152615411,
          0.7860844830326141,
          -0.016153571380949677,
          -0.8598140138716176,
          -0.3185632602435938,
          -0.8067190607871518,
          -0.6147307859444832,
          0.6156300197507949,
          -0.9048669572075687,
          -0.2106043328452722,
          -1.0358044675788922,
          0.8941804936081772,
          0.6979637785733713,
          -0.8090777129605745,
          0.48770364177028785,
          -1.317158662969975,
          1.273288323901588
         ],
         "xaxis": "x13",
         "y": [
          -0.4491421908640809,
          1.2029482993147849,
          0.25378214610395416,
          -1.5063801748777694,
          1.3893539198044096,
          -0.9432078965941402,
          -0.6446134035867747,
          0.8829828739161394,
          0.32252916422399003,
          0.3043863498359023,
          -0.29872535210843226,
          1.2219065843467145,
          -0.4384353103826866,
          0.1657212574596592,
          -0.10509909234048634,
          -2.243069716006099,
          1.4018508384967856,
          0.3359896311992802,
          0.18241104077563605,
          -0.38289345158000965,
          0.6989107400684714,
          0.09613322515106505,
          0.36708603588622446,
          1.0654167299756634,
          1.4046787193426418,
          0.12944956647884878,
          -0.5752600419634767,
          0.6611244163550766,
          -0.09600859876502027,
          -0.9127876016098776,
          0.7213829965251812,
          0.9790738769347126,
          0.5753829352579928,
          0.38501319741583534,
          -0.42639630856853616,
          0.1684574936406595,
          0.2233771854734719,
          0.7216612879731006,
          0.3659398767935382,
          -1.16920504499437,
          -1.6426211588162785,
          -0.023236051268636395,
          0.8781898056187787,
          -1.2695964066351786,
          -0.7388100105945554,
          -0.12831274961768427,
          -1.6893279797156782,
          -0.49448320610754015,
          0.3187977161816559,
          -0.6874489064136562,
          -0.5881057803215165,
          -1.6175080062644085,
          -0.13627568523939648,
          0.22454415947119186,
          0.8061210849250724,
          0.5771316513712762,
          0.1407443447222844,
          -1.21803004602897,
          1.5003507313842335,
          -0.5262134322632784,
          -0.7776486145049962,
          1.6498639151877899,
          -0.7003918202246326,
          -0.4751232877017714,
          1.0715211265223172,
          -0.5157879249215598,
          -1.5251799429116442,
          1.6960593842474612,
          -1.0974245911801566,
          0.8157835346436526,
          -0.42949996169374904,
          0.6705685225946463,
          0.6698422801457918,
          -0.5951528711771942,
          -0.4924206210373965,
          -0.03397542210465927,
          0.5070841906803677,
          0.08069046452911735,
          1.073276414332532,
          0.6560155256664106,
          -1.8358140238405625,
          -1.4564528505248389,
          -0.5211912942399656,
          1.1619745147625549,
          1.1520565316385558,
          -0.15629430700252106,
          -1.1310990092759103,
          -0.7064144271527389,
          0.5297706528090994,
          -0.23680306625286474,
          0.5322863071415616,
          -1.0345383389929206,
          0.054635002811138526,
          0.5207287140263027,
          0.2663792440154259,
          0.48963295811603796,
          1.0261660060415485,
          1.414486694783853,
          1.3797201341016805,
          0.4154231562235997
         ],
         "yaxis": "y13"
        },
        {
         "line": {
          "color": "rgba(128, 128, 128, 1.0)",
          "dash": "solid",
          "shape": "linear",
          "width": 1.3
         },
         "marker": {
          "size": 2,
          "symbol": "circle"
         },
         "mode": "markers",
         "name": "D",
         "text": "",
         "type": "scatter",
         "x": [
          -0.5548235720002016,
          -0.46033933106280667,
          1.5866377741729345,
          -0.3272212503881288,
          0.03402138478618209,
          -0.7624627502472152,
          2.348882566100373,
          -0.4593864721542771,
          0.31916528326146887,
          -0.6902004464640703,
          -0.9071182373778008,
          0.8693879352151368,
          0.0908984501140434,
          1.439719510453182,
          -1.8632253399626302,
          -0.479055317221008,
          0.5925242567873134,
          0.9182777533280958,
          -0.7754625687794833,
          -2.6583226781800797,
          0.5484315599141389,
          -0.7042914583634231,
          -0.1764697624966167,
          0.2502484719538905,
          -0.04785972571489474,
          1.2294110679482604,
          -0.11427358475630707,
          -0.3697207652302923,
          1.6043967881949919,
          -1.339472912051616,
          -1.29217789705882,
          -0.36153222275651,
          1.022692009649764,
          0.16598675428648627,
          0.5551363037720237,
          0.6740029189118928,
          0.4826622004974322,
          -0.11755937452739242,
          -0.32126785538898134,
          0.7929988121107323,
          0.3951830074407376,
          -2.088496378240888,
          -0.8759883673140567,
          0.06364644137637034,
          0.39384361906406923,
          0.36875154769134777,
          -0.30784011826382807,
          0.7917959824498457,
          1.5677280244828602,
          -0.05900920362274808,
          1.0375464873238087,
          1.6379622252173518,
          -1.4057904636265286,
          0.5394882447018408,
          1.013559324777699,
          0.0317138450739195,
          -0.7447209913640487,
          0.20612512058230376,
          -1.7003724779460927,
          1.352623651396288,
          1.982935602840355,
          0.5068908613077829,
          -0.5164100240190705,
          0.630123868949732,
          0.7732102744966399,
          -1.2393677901893128,
          -0.3370213940892322,
          0.3483949651157315,
          -0.24066619524369812,
          0.6770539844969181,
          1.2288154644853018,
          -1.6743318035872083,
          -0.021365537352325627,
          -0.6672899618296045,
          0.10000066548559038,
          -1.7247613547037848,
          -0.05389893734429868,
          0.9180552257999586,
          0.48811130008099096,
          0.33920897319785864,
          -0.5707494319732833,
          -0.018216433868223143,
          -1.2482714701915105,
          -0.9430832695332753,
          0.7916447472466199,
          -0.06956062234436486,
          1.332297904497416,
          -0.4046384777011825,
          -0.7120292252325473,
          0.058700079993735624,
          -0.7810474905274281,
          -0.613129044372448,
          0.07107100611789133,
          -1.2234832464477743,
          -0.04915232875895141,
          -0.5740497723863638,
          -0.07084727333194477,
          -1.1230549919447825,
          1.2690967918899319,
          0.8833972953210805
         ],
         "xaxis": "x14",
         "y": [
          -0.4491421908640809,
          1.2029482993147849,
          0.25378214610395416,
          -1.5063801748777694,
          1.3893539198044096,
          -0.9432078965941402,
          -0.6446134035867747,
          0.8829828739161394,
          0.32252916422399003,
          0.3043863498359023,
          -0.29872535210843226,
          1.2219065843467145,
          -0.4384353103826866,
          0.1657212574596592,
          -0.10509909234048634,
          -2.243069716006099,
          1.4018508384967856,
          0.3359896311992802,
          0.18241104077563605,
          -0.38289345158000965,
          0.6989107400684714,
          0.09613322515106505,
          0.36708603588622446,
          1.0654167299756634,
          1.4046787193426418,
          0.12944956647884878,
          -0.5752600419634767,
          0.6611244163550766,
          -0.09600859876502027,
          -0.9127876016098776,
          0.7213829965251812,
          0.9790738769347126,
          0.5753829352579928,
          0.38501319741583534,
          -0.42639630856853616,
          0.1684574936406595,
          0.2233771854734719,
          0.7216612879731006,
          0.3659398767935382,
          -1.16920504499437,
          -1.6426211588162785,
          -0.023236051268636395,
          0.8781898056187787,
          -1.2695964066351786,
          -0.7388100105945554,
          -0.12831274961768427,
          -1.6893279797156782,
          -0.49448320610754015,
          0.3187977161816559,
          -0.6874489064136562,
          -0.5881057803215165,
          -1.6175080062644085,
          -0.13627568523939648,
          0.22454415947119186,
          0.8061210849250724,
          0.5771316513712762,
          0.1407443447222844,
          -1.21803004602897,
          1.5003507313842335,
          -0.5262134322632784,
          -0.7776486145049962,
          1.6498639151877899,
          -0.7003918202246326,
          -0.4751232877017714,
          1.0715211265223172,
          -0.5157879249215598,
          -1.5251799429116442,
          1.6960593842474612,
          -1.0974245911801566,
          0.8157835346436526,
          -0.42949996169374904,
          0.6705685225946463,
          0.6698422801457918,
          -0.5951528711771942,
          -0.4924206210373965,
          -0.03397542210465927,
          0.5070841906803677,
          0.08069046452911735,
          1.073276414332532,
          0.6560155256664106,
          -1.8358140238405625,
          -1.4564528505248389,
          -0.5211912942399656,
          1.1619745147625549,
          1.1520565316385558,
          -0.15629430700252106,
          -1.1310990092759103,
          -0.7064144271527389,
          0.5297706528090994,
          -0.23680306625286474,
          0.5322863071415616,
          -1.0345383389929206,
          0.054635002811138526,
          0.5207287140263027,
          0.2663792440154259,
          0.48963295811603796,
          1.0261660060415485,
          1.414486694783853,
          1.3797201341016805,
          0.4154231562235997
         ],
         "yaxis": "y14"
        },
        {
         "line": {
          "color": "rgba(128, 128, 128, 1.0)",
          "dash": "solid",
          "shape": "linear",
          "width": 1.3
         },
         "marker": {
          "size": 2,
          "symbol": "circle"
         },
         "mode": "markers",
         "name": "D",
         "text": "",
         "type": "scatter",
         "x": [
          -0.26906904181459984,
          0.2081365237057489,
          0.7434127044545952,
          -0.5803046955447627,
          1.0126419450126272,
          1.1938906824422673,
          1.2159765066535102,
          -0.3310849231718713,
          0.5077203376407015,
          0.34209242810181456,
          -0.11878946540649828,
          -0.4749705207550622,
          1.207185380191627,
          0.12943069644011224,
          1.3355989559232668,
          -0.7731247278756137,
          0.3807405717358539,
          0.266643240510313,
          -2.3777426803100257,
          0.0027779141300425035,
          0.1309034139658154,
          0.17238796318819677,
          0.27372680579883435,
          -1.1927389215889832,
          0.3873475119923371,
          1.718910613734451,
          -1.253580021353978,
          0.6034098698527122,
          -0.203623097256541,
          -0.5170646697402146,
          -0.16230635256296833,
          -0.6734102209160207,
          0.5196148131668465,
          0.29505417711255283,
          -2.3134073395997343,
          1.8201532702913714,
          0.9101868757665937,
          0.06780133898843106,
          -1.0766921698404543,
          2.3340108037093183,
          -0.5250312340582639,
          -1.2437738802864404,
          -1.6538668013395428,
          -0.45117417337726884,
          0.15832560576274293,
          -1.1549036467497915,
          -0.4138082042237622,
          2.3928142584894543,
          -0.9229286361133364,
          0.8269859271253687,
          -1.2267680346468983,
          -0.03157069409661295,
          0.8442269401278604,
          -0.8575855005126751,
          0.33113393835030586,
          -1.183084933062807,
          1.0417316110762198,
          0.7175987720056594,
          0.8814649528881313,
          0.28688702830024254,
          -1.2115696509980969,
          1.2056811520386082,
          0.3119990970994984,
          1.468750620432369,
          -0.03806325884520373,
          -1.1185715906259237,
          -0.08679478685379335,
          0.7972403161269461,
          0.631344147502726,
          -1.0025337810071915,
          0.13768162891975838,
          0.0050747807457603294,
          1.5723024365366773,
          -1.3892323025995186,
          -0.36639754856807305,
          2.2407998702377756,
          0.3819042754995391,
          0.050112072061411835,
          -0.43747120962076497,
          -0.5747401738028871,
          -1.1244149923334,
          0.7642250360111837,
          -2.5666888114649877,
          -1.915087613015398,
          1.630728006304569,
          0.6092488423656572,
          0.8161476087219586,
          -0.2471281885659989,
          0.29780268305984525,
          1.8544690780700486,
          0.6851016157507686,
          1.391156815114278,
          1.6541213644367931,
          0.6844302629511626,
          1.9796956636054142,
          0.2841274948328375,
          -1.1817696734719931,
          0.9864863478398745,
          -0.42745822098441166,
          1.5231821229104305
         ],
         "xaxis": "x15",
         "y": [
          -0.4491421908640809,
          1.2029482993147849,
          0.25378214610395416,
          -1.5063801748777694,
          1.3893539198044096,
          -0.9432078965941402,
          -0.6446134035867747,
          0.8829828739161394,
          0.32252916422399003,
          0.3043863498359023,
          -0.29872535210843226,
          1.2219065843467145,
          -0.4384353103826866,
          0.1657212574596592,
          -0.10509909234048634,
          -2.243069716006099,
          1.4018508384967856,
          0.3359896311992802,
          0.18241104077563605,
          -0.38289345158000965,
          0.6989107400684714,
          0.09613322515106505,
          0.36708603588622446,
          1.0654167299756634,
          1.4046787193426418,
          0.12944956647884878,
          -0.5752600419634767,
          0.6611244163550766,
          -0.09600859876502027,
          -0.9127876016098776,
          0.7213829965251812,
          0.9790738769347126,
          0.5753829352579928,
          0.38501319741583534,
          -0.42639630856853616,
          0.1684574936406595,
          0.2233771854734719,
          0.7216612879731006,
          0.3659398767935382,
          -1.16920504499437,
          -1.6426211588162785,
          -0.023236051268636395,
          0.8781898056187787,
          -1.2695964066351786,
          -0.7388100105945554,
          -0.12831274961768427,
          -1.6893279797156782,
          -0.49448320610754015,
          0.3187977161816559,
          -0.6874489064136562,
          -0.5881057803215165,
          -1.6175080062644085,
          -0.13627568523939648,
          0.22454415947119186,
          0.8061210849250724,
          0.5771316513712762,
          0.1407443447222844,
          -1.21803004602897,
          1.5003507313842335,
          -0.5262134322632784,
          -0.7776486145049962,
          1.6498639151877899,
          -0.7003918202246326,
          -0.4751232877017714,
          1.0715211265223172,
          -0.5157879249215598,
          -1.5251799429116442,
          1.6960593842474612,
          -1.0974245911801566,
          0.8157835346436526,
          -0.42949996169374904,
          0.6705685225946463,
          0.6698422801457918,
          -0.5951528711771942,
          -0.4924206210373965,
          -0.03397542210465927,
          0.5070841906803677,
          0.08069046452911735,
          1.073276414332532,
          0.6560155256664106,
          -1.8358140238405625,
          -1.4564528505248389,
          -0.5211912942399656,
          1.1619745147625549,
          1.1520565316385558,
          -0.15629430700252106,
          -1.1310990092759103,
          -0.7064144271527389,
          0.5297706528090994,
          -0.23680306625286474,
          0.5322863071415616,
          -1.0345383389929206,
          0.054635002811138526,
          0.5207287140263027,
          0.2663792440154259,
          0.48963295811603796,
          1.0261660060415485,
          1.414486694783853,
          1.3797201341016805,
          0.4154231562235997
         ],
         "yaxis": "y15"
        },
        {
         "histfunc": "count",
         "histnorm": "",
         "marker": {
          "color": "rgba(128, 0, 128, 1.0)",
          "line": {
           "color": "#4D5663",
           "width": 1.3
          }
         },
         "name": "D",
         "nbinsx": 10,
         "opacity": 0.8,
         "orientation": "v",
         "type": "histogram",
         "x": [
          -0.4491421908640809,
          1.2029482993147849,
          0.25378214610395416,
          -1.5063801748777694,
          1.3893539198044096,
          -0.9432078965941402,
          -0.6446134035867747,
          0.8829828739161394,
          0.32252916422399003,
          0.3043863498359023,
          -0.29872535210843226,
          1.2219065843467145,
          -0.4384353103826866,
          0.1657212574596592,
          -0.10509909234048634,
          -2.243069716006099,
          1.4018508384967856,
          0.3359896311992802,
          0.18241104077563605,
          -0.38289345158000965,
          0.6989107400684714,
          0.09613322515106505,
          0.36708603588622446,
          1.0654167299756634,
          1.4046787193426418,
          0.12944956647884878,
          -0.5752600419634767,
          0.6611244163550766,
          -0.09600859876502027,
          -0.9127876016098776,
          0.7213829965251812,
          0.9790738769347126,
          0.5753829352579928,
          0.38501319741583534,
          -0.42639630856853616,
          0.1684574936406595,
          0.2233771854734719,
          0.7216612879731006,
          0.3659398767935382,
          -1.16920504499437,
          -1.6426211588162785,
          -0.023236051268636395,
          0.8781898056187787,
          -1.2695964066351786,
          -0.7388100105945554,
          -0.12831274961768427,
          -1.6893279797156782,
          -0.49448320610754015,
          0.3187977161816559,
          -0.6874489064136562,
          -0.5881057803215165,
          -1.6175080062644085,
          -0.13627568523939648,
          0.22454415947119186,
          0.8061210849250724,
          0.5771316513712762,
          0.1407443447222844,
          -1.21803004602897,
          1.5003507313842335,
          -0.5262134322632784,
          -0.7776486145049962,
          1.6498639151877899,
          -0.7003918202246326,
          -0.4751232877017714,
          1.0715211265223172,
          -0.5157879249215598,
          -1.5251799429116442,
          1.6960593842474612,
          -1.0974245911801566,
          0.8157835346436526,
          -0.42949996169374904,
          0.6705685225946463,
          0.6698422801457918,
          -0.5951528711771942,
          -0.4924206210373965,
          -0.03397542210465927,
          0.5070841906803677,
          0.08069046452911735,
          1.073276414332532,
          0.6560155256664106,
          -1.8358140238405625,
          -1.4564528505248389,
          -0.5211912942399656,
          1.1619745147625549,
          1.1520565316385558,
          -0.15629430700252106,
          -1.1310990092759103,
          -0.7064144271527389,
          0.5297706528090994,
          -0.23680306625286474,
          0.5322863071415616,
          -1.0345383389929206,
          0.054635002811138526,
          0.5207287140263027,
          0.2663792440154259,
          0.48963295811603796,
          1.0261660060415485,
          1.414486694783853,
          1.3797201341016805,
          0.4154231562235997
         ],
         "xaxis": "x16",
         "yaxis": "y16"
        }
       ],
       "layout": {
        "bargap": 0.02,
        "legend": {
         "bgcolor": "#F5F6F9",
         "font": {
          "color": "#4D5663"
         }
        },
        "paper_bgcolor": "#F5F6F9",
        "plot_bgcolor": "#F5F6F9",
        "showlegend": false,
        "template": {
         "data": {
          "bar": [
           {
            "error_x": {
             "color": "#2a3f5f"
            },
            "error_y": {
             "color": "#2a3f5f"
            },
            "marker": {
             "line": {
              "color": "#E5ECF6",
              "width": 0.5
             },
             "pattern": {
              "fillmode": "overlay",
              "size": 10,
              "solidity": 0.2
             }
            },
            "type": "bar"
           }
          ],
          "barpolar": [
           {
            "marker": {
             "line": {
              "color": "#E5ECF6",
              "width": 0.5
             },
             "pattern": {
              "fillmode": "overlay",
              "size": 10,
              "solidity": 0.2
             }
            },
            "type": "barpolar"
           }
          ],
          "carpet": [
           {
            "aaxis": {
             "endlinecolor": "#2a3f5f",
             "gridcolor": "white",
             "linecolor": "white",
             "minorgridcolor": "white",
             "startlinecolor": "#2a3f5f"
            },
            "baxis": {
             "endlinecolor": "#2a3f5f",
             "gridcolor": "white",
             "linecolor": "white",
             "minorgridcolor": "white",
             "startlinecolor": "#2a3f5f"
            },
            "type": "carpet"
           }
          ],
          "choropleth": [
           {
            "colorbar": {
             "outlinewidth": 0,
             "ticks": ""
            },
            "type": "choropleth"
           }
          ],
          "contour": [
           {
            "colorbar": {
             "outlinewidth": 0,
             "ticks": ""
            },
            "colorscale": [
             [
              0,
              "#0d0887"
             ],
             [
              0.1111111111111111,
              "#46039f"
             ],
             [
              0.2222222222222222,
              "#7201a8"
             ],
             [
              0.3333333333333333,
              "#9c179e"
             ],
             [
              0.4444444444444444,
              "#bd3786"
             ],
             [
              0.5555555555555556,
              "#d8576b"
             ],
             [
              0.6666666666666666,
              "#ed7953"
             ],
             [
              0.7777777777777778,
              "#fb9f3a"
             ],
             [
              0.8888888888888888,
              "#fdca26"
             ],
             [
              1,
              "#f0f921"
             ]
            ],
            "type": "contour"
           }
          ],
          "contourcarpet": [
           {
            "colorbar": {
             "outlinewidth": 0,
             "ticks": ""
            },
            "type": "contourcarpet"
           }
          ],
          "heatmap": [
           {
            "colorbar": {
             "outlinewidth": 0,
             "ticks": ""
            },
            "colorscale": [
             [
              0,
              "#0d0887"
             ],
             [
              0.1111111111111111,
              "#46039f"
             ],
             [
              0.2222222222222222,
              "#7201a8"
             ],
             [
              0.3333333333333333,
              "#9c179e"
             ],
             [
              0.4444444444444444,
              "#bd3786"
             ],
             [
              0.5555555555555556,
              "#d8576b"
             ],
             [
              0.6666666666666666,
              "#ed7953"
             ],
             [
              0.7777777777777778,
              "#fb9f3a"
             ],
             [
              0.8888888888888888,
              "#fdca26"
             ],
             [
              1,
              "#f0f921"
             ]
            ],
            "type": "heatmap"
           }
          ],
          "heatmapgl": [
           {
            "colorbar": {
             "outlinewidth": 0,
             "ticks": ""
            },
            "colorscale": [
             [
              0,
              "#0d0887"
             ],
             [
              0.1111111111111111,
              "#46039f"
             ],
             [
              0.2222222222222222,
              "#7201a8"
             ],
             [
              0.3333333333333333,
              "#9c179e"
             ],
             [
              0.4444444444444444,
              "#bd3786"
             ],
             [
              0.5555555555555556,
              "#d8576b"
             ],
             [
              0.6666666666666666,
              "#ed7953"
             ],
             [
              0.7777777777777778,
              "#fb9f3a"
             ],
             [
              0.8888888888888888,
              "#fdca26"
             ],
             [
              1,
              "#f0f921"
             ]
            ],
            "type": "heatmapgl"
           }
          ],
          "histogram": [
           {
            "marker": {
             "pattern": {
              "fillmode": "overlay",
              "size": 10,
              "solidity": 0.2
             }
            },
            "type": "histogram"
           }
          ],
          "histogram2d": [
           {
            "colorbar": {
             "outlinewidth": 0,
             "ticks": ""
            },
            "colorscale": [
             [
              0,
              "#0d0887"
             ],
             [
              0.1111111111111111,
              "#46039f"
             ],
             [
              0.2222222222222222,
              "#7201a8"
             ],
             [
              0.3333333333333333,
              "#9c179e"
             ],
             [
              0.4444444444444444,
              "#bd3786"
             ],
             [
              0.5555555555555556,
              "#d8576b"
             ],
             [
              0.6666666666666666,
              "#ed7953"
             ],
             [
              0.7777777777777778,
              "#fb9f3a"
             ],
             [
              0.8888888888888888,
              "#fdca26"
             ],
             [
              1,
              "#f0f921"
             ]
            ],
            "type": "histogram2d"
           }
          ],
          "histogram2dcontour": [
           {
            "colorbar": {
             "outlinewidth": 0,
             "ticks": ""
            },
            "colorscale": [
             [
              0,
              "#0d0887"
             ],
             [
              0.1111111111111111,
              "#46039f"
             ],
             [
              0.2222222222222222,
              "#7201a8"
             ],
             [
              0.3333333333333333,
              "#9c179e"
             ],
             [
              0.4444444444444444,
              "#bd3786"
             ],
             [
              0.5555555555555556,
              "#d8576b"
             ],
             [
              0.6666666666666666,
              "#ed7953"
             ],
             [
              0.7777777777777778,
              "#fb9f3a"
             ],
             [
              0.8888888888888888,
              "#fdca26"
             ],
             [
              1,
              "#f0f921"
             ]
            ],
            "type": "histogram2dcontour"
           }
          ],
          "mesh3d": [
           {
            "colorbar": {
             "outlinewidth": 0,
             "ticks": ""
            },
            "type": "mesh3d"
           }
          ],
          "parcoords": [
           {
            "line": {
             "colorbar": {
              "outlinewidth": 0,
              "ticks": ""
             }
            },
            "type": "parcoords"
           }
          ],
          "pie": [
           {
            "automargin": true,
            "type": "pie"
           }
          ],
          "scatter": [
           {
            "fillpattern": {
             "fillmode": "overlay",
             "size": 10,
             "solidity": 0.2
            },
            "type": "scatter"
           }
          ],
          "scatter3d": [
           {
            "line": {
             "colorbar": {
              "outlinewidth": 0,
              "ticks": ""
             }
            },
            "marker": {
             "colorbar": {
              "outlinewidth": 0,
              "ticks": ""
             }
            },
            "type": "scatter3d"
           }
          ],
          "scattercarpet": [
           {
            "marker": {
             "colorbar": {
              "outlinewidth": 0,
              "ticks": ""
             }
            },
            "type": "scattercarpet"
           }
          ],
          "scattergeo": [
           {
            "marker": {
             "colorbar": {
              "outlinewidth": 0,
              "ticks": ""
             }
            },
            "type": "scattergeo"
           }
          ],
          "scattergl": [
           {
            "marker": {
             "colorbar": {
              "outlinewidth": 0,
              "ticks": ""
             }
            },
            "type": "scattergl"
           }
          ],
          "scattermapbox": [
           {
            "marker": {
             "colorbar": {
              "outlinewidth": 0,
              "ticks": ""
             }
            },
            "type": "scattermapbox"
           }
          ],
          "scatterpolar": [
           {
            "marker": {
             "colorbar": {
              "outlinewidth": 0,
              "ticks": ""
             }
            },
            "type": "scatterpolar"
           }
          ],
          "scatterpolargl": [
           {
            "marker": {
             "colorbar": {
              "outlinewidth": 0,
              "ticks": ""
             }
            },
            "type": "scatterpolargl"
           }
          ],
          "scatterternary": [
           {
            "marker": {
             "colorbar": {
              "outlinewidth": 0,
              "ticks": ""
             }
            },
            "type": "scatterternary"
           }
          ],
          "surface": [
           {
            "colorbar": {
             "outlinewidth": 0,
             "ticks": ""
            },
            "colorscale": [
             [
              0,
              "#0d0887"
             ],
             [
              0.1111111111111111,
              "#46039f"
             ],
             [
              0.2222222222222222,
              "#7201a8"
             ],
             [
              0.3333333333333333,
              "#9c179e"
             ],
             [
              0.4444444444444444,
              "#bd3786"
             ],
             [
              0.5555555555555556,
              "#d8576b"
             ],
             [
              0.6666666666666666,
              "#ed7953"
             ],
             [
              0.7777777777777778,
              "#fb9f3a"
             ],
             [
              0.8888888888888888,
              "#fdca26"
             ],
             [
              1,
              "#f0f921"
             ]
            ],
            "type": "surface"
           }
          ],
          "table": [
           {
            "cells": {
             "fill": {
              "color": "#EBF0F8"
             },
             "line": {
              "color": "white"
             }
            },
            "header": {
             "fill": {
              "color": "#C8D4E3"
             },
             "line": {
              "color": "white"
             }
            },
            "type": "table"
           }
          ]
         },
         "layout": {
          "annotationdefaults": {
           "arrowcolor": "#2a3f5f",
           "arrowhead": 0,
           "arrowwidth": 1
          },
          "autotypenumbers": "strict",
          "coloraxis": {
           "colorbar": {
            "outlinewidth": 0,
            "ticks": ""
           }
          },
          "colorscale": {
           "diverging": [
            [
             0,
             "#8e0152"
            ],
            [
             0.1,
             "#c51b7d"
            ],
            [
             0.2,
             "#de77ae"
            ],
            [
             0.3,
             "#f1b6da"
            ],
            [
             0.4,
             "#fde0ef"
            ],
            [
             0.5,
             "#f7f7f7"
            ],
            [
             0.6,
             "#e6f5d0"
            ],
            [
             0.7,
             "#b8e186"
            ],
            [
             0.8,
             "#7fbc41"
            ],
            [
             0.9,
             "#4d9221"
            ],
            [
             1,
             "#276419"
            ]
           ],
           "sequential": [
            [
             0,
             "#0d0887"
            ],
            [
             0.1111111111111111,
             "#46039f"
            ],
            [
             0.2222222222222222,
             "#7201a8"
            ],
            [
             0.3333333333333333,
             "#9c179e"
            ],
            [
             0.4444444444444444,
             "#bd3786"
            ],
            [
             0.5555555555555556,
             "#d8576b"
            ],
            [
             0.6666666666666666,
             "#ed7953"
            ],
            [
             0.7777777777777778,
             "#fb9f3a"
            ],
            [
             0.8888888888888888,
             "#fdca26"
            ],
            [
             1,
             "#f0f921"
            ]
           ],
           "sequentialminus": [
            [
             0,
             "#0d0887"
            ],
            [
             0.1111111111111111,
             "#46039f"
            ],
            [
             0.2222222222222222,
             "#7201a8"
            ],
            [
             0.3333333333333333,
             "#9c179e"
            ],
            [
             0.4444444444444444,
             "#bd3786"
            ],
            [
             0.5555555555555556,
             "#d8576b"
            ],
            [
             0.6666666666666666,
             "#ed7953"
            ],
            [
             0.7777777777777778,
             "#fb9f3a"
            ],
            [
             0.8888888888888888,
             "#fdca26"
            ],
            [
             1,
             "#f0f921"
            ]
           ]
          },
          "colorway": [
           "#636efa",
           "#EF553B",
           "#00cc96",
           "#ab63fa",
           "#FFA15A",
           "#19d3f3",
           "#FF6692",
           "#B6E880",
           "#FF97FF",
           "#FECB52"
          ],
          "font": {
           "color": "#2a3f5f"
          },
          "geo": {
           "bgcolor": "white",
           "lakecolor": "white",
           "landcolor": "#E5ECF6",
           "showlakes": true,
           "showland": true,
           "subunitcolor": "white"
          },
          "hoverlabel": {
           "align": "left"
          },
          "hovermode": "closest",
          "mapbox": {
           "style": "light"
          },
          "paper_bgcolor": "white",
          "plot_bgcolor": "#E5ECF6",
          "polar": {
           "angularaxis": {
            "gridcolor": "white",
            "linecolor": "white",
            "ticks": ""
           },
           "bgcolor": "#E5ECF6",
           "radialaxis": {
            "gridcolor": "white",
            "linecolor": "white",
            "ticks": ""
           }
          },
          "scene": {
           "xaxis": {
            "backgroundcolor": "#E5ECF6",
            "gridcolor": "white",
            "gridwidth": 2,
            "linecolor": "white",
            "showbackground": true,
            "ticks": "",
            "zerolinecolor": "white"
           },
           "yaxis": {
            "backgroundcolor": "#E5ECF6",
            "gridcolor": "white",
            "gridwidth": 2,
            "linecolor": "white",
            "showbackground": true,
            "ticks": "",
            "zerolinecolor": "white"
           },
           "zaxis": {
            "backgroundcolor": "#E5ECF6",
            "gridcolor": "white",
            "gridwidth": 2,
            "linecolor": "white",
            "showbackground": true,
            "ticks": "",
            "zerolinecolor": "white"
           }
          },
          "shapedefaults": {
           "line": {
            "color": "#2a3f5f"
           }
          },
          "ternary": {
           "aaxis": {
            "gridcolor": "white",
            "linecolor": "white",
            "ticks": ""
           },
           "baxis": {
            "gridcolor": "white",
            "linecolor": "white",
            "ticks": ""
           },
           "bgcolor": "#E5ECF6",
           "caxis": {
            "gridcolor": "white",
            "linecolor": "white",
            "ticks": ""
           }
          },
          "title": {
           "x": 0.05
          },
          "xaxis": {
           "automargin": true,
           "gridcolor": "white",
           "linecolor": "white",
           "ticks": "",
           "title": {
            "standoff": 15
           },
           "zerolinecolor": "white",
           "zerolinewidth": 2
          },
          "yaxis": {
           "automargin": true,
           "gridcolor": "white",
           "linecolor": "white",
           "ticks": "",
           "title": {
            "standoff": 15
           },
           "zerolinecolor": "white",
           "zerolinewidth": 2
          }
         }
        },
        "title": {
         "font": {
          "color": "#4D5663"
         }
        },
        "xaxis": {
         "anchor": "y",
         "domain": [
          0,
          0.2125
         ],
         "gridcolor": "#E1E5ED",
         "showgrid": false,
         "tickfont": {
          "color": "#4D5663"
         },
         "title": {
          "font": {
           "color": "#4D5663"
          },
          "text": ""
         },
         "zerolinecolor": "#E1E5ED"
        },
        "xaxis10": {
         "anchor": "y10",
         "domain": [
          0.2625,
          0.475
         ],
         "gridcolor": "#E1E5ED",
         "showgrid": false,
         "tickfont": {
          "color": "#4D5663"
         },
         "title": {
          "font": {
           "color": "#4D5663"
          },
          "text": ""
         },
         "zerolinecolor": "#E1E5ED"
        },
        "xaxis11": {
         "anchor": "y11",
         "domain": [
          0.525,
          0.7375
         ],
         "gridcolor": "#E1E5ED",
         "showgrid": false,
         "tickfont": {
          "color": "#4D5663"
         },
         "title": {
          "font": {
           "color": "#4D5663"
          },
          "text": ""
         },
         "zerolinecolor": "#E1E5ED"
        },
        "xaxis12": {
         "anchor": "y12",
         "domain": [
          0.7875,
          1
         ],
         "gridcolor": "#E1E5ED",
         "showgrid": false,
         "tickfont": {
          "color": "#4D5663"
         },
         "title": {
          "font": {
           "color": "#4D5663"
          },
          "text": ""
         },
         "zerolinecolor": "#E1E5ED"
        },
        "xaxis13": {
         "anchor": "y13",
         "domain": [
          0,
          0.2125
         ],
         "gridcolor": "#E1E5ED",
         "showgrid": false,
         "tickfont": {
          "color": "#4D5663"
         },
         "title": {
          "font": {
           "color": "#4D5663"
          },
          "text": ""
         },
         "zerolinecolor": "#E1E5ED"
        },
        "xaxis14": {
         "anchor": "y14",
         "domain": [
          0.2625,
          0.475
         ],
         "gridcolor": "#E1E5ED",
         "showgrid": false,
         "tickfont": {
          "color": "#4D5663"
         },
         "title": {
          "font": {
           "color": "#4D5663"
          },
          "text": ""
         },
         "zerolinecolor": "#E1E5ED"
        },
        "xaxis15": {
         "anchor": "y15",
         "domain": [
          0.525,
          0.7375
         ],
         "gridcolor": "#E1E5ED",
         "showgrid": false,
         "tickfont": {
          "color": "#4D5663"
         },
         "title": {
          "font": {
           "color": "#4D5663"
          },
          "text": ""
         },
         "zerolinecolor": "#E1E5ED"
        },
        "xaxis16": {
         "anchor": "y16",
         "domain": [
          0.7875,
          1
         ],
         "gridcolor": "#E1E5ED",
         "showgrid": false,
         "tickfont": {
          "color": "#4D5663"
         },
         "title": {
          "font": {
           "color": "#4D5663"
          },
          "text": ""
         },
         "zerolinecolor": "#E1E5ED"
        },
        "xaxis2": {
         "anchor": "y2",
         "domain": [
          0.2625,
          0.475
         ],
         "gridcolor": "#E1E5ED",
         "showgrid": false,
         "tickfont": {
          "color": "#4D5663"
         },
         "title": {
          "font": {
           "color": "#4D5663"
          },
          "text": ""
         },
         "zerolinecolor": "#E1E5ED"
        },
        "xaxis3": {
         "anchor": "y3",
         "domain": [
          0.525,
          0.7375
         ],
         "gridcolor": "#E1E5ED",
         "showgrid": false,
         "tickfont": {
          "color": "#4D5663"
         },
         "title": {
          "font": {
           "color": "#4D5663"
          },
          "text": ""
         },
         "zerolinecolor": "#E1E5ED"
        },
        "xaxis4": {
         "anchor": "y4",
         "domain": [
          0.7875,
          1
         ],
         "gridcolor": "#E1E5ED",
         "showgrid": false,
         "tickfont": {
          "color": "#4D5663"
         },
         "title": {
          "font": {
           "color": "#4D5663"
          },
          "text": ""
         },
         "zerolinecolor": "#E1E5ED"
        },
        "xaxis5": {
         "anchor": "y5",
         "domain": [
          0,
          0.2125
         ],
         "gridcolor": "#E1E5ED",
         "showgrid": false,
         "tickfont": {
          "color": "#4D5663"
         },
         "title": {
          "font": {
           "color": "#4D5663"
          },
          "text": ""
         },
         "zerolinecolor": "#E1E5ED"
        },
        "xaxis6": {
         "anchor": "y6",
         "domain": [
          0.2625,
          0.475
         ],
         "gridcolor": "#E1E5ED",
         "showgrid": false,
         "tickfont": {
          "color": "#4D5663"
         },
         "title": {
          "font": {
           "color": "#4D5663"
          },
          "text": ""
         },
         "zerolinecolor": "#E1E5ED"
        },
        "xaxis7": {
         "anchor": "y7",
         "domain": [
          0.525,
          0.7375
         ],
         "gridcolor": "#E1E5ED",
         "showgrid": false,
         "tickfont": {
          "color": "#4D5663"
         },
         "title": {
          "font": {
           "color": "#4D5663"
          },
          "text": ""
         },
         "zerolinecolor": "#E1E5ED"
        },
        "xaxis8": {
         "anchor": "y8",
         "domain": [
          0.7875,
          1
         ],
         "gridcolor": "#E1E5ED",
         "showgrid": false,
         "tickfont": {
          "color": "#4D5663"
         },
         "title": {
          "font": {
           "color": "#4D5663"
          },
          "text": ""
         },
         "zerolinecolor": "#E1E5ED"
        },
        "xaxis9": {
         "anchor": "y9",
         "domain": [
          0,
          0.2125
         ],
         "gridcolor": "#E1E5ED",
         "showgrid": false,
         "tickfont": {
          "color": "#4D5663"
         },
         "title": {
          "font": {
           "color": "#4D5663"
          },
          "text": ""
         },
         "zerolinecolor": "#E1E5ED"
        },
        "yaxis": {
         "anchor": "x",
         "domain": [
          0.8025,
          1
         ],
         "gridcolor": "#E1E5ED",
         "showgrid": false,
         "tickfont": {
          "color": "#4D5663"
         },
         "title": {
          "font": {
           "color": "#4D5663"
          },
          "text": ""
         },
         "zerolinecolor": "#E1E5ED"
        },
        "yaxis10": {
         "anchor": "x10",
         "domain": [
          0.2675,
          0.465
         ],
         "gridcolor": "#E1E5ED",
         "showgrid": false,
         "tickfont": {
          "color": "#4D5663"
         },
         "title": {
          "font": {
           "color": "#4D5663"
          },
          "text": ""
         },
         "zerolinecolor": "#E1E5ED"
        },
        "yaxis11": {
         "anchor": "x11",
         "domain": [
          0.2675,
          0.465
         ],
         "gridcolor": "#E1E5ED",
         "showgrid": false,
         "tickfont": {
          "color": "#4D5663"
         },
         "title": {
          "font": {
           "color": "#4D5663"
          },
          "text": ""
         },
         "zerolinecolor": "#E1E5ED"
        },
        "yaxis12": {
         "anchor": "x12",
         "domain": [
          0.2675,
          0.465
         ],
         "gridcolor": "#E1E5ED",
         "showgrid": false,
         "tickfont": {
          "color": "#4D5663"
         },
         "title": {
          "font": {
           "color": "#4D5663"
          },
          "text": ""
         },
         "zerolinecolor": "#E1E5ED"
        },
        "yaxis13": {
         "anchor": "x13",
         "domain": [
          0,
          0.1975
         ],
         "gridcolor": "#E1E5ED",
         "showgrid": false,
         "tickfont": {
          "color": "#4D5663"
         },
         "title": {
          "font": {
           "color": "#4D5663"
          },
          "text": ""
         },
         "zerolinecolor": "#E1E5ED"
        },
        "yaxis14": {
         "anchor": "x14",
         "domain": [
          0,
          0.1975
         ],
         "gridcolor": "#E1E5ED",
         "showgrid": false,
         "tickfont": {
          "color": "#4D5663"
         },
         "title": {
          "font": {
           "color": "#4D5663"
          },
          "text": ""
         },
         "zerolinecolor": "#E1E5ED"
        },
        "yaxis15": {
         "anchor": "x15",
         "domain": [
          0,
          0.1975
         ],
         "gridcolor": "#E1E5ED",
         "showgrid": false,
         "tickfont": {
          "color": "#4D5663"
         },
         "title": {
          "font": {
           "color": "#4D5663"
          },
          "text": ""
         },
         "zerolinecolor": "#E1E5ED"
        },
        "yaxis16": {
         "anchor": "x16",
         "domain": [
          0,
          0.1975
         ],
         "gridcolor": "#E1E5ED",
         "showgrid": false,
         "tickfont": {
          "color": "#4D5663"
         },
         "title": {
          "font": {
           "color": "#4D5663"
          },
          "text": ""
         },
         "zerolinecolor": "#E1E5ED"
        },
        "yaxis2": {
         "anchor": "x2",
         "domain": [
          0.8025,
          1
         ],
         "gridcolor": "#E1E5ED",
         "showgrid": false,
         "tickfont": {
          "color": "#4D5663"
         },
         "title": {
          "font": {
           "color": "#4D5663"
          },
          "text": ""
         },
         "zerolinecolor": "#E1E5ED"
        },
        "yaxis3": {
         "anchor": "x3",
         "domain": [
          0.8025,
          1
         ],
         "gridcolor": "#E1E5ED",
         "showgrid": false,
         "tickfont": {
          "color": "#4D5663"
         },
         "title": {
          "font": {
           "color": "#4D5663"
          },
          "text": ""
         },
         "zerolinecolor": "#E1E5ED"
        },
        "yaxis4": {
         "anchor": "x4",
         "domain": [
          0.8025,
          1
         ],
         "gridcolor": "#E1E5ED",
         "showgrid": false,
         "tickfont": {
          "color": "#4D5663"
         },
         "title": {
          "font": {
           "color": "#4D5663"
          },
          "text": ""
         },
         "zerolinecolor": "#E1E5ED"
        },
        "yaxis5": {
         "anchor": "x5",
         "domain": [
          0.535,
          0.7325
         ],
         "gridcolor": "#E1E5ED",
         "showgrid": false,
         "tickfont": {
          "color": "#4D5663"
         },
         "title": {
          "font": {
           "color": "#4D5663"
          },
          "text": ""
         },
         "zerolinecolor": "#E1E5ED"
        },
        "yaxis6": {
         "anchor": "x6",
         "domain": [
          0.535,
          0.7325
         ],
         "gridcolor": "#E1E5ED",
         "showgrid": false,
         "tickfont": {
          "color": "#4D5663"
         },
         "title": {
          "font": {
           "color": "#4D5663"
          },
          "text": ""
         },
         "zerolinecolor": "#E1E5ED"
        },
        "yaxis7": {
         "anchor": "x7",
         "domain": [
          0.535,
          0.7325
         ],
         "gridcolor": "#E1E5ED",
         "showgrid": false,
         "tickfont": {
          "color": "#4D5663"
         },
         "title": {
          "font": {
           "color": "#4D5663"
          },
          "text": ""
         },
         "zerolinecolor": "#E1E5ED"
        },
        "yaxis8": {
         "anchor": "x8",
         "domain": [
          0.535,
          0.7325
         ],
         "gridcolor": "#E1E5ED",
         "showgrid": false,
         "tickfont": {
          "color": "#4D5663"
         },
         "title": {
          "font": {
           "color": "#4D5663"
          },
          "text": ""
         },
         "zerolinecolor": "#E1E5ED"
        },
        "yaxis9": {
         "anchor": "x9",
         "domain": [
          0.2675,
          0.465
         ],
         "gridcolor": "#E1E5ED",
         "showgrid": false,
         "tickfont": {
          "color": "#4D5663"
         },
         "title": {
          "font": {
           "color": "#4D5663"
          },
          "text": ""
         },
         "zerolinecolor": "#E1E5ED"
        }
       }
      },
      "text/html": [
       "<div>                            <div id=\"f711c411-260c-4ba1-8efd-e9568c71ac0f\" class=\"plotly-graph-div\" style=\"height:525px; width:100%;\"></div>            <script type=\"text/javascript\">                require([\"plotly\"], function(Plotly) {                    window.PLOTLYENV=window.PLOTLYENV || {};\n",
       "                    window.PLOTLYENV.BASE_URL='https://plot.ly';                                    if (document.getElementById(\"f711c411-260c-4ba1-8efd-e9568c71ac0f\")) {                    Plotly.newPlot(                        \"f711c411-260c-4ba1-8efd-e9568c71ac0f\",                        [{\"histfunc\":\"count\",\"histnorm\":\"\",\"marker\":{\"color\":\"rgba(255, 153, 51, 1.0)\",\"line\":{\"color\":\"#4D5663\",\"width\":1.3}},\"name\":\"A\",\"nbinsx\":10,\"opacity\":0.8,\"orientation\":\"v\",\"x\":[1.2376648357470055,-0.5588649056406358,0.40946706449563175,0.4298301337164253,0.07238270128864749,-0.20598883801382525,1.2385584747531542,-1.0633617765803824,0.3434542115634483,1.3645551658564248,-0.7290820511381018,-1.035624379248983,0.32740419197523757,-0.3351406777735119,-0.6995413769041855,-0.32313520691160347,-0.6968944913793241,-1.2658169541706465,1.8681787506166567,1.654531174173863,0.4323609959994185,0.13342603725333999,-0.25726923923873757,0.7180052009841095,1.403861120520268,1.4472639088688162,-0.6399257301458914,-1.1614404005478682,2.821851024615292,-0.45675635524671515,-1.5795633950159544,-0.36823092116578626,-1.0381007781369387,1.80093516549471,0.605519660199255,0.5520713257359585,1.0739598975916955,-0.08606957115270493,-0.5388402188322184,1.4131676971194618,-0.5605172697322097,-0.6056944769115583,-0.9428065238847683,1.3962914689468222,-0.9272551780488926,-0.16998328050440442,1.957273987112428,-0.08974156694888845,-0.6345160635027977,-0.4863315382609629,-0.6461642065112355,-0.4394231941140874,0.37048755383772125,0.5298402144160002,1.0054517069637832,1.1136464518705884,-2.158906419697583,2.1091061818145262,-1.0703594134064252,-0.5814437688577203,0.03924795414460957,1.006378179337866,-0.3903396632439928,-1.3561617236485808,-1.0708998832851322,1.5806859251958079,0.17179271377825836,-0.9047325249055707,1.1275038903666008,1.989443049293253,-1.090722702073496,-0.2993575416216889,-0.6394549917325748,-1.2244878399342731,1.6452364982836245,0.6177372762506392,-1.3176302335739636,0.03300243685919273,-1.0649093458079049,0.975689453023733,0.05122198401087867,-0.2976791863225247,-0.790150167428062,-0.6625271152615411,0.7860844830326141,-0.016153571380949677,-0.8598140138716176,-0.3185632602435938,-0.8067190607871518,-0.6147307859444832,0.6156300197507949,-0.9048669572075687,-0.2106043328452722,-1.0358044675788922,0.8941804936081772,0.6979637785733713,-0.8090777129605745,0.48770364177028785,-1.317158662969975,1.273288323901588],\"xaxis\":\"x\",\"yaxis\":\"y\",\"type\":\"histogram\"},{\"line\":{\"color\":\"rgba(128, 128, 128, 1.0)\",\"dash\":\"solid\",\"shape\":\"linear\",\"width\":1.3},\"marker\":{\"size\":2,\"symbol\":\"circle\"},\"mode\":\"markers\",\"name\":\"A\",\"text\":\"\",\"x\":[-0.5548235720002016,-0.46033933106280667,1.5866377741729345,-0.3272212503881288,0.03402138478618209,-0.7624627502472152,2.348882566100373,-0.4593864721542771,0.31916528326146887,-0.6902004464640703,-0.9071182373778008,0.8693879352151368,0.0908984501140434,1.439719510453182,-1.8632253399626302,-0.479055317221008,0.5925242567873134,0.9182777533280958,-0.7754625687794833,-2.6583226781800797,0.5484315599141389,-0.7042914583634231,-0.1764697624966167,0.2502484719538905,-0.04785972571489474,1.2294110679482604,-0.11427358475630707,-0.3697207652302923,1.6043967881949919,-1.339472912051616,-1.29217789705882,-0.36153222275651,1.022692009649764,0.16598675428648627,0.5551363037720237,0.6740029189118928,0.4826622004974322,-0.11755937452739242,-0.32126785538898134,0.7929988121107323,0.3951830074407376,-2.088496378240888,-0.8759883673140567,0.06364644137637034,0.39384361906406923,0.36875154769134777,-0.30784011826382807,0.7917959824498457,1.5677280244828602,-0.05900920362274808,1.0375464873238087,1.6379622252173518,-1.4057904636265286,0.5394882447018408,1.013559324777699,0.0317138450739195,-0.7447209913640487,0.20612512058230376,-1.7003724779460927,1.352623651396288,1.982935602840355,0.5068908613077829,-0.5164100240190705,0.630123868949732,0.7732102744966399,-1.2393677901893128,-0.3370213940892322,0.3483949651157315,-0.24066619524369812,0.6770539844969181,1.2288154644853018,-1.6743318035872083,-0.021365537352325627,-0.6672899618296045,0.10000066548559038,-1.7247613547037848,-0.05389893734429868,0.9180552257999586,0.48811130008099096,0.33920897319785864,-0.5707494319732833,-0.018216433868223143,-1.2482714701915105,-0.9430832695332753,0.7916447472466199,-0.06956062234436486,1.332297904497416,-0.4046384777011825,-0.7120292252325473,0.058700079993735624,-0.7810474905274281,-0.613129044372448,0.07107100611789133,-1.2234832464477743,-0.04915232875895141,-0.5740497723863638,-0.07084727333194477,-1.1230549919447825,1.2690967918899319,0.8833972953210805],\"xaxis\":\"x2\",\"y\":[1.2376648357470055,-0.5588649056406358,0.40946706449563175,0.4298301337164253,0.07238270128864749,-0.20598883801382525,1.2385584747531542,-1.0633617765803824,0.3434542115634483,1.3645551658564248,-0.7290820511381018,-1.035624379248983,0.32740419197523757,-0.3351406777735119,-0.6995413769041855,-0.32313520691160347,-0.6968944913793241,-1.2658169541706465,1.8681787506166567,1.654531174173863,0.4323609959994185,0.13342603725333999,-0.25726923923873757,0.7180052009841095,1.403861120520268,1.4472639088688162,-0.6399257301458914,-1.1614404005478682,2.821851024615292,-0.45675635524671515,-1.5795633950159544,-0.36823092116578626,-1.0381007781369387,1.80093516549471,0.605519660199255,0.5520713257359585,1.0739598975916955,-0.08606957115270493,-0.5388402188322184,1.4131676971194618,-0.5605172697322097,-0.6056944769115583,-0.9428065238847683,1.3962914689468222,-0.9272551780488926,-0.16998328050440442,1.957273987112428,-0.08974156694888845,-0.6345160635027977,-0.4863315382609629,-0.6461642065112355,-0.4394231941140874,0.37048755383772125,0.5298402144160002,1.0054517069637832,1.1136464518705884,-2.158906419697583,2.1091061818145262,-1.0703594134064252,-0.5814437688577203,0.03924795414460957,1.006378179337866,-0.3903396632439928,-1.3561617236485808,-1.0708998832851322,1.5806859251958079,0.17179271377825836,-0.9047325249055707,1.1275038903666008,1.989443049293253,-1.090722702073496,-0.2993575416216889,-0.6394549917325748,-1.2244878399342731,1.6452364982836245,0.6177372762506392,-1.3176302335739636,0.03300243685919273,-1.0649093458079049,0.975689453023733,0.05122198401087867,-0.2976791863225247,-0.790150167428062,-0.6625271152615411,0.7860844830326141,-0.016153571380949677,-0.8598140138716176,-0.3185632602435938,-0.8067190607871518,-0.6147307859444832,0.6156300197507949,-0.9048669572075687,-0.2106043328452722,-1.0358044675788922,0.8941804936081772,0.6979637785733713,-0.8090777129605745,0.48770364177028785,-1.317158662969975,1.273288323901588],\"yaxis\":\"y2\",\"type\":\"scatter\"},{\"line\":{\"color\":\"rgba(128, 128, 128, 1.0)\",\"dash\":\"solid\",\"shape\":\"linear\",\"width\":1.3},\"marker\":{\"size\":2,\"symbol\":\"circle\"},\"mode\":\"markers\",\"name\":\"A\",\"text\":\"\",\"x\":[-0.26906904181459984,0.2081365237057489,0.7434127044545952,-0.5803046955447627,1.0126419450126272,1.1938906824422673,1.2159765066535102,-0.3310849231718713,0.5077203376407015,0.34209242810181456,-0.11878946540649828,-0.4749705207550622,1.207185380191627,0.12943069644011224,1.3355989559232668,-0.7731247278756137,0.3807405717358539,0.266643240510313,-2.3777426803100257,0.0027779141300425035,0.1309034139658154,0.17238796318819677,0.27372680579883435,-1.1927389215889832,0.3873475119923371,1.718910613734451,-1.253580021353978,0.6034098698527122,-0.203623097256541,-0.5170646697402146,-0.16230635256296833,-0.6734102209160207,0.5196148131668465,0.29505417711255283,-2.3134073395997343,1.8201532702913714,0.9101868757665937,0.06780133898843106,-1.0766921698404543,2.3340108037093183,-0.5250312340582639,-1.2437738802864404,-1.6538668013395428,-0.45117417337726884,0.15832560576274293,-1.1549036467497915,-0.4138082042237622,2.3928142584894543,-0.9229286361133364,0.8269859271253687,-1.2267680346468983,-0.03157069409661295,0.8442269401278604,-0.8575855005126751,0.33113393835030586,-1.183084933062807,1.0417316110762198,0.7175987720056594,0.8814649528881313,0.28688702830024254,-1.2115696509980969,1.2056811520386082,0.3119990970994984,1.468750620432369,-0.03806325884520373,-1.1185715906259237,-0.08679478685379335,0.7972403161269461,0.631344147502726,-1.0025337810071915,0.13768162891975838,0.0050747807457603294,1.5723024365366773,-1.3892323025995186,-0.36639754856807305,2.2407998702377756,0.3819042754995391,0.050112072061411835,-0.43747120962076497,-0.5747401738028871,-1.1244149923334,0.7642250360111837,-2.5666888114649877,-1.915087613015398,1.630728006304569,0.6092488423656572,0.8161476087219586,-0.2471281885659989,0.29780268305984525,1.8544690780700486,0.6851016157507686,1.391156815114278,1.6541213644367931,0.6844302629511626,1.9796956636054142,0.2841274948328375,-1.1817696734719931,0.9864863478398745,-0.42745822098441166,1.5231821229104305],\"xaxis\":\"x3\",\"y\":[1.2376648357470055,-0.5588649056406358,0.40946706449563175,0.4298301337164253,0.07238270128864749,-0.20598883801382525,1.2385584747531542,-1.0633617765803824,0.3434542115634483,1.3645551658564248,-0.7290820511381018,-1.035624379248983,0.32740419197523757,-0.3351406777735119,-0.6995413769041855,-0.32313520691160347,-0.6968944913793241,-1.2658169541706465,1.8681787506166567,1.654531174173863,0.4323609959994185,0.13342603725333999,-0.25726923923873757,0.7180052009841095,1.403861120520268,1.4472639088688162,-0.6399257301458914,-1.1614404005478682,2.821851024615292,-0.45675635524671515,-1.5795633950159544,-0.36823092116578626,-1.0381007781369387,1.80093516549471,0.605519660199255,0.5520713257359585,1.0739598975916955,-0.08606957115270493,-0.5388402188322184,1.4131676971194618,-0.5605172697322097,-0.6056944769115583,-0.9428065238847683,1.3962914689468222,-0.9272551780488926,-0.16998328050440442,1.957273987112428,-0.08974156694888845,-0.6345160635027977,-0.4863315382609629,-0.6461642065112355,-0.4394231941140874,0.37048755383772125,0.5298402144160002,1.0054517069637832,1.1136464518705884,-2.158906419697583,2.1091061818145262,-1.0703594134064252,-0.5814437688577203,0.03924795414460957,1.006378179337866,-0.3903396632439928,-1.3561617236485808,-1.0708998832851322,1.5806859251958079,0.17179271377825836,-0.9047325249055707,1.1275038903666008,1.989443049293253,-1.090722702073496,-0.2993575416216889,-0.6394549917325748,-1.2244878399342731,1.6452364982836245,0.6177372762506392,-1.3176302335739636,0.03300243685919273,-1.0649093458079049,0.975689453023733,0.05122198401087867,-0.2976791863225247,-0.790150167428062,-0.6625271152615411,0.7860844830326141,-0.016153571380949677,-0.8598140138716176,-0.3185632602435938,-0.8067190607871518,-0.6147307859444832,0.6156300197507949,-0.9048669572075687,-0.2106043328452722,-1.0358044675788922,0.8941804936081772,0.6979637785733713,-0.8090777129605745,0.48770364177028785,-1.317158662969975,1.273288323901588],\"yaxis\":\"y3\",\"type\":\"scatter\"},{\"line\":{\"color\":\"rgba(128, 128, 128, 1.0)\",\"dash\":\"solid\",\"shape\":\"linear\",\"width\":1.3},\"marker\":{\"size\":2,\"symbol\":\"circle\"},\"mode\":\"markers\",\"name\":\"A\",\"text\":\"\",\"x\":[-0.4491421908640809,1.2029482993147849,0.25378214610395416,-1.5063801748777694,1.3893539198044096,-0.9432078965941402,-0.6446134035867747,0.8829828739161394,0.32252916422399003,0.3043863498359023,-0.29872535210843226,1.2219065843467145,-0.4384353103826866,0.1657212574596592,-0.10509909234048634,-2.243069716006099,1.4018508384967856,0.3359896311992802,0.18241104077563605,-0.38289345158000965,0.6989107400684714,0.09613322515106505,0.36708603588622446,1.0654167299756634,1.4046787193426418,0.12944956647884878,-0.5752600419634767,0.6611244163550766,-0.09600859876502027,-0.9127876016098776,0.7213829965251812,0.9790738769347126,0.5753829352579928,0.38501319741583534,-0.42639630856853616,0.1684574936406595,0.2233771854734719,0.7216612879731006,0.3659398767935382,-1.16920504499437,-1.6426211588162785,-0.023236051268636395,0.8781898056187787,-1.2695964066351786,-0.7388100105945554,-0.12831274961768427,-1.6893279797156782,-0.49448320610754015,0.3187977161816559,-0.6874489064136562,-0.5881057803215165,-1.6175080062644085,-0.13627568523939648,0.22454415947119186,0.8061210849250724,0.5771316513712762,0.1407443447222844,-1.21803004602897,1.5003507313842335,-0.5262134322632784,-0.7776486145049962,1.6498639151877899,-0.7003918202246326,-0.4751232877017714,1.0715211265223172,-0.5157879249215598,-1.5251799429116442,1.6960593842474612,-1.0974245911801566,0.8157835346436526,-0.42949996169374904,0.6705685225946463,0.6698422801457918,-0.5951528711771942,-0.4924206210373965,-0.03397542210465927,0.5070841906803677,0.08069046452911735,1.073276414332532,0.6560155256664106,-1.8358140238405625,-1.4564528505248389,-0.5211912942399656,1.1619745147625549,1.1520565316385558,-0.15629430700252106,-1.1310990092759103,-0.7064144271527389,0.5297706528090994,-0.23680306625286474,0.5322863071415616,-1.0345383389929206,0.054635002811138526,0.5207287140263027,0.2663792440154259,0.48963295811603796,1.0261660060415485,1.414486694783853,1.3797201341016805,0.4154231562235997],\"xaxis\":\"x4\",\"y\":[1.2376648357470055,-0.5588649056406358,0.40946706449563175,0.4298301337164253,0.07238270128864749,-0.20598883801382525,1.2385584747531542,-1.0633617765803824,0.3434542115634483,1.3645551658564248,-0.7290820511381018,-1.035624379248983,0.32740419197523757,-0.3351406777735119,-0.6995413769041855,-0.32313520691160347,-0.6968944913793241,-1.2658169541706465,1.8681787506166567,1.654531174173863,0.4323609959994185,0.13342603725333999,-0.25726923923873757,0.7180052009841095,1.403861120520268,1.4472639088688162,-0.6399257301458914,-1.1614404005478682,2.821851024615292,-0.45675635524671515,-1.5795633950159544,-0.36823092116578626,-1.0381007781369387,1.80093516549471,0.605519660199255,0.5520713257359585,1.0739598975916955,-0.08606957115270493,-0.5388402188322184,1.4131676971194618,-0.5605172697322097,-0.6056944769115583,-0.9428065238847683,1.3962914689468222,-0.9272551780488926,-0.16998328050440442,1.957273987112428,-0.08974156694888845,-0.6345160635027977,-0.4863315382609629,-0.6461642065112355,-0.4394231941140874,0.37048755383772125,0.5298402144160002,1.0054517069637832,1.1136464518705884,-2.158906419697583,2.1091061818145262,-1.0703594134064252,-0.5814437688577203,0.03924795414460957,1.006378179337866,-0.3903396632439928,-1.3561617236485808,-1.0708998832851322,1.5806859251958079,0.17179271377825836,-0.9047325249055707,1.1275038903666008,1.989443049293253,-1.090722702073496,-0.2993575416216889,-0.6394549917325748,-1.2244878399342731,1.6452364982836245,0.6177372762506392,-1.3176302335739636,0.03300243685919273,-1.0649093458079049,0.975689453023733,0.05122198401087867,-0.2976791863225247,-0.790150167428062,-0.6625271152615411,0.7860844830326141,-0.016153571380949677,-0.8598140138716176,-0.3185632602435938,-0.8067190607871518,-0.6147307859444832,0.6156300197507949,-0.9048669572075687,-0.2106043328452722,-1.0358044675788922,0.8941804936081772,0.6979637785733713,-0.8090777129605745,0.48770364177028785,-1.317158662969975,1.273288323901588],\"yaxis\":\"y4\",\"type\":\"scatter\"},{\"line\":{\"color\":\"rgba(128, 128, 128, 1.0)\",\"dash\":\"solid\",\"shape\":\"linear\",\"width\":1.3},\"marker\":{\"size\":2,\"symbol\":\"circle\"},\"mode\":\"markers\",\"name\":\"B\",\"text\":\"\",\"x\":[1.2376648357470055,-0.5588649056406358,0.40946706449563175,0.4298301337164253,0.07238270128864749,-0.20598883801382525,1.2385584747531542,-1.0633617765803824,0.3434542115634483,1.3645551658564248,-0.7290820511381018,-1.035624379248983,0.32740419197523757,-0.3351406777735119,-0.6995413769041855,-0.32313520691160347,-0.6968944913793241,-1.2658169541706465,1.8681787506166567,1.654531174173863,0.4323609959994185,0.13342603725333999,-0.25726923923873757,0.7180052009841095,1.403861120520268,1.4472639088688162,-0.6399257301458914,-1.1614404005478682,2.821851024615292,-0.45675635524671515,-1.5795633950159544,-0.36823092116578626,-1.0381007781369387,1.80093516549471,0.605519660199255,0.5520713257359585,1.0739598975916955,-0.08606957115270493,-0.5388402188322184,1.4131676971194618,-0.5605172697322097,-0.6056944769115583,-0.9428065238847683,1.3962914689468222,-0.9272551780488926,-0.16998328050440442,1.957273987112428,-0.08974156694888845,-0.6345160635027977,-0.4863315382609629,-0.6461642065112355,-0.4394231941140874,0.37048755383772125,0.5298402144160002,1.0054517069637832,1.1136464518705884,-2.158906419697583,2.1091061818145262,-1.0703594134064252,-0.5814437688577203,0.03924795414460957,1.006378179337866,-0.3903396632439928,-1.3561617236485808,-1.0708998832851322,1.5806859251958079,0.17179271377825836,-0.9047325249055707,1.1275038903666008,1.989443049293253,-1.090722702073496,-0.2993575416216889,-0.6394549917325748,-1.2244878399342731,1.6452364982836245,0.6177372762506392,-1.3176302335739636,0.03300243685919273,-1.0649093458079049,0.975689453023733,0.05122198401087867,-0.2976791863225247,-0.790150167428062,-0.6625271152615411,0.7860844830326141,-0.016153571380949677,-0.8598140138716176,-0.3185632602435938,-0.8067190607871518,-0.6147307859444832,0.6156300197507949,-0.9048669572075687,-0.2106043328452722,-1.0358044675788922,0.8941804936081772,0.6979637785733713,-0.8090777129605745,0.48770364177028785,-1.317158662969975,1.273288323901588],\"xaxis\":\"x5\",\"y\":[-0.5548235720002016,-0.46033933106280667,1.5866377741729345,-0.3272212503881288,0.03402138478618209,-0.7624627502472152,2.348882566100373,-0.4593864721542771,0.31916528326146887,-0.6902004464640703,-0.9071182373778008,0.8693879352151368,0.0908984501140434,1.439719510453182,-1.8632253399626302,-0.479055317221008,0.5925242567873134,0.9182777533280958,-0.7754625687794833,-2.6583226781800797,0.5484315599141389,-0.7042914583634231,-0.1764697624966167,0.2502484719538905,-0.04785972571489474,1.2294110679482604,-0.11427358475630707,-0.3697207652302923,1.6043967881949919,-1.339472912051616,-1.29217789705882,-0.36153222275651,1.022692009649764,0.16598675428648627,0.5551363037720237,0.6740029189118928,0.4826622004974322,-0.11755937452739242,-0.32126785538898134,0.7929988121107323,0.3951830074407376,-2.088496378240888,-0.8759883673140567,0.06364644137637034,0.39384361906406923,0.36875154769134777,-0.30784011826382807,0.7917959824498457,1.5677280244828602,-0.05900920362274808,1.0375464873238087,1.6379622252173518,-1.4057904636265286,0.5394882447018408,1.013559324777699,0.0317138450739195,-0.7447209913640487,0.20612512058230376,-1.7003724779460927,1.352623651396288,1.982935602840355,0.5068908613077829,-0.5164100240190705,0.630123868949732,0.7732102744966399,-1.2393677901893128,-0.3370213940892322,0.3483949651157315,-0.24066619524369812,0.6770539844969181,1.2288154644853018,-1.6743318035872083,-0.021365537352325627,-0.6672899618296045,0.10000066548559038,-1.7247613547037848,-0.05389893734429868,0.9180552257999586,0.48811130008099096,0.33920897319785864,-0.5707494319732833,-0.018216433868223143,-1.2482714701915105,-0.9430832695332753,0.7916447472466199,-0.06956062234436486,1.332297904497416,-0.4046384777011825,-0.7120292252325473,0.058700079993735624,-0.7810474905274281,-0.613129044372448,0.07107100611789133,-1.2234832464477743,-0.04915232875895141,-0.5740497723863638,-0.07084727333194477,-1.1230549919447825,1.2690967918899319,0.8833972953210805],\"yaxis\":\"y5\",\"type\":\"scatter\"},{\"histfunc\":\"count\",\"histnorm\":\"\",\"marker\":{\"color\":\"rgba(55, 128, 191, 1.0)\",\"line\":{\"color\":\"#4D5663\",\"width\":1.3}},\"name\":\"B\",\"nbinsx\":10,\"opacity\":0.8,\"orientation\":\"v\",\"x\":[-0.5548235720002016,-0.46033933106280667,1.5866377741729345,-0.3272212503881288,0.03402138478618209,-0.7624627502472152,2.348882566100373,-0.4593864721542771,0.31916528326146887,-0.6902004464640703,-0.9071182373778008,0.8693879352151368,0.0908984501140434,1.439719510453182,-1.8632253399626302,-0.479055317221008,0.5925242567873134,0.9182777533280958,-0.7754625687794833,-2.6583226781800797,0.5484315599141389,-0.7042914583634231,-0.1764697624966167,0.2502484719538905,-0.04785972571489474,1.2294110679482604,-0.11427358475630707,-0.3697207652302923,1.6043967881949919,-1.339472912051616,-1.29217789705882,-0.36153222275651,1.022692009649764,0.16598675428648627,0.5551363037720237,0.6740029189118928,0.4826622004974322,-0.11755937452739242,-0.32126785538898134,0.7929988121107323,0.3951830074407376,-2.088496378240888,-0.8759883673140567,0.06364644137637034,0.39384361906406923,0.36875154769134777,-0.30784011826382807,0.7917959824498457,1.5677280244828602,-0.05900920362274808,1.0375464873238087,1.6379622252173518,-1.4057904636265286,0.5394882447018408,1.013559324777699,0.0317138450739195,-0.7447209913640487,0.20612512058230376,-1.7003724779460927,1.352623651396288,1.982935602840355,0.5068908613077829,-0.5164100240190705,0.630123868949732,0.7732102744966399,-1.2393677901893128,-0.3370213940892322,0.3483949651157315,-0.24066619524369812,0.6770539844969181,1.2288154644853018,-1.6743318035872083,-0.021365537352325627,-0.6672899618296045,0.10000066548559038,-1.7247613547037848,-0.05389893734429868,0.9180552257999586,0.48811130008099096,0.33920897319785864,-0.5707494319732833,-0.018216433868223143,-1.2482714701915105,-0.9430832695332753,0.7916447472466199,-0.06956062234436486,1.332297904497416,-0.4046384777011825,-0.7120292252325473,0.058700079993735624,-0.7810474905274281,-0.613129044372448,0.07107100611789133,-1.2234832464477743,-0.04915232875895141,-0.5740497723863638,-0.07084727333194477,-1.1230549919447825,1.2690967918899319,0.8833972953210805],\"xaxis\":\"x6\",\"yaxis\":\"y6\",\"type\":\"histogram\"},{\"line\":{\"color\":\"rgba(128, 128, 128, 1.0)\",\"dash\":\"solid\",\"shape\":\"linear\",\"width\":1.3},\"marker\":{\"size\":2,\"symbol\":\"circle\"},\"mode\":\"markers\",\"name\":\"B\",\"text\":\"\",\"x\":[-0.26906904181459984,0.2081365237057489,0.7434127044545952,-0.5803046955447627,1.0126419450126272,1.1938906824422673,1.2159765066535102,-0.3310849231718713,0.5077203376407015,0.34209242810181456,-0.11878946540649828,-0.4749705207550622,1.207185380191627,0.12943069644011224,1.3355989559232668,-0.7731247278756137,0.3807405717358539,0.266643240510313,-2.3777426803100257,0.0027779141300425035,0.1309034139658154,0.17238796318819677,0.27372680579883435,-1.1927389215889832,0.3873475119923371,1.718910613734451,-1.253580021353978,0.6034098698527122,-0.203623097256541,-0.5170646697402146,-0.16230635256296833,-0.6734102209160207,0.5196148131668465,0.29505417711255283,-2.3134073395997343,1.8201532702913714,0.9101868757665937,0.06780133898843106,-1.0766921698404543,2.3340108037093183,-0.5250312340582639,-1.2437738802864404,-1.6538668013395428,-0.45117417337726884,0.15832560576274293,-1.1549036467497915,-0.4138082042237622,2.3928142584894543,-0.9229286361133364,0.8269859271253687,-1.2267680346468983,-0.03157069409661295,0.8442269401278604,-0.8575855005126751,0.33113393835030586,-1.183084933062807,1.0417316110762198,0.7175987720056594,0.8814649528881313,0.28688702830024254,-1.2115696509980969,1.2056811520386082,0.3119990970994984,1.468750620432369,-0.03806325884520373,-1.1185715906259237,-0.08679478685379335,0.7972403161269461,0.631344147502726,-1.0025337810071915,0.13768162891975838,0.0050747807457603294,1.5723024365366773,-1.3892323025995186,-0.36639754856807305,2.2407998702377756,0.3819042754995391,0.050112072061411835,-0.43747120962076497,-0.5747401738028871,-1.1244149923334,0.7642250360111837,-2.5666888114649877,-1.915087613015398,1.630728006304569,0.6092488423656572,0.8161476087219586,-0.2471281885659989,0.29780268305984525,1.8544690780700486,0.6851016157507686,1.391156815114278,1.6541213644367931,0.6844302629511626,1.9796956636054142,0.2841274948328375,-1.1817696734719931,0.9864863478398745,-0.42745822098441166,1.5231821229104305],\"xaxis\":\"x7\",\"y\":[-0.5548235720002016,-0.46033933106280667,1.5866377741729345,-0.3272212503881288,0.03402138478618209,-0.7624627502472152,2.348882566100373,-0.4593864721542771,0.31916528326146887,-0.6902004464640703,-0.9071182373778008,0.8693879352151368,0.0908984501140434,1.439719510453182,-1.8632253399626302,-0.479055317221008,0.5925242567873134,0.9182777533280958,-0.7754625687794833,-2.6583226781800797,0.5484315599141389,-0.7042914583634231,-0.1764697624966167,0.2502484719538905,-0.04785972571489474,1.2294110679482604,-0.11427358475630707,-0.3697207652302923,1.6043967881949919,-1.339472912051616,-1.29217789705882,-0.36153222275651,1.022692009649764,0.16598675428648627,0.5551363037720237,0.6740029189118928,0.4826622004974322,-0.11755937452739242,-0.32126785538898134,0.7929988121107323,0.3951830074407376,-2.088496378240888,-0.8759883673140567,0.06364644137637034,0.39384361906406923,0.36875154769134777,-0.30784011826382807,0.7917959824498457,1.5677280244828602,-0.05900920362274808,1.0375464873238087,1.6379622252173518,-1.4057904636265286,0.5394882447018408,1.013559324777699,0.0317138450739195,-0.7447209913640487,0.20612512058230376,-1.7003724779460927,1.352623651396288,1.982935602840355,0.5068908613077829,-0.5164100240190705,0.630123868949732,0.7732102744966399,-1.2393677901893128,-0.3370213940892322,0.3483949651157315,-0.24066619524369812,0.6770539844969181,1.2288154644853018,-1.6743318035872083,-0.021365537352325627,-0.6672899618296045,0.10000066548559038,-1.7247613547037848,-0.05389893734429868,0.9180552257999586,0.48811130008099096,0.33920897319785864,-0.5707494319732833,-0.018216433868223143,-1.2482714701915105,-0.9430832695332753,0.7916447472466199,-0.06956062234436486,1.332297904497416,-0.4046384777011825,-0.7120292252325473,0.058700079993735624,-0.7810474905274281,-0.613129044372448,0.07107100611789133,-1.2234832464477743,-0.04915232875895141,-0.5740497723863638,-0.07084727333194477,-1.1230549919447825,1.2690967918899319,0.8833972953210805],\"yaxis\":\"y7\",\"type\":\"scatter\"},{\"line\":{\"color\":\"rgba(128, 128, 128, 1.0)\",\"dash\":\"solid\",\"shape\":\"linear\",\"width\":1.3},\"marker\":{\"size\":2,\"symbol\":\"circle\"},\"mode\":\"markers\",\"name\":\"B\",\"text\":\"\",\"x\":[-0.4491421908640809,1.2029482993147849,0.25378214610395416,-1.5063801748777694,1.3893539198044096,-0.9432078965941402,-0.6446134035867747,0.8829828739161394,0.32252916422399003,0.3043863498359023,-0.29872535210843226,1.2219065843467145,-0.4384353103826866,0.1657212574596592,-0.10509909234048634,-2.243069716006099,1.4018508384967856,0.3359896311992802,0.18241104077563605,-0.38289345158000965,0.6989107400684714,0.09613322515106505,0.36708603588622446,1.0654167299756634,1.4046787193426418,0.12944956647884878,-0.5752600419634767,0.6611244163550766,-0.09600859876502027,-0.9127876016098776,0.7213829965251812,0.9790738769347126,0.5753829352579928,0.38501319741583534,-0.42639630856853616,0.1684574936406595,0.2233771854734719,0.7216612879731006,0.3659398767935382,-1.16920504499437,-1.6426211588162785,-0.023236051268636395,0.8781898056187787,-1.2695964066351786,-0.7388100105945554,-0.12831274961768427,-1.6893279797156782,-0.49448320610754015,0.3187977161816559,-0.6874489064136562,-0.5881057803215165,-1.6175080062644085,-0.13627568523939648,0.22454415947119186,0.8061210849250724,0.5771316513712762,0.1407443447222844,-1.21803004602897,1.5003507313842335,-0.5262134322632784,-0.7776486145049962,1.6498639151877899,-0.7003918202246326,-0.4751232877017714,1.0715211265223172,-0.5157879249215598,-1.5251799429116442,1.6960593842474612,-1.0974245911801566,0.8157835346436526,-0.42949996169374904,0.6705685225946463,0.6698422801457918,-0.5951528711771942,-0.4924206210373965,-0.03397542210465927,0.5070841906803677,0.08069046452911735,1.073276414332532,0.6560155256664106,-1.8358140238405625,-1.4564528505248389,-0.5211912942399656,1.1619745147625549,1.1520565316385558,-0.15629430700252106,-1.1310990092759103,-0.7064144271527389,0.5297706528090994,-0.23680306625286474,0.5322863071415616,-1.0345383389929206,0.054635002811138526,0.5207287140263027,0.2663792440154259,0.48963295811603796,1.0261660060415485,1.414486694783853,1.3797201341016805,0.4154231562235997],\"xaxis\":\"x8\",\"y\":[-0.5548235720002016,-0.46033933106280667,1.5866377741729345,-0.3272212503881288,0.03402138478618209,-0.7624627502472152,2.348882566100373,-0.4593864721542771,0.31916528326146887,-0.6902004464640703,-0.9071182373778008,0.8693879352151368,0.0908984501140434,1.439719510453182,-1.8632253399626302,-0.479055317221008,0.5925242567873134,0.9182777533280958,-0.7754625687794833,-2.6583226781800797,0.5484315599141389,-0.7042914583634231,-0.1764697624966167,0.2502484719538905,-0.04785972571489474,1.2294110679482604,-0.11427358475630707,-0.3697207652302923,1.6043967881949919,-1.339472912051616,-1.29217789705882,-0.36153222275651,1.022692009649764,0.16598675428648627,0.5551363037720237,0.6740029189118928,0.4826622004974322,-0.11755937452739242,-0.32126785538898134,0.7929988121107323,0.3951830074407376,-2.088496378240888,-0.8759883673140567,0.06364644137637034,0.39384361906406923,0.36875154769134777,-0.30784011826382807,0.7917959824498457,1.5677280244828602,-0.05900920362274808,1.0375464873238087,1.6379622252173518,-1.4057904636265286,0.5394882447018408,1.013559324777699,0.0317138450739195,-0.7447209913640487,0.20612512058230376,-1.7003724779460927,1.352623651396288,1.982935602840355,0.5068908613077829,-0.5164100240190705,0.630123868949732,0.7732102744966399,-1.2393677901893128,-0.3370213940892322,0.3483949651157315,-0.24066619524369812,0.6770539844969181,1.2288154644853018,-1.6743318035872083,-0.021365537352325627,-0.6672899618296045,0.10000066548559038,-1.7247613547037848,-0.05389893734429868,0.9180552257999586,0.48811130008099096,0.33920897319785864,-0.5707494319732833,-0.018216433868223143,-1.2482714701915105,-0.9430832695332753,0.7916447472466199,-0.06956062234436486,1.332297904497416,-0.4046384777011825,-0.7120292252325473,0.058700079993735624,-0.7810474905274281,-0.613129044372448,0.07107100611789133,-1.2234832464477743,-0.04915232875895141,-0.5740497723863638,-0.07084727333194477,-1.1230549919447825,1.2690967918899319,0.8833972953210805],\"yaxis\":\"y8\",\"type\":\"scatter\"},{\"line\":{\"color\":\"rgba(128, 128, 128, 1.0)\",\"dash\":\"solid\",\"shape\":\"linear\",\"width\":1.3},\"marker\":{\"size\":2,\"symbol\":\"circle\"},\"mode\":\"markers\",\"name\":\"C\",\"text\":\"\",\"x\":[1.2376648357470055,-0.5588649056406358,0.40946706449563175,0.4298301337164253,0.07238270128864749,-0.20598883801382525,1.2385584747531542,-1.0633617765803824,0.3434542115634483,1.3645551658564248,-0.7290820511381018,-1.035624379248983,0.32740419197523757,-0.3351406777735119,-0.6995413769041855,-0.32313520691160347,-0.6968944913793241,-1.2658169541706465,1.8681787506166567,1.654531174173863,0.4323609959994185,0.13342603725333999,-0.25726923923873757,0.7180052009841095,1.403861120520268,1.4472639088688162,-0.6399257301458914,-1.1614404005478682,2.821851024615292,-0.45675635524671515,-1.5795633950159544,-0.36823092116578626,-1.0381007781369387,1.80093516549471,0.605519660199255,0.5520713257359585,1.0739598975916955,-0.08606957115270493,-0.5388402188322184,1.4131676971194618,-0.5605172697322097,-0.6056944769115583,-0.9428065238847683,1.3962914689468222,-0.9272551780488926,-0.16998328050440442,1.957273987112428,-0.08974156694888845,-0.6345160635027977,-0.4863315382609629,-0.6461642065112355,-0.4394231941140874,0.37048755383772125,0.5298402144160002,1.0054517069637832,1.1136464518705884,-2.158906419697583,2.1091061818145262,-1.0703594134064252,-0.5814437688577203,0.03924795414460957,1.006378179337866,-0.3903396632439928,-1.3561617236485808,-1.0708998832851322,1.5806859251958079,0.17179271377825836,-0.9047325249055707,1.1275038903666008,1.989443049293253,-1.090722702073496,-0.2993575416216889,-0.6394549917325748,-1.2244878399342731,1.6452364982836245,0.6177372762506392,-1.3176302335739636,0.03300243685919273,-1.0649093458079049,0.975689453023733,0.05122198401087867,-0.2976791863225247,-0.790150167428062,-0.6625271152615411,0.7860844830326141,-0.016153571380949677,-0.8598140138716176,-0.3185632602435938,-0.8067190607871518,-0.6147307859444832,0.6156300197507949,-0.9048669572075687,-0.2106043328452722,-1.0358044675788922,0.8941804936081772,0.6979637785733713,-0.8090777129605745,0.48770364177028785,-1.317158662969975,1.273288323901588],\"xaxis\":\"x9\",\"y\":[-0.26906904181459984,0.2081365237057489,0.7434127044545952,-0.5803046955447627,1.0126419450126272,1.1938906824422673,1.2159765066535102,-0.3310849231718713,0.5077203376407015,0.34209242810181456,-0.11878946540649828,-0.4749705207550622,1.207185380191627,0.12943069644011224,1.3355989559232668,-0.7731247278756137,0.3807405717358539,0.266643240510313,-2.3777426803100257,0.0027779141300425035,0.1309034139658154,0.17238796318819677,0.27372680579883435,-1.1927389215889832,0.3873475119923371,1.718910613734451,-1.253580021353978,0.6034098698527122,-0.203623097256541,-0.5170646697402146,-0.16230635256296833,-0.6734102209160207,0.5196148131668465,0.29505417711255283,-2.3134073395997343,1.8201532702913714,0.9101868757665937,0.06780133898843106,-1.0766921698404543,2.3340108037093183,-0.5250312340582639,-1.2437738802864404,-1.6538668013395428,-0.45117417337726884,0.15832560576274293,-1.1549036467497915,-0.4138082042237622,2.3928142584894543,-0.9229286361133364,0.8269859271253687,-1.2267680346468983,-0.03157069409661295,0.8442269401278604,-0.8575855005126751,0.33113393835030586,-1.183084933062807,1.0417316110762198,0.7175987720056594,0.8814649528881313,0.28688702830024254,-1.2115696509980969,1.2056811520386082,0.3119990970994984,1.468750620432369,-0.03806325884520373,-1.1185715906259237,-0.08679478685379335,0.7972403161269461,0.631344147502726,-1.0025337810071915,0.13768162891975838,0.0050747807457603294,1.5723024365366773,-1.3892323025995186,-0.36639754856807305,2.2407998702377756,0.3819042754995391,0.050112072061411835,-0.43747120962076497,-0.5747401738028871,-1.1244149923334,0.7642250360111837,-2.5666888114649877,-1.915087613015398,1.630728006304569,0.6092488423656572,0.8161476087219586,-0.2471281885659989,0.29780268305984525,1.8544690780700486,0.6851016157507686,1.391156815114278,1.6541213644367931,0.6844302629511626,1.9796956636054142,0.2841274948328375,-1.1817696734719931,0.9864863478398745,-0.42745822098441166,1.5231821229104305],\"yaxis\":\"y9\",\"type\":\"scatter\"},{\"line\":{\"color\":\"rgba(128, 128, 128, 1.0)\",\"dash\":\"solid\",\"shape\":\"linear\",\"width\":1.3},\"marker\":{\"size\":2,\"symbol\":\"circle\"},\"mode\":\"markers\",\"name\":\"C\",\"text\":\"\",\"x\":[-0.5548235720002016,-0.46033933106280667,1.5866377741729345,-0.3272212503881288,0.03402138478618209,-0.7624627502472152,2.348882566100373,-0.4593864721542771,0.31916528326146887,-0.6902004464640703,-0.9071182373778008,0.8693879352151368,0.0908984501140434,1.439719510453182,-1.8632253399626302,-0.479055317221008,0.5925242567873134,0.9182777533280958,-0.7754625687794833,-2.6583226781800797,0.5484315599141389,-0.7042914583634231,-0.1764697624966167,0.2502484719538905,-0.04785972571489474,1.2294110679482604,-0.11427358475630707,-0.3697207652302923,1.6043967881949919,-1.339472912051616,-1.29217789705882,-0.36153222275651,1.022692009649764,0.16598675428648627,0.5551363037720237,0.6740029189118928,0.4826622004974322,-0.11755937452739242,-0.32126785538898134,0.7929988121107323,0.3951830074407376,-2.088496378240888,-0.8759883673140567,0.06364644137637034,0.39384361906406923,0.36875154769134777,-0.30784011826382807,0.7917959824498457,1.5677280244828602,-0.05900920362274808,1.0375464873238087,1.6379622252173518,-1.4057904636265286,0.5394882447018408,1.013559324777699,0.0317138450739195,-0.7447209913640487,0.20612512058230376,-1.7003724779460927,1.352623651396288,1.982935602840355,0.5068908613077829,-0.5164100240190705,0.630123868949732,0.7732102744966399,-1.2393677901893128,-0.3370213940892322,0.3483949651157315,-0.24066619524369812,0.6770539844969181,1.2288154644853018,-1.6743318035872083,-0.021365537352325627,-0.6672899618296045,0.10000066548559038,-1.7247613547037848,-0.05389893734429868,0.9180552257999586,0.48811130008099096,0.33920897319785864,-0.5707494319732833,-0.018216433868223143,-1.2482714701915105,-0.9430832695332753,0.7916447472466199,-0.06956062234436486,1.332297904497416,-0.4046384777011825,-0.7120292252325473,0.058700079993735624,-0.7810474905274281,-0.613129044372448,0.07107100611789133,-1.2234832464477743,-0.04915232875895141,-0.5740497723863638,-0.07084727333194477,-1.1230549919447825,1.2690967918899319,0.8833972953210805],\"xaxis\":\"x10\",\"y\":[-0.26906904181459984,0.2081365237057489,0.7434127044545952,-0.5803046955447627,1.0126419450126272,1.1938906824422673,1.2159765066535102,-0.3310849231718713,0.5077203376407015,0.34209242810181456,-0.11878946540649828,-0.4749705207550622,1.207185380191627,0.12943069644011224,1.3355989559232668,-0.7731247278756137,0.3807405717358539,0.266643240510313,-2.3777426803100257,0.0027779141300425035,0.1309034139658154,0.17238796318819677,0.27372680579883435,-1.1927389215889832,0.3873475119923371,1.718910613734451,-1.253580021353978,0.6034098698527122,-0.203623097256541,-0.5170646697402146,-0.16230635256296833,-0.6734102209160207,0.5196148131668465,0.29505417711255283,-2.3134073395997343,1.8201532702913714,0.9101868757665937,0.06780133898843106,-1.0766921698404543,2.3340108037093183,-0.5250312340582639,-1.2437738802864404,-1.6538668013395428,-0.45117417337726884,0.15832560576274293,-1.1549036467497915,-0.4138082042237622,2.3928142584894543,-0.9229286361133364,0.8269859271253687,-1.2267680346468983,-0.03157069409661295,0.8442269401278604,-0.8575855005126751,0.33113393835030586,-1.183084933062807,1.0417316110762198,0.7175987720056594,0.8814649528881313,0.28688702830024254,-1.2115696509980969,1.2056811520386082,0.3119990970994984,1.468750620432369,-0.03806325884520373,-1.1185715906259237,-0.08679478685379335,0.7972403161269461,0.631344147502726,-1.0025337810071915,0.13768162891975838,0.0050747807457603294,1.5723024365366773,-1.3892323025995186,-0.36639754856807305,2.2407998702377756,0.3819042754995391,0.050112072061411835,-0.43747120962076497,-0.5747401738028871,-1.1244149923334,0.7642250360111837,-2.5666888114649877,-1.915087613015398,1.630728006304569,0.6092488423656572,0.8161476087219586,-0.2471281885659989,0.29780268305984525,1.8544690780700486,0.6851016157507686,1.391156815114278,1.6541213644367931,0.6844302629511626,1.9796956636054142,0.2841274948328375,-1.1817696734719931,0.9864863478398745,-0.42745822098441166,1.5231821229104305],\"yaxis\":\"y10\",\"type\":\"scatter\"},{\"histfunc\":\"count\",\"histnorm\":\"\",\"marker\":{\"color\":\"rgba(50, 171, 96, 1.0)\",\"line\":{\"color\":\"#4D5663\",\"width\":1.3}},\"name\":\"C\",\"nbinsx\":10,\"opacity\":0.8,\"orientation\":\"v\",\"x\":[-0.26906904181459984,0.2081365237057489,0.7434127044545952,-0.5803046955447627,1.0126419450126272,1.1938906824422673,1.2159765066535102,-0.3310849231718713,0.5077203376407015,0.34209242810181456,-0.11878946540649828,-0.4749705207550622,1.207185380191627,0.12943069644011224,1.3355989559232668,-0.7731247278756137,0.3807405717358539,0.266643240510313,-2.3777426803100257,0.0027779141300425035,0.1309034139658154,0.17238796318819677,0.27372680579883435,-1.1927389215889832,0.3873475119923371,1.718910613734451,-1.253580021353978,0.6034098698527122,-0.203623097256541,-0.5170646697402146,-0.16230635256296833,-0.6734102209160207,0.5196148131668465,0.29505417711255283,-2.3134073395997343,1.8201532702913714,0.9101868757665937,0.06780133898843106,-1.0766921698404543,2.3340108037093183,-0.5250312340582639,-1.2437738802864404,-1.6538668013395428,-0.45117417337726884,0.15832560576274293,-1.1549036467497915,-0.4138082042237622,2.3928142584894543,-0.9229286361133364,0.8269859271253687,-1.2267680346468983,-0.03157069409661295,0.8442269401278604,-0.8575855005126751,0.33113393835030586,-1.183084933062807,1.0417316110762198,0.7175987720056594,0.8814649528881313,0.28688702830024254,-1.2115696509980969,1.2056811520386082,0.3119990970994984,1.468750620432369,-0.03806325884520373,-1.1185715906259237,-0.08679478685379335,0.7972403161269461,0.631344147502726,-1.0025337810071915,0.13768162891975838,0.0050747807457603294,1.5723024365366773,-1.3892323025995186,-0.36639754856807305,2.2407998702377756,0.3819042754995391,0.050112072061411835,-0.43747120962076497,-0.5747401738028871,-1.1244149923334,0.7642250360111837,-2.5666888114649877,-1.915087613015398,1.630728006304569,0.6092488423656572,0.8161476087219586,-0.2471281885659989,0.29780268305984525,1.8544690780700486,0.6851016157507686,1.391156815114278,1.6541213644367931,0.6844302629511626,1.9796956636054142,0.2841274948328375,-1.1817696734719931,0.9864863478398745,-0.42745822098441166,1.5231821229104305],\"xaxis\":\"x11\",\"yaxis\":\"y11\",\"type\":\"histogram\"},{\"line\":{\"color\":\"rgba(128, 128, 128, 1.0)\",\"dash\":\"solid\",\"shape\":\"linear\",\"width\":1.3},\"marker\":{\"size\":2,\"symbol\":\"circle\"},\"mode\":\"markers\",\"name\":\"C\",\"text\":\"\",\"x\":[-0.4491421908640809,1.2029482993147849,0.25378214610395416,-1.5063801748777694,1.3893539198044096,-0.9432078965941402,-0.6446134035867747,0.8829828739161394,0.32252916422399003,0.3043863498359023,-0.29872535210843226,1.2219065843467145,-0.4384353103826866,0.1657212574596592,-0.10509909234048634,-2.243069716006099,1.4018508384967856,0.3359896311992802,0.18241104077563605,-0.38289345158000965,0.6989107400684714,0.09613322515106505,0.36708603588622446,1.0654167299756634,1.4046787193426418,0.12944956647884878,-0.5752600419634767,0.6611244163550766,-0.09600859876502027,-0.9127876016098776,0.7213829965251812,0.9790738769347126,0.5753829352579928,0.38501319741583534,-0.42639630856853616,0.1684574936406595,0.2233771854734719,0.7216612879731006,0.3659398767935382,-1.16920504499437,-1.6426211588162785,-0.023236051268636395,0.8781898056187787,-1.2695964066351786,-0.7388100105945554,-0.12831274961768427,-1.6893279797156782,-0.49448320610754015,0.3187977161816559,-0.6874489064136562,-0.5881057803215165,-1.6175080062644085,-0.13627568523939648,0.22454415947119186,0.8061210849250724,0.5771316513712762,0.1407443447222844,-1.21803004602897,1.5003507313842335,-0.5262134322632784,-0.7776486145049962,1.6498639151877899,-0.7003918202246326,-0.4751232877017714,1.0715211265223172,-0.5157879249215598,-1.5251799429116442,1.6960593842474612,-1.0974245911801566,0.8157835346436526,-0.42949996169374904,0.6705685225946463,0.6698422801457918,-0.5951528711771942,-0.4924206210373965,-0.03397542210465927,0.5070841906803677,0.08069046452911735,1.073276414332532,0.6560155256664106,-1.8358140238405625,-1.4564528505248389,-0.5211912942399656,1.1619745147625549,1.1520565316385558,-0.15629430700252106,-1.1310990092759103,-0.7064144271527389,0.5297706528090994,-0.23680306625286474,0.5322863071415616,-1.0345383389929206,0.054635002811138526,0.5207287140263027,0.2663792440154259,0.48963295811603796,1.0261660060415485,1.414486694783853,1.3797201341016805,0.4154231562235997],\"xaxis\":\"x12\",\"y\":[-0.26906904181459984,0.2081365237057489,0.7434127044545952,-0.5803046955447627,1.0126419450126272,1.1938906824422673,1.2159765066535102,-0.3310849231718713,0.5077203376407015,0.34209242810181456,-0.11878946540649828,-0.4749705207550622,1.207185380191627,0.12943069644011224,1.3355989559232668,-0.7731247278756137,0.3807405717358539,0.266643240510313,-2.3777426803100257,0.0027779141300425035,0.1309034139658154,0.17238796318819677,0.27372680579883435,-1.1927389215889832,0.3873475119923371,1.718910613734451,-1.253580021353978,0.6034098698527122,-0.203623097256541,-0.5170646697402146,-0.16230635256296833,-0.6734102209160207,0.5196148131668465,0.29505417711255283,-2.3134073395997343,1.8201532702913714,0.9101868757665937,0.06780133898843106,-1.0766921698404543,2.3340108037093183,-0.5250312340582639,-1.2437738802864404,-1.6538668013395428,-0.45117417337726884,0.15832560576274293,-1.1549036467497915,-0.4138082042237622,2.3928142584894543,-0.9229286361133364,0.8269859271253687,-1.2267680346468983,-0.03157069409661295,0.8442269401278604,-0.8575855005126751,0.33113393835030586,-1.183084933062807,1.0417316110762198,0.7175987720056594,0.8814649528881313,0.28688702830024254,-1.2115696509980969,1.2056811520386082,0.3119990970994984,1.468750620432369,-0.03806325884520373,-1.1185715906259237,-0.08679478685379335,0.7972403161269461,0.631344147502726,-1.0025337810071915,0.13768162891975838,0.0050747807457603294,1.5723024365366773,-1.3892323025995186,-0.36639754856807305,2.2407998702377756,0.3819042754995391,0.050112072061411835,-0.43747120962076497,-0.5747401738028871,-1.1244149923334,0.7642250360111837,-2.5666888114649877,-1.915087613015398,1.630728006304569,0.6092488423656572,0.8161476087219586,-0.2471281885659989,0.29780268305984525,1.8544690780700486,0.6851016157507686,1.391156815114278,1.6541213644367931,0.6844302629511626,1.9796956636054142,0.2841274948328375,-1.1817696734719931,0.9864863478398745,-0.42745822098441166,1.5231821229104305],\"yaxis\":\"y12\",\"type\":\"scatter\"},{\"line\":{\"color\":\"rgba(128, 128, 128, 1.0)\",\"dash\":\"solid\",\"shape\":\"linear\",\"width\":1.3},\"marker\":{\"size\":2,\"symbol\":\"circle\"},\"mode\":\"markers\",\"name\":\"D\",\"text\":\"\",\"x\":[1.2376648357470055,-0.5588649056406358,0.40946706449563175,0.4298301337164253,0.07238270128864749,-0.20598883801382525,1.2385584747531542,-1.0633617765803824,0.3434542115634483,1.3645551658564248,-0.7290820511381018,-1.035624379248983,0.32740419197523757,-0.3351406777735119,-0.6995413769041855,-0.32313520691160347,-0.6968944913793241,-1.2658169541706465,1.8681787506166567,1.654531174173863,0.4323609959994185,0.13342603725333999,-0.25726923923873757,0.7180052009841095,1.403861120520268,1.4472639088688162,-0.6399257301458914,-1.1614404005478682,2.821851024615292,-0.45675635524671515,-1.5795633950159544,-0.36823092116578626,-1.0381007781369387,1.80093516549471,0.605519660199255,0.5520713257359585,1.0739598975916955,-0.08606957115270493,-0.5388402188322184,1.4131676971194618,-0.5605172697322097,-0.6056944769115583,-0.9428065238847683,1.3962914689468222,-0.9272551780488926,-0.16998328050440442,1.957273987112428,-0.08974156694888845,-0.6345160635027977,-0.4863315382609629,-0.6461642065112355,-0.4394231941140874,0.37048755383772125,0.5298402144160002,1.0054517069637832,1.1136464518705884,-2.158906419697583,2.1091061818145262,-1.0703594134064252,-0.5814437688577203,0.03924795414460957,1.006378179337866,-0.3903396632439928,-1.3561617236485808,-1.0708998832851322,1.5806859251958079,0.17179271377825836,-0.9047325249055707,1.1275038903666008,1.989443049293253,-1.090722702073496,-0.2993575416216889,-0.6394549917325748,-1.2244878399342731,1.6452364982836245,0.6177372762506392,-1.3176302335739636,0.03300243685919273,-1.0649093458079049,0.975689453023733,0.05122198401087867,-0.2976791863225247,-0.790150167428062,-0.6625271152615411,0.7860844830326141,-0.016153571380949677,-0.8598140138716176,-0.3185632602435938,-0.8067190607871518,-0.6147307859444832,0.6156300197507949,-0.9048669572075687,-0.2106043328452722,-1.0358044675788922,0.8941804936081772,0.6979637785733713,-0.8090777129605745,0.48770364177028785,-1.317158662969975,1.273288323901588],\"xaxis\":\"x13\",\"y\":[-0.4491421908640809,1.2029482993147849,0.25378214610395416,-1.5063801748777694,1.3893539198044096,-0.9432078965941402,-0.6446134035867747,0.8829828739161394,0.32252916422399003,0.3043863498359023,-0.29872535210843226,1.2219065843467145,-0.4384353103826866,0.1657212574596592,-0.10509909234048634,-2.243069716006099,1.4018508384967856,0.3359896311992802,0.18241104077563605,-0.38289345158000965,0.6989107400684714,0.09613322515106505,0.36708603588622446,1.0654167299756634,1.4046787193426418,0.12944956647884878,-0.5752600419634767,0.6611244163550766,-0.09600859876502027,-0.9127876016098776,0.7213829965251812,0.9790738769347126,0.5753829352579928,0.38501319741583534,-0.42639630856853616,0.1684574936406595,0.2233771854734719,0.7216612879731006,0.3659398767935382,-1.16920504499437,-1.6426211588162785,-0.023236051268636395,0.8781898056187787,-1.2695964066351786,-0.7388100105945554,-0.12831274961768427,-1.6893279797156782,-0.49448320610754015,0.3187977161816559,-0.6874489064136562,-0.5881057803215165,-1.6175080062644085,-0.13627568523939648,0.22454415947119186,0.8061210849250724,0.5771316513712762,0.1407443447222844,-1.21803004602897,1.5003507313842335,-0.5262134322632784,-0.7776486145049962,1.6498639151877899,-0.7003918202246326,-0.4751232877017714,1.0715211265223172,-0.5157879249215598,-1.5251799429116442,1.6960593842474612,-1.0974245911801566,0.8157835346436526,-0.42949996169374904,0.6705685225946463,0.6698422801457918,-0.5951528711771942,-0.4924206210373965,-0.03397542210465927,0.5070841906803677,0.08069046452911735,1.073276414332532,0.6560155256664106,-1.8358140238405625,-1.4564528505248389,-0.5211912942399656,1.1619745147625549,1.1520565316385558,-0.15629430700252106,-1.1310990092759103,-0.7064144271527389,0.5297706528090994,-0.23680306625286474,0.5322863071415616,-1.0345383389929206,0.054635002811138526,0.5207287140263027,0.2663792440154259,0.48963295811603796,1.0261660060415485,1.414486694783853,1.3797201341016805,0.4154231562235997],\"yaxis\":\"y13\",\"type\":\"scatter\"},{\"line\":{\"color\":\"rgba(128, 128, 128, 1.0)\",\"dash\":\"solid\",\"shape\":\"linear\",\"width\":1.3},\"marker\":{\"size\":2,\"symbol\":\"circle\"},\"mode\":\"markers\",\"name\":\"D\",\"text\":\"\",\"x\":[-0.5548235720002016,-0.46033933106280667,1.5866377741729345,-0.3272212503881288,0.03402138478618209,-0.7624627502472152,2.348882566100373,-0.4593864721542771,0.31916528326146887,-0.6902004464640703,-0.9071182373778008,0.8693879352151368,0.0908984501140434,1.439719510453182,-1.8632253399626302,-0.479055317221008,0.5925242567873134,0.9182777533280958,-0.7754625687794833,-2.6583226781800797,0.5484315599141389,-0.7042914583634231,-0.1764697624966167,0.2502484719538905,-0.04785972571489474,1.2294110679482604,-0.11427358475630707,-0.3697207652302923,1.6043967881949919,-1.339472912051616,-1.29217789705882,-0.36153222275651,1.022692009649764,0.16598675428648627,0.5551363037720237,0.6740029189118928,0.4826622004974322,-0.11755937452739242,-0.32126785538898134,0.7929988121107323,0.3951830074407376,-2.088496378240888,-0.8759883673140567,0.06364644137637034,0.39384361906406923,0.36875154769134777,-0.30784011826382807,0.7917959824498457,1.5677280244828602,-0.05900920362274808,1.0375464873238087,1.6379622252173518,-1.4057904636265286,0.5394882447018408,1.013559324777699,0.0317138450739195,-0.7447209913640487,0.20612512058230376,-1.7003724779460927,1.352623651396288,1.982935602840355,0.5068908613077829,-0.5164100240190705,0.630123868949732,0.7732102744966399,-1.2393677901893128,-0.3370213940892322,0.3483949651157315,-0.24066619524369812,0.6770539844969181,1.2288154644853018,-1.6743318035872083,-0.021365537352325627,-0.6672899618296045,0.10000066548559038,-1.7247613547037848,-0.05389893734429868,0.9180552257999586,0.48811130008099096,0.33920897319785864,-0.5707494319732833,-0.018216433868223143,-1.2482714701915105,-0.9430832695332753,0.7916447472466199,-0.06956062234436486,1.332297904497416,-0.4046384777011825,-0.7120292252325473,0.058700079993735624,-0.7810474905274281,-0.613129044372448,0.07107100611789133,-1.2234832464477743,-0.04915232875895141,-0.5740497723863638,-0.07084727333194477,-1.1230549919447825,1.2690967918899319,0.8833972953210805],\"xaxis\":\"x14\",\"y\":[-0.4491421908640809,1.2029482993147849,0.25378214610395416,-1.5063801748777694,1.3893539198044096,-0.9432078965941402,-0.6446134035867747,0.8829828739161394,0.32252916422399003,0.3043863498359023,-0.29872535210843226,1.2219065843467145,-0.4384353103826866,0.1657212574596592,-0.10509909234048634,-2.243069716006099,1.4018508384967856,0.3359896311992802,0.18241104077563605,-0.38289345158000965,0.6989107400684714,0.09613322515106505,0.36708603588622446,1.0654167299756634,1.4046787193426418,0.12944956647884878,-0.5752600419634767,0.6611244163550766,-0.09600859876502027,-0.9127876016098776,0.7213829965251812,0.9790738769347126,0.5753829352579928,0.38501319741583534,-0.42639630856853616,0.1684574936406595,0.2233771854734719,0.7216612879731006,0.3659398767935382,-1.16920504499437,-1.6426211588162785,-0.023236051268636395,0.8781898056187787,-1.2695964066351786,-0.7388100105945554,-0.12831274961768427,-1.6893279797156782,-0.49448320610754015,0.3187977161816559,-0.6874489064136562,-0.5881057803215165,-1.6175080062644085,-0.13627568523939648,0.22454415947119186,0.8061210849250724,0.5771316513712762,0.1407443447222844,-1.21803004602897,1.5003507313842335,-0.5262134322632784,-0.7776486145049962,1.6498639151877899,-0.7003918202246326,-0.4751232877017714,1.0715211265223172,-0.5157879249215598,-1.5251799429116442,1.6960593842474612,-1.0974245911801566,0.8157835346436526,-0.42949996169374904,0.6705685225946463,0.6698422801457918,-0.5951528711771942,-0.4924206210373965,-0.03397542210465927,0.5070841906803677,0.08069046452911735,1.073276414332532,0.6560155256664106,-1.8358140238405625,-1.4564528505248389,-0.5211912942399656,1.1619745147625549,1.1520565316385558,-0.15629430700252106,-1.1310990092759103,-0.7064144271527389,0.5297706528090994,-0.23680306625286474,0.5322863071415616,-1.0345383389929206,0.054635002811138526,0.5207287140263027,0.2663792440154259,0.48963295811603796,1.0261660060415485,1.414486694783853,1.3797201341016805,0.4154231562235997],\"yaxis\":\"y14\",\"type\":\"scatter\"},{\"line\":{\"color\":\"rgba(128, 128, 128, 1.0)\",\"dash\":\"solid\",\"shape\":\"linear\",\"width\":1.3},\"marker\":{\"size\":2,\"symbol\":\"circle\"},\"mode\":\"markers\",\"name\":\"D\",\"text\":\"\",\"x\":[-0.26906904181459984,0.2081365237057489,0.7434127044545952,-0.5803046955447627,1.0126419450126272,1.1938906824422673,1.2159765066535102,-0.3310849231718713,0.5077203376407015,0.34209242810181456,-0.11878946540649828,-0.4749705207550622,1.207185380191627,0.12943069644011224,1.3355989559232668,-0.7731247278756137,0.3807405717358539,0.266643240510313,-2.3777426803100257,0.0027779141300425035,0.1309034139658154,0.17238796318819677,0.27372680579883435,-1.1927389215889832,0.3873475119923371,1.718910613734451,-1.253580021353978,0.6034098698527122,-0.203623097256541,-0.5170646697402146,-0.16230635256296833,-0.6734102209160207,0.5196148131668465,0.29505417711255283,-2.3134073395997343,1.8201532702913714,0.9101868757665937,0.06780133898843106,-1.0766921698404543,2.3340108037093183,-0.5250312340582639,-1.2437738802864404,-1.6538668013395428,-0.45117417337726884,0.15832560576274293,-1.1549036467497915,-0.4138082042237622,2.3928142584894543,-0.9229286361133364,0.8269859271253687,-1.2267680346468983,-0.03157069409661295,0.8442269401278604,-0.8575855005126751,0.33113393835030586,-1.183084933062807,1.0417316110762198,0.7175987720056594,0.8814649528881313,0.28688702830024254,-1.2115696509980969,1.2056811520386082,0.3119990970994984,1.468750620432369,-0.03806325884520373,-1.1185715906259237,-0.08679478685379335,0.7972403161269461,0.631344147502726,-1.0025337810071915,0.13768162891975838,0.0050747807457603294,1.5723024365366773,-1.3892323025995186,-0.36639754856807305,2.2407998702377756,0.3819042754995391,0.050112072061411835,-0.43747120962076497,-0.5747401738028871,-1.1244149923334,0.7642250360111837,-2.5666888114649877,-1.915087613015398,1.630728006304569,0.6092488423656572,0.8161476087219586,-0.2471281885659989,0.29780268305984525,1.8544690780700486,0.6851016157507686,1.391156815114278,1.6541213644367931,0.6844302629511626,1.9796956636054142,0.2841274948328375,-1.1817696734719931,0.9864863478398745,-0.42745822098441166,1.5231821229104305],\"xaxis\":\"x15\",\"y\":[-0.4491421908640809,1.2029482993147849,0.25378214610395416,-1.5063801748777694,1.3893539198044096,-0.9432078965941402,-0.6446134035867747,0.8829828739161394,0.32252916422399003,0.3043863498359023,-0.29872535210843226,1.2219065843467145,-0.4384353103826866,0.1657212574596592,-0.10509909234048634,-2.243069716006099,1.4018508384967856,0.3359896311992802,0.18241104077563605,-0.38289345158000965,0.6989107400684714,0.09613322515106505,0.36708603588622446,1.0654167299756634,1.4046787193426418,0.12944956647884878,-0.5752600419634767,0.6611244163550766,-0.09600859876502027,-0.9127876016098776,0.7213829965251812,0.9790738769347126,0.5753829352579928,0.38501319741583534,-0.42639630856853616,0.1684574936406595,0.2233771854734719,0.7216612879731006,0.3659398767935382,-1.16920504499437,-1.6426211588162785,-0.023236051268636395,0.8781898056187787,-1.2695964066351786,-0.7388100105945554,-0.12831274961768427,-1.6893279797156782,-0.49448320610754015,0.3187977161816559,-0.6874489064136562,-0.5881057803215165,-1.6175080062644085,-0.13627568523939648,0.22454415947119186,0.8061210849250724,0.5771316513712762,0.1407443447222844,-1.21803004602897,1.5003507313842335,-0.5262134322632784,-0.7776486145049962,1.6498639151877899,-0.7003918202246326,-0.4751232877017714,1.0715211265223172,-0.5157879249215598,-1.5251799429116442,1.6960593842474612,-1.0974245911801566,0.8157835346436526,-0.42949996169374904,0.6705685225946463,0.6698422801457918,-0.5951528711771942,-0.4924206210373965,-0.03397542210465927,0.5070841906803677,0.08069046452911735,1.073276414332532,0.6560155256664106,-1.8358140238405625,-1.4564528505248389,-0.5211912942399656,1.1619745147625549,1.1520565316385558,-0.15629430700252106,-1.1310990092759103,-0.7064144271527389,0.5297706528090994,-0.23680306625286474,0.5322863071415616,-1.0345383389929206,0.054635002811138526,0.5207287140263027,0.2663792440154259,0.48963295811603796,1.0261660060415485,1.414486694783853,1.3797201341016805,0.4154231562235997],\"yaxis\":\"y15\",\"type\":\"scatter\"},{\"histfunc\":\"count\",\"histnorm\":\"\",\"marker\":{\"color\":\"rgba(128, 0, 128, 1.0)\",\"line\":{\"color\":\"#4D5663\",\"width\":1.3}},\"name\":\"D\",\"nbinsx\":10,\"opacity\":0.8,\"orientation\":\"v\",\"x\":[-0.4491421908640809,1.2029482993147849,0.25378214610395416,-1.5063801748777694,1.3893539198044096,-0.9432078965941402,-0.6446134035867747,0.8829828739161394,0.32252916422399003,0.3043863498359023,-0.29872535210843226,1.2219065843467145,-0.4384353103826866,0.1657212574596592,-0.10509909234048634,-2.243069716006099,1.4018508384967856,0.3359896311992802,0.18241104077563605,-0.38289345158000965,0.6989107400684714,0.09613322515106505,0.36708603588622446,1.0654167299756634,1.4046787193426418,0.12944956647884878,-0.5752600419634767,0.6611244163550766,-0.09600859876502027,-0.9127876016098776,0.7213829965251812,0.9790738769347126,0.5753829352579928,0.38501319741583534,-0.42639630856853616,0.1684574936406595,0.2233771854734719,0.7216612879731006,0.3659398767935382,-1.16920504499437,-1.6426211588162785,-0.023236051268636395,0.8781898056187787,-1.2695964066351786,-0.7388100105945554,-0.12831274961768427,-1.6893279797156782,-0.49448320610754015,0.3187977161816559,-0.6874489064136562,-0.5881057803215165,-1.6175080062644085,-0.13627568523939648,0.22454415947119186,0.8061210849250724,0.5771316513712762,0.1407443447222844,-1.21803004602897,1.5003507313842335,-0.5262134322632784,-0.7776486145049962,1.6498639151877899,-0.7003918202246326,-0.4751232877017714,1.0715211265223172,-0.5157879249215598,-1.5251799429116442,1.6960593842474612,-1.0974245911801566,0.8157835346436526,-0.42949996169374904,0.6705685225946463,0.6698422801457918,-0.5951528711771942,-0.4924206210373965,-0.03397542210465927,0.5070841906803677,0.08069046452911735,1.073276414332532,0.6560155256664106,-1.8358140238405625,-1.4564528505248389,-0.5211912942399656,1.1619745147625549,1.1520565316385558,-0.15629430700252106,-1.1310990092759103,-0.7064144271527389,0.5297706528090994,-0.23680306625286474,0.5322863071415616,-1.0345383389929206,0.054635002811138526,0.5207287140263027,0.2663792440154259,0.48963295811603796,1.0261660060415485,1.414486694783853,1.3797201341016805,0.4154231562235997],\"xaxis\":\"x16\",\"yaxis\":\"y16\",\"type\":\"histogram\"}],                        {\"bargap\":0.02,\"legend\":{\"bgcolor\":\"#F5F6F9\",\"font\":{\"color\":\"#4D5663\"}},\"paper_bgcolor\":\"#F5F6F9\",\"plot_bgcolor\":\"#F5F6F9\",\"showlegend\":false,\"template\":{\"data\":{\"barpolar\":[{\"marker\":{\"line\":{\"color\":\"#E5ECF6\",\"width\":0.5},\"pattern\":{\"fillmode\":\"overlay\",\"size\":10,\"solidity\":0.2}},\"type\":\"barpolar\"}],\"bar\":[{\"error_x\":{\"color\":\"#2a3f5f\"},\"error_y\":{\"color\":\"#2a3f5f\"},\"marker\":{\"line\":{\"color\":\"#E5ECF6\",\"width\":0.5},\"pattern\":{\"fillmode\":\"overlay\",\"size\":10,\"solidity\":0.2}},\"type\":\"bar\"}],\"carpet\":[{\"aaxis\":{\"endlinecolor\":\"#2a3f5f\",\"gridcolor\":\"white\",\"linecolor\":\"white\",\"minorgridcolor\":\"white\",\"startlinecolor\":\"#2a3f5f\"},\"baxis\":{\"endlinecolor\":\"#2a3f5f\",\"gridcolor\":\"white\",\"linecolor\":\"white\",\"minorgridcolor\":\"white\",\"startlinecolor\":\"#2a3f5f\"},\"type\":\"carpet\"}],\"choropleth\":[{\"colorbar\":{\"outlinewidth\":0,\"ticks\":\"\"},\"type\":\"choropleth\"}],\"contourcarpet\":[{\"colorbar\":{\"outlinewidth\":0,\"ticks\":\"\"},\"type\":\"contourcarpet\"}],\"contour\":[{\"colorbar\":{\"outlinewidth\":0,\"ticks\":\"\"},\"colorscale\":[[0.0,\"#0d0887\"],[0.1111111111111111,\"#46039f\"],[0.2222222222222222,\"#7201a8\"],[0.3333333333333333,\"#9c179e\"],[0.4444444444444444,\"#bd3786\"],[0.5555555555555556,\"#d8576b\"],[0.6666666666666666,\"#ed7953\"],[0.7777777777777778,\"#fb9f3a\"],[0.8888888888888888,\"#fdca26\"],[1.0,\"#f0f921\"]],\"type\":\"contour\"}],\"heatmapgl\":[{\"colorbar\":{\"outlinewidth\":0,\"ticks\":\"\"},\"colorscale\":[[0.0,\"#0d0887\"],[0.1111111111111111,\"#46039f\"],[0.2222222222222222,\"#7201a8\"],[0.3333333333333333,\"#9c179e\"],[0.4444444444444444,\"#bd3786\"],[0.5555555555555556,\"#d8576b\"],[0.6666666666666666,\"#ed7953\"],[0.7777777777777778,\"#fb9f3a\"],[0.8888888888888888,\"#fdca26\"],[1.0,\"#f0f921\"]],\"type\":\"heatmapgl\"}],\"heatmap\":[{\"colorbar\":{\"outlinewidth\":0,\"ticks\":\"\"},\"colorscale\":[[0.0,\"#0d0887\"],[0.1111111111111111,\"#46039f\"],[0.2222222222222222,\"#7201a8\"],[0.3333333333333333,\"#9c179e\"],[0.4444444444444444,\"#bd3786\"],[0.5555555555555556,\"#d8576b\"],[0.6666666666666666,\"#ed7953\"],[0.7777777777777778,\"#fb9f3a\"],[0.8888888888888888,\"#fdca26\"],[1.0,\"#f0f921\"]],\"type\":\"heatmap\"}],\"histogram2dcontour\":[{\"colorbar\":{\"outlinewidth\":0,\"ticks\":\"\"},\"colorscale\":[[0.0,\"#0d0887\"],[0.1111111111111111,\"#46039f\"],[0.2222222222222222,\"#7201a8\"],[0.3333333333333333,\"#9c179e\"],[0.4444444444444444,\"#bd3786\"],[0.5555555555555556,\"#d8576b\"],[0.6666666666666666,\"#ed7953\"],[0.7777777777777778,\"#fb9f3a\"],[0.8888888888888888,\"#fdca26\"],[1.0,\"#f0f921\"]],\"type\":\"histogram2dcontour\"}],\"histogram2d\":[{\"colorbar\":{\"outlinewidth\":0,\"ticks\":\"\"},\"colorscale\":[[0.0,\"#0d0887\"],[0.1111111111111111,\"#46039f\"],[0.2222222222222222,\"#7201a8\"],[0.3333333333333333,\"#9c179e\"],[0.4444444444444444,\"#bd3786\"],[0.5555555555555556,\"#d8576b\"],[0.6666666666666666,\"#ed7953\"],[0.7777777777777778,\"#fb9f3a\"],[0.8888888888888888,\"#fdca26\"],[1.0,\"#f0f921\"]],\"type\":\"histogram2d\"}],\"histogram\":[{\"marker\":{\"pattern\":{\"fillmode\":\"overlay\",\"size\":10,\"solidity\":0.2}},\"type\":\"histogram\"}],\"mesh3d\":[{\"colorbar\":{\"outlinewidth\":0,\"ticks\":\"\"},\"type\":\"mesh3d\"}],\"parcoords\":[{\"line\":{\"colorbar\":{\"outlinewidth\":0,\"ticks\":\"\"}},\"type\":\"parcoords\"}],\"pie\":[{\"automargin\":true,\"type\":\"pie\"}],\"scatter3d\":[{\"line\":{\"colorbar\":{\"outlinewidth\":0,\"ticks\":\"\"}},\"marker\":{\"colorbar\":{\"outlinewidth\":0,\"ticks\":\"\"}},\"type\":\"scatter3d\"}],\"scattercarpet\":[{\"marker\":{\"colorbar\":{\"outlinewidth\":0,\"ticks\":\"\"}},\"type\":\"scattercarpet\"}],\"scattergeo\":[{\"marker\":{\"colorbar\":{\"outlinewidth\":0,\"ticks\":\"\"}},\"type\":\"scattergeo\"}],\"scattergl\":[{\"marker\":{\"colorbar\":{\"outlinewidth\":0,\"ticks\":\"\"}},\"type\":\"scattergl\"}],\"scattermapbox\":[{\"marker\":{\"colorbar\":{\"outlinewidth\":0,\"ticks\":\"\"}},\"type\":\"scattermapbox\"}],\"scatterpolargl\":[{\"marker\":{\"colorbar\":{\"outlinewidth\":0,\"ticks\":\"\"}},\"type\":\"scatterpolargl\"}],\"scatterpolar\":[{\"marker\":{\"colorbar\":{\"outlinewidth\":0,\"ticks\":\"\"}},\"type\":\"scatterpolar\"}],\"scatter\":[{\"fillpattern\":{\"fillmode\":\"overlay\",\"size\":10,\"solidity\":0.2},\"type\":\"scatter\"}],\"scatterternary\":[{\"marker\":{\"colorbar\":{\"outlinewidth\":0,\"ticks\":\"\"}},\"type\":\"scatterternary\"}],\"surface\":[{\"colorbar\":{\"outlinewidth\":0,\"ticks\":\"\"},\"colorscale\":[[0.0,\"#0d0887\"],[0.1111111111111111,\"#46039f\"],[0.2222222222222222,\"#7201a8\"],[0.3333333333333333,\"#9c179e\"],[0.4444444444444444,\"#bd3786\"],[0.5555555555555556,\"#d8576b\"],[0.6666666666666666,\"#ed7953\"],[0.7777777777777778,\"#fb9f3a\"],[0.8888888888888888,\"#fdca26\"],[1.0,\"#f0f921\"]],\"type\":\"surface\"}],\"table\":[{\"cells\":{\"fill\":{\"color\":\"#EBF0F8\"},\"line\":{\"color\":\"white\"}},\"header\":{\"fill\":{\"color\":\"#C8D4E3\"},\"line\":{\"color\":\"white\"}},\"type\":\"table\"}]},\"layout\":{\"annotationdefaults\":{\"arrowcolor\":\"#2a3f5f\",\"arrowhead\":0,\"arrowwidth\":1},\"autotypenumbers\":\"strict\",\"coloraxis\":{\"colorbar\":{\"outlinewidth\":0,\"ticks\":\"\"}},\"colorscale\":{\"diverging\":[[0,\"#8e0152\"],[0.1,\"#c51b7d\"],[0.2,\"#de77ae\"],[0.3,\"#f1b6da\"],[0.4,\"#fde0ef\"],[0.5,\"#f7f7f7\"],[0.6,\"#e6f5d0\"],[0.7,\"#b8e186\"],[0.8,\"#7fbc41\"],[0.9,\"#4d9221\"],[1,\"#276419\"]],\"sequential\":[[0.0,\"#0d0887\"],[0.1111111111111111,\"#46039f\"],[0.2222222222222222,\"#7201a8\"],[0.3333333333333333,\"#9c179e\"],[0.4444444444444444,\"#bd3786\"],[0.5555555555555556,\"#d8576b\"],[0.6666666666666666,\"#ed7953\"],[0.7777777777777778,\"#fb9f3a\"],[0.8888888888888888,\"#fdca26\"],[1.0,\"#f0f921\"]],\"sequentialminus\":[[0.0,\"#0d0887\"],[0.1111111111111111,\"#46039f\"],[0.2222222222222222,\"#7201a8\"],[0.3333333333333333,\"#9c179e\"],[0.4444444444444444,\"#bd3786\"],[0.5555555555555556,\"#d8576b\"],[0.6666666666666666,\"#ed7953\"],[0.7777777777777778,\"#fb9f3a\"],[0.8888888888888888,\"#fdca26\"],[1.0,\"#f0f921\"]]},\"colorway\":[\"#636efa\",\"#EF553B\",\"#00cc96\",\"#ab63fa\",\"#FFA15A\",\"#19d3f3\",\"#FF6692\",\"#B6E880\",\"#FF97FF\",\"#FECB52\"],\"font\":{\"color\":\"#2a3f5f\"},\"geo\":{\"bgcolor\":\"white\",\"lakecolor\":\"white\",\"landcolor\":\"#E5ECF6\",\"showlakes\":true,\"showland\":true,\"subunitcolor\":\"white\"},\"hoverlabel\":{\"align\":\"left\"},\"hovermode\":\"closest\",\"mapbox\":{\"style\":\"light\"},\"paper_bgcolor\":\"white\",\"plot_bgcolor\":\"#E5ECF6\",\"polar\":{\"angularaxis\":{\"gridcolor\":\"white\",\"linecolor\":\"white\",\"ticks\":\"\"},\"bgcolor\":\"#E5ECF6\",\"radialaxis\":{\"gridcolor\":\"white\",\"linecolor\":\"white\",\"ticks\":\"\"}},\"scene\":{\"xaxis\":{\"backgroundcolor\":\"#E5ECF6\",\"gridcolor\":\"white\",\"gridwidth\":2,\"linecolor\":\"white\",\"showbackground\":true,\"ticks\":\"\",\"zerolinecolor\":\"white\"},\"yaxis\":{\"backgroundcolor\":\"#E5ECF6\",\"gridcolor\":\"white\",\"gridwidth\":2,\"linecolor\":\"white\",\"showbackground\":true,\"ticks\":\"\",\"zerolinecolor\":\"white\"},\"zaxis\":{\"backgroundcolor\":\"#E5ECF6\",\"gridcolor\":\"white\",\"gridwidth\":2,\"linecolor\":\"white\",\"showbackground\":true,\"ticks\":\"\",\"zerolinecolor\":\"white\"}},\"shapedefaults\":{\"line\":{\"color\":\"#2a3f5f\"}},\"ternary\":{\"aaxis\":{\"gridcolor\":\"white\",\"linecolor\":\"white\",\"ticks\":\"\"},\"baxis\":{\"gridcolor\":\"white\",\"linecolor\":\"white\",\"ticks\":\"\"},\"bgcolor\":\"#E5ECF6\",\"caxis\":{\"gridcolor\":\"white\",\"linecolor\":\"white\",\"ticks\":\"\"}},\"title\":{\"x\":0.05},\"xaxis\":{\"automargin\":true,\"gridcolor\":\"white\",\"linecolor\":\"white\",\"ticks\":\"\",\"title\":{\"standoff\":15},\"zerolinecolor\":\"white\",\"zerolinewidth\":2},\"yaxis\":{\"automargin\":true,\"gridcolor\":\"white\",\"linecolor\":\"white\",\"ticks\":\"\",\"title\":{\"standoff\":15},\"zerolinecolor\":\"white\",\"zerolinewidth\":2}}},\"title\":{\"font\":{\"color\":\"#4D5663\"}},\"xaxis\":{\"anchor\":\"y\",\"domain\":[0.0,0.2125],\"gridcolor\":\"#E1E5ED\",\"showgrid\":false,\"tickfont\":{\"color\":\"#4D5663\"},\"title\":{\"font\":{\"color\":\"#4D5663\"},\"text\":\"\"},\"zerolinecolor\":\"#E1E5ED\"},\"yaxis\":{\"anchor\":\"x\",\"domain\":[0.8025,1.0],\"gridcolor\":\"#E1E5ED\",\"showgrid\":false,\"tickfont\":{\"color\":\"#4D5663\"},\"title\":{\"font\":{\"color\":\"#4D5663\"},\"text\":\"\"},\"zerolinecolor\":\"#E1E5ED\"},\"xaxis2\":{\"anchor\":\"y2\",\"domain\":[0.2625,0.475],\"gridcolor\":\"#E1E5ED\",\"showgrid\":false,\"tickfont\":{\"color\":\"#4D5663\"},\"title\":{\"font\":{\"color\":\"#4D5663\"},\"text\":\"\"},\"zerolinecolor\":\"#E1E5ED\"},\"yaxis2\":{\"anchor\":\"x2\",\"domain\":[0.8025,1.0],\"gridcolor\":\"#E1E5ED\",\"showgrid\":false,\"tickfont\":{\"color\":\"#4D5663\"},\"title\":{\"font\":{\"color\":\"#4D5663\"},\"text\":\"\"},\"zerolinecolor\":\"#E1E5ED\"},\"xaxis3\":{\"anchor\":\"y3\",\"domain\":[0.525,0.7375],\"gridcolor\":\"#E1E5ED\",\"showgrid\":false,\"tickfont\":{\"color\":\"#4D5663\"},\"title\":{\"font\":{\"color\":\"#4D5663\"},\"text\":\"\"},\"zerolinecolor\":\"#E1E5ED\"},\"yaxis3\":{\"anchor\":\"x3\",\"domain\":[0.8025,1.0],\"gridcolor\":\"#E1E5ED\",\"showgrid\":false,\"tickfont\":{\"color\":\"#4D5663\"},\"title\":{\"font\":{\"color\":\"#4D5663\"},\"text\":\"\"},\"zerolinecolor\":\"#E1E5ED\"},\"xaxis4\":{\"anchor\":\"y4\",\"domain\":[0.7875,1.0],\"gridcolor\":\"#E1E5ED\",\"showgrid\":false,\"tickfont\":{\"color\":\"#4D5663\"},\"title\":{\"font\":{\"color\":\"#4D5663\"},\"text\":\"\"},\"zerolinecolor\":\"#E1E5ED\"},\"yaxis4\":{\"anchor\":\"x4\",\"domain\":[0.8025,1.0],\"gridcolor\":\"#E1E5ED\",\"showgrid\":false,\"tickfont\":{\"color\":\"#4D5663\"},\"title\":{\"font\":{\"color\":\"#4D5663\"},\"text\":\"\"},\"zerolinecolor\":\"#E1E5ED\"},\"xaxis5\":{\"anchor\":\"y5\",\"domain\":[0.0,0.2125],\"gridcolor\":\"#E1E5ED\",\"showgrid\":false,\"tickfont\":{\"color\":\"#4D5663\"},\"title\":{\"font\":{\"color\":\"#4D5663\"},\"text\":\"\"},\"zerolinecolor\":\"#E1E5ED\"},\"yaxis5\":{\"anchor\":\"x5\",\"domain\":[0.535,0.7325],\"gridcolor\":\"#E1E5ED\",\"showgrid\":false,\"tickfont\":{\"color\":\"#4D5663\"},\"title\":{\"font\":{\"color\":\"#4D5663\"},\"text\":\"\"},\"zerolinecolor\":\"#E1E5ED\"},\"xaxis6\":{\"anchor\":\"y6\",\"domain\":[0.2625,0.475],\"gridcolor\":\"#E1E5ED\",\"showgrid\":false,\"tickfont\":{\"color\":\"#4D5663\"},\"title\":{\"font\":{\"color\":\"#4D5663\"},\"text\":\"\"},\"zerolinecolor\":\"#E1E5ED\"},\"yaxis6\":{\"anchor\":\"x6\",\"domain\":[0.535,0.7325],\"gridcolor\":\"#E1E5ED\",\"showgrid\":false,\"tickfont\":{\"color\":\"#4D5663\"},\"title\":{\"font\":{\"color\":\"#4D5663\"},\"text\":\"\"},\"zerolinecolor\":\"#E1E5ED\"},\"xaxis7\":{\"anchor\":\"y7\",\"domain\":[0.525,0.7375],\"gridcolor\":\"#E1E5ED\",\"showgrid\":false,\"tickfont\":{\"color\":\"#4D5663\"},\"title\":{\"font\":{\"color\":\"#4D5663\"},\"text\":\"\"},\"zerolinecolor\":\"#E1E5ED\"},\"yaxis7\":{\"anchor\":\"x7\",\"domain\":[0.535,0.7325],\"gridcolor\":\"#E1E5ED\",\"showgrid\":false,\"tickfont\":{\"color\":\"#4D5663\"},\"title\":{\"font\":{\"color\":\"#4D5663\"},\"text\":\"\"},\"zerolinecolor\":\"#E1E5ED\"},\"xaxis8\":{\"anchor\":\"y8\",\"domain\":[0.7875,1.0],\"gridcolor\":\"#E1E5ED\",\"showgrid\":false,\"tickfont\":{\"color\":\"#4D5663\"},\"title\":{\"font\":{\"color\":\"#4D5663\"},\"text\":\"\"},\"zerolinecolor\":\"#E1E5ED\"},\"yaxis8\":{\"anchor\":\"x8\",\"domain\":[0.535,0.7325],\"gridcolor\":\"#E1E5ED\",\"showgrid\":false,\"tickfont\":{\"color\":\"#4D5663\"},\"title\":{\"font\":{\"color\":\"#4D5663\"},\"text\":\"\"},\"zerolinecolor\":\"#E1E5ED\"},\"xaxis9\":{\"anchor\":\"y9\",\"domain\":[0.0,0.2125],\"gridcolor\":\"#E1E5ED\",\"showgrid\":false,\"tickfont\":{\"color\":\"#4D5663\"},\"title\":{\"font\":{\"color\":\"#4D5663\"},\"text\":\"\"},\"zerolinecolor\":\"#E1E5ED\"},\"yaxis9\":{\"anchor\":\"x9\",\"domain\":[0.2675,0.465],\"gridcolor\":\"#E1E5ED\",\"showgrid\":false,\"tickfont\":{\"color\":\"#4D5663\"},\"title\":{\"font\":{\"color\":\"#4D5663\"},\"text\":\"\"},\"zerolinecolor\":\"#E1E5ED\"},\"xaxis10\":{\"anchor\":\"y10\",\"domain\":[0.2625,0.475],\"gridcolor\":\"#E1E5ED\",\"showgrid\":false,\"tickfont\":{\"color\":\"#4D5663\"},\"title\":{\"font\":{\"color\":\"#4D5663\"},\"text\":\"\"},\"zerolinecolor\":\"#E1E5ED\"},\"yaxis10\":{\"anchor\":\"x10\",\"domain\":[0.2675,0.465],\"gridcolor\":\"#E1E5ED\",\"showgrid\":false,\"tickfont\":{\"color\":\"#4D5663\"},\"title\":{\"font\":{\"color\":\"#4D5663\"},\"text\":\"\"},\"zerolinecolor\":\"#E1E5ED\"},\"xaxis11\":{\"anchor\":\"y11\",\"domain\":[0.525,0.7375],\"gridcolor\":\"#E1E5ED\",\"showgrid\":false,\"tickfont\":{\"color\":\"#4D5663\"},\"title\":{\"font\":{\"color\":\"#4D5663\"},\"text\":\"\"},\"zerolinecolor\":\"#E1E5ED\"},\"yaxis11\":{\"anchor\":\"x11\",\"domain\":[0.2675,0.465],\"gridcolor\":\"#E1E5ED\",\"showgrid\":false,\"tickfont\":{\"color\":\"#4D5663\"},\"title\":{\"font\":{\"color\":\"#4D5663\"},\"text\":\"\"},\"zerolinecolor\":\"#E1E5ED\"},\"xaxis12\":{\"anchor\":\"y12\",\"domain\":[0.7875,1.0],\"gridcolor\":\"#E1E5ED\",\"showgrid\":false,\"tickfont\":{\"color\":\"#4D5663\"},\"title\":{\"font\":{\"color\":\"#4D5663\"},\"text\":\"\"},\"zerolinecolor\":\"#E1E5ED\"},\"yaxis12\":{\"anchor\":\"x12\",\"domain\":[0.2675,0.465],\"gridcolor\":\"#E1E5ED\",\"showgrid\":false,\"tickfont\":{\"color\":\"#4D5663\"},\"title\":{\"font\":{\"color\":\"#4D5663\"},\"text\":\"\"},\"zerolinecolor\":\"#E1E5ED\"},\"xaxis13\":{\"anchor\":\"y13\",\"domain\":[0.0,0.2125],\"gridcolor\":\"#E1E5ED\",\"showgrid\":false,\"tickfont\":{\"color\":\"#4D5663\"},\"title\":{\"font\":{\"color\":\"#4D5663\"},\"text\":\"\"},\"zerolinecolor\":\"#E1E5ED\"},\"yaxis13\":{\"anchor\":\"x13\",\"domain\":[0.0,0.1975],\"gridcolor\":\"#E1E5ED\",\"showgrid\":false,\"tickfont\":{\"color\":\"#4D5663\"},\"title\":{\"font\":{\"color\":\"#4D5663\"},\"text\":\"\"},\"zerolinecolor\":\"#E1E5ED\"},\"xaxis14\":{\"anchor\":\"y14\",\"domain\":[0.2625,0.475],\"gridcolor\":\"#E1E5ED\",\"showgrid\":false,\"tickfont\":{\"color\":\"#4D5663\"},\"title\":{\"font\":{\"color\":\"#4D5663\"},\"text\":\"\"},\"zerolinecolor\":\"#E1E5ED\"},\"yaxis14\":{\"anchor\":\"x14\",\"domain\":[0.0,0.1975],\"gridcolor\":\"#E1E5ED\",\"showgrid\":false,\"tickfont\":{\"color\":\"#4D5663\"},\"title\":{\"font\":{\"color\":\"#4D5663\"},\"text\":\"\"},\"zerolinecolor\":\"#E1E5ED\"},\"xaxis15\":{\"anchor\":\"y15\",\"domain\":[0.525,0.7375],\"gridcolor\":\"#E1E5ED\",\"showgrid\":false,\"tickfont\":{\"color\":\"#4D5663\"},\"title\":{\"font\":{\"color\":\"#4D5663\"},\"text\":\"\"},\"zerolinecolor\":\"#E1E5ED\"},\"yaxis15\":{\"anchor\":\"x15\",\"domain\":[0.0,0.1975],\"gridcolor\":\"#E1E5ED\",\"showgrid\":false,\"tickfont\":{\"color\":\"#4D5663\"},\"title\":{\"font\":{\"color\":\"#4D5663\"},\"text\":\"\"},\"zerolinecolor\":\"#E1E5ED\"},\"xaxis16\":{\"anchor\":\"y16\",\"domain\":[0.7875,1.0],\"gridcolor\":\"#E1E5ED\",\"showgrid\":false,\"tickfont\":{\"color\":\"#4D5663\"},\"title\":{\"font\":{\"color\":\"#4D5663\"},\"text\":\"\"},\"zerolinecolor\":\"#E1E5ED\"},\"yaxis16\":{\"anchor\":\"x16\",\"domain\":[0.0,0.1975],\"gridcolor\":\"#E1E5ED\",\"showgrid\":false,\"tickfont\":{\"color\":\"#4D5663\"},\"title\":{\"font\":{\"color\":\"#4D5663\"},\"text\":\"\"},\"zerolinecolor\":\"#E1E5ED\"}},                        {\"showLink\": true, \"linkText\": \"Export to plot.ly\", \"plotlyServerURL\": \"https://plot.ly\", \"responsive\": true}                    ).then(function(){\n",
       "                            \n",
       "var gd = document.getElementById('f711c411-260c-4ba1-8efd-e9568c71ac0f');\n",
       "var x = new MutationObserver(function (mutations, observer) {{\n",
       "        var display = window.getComputedStyle(gd).display;\n",
       "        if (!display || display === 'none') {{\n",
       "            console.log([gd, 'removed!']);\n",
       "            Plotly.purge(gd);\n",
       "            observer.disconnect();\n",
       "        }}\n",
       "}});\n",
       "\n",
       "// Listen for the removal of the full notebook cells\n",
       "var notebookContainer = gd.closest('#notebook-container');\n",
       "if (notebookContainer) {{\n",
       "    x.observe(notebookContainer, {childList: true});\n",
       "}}\n",
       "\n",
       "// Listen for the clearing of the current output cell\n",
       "var outputEl = gd.closest('.output');\n",
       "if (outputEl) {{\n",
       "    x.observe(outputEl, {childList: true});\n",
       "}}\n",
       "\n",
       "                        })                };                });            </script>        </div>"
      ]
     },
     "metadata": {},
     "output_type": "display_data"
    }
   ],
   "source": [
    "df.scatter_matrix()"
   ]
  },
  {
   "cell_type": "markdown",
   "metadata": {
    "collapsed": true
   },
   "source": [
    "# Great Job!"
   ]
  }
 ],
 "metadata": {
  "kernelspec": {
   "display_name": "Python 3 (ipykernel)",
   "language": "python",
   "name": "python3"
  },
  "language_info": {
   "codemirror_mode": {
    "name": "ipython",
    "version": 3
   },
   "file_extension": ".py",
   "mimetype": "text/x-python",
   "name": "python",
   "nbconvert_exporter": "python",
   "pygments_lexer": "ipython3",
   "version": "3.10.9"
  }
 },
 "nbformat": 4,
 "nbformat_minor": 1
}
