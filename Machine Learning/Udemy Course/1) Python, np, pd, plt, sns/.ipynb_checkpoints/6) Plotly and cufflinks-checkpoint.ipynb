{
 "cells": [
  {
   "cell_type": "markdown",
   "metadata": {},
   "source": [
    "___\n",
    "\n",
    "<a href='http://www.pieriandata.com'> <img src='../Pierian_Data_Logo.png' /></a>\n",
    "___\n",
    "# Plotly and Cufflinks"
   ]
  },
  {
   "cell_type": "markdown",
   "metadata": {},
   "source": [
    "Plotly is a library that allows you to create interactive plots that you can use in dashboards or websites (you can save them as html files or static images).\n",
    "\n",
    "## Installation\n",
    "\n",
    "In order for this all to work, you'll need to install plotly and cufflinks to call plots directly off of a pandas dataframe. These libraries are not currently available through **conda** but are available through **pip**. Install the libraries at your command line/terminal using:\n",
    "\n",
    "    pip install plotly\n",
    "    pip install cufflinks\n",
    "\n",
    "** NOTE: Make sure you only have one installation of Python on your computer when you do this, otherwise the installation may not work. **\n",
    "\n",
    "## Imports and Set-up"
   ]
  },
  {
   "cell_type": "code",
   "execution_count": 1,
   "metadata": {},
   "outputs": [
    {
     "data": {
      "text/html": [
       "        <script type=\"text/javascript\">\n",
       "        window.PlotlyConfig = {MathJaxConfig: 'local'};\n",
       "        if (window.MathJax && window.MathJax.Hub && window.MathJax.Hub.Config) {window.MathJax.Hub.Config({SVG: {font: \"STIX-Web\"}});}\n",
       "        if (typeof require !== 'undefined') {\n",
       "        require.undef(\"plotly\");\n",
       "        requirejs.config({\n",
       "            paths: {\n",
       "                'plotly': ['https://cdn.plot.ly/plotly-2.12.1.min']\n",
       "            }\n",
       "        });\n",
       "        require(['plotly'], function(Plotly) {\n",
       "            window._Plotly = Plotly;\n",
       "        });\n",
       "        }\n",
       "        </script>\n",
       "        "
      ]
     },
     "metadata": {},
     "output_type": "display_data"
    },
    {
     "data": {
      "text/html": [
       "        <script type=\"text/javascript\">\n",
       "        window.PlotlyConfig = {MathJaxConfig: 'local'};\n",
       "        if (window.MathJax && window.MathJax.Hub && window.MathJax.Hub.Config) {window.MathJax.Hub.Config({SVG: {font: \"STIX-Web\"}});}\n",
       "        if (typeof require !== 'undefined') {\n",
       "        require.undef(\"plotly\");\n",
       "        requirejs.config({\n",
       "            paths: {\n",
       "                'plotly': ['https://cdn.plot.ly/plotly-2.12.1.min']\n",
       "            }\n",
       "        });\n",
       "        require(['plotly'], function(Plotly) {\n",
       "            window._Plotly = Plotly;\n",
       "        });\n",
       "        }\n",
       "        </script>\n",
       "        "
      ]
     },
     "metadata": {},
     "output_type": "display_data"
    }
   ],
   "source": [
    "import pandas as pd\n",
    "import numpy as np\n",
    "%matplotlib inline\n",
    "\n",
    "\n",
    "from plotly import __version__\n",
    "from plotly.offline import download_plotlyjs, init_notebook_mode, plot, iplot\n",
    "import cufflinks as cf\n",
    "\n",
    "# For Notebooks\n",
    "init_notebook_mode(connected=True)\n",
    "\n",
    "# For offline use\n",
    "cf.go_offline()"
   ]
  },
  {
   "cell_type": "markdown",
   "metadata": {},
   "source": [
    "### Fake Data"
   ]
  },
  {
   "cell_type": "code",
   "execution_count": 2,
   "metadata": {},
   "outputs": [],
   "source": [
    "df = pd.DataFrame(np.random.randn(100,4),columns='A B C D'.split())"
   ]
  },
  {
   "cell_type": "code",
   "execution_count": 3,
   "metadata": {},
   "outputs": [
    {
     "data": {
      "text/html": [
       "<div>\n",
       "<style scoped>\n",
       "    .dataframe tbody tr th:only-of-type {\n",
       "        vertical-align: middle;\n",
       "    }\n",
       "\n",
       "    .dataframe tbody tr th {\n",
       "        vertical-align: top;\n",
       "    }\n",
       "\n",
       "    .dataframe thead th {\n",
       "        text-align: right;\n",
       "    }\n",
       "</style>\n",
       "<table border=\"1\" class=\"dataframe\">\n",
       "  <thead>\n",
       "    <tr style=\"text-align: right;\">\n",
       "      <th></th>\n",
       "      <th>A</th>\n",
       "      <th>B</th>\n",
       "      <th>C</th>\n",
       "      <th>D</th>\n",
       "    </tr>\n",
       "  </thead>\n",
       "  <tbody>\n",
       "    <tr>\n",
       "      <th>0</th>\n",
       "      <td>1.767852</td>\n",
       "      <td>-0.504494</td>\n",
       "      <td>-1.820191</td>\n",
       "      <td>-1.180735</td>\n",
       "    </tr>\n",
       "    <tr>\n",
       "      <th>1</th>\n",
       "      <td>0.557486</td>\n",
       "      <td>0.988808</td>\n",
       "      <td>-0.405337</td>\n",
       "      <td>2.335222</td>\n",
       "    </tr>\n",
       "    <tr>\n",
       "      <th>2</th>\n",
       "      <td>-0.213630</td>\n",
       "      <td>2.962068</td>\n",
       "      <td>-0.506108</td>\n",
       "      <td>-1.619757</td>\n",
       "    </tr>\n",
       "    <tr>\n",
       "      <th>3</th>\n",
       "      <td>-0.004351</td>\n",
       "      <td>-0.878996</td>\n",
       "      <td>1.192214</td>\n",
       "      <td>0.902835</td>\n",
       "    </tr>\n",
       "    <tr>\n",
       "      <th>4</th>\n",
       "      <td>1.776700</td>\n",
       "      <td>-0.596177</td>\n",
       "      <td>-1.287865</td>\n",
       "      <td>1.610926</td>\n",
       "    </tr>\n",
       "  </tbody>\n",
       "</table>\n",
       "</div>"
      ],
      "text/plain": [
       "          A         B         C         D\n",
       "0  1.767852 -0.504494 -1.820191 -1.180735\n",
       "1  0.557486  0.988808 -0.405337  2.335222\n",
       "2 -0.213630  2.962068 -0.506108 -1.619757\n",
       "3 -0.004351 -0.878996  1.192214  0.902835\n",
       "4  1.776700 -0.596177 -1.287865  1.610926"
      ]
     },
     "execution_count": 3,
     "metadata": {},
     "output_type": "execute_result"
    }
   ],
   "source": [
    "df.head()"
   ]
  },
  {
   "cell_type": "code",
   "execution_count": 4,
   "metadata": {},
   "outputs": [],
   "source": [
    "df2 = pd.DataFrame({'Category':['A','B','C'],'Values':[32,43,50]})"
   ]
  },
  {
   "cell_type": "code",
   "execution_count": 5,
   "metadata": {},
   "outputs": [
    {
     "data": {
      "text/html": [
       "<div>\n",
       "<style scoped>\n",
       "    .dataframe tbody tr th:only-of-type {\n",
       "        vertical-align: middle;\n",
       "    }\n",
       "\n",
       "    .dataframe tbody tr th {\n",
       "        vertical-align: top;\n",
       "    }\n",
       "\n",
       "    .dataframe thead th {\n",
       "        text-align: right;\n",
       "    }\n",
       "</style>\n",
       "<table border=\"1\" class=\"dataframe\">\n",
       "  <thead>\n",
       "    <tr style=\"text-align: right;\">\n",
       "      <th></th>\n",
       "      <th>Category</th>\n",
       "      <th>Values</th>\n",
       "    </tr>\n",
       "  </thead>\n",
       "  <tbody>\n",
       "    <tr>\n",
       "      <th>0</th>\n",
       "      <td>A</td>\n",
       "      <td>32</td>\n",
       "    </tr>\n",
       "    <tr>\n",
       "      <th>1</th>\n",
       "      <td>B</td>\n",
       "      <td>43</td>\n",
       "    </tr>\n",
       "    <tr>\n",
       "      <th>2</th>\n",
       "      <td>C</td>\n",
       "      <td>50</td>\n",
       "    </tr>\n",
       "  </tbody>\n",
       "</table>\n",
       "</div>"
      ],
      "text/plain": [
       "  Category  Values\n",
       "0        A      32\n",
       "1        B      43\n",
       "2        C      50"
      ]
     },
     "execution_count": 5,
     "metadata": {},
     "output_type": "execute_result"
    }
   ],
   "source": [
    "df2.head()"
   ]
  },
  {
   "cell_type": "markdown",
   "metadata": {},
   "source": [
    "## Using Cufflinks and iplot()\n",
    "\n",
    "* scatter\n",
    "* bar\n",
    "* box\n",
    "* spread\n",
    "* ratio\n",
    "* heatmap\n",
    "* surface\n",
    "* histogram\n",
    "* bubble"
   ]
  },
  {
   "cell_type": "markdown",
   "metadata": {},
   "source": [
    "## Scatter"
   ]
  },
  {
   "cell_type": "code",
   "execution_count": 6,
   "metadata": {},
   "outputs": [
    {
     "data": {
      "application/vnd.plotly.v1+json": {
       "config": {
        "linkText": "Export to plot.ly",
        "plotlyServerURL": "https://plot.ly",
        "showLink": true
       },
       "data": [
        {
         "line": {
          "color": "rgba(255, 153, 51, 1.0)",
          "dash": "solid",
          "shape": "linear",
          "width": 1.3
         },
         "marker": {
          "size": 10,
          "symbol": "circle"
         },
         "mode": "markers",
         "name": "B",
         "text": "",
         "type": "scatter",
         "x": [
          1.7678515456907136,
          0.5574856580952305,
          -0.21363049583055474,
          -0.004351036570748041,
          1.7767003172794058,
          -0.9334138647986685,
          1.1304808417686179,
          0.6259673962193651,
          -0.32574810228326134,
          -0.1314461917476808,
          -1.026099740614713,
          1.4479027043794217,
          -0.7324036394879013,
          1.3638350653158162,
          0.39630123683757945,
          0.8552727269772812,
          0.556442238768529,
          -0.7228064270996896,
          0.22293755751174835,
          -1.2082858262037768,
          0.9335405006960275,
          -1.2550530627542957,
          0.4467812267087743,
          0.10029132132103305,
          -0.0549413599185377,
          -1.3333184037642272,
          -1.3301680594098622,
          -0.7769596473116724,
          1.0903101769330352,
          -0.8777530739281518,
          0.47434726364288193,
          -0.41172400734401376,
          1.8406953795409298,
          -1.1950680072719775,
          -1.8362013663508012,
          1.179099927241798,
          0.8161597425274931,
          -0.874575413587495,
          -1.5480799123989284,
          0.38698290337957475,
          0.23717793196131678,
          0.19455267577594007,
          -0.8356082236548912,
          -2.2865479585455635,
          0.16634216318820633,
          -0.46122556641627444,
          -2.4094331248490484,
          0.3792702082051058,
          -0.7537096573938259,
          -0.759773123023279,
          0.8266482805597588,
          -1.0505006686540792,
          -0.15248344190761204,
          0.33598820905109306,
          -0.15974082243051765,
          0.8298682402617803,
          2.048597015286573,
          -0.255888630503058,
          -0.3669703838315419,
          -0.7260150403276863,
          1.4830320669622425,
          1.2370722898310813,
          1.6086441137657619,
          -0.45513715595293935,
          0.041818858058306776,
          -0.8630825576383753,
          -0.5510868008972226,
          -1.7331002160136844,
          1.094703385652114,
          0.11953874990716992,
          -0.6683136044821177,
          0.34599573563462505,
          -0.8319700524687987,
          -0.558261484573633,
          0.5030434040002801,
          0.6619721971501331,
          0.7818169444348697,
          -1.0897772248158428,
          -0.26427788527573237,
          -0.872217187223391,
          1.076038386332144,
          0.46941249058773576,
          -1.6653597079445228,
          -0.9531239576661726,
          0.2684194351671944,
          1.2397589831101998,
          -0.007990690617178655,
          -1.321950623693112,
          0.6809604552532404,
          1.2779317283832747,
          0.14449547116258432,
          -0.630375829713827,
          1.3946080794601639,
          -0.40166706464735724,
          0.35770716033720257,
          0.35722053214901406,
          1.0364875764023738,
          2.1454701108264893,
          1.370139380136401,
          -0.38450430586042783
         ],
         "y": [
          -0.5044942157545312,
          0.9888079420118232,
          2.9620680407643136,
          -0.8789960931170367,
          -0.5961772819016423,
          0.967688669792416,
          -0.30943339838483885,
          -0.964594537403104,
          -0.836742028077735,
          0.6837214282723483,
          2.1148598036106416,
          1.333928221051847,
          -0.15938807086833995,
          -0.4894942830770963,
          -0.37006575779613216,
          1.1026545609048777,
          0.5630207275529113,
          -1.4192173368675955,
          -0.5480468910450349,
          2.8716050981906327,
          1.2435943906567244,
          0.37357369531247503,
          0.37506127823100743,
          1.6049709934739458,
          -0.47270842030216825,
          0.5239023663911087,
          0.062033033799205,
          0.08291640751423532,
          -0.5829462865942209,
          1.4983306749026488,
          -1.0408969676787778,
          -2.1629858241103914,
          1.6422521446910348,
          -0.15868897935445367,
          0.37357393201209904,
          0.2274780237281322,
          -0.15852313872673549,
          -0.4722233032766944,
          1.0380141282313096,
          1.4264846036211958,
          0.07827925875641766,
          -0.545800770626657,
          0.9845828289203694,
          1.3195592923527997,
          0.5490608948134178,
          -0.1415638073954051,
          -0.6516249038568959,
          -0.7395594895353859,
          -0.6412458750835105,
          -0.25840521061978156,
          1.118167889564803,
          -2.280860698263176,
          -0.8401468839715613,
          -0.04322526654247106,
          -0.07284643005540295,
          0.04391872945696018,
          -2.3001339080663836,
          1.0646541570241572,
          -2.251336395475597,
          -1.3468068532341253,
          -0.3207741538563641,
          0.6305921908091108,
          -0.24008228934501483,
          -0.0022307686225104062,
          1.3895549980239637,
          0.34777396370618113,
          -2.0785013494076794,
          -1.6486984731387868,
          0.8857283314402425,
          0.6833531331085659,
          0.12459556402099713,
          0.0831977004120792,
          1.672604351977852,
          0.14773585534981465,
          -0.7217092256636978,
          0.051001802110237714,
          -0.8384015454027037,
          0.6731042370435385,
          0.17304838753909765,
          -0.8232932608854376,
          0.767028815641581,
          -1.8104429941045004,
          1.8282580189982574,
          -0.523451238059469,
          1.8537992937385805,
          -0.3061469383127988,
          -0.06149910457886894,
          -0.2661031019289138,
          0.5949325643958282,
          -0.7758866651392171,
          0.5112661409862509,
          -1.271072249577671,
          0.7483241333480513,
          1.789665739230297,
          -0.505722738272695,
          1.3412466063005661,
          1.2191913846284896,
          -0.0580815975615273,
          -0.5507407904374377,
          1.5898268484313995
         ]
        }
       ],
       "layout": {
        "legend": {
         "bgcolor": "#F5F6F9",
         "font": {
          "color": "#4D5663"
         }
        },
        "paper_bgcolor": "#F5F6F9",
        "plot_bgcolor": "#F5F6F9",
        "template": {
         "data": {
          "bar": [
           {
            "error_x": {
             "color": "#2a3f5f"
            },
            "error_y": {
             "color": "#2a3f5f"
            },
            "marker": {
             "line": {
              "color": "#E5ECF6",
              "width": 0.5
             },
             "pattern": {
              "fillmode": "overlay",
              "size": 10,
              "solidity": 0.2
             }
            },
            "type": "bar"
           }
          ],
          "barpolar": [
           {
            "marker": {
             "line": {
              "color": "#E5ECF6",
              "width": 0.5
             },
             "pattern": {
              "fillmode": "overlay",
              "size": 10,
              "solidity": 0.2
             }
            },
            "type": "barpolar"
           }
          ],
          "carpet": [
           {
            "aaxis": {
             "endlinecolor": "#2a3f5f",
             "gridcolor": "white",
             "linecolor": "white",
             "minorgridcolor": "white",
             "startlinecolor": "#2a3f5f"
            },
            "baxis": {
             "endlinecolor": "#2a3f5f",
             "gridcolor": "white",
             "linecolor": "white",
             "minorgridcolor": "white",
             "startlinecolor": "#2a3f5f"
            },
            "type": "carpet"
           }
          ],
          "choropleth": [
           {
            "colorbar": {
             "outlinewidth": 0,
             "ticks": ""
            },
            "type": "choropleth"
           }
          ],
          "contour": [
           {
            "colorbar": {
             "outlinewidth": 0,
             "ticks": ""
            },
            "colorscale": [
             [
              0,
              "#0d0887"
             ],
             [
              0.1111111111111111,
              "#46039f"
             ],
             [
              0.2222222222222222,
              "#7201a8"
             ],
             [
              0.3333333333333333,
              "#9c179e"
             ],
             [
              0.4444444444444444,
              "#bd3786"
             ],
             [
              0.5555555555555556,
              "#d8576b"
             ],
             [
              0.6666666666666666,
              "#ed7953"
             ],
             [
              0.7777777777777778,
              "#fb9f3a"
             ],
             [
              0.8888888888888888,
              "#fdca26"
             ],
             [
              1,
              "#f0f921"
             ]
            ],
            "type": "contour"
           }
          ],
          "contourcarpet": [
           {
            "colorbar": {
             "outlinewidth": 0,
             "ticks": ""
            },
            "type": "contourcarpet"
           }
          ],
          "heatmap": [
           {
            "colorbar": {
             "outlinewidth": 0,
             "ticks": ""
            },
            "colorscale": [
             [
              0,
              "#0d0887"
             ],
             [
              0.1111111111111111,
              "#46039f"
             ],
             [
              0.2222222222222222,
              "#7201a8"
             ],
             [
              0.3333333333333333,
              "#9c179e"
             ],
             [
              0.4444444444444444,
              "#bd3786"
             ],
             [
              0.5555555555555556,
              "#d8576b"
             ],
             [
              0.6666666666666666,
              "#ed7953"
             ],
             [
              0.7777777777777778,
              "#fb9f3a"
             ],
             [
              0.8888888888888888,
              "#fdca26"
             ],
             [
              1,
              "#f0f921"
             ]
            ],
            "type": "heatmap"
           }
          ],
          "heatmapgl": [
           {
            "colorbar": {
             "outlinewidth": 0,
             "ticks": ""
            },
            "colorscale": [
             [
              0,
              "#0d0887"
             ],
             [
              0.1111111111111111,
              "#46039f"
             ],
             [
              0.2222222222222222,
              "#7201a8"
             ],
             [
              0.3333333333333333,
              "#9c179e"
             ],
             [
              0.4444444444444444,
              "#bd3786"
             ],
             [
              0.5555555555555556,
              "#d8576b"
             ],
             [
              0.6666666666666666,
              "#ed7953"
             ],
             [
              0.7777777777777778,
              "#fb9f3a"
             ],
             [
              0.8888888888888888,
              "#fdca26"
             ],
             [
              1,
              "#f0f921"
             ]
            ],
            "type": "heatmapgl"
           }
          ],
          "histogram": [
           {
            "marker": {
             "pattern": {
              "fillmode": "overlay",
              "size": 10,
              "solidity": 0.2
             }
            },
            "type": "histogram"
           }
          ],
          "histogram2d": [
           {
            "colorbar": {
             "outlinewidth": 0,
             "ticks": ""
            },
            "colorscale": [
             [
              0,
              "#0d0887"
             ],
             [
              0.1111111111111111,
              "#46039f"
             ],
             [
              0.2222222222222222,
              "#7201a8"
             ],
             [
              0.3333333333333333,
              "#9c179e"
             ],
             [
              0.4444444444444444,
              "#bd3786"
             ],
             [
              0.5555555555555556,
              "#d8576b"
             ],
             [
              0.6666666666666666,
              "#ed7953"
             ],
             [
              0.7777777777777778,
              "#fb9f3a"
             ],
             [
              0.8888888888888888,
              "#fdca26"
             ],
             [
              1,
              "#f0f921"
             ]
            ],
            "type": "histogram2d"
           }
          ],
          "histogram2dcontour": [
           {
            "colorbar": {
             "outlinewidth": 0,
             "ticks": ""
            },
            "colorscale": [
             [
              0,
              "#0d0887"
             ],
             [
              0.1111111111111111,
              "#46039f"
             ],
             [
              0.2222222222222222,
              "#7201a8"
             ],
             [
              0.3333333333333333,
              "#9c179e"
             ],
             [
              0.4444444444444444,
              "#bd3786"
             ],
             [
              0.5555555555555556,
              "#d8576b"
             ],
             [
              0.6666666666666666,
              "#ed7953"
             ],
             [
              0.7777777777777778,
              "#fb9f3a"
             ],
             [
              0.8888888888888888,
              "#fdca26"
             ],
             [
              1,
              "#f0f921"
             ]
            ],
            "type": "histogram2dcontour"
           }
          ],
          "mesh3d": [
           {
            "colorbar": {
             "outlinewidth": 0,
             "ticks": ""
            },
            "type": "mesh3d"
           }
          ],
          "parcoords": [
           {
            "line": {
             "colorbar": {
              "outlinewidth": 0,
              "ticks": ""
             }
            },
            "type": "parcoords"
           }
          ],
          "pie": [
           {
            "automargin": true,
            "type": "pie"
           }
          ],
          "scatter": [
           {
            "fillpattern": {
             "fillmode": "overlay",
             "size": 10,
             "solidity": 0.2
            },
            "type": "scatter"
           }
          ],
          "scatter3d": [
           {
            "line": {
             "colorbar": {
              "outlinewidth": 0,
              "ticks": ""
             }
            },
            "marker": {
             "colorbar": {
              "outlinewidth": 0,
              "ticks": ""
             }
            },
            "type": "scatter3d"
           }
          ],
          "scattercarpet": [
           {
            "marker": {
             "colorbar": {
              "outlinewidth": 0,
              "ticks": ""
             }
            },
            "type": "scattercarpet"
           }
          ],
          "scattergeo": [
           {
            "marker": {
             "colorbar": {
              "outlinewidth": 0,
              "ticks": ""
             }
            },
            "type": "scattergeo"
           }
          ],
          "scattergl": [
           {
            "marker": {
             "colorbar": {
              "outlinewidth": 0,
              "ticks": ""
             }
            },
            "type": "scattergl"
           }
          ],
          "scattermapbox": [
           {
            "marker": {
             "colorbar": {
              "outlinewidth": 0,
              "ticks": ""
             }
            },
            "type": "scattermapbox"
           }
          ],
          "scatterpolar": [
           {
            "marker": {
             "colorbar": {
              "outlinewidth": 0,
              "ticks": ""
             }
            },
            "type": "scatterpolar"
           }
          ],
          "scatterpolargl": [
           {
            "marker": {
             "colorbar": {
              "outlinewidth": 0,
              "ticks": ""
             }
            },
            "type": "scatterpolargl"
           }
          ],
          "scatterternary": [
           {
            "marker": {
             "colorbar": {
              "outlinewidth": 0,
              "ticks": ""
             }
            },
            "type": "scatterternary"
           }
          ],
          "surface": [
           {
            "colorbar": {
             "outlinewidth": 0,
             "ticks": ""
            },
            "colorscale": [
             [
              0,
              "#0d0887"
             ],
             [
              0.1111111111111111,
              "#46039f"
             ],
             [
              0.2222222222222222,
              "#7201a8"
             ],
             [
              0.3333333333333333,
              "#9c179e"
             ],
             [
              0.4444444444444444,
              "#bd3786"
             ],
             [
              0.5555555555555556,
              "#d8576b"
             ],
             [
              0.6666666666666666,
              "#ed7953"
             ],
             [
              0.7777777777777778,
              "#fb9f3a"
             ],
             [
              0.8888888888888888,
              "#fdca26"
             ],
             [
              1,
              "#f0f921"
             ]
            ],
            "type": "surface"
           }
          ],
          "table": [
           {
            "cells": {
             "fill": {
              "color": "#EBF0F8"
             },
             "line": {
              "color": "white"
             }
            },
            "header": {
             "fill": {
              "color": "#C8D4E3"
             },
             "line": {
              "color": "white"
             }
            },
            "type": "table"
           }
          ]
         },
         "layout": {
          "annotationdefaults": {
           "arrowcolor": "#2a3f5f",
           "arrowhead": 0,
           "arrowwidth": 1
          },
          "autotypenumbers": "strict",
          "coloraxis": {
           "colorbar": {
            "outlinewidth": 0,
            "ticks": ""
           }
          },
          "colorscale": {
           "diverging": [
            [
             0,
             "#8e0152"
            ],
            [
             0.1,
             "#c51b7d"
            ],
            [
             0.2,
             "#de77ae"
            ],
            [
             0.3,
             "#f1b6da"
            ],
            [
             0.4,
             "#fde0ef"
            ],
            [
             0.5,
             "#f7f7f7"
            ],
            [
             0.6,
             "#e6f5d0"
            ],
            [
             0.7,
             "#b8e186"
            ],
            [
             0.8,
             "#7fbc41"
            ],
            [
             0.9,
             "#4d9221"
            ],
            [
             1,
             "#276419"
            ]
           ],
           "sequential": [
            [
             0,
             "#0d0887"
            ],
            [
             0.1111111111111111,
             "#46039f"
            ],
            [
             0.2222222222222222,
             "#7201a8"
            ],
            [
             0.3333333333333333,
             "#9c179e"
            ],
            [
             0.4444444444444444,
             "#bd3786"
            ],
            [
             0.5555555555555556,
             "#d8576b"
            ],
            [
             0.6666666666666666,
             "#ed7953"
            ],
            [
             0.7777777777777778,
             "#fb9f3a"
            ],
            [
             0.8888888888888888,
             "#fdca26"
            ],
            [
             1,
             "#f0f921"
            ]
           ],
           "sequentialminus": [
            [
             0,
             "#0d0887"
            ],
            [
             0.1111111111111111,
             "#46039f"
            ],
            [
             0.2222222222222222,
             "#7201a8"
            ],
            [
             0.3333333333333333,
             "#9c179e"
            ],
            [
             0.4444444444444444,
             "#bd3786"
            ],
            [
             0.5555555555555556,
             "#d8576b"
            ],
            [
             0.6666666666666666,
             "#ed7953"
            ],
            [
             0.7777777777777778,
             "#fb9f3a"
            ],
            [
             0.8888888888888888,
             "#fdca26"
            ],
            [
             1,
             "#f0f921"
            ]
           ]
          },
          "colorway": [
           "#636efa",
           "#EF553B",
           "#00cc96",
           "#ab63fa",
           "#FFA15A",
           "#19d3f3",
           "#FF6692",
           "#B6E880",
           "#FF97FF",
           "#FECB52"
          ],
          "font": {
           "color": "#2a3f5f"
          },
          "geo": {
           "bgcolor": "white",
           "lakecolor": "white",
           "landcolor": "#E5ECF6",
           "showlakes": true,
           "showland": true,
           "subunitcolor": "white"
          },
          "hoverlabel": {
           "align": "left"
          },
          "hovermode": "closest",
          "mapbox": {
           "style": "light"
          },
          "paper_bgcolor": "white",
          "plot_bgcolor": "#E5ECF6",
          "polar": {
           "angularaxis": {
            "gridcolor": "white",
            "linecolor": "white",
            "ticks": ""
           },
           "bgcolor": "#E5ECF6",
           "radialaxis": {
            "gridcolor": "white",
            "linecolor": "white",
            "ticks": ""
           }
          },
          "scene": {
           "xaxis": {
            "backgroundcolor": "#E5ECF6",
            "gridcolor": "white",
            "gridwidth": 2,
            "linecolor": "white",
            "showbackground": true,
            "ticks": "",
            "zerolinecolor": "white"
           },
           "yaxis": {
            "backgroundcolor": "#E5ECF6",
            "gridcolor": "white",
            "gridwidth": 2,
            "linecolor": "white",
            "showbackground": true,
            "ticks": "",
            "zerolinecolor": "white"
           },
           "zaxis": {
            "backgroundcolor": "#E5ECF6",
            "gridcolor": "white",
            "gridwidth": 2,
            "linecolor": "white",
            "showbackground": true,
            "ticks": "",
            "zerolinecolor": "white"
           }
          },
          "shapedefaults": {
           "line": {
            "color": "#2a3f5f"
           }
          },
          "ternary": {
           "aaxis": {
            "gridcolor": "white",
            "linecolor": "white",
            "ticks": ""
           },
           "baxis": {
            "gridcolor": "white",
            "linecolor": "white",
            "ticks": ""
           },
           "bgcolor": "#E5ECF6",
           "caxis": {
            "gridcolor": "white",
            "linecolor": "white",
            "ticks": ""
           }
          },
          "title": {
           "x": 0.05
          },
          "xaxis": {
           "automargin": true,
           "gridcolor": "white",
           "linecolor": "white",
           "ticks": "",
           "title": {
            "standoff": 15
           },
           "zerolinecolor": "white",
           "zerolinewidth": 2
          },
          "yaxis": {
           "automargin": true,
           "gridcolor": "white",
           "linecolor": "white",
           "ticks": "",
           "title": {
            "standoff": 15
           },
           "zerolinecolor": "white",
           "zerolinewidth": 2
          }
         }
        },
        "title": {
         "font": {
          "color": "#4D5663"
         }
        },
        "xaxis": {
         "gridcolor": "#E1E5ED",
         "showgrid": true,
         "tickfont": {
          "color": "#4D5663"
         },
         "title": {
          "font": {
           "color": "#4D5663"
          },
          "text": ""
         },
         "zerolinecolor": "#E1E5ED"
        },
        "yaxis": {
         "gridcolor": "#E1E5ED",
         "showgrid": true,
         "tickfont": {
          "color": "#4D5663"
         },
         "title": {
          "font": {
           "color": "#4D5663"
          },
          "text": ""
         },
         "zerolinecolor": "#E1E5ED"
        }
       }
      },
      "text/html": [
       "<div>                            <div id=\"b89ae261-1306-421f-800a-3ec2b34ae4e2\" class=\"plotly-graph-div\" style=\"height:525px; width:100%;\"></div>            <script type=\"text/javascript\">                require([\"plotly\"], function(Plotly) {                    window.PLOTLYENV=window.PLOTLYENV || {};\n",
       "                    window.PLOTLYENV.BASE_URL='https://plot.ly';                                    if (document.getElementById(\"b89ae261-1306-421f-800a-3ec2b34ae4e2\")) {                    Plotly.newPlot(                        \"b89ae261-1306-421f-800a-3ec2b34ae4e2\",                        [{\"line\":{\"color\":\"rgba(255, 153, 51, 1.0)\",\"dash\":\"solid\",\"shape\":\"linear\",\"width\":1.3},\"marker\":{\"size\":10,\"symbol\":\"circle\"},\"mode\":\"markers\",\"name\":\"B\",\"text\":\"\",\"x\":[1.7678515456907136,0.5574856580952305,-0.21363049583055474,-0.004351036570748041,1.7767003172794058,-0.9334138647986685,1.1304808417686179,0.6259673962193651,-0.32574810228326134,-0.1314461917476808,-1.026099740614713,1.4479027043794217,-0.7324036394879013,1.3638350653158162,0.39630123683757945,0.8552727269772812,0.556442238768529,-0.7228064270996896,0.22293755751174835,-1.2082858262037768,0.9335405006960275,-1.2550530627542957,0.4467812267087743,0.10029132132103305,-0.0549413599185377,-1.3333184037642272,-1.3301680594098622,-0.7769596473116724,1.0903101769330352,-0.8777530739281518,0.47434726364288193,-0.41172400734401376,1.8406953795409298,-1.1950680072719775,-1.8362013663508012,1.179099927241798,0.8161597425274931,-0.874575413587495,-1.5480799123989284,0.38698290337957475,0.23717793196131678,0.19455267577594007,-0.8356082236548912,-2.2865479585455635,0.16634216318820633,-0.46122556641627444,-2.4094331248490484,0.3792702082051058,-0.7537096573938259,-0.759773123023279,0.8266482805597588,-1.0505006686540792,-0.15248344190761204,0.33598820905109306,-0.15974082243051765,0.8298682402617803,2.048597015286573,-0.255888630503058,-0.3669703838315419,-0.7260150403276863,1.4830320669622425,1.2370722898310813,1.6086441137657619,-0.45513715595293935,0.041818858058306776,-0.8630825576383753,-0.5510868008972226,-1.7331002160136844,1.094703385652114,0.11953874990716992,-0.6683136044821177,0.34599573563462505,-0.8319700524687987,-0.558261484573633,0.5030434040002801,0.6619721971501331,0.7818169444348697,-1.0897772248158428,-0.26427788527573237,-0.872217187223391,1.076038386332144,0.46941249058773576,-1.6653597079445228,-0.9531239576661726,0.2684194351671944,1.2397589831101998,-0.007990690617178655,-1.321950623693112,0.6809604552532404,1.2779317283832747,0.14449547116258432,-0.630375829713827,1.3946080794601639,-0.40166706464735724,0.35770716033720257,0.35722053214901406,1.0364875764023738,2.1454701108264893,1.370139380136401,-0.38450430586042783],\"y\":[-0.5044942157545312,0.9888079420118232,2.9620680407643136,-0.8789960931170367,-0.5961772819016423,0.967688669792416,-0.30943339838483885,-0.964594537403104,-0.836742028077735,0.6837214282723483,2.1148598036106416,1.333928221051847,-0.15938807086833995,-0.4894942830770963,-0.37006575779613216,1.1026545609048777,0.5630207275529113,-1.4192173368675955,-0.5480468910450349,2.8716050981906327,1.2435943906567244,0.37357369531247503,0.37506127823100743,1.6049709934739458,-0.47270842030216825,0.5239023663911087,0.062033033799205,0.08291640751423532,-0.5829462865942209,1.4983306749026488,-1.0408969676787778,-2.1629858241103914,1.6422521446910348,-0.15868897935445367,0.37357393201209904,0.2274780237281322,-0.15852313872673549,-0.4722233032766944,1.0380141282313096,1.4264846036211958,0.07827925875641766,-0.545800770626657,0.9845828289203694,1.3195592923527997,0.5490608948134178,-0.1415638073954051,-0.6516249038568959,-0.7395594895353859,-0.6412458750835105,-0.25840521061978156,1.118167889564803,-2.280860698263176,-0.8401468839715613,-0.04322526654247106,-0.07284643005540295,0.04391872945696018,-2.3001339080663836,1.0646541570241572,-2.251336395475597,-1.3468068532341253,-0.3207741538563641,0.6305921908091108,-0.24008228934501483,-0.0022307686225104062,1.3895549980239637,0.34777396370618113,-2.0785013494076794,-1.6486984731387868,0.8857283314402425,0.6833531331085659,0.12459556402099713,0.0831977004120792,1.672604351977852,0.14773585534981465,-0.7217092256636978,0.051001802110237714,-0.8384015454027037,0.6731042370435385,0.17304838753909765,-0.8232932608854376,0.767028815641581,-1.8104429941045004,1.8282580189982574,-0.523451238059469,1.8537992937385805,-0.3061469383127988,-0.06149910457886894,-0.2661031019289138,0.5949325643958282,-0.7758866651392171,0.5112661409862509,-1.271072249577671,0.7483241333480513,1.789665739230297,-0.505722738272695,1.3412466063005661,1.2191913846284896,-0.0580815975615273,-0.5507407904374377,1.5898268484313995],\"type\":\"scatter\"}],                        {\"legend\":{\"bgcolor\":\"#F5F6F9\",\"font\":{\"color\":\"#4D5663\"}},\"paper_bgcolor\":\"#F5F6F9\",\"plot_bgcolor\":\"#F5F6F9\",\"template\":{\"data\":{\"barpolar\":[{\"marker\":{\"line\":{\"color\":\"#E5ECF6\",\"width\":0.5},\"pattern\":{\"fillmode\":\"overlay\",\"size\":10,\"solidity\":0.2}},\"type\":\"barpolar\"}],\"bar\":[{\"error_x\":{\"color\":\"#2a3f5f\"},\"error_y\":{\"color\":\"#2a3f5f\"},\"marker\":{\"line\":{\"color\":\"#E5ECF6\",\"width\":0.5},\"pattern\":{\"fillmode\":\"overlay\",\"size\":10,\"solidity\":0.2}},\"type\":\"bar\"}],\"carpet\":[{\"aaxis\":{\"endlinecolor\":\"#2a3f5f\",\"gridcolor\":\"white\",\"linecolor\":\"white\",\"minorgridcolor\":\"white\",\"startlinecolor\":\"#2a3f5f\"},\"baxis\":{\"endlinecolor\":\"#2a3f5f\",\"gridcolor\":\"white\",\"linecolor\":\"white\",\"minorgridcolor\":\"white\",\"startlinecolor\":\"#2a3f5f\"},\"type\":\"carpet\"}],\"choropleth\":[{\"colorbar\":{\"outlinewidth\":0,\"ticks\":\"\"},\"type\":\"choropleth\"}],\"contourcarpet\":[{\"colorbar\":{\"outlinewidth\":0,\"ticks\":\"\"},\"type\":\"contourcarpet\"}],\"contour\":[{\"colorbar\":{\"outlinewidth\":0,\"ticks\":\"\"},\"colorscale\":[[0.0,\"#0d0887\"],[0.1111111111111111,\"#46039f\"],[0.2222222222222222,\"#7201a8\"],[0.3333333333333333,\"#9c179e\"],[0.4444444444444444,\"#bd3786\"],[0.5555555555555556,\"#d8576b\"],[0.6666666666666666,\"#ed7953\"],[0.7777777777777778,\"#fb9f3a\"],[0.8888888888888888,\"#fdca26\"],[1.0,\"#f0f921\"]],\"type\":\"contour\"}],\"heatmapgl\":[{\"colorbar\":{\"outlinewidth\":0,\"ticks\":\"\"},\"colorscale\":[[0.0,\"#0d0887\"],[0.1111111111111111,\"#46039f\"],[0.2222222222222222,\"#7201a8\"],[0.3333333333333333,\"#9c179e\"],[0.4444444444444444,\"#bd3786\"],[0.5555555555555556,\"#d8576b\"],[0.6666666666666666,\"#ed7953\"],[0.7777777777777778,\"#fb9f3a\"],[0.8888888888888888,\"#fdca26\"],[1.0,\"#f0f921\"]],\"type\":\"heatmapgl\"}],\"heatmap\":[{\"colorbar\":{\"outlinewidth\":0,\"ticks\":\"\"},\"colorscale\":[[0.0,\"#0d0887\"],[0.1111111111111111,\"#46039f\"],[0.2222222222222222,\"#7201a8\"],[0.3333333333333333,\"#9c179e\"],[0.4444444444444444,\"#bd3786\"],[0.5555555555555556,\"#d8576b\"],[0.6666666666666666,\"#ed7953\"],[0.7777777777777778,\"#fb9f3a\"],[0.8888888888888888,\"#fdca26\"],[1.0,\"#f0f921\"]],\"type\":\"heatmap\"}],\"histogram2dcontour\":[{\"colorbar\":{\"outlinewidth\":0,\"ticks\":\"\"},\"colorscale\":[[0.0,\"#0d0887\"],[0.1111111111111111,\"#46039f\"],[0.2222222222222222,\"#7201a8\"],[0.3333333333333333,\"#9c179e\"],[0.4444444444444444,\"#bd3786\"],[0.5555555555555556,\"#d8576b\"],[0.6666666666666666,\"#ed7953\"],[0.7777777777777778,\"#fb9f3a\"],[0.8888888888888888,\"#fdca26\"],[1.0,\"#f0f921\"]],\"type\":\"histogram2dcontour\"}],\"histogram2d\":[{\"colorbar\":{\"outlinewidth\":0,\"ticks\":\"\"},\"colorscale\":[[0.0,\"#0d0887\"],[0.1111111111111111,\"#46039f\"],[0.2222222222222222,\"#7201a8\"],[0.3333333333333333,\"#9c179e\"],[0.4444444444444444,\"#bd3786\"],[0.5555555555555556,\"#d8576b\"],[0.6666666666666666,\"#ed7953\"],[0.7777777777777778,\"#fb9f3a\"],[0.8888888888888888,\"#fdca26\"],[1.0,\"#f0f921\"]],\"type\":\"histogram2d\"}],\"histogram\":[{\"marker\":{\"pattern\":{\"fillmode\":\"overlay\",\"size\":10,\"solidity\":0.2}},\"type\":\"histogram\"}],\"mesh3d\":[{\"colorbar\":{\"outlinewidth\":0,\"ticks\":\"\"},\"type\":\"mesh3d\"}],\"parcoords\":[{\"line\":{\"colorbar\":{\"outlinewidth\":0,\"ticks\":\"\"}},\"type\":\"parcoords\"}],\"pie\":[{\"automargin\":true,\"type\":\"pie\"}],\"scatter3d\":[{\"line\":{\"colorbar\":{\"outlinewidth\":0,\"ticks\":\"\"}},\"marker\":{\"colorbar\":{\"outlinewidth\":0,\"ticks\":\"\"}},\"type\":\"scatter3d\"}],\"scattercarpet\":[{\"marker\":{\"colorbar\":{\"outlinewidth\":0,\"ticks\":\"\"}},\"type\":\"scattercarpet\"}],\"scattergeo\":[{\"marker\":{\"colorbar\":{\"outlinewidth\":0,\"ticks\":\"\"}},\"type\":\"scattergeo\"}],\"scattergl\":[{\"marker\":{\"colorbar\":{\"outlinewidth\":0,\"ticks\":\"\"}},\"type\":\"scattergl\"}],\"scattermapbox\":[{\"marker\":{\"colorbar\":{\"outlinewidth\":0,\"ticks\":\"\"}},\"type\":\"scattermapbox\"}],\"scatterpolargl\":[{\"marker\":{\"colorbar\":{\"outlinewidth\":0,\"ticks\":\"\"}},\"type\":\"scatterpolargl\"}],\"scatterpolar\":[{\"marker\":{\"colorbar\":{\"outlinewidth\":0,\"ticks\":\"\"}},\"type\":\"scatterpolar\"}],\"scatter\":[{\"fillpattern\":{\"fillmode\":\"overlay\",\"size\":10,\"solidity\":0.2},\"type\":\"scatter\"}],\"scatterternary\":[{\"marker\":{\"colorbar\":{\"outlinewidth\":0,\"ticks\":\"\"}},\"type\":\"scatterternary\"}],\"surface\":[{\"colorbar\":{\"outlinewidth\":0,\"ticks\":\"\"},\"colorscale\":[[0.0,\"#0d0887\"],[0.1111111111111111,\"#46039f\"],[0.2222222222222222,\"#7201a8\"],[0.3333333333333333,\"#9c179e\"],[0.4444444444444444,\"#bd3786\"],[0.5555555555555556,\"#d8576b\"],[0.6666666666666666,\"#ed7953\"],[0.7777777777777778,\"#fb9f3a\"],[0.8888888888888888,\"#fdca26\"],[1.0,\"#f0f921\"]],\"type\":\"surface\"}],\"table\":[{\"cells\":{\"fill\":{\"color\":\"#EBF0F8\"},\"line\":{\"color\":\"white\"}},\"header\":{\"fill\":{\"color\":\"#C8D4E3\"},\"line\":{\"color\":\"white\"}},\"type\":\"table\"}]},\"layout\":{\"annotationdefaults\":{\"arrowcolor\":\"#2a3f5f\",\"arrowhead\":0,\"arrowwidth\":1},\"autotypenumbers\":\"strict\",\"coloraxis\":{\"colorbar\":{\"outlinewidth\":0,\"ticks\":\"\"}},\"colorscale\":{\"diverging\":[[0,\"#8e0152\"],[0.1,\"#c51b7d\"],[0.2,\"#de77ae\"],[0.3,\"#f1b6da\"],[0.4,\"#fde0ef\"],[0.5,\"#f7f7f7\"],[0.6,\"#e6f5d0\"],[0.7,\"#b8e186\"],[0.8,\"#7fbc41\"],[0.9,\"#4d9221\"],[1,\"#276419\"]],\"sequential\":[[0.0,\"#0d0887\"],[0.1111111111111111,\"#46039f\"],[0.2222222222222222,\"#7201a8\"],[0.3333333333333333,\"#9c179e\"],[0.4444444444444444,\"#bd3786\"],[0.5555555555555556,\"#d8576b\"],[0.6666666666666666,\"#ed7953\"],[0.7777777777777778,\"#fb9f3a\"],[0.8888888888888888,\"#fdca26\"],[1.0,\"#f0f921\"]],\"sequentialminus\":[[0.0,\"#0d0887\"],[0.1111111111111111,\"#46039f\"],[0.2222222222222222,\"#7201a8\"],[0.3333333333333333,\"#9c179e\"],[0.4444444444444444,\"#bd3786\"],[0.5555555555555556,\"#d8576b\"],[0.6666666666666666,\"#ed7953\"],[0.7777777777777778,\"#fb9f3a\"],[0.8888888888888888,\"#fdca26\"],[1.0,\"#f0f921\"]]},\"colorway\":[\"#636efa\",\"#EF553B\",\"#00cc96\",\"#ab63fa\",\"#FFA15A\",\"#19d3f3\",\"#FF6692\",\"#B6E880\",\"#FF97FF\",\"#FECB52\"],\"font\":{\"color\":\"#2a3f5f\"},\"geo\":{\"bgcolor\":\"white\",\"lakecolor\":\"white\",\"landcolor\":\"#E5ECF6\",\"showlakes\":true,\"showland\":true,\"subunitcolor\":\"white\"},\"hoverlabel\":{\"align\":\"left\"},\"hovermode\":\"closest\",\"mapbox\":{\"style\":\"light\"},\"paper_bgcolor\":\"white\",\"plot_bgcolor\":\"#E5ECF6\",\"polar\":{\"angularaxis\":{\"gridcolor\":\"white\",\"linecolor\":\"white\",\"ticks\":\"\"},\"bgcolor\":\"#E5ECF6\",\"radialaxis\":{\"gridcolor\":\"white\",\"linecolor\":\"white\",\"ticks\":\"\"}},\"scene\":{\"xaxis\":{\"backgroundcolor\":\"#E5ECF6\",\"gridcolor\":\"white\",\"gridwidth\":2,\"linecolor\":\"white\",\"showbackground\":true,\"ticks\":\"\",\"zerolinecolor\":\"white\"},\"yaxis\":{\"backgroundcolor\":\"#E5ECF6\",\"gridcolor\":\"white\",\"gridwidth\":2,\"linecolor\":\"white\",\"showbackground\":true,\"ticks\":\"\",\"zerolinecolor\":\"white\"},\"zaxis\":{\"backgroundcolor\":\"#E5ECF6\",\"gridcolor\":\"white\",\"gridwidth\":2,\"linecolor\":\"white\",\"showbackground\":true,\"ticks\":\"\",\"zerolinecolor\":\"white\"}},\"shapedefaults\":{\"line\":{\"color\":\"#2a3f5f\"}},\"ternary\":{\"aaxis\":{\"gridcolor\":\"white\",\"linecolor\":\"white\",\"ticks\":\"\"},\"baxis\":{\"gridcolor\":\"white\",\"linecolor\":\"white\",\"ticks\":\"\"},\"bgcolor\":\"#E5ECF6\",\"caxis\":{\"gridcolor\":\"white\",\"linecolor\":\"white\",\"ticks\":\"\"}},\"title\":{\"x\":0.05},\"xaxis\":{\"automargin\":true,\"gridcolor\":\"white\",\"linecolor\":\"white\",\"ticks\":\"\",\"title\":{\"standoff\":15},\"zerolinecolor\":\"white\",\"zerolinewidth\":2},\"yaxis\":{\"automargin\":true,\"gridcolor\":\"white\",\"linecolor\":\"white\",\"ticks\":\"\",\"title\":{\"standoff\":15},\"zerolinecolor\":\"white\",\"zerolinewidth\":2}}},\"title\":{\"font\":{\"color\":\"#4D5663\"}},\"xaxis\":{\"gridcolor\":\"#E1E5ED\",\"showgrid\":true,\"tickfont\":{\"color\":\"#4D5663\"},\"title\":{\"font\":{\"color\":\"#4D5663\"},\"text\":\"\"},\"zerolinecolor\":\"#E1E5ED\"},\"yaxis\":{\"gridcolor\":\"#E1E5ED\",\"showgrid\":true,\"tickfont\":{\"color\":\"#4D5663\"},\"title\":{\"font\":{\"color\":\"#4D5663\"},\"text\":\"\"},\"zerolinecolor\":\"#E1E5ED\"}},                        {\"showLink\": true, \"linkText\": \"Export to plot.ly\", \"plotlyServerURL\": \"https://plot.ly\", \"responsive\": true}                    ).then(function(){\n",
       "                            \n",
       "var gd = document.getElementById('b89ae261-1306-421f-800a-3ec2b34ae4e2');\n",
       "var x = new MutationObserver(function (mutations, observer) {{\n",
       "        var display = window.getComputedStyle(gd).display;\n",
       "        if (!display || display === 'none') {{\n",
       "            console.log([gd, 'removed!']);\n",
       "            Plotly.purge(gd);\n",
       "            observer.disconnect();\n",
       "        }}\n",
       "}});\n",
       "\n",
       "// Listen for the removal of the full notebook cells\n",
       "var notebookContainer = gd.closest('#notebook-container');\n",
       "if (notebookContainer) {{\n",
       "    x.observe(notebookContainer, {childList: true});\n",
       "}}\n",
       "\n",
       "// Listen for the clearing of the current output cell\n",
       "var outputEl = gd.closest('.output');\n",
       "if (outputEl) {{\n",
       "    x.observe(outputEl, {childList: true});\n",
       "}}\n",
       "\n",
       "                        })                };                });            </script>        </div>"
      ]
     },
     "metadata": {},
     "output_type": "display_data"
    }
   ],
   "source": [
    "df.iplot(kind='scatter',x='A',y='B',mode='markers',size=10)"
   ]
  },
  {
   "cell_type": "markdown",
   "metadata": {},
   "source": [
    "## Bar Plots"
   ]
  },
  {
   "cell_type": "code",
   "execution_count": 7,
   "metadata": {},
   "outputs": [
    {
     "data": {
      "application/vnd.plotly.v1+json": {
       "config": {
        "linkText": "Export to plot.ly",
        "plotlyServerURL": "https://plot.ly",
        "showLink": true
       },
       "data": [
        {
         "marker": {
          "color": "rgba(255, 153, 51, 0.6)",
          "line": {
           "color": "rgba(255, 153, 51, 1.0)",
           "width": 1
          }
         },
         "name": "Values",
         "orientation": "v",
         "text": "",
         "type": "bar",
         "x": [
          "A",
          "B",
          "C"
         ],
         "y": [
          32,
          43,
          50
         ]
        }
       ],
       "layout": {
        "legend": {
         "bgcolor": "#F5F6F9",
         "font": {
          "color": "#4D5663"
         }
        },
        "paper_bgcolor": "#F5F6F9",
        "plot_bgcolor": "#F5F6F9",
        "template": {
         "data": {
          "bar": [
           {
            "error_x": {
             "color": "#2a3f5f"
            },
            "error_y": {
             "color": "#2a3f5f"
            },
            "marker": {
             "line": {
              "color": "#E5ECF6",
              "width": 0.5
             },
             "pattern": {
              "fillmode": "overlay",
              "size": 10,
              "solidity": 0.2
             }
            },
            "type": "bar"
           }
          ],
          "barpolar": [
           {
            "marker": {
             "line": {
              "color": "#E5ECF6",
              "width": 0.5
             },
             "pattern": {
              "fillmode": "overlay",
              "size": 10,
              "solidity": 0.2
             }
            },
            "type": "barpolar"
           }
          ],
          "carpet": [
           {
            "aaxis": {
             "endlinecolor": "#2a3f5f",
             "gridcolor": "white",
             "linecolor": "white",
             "minorgridcolor": "white",
             "startlinecolor": "#2a3f5f"
            },
            "baxis": {
             "endlinecolor": "#2a3f5f",
             "gridcolor": "white",
             "linecolor": "white",
             "minorgridcolor": "white",
             "startlinecolor": "#2a3f5f"
            },
            "type": "carpet"
           }
          ],
          "choropleth": [
           {
            "colorbar": {
             "outlinewidth": 0,
             "ticks": ""
            },
            "type": "choropleth"
           }
          ],
          "contour": [
           {
            "colorbar": {
             "outlinewidth": 0,
             "ticks": ""
            },
            "colorscale": [
             [
              0,
              "#0d0887"
             ],
             [
              0.1111111111111111,
              "#46039f"
             ],
             [
              0.2222222222222222,
              "#7201a8"
             ],
             [
              0.3333333333333333,
              "#9c179e"
             ],
             [
              0.4444444444444444,
              "#bd3786"
             ],
             [
              0.5555555555555556,
              "#d8576b"
             ],
             [
              0.6666666666666666,
              "#ed7953"
             ],
             [
              0.7777777777777778,
              "#fb9f3a"
             ],
             [
              0.8888888888888888,
              "#fdca26"
             ],
             [
              1,
              "#f0f921"
             ]
            ],
            "type": "contour"
           }
          ],
          "contourcarpet": [
           {
            "colorbar": {
             "outlinewidth": 0,
             "ticks": ""
            },
            "type": "contourcarpet"
           }
          ],
          "heatmap": [
           {
            "colorbar": {
             "outlinewidth": 0,
             "ticks": ""
            },
            "colorscale": [
             [
              0,
              "#0d0887"
             ],
             [
              0.1111111111111111,
              "#46039f"
             ],
             [
              0.2222222222222222,
              "#7201a8"
             ],
             [
              0.3333333333333333,
              "#9c179e"
             ],
             [
              0.4444444444444444,
              "#bd3786"
             ],
             [
              0.5555555555555556,
              "#d8576b"
             ],
             [
              0.6666666666666666,
              "#ed7953"
             ],
             [
              0.7777777777777778,
              "#fb9f3a"
             ],
             [
              0.8888888888888888,
              "#fdca26"
             ],
             [
              1,
              "#f0f921"
             ]
            ],
            "type": "heatmap"
           }
          ],
          "heatmapgl": [
           {
            "colorbar": {
             "outlinewidth": 0,
             "ticks": ""
            },
            "colorscale": [
             [
              0,
              "#0d0887"
             ],
             [
              0.1111111111111111,
              "#46039f"
             ],
             [
              0.2222222222222222,
              "#7201a8"
             ],
             [
              0.3333333333333333,
              "#9c179e"
             ],
             [
              0.4444444444444444,
              "#bd3786"
             ],
             [
              0.5555555555555556,
              "#d8576b"
             ],
             [
              0.6666666666666666,
              "#ed7953"
             ],
             [
              0.7777777777777778,
              "#fb9f3a"
             ],
             [
              0.8888888888888888,
              "#fdca26"
             ],
             [
              1,
              "#f0f921"
             ]
            ],
            "type": "heatmapgl"
           }
          ],
          "histogram": [
           {
            "marker": {
             "pattern": {
              "fillmode": "overlay",
              "size": 10,
              "solidity": 0.2
             }
            },
            "type": "histogram"
           }
          ],
          "histogram2d": [
           {
            "colorbar": {
             "outlinewidth": 0,
             "ticks": ""
            },
            "colorscale": [
             [
              0,
              "#0d0887"
             ],
             [
              0.1111111111111111,
              "#46039f"
             ],
             [
              0.2222222222222222,
              "#7201a8"
             ],
             [
              0.3333333333333333,
              "#9c179e"
             ],
             [
              0.4444444444444444,
              "#bd3786"
             ],
             [
              0.5555555555555556,
              "#d8576b"
             ],
             [
              0.6666666666666666,
              "#ed7953"
             ],
             [
              0.7777777777777778,
              "#fb9f3a"
             ],
             [
              0.8888888888888888,
              "#fdca26"
             ],
             [
              1,
              "#f0f921"
             ]
            ],
            "type": "histogram2d"
           }
          ],
          "histogram2dcontour": [
           {
            "colorbar": {
             "outlinewidth": 0,
             "ticks": ""
            },
            "colorscale": [
             [
              0,
              "#0d0887"
             ],
             [
              0.1111111111111111,
              "#46039f"
             ],
             [
              0.2222222222222222,
              "#7201a8"
             ],
             [
              0.3333333333333333,
              "#9c179e"
             ],
             [
              0.4444444444444444,
              "#bd3786"
             ],
             [
              0.5555555555555556,
              "#d8576b"
             ],
             [
              0.6666666666666666,
              "#ed7953"
             ],
             [
              0.7777777777777778,
              "#fb9f3a"
             ],
             [
              0.8888888888888888,
              "#fdca26"
             ],
             [
              1,
              "#f0f921"
             ]
            ],
            "type": "histogram2dcontour"
           }
          ],
          "mesh3d": [
           {
            "colorbar": {
             "outlinewidth": 0,
             "ticks": ""
            },
            "type": "mesh3d"
           }
          ],
          "parcoords": [
           {
            "line": {
             "colorbar": {
              "outlinewidth": 0,
              "ticks": ""
             }
            },
            "type": "parcoords"
           }
          ],
          "pie": [
           {
            "automargin": true,
            "type": "pie"
           }
          ],
          "scatter": [
           {
            "fillpattern": {
             "fillmode": "overlay",
             "size": 10,
             "solidity": 0.2
            },
            "type": "scatter"
           }
          ],
          "scatter3d": [
           {
            "line": {
             "colorbar": {
              "outlinewidth": 0,
              "ticks": ""
             }
            },
            "marker": {
             "colorbar": {
              "outlinewidth": 0,
              "ticks": ""
             }
            },
            "type": "scatter3d"
           }
          ],
          "scattercarpet": [
           {
            "marker": {
             "colorbar": {
              "outlinewidth": 0,
              "ticks": ""
             }
            },
            "type": "scattercarpet"
           }
          ],
          "scattergeo": [
           {
            "marker": {
             "colorbar": {
              "outlinewidth": 0,
              "ticks": ""
             }
            },
            "type": "scattergeo"
           }
          ],
          "scattergl": [
           {
            "marker": {
             "colorbar": {
              "outlinewidth": 0,
              "ticks": ""
             }
            },
            "type": "scattergl"
           }
          ],
          "scattermapbox": [
           {
            "marker": {
             "colorbar": {
              "outlinewidth": 0,
              "ticks": ""
             }
            },
            "type": "scattermapbox"
           }
          ],
          "scatterpolar": [
           {
            "marker": {
             "colorbar": {
              "outlinewidth": 0,
              "ticks": ""
             }
            },
            "type": "scatterpolar"
           }
          ],
          "scatterpolargl": [
           {
            "marker": {
             "colorbar": {
              "outlinewidth": 0,
              "ticks": ""
             }
            },
            "type": "scatterpolargl"
           }
          ],
          "scatterternary": [
           {
            "marker": {
             "colorbar": {
              "outlinewidth": 0,
              "ticks": ""
             }
            },
            "type": "scatterternary"
           }
          ],
          "surface": [
           {
            "colorbar": {
             "outlinewidth": 0,
             "ticks": ""
            },
            "colorscale": [
             [
              0,
              "#0d0887"
             ],
             [
              0.1111111111111111,
              "#46039f"
             ],
             [
              0.2222222222222222,
              "#7201a8"
             ],
             [
              0.3333333333333333,
              "#9c179e"
             ],
             [
              0.4444444444444444,
              "#bd3786"
             ],
             [
              0.5555555555555556,
              "#d8576b"
             ],
             [
              0.6666666666666666,
              "#ed7953"
             ],
             [
              0.7777777777777778,
              "#fb9f3a"
             ],
             [
              0.8888888888888888,
              "#fdca26"
             ],
             [
              1,
              "#f0f921"
             ]
            ],
            "type": "surface"
           }
          ],
          "table": [
           {
            "cells": {
             "fill": {
              "color": "#EBF0F8"
             },
             "line": {
              "color": "white"
             }
            },
            "header": {
             "fill": {
              "color": "#C8D4E3"
             },
             "line": {
              "color": "white"
             }
            },
            "type": "table"
           }
          ]
         },
         "layout": {
          "annotationdefaults": {
           "arrowcolor": "#2a3f5f",
           "arrowhead": 0,
           "arrowwidth": 1
          },
          "autotypenumbers": "strict",
          "coloraxis": {
           "colorbar": {
            "outlinewidth": 0,
            "ticks": ""
           }
          },
          "colorscale": {
           "diverging": [
            [
             0,
             "#8e0152"
            ],
            [
             0.1,
             "#c51b7d"
            ],
            [
             0.2,
             "#de77ae"
            ],
            [
             0.3,
             "#f1b6da"
            ],
            [
             0.4,
             "#fde0ef"
            ],
            [
             0.5,
             "#f7f7f7"
            ],
            [
             0.6,
             "#e6f5d0"
            ],
            [
             0.7,
             "#b8e186"
            ],
            [
             0.8,
             "#7fbc41"
            ],
            [
             0.9,
             "#4d9221"
            ],
            [
             1,
             "#276419"
            ]
           ],
           "sequential": [
            [
             0,
             "#0d0887"
            ],
            [
             0.1111111111111111,
             "#46039f"
            ],
            [
             0.2222222222222222,
             "#7201a8"
            ],
            [
             0.3333333333333333,
             "#9c179e"
            ],
            [
             0.4444444444444444,
             "#bd3786"
            ],
            [
             0.5555555555555556,
             "#d8576b"
            ],
            [
             0.6666666666666666,
             "#ed7953"
            ],
            [
             0.7777777777777778,
             "#fb9f3a"
            ],
            [
             0.8888888888888888,
             "#fdca26"
            ],
            [
             1,
             "#f0f921"
            ]
           ],
           "sequentialminus": [
            [
             0,
             "#0d0887"
            ],
            [
             0.1111111111111111,
             "#46039f"
            ],
            [
             0.2222222222222222,
             "#7201a8"
            ],
            [
             0.3333333333333333,
             "#9c179e"
            ],
            [
             0.4444444444444444,
             "#bd3786"
            ],
            [
             0.5555555555555556,
             "#d8576b"
            ],
            [
             0.6666666666666666,
             "#ed7953"
            ],
            [
             0.7777777777777778,
             "#fb9f3a"
            ],
            [
             0.8888888888888888,
             "#fdca26"
            ],
            [
             1,
             "#f0f921"
            ]
           ]
          },
          "colorway": [
           "#636efa",
           "#EF553B",
           "#00cc96",
           "#ab63fa",
           "#FFA15A",
           "#19d3f3",
           "#FF6692",
           "#B6E880",
           "#FF97FF",
           "#FECB52"
          ],
          "font": {
           "color": "#2a3f5f"
          },
          "geo": {
           "bgcolor": "white",
           "lakecolor": "white",
           "landcolor": "#E5ECF6",
           "showlakes": true,
           "showland": true,
           "subunitcolor": "white"
          },
          "hoverlabel": {
           "align": "left"
          },
          "hovermode": "closest",
          "mapbox": {
           "style": "light"
          },
          "paper_bgcolor": "white",
          "plot_bgcolor": "#E5ECF6",
          "polar": {
           "angularaxis": {
            "gridcolor": "white",
            "linecolor": "white",
            "ticks": ""
           },
           "bgcolor": "#E5ECF6",
           "radialaxis": {
            "gridcolor": "white",
            "linecolor": "white",
            "ticks": ""
           }
          },
          "scene": {
           "xaxis": {
            "backgroundcolor": "#E5ECF6",
            "gridcolor": "white",
            "gridwidth": 2,
            "linecolor": "white",
            "showbackground": true,
            "ticks": "",
            "zerolinecolor": "white"
           },
           "yaxis": {
            "backgroundcolor": "#E5ECF6",
            "gridcolor": "white",
            "gridwidth": 2,
            "linecolor": "white",
            "showbackground": true,
            "ticks": "",
            "zerolinecolor": "white"
           },
           "zaxis": {
            "backgroundcolor": "#E5ECF6",
            "gridcolor": "white",
            "gridwidth": 2,
            "linecolor": "white",
            "showbackground": true,
            "ticks": "",
            "zerolinecolor": "white"
           }
          },
          "shapedefaults": {
           "line": {
            "color": "#2a3f5f"
           }
          },
          "ternary": {
           "aaxis": {
            "gridcolor": "white",
            "linecolor": "white",
            "ticks": ""
           },
           "baxis": {
            "gridcolor": "white",
            "linecolor": "white",
            "ticks": ""
           },
           "bgcolor": "#E5ECF6",
           "caxis": {
            "gridcolor": "white",
            "linecolor": "white",
            "ticks": ""
           }
          },
          "title": {
           "x": 0.05
          },
          "xaxis": {
           "automargin": true,
           "gridcolor": "white",
           "linecolor": "white",
           "ticks": "",
           "title": {
            "standoff": 15
           },
           "zerolinecolor": "white",
           "zerolinewidth": 2
          },
          "yaxis": {
           "automargin": true,
           "gridcolor": "white",
           "linecolor": "white",
           "ticks": "",
           "title": {
            "standoff": 15
           },
           "zerolinecolor": "white",
           "zerolinewidth": 2
          }
         }
        },
        "title": {
         "font": {
          "color": "#4D5663"
         }
        },
        "xaxis": {
         "gridcolor": "#E1E5ED",
         "showgrid": true,
         "tickfont": {
          "color": "#4D5663"
         },
         "title": {
          "font": {
           "color": "#4D5663"
          },
          "text": ""
         },
         "zerolinecolor": "#E1E5ED"
        },
        "yaxis": {
         "gridcolor": "#E1E5ED",
         "showgrid": true,
         "tickfont": {
          "color": "#4D5663"
         },
         "title": {
          "font": {
           "color": "#4D5663"
          },
          "text": ""
         },
         "zerolinecolor": "#E1E5ED"
        }
       }
      },
      "text/html": [
       "<div>                            <div id=\"9f46ffac-0965-4a72-b8d1-0956da7cbf1c\" class=\"plotly-graph-div\" style=\"height:525px; width:100%;\"></div>            <script type=\"text/javascript\">                require([\"plotly\"], function(Plotly) {                    window.PLOTLYENV=window.PLOTLYENV || {};\n",
       "                    window.PLOTLYENV.BASE_URL='https://plot.ly';                                    if (document.getElementById(\"9f46ffac-0965-4a72-b8d1-0956da7cbf1c\")) {                    Plotly.newPlot(                        \"9f46ffac-0965-4a72-b8d1-0956da7cbf1c\",                        [{\"marker\":{\"color\":\"rgba(255, 153, 51, 0.6)\",\"line\":{\"color\":\"rgba(255, 153, 51, 1.0)\",\"width\":1}},\"name\":\"Values\",\"orientation\":\"v\",\"text\":\"\",\"x\":[\"A\",\"B\",\"C\"],\"y\":[32,43,50],\"type\":\"bar\"}],                        {\"legend\":{\"bgcolor\":\"#F5F6F9\",\"font\":{\"color\":\"#4D5663\"}},\"paper_bgcolor\":\"#F5F6F9\",\"plot_bgcolor\":\"#F5F6F9\",\"template\":{\"data\":{\"barpolar\":[{\"marker\":{\"line\":{\"color\":\"#E5ECF6\",\"width\":0.5},\"pattern\":{\"fillmode\":\"overlay\",\"size\":10,\"solidity\":0.2}},\"type\":\"barpolar\"}],\"bar\":[{\"error_x\":{\"color\":\"#2a3f5f\"},\"error_y\":{\"color\":\"#2a3f5f\"},\"marker\":{\"line\":{\"color\":\"#E5ECF6\",\"width\":0.5},\"pattern\":{\"fillmode\":\"overlay\",\"size\":10,\"solidity\":0.2}},\"type\":\"bar\"}],\"carpet\":[{\"aaxis\":{\"endlinecolor\":\"#2a3f5f\",\"gridcolor\":\"white\",\"linecolor\":\"white\",\"minorgridcolor\":\"white\",\"startlinecolor\":\"#2a3f5f\"},\"baxis\":{\"endlinecolor\":\"#2a3f5f\",\"gridcolor\":\"white\",\"linecolor\":\"white\",\"minorgridcolor\":\"white\",\"startlinecolor\":\"#2a3f5f\"},\"type\":\"carpet\"}],\"choropleth\":[{\"colorbar\":{\"outlinewidth\":0,\"ticks\":\"\"},\"type\":\"choropleth\"}],\"contourcarpet\":[{\"colorbar\":{\"outlinewidth\":0,\"ticks\":\"\"},\"type\":\"contourcarpet\"}],\"contour\":[{\"colorbar\":{\"outlinewidth\":0,\"ticks\":\"\"},\"colorscale\":[[0.0,\"#0d0887\"],[0.1111111111111111,\"#46039f\"],[0.2222222222222222,\"#7201a8\"],[0.3333333333333333,\"#9c179e\"],[0.4444444444444444,\"#bd3786\"],[0.5555555555555556,\"#d8576b\"],[0.6666666666666666,\"#ed7953\"],[0.7777777777777778,\"#fb9f3a\"],[0.8888888888888888,\"#fdca26\"],[1.0,\"#f0f921\"]],\"type\":\"contour\"}],\"heatmapgl\":[{\"colorbar\":{\"outlinewidth\":0,\"ticks\":\"\"},\"colorscale\":[[0.0,\"#0d0887\"],[0.1111111111111111,\"#46039f\"],[0.2222222222222222,\"#7201a8\"],[0.3333333333333333,\"#9c179e\"],[0.4444444444444444,\"#bd3786\"],[0.5555555555555556,\"#d8576b\"],[0.6666666666666666,\"#ed7953\"],[0.7777777777777778,\"#fb9f3a\"],[0.8888888888888888,\"#fdca26\"],[1.0,\"#f0f921\"]],\"type\":\"heatmapgl\"}],\"heatmap\":[{\"colorbar\":{\"outlinewidth\":0,\"ticks\":\"\"},\"colorscale\":[[0.0,\"#0d0887\"],[0.1111111111111111,\"#46039f\"],[0.2222222222222222,\"#7201a8\"],[0.3333333333333333,\"#9c179e\"],[0.4444444444444444,\"#bd3786\"],[0.5555555555555556,\"#d8576b\"],[0.6666666666666666,\"#ed7953\"],[0.7777777777777778,\"#fb9f3a\"],[0.8888888888888888,\"#fdca26\"],[1.0,\"#f0f921\"]],\"type\":\"heatmap\"}],\"histogram2dcontour\":[{\"colorbar\":{\"outlinewidth\":0,\"ticks\":\"\"},\"colorscale\":[[0.0,\"#0d0887\"],[0.1111111111111111,\"#46039f\"],[0.2222222222222222,\"#7201a8\"],[0.3333333333333333,\"#9c179e\"],[0.4444444444444444,\"#bd3786\"],[0.5555555555555556,\"#d8576b\"],[0.6666666666666666,\"#ed7953\"],[0.7777777777777778,\"#fb9f3a\"],[0.8888888888888888,\"#fdca26\"],[1.0,\"#f0f921\"]],\"type\":\"histogram2dcontour\"}],\"histogram2d\":[{\"colorbar\":{\"outlinewidth\":0,\"ticks\":\"\"},\"colorscale\":[[0.0,\"#0d0887\"],[0.1111111111111111,\"#46039f\"],[0.2222222222222222,\"#7201a8\"],[0.3333333333333333,\"#9c179e\"],[0.4444444444444444,\"#bd3786\"],[0.5555555555555556,\"#d8576b\"],[0.6666666666666666,\"#ed7953\"],[0.7777777777777778,\"#fb9f3a\"],[0.8888888888888888,\"#fdca26\"],[1.0,\"#f0f921\"]],\"type\":\"histogram2d\"}],\"histogram\":[{\"marker\":{\"pattern\":{\"fillmode\":\"overlay\",\"size\":10,\"solidity\":0.2}},\"type\":\"histogram\"}],\"mesh3d\":[{\"colorbar\":{\"outlinewidth\":0,\"ticks\":\"\"},\"type\":\"mesh3d\"}],\"parcoords\":[{\"line\":{\"colorbar\":{\"outlinewidth\":0,\"ticks\":\"\"}},\"type\":\"parcoords\"}],\"pie\":[{\"automargin\":true,\"type\":\"pie\"}],\"scatter3d\":[{\"line\":{\"colorbar\":{\"outlinewidth\":0,\"ticks\":\"\"}},\"marker\":{\"colorbar\":{\"outlinewidth\":0,\"ticks\":\"\"}},\"type\":\"scatter3d\"}],\"scattercarpet\":[{\"marker\":{\"colorbar\":{\"outlinewidth\":0,\"ticks\":\"\"}},\"type\":\"scattercarpet\"}],\"scattergeo\":[{\"marker\":{\"colorbar\":{\"outlinewidth\":0,\"ticks\":\"\"}},\"type\":\"scattergeo\"}],\"scattergl\":[{\"marker\":{\"colorbar\":{\"outlinewidth\":0,\"ticks\":\"\"}},\"type\":\"scattergl\"}],\"scattermapbox\":[{\"marker\":{\"colorbar\":{\"outlinewidth\":0,\"ticks\":\"\"}},\"type\":\"scattermapbox\"}],\"scatterpolargl\":[{\"marker\":{\"colorbar\":{\"outlinewidth\":0,\"ticks\":\"\"}},\"type\":\"scatterpolargl\"}],\"scatterpolar\":[{\"marker\":{\"colorbar\":{\"outlinewidth\":0,\"ticks\":\"\"}},\"type\":\"scatterpolar\"}],\"scatter\":[{\"fillpattern\":{\"fillmode\":\"overlay\",\"size\":10,\"solidity\":0.2},\"type\":\"scatter\"}],\"scatterternary\":[{\"marker\":{\"colorbar\":{\"outlinewidth\":0,\"ticks\":\"\"}},\"type\":\"scatterternary\"}],\"surface\":[{\"colorbar\":{\"outlinewidth\":0,\"ticks\":\"\"},\"colorscale\":[[0.0,\"#0d0887\"],[0.1111111111111111,\"#46039f\"],[0.2222222222222222,\"#7201a8\"],[0.3333333333333333,\"#9c179e\"],[0.4444444444444444,\"#bd3786\"],[0.5555555555555556,\"#d8576b\"],[0.6666666666666666,\"#ed7953\"],[0.7777777777777778,\"#fb9f3a\"],[0.8888888888888888,\"#fdca26\"],[1.0,\"#f0f921\"]],\"type\":\"surface\"}],\"table\":[{\"cells\":{\"fill\":{\"color\":\"#EBF0F8\"},\"line\":{\"color\":\"white\"}},\"header\":{\"fill\":{\"color\":\"#C8D4E3\"},\"line\":{\"color\":\"white\"}},\"type\":\"table\"}]},\"layout\":{\"annotationdefaults\":{\"arrowcolor\":\"#2a3f5f\",\"arrowhead\":0,\"arrowwidth\":1},\"autotypenumbers\":\"strict\",\"coloraxis\":{\"colorbar\":{\"outlinewidth\":0,\"ticks\":\"\"}},\"colorscale\":{\"diverging\":[[0,\"#8e0152\"],[0.1,\"#c51b7d\"],[0.2,\"#de77ae\"],[0.3,\"#f1b6da\"],[0.4,\"#fde0ef\"],[0.5,\"#f7f7f7\"],[0.6,\"#e6f5d0\"],[0.7,\"#b8e186\"],[0.8,\"#7fbc41\"],[0.9,\"#4d9221\"],[1,\"#276419\"]],\"sequential\":[[0.0,\"#0d0887\"],[0.1111111111111111,\"#46039f\"],[0.2222222222222222,\"#7201a8\"],[0.3333333333333333,\"#9c179e\"],[0.4444444444444444,\"#bd3786\"],[0.5555555555555556,\"#d8576b\"],[0.6666666666666666,\"#ed7953\"],[0.7777777777777778,\"#fb9f3a\"],[0.8888888888888888,\"#fdca26\"],[1.0,\"#f0f921\"]],\"sequentialminus\":[[0.0,\"#0d0887\"],[0.1111111111111111,\"#46039f\"],[0.2222222222222222,\"#7201a8\"],[0.3333333333333333,\"#9c179e\"],[0.4444444444444444,\"#bd3786\"],[0.5555555555555556,\"#d8576b\"],[0.6666666666666666,\"#ed7953\"],[0.7777777777777778,\"#fb9f3a\"],[0.8888888888888888,\"#fdca26\"],[1.0,\"#f0f921\"]]},\"colorway\":[\"#636efa\",\"#EF553B\",\"#00cc96\",\"#ab63fa\",\"#FFA15A\",\"#19d3f3\",\"#FF6692\",\"#B6E880\",\"#FF97FF\",\"#FECB52\"],\"font\":{\"color\":\"#2a3f5f\"},\"geo\":{\"bgcolor\":\"white\",\"lakecolor\":\"white\",\"landcolor\":\"#E5ECF6\",\"showlakes\":true,\"showland\":true,\"subunitcolor\":\"white\"},\"hoverlabel\":{\"align\":\"left\"},\"hovermode\":\"closest\",\"mapbox\":{\"style\":\"light\"},\"paper_bgcolor\":\"white\",\"plot_bgcolor\":\"#E5ECF6\",\"polar\":{\"angularaxis\":{\"gridcolor\":\"white\",\"linecolor\":\"white\",\"ticks\":\"\"},\"bgcolor\":\"#E5ECF6\",\"radialaxis\":{\"gridcolor\":\"white\",\"linecolor\":\"white\",\"ticks\":\"\"}},\"scene\":{\"xaxis\":{\"backgroundcolor\":\"#E5ECF6\",\"gridcolor\":\"white\",\"gridwidth\":2,\"linecolor\":\"white\",\"showbackground\":true,\"ticks\":\"\",\"zerolinecolor\":\"white\"},\"yaxis\":{\"backgroundcolor\":\"#E5ECF6\",\"gridcolor\":\"white\",\"gridwidth\":2,\"linecolor\":\"white\",\"showbackground\":true,\"ticks\":\"\",\"zerolinecolor\":\"white\"},\"zaxis\":{\"backgroundcolor\":\"#E5ECF6\",\"gridcolor\":\"white\",\"gridwidth\":2,\"linecolor\":\"white\",\"showbackground\":true,\"ticks\":\"\",\"zerolinecolor\":\"white\"}},\"shapedefaults\":{\"line\":{\"color\":\"#2a3f5f\"}},\"ternary\":{\"aaxis\":{\"gridcolor\":\"white\",\"linecolor\":\"white\",\"ticks\":\"\"},\"baxis\":{\"gridcolor\":\"white\",\"linecolor\":\"white\",\"ticks\":\"\"},\"bgcolor\":\"#E5ECF6\",\"caxis\":{\"gridcolor\":\"white\",\"linecolor\":\"white\",\"ticks\":\"\"}},\"title\":{\"x\":0.05},\"xaxis\":{\"automargin\":true,\"gridcolor\":\"white\",\"linecolor\":\"white\",\"ticks\":\"\",\"title\":{\"standoff\":15},\"zerolinecolor\":\"white\",\"zerolinewidth\":2},\"yaxis\":{\"automargin\":true,\"gridcolor\":\"white\",\"linecolor\":\"white\",\"ticks\":\"\",\"title\":{\"standoff\":15},\"zerolinecolor\":\"white\",\"zerolinewidth\":2}}},\"title\":{\"font\":{\"color\":\"#4D5663\"}},\"xaxis\":{\"gridcolor\":\"#E1E5ED\",\"showgrid\":true,\"tickfont\":{\"color\":\"#4D5663\"},\"title\":{\"font\":{\"color\":\"#4D5663\"},\"text\":\"\"},\"zerolinecolor\":\"#E1E5ED\"},\"yaxis\":{\"gridcolor\":\"#E1E5ED\",\"showgrid\":true,\"tickfont\":{\"color\":\"#4D5663\"},\"title\":{\"font\":{\"color\":\"#4D5663\"},\"text\":\"\"},\"zerolinecolor\":\"#E1E5ED\"}},                        {\"showLink\": true, \"linkText\": \"Export to plot.ly\", \"plotlyServerURL\": \"https://plot.ly\", \"responsive\": true}                    ).then(function(){\n",
       "                            \n",
       "var gd = document.getElementById('9f46ffac-0965-4a72-b8d1-0956da7cbf1c');\n",
       "var x = new MutationObserver(function (mutations, observer) {{\n",
       "        var display = window.getComputedStyle(gd).display;\n",
       "        if (!display || display === 'none') {{\n",
       "            console.log([gd, 'removed!']);\n",
       "            Plotly.purge(gd);\n",
       "            observer.disconnect();\n",
       "        }}\n",
       "}});\n",
       "\n",
       "// Listen for the removal of the full notebook cells\n",
       "var notebookContainer = gd.closest('#notebook-container');\n",
       "if (notebookContainer) {{\n",
       "    x.observe(notebookContainer, {childList: true});\n",
       "}}\n",
       "\n",
       "// Listen for the clearing of the current output cell\n",
       "var outputEl = gd.closest('.output');\n",
       "if (outputEl) {{\n",
       "    x.observe(outputEl, {childList: true});\n",
       "}}\n",
       "\n",
       "                        })                };                });            </script>        </div>"
      ]
     },
     "metadata": {},
     "output_type": "display_data"
    }
   ],
   "source": [
    "df2.iplot(kind='bar',x='Category',y='Values')"
   ]
  },
  {
   "cell_type": "code",
   "execution_count": 8,
   "metadata": {},
   "outputs": [
    {
     "data": {
      "application/vnd.plotly.v1+json": {
       "config": {
        "linkText": "Export to plot.ly",
        "plotlyServerURL": "https://plot.ly",
        "showLink": true
       },
       "data": [
        {
         "marker": {
          "color": "rgba(255, 153, 51, 0.6)",
          "line": {
           "color": "rgba(255, 153, 51, 1.0)",
           "width": 1
          }
         },
         "name": "None",
         "orientation": "v",
         "text": "",
         "type": "bar",
         "x": [
          "A",
          "B",
          "C",
          "D"
         ],
         "y": [
          100,
          100,
          100,
          100
         ]
        }
       ],
       "layout": {
        "legend": {
         "bgcolor": "#F5F6F9",
         "font": {
          "color": "#4D5663"
         }
        },
        "paper_bgcolor": "#F5F6F9",
        "plot_bgcolor": "#F5F6F9",
        "template": {
         "data": {
          "bar": [
           {
            "error_x": {
             "color": "#2a3f5f"
            },
            "error_y": {
             "color": "#2a3f5f"
            },
            "marker": {
             "line": {
              "color": "#E5ECF6",
              "width": 0.5
             },
             "pattern": {
              "fillmode": "overlay",
              "size": 10,
              "solidity": 0.2
             }
            },
            "type": "bar"
           }
          ],
          "barpolar": [
           {
            "marker": {
             "line": {
              "color": "#E5ECF6",
              "width": 0.5
             },
             "pattern": {
              "fillmode": "overlay",
              "size": 10,
              "solidity": 0.2
             }
            },
            "type": "barpolar"
           }
          ],
          "carpet": [
           {
            "aaxis": {
             "endlinecolor": "#2a3f5f",
             "gridcolor": "white",
             "linecolor": "white",
             "minorgridcolor": "white",
             "startlinecolor": "#2a3f5f"
            },
            "baxis": {
             "endlinecolor": "#2a3f5f",
             "gridcolor": "white",
             "linecolor": "white",
             "minorgridcolor": "white",
             "startlinecolor": "#2a3f5f"
            },
            "type": "carpet"
           }
          ],
          "choropleth": [
           {
            "colorbar": {
             "outlinewidth": 0,
             "ticks": ""
            },
            "type": "choropleth"
           }
          ],
          "contour": [
           {
            "colorbar": {
             "outlinewidth": 0,
             "ticks": ""
            },
            "colorscale": [
             [
              0,
              "#0d0887"
             ],
             [
              0.1111111111111111,
              "#46039f"
             ],
             [
              0.2222222222222222,
              "#7201a8"
             ],
             [
              0.3333333333333333,
              "#9c179e"
             ],
             [
              0.4444444444444444,
              "#bd3786"
             ],
             [
              0.5555555555555556,
              "#d8576b"
             ],
             [
              0.6666666666666666,
              "#ed7953"
             ],
             [
              0.7777777777777778,
              "#fb9f3a"
             ],
             [
              0.8888888888888888,
              "#fdca26"
             ],
             [
              1,
              "#f0f921"
             ]
            ],
            "type": "contour"
           }
          ],
          "contourcarpet": [
           {
            "colorbar": {
             "outlinewidth": 0,
             "ticks": ""
            },
            "type": "contourcarpet"
           }
          ],
          "heatmap": [
           {
            "colorbar": {
             "outlinewidth": 0,
             "ticks": ""
            },
            "colorscale": [
             [
              0,
              "#0d0887"
             ],
             [
              0.1111111111111111,
              "#46039f"
             ],
             [
              0.2222222222222222,
              "#7201a8"
             ],
             [
              0.3333333333333333,
              "#9c179e"
             ],
             [
              0.4444444444444444,
              "#bd3786"
             ],
             [
              0.5555555555555556,
              "#d8576b"
             ],
             [
              0.6666666666666666,
              "#ed7953"
             ],
             [
              0.7777777777777778,
              "#fb9f3a"
             ],
             [
              0.8888888888888888,
              "#fdca26"
             ],
             [
              1,
              "#f0f921"
             ]
            ],
            "type": "heatmap"
           }
          ],
          "heatmapgl": [
           {
            "colorbar": {
             "outlinewidth": 0,
             "ticks": ""
            },
            "colorscale": [
             [
              0,
              "#0d0887"
             ],
             [
              0.1111111111111111,
              "#46039f"
             ],
             [
              0.2222222222222222,
              "#7201a8"
             ],
             [
              0.3333333333333333,
              "#9c179e"
             ],
             [
              0.4444444444444444,
              "#bd3786"
             ],
             [
              0.5555555555555556,
              "#d8576b"
             ],
             [
              0.6666666666666666,
              "#ed7953"
             ],
             [
              0.7777777777777778,
              "#fb9f3a"
             ],
             [
              0.8888888888888888,
              "#fdca26"
             ],
             [
              1,
              "#f0f921"
             ]
            ],
            "type": "heatmapgl"
           }
          ],
          "histogram": [
           {
            "marker": {
             "pattern": {
              "fillmode": "overlay",
              "size": 10,
              "solidity": 0.2
             }
            },
            "type": "histogram"
           }
          ],
          "histogram2d": [
           {
            "colorbar": {
             "outlinewidth": 0,
             "ticks": ""
            },
            "colorscale": [
             [
              0,
              "#0d0887"
             ],
             [
              0.1111111111111111,
              "#46039f"
             ],
             [
              0.2222222222222222,
              "#7201a8"
             ],
             [
              0.3333333333333333,
              "#9c179e"
             ],
             [
              0.4444444444444444,
              "#bd3786"
             ],
             [
              0.5555555555555556,
              "#d8576b"
             ],
             [
              0.6666666666666666,
              "#ed7953"
             ],
             [
              0.7777777777777778,
              "#fb9f3a"
             ],
             [
              0.8888888888888888,
              "#fdca26"
             ],
             [
              1,
              "#f0f921"
             ]
            ],
            "type": "histogram2d"
           }
          ],
          "histogram2dcontour": [
           {
            "colorbar": {
             "outlinewidth": 0,
             "ticks": ""
            },
            "colorscale": [
             [
              0,
              "#0d0887"
             ],
             [
              0.1111111111111111,
              "#46039f"
             ],
             [
              0.2222222222222222,
              "#7201a8"
             ],
             [
              0.3333333333333333,
              "#9c179e"
             ],
             [
              0.4444444444444444,
              "#bd3786"
             ],
             [
              0.5555555555555556,
              "#d8576b"
             ],
             [
              0.6666666666666666,
              "#ed7953"
             ],
             [
              0.7777777777777778,
              "#fb9f3a"
             ],
             [
              0.8888888888888888,
              "#fdca26"
             ],
             [
              1,
              "#f0f921"
             ]
            ],
            "type": "histogram2dcontour"
           }
          ],
          "mesh3d": [
           {
            "colorbar": {
             "outlinewidth": 0,
             "ticks": ""
            },
            "type": "mesh3d"
           }
          ],
          "parcoords": [
           {
            "line": {
             "colorbar": {
              "outlinewidth": 0,
              "ticks": ""
             }
            },
            "type": "parcoords"
           }
          ],
          "pie": [
           {
            "automargin": true,
            "type": "pie"
           }
          ],
          "scatter": [
           {
            "fillpattern": {
             "fillmode": "overlay",
             "size": 10,
             "solidity": 0.2
            },
            "type": "scatter"
           }
          ],
          "scatter3d": [
           {
            "line": {
             "colorbar": {
              "outlinewidth": 0,
              "ticks": ""
             }
            },
            "marker": {
             "colorbar": {
              "outlinewidth": 0,
              "ticks": ""
             }
            },
            "type": "scatter3d"
           }
          ],
          "scattercarpet": [
           {
            "marker": {
             "colorbar": {
              "outlinewidth": 0,
              "ticks": ""
             }
            },
            "type": "scattercarpet"
           }
          ],
          "scattergeo": [
           {
            "marker": {
             "colorbar": {
              "outlinewidth": 0,
              "ticks": ""
             }
            },
            "type": "scattergeo"
           }
          ],
          "scattergl": [
           {
            "marker": {
             "colorbar": {
              "outlinewidth": 0,
              "ticks": ""
             }
            },
            "type": "scattergl"
           }
          ],
          "scattermapbox": [
           {
            "marker": {
             "colorbar": {
              "outlinewidth": 0,
              "ticks": ""
             }
            },
            "type": "scattermapbox"
           }
          ],
          "scatterpolar": [
           {
            "marker": {
             "colorbar": {
              "outlinewidth": 0,
              "ticks": ""
             }
            },
            "type": "scatterpolar"
           }
          ],
          "scatterpolargl": [
           {
            "marker": {
             "colorbar": {
              "outlinewidth": 0,
              "ticks": ""
             }
            },
            "type": "scatterpolargl"
           }
          ],
          "scatterternary": [
           {
            "marker": {
             "colorbar": {
              "outlinewidth": 0,
              "ticks": ""
             }
            },
            "type": "scatterternary"
           }
          ],
          "surface": [
           {
            "colorbar": {
             "outlinewidth": 0,
             "ticks": ""
            },
            "colorscale": [
             [
              0,
              "#0d0887"
             ],
             [
              0.1111111111111111,
              "#46039f"
             ],
             [
              0.2222222222222222,
              "#7201a8"
             ],
             [
              0.3333333333333333,
              "#9c179e"
             ],
             [
              0.4444444444444444,
              "#bd3786"
             ],
             [
              0.5555555555555556,
              "#d8576b"
             ],
             [
              0.6666666666666666,
              "#ed7953"
             ],
             [
              0.7777777777777778,
              "#fb9f3a"
             ],
             [
              0.8888888888888888,
              "#fdca26"
             ],
             [
              1,
              "#f0f921"
             ]
            ],
            "type": "surface"
           }
          ],
          "table": [
           {
            "cells": {
             "fill": {
              "color": "#EBF0F8"
             },
             "line": {
              "color": "white"
             }
            },
            "header": {
             "fill": {
              "color": "#C8D4E3"
             },
             "line": {
              "color": "white"
             }
            },
            "type": "table"
           }
          ]
         },
         "layout": {
          "annotationdefaults": {
           "arrowcolor": "#2a3f5f",
           "arrowhead": 0,
           "arrowwidth": 1
          },
          "autotypenumbers": "strict",
          "coloraxis": {
           "colorbar": {
            "outlinewidth": 0,
            "ticks": ""
           }
          },
          "colorscale": {
           "diverging": [
            [
             0,
             "#8e0152"
            ],
            [
             0.1,
             "#c51b7d"
            ],
            [
             0.2,
             "#de77ae"
            ],
            [
             0.3,
             "#f1b6da"
            ],
            [
             0.4,
             "#fde0ef"
            ],
            [
             0.5,
             "#f7f7f7"
            ],
            [
             0.6,
             "#e6f5d0"
            ],
            [
             0.7,
             "#b8e186"
            ],
            [
             0.8,
             "#7fbc41"
            ],
            [
             0.9,
             "#4d9221"
            ],
            [
             1,
             "#276419"
            ]
           ],
           "sequential": [
            [
             0,
             "#0d0887"
            ],
            [
             0.1111111111111111,
             "#46039f"
            ],
            [
             0.2222222222222222,
             "#7201a8"
            ],
            [
             0.3333333333333333,
             "#9c179e"
            ],
            [
             0.4444444444444444,
             "#bd3786"
            ],
            [
             0.5555555555555556,
             "#d8576b"
            ],
            [
             0.6666666666666666,
             "#ed7953"
            ],
            [
             0.7777777777777778,
             "#fb9f3a"
            ],
            [
             0.8888888888888888,
             "#fdca26"
            ],
            [
             1,
             "#f0f921"
            ]
           ],
           "sequentialminus": [
            [
             0,
             "#0d0887"
            ],
            [
             0.1111111111111111,
             "#46039f"
            ],
            [
             0.2222222222222222,
             "#7201a8"
            ],
            [
             0.3333333333333333,
             "#9c179e"
            ],
            [
             0.4444444444444444,
             "#bd3786"
            ],
            [
             0.5555555555555556,
             "#d8576b"
            ],
            [
             0.6666666666666666,
             "#ed7953"
            ],
            [
             0.7777777777777778,
             "#fb9f3a"
            ],
            [
             0.8888888888888888,
             "#fdca26"
            ],
            [
             1,
             "#f0f921"
            ]
           ]
          },
          "colorway": [
           "#636efa",
           "#EF553B",
           "#00cc96",
           "#ab63fa",
           "#FFA15A",
           "#19d3f3",
           "#FF6692",
           "#B6E880",
           "#FF97FF",
           "#FECB52"
          ],
          "font": {
           "color": "#2a3f5f"
          },
          "geo": {
           "bgcolor": "white",
           "lakecolor": "white",
           "landcolor": "#E5ECF6",
           "showlakes": true,
           "showland": true,
           "subunitcolor": "white"
          },
          "hoverlabel": {
           "align": "left"
          },
          "hovermode": "closest",
          "mapbox": {
           "style": "light"
          },
          "paper_bgcolor": "white",
          "plot_bgcolor": "#E5ECF6",
          "polar": {
           "angularaxis": {
            "gridcolor": "white",
            "linecolor": "white",
            "ticks": ""
           },
           "bgcolor": "#E5ECF6",
           "radialaxis": {
            "gridcolor": "white",
            "linecolor": "white",
            "ticks": ""
           }
          },
          "scene": {
           "xaxis": {
            "backgroundcolor": "#E5ECF6",
            "gridcolor": "white",
            "gridwidth": 2,
            "linecolor": "white",
            "showbackground": true,
            "ticks": "",
            "zerolinecolor": "white"
           },
           "yaxis": {
            "backgroundcolor": "#E5ECF6",
            "gridcolor": "white",
            "gridwidth": 2,
            "linecolor": "white",
            "showbackground": true,
            "ticks": "",
            "zerolinecolor": "white"
           },
           "zaxis": {
            "backgroundcolor": "#E5ECF6",
            "gridcolor": "white",
            "gridwidth": 2,
            "linecolor": "white",
            "showbackground": true,
            "ticks": "",
            "zerolinecolor": "white"
           }
          },
          "shapedefaults": {
           "line": {
            "color": "#2a3f5f"
           }
          },
          "ternary": {
           "aaxis": {
            "gridcolor": "white",
            "linecolor": "white",
            "ticks": ""
           },
           "baxis": {
            "gridcolor": "white",
            "linecolor": "white",
            "ticks": ""
           },
           "bgcolor": "#E5ECF6",
           "caxis": {
            "gridcolor": "white",
            "linecolor": "white",
            "ticks": ""
           }
          },
          "title": {
           "x": 0.05
          },
          "xaxis": {
           "automargin": true,
           "gridcolor": "white",
           "linecolor": "white",
           "ticks": "",
           "title": {
            "standoff": 15
           },
           "zerolinecolor": "white",
           "zerolinewidth": 2
          },
          "yaxis": {
           "automargin": true,
           "gridcolor": "white",
           "linecolor": "white",
           "ticks": "",
           "title": {
            "standoff": 15
           },
           "zerolinecolor": "white",
           "zerolinewidth": 2
          }
         }
        },
        "title": {
         "font": {
          "color": "#4D5663"
         }
        },
        "xaxis": {
         "gridcolor": "#E1E5ED",
         "showgrid": true,
         "tickfont": {
          "color": "#4D5663"
         },
         "title": {
          "font": {
           "color": "#4D5663"
          },
          "text": ""
         },
         "zerolinecolor": "#E1E5ED"
        },
        "yaxis": {
         "gridcolor": "#E1E5ED",
         "showgrid": true,
         "tickfont": {
          "color": "#4D5663"
         },
         "title": {
          "font": {
           "color": "#4D5663"
          },
          "text": ""
         },
         "zerolinecolor": "#E1E5ED"
        }
       }
      },
      "text/html": [
       "<div>                            <div id=\"6c4df18f-df2a-4da7-99bf-a5233c36fe9c\" class=\"plotly-graph-div\" style=\"height:525px; width:100%;\"></div>            <script type=\"text/javascript\">                require([\"plotly\"], function(Plotly) {                    window.PLOTLYENV=window.PLOTLYENV || {};\n",
       "                    window.PLOTLYENV.BASE_URL='https://plot.ly';                                    if (document.getElementById(\"6c4df18f-df2a-4da7-99bf-a5233c36fe9c\")) {                    Plotly.newPlot(                        \"6c4df18f-df2a-4da7-99bf-a5233c36fe9c\",                        [{\"marker\":{\"color\":\"rgba(255, 153, 51, 0.6)\",\"line\":{\"color\":\"rgba(255, 153, 51, 1.0)\",\"width\":1}},\"name\":\"None\",\"orientation\":\"v\",\"text\":\"\",\"x\":[\"A\",\"B\",\"C\",\"D\"],\"y\":[100,100,100,100],\"type\":\"bar\"}],                        {\"legend\":{\"bgcolor\":\"#F5F6F9\",\"font\":{\"color\":\"#4D5663\"}},\"paper_bgcolor\":\"#F5F6F9\",\"plot_bgcolor\":\"#F5F6F9\",\"template\":{\"data\":{\"barpolar\":[{\"marker\":{\"line\":{\"color\":\"#E5ECF6\",\"width\":0.5},\"pattern\":{\"fillmode\":\"overlay\",\"size\":10,\"solidity\":0.2}},\"type\":\"barpolar\"}],\"bar\":[{\"error_x\":{\"color\":\"#2a3f5f\"},\"error_y\":{\"color\":\"#2a3f5f\"},\"marker\":{\"line\":{\"color\":\"#E5ECF6\",\"width\":0.5},\"pattern\":{\"fillmode\":\"overlay\",\"size\":10,\"solidity\":0.2}},\"type\":\"bar\"}],\"carpet\":[{\"aaxis\":{\"endlinecolor\":\"#2a3f5f\",\"gridcolor\":\"white\",\"linecolor\":\"white\",\"minorgridcolor\":\"white\",\"startlinecolor\":\"#2a3f5f\"},\"baxis\":{\"endlinecolor\":\"#2a3f5f\",\"gridcolor\":\"white\",\"linecolor\":\"white\",\"minorgridcolor\":\"white\",\"startlinecolor\":\"#2a3f5f\"},\"type\":\"carpet\"}],\"choropleth\":[{\"colorbar\":{\"outlinewidth\":0,\"ticks\":\"\"},\"type\":\"choropleth\"}],\"contourcarpet\":[{\"colorbar\":{\"outlinewidth\":0,\"ticks\":\"\"},\"type\":\"contourcarpet\"}],\"contour\":[{\"colorbar\":{\"outlinewidth\":0,\"ticks\":\"\"},\"colorscale\":[[0.0,\"#0d0887\"],[0.1111111111111111,\"#46039f\"],[0.2222222222222222,\"#7201a8\"],[0.3333333333333333,\"#9c179e\"],[0.4444444444444444,\"#bd3786\"],[0.5555555555555556,\"#d8576b\"],[0.6666666666666666,\"#ed7953\"],[0.7777777777777778,\"#fb9f3a\"],[0.8888888888888888,\"#fdca26\"],[1.0,\"#f0f921\"]],\"type\":\"contour\"}],\"heatmapgl\":[{\"colorbar\":{\"outlinewidth\":0,\"ticks\":\"\"},\"colorscale\":[[0.0,\"#0d0887\"],[0.1111111111111111,\"#46039f\"],[0.2222222222222222,\"#7201a8\"],[0.3333333333333333,\"#9c179e\"],[0.4444444444444444,\"#bd3786\"],[0.5555555555555556,\"#d8576b\"],[0.6666666666666666,\"#ed7953\"],[0.7777777777777778,\"#fb9f3a\"],[0.8888888888888888,\"#fdca26\"],[1.0,\"#f0f921\"]],\"type\":\"heatmapgl\"}],\"heatmap\":[{\"colorbar\":{\"outlinewidth\":0,\"ticks\":\"\"},\"colorscale\":[[0.0,\"#0d0887\"],[0.1111111111111111,\"#46039f\"],[0.2222222222222222,\"#7201a8\"],[0.3333333333333333,\"#9c179e\"],[0.4444444444444444,\"#bd3786\"],[0.5555555555555556,\"#d8576b\"],[0.6666666666666666,\"#ed7953\"],[0.7777777777777778,\"#fb9f3a\"],[0.8888888888888888,\"#fdca26\"],[1.0,\"#f0f921\"]],\"type\":\"heatmap\"}],\"histogram2dcontour\":[{\"colorbar\":{\"outlinewidth\":0,\"ticks\":\"\"},\"colorscale\":[[0.0,\"#0d0887\"],[0.1111111111111111,\"#46039f\"],[0.2222222222222222,\"#7201a8\"],[0.3333333333333333,\"#9c179e\"],[0.4444444444444444,\"#bd3786\"],[0.5555555555555556,\"#d8576b\"],[0.6666666666666666,\"#ed7953\"],[0.7777777777777778,\"#fb9f3a\"],[0.8888888888888888,\"#fdca26\"],[1.0,\"#f0f921\"]],\"type\":\"histogram2dcontour\"}],\"histogram2d\":[{\"colorbar\":{\"outlinewidth\":0,\"ticks\":\"\"},\"colorscale\":[[0.0,\"#0d0887\"],[0.1111111111111111,\"#46039f\"],[0.2222222222222222,\"#7201a8\"],[0.3333333333333333,\"#9c179e\"],[0.4444444444444444,\"#bd3786\"],[0.5555555555555556,\"#d8576b\"],[0.6666666666666666,\"#ed7953\"],[0.7777777777777778,\"#fb9f3a\"],[0.8888888888888888,\"#fdca26\"],[1.0,\"#f0f921\"]],\"type\":\"histogram2d\"}],\"histogram\":[{\"marker\":{\"pattern\":{\"fillmode\":\"overlay\",\"size\":10,\"solidity\":0.2}},\"type\":\"histogram\"}],\"mesh3d\":[{\"colorbar\":{\"outlinewidth\":0,\"ticks\":\"\"},\"type\":\"mesh3d\"}],\"parcoords\":[{\"line\":{\"colorbar\":{\"outlinewidth\":0,\"ticks\":\"\"}},\"type\":\"parcoords\"}],\"pie\":[{\"automargin\":true,\"type\":\"pie\"}],\"scatter3d\":[{\"line\":{\"colorbar\":{\"outlinewidth\":0,\"ticks\":\"\"}},\"marker\":{\"colorbar\":{\"outlinewidth\":0,\"ticks\":\"\"}},\"type\":\"scatter3d\"}],\"scattercarpet\":[{\"marker\":{\"colorbar\":{\"outlinewidth\":0,\"ticks\":\"\"}},\"type\":\"scattercarpet\"}],\"scattergeo\":[{\"marker\":{\"colorbar\":{\"outlinewidth\":0,\"ticks\":\"\"}},\"type\":\"scattergeo\"}],\"scattergl\":[{\"marker\":{\"colorbar\":{\"outlinewidth\":0,\"ticks\":\"\"}},\"type\":\"scattergl\"}],\"scattermapbox\":[{\"marker\":{\"colorbar\":{\"outlinewidth\":0,\"ticks\":\"\"}},\"type\":\"scattermapbox\"}],\"scatterpolargl\":[{\"marker\":{\"colorbar\":{\"outlinewidth\":0,\"ticks\":\"\"}},\"type\":\"scatterpolargl\"}],\"scatterpolar\":[{\"marker\":{\"colorbar\":{\"outlinewidth\":0,\"ticks\":\"\"}},\"type\":\"scatterpolar\"}],\"scatter\":[{\"fillpattern\":{\"fillmode\":\"overlay\",\"size\":10,\"solidity\":0.2},\"type\":\"scatter\"}],\"scatterternary\":[{\"marker\":{\"colorbar\":{\"outlinewidth\":0,\"ticks\":\"\"}},\"type\":\"scatterternary\"}],\"surface\":[{\"colorbar\":{\"outlinewidth\":0,\"ticks\":\"\"},\"colorscale\":[[0.0,\"#0d0887\"],[0.1111111111111111,\"#46039f\"],[0.2222222222222222,\"#7201a8\"],[0.3333333333333333,\"#9c179e\"],[0.4444444444444444,\"#bd3786\"],[0.5555555555555556,\"#d8576b\"],[0.6666666666666666,\"#ed7953\"],[0.7777777777777778,\"#fb9f3a\"],[0.8888888888888888,\"#fdca26\"],[1.0,\"#f0f921\"]],\"type\":\"surface\"}],\"table\":[{\"cells\":{\"fill\":{\"color\":\"#EBF0F8\"},\"line\":{\"color\":\"white\"}},\"header\":{\"fill\":{\"color\":\"#C8D4E3\"},\"line\":{\"color\":\"white\"}},\"type\":\"table\"}]},\"layout\":{\"annotationdefaults\":{\"arrowcolor\":\"#2a3f5f\",\"arrowhead\":0,\"arrowwidth\":1},\"autotypenumbers\":\"strict\",\"coloraxis\":{\"colorbar\":{\"outlinewidth\":0,\"ticks\":\"\"}},\"colorscale\":{\"diverging\":[[0,\"#8e0152\"],[0.1,\"#c51b7d\"],[0.2,\"#de77ae\"],[0.3,\"#f1b6da\"],[0.4,\"#fde0ef\"],[0.5,\"#f7f7f7\"],[0.6,\"#e6f5d0\"],[0.7,\"#b8e186\"],[0.8,\"#7fbc41\"],[0.9,\"#4d9221\"],[1,\"#276419\"]],\"sequential\":[[0.0,\"#0d0887\"],[0.1111111111111111,\"#46039f\"],[0.2222222222222222,\"#7201a8\"],[0.3333333333333333,\"#9c179e\"],[0.4444444444444444,\"#bd3786\"],[0.5555555555555556,\"#d8576b\"],[0.6666666666666666,\"#ed7953\"],[0.7777777777777778,\"#fb9f3a\"],[0.8888888888888888,\"#fdca26\"],[1.0,\"#f0f921\"]],\"sequentialminus\":[[0.0,\"#0d0887\"],[0.1111111111111111,\"#46039f\"],[0.2222222222222222,\"#7201a8\"],[0.3333333333333333,\"#9c179e\"],[0.4444444444444444,\"#bd3786\"],[0.5555555555555556,\"#d8576b\"],[0.6666666666666666,\"#ed7953\"],[0.7777777777777778,\"#fb9f3a\"],[0.8888888888888888,\"#fdca26\"],[1.0,\"#f0f921\"]]},\"colorway\":[\"#636efa\",\"#EF553B\",\"#00cc96\",\"#ab63fa\",\"#FFA15A\",\"#19d3f3\",\"#FF6692\",\"#B6E880\",\"#FF97FF\",\"#FECB52\"],\"font\":{\"color\":\"#2a3f5f\"},\"geo\":{\"bgcolor\":\"white\",\"lakecolor\":\"white\",\"landcolor\":\"#E5ECF6\",\"showlakes\":true,\"showland\":true,\"subunitcolor\":\"white\"},\"hoverlabel\":{\"align\":\"left\"},\"hovermode\":\"closest\",\"mapbox\":{\"style\":\"light\"},\"paper_bgcolor\":\"white\",\"plot_bgcolor\":\"#E5ECF6\",\"polar\":{\"angularaxis\":{\"gridcolor\":\"white\",\"linecolor\":\"white\",\"ticks\":\"\"},\"bgcolor\":\"#E5ECF6\",\"radialaxis\":{\"gridcolor\":\"white\",\"linecolor\":\"white\",\"ticks\":\"\"}},\"scene\":{\"xaxis\":{\"backgroundcolor\":\"#E5ECF6\",\"gridcolor\":\"white\",\"gridwidth\":2,\"linecolor\":\"white\",\"showbackground\":true,\"ticks\":\"\",\"zerolinecolor\":\"white\"},\"yaxis\":{\"backgroundcolor\":\"#E5ECF6\",\"gridcolor\":\"white\",\"gridwidth\":2,\"linecolor\":\"white\",\"showbackground\":true,\"ticks\":\"\",\"zerolinecolor\":\"white\"},\"zaxis\":{\"backgroundcolor\":\"#E5ECF6\",\"gridcolor\":\"white\",\"gridwidth\":2,\"linecolor\":\"white\",\"showbackground\":true,\"ticks\":\"\",\"zerolinecolor\":\"white\"}},\"shapedefaults\":{\"line\":{\"color\":\"#2a3f5f\"}},\"ternary\":{\"aaxis\":{\"gridcolor\":\"white\",\"linecolor\":\"white\",\"ticks\":\"\"},\"baxis\":{\"gridcolor\":\"white\",\"linecolor\":\"white\",\"ticks\":\"\"},\"bgcolor\":\"#E5ECF6\",\"caxis\":{\"gridcolor\":\"white\",\"linecolor\":\"white\",\"ticks\":\"\"}},\"title\":{\"x\":0.05},\"xaxis\":{\"automargin\":true,\"gridcolor\":\"white\",\"linecolor\":\"white\",\"ticks\":\"\",\"title\":{\"standoff\":15},\"zerolinecolor\":\"white\",\"zerolinewidth\":2},\"yaxis\":{\"automargin\":true,\"gridcolor\":\"white\",\"linecolor\":\"white\",\"ticks\":\"\",\"title\":{\"standoff\":15},\"zerolinecolor\":\"white\",\"zerolinewidth\":2}}},\"title\":{\"font\":{\"color\":\"#4D5663\"}},\"xaxis\":{\"gridcolor\":\"#E1E5ED\",\"showgrid\":true,\"tickfont\":{\"color\":\"#4D5663\"},\"title\":{\"font\":{\"color\":\"#4D5663\"},\"text\":\"\"},\"zerolinecolor\":\"#E1E5ED\"},\"yaxis\":{\"gridcolor\":\"#E1E5ED\",\"showgrid\":true,\"tickfont\":{\"color\":\"#4D5663\"},\"title\":{\"font\":{\"color\":\"#4D5663\"},\"text\":\"\"},\"zerolinecolor\":\"#E1E5ED\"}},                        {\"showLink\": true, \"linkText\": \"Export to plot.ly\", \"plotlyServerURL\": \"https://plot.ly\", \"responsive\": true}                    ).then(function(){\n",
       "                            \n",
       "var gd = document.getElementById('6c4df18f-df2a-4da7-99bf-a5233c36fe9c');\n",
       "var x = new MutationObserver(function (mutations, observer) {{\n",
       "        var display = window.getComputedStyle(gd).display;\n",
       "        if (!display || display === 'none') {{\n",
       "            console.log([gd, 'removed!']);\n",
       "            Plotly.purge(gd);\n",
       "            observer.disconnect();\n",
       "        }}\n",
       "}});\n",
       "\n",
       "// Listen for the removal of the full notebook cells\n",
       "var notebookContainer = gd.closest('#notebook-container');\n",
       "if (notebookContainer) {{\n",
       "    x.observe(notebookContainer, {childList: true});\n",
       "}}\n",
       "\n",
       "// Listen for the clearing of the current output cell\n",
       "var outputEl = gd.closest('.output');\n",
       "if (outputEl) {{\n",
       "    x.observe(outputEl, {childList: true});\n",
       "}}\n",
       "\n",
       "                        })                };                });            </script>        </div>"
      ]
     },
     "metadata": {},
     "output_type": "display_data"
    }
   ],
   "source": [
    "df.count().iplot(kind='bar')"
   ]
  },
  {
   "cell_type": "markdown",
   "metadata": {},
   "source": [
    "## Boxplots"
   ]
  },
  {
   "cell_type": "code",
   "execution_count": 9,
   "metadata": {},
   "outputs": [
    {
     "data": {
      "application/vnd.plotly.v1+json": {
       "config": {
        "linkText": "Export to plot.ly",
        "plotlyServerURL": "https://plot.ly",
        "showLink": true
       },
       "data": [
        {
         "boxpoints": false,
         "line": {
          "width": 1.3
         },
         "marker": {
          "color": "rgba(255, 153, 51, 1.0)"
         },
         "name": "A",
         "orientation": "v",
         "type": "box",
         "y": [
          1.7678515456907136,
          0.5574856580952305,
          -0.21363049583055474,
          -0.004351036570748041,
          1.7767003172794058,
          -0.9334138647986685,
          1.1304808417686179,
          0.6259673962193651,
          -0.32574810228326134,
          -0.1314461917476808,
          -1.026099740614713,
          1.4479027043794217,
          -0.7324036394879013,
          1.3638350653158162,
          0.39630123683757945,
          0.8552727269772812,
          0.556442238768529,
          -0.7228064270996896,
          0.22293755751174835,
          -1.2082858262037768,
          0.9335405006960275,
          -1.2550530627542957,
          0.4467812267087743,
          0.10029132132103305,
          -0.0549413599185377,
          -1.3333184037642272,
          -1.3301680594098622,
          -0.7769596473116724,
          1.0903101769330352,
          -0.8777530739281518,
          0.47434726364288193,
          -0.41172400734401376,
          1.8406953795409298,
          -1.1950680072719775,
          -1.8362013663508012,
          1.179099927241798,
          0.8161597425274931,
          -0.874575413587495,
          -1.5480799123989284,
          0.38698290337957475,
          0.23717793196131678,
          0.19455267577594007,
          -0.8356082236548912,
          -2.2865479585455635,
          0.16634216318820633,
          -0.46122556641627444,
          -2.4094331248490484,
          0.3792702082051058,
          -0.7537096573938259,
          -0.759773123023279,
          0.8266482805597588,
          -1.0505006686540792,
          -0.15248344190761204,
          0.33598820905109306,
          -0.15974082243051765,
          0.8298682402617803,
          2.048597015286573,
          -0.255888630503058,
          -0.3669703838315419,
          -0.7260150403276863,
          1.4830320669622425,
          1.2370722898310813,
          1.6086441137657619,
          -0.45513715595293935,
          0.041818858058306776,
          -0.8630825576383753,
          -0.5510868008972226,
          -1.7331002160136844,
          1.094703385652114,
          0.11953874990716992,
          -0.6683136044821177,
          0.34599573563462505,
          -0.8319700524687987,
          -0.558261484573633,
          0.5030434040002801,
          0.6619721971501331,
          0.7818169444348697,
          -1.0897772248158428,
          -0.26427788527573237,
          -0.872217187223391,
          1.076038386332144,
          0.46941249058773576,
          -1.6653597079445228,
          -0.9531239576661726,
          0.2684194351671944,
          1.2397589831101998,
          -0.007990690617178655,
          -1.321950623693112,
          0.6809604552532404,
          1.2779317283832747,
          0.14449547116258432,
          -0.630375829713827,
          1.3946080794601639,
          -0.40166706464735724,
          0.35770716033720257,
          0.35722053214901406,
          1.0364875764023738,
          2.1454701108264893,
          1.370139380136401,
          -0.38450430586042783
         ]
        },
        {
         "boxpoints": false,
         "line": {
          "width": 1.3
         },
         "marker": {
          "color": "rgba(55, 128, 191, 1.0)"
         },
         "name": "B",
         "orientation": "v",
         "type": "box",
         "y": [
          -0.5044942157545312,
          0.9888079420118232,
          2.9620680407643136,
          -0.8789960931170367,
          -0.5961772819016423,
          0.967688669792416,
          -0.30943339838483885,
          -0.964594537403104,
          -0.836742028077735,
          0.6837214282723483,
          2.1148598036106416,
          1.333928221051847,
          -0.15938807086833995,
          -0.4894942830770963,
          -0.37006575779613216,
          1.1026545609048777,
          0.5630207275529113,
          -1.4192173368675955,
          -0.5480468910450349,
          2.8716050981906327,
          1.2435943906567244,
          0.37357369531247503,
          0.37506127823100743,
          1.6049709934739458,
          -0.47270842030216825,
          0.5239023663911087,
          0.062033033799205,
          0.08291640751423532,
          -0.5829462865942209,
          1.4983306749026488,
          -1.0408969676787778,
          -2.1629858241103914,
          1.6422521446910348,
          -0.15868897935445367,
          0.37357393201209904,
          0.2274780237281322,
          -0.15852313872673549,
          -0.4722233032766944,
          1.0380141282313096,
          1.4264846036211958,
          0.07827925875641766,
          -0.545800770626657,
          0.9845828289203694,
          1.3195592923527997,
          0.5490608948134178,
          -0.1415638073954051,
          -0.6516249038568959,
          -0.7395594895353859,
          -0.6412458750835105,
          -0.25840521061978156,
          1.118167889564803,
          -2.280860698263176,
          -0.8401468839715613,
          -0.04322526654247106,
          -0.07284643005540295,
          0.04391872945696018,
          -2.3001339080663836,
          1.0646541570241572,
          -2.251336395475597,
          -1.3468068532341253,
          -0.3207741538563641,
          0.6305921908091108,
          -0.24008228934501483,
          -0.0022307686225104062,
          1.3895549980239637,
          0.34777396370618113,
          -2.0785013494076794,
          -1.6486984731387868,
          0.8857283314402425,
          0.6833531331085659,
          0.12459556402099713,
          0.0831977004120792,
          1.672604351977852,
          0.14773585534981465,
          -0.7217092256636978,
          0.051001802110237714,
          -0.8384015454027037,
          0.6731042370435385,
          0.17304838753909765,
          -0.8232932608854376,
          0.767028815641581,
          -1.8104429941045004,
          1.8282580189982574,
          -0.523451238059469,
          1.8537992937385805,
          -0.3061469383127988,
          -0.06149910457886894,
          -0.2661031019289138,
          0.5949325643958282,
          -0.7758866651392171,
          0.5112661409862509,
          -1.271072249577671,
          0.7483241333480513,
          1.789665739230297,
          -0.505722738272695,
          1.3412466063005661,
          1.2191913846284896,
          -0.0580815975615273,
          -0.5507407904374377,
          1.5898268484313995
         ]
        },
        {
         "boxpoints": false,
         "line": {
          "width": 1.3
         },
         "marker": {
          "color": "rgba(50, 171, 96, 1.0)"
         },
         "name": "C",
         "orientation": "v",
         "type": "box",
         "y": [
          -1.8201913265527303,
          -0.40533667730108597,
          -0.5061076449396962,
          1.1922140171784994,
          -1.2878651814078301,
          -2.0875667102001847,
          1.1359161025340003,
          -0.07975348897386565,
          0.16056033389825844,
          1.124722959228828,
          -1.0760705960481889,
          -0.35840908773828994,
          -0.5897085324218448,
          -1.071805416413214,
          -0.24467585713609044,
          2.8619182220963615,
          0.8179447485176887,
          -0.3651639599408454,
          -1.0514172947895792,
          -0.16632879081565502,
          -0.5023105357432766,
          0.18625466177531907,
          -0.5574087678371401,
          1.0376706639357471,
          1.9600750938572835,
          -0.7639352725337002,
          0.5124698963807007,
          -1.5474971910101507,
          1.0002078982538647,
          -0.4377919098125437,
          1.1031060605395542,
          0.25535981415649517,
          -0.3450852736055648,
          -0.04624154453733395,
          2.6362020496022502,
          1.8598141682965104,
          -1.1681490739797136,
          1.5173724333426744,
          -1.1761600730174717,
          0.2930700147541619,
          0.8101058165963707,
          1.146014689165013,
          -0.10325377444181959,
          1.427681493888483,
          0.5939532894371914,
          -0.39797266930198444,
          0.7802618393107127,
          1.9176420222448844,
          0.2553039738011546,
          -0.9482009983103359,
          1.0107156853545773,
          -0.8678369478973159,
          0.3013044983436712,
          -0.4969682271595119,
          1.1151305873477453,
          -1.2684445322396838,
          -0.2077278129483146,
          1.113546960150091,
          0.9867481245160042,
          -0.4108178571402074,
          1.3766331259618554,
          -0.9821344822529295,
          0.9083785275769809,
          0.9815542389492546,
          0.25954666052048203,
          1.6879036846709607,
          0.7895361058172605,
          -0.6078635133113303,
          -0.6585305793683645,
          -0.3676584629527762,
          0.0640337758872838,
          0.6950945220389215,
          1.5891689293580147,
          -0.573163488272661,
          -0.6411353780052226,
          -0.3384456214766705,
          1.2132745960403493,
          1.52160619121688,
          1.5392895620341296,
          0.6257515304283414,
          -0.694037425090867,
          -2.2471218993382442,
          0.7538425419802119,
          0.34809140715926845,
          0.257122267442059,
          -0.19685369095482094,
          2.247026153566917,
          -0.18492413238763644,
          -0.01643540424867496,
          1.5499300592918965,
          0.578737740126321,
          0.5766895078694938,
          2.313794112427557,
          -0.666123322046375,
          -0.1825573582237236,
          -0.32486405815227387,
          -0.082325109079772,
          0.28171512469617954,
          1.1597411614141633,
          -0.6075210002772761
         ]
        },
        {
         "boxpoints": false,
         "line": {
          "width": 1.3
         },
         "marker": {
          "color": "rgba(128, 0, 128, 1.0)"
         },
         "name": "D",
         "orientation": "v",
         "type": "box",
         "y": [
          -1.180735303630515,
          2.335222326905726,
          -1.6197574589979549,
          0.9028352023676829,
          1.6109261896790363,
          -0.7961454704693716,
          0.3720448301600562,
          -1.4434434807718641,
          -0.6119063991100594,
          1.8420214774973167,
          0.2520229457394457,
          0.05093447600310471,
          0.5446210490174672,
          -0.4402609818646418,
          -0.390977953514869,
          -0.07840859523009465,
          -0.1267926849131856,
          -3.374361649058948,
          -0.18009363328860958,
          3.4528280213098403,
          -0.2986607028736644,
          1.0956666525430585,
          -1.7863405706919313,
          1.3677989006774434,
          0.4354441364465162,
          0.13088701411783146,
          0.1553950897623964,
          -0.4925785624969984,
          0.32268461453856545,
          -1.700840271270966,
          0.6440602978278147,
          -0.2251600590361294,
          -0.16032895915867906,
          -0.3852025321126944,
          1.6145178668064544,
          -0.04137131604823876,
          -0.9749076248226239,
          1.3836699813550444,
          0.8982537349204344,
          0.9217283064844051,
          0.23625462017860271,
          -1.2122103871137158,
          -1.9927141415606817,
          -0.2959547598126391,
          -0.33372442818102865,
          -0.22056490650846694,
          0.7465644743865075,
          0.09987623381112562,
          -0.9376320317104025,
          0.20306725021030386,
          1.255015262344124,
          -0.028365486899400074,
          -1.1122577591505516,
          -0.0051746142853209675,
          -0.2256665884980495,
          2.7815061171333353,
          -0.2611876402833877,
          0.08549569945518426,
          -0.49291144393175046,
          -0.876468729067364,
          0.8108862452786229,
          -1.8687400730347454,
          0.5657560477398444,
          -0.21029389114024946,
          2.3890021587185006,
          0.8226474743506555,
          0.3565281349567872,
          -0.23326713943671804,
          0.0025591348298659527,
          -0.7397088567552248,
          -1.8554173584409612,
          -0.32550837085617157,
          0.28839964830935866,
          -0.7798617164656289,
          -0.7109761540827182,
          -0.7172440074028394,
          -0.6593860057595722,
          0.7333444107886511,
          0.5870183475529771,
          -1.9540870348563026,
          -0.1383639409908132,
          -1.3944854052375002,
          -0.3903337256465239,
          0.7562793578027802,
          -0.6870352789240671,
          0.8425270198944845,
          0.7148044492940651,
          -1.647037104244215,
          -0.8649562384137423,
          -0.7176125971028547,
          -0.681051744075285,
          1.1642499810546263,
          0.7491116092930705,
          1.3835618619707477,
          -0.10914937540931671,
          -1.7197130124431566,
          -0.07655706701279717,
          0.39764205850156625,
          -0.4120653423092205,
          0.7072388863918091
         ]
        }
       ],
       "layout": {
        "legend": {
         "bgcolor": "#F5F6F9",
         "font": {
          "color": "#4D5663"
         }
        },
        "paper_bgcolor": "#F5F6F9",
        "plot_bgcolor": "#F5F6F9",
        "template": {
         "data": {
          "bar": [
           {
            "error_x": {
             "color": "#2a3f5f"
            },
            "error_y": {
             "color": "#2a3f5f"
            },
            "marker": {
             "line": {
              "color": "#E5ECF6",
              "width": 0.5
             },
             "pattern": {
              "fillmode": "overlay",
              "size": 10,
              "solidity": 0.2
             }
            },
            "type": "bar"
           }
          ],
          "barpolar": [
           {
            "marker": {
             "line": {
              "color": "#E5ECF6",
              "width": 0.5
             },
             "pattern": {
              "fillmode": "overlay",
              "size": 10,
              "solidity": 0.2
             }
            },
            "type": "barpolar"
           }
          ],
          "carpet": [
           {
            "aaxis": {
             "endlinecolor": "#2a3f5f",
             "gridcolor": "white",
             "linecolor": "white",
             "minorgridcolor": "white",
             "startlinecolor": "#2a3f5f"
            },
            "baxis": {
             "endlinecolor": "#2a3f5f",
             "gridcolor": "white",
             "linecolor": "white",
             "minorgridcolor": "white",
             "startlinecolor": "#2a3f5f"
            },
            "type": "carpet"
           }
          ],
          "choropleth": [
           {
            "colorbar": {
             "outlinewidth": 0,
             "ticks": ""
            },
            "type": "choropleth"
           }
          ],
          "contour": [
           {
            "colorbar": {
             "outlinewidth": 0,
             "ticks": ""
            },
            "colorscale": [
             [
              0,
              "#0d0887"
             ],
             [
              0.1111111111111111,
              "#46039f"
             ],
             [
              0.2222222222222222,
              "#7201a8"
             ],
             [
              0.3333333333333333,
              "#9c179e"
             ],
             [
              0.4444444444444444,
              "#bd3786"
             ],
             [
              0.5555555555555556,
              "#d8576b"
             ],
             [
              0.6666666666666666,
              "#ed7953"
             ],
             [
              0.7777777777777778,
              "#fb9f3a"
             ],
             [
              0.8888888888888888,
              "#fdca26"
             ],
             [
              1,
              "#f0f921"
             ]
            ],
            "type": "contour"
           }
          ],
          "contourcarpet": [
           {
            "colorbar": {
             "outlinewidth": 0,
             "ticks": ""
            },
            "type": "contourcarpet"
           }
          ],
          "heatmap": [
           {
            "colorbar": {
             "outlinewidth": 0,
             "ticks": ""
            },
            "colorscale": [
             [
              0,
              "#0d0887"
             ],
             [
              0.1111111111111111,
              "#46039f"
             ],
             [
              0.2222222222222222,
              "#7201a8"
             ],
             [
              0.3333333333333333,
              "#9c179e"
             ],
             [
              0.4444444444444444,
              "#bd3786"
             ],
             [
              0.5555555555555556,
              "#d8576b"
             ],
             [
              0.6666666666666666,
              "#ed7953"
             ],
             [
              0.7777777777777778,
              "#fb9f3a"
             ],
             [
              0.8888888888888888,
              "#fdca26"
             ],
             [
              1,
              "#f0f921"
             ]
            ],
            "type": "heatmap"
           }
          ],
          "heatmapgl": [
           {
            "colorbar": {
             "outlinewidth": 0,
             "ticks": ""
            },
            "colorscale": [
             [
              0,
              "#0d0887"
             ],
             [
              0.1111111111111111,
              "#46039f"
             ],
             [
              0.2222222222222222,
              "#7201a8"
             ],
             [
              0.3333333333333333,
              "#9c179e"
             ],
             [
              0.4444444444444444,
              "#bd3786"
             ],
             [
              0.5555555555555556,
              "#d8576b"
             ],
             [
              0.6666666666666666,
              "#ed7953"
             ],
             [
              0.7777777777777778,
              "#fb9f3a"
             ],
             [
              0.8888888888888888,
              "#fdca26"
             ],
             [
              1,
              "#f0f921"
             ]
            ],
            "type": "heatmapgl"
           }
          ],
          "histogram": [
           {
            "marker": {
             "pattern": {
              "fillmode": "overlay",
              "size": 10,
              "solidity": 0.2
             }
            },
            "type": "histogram"
           }
          ],
          "histogram2d": [
           {
            "colorbar": {
             "outlinewidth": 0,
             "ticks": ""
            },
            "colorscale": [
             [
              0,
              "#0d0887"
             ],
             [
              0.1111111111111111,
              "#46039f"
             ],
             [
              0.2222222222222222,
              "#7201a8"
             ],
             [
              0.3333333333333333,
              "#9c179e"
             ],
             [
              0.4444444444444444,
              "#bd3786"
             ],
             [
              0.5555555555555556,
              "#d8576b"
             ],
             [
              0.6666666666666666,
              "#ed7953"
             ],
             [
              0.7777777777777778,
              "#fb9f3a"
             ],
             [
              0.8888888888888888,
              "#fdca26"
             ],
             [
              1,
              "#f0f921"
             ]
            ],
            "type": "histogram2d"
           }
          ],
          "histogram2dcontour": [
           {
            "colorbar": {
             "outlinewidth": 0,
             "ticks": ""
            },
            "colorscale": [
             [
              0,
              "#0d0887"
             ],
             [
              0.1111111111111111,
              "#46039f"
             ],
             [
              0.2222222222222222,
              "#7201a8"
             ],
             [
              0.3333333333333333,
              "#9c179e"
             ],
             [
              0.4444444444444444,
              "#bd3786"
             ],
             [
              0.5555555555555556,
              "#d8576b"
             ],
             [
              0.6666666666666666,
              "#ed7953"
             ],
             [
              0.7777777777777778,
              "#fb9f3a"
             ],
             [
              0.8888888888888888,
              "#fdca26"
             ],
             [
              1,
              "#f0f921"
             ]
            ],
            "type": "histogram2dcontour"
           }
          ],
          "mesh3d": [
           {
            "colorbar": {
             "outlinewidth": 0,
             "ticks": ""
            },
            "type": "mesh3d"
           }
          ],
          "parcoords": [
           {
            "line": {
             "colorbar": {
              "outlinewidth": 0,
              "ticks": ""
             }
            },
            "type": "parcoords"
           }
          ],
          "pie": [
           {
            "automargin": true,
            "type": "pie"
           }
          ],
          "scatter": [
           {
            "fillpattern": {
             "fillmode": "overlay",
             "size": 10,
             "solidity": 0.2
            },
            "type": "scatter"
           }
          ],
          "scatter3d": [
           {
            "line": {
             "colorbar": {
              "outlinewidth": 0,
              "ticks": ""
             }
            },
            "marker": {
             "colorbar": {
              "outlinewidth": 0,
              "ticks": ""
             }
            },
            "type": "scatter3d"
           }
          ],
          "scattercarpet": [
           {
            "marker": {
             "colorbar": {
              "outlinewidth": 0,
              "ticks": ""
             }
            },
            "type": "scattercarpet"
           }
          ],
          "scattergeo": [
           {
            "marker": {
             "colorbar": {
              "outlinewidth": 0,
              "ticks": ""
             }
            },
            "type": "scattergeo"
           }
          ],
          "scattergl": [
           {
            "marker": {
             "colorbar": {
              "outlinewidth": 0,
              "ticks": ""
             }
            },
            "type": "scattergl"
           }
          ],
          "scattermapbox": [
           {
            "marker": {
             "colorbar": {
              "outlinewidth": 0,
              "ticks": ""
             }
            },
            "type": "scattermapbox"
           }
          ],
          "scatterpolar": [
           {
            "marker": {
             "colorbar": {
              "outlinewidth": 0,
              "ticks": ""
             }
            },
            "type": "scatterpolar"
           }
          ],
          "scatterpolargl": [
           {
            "marker": {
             "colorbar": {
              "outlinewidth": 0,
              "ticks": ""
             }
            },
            "type": "scatterpolargl"
           }
          ],
          "scatterternary": [
           {
            "marker": {
             "colorbar": {
              "outlinewidth": 0,
              "ticks": ""
             }
            },
            "type": "scatterternary"
           }
          ],
          "surface": [
           {
            "colorbar": {
             "outlinewidth": 0,
             "ticks": ""
            },
            "colorscale": [
             [
              0,
              "#0d0887"
             ],
             [
              0.1111111111111111,
              "#46039f"
             ],
             [
              0.2222222222222222,
              "#7201a8"
             ],
             [
              0.3333333333333333,
              "#9c179e"
             ],
             [
              0.4444444444444444,
              "#bd3786"
             ],
             [
              0.5555555555555556,
              "#d8576b"
             ],
             [
              0.6666666666666666,
              "#ed7953"
             ],
             [
              0.7777777777777778,
              "#fb9f3a"
             ],
             [
              0.8888888888888888,
              "#fdca26"
             ],
             [
              1,
              "#f0f921"
             ]
            ],
            "type": "surface"
           }
          ],
          "table": [
           {
            "cells": {
             "fill": {
              "color": "#EBF0F8"
             },
             "line": {
              "color": "white"
             }
            },
            "header": {
             "fill": {
              "color": "#C8D4E3"
             },
             "line": {
              "color": "white"
             }
            },
            "type": "table"
           }
          ]
         },
         "layout": {
          "annotationdefaults": {
           "arrowcolor": "#2a3f5f",
           "arrowhead": 0,
           "arrowwidth": 1
          },
          "autotypenumbers": "strict",
          "coloraxis": {
           "colorbar": {
            "outlinewidth": 0,
            "ticks": ""
           }
          },
          "colorscale": {
           "diverging": [
            [
             0,
             "#8e0152"
            ],
            [
             0.1,
             "#c51b7d"
            ],
            [
             0.2,
             "#de77ae"
            ],
            [
             0.3,
             "#f1b6da"
            ],
            [
             0.4,
             "#fde0ef"
            ],
            [
             0.5,
             "#f7f7f7"
            ],
            [
             0.6,
             "#e6f5d0"
            ],
            [
             0.7,
             "#b8e186"
            ],
            [
             0.8,
             "#7fbc41"
            ],
            [
             0.9,
             "#4d9221"
            ],
            [
             1,
             "#276419"
            ]
           ],
           "sequential": [
            [
             0,
             "#0d0887"
            ],
            [
             0.1111111111111111,
             "#46039f"
            ],
            [
             0.2222222222222222,
             "#7201a8"
            ],
            [
             0.3333333333333333,
             "#9c179e"
            ],
            [
             0.4444444444444444,
             "#bd3786"
            ],
            [
             0.5555555555555556,
             "#d8576b"
            ],
            [
             0.6666666666666666,
             "#ed7953"
            ],
            [
             0.7777777777777778,
             "#fb9f3a"
            ],
            [
             0.8888888888888888,
             "#fdca26"
            ],
            [
             1,
             "#f0f921"
            ]
           ],
           "sequentialminus": [
            [
             0,
             "#0d0887"
            ],
            [
             0.1111111111111111,
             "#46039f"
            ],
            [
             0.2222222222222222,
             "#7201a8"
            ],
            [
             0.3333333333333333,
             "#9c179e"
            ],
            [
             0.4444444444444444,
             "#bd3786"
            ],
            [
             0.5555555555555556,
             "#d8576b"
            ],
            [
             0.6666666666666666,
             "#ed7953"
            ],
            [
             0.7777777777777778,
             "#fb9f3a"
            ],
            [
             0.8888888888888888,
             "#fdca26"
            ],
            [
             1,
             "#f0f921"
            ]
           ]
          },
          "colorway": [
           "#636efa",
           "#EF553B",
           "#00cc96",
           "#ab63fa",
           "#FFA15A",
           "#19d3f3",
           "#FF6692",
           "#B6E880",
           "#FF97FF",
           "#FECB52"
          ],
          "font": {
           "color": "#2a3f5f"
          },
          "geo": {
           "bgcolor": "white",
           "lakecolor": "white",
           "landcolor": "#E5ECF6",
           "showlakes": true,
           "showland": true,
           "subunitcolor": "white"
          },
          "hoverlabel": {
           "align": "left"
          },
          "hovermode": "closest",
          "mapbox": {
           "style": "light"
          },
          "paper_bgcolor": "white",
          "plot_bgcolor": "#E5ECF6",
          "polar": {
           "angularaxis": {
            "gridcolor": "white",
            "linecolor": "white",
            "ticks": ""
           },
           "bgcolor": "#E5ECF6",
           "radialaxis": {
            "gridcolor": "white",
            "linecolor": "white",
            "ticks": ""
           }
          },
          "scene": {
           "xaxis": {
            "backgroundcolor": "#E5ECF6",
            "gridcolor": "white",
            "gridwidth": 2,
            "linecolor": "white",
            "showbackground": true,
            "ticks": "",
            "zerolinecolor": "white"
           },
           "yaxis": {
            "backgroundcolor": "#E5ECF6",
            "gridcolor": "white",
            "gridwidth": 2,
            "linecolor": "white",
            "showbackground": true,
            "ticks": "",
            "zerolinecolor": "white"
           },
           "zaxis": {
            "backgroundcolor": "#E5ECF6",
            "gridcolor": "white",
            "gridwidth": 2,
            "linecolor": "white",
            "showbackground": true,
            "ticks": "",
            "zerolinecolor": "white"
           }
          },
          "shapedefaults": {
           "line": {
            "color": "#2a3f5f"
           }
          },
          "ternary": {
           "aaxis": {
            "gridcolor": "white",
            "linecolor": "white",
            "ticks": ""
           },
           "baxis": {
            "gridcolor": "white",
            "linecolor": "white",
            "ticks": ""
           },
           "bgcolor": "#E5ECF6",
           "caxis": {
            "gridcolor": "white",
            "linecolor": "white",
            "ticks": ""
           }
          },
          "title": {
           "x": 0.05
          },
          "xaxis": {
           "automargin": true,
           "gridcolor": "white",
           "linecolor": "white",
           "ticks": "",
           "title": {
            "standoff": 15
           },
           "zerolinecolor": "white",
           "zerolinewidth": 2
          },
          "yaxis": {
           "automargin": true,
           "gridcolor": "white",
           "linecolor": "white",
           "ticks": "",
           "title": {
            "standoff": 15
           },
           "zerolinecolor": "white",
           "zerolinewidth": 2
          }
         }
        },
        "title": {
         "font": {
          "color": "#4D5663"
         }
        },
        "xaxis": {
         "gridcolor": "#E1E5ED",
         "showgrid": true,
         "tickfont": {
          "color": "#4D5663"
         },
         "title": {
          "font": {
           "color": "#4D5663"
          },
          "text": ""
         },
         "zerolinecolor": "#E1E5ED"
        },
        "yaxis": {
         "gridcolor": "#E1E5ED",
         "showgrid": true,
         "tickfont": {
          "color": "#4D5663"
         },
         "title": {
          "font": {
           "color": "#4D5663"
          },
          "text": ""
         },
         "zerolinecolor": "#E1E5ED"
        }
       }
      },
      "text/html": [
       "<div>                            <div id=\"78dc73d8-ab6f-44eb-baa2-8d5025d8fc0f\" class=\"plotly-graph-div\" style=\"height:525px; width:100%;\"></div>            <script type=\"text/javascript\">                require([\"plotly\"], function(Plotly) {                    window.PLOTLYENV=window.PLOTLYENV || {};\n",
       "                    window.PLOTLYENV.BASE_URL='https://plot.ly';                                    if (document.getElementById(\"78dc73d8-ab6f-44eb-baa2-8d5025d8fc0f\")) {                    Plotly.newPlot(                        \"78dc73d8-ab6f-44eb-baa2-8d5025d8fc0f\",                        [{\"boxpoints\":false,\"line\":{\"width\":1.3},\"marker\":{\"color\":\"rgba(255, 153, 51, 1.0)\"},\"name\":\"A\",\"orientation\":\"v\",\"y\":[1.7678515456907136,0.5574856580952305,-0.21363049583055474,-0.004351036570748041,1.7767003172794058,-0.9334138647986685,1.1304808417686179,0.6259673962193651,-0.32574810228326134,-0.1314461917476808,-1.026099740614713,1.4479027043794217,-0.7324036394879013,1.3638350653158162,0.39630123683757945,0.8552727269772812,0.556442238768529,-0.7228064270996896,0.22293755751174835,-1.2082858262037768,0.9335405006960275,-1.2550530627542957,0.4467812267087743,0.10029132132103305,-0.0549413599185377,-1.3333184037642272,-1.3301680594098622,-0.7769596473116724,1.0903101769330352,-0.8777530739281518,0.47434726364288193,-0.41172400734401376,1.8406953795409298,-1.1950680072719775,-1.8362013663508012,1.179099927241798,0.8161597425274931,-0.874575413587495,-1.5480799123989284,0.38698290337957475,0.23717793196131678,0.19455267577594007,-0.8356082236548912,-2.2865479585455635,0.16634216318820633,-0.46122556641627444,-2.4094331248490484,0.3792702082051058,-0.7537096573938259,-0.759773123023279,0.8266482805597588,-1.0505006686540792,-0.15248344190761204,0.33598820905109306,-0.15974082243051765,0.8298682402617803,2.048597015286573,-0.255888630503058,-0.3669703838315419,-0.7260150403276863,1.4830320669622425,1.2370722898310813,1.6086441137657619,-0.45513715595293935,0.041818858058306776,-0.8630825576383753,-0.5510868008972226,-1.7331002160136844,1.094703385652114,0.11953874990716992,-0.6683136044821177,0.34599573563462505,-0.8319700524687987,-0.558261484573633,0.5030434040002801,0.6619721971501331,0.7818169444348697,-1.0897772248158428,-0.26427788527573237,-0.872217187223391,1.076038386332144,0.46941249058773576,-1.6653597079445228,-0.9531239576661726,0.2684194351671944,1.2397589831101998,-0.007990690617178655,-1.321950623693112,0.6809604552532404,1.2779317283832747,0.14449547116258432,-0.630375829713827,1.3946080794601639,-0.40166706464735724,0.35770716033720257,0.35722053214901406,1.0364875764023738,2.1454701108264893,1.370139380136401,-0.38450430586042783],\"type\":\"box\"},{\"boxpoints\":false,\"line\":{\"width\":1.3},\"marker\":{\"color\":\"rgba(55, 128, 191, 1.0)\"},\"name\":\"B\",\"orientation\":\"v\",\"y\":[-0.5044942157545312,0.9888079420118232,2.9620680407643136,-0.8789960931170367,-0.5961772819016423,0.967688669792416,-0.30943339838483885,-0.964594537403104,-0.836742028077735,0.6837214282723483,2.1148598036106416,1.333928221051847,-0.15938807086833995,-0.4894942830770963,-0.37006575779613216,1.1026545609048777,0.5630207275529113,-1.4192173368675955,-0.5480468910450349,2.8716050981906327,1.2435943906567244,0.37357369531247503,0.37506127823100743,1.6049709934739458,-0.47270842030216825,0.5239023663911087,0.062033033799205,0.08291640751423532,-0.5829462865942209,1.4983306749026488,-1.0408969676787778,-2.1629858241103914,1.6422521446910348,-0.15868897935445367,0.37357393201209904,0.2274780237281322,-0.15852313872673549,-0.4722233032766944,1.0380141282313096,1.4264846036211958,0.07827925875641766,-0.545800770626657,0.9845828289203694,1.3195592923527997,0.5490608948134178,-0.1415638073954051,-0.6516249038568959,-0.7395594895353859,-0.6412458750835105,-0.25840521061978156,1.118167889564803,-2.280860698263176,-0.8401468839715613,-0.04322526654247106,-0.07284643005540295,0.04391872945696018,-2.3001339080663836,1.0646541570241572,-2.251336395475597,-1.3468068532341253,-0.3207741538563641,0.6305921908091108,-0.24008228934501483,-0.0022307686225104062,1.3895549980239637,0.34777396370618113,-2.0785013494076794,-1.6486984731387868,0.8857283314402425,0.6833531331085659,0.12459556402099713,0.0831977004120792,1.672604351977852,0.14773585534981465,-0.7217092256636978,0.051001802110237714,-0.8384015454027037,0.6731042370435385,0.17304838753909765,-0.8232932608854376,0.767028815641581,-1.8104429941045004,1.8282580189982574,-0.523451238059469,1.8537992937385805,-0.3061469383127988,-0.06149910457886894,-0.2661031019289138,0.5949325643958282,-0.7758866651392171,0.5112661409862509,-1.271072249577671,0.7483241333480513,1.789665739230297,-0.505722738272695,1.3412466063005661,1.2191913846284896,-0.0580815975615273,-0.5507407904374377,1.5898268484313995],\"type\":\"box\"},{\"boxpoints\":false,\"line\":{\"width\":1.3},\"marker\":{\"color\":\"rgba(50, 171, 96, 1.0)\"},\"name\":\"C\",\"orientation\":\"v\",\"y\":[-1.8201913265527303,-0.40533667730108597,-0.5061076449396962,1.1922140171784994,-1.2878651814078301,-2.0875667102001847,1.1359161025340003,-0.07975348897386565,0.16056033389825844,1.124722959228828,-1.0760705960481889,-0.35840908773828994,-0.5897085324218448,-1.071805416413214,-0.24467585713609044,2.8619182220963615,0.8179447485176887,-0.3651639599408454,-1.0514172947895792,-0.16632879081565502,-0.5023105357432766,0.18625466177531907,-0.5574087678371401,1.0376706639357471,1.9600750938572835,-0.7639352725337002,0.5124698963807007,-1.5474971910101507,1.0002078982538647,-0.4377919098125437,1.1031060605395542,0.25535981415649517,-0.3450852736055648,-0.04624154453733395,2.6362020496022502,1.8598141682965104,-1.1681490739797136,1.5173724333426744,-1.1761600730174717,0.2930700147541619,0.8101058165963707,1.146014689165013,-0.10325377444181959,1.427681493888483,0.5939532894371914,-0.39797266930198444,0.7802618393107127,1.9176420222448844,0.2553039738011546,-0.9482009983103359,1.0107156853545773,-0.8678369478973159,0.3013044983436712,-0.4969682271595119,1.1151305873477453,-1.2684445322396838,-0.2077278129483146,1.113546960150091,0.9867481245160042,-0.4108178571402074,1.3766331259618554,-0.9821344822529295,0.9083785275769809,0.9815542389492546,0.25954666052048203,1.6879036846709607,0.7895361058172605,-0.6078635133113303,-0.6585305793683645,-0.3676584629527762,0.0640337758872838,0.6950945220389215,1.5891689293580147,-0.573163488272661,-0.6411353780052226,-0.3384456214766705,1.2132745960403493,1.52160619121688,1.5392895620341296,0.6257515304283414,-0.694037425090867,-2.2471218993382442,0.7538425419802119,0.34809140715926845,0.257122267442059,-0.19685369095482094,2.247026153566917,-0.18492413238763644,-0.01643540424867496,1.5499300592918965,0.578737740126321,0.5766895078694938,2.313794112427557,-0.666123322046375,-0.1825573582237236,-0.32486405815227387,-0.082325109079772,0.28171512469617954,1.1597411614141633,-0.6075210002772761],\"type\":\"box\"},{\"boxpoints\":false,\"line\":{\"width\":1.3},\"marker\":{\"color\":\"rgba(128, 0, 128, 1.0)\"},\"name\":\"D\",\"orientation\":\"v\",\"y\":[-1.180735303630515,2.335222326905726,-1.6197574589979549,0.9028352023676829,1.6109261896790363,-0.7961454704693716,0.3720448301600562,-1.4434434807718641,-0.6119063991100594,1.8420214774973167,0.2520229457394457,0.05093447600310471,0.5446210490174672,-0.4402609818646418,-0.390977953514869,-0.07840859523009465,-0.1267926849131856,-3.374361649058948,-0.18009363328860958,3.4528280213098403,-0.2986607028736644,1.0956666525430585,-1.7863405706919313,1.3677989006774434,0.4354441364465162,0.13088701411783146,0.1553950897623964,-0.4925785624969984,0.32268461453856545,-1.700840271270966,0.6440602978278147,-0.2251600590361294,-0.16032895915867906,-0.3852025321126944,1.6145178668064544,-0.04137131604823876,-0.9749076248226239,1.3836699813550444,0.8982537349204344,0.9217283064844051,0.23625462017860271,-1.2122103871137158,-1.9927141415606817,-0.2959547598126391,-0.33372442818102865,-0.22056490650846694,0.7465644743865075,0.09987623381112562,-0.9376320317104025,0.20306725021030386,1.255015262344124,-0.028365486899400074,-1.1122577591505516,-0.0051746142853209675,-0.2256665884980495,2.7815061171333353,-0.2611876402833877,0.08549569945518426,-0.49291144393175046,-0.876468729067364,0.8108862452786229,-1.8687400730347454,0.5657560477398444,-0.21029389114024946,2.3890021587185006,0.8226474743506555,0.3565281349567872,-0.23326713943671804,0.0025591348298659527,-0.7397088567552248,-1.8554173584409612,-0.32550837085617157,0.28839964830935866,-0.7798617164656289,-0.7109761540827182,-0.7172440074028394,-0.6593860057595722,0.7333444107886511,0.5870183475529771,-1.9540870348563026,-0.1383639409908132,-1.3944854052375002,-0.3903337256465239,0.7562793578027802,-0.6870352789240671,0.8425270198944845,0.7148044492940651,-1.647037104244215,-0.8649562384137423,-0.7176125971028547,-0.681051744075285,1.1642499810546263,0.7491116092930705,1.3835618619707477,-0.10914937540931671,-1.7197130124431566,-0.07655706701279717,0.39764205850156625,-0.4120653423092205,0.7072388863918091],\"type\":\"box\"}],                        {\"legend\":{\"bgcolor\":\"#F5F6F9\",\"font\":{\"color\":\"#4D5663\"}},\"paper_bgcolor\":\"#F5F6F9\",\"plot_bgcolor\":\"#F5F6F9\",\"template\":{\"data\":{\"barpolar\":[{\"marker\":{\"line\":{\"color\":\"#E5ECF6\",\"width\":0.5},\"pattern\":{\"fillmode\":\"overlay\",\"size\":10,\"solidity\":0.2}},\"type\":\"barpolar\"}],\"bar\":[{\"error_x\":{\"color\":\"#2a3f5f\"},\"error_y\":{\"color\":\"#2a3f5f\"},\"marker\":{\"line\":{\"color\":\"#E5ECF6\",\"width\":0.5},\"pattern\":{\"fillmode\":\"overlay\",\"size\":10,\"solidity\":0.2}},\"type\":\"bar\"}],\"carpet\":[{\"aaxis\":{\"endlinecolor\":\"#2a3f5f\",\"gridcolor\":\"white\",\"linecolor\":\"white\",\"minorgridcolor\":\"white\",\"startlinecolor\":\"#2a3f5f\"},\"baxis\":{\"endlinecolor\":\"#2a3f5f\",\"gridcolor\":\"white\",\"linecolor\":\"white\",\"minorgridcolor\":\"white\",\"startlinecolor\":\"#2a3f5f\"},\"type\":\"carpet\"}],\"choropleth\":[{\"colorbar\":{\"outlinewidth\":0,\"ticks\":\"\"},\"type\":\"choropleth\"}],\"contourcarpet\":[{\"colorbar\":{\"outlinewidth\":0,\"ticks\":\"\"},\"type\":\"contourcarpet\"}],\"contour\":[{\"colorbar\":{\"outlinewidth\":0,\"ticks\":\"\"},\"colorscale\":[[0.0,\"#0d0887\"],[0.1111111111111111,\"#46039f\"],[0.2222222222222222,\"#7201a8\"],[0.3333333333333333,\"#9c179e\"],[0.4444444444444444,\"#bd3786\"],[0.5555555555555556,\"#d8576b\"],[0.6666666666666666,\"#ed7953\"],[0.7777777777777778,\"#fb9f3a\"],[0.8888888888888888,\"#fdca26\"],[1.0,\"#f0f921\"]],\"type\":\"contour\"}],\"heatmapgl\":[{\"colorbar\":{\"outlinewidth\":0,\"ticks\":\"\"},\"colorscale\":[[0.0,\"#0d0887\"],[0.1111111111111111,\"#46039f\"],[0.2222222222222222,\"#7201a8\"],[0.3333333333333333,\"#9c179e\"],[0.4444444444444444,\"#bd3786\"],[0.5555555555555556,\"#d8576b\"],[0.6666666666666666,\"#ed7953\"],[0.7777777777777778,\"#fb9f3a\"],[0.8888888888888888,\"#fdca26\"],[1.0,\"#f0f921\"]],\"type\":\"heatmapgl\"}],\"heatmap\":[{\"colorbar\":{\"outlinewidth\":0,\"ticks\":\"\"},\"colorscale\":[[0.0,\"#0d0887\"],[0.1111111111111111,\"#46039f\"],[0.2222222222222222,\"#7201a8\"],[0.3333333333333333,\"#9c179e\"],[0.4444444444444444,\"#bd3786\"],[0.5555555555555556,\"#d8576b\"],[0.6666666666666666,\"#ed7953\"],[0.7777777777777778,\"#fb9f3a\"],[0.8888888888888888,\"#fdca26\"],[1.0,\"#f0f921\"]],\"type\":\"heatmap\"}],\"histogram2dcontour\":[{\"colorbar\":{\"outlinewidth\":0,\"ticks\":\"\"},\"colorscale\":[[0.0,\"#0d0887\"],[0.1111111111111111,\"#46039f\"],[0.2222222222222222,\"#7201a8\"],[0.3333333333333333,\"#9c179e\"],[0.4444444444444444,\"#bd3786\"],[0.5555555555555556,\"#d8576b\"],[0.6666666666666666,\"#ed7953\"],[0.7777777777777778,\"#fb9f3a\"],[0.8888888888888888,\"#fdca26\"],[1.0,\"#f0f921\"]],\"type\":\"histogram2dcontour\"}],\"histogram2d\":[{\"colorbar\":{\"outlinewidth\":0,\"ticks\":\"\"},\"colorscale\":[[0.0,\"#0d0887\"],[0.1111111111111111,\"#46039f\"],[0.2222222222222222,\"#7201a8\"],[0.3333333333333333,\"#9c179e\"],[0.4444444444444444,\"#bd3786\"],[0.5555555555555556,\"#d8576b\"],[0.6666666666666666,\"#ed7953\"],[0.7777777777777778,\"#fb9f3a\"],[0.8888888888888888,\"#fdca26\"],[1.0,\"#f0f921\"]],\"type\":\"histogram2d\"}],\"histogram\":[{\"marker\":{\"pattern\":{\"fillmode\":\"overlay\",\"size\":10,\"solidity\":0.2}},\"type\":\"histogram\"}],\"mesh3d\":[{\"colorbar\":{\"outlinewidth\":0,\"ticks\":\"\"},\"type\":\"mesh3d\"}],\"parcoords\":[{\"line\":{\"colorbar\":{\"outlinewidth\":0,\"ticks\":\"\"}},\"type\":\"parcoords\"}],\"pie\":[{\"automargin\":true,\"type\":\"pie\"}],\"scatter3d\":[{\"line\":{\"colorbar\":{\"outlinewidth\":0,\"ticks\":\"\"}},\"marker\":{\"colorbar\":{\"outlinewidth\":0,\"ticks\":\"\"}},\"type\":\"scatter3d\"}],\"scattercarpet\":[{\"marker\":{\"colorbar\":{\"outlinewidth\":0,\"ticks\":\"\"}},\"type\":\"scattercarpet\"}],\"scattergeo\":[{\"marker\":{\"colorbar\":{\"outlinewidth\":0,\"ticks\":\"\"}},\"type\":\"scattergeo\"}],\"scattergl\":[{\"marker\":{\"colorbar\":{\"outlinewidth\":0,\"ticks\":\"\"}},\"type\":\"scattergl\"}],\"scattermapbox\":[{\"marker\":{\"colorbar\":{\"outlinewidth\":0,\"ticks\":\"\"}},\"type\":\"scattermapbox\"}],\"scatterpolargl\":[{\"marker\":{\"colorbar\":{\"outlinewidth\":0,\"ticks\":\"\"}},\"type\":\"scatterpolargl\"}],\"scatterpolar\":[{\"marker\":{\"colorbar\":{\"outlinewidth\":0,\"ticks\":\"\"}},\"type\":\"scatterpolar\"}],\"scatter\":[{\"fillpattern\":{\"fillmode\":\"overlay\",\"size\":10,\"solidity\":0.2},\"type\":\"scatter\"}],\"scatterternary\":[{\"marker\":{\"colorbar\":{\"outlinewidth\":0,\"ticks\":\"\"}},\"type\":\"scatterternary\"}],\"surface\":[{\"colorbar\":{\"outlinewidth\":0,\"ticks\":\"\"},\"colorscale\":[[0.0,\"#0d0887\"],[0.1111111111111111,\"#46039f\"],[0.2222222222222222,\"#7201a8\"],[0.3333333333333333,\"#9c179e\"],[0.4444444444444444,\"#bd3786\"],[0.5555555555555556,\"#d8576b\"],[0.6666666666666666,\"#ed7953\"],[0.7777777777777778,\"#fb9f3a\"],[0.8888888888888888,\"#fdca26\"],[1.0,\"#f0f921\"]],\"type\":\"surface\"}],\"table\":[{\"cells\":{\"fill\":{\"color\":\"#EBF0F8\"},\"line\":{\"color\":\"white\"}},\"header\":{\"fill\":{\"color\":\"#C8D4E3\"},\"line\":{\"color\":\"white\"}},\"type\":\"table\"}]},\"layout\":{\"annotationdefaults\":{\"arrowcolor\":\"#2a3f5f\",\"arrowhead\":0,\"arrowwidth\":1},\"autotypenumbers\":\"strict\",\"coloraxis\":{\"colorbar\":{\"outlinewidth\":0,\"ticks\":\"\"}},\"colorscale\":{\"diverging\":[[0,\"#8e0152\"],[0.1,\"#c51b7d\"],[0.2,\"#de77ae\"],[0.3,\"#f1b6da\"],[0.4,\"#fde0ef\"],[0.5,\"#f7f7f7\"],[0.6,\"#e6f5d0\"],[0.7,\"#b8e186\"],[0.8,\"#7fbc41\"],[0.9,\"#4d9221\"],[1,\"#276419\"]],\"sequential\":[[0.0,\"#0d0887\"],[0.1111111111111111,\"#46039f\"],[0.2222222222222222,\"#7201a8\"],[0.3333333333333333,\"#9c179e\"],[0.4444444444444444,\"#bd3786\"],[0.5555555555555556,\"#d8576b\"],[0.6666666666666666,\"#ed7953\"],[0.7777777777777778,\"#fb9f3a\"],[0.8888888888888888,\"#fdca26\"],[1.0,\"#f0f921\"]],\"sequentialminus\":[[0.0,\"#0d0887\"],[0.1111111111111111,\"#46039f\"],[0.2222222222222222,\"#7201a8\"],[0.3333333333333333,\"#9c179e\"],[0.4444444444444444,\"#bd3786\"],[0.5555555555555556,\"#d8576b\"],[0.6666666666666666,\"#ed7953\"],[0.7777777777777778,\"#fb9f3a\"],[0.8888888888888888,\"#fdca26\"],[1.0,\"#f0f921\"]]},\"colorway\":[\"#636efa\",\"#EF553B\",\"#00cc96\",\"#ab63fa\",\"#FFA15A\",\"#19d3f3\",\"#FF6692\",\"#B6E880\",\"#FF97FF\",\"#FECB52\"],\"font\":{\"color\":\"#2a3f5f\"},\"geo\":{\"bgcolor\":\"white\",\"lakecolor\":\"white\",\"landcolor\":\"#E5ECF6\",\"showlakes\":true,\"showland\":true,\"subunitcolor\":\"white\"},\"hoverlabel\":{\"align\":\"left\"},\"hovermode\":\"closest\",\"mapbox\":{\"style\":\"light\"},\"paper_bgcolor\":\"white\",\"plot_bgcolor\":\"#E5ECF6\",\"polar\":{\"angularaxis\":{\"gridcolor\":\"white\",\"linecolor\":\"white\",\"ticks\":\"\"},\"bgcolor\":\"#E5ECF6\",\"radialaxis\":{\"gridcolor\":\"white\",\"linecolor\":\"white\",\"ticks\":\"\"}},\"scene\":{\"xaxis\":{\"backgroundcolor\":\"#E5ECF6\",\"gridcolor\":\"white\",\"gridwidth\":2,\"linecolor\":\"white\",\"showbackground\":true,\"ticks\":\"\",\"zerolinecolor\":\"white\"},\"yaxis\":{\"backgroundcolor\":\"#E5ECF6\",\"gridcolor\":\"white\",\"gridwidth\":2,\"linecolor\":\"white\",\"showbackground\":true,\"ticks\":\"\",\"zerolinecolor\":\"white\"},\"zaxis\":{\"backgroundcolor\":\"#E5ECF6\",\"gridcolor\":\"white\",\"gridwidth\":2,\"linecolor\":\"white\",\"showbackground\":true,\"ticks\":\"\",\"zerolinecolor\":\"white\"}},\"shapedefaults\":{\"line\":{\"color\":\"#2a3f5f\"}},\"ternary\":{\"aaxis\":{\"gridcolor\":\"white\",\"linecolor\":\"white\",\"ticks\":\"\"},\"baxis\":{\"gridcolor\":\"white\",\"linecolor\":\"white\",\"ticks\":\"\"},\"bgcolor\":\"#E5ECF6\",\"caxis\":{\"gridcolor\":\"white\",\"linecolor\":\"white\",\"ticks\":\"\"}},\"title\":{\"x\":0.05},\"xaxis\":{\"automargin\":true,\"gridcolor\":\"white\",\"linecolor\":\"white\",\"ticks\":\"\",\"title\":{\"standoff\":15},\"zerolinecolor\":\"white\",\"zerolinewidth\":2},\"yaxis\":{\"automargin\":true,\"gridcolor\":\"white\",\"linecolor\":\"white\",\"ticks\":\"\",\"title\":{\"standoff\":15},\"zerolinecolor\":\"white\",\"zerolinewidth\":2}}},\"title\":{\"font\":{\"color\":\"#4D5663\"}},\"xaxis\":{\"gridcolor\":\"#E1E5ED\",\"showgrid\":true,\"tickfont\":{\"color\":\"#4D5663\"},\"title\":{\"font\":{\"color\":\"#4D5663\"},\"text\":\"\"},\"zerolinecolor\":\"#E1E5ED\"},\"yaxis\":{\"gridcolor\":\"#E1E5ED\",\"showgrid\":true,\"tickfont\":{\"color\":\"#4D5663\"},\"title\":{\"font\":{\"color\":\"#4D5663\"},\"text\":\"\"},\"zerolinecolor\":\"#E1E5ED\"}},                        {\"showLink\": true, \"linkText\": \"Export to plot.ly\", \"plotlyServerURL\": \"https://plot.ly\", \"responsive\": true}                    ).then(function(){\n",
       "                            \n",
       "var gd = document.getElementById('78dc73d8-ab6f-44eb-baa2-8d5025d8fc0f');\n",
       "var x = new MutationObserver(function (mutations, observer) {{\n",
       "        var display = window.getComputedStyle(gd).display;\n",
       "        if (!display || display === 'none') {{\n",
       "            console.log([gd, 'removed!']);\n",
       "            Plotly.purge(gd);\n",
       "            observer.disconnect();\n",
       "        }}\n",
       "}});\n",
       "\n",
       "// Listen for the removal of the full notebook cells\n",
       "var notebookContainer = gd.closest('#notebook-container');\n",
       "if (notebookContainer) {{\n",
       "    x.observe(notebookContainer, {childList: true});\n",
       "}}\n",
       "\n",
       "// Listen for the clearing of the current output cell\n",
       "var outputEl = gd.closest('.output');\n",
       "if (outputEl) {{\n",
       "    x.observe(outputEl, {childList: true});\n",
       "}}\n",
       "\n",
       "                        })                };                });            </script>        </div>"
      ]
     },
     "metadata": {},
     "output_type": "display_data"
    }
   ],
   "source": [
    "df.iplot(kind='box')"
   ]
  },
  {
   "cell_type": "markdown",
   "metadata": {},
   "source": [
    "## 3d Surface"
   ]
  },
  {
   "cell_type": "code",
   "execution_count": 18,
   "metadata": {},
   "outputs": [
    {
     "data": {
      "application/vnd.plotly.v1+json": {
       "config": {
        "linkText": "Export to plot.ly",
        "plotlyServerURL": "https://plot.ly",
        "showLink": true
       },
       "data": [
        {
         "colorscale": [
          [
           0,
           "rgb(165,0,38)"
          ],
          [
           0.1,
           "rgb(215,48,39)"
          ],
          [
           0.2,
           "rgb(244,109,67)"
          ],
          [
           0.3,
           "rgb(253,174,97)"
          ],
          [
           0.4,
           "rgb(254,224,144)"
          ],
          [
           0.5,
           "rgb(255,255,191)"
          ],
          [
           0.6,
           "rgb(224,243,248)"
          ],
          [
           0.7,
           "rgb(171,217,233)"
          ],
          [
           0.8,
           "rgb(116,173,209)"
          ],
          [
           0.9,
           "rgb(69,117,180)"
          ],
          [
           1,
           "rgb(49,54,149)"
          ]
         ],
         "type": "surface",
         "x": [
          0,
          1,
          2,
          3,
          4
         ],
         "y": [
          "x",
          "y",
          "z"
         ],
         "z": [
          [
           11,
           2,
           3,
           40,
           5
          ],
          [
           20,
           20,
           30,
           20,
           10
          ],
          [
           5,
           4,
           3,
           2,
           1
          ]
         ]
        }
       ],
       "layout": {
        "legend": {
         "bgcolor": "#F5F6F9",
         "font": {
          "color": "#4D5663"
         }
        },
        "paper_bgcolor": "#F5F6F9",
        "plot_bgcolor": "#F5F6F9",
        "template": {
         "data": {
          "bar": [
           {
            "error_x": {
             "color": "#2a3f5f"
            },
            "error_y": {
             "color": "#2a3f5f"
            },
            "marker": {
             "line": {
              "color": "#E5ECF6",
              "width": 0.5
             },
             "pattern": {
              "fillmode": "overlay",
              "size": 10,
              "solidity": 0.2
             }
            },
            "type": "bar"
           }
          ],
          "barpolar": [
           {
            "marker": {
             "line": {
              "color": "#E5ECF6",
              "width": 0.5
             },
             "pattern": {
              "fillmode": "overlay",
              "size": 10,
              "solidity": 0.2
             }
            },
            "type": "barpolar"
           }
          ],
          "carpet": [
           {
            "aaxis": {
             "endlinecolor": "#2a3f5f",
             "gridcolor": "white",
             "linecolor": "white",
             "minorgridcolor": "white",
             "startlinecolor": "#2a3f5f"
            },
            "baxis": {
             "endlinecolor": "#2a3f5f",
             "gridcolor": "white",
             "linecolor": "white",
             "minorgridcolor": "white",
             "startlinecolor": "#2a3f5f"
            },
            "type": "carpet"
           }
          ],
          "choropleth": [
           {
            "colorbar": {
             "outlinewidth": 0,
             "ticks": ""
            },
            "type": "choropleth"
           }
          ],
          "contour": [
           {
            "colorbar": {
             "outlinewidth": 0,
             "ticks": ""
            },
            "colorscale": [
             [
              0,
              "#0d0887"
             ],
             [
              0.1111111111111111,
              "#46039f"
             ],
             [
              0.2222222222222222,
              "#7201a8"
             ],
             [
              0.3333333333333333,
              "#9c179e"
             ],
             [
              0.4444444444444444,
              "#bd3786"
             ],
             [
              0.5555555555555556,
              "#d8576b"
             ],
             [
              0.6666666666666666,
              "#ed7953"
             ],
             [
              0.7777777777777778,
              "#fb9f3a"
             ],
             [
              0.8888888888888888,
              "#fdca26"
             ],
             [
              1,
              "#f0f921"
             ]
            ],
            "type": "contour"
           }
          ],
          "contourcarpet": [
           {
            "colorbar": {
             "outlinewidth": 0,
             "ticks": ""
            },
            "type": "contourcarpet"
           }
          ],
          "heatmap": [
           {
            "colorbar": {
             "outlinewidth": 0,
             "ticks": ""
            },
            "colorscale": [
             [
              0,
              "#0d0887"
             ],
             [
              0.1111111111111111,
              "#46039f"
             ],
             [
              0.2222222222222222,
              "#7201a8"
             ],
             [
              0.3333333333333333,
              "#9c179e"
             ],
             [
              0.4444444444444444,
              "#bd3786"
             ],
             [
              0.5555555555555556,
              "#d8576b"
             ],
             [
              0.6666666666666666,
              "#ed7953"
             ],
             [
              0.7777777777777778,
              "#fb9f3a"
             ],
             [
              0.8888888888888888,
              "#fdca26"
             ],
             [
              1,
              "#f0f921"
             ]
            ],
            "type": "heatmap"
           }
          ],
          "heatmapgl": [
           {
            "colorbar": {
             "outlinewidth": 0,
             "ticks": ""
            },
            "colorscale": [
             [
              0,
              "#0d0887"
             ],
             [
              0.1111111111111111,
              "#46039f"
             ],
             [
              0.2222222222222222,
              "#7201a8"
             ],
             [
              0.3333333333333333,
              "#9c179e"
             ],
             [
              0.4444444444444444,
              "#bd3786"
             ],
             [
              0.5555555555555556,
              "#d8576b"
             ],
             [
              0.6666666666666666,
              "#ed7953"
             ],
             [
              0.7777777777777778,
              "#fb9f3a"
             ],
             [
              0.8888888888888888,
              "#fdca26"
             ],
             [
              1,
              "#f0f921"
             ]
            ],
            "type": "heatmapgl"
           }
          ],
          "histogram": [
           {
            "marker": {
             "pattern": {
              "fillmode": "overlay",
              "size": 10,
              "solidity": 0.2
             }
            },
            "type": "histogram"
           }
          ],
          "histogram2d": [
           {
            "colorbar": {
             "outlinewidth": 0,
             "ticks": ""
            },
            "colorscale": [
             [
              0,
              "#0d0887"
             ],
             [
              0.1111111111111111,
              "#46039f"
             ],
             [
              0.2222222222222222,
              "#7201a8"
             ],
             [
              0.3333333333333333,
              "#9c179e"
             ],
             [
              0.4444444444444444,
              "#bd3786"
             ],
             [
              0.5555555555555556,
              "#d8576b"
             ],
             [
              0.6666666666666666,
              "#ed7953"
             ],
             [
              0.7777777777777778,
              "#fb9f3a"
             ],
             [
              0.8888888888888888,
              "#fdca26"
             ],
             [
              1,
              "#f0f921"
             ]
            ],
            "type": "histogram2d"
           }
          ],
          "histogram2dcontour": [
           {
            "colorbar": {
             "outlinewidth": 0,
             "ticks": ""
            },
            "colorscale": [
             [
              0,
              "#0d0887"
             ],
             [
              0.1111111111111111,
              "#46039f"
             ],
             [
              0.2222222222222222,
              "#7201a8"
             ],
             [
              0.3333333333333333,
              "#9c179e"
             ],
             [
              0.4444444444444444,
              "#bd3786"
             ],
             [
              0.5555555555555556,
              "#d8576b"
             ],
             [
              0.6666666666666666,
              "#ed7953"
             ],
             [
              0.7777777777777778,
              "#fb9f3a"
             ],
             [
              0.8888888888888888,
              "#fdca26"
             ],
             [
              1,
              "#f0f921"
             ]
            ],
            "type": "histogram2dcontour"
           }
          ],
          "mesh3d": [
           {
            "colorbar": {
             "outlinewidth": 0,
             "ticks": ""
            },
            "type": "mesh3d"
           }
          ],
          "parcoords": [
           {
            "line": {
             "colorbar": {
              "outlinewidth": 0,
              "ticks": ""
             }
            },
            "type": "parcoords"
           }
          ],
          "pie": [
           {
            "automargin": true,
            "type": "pie"
           }
          ],
          "scatter": [
           {
            "fillpattern": {
             "fillmode": "overlay",
             "size": 10,
             "solidity": 0.2
            },
            "type": "scatter"
           }
          ],
          "scatter3d": [
           {
            "line": {
             "colorbar": {
              "outlinewidth": 0,
              "ticks": ""
             }
            },
            "marker": {
             "colorbar": {
              "outlinewidth": 0,
              "ticks": ""
             }
            },
            "type": "scatter3d"
           }
          ],
          "scattercarpet": [
           {
            "marker": {
             "colorbar": {
              "outlinewidth": 0,
              "ticks": ""
             }
            },
            "type": "scattercarpet"
           }
          ],
          "scattergeo": [
           {
            "marker": {
             "colorbar": {
              "outlinewidth": 0,
              "ticks": ""
             }
            },
            "type": "scattergeo"
           }
          ],
          "scattergl": [
           {
            "marker": {
             "colorbar": {
              "outlinewidth": 0,
              "ticks": ""
             }
            },
            "type": "scattergl"
           }
          ],
          "scattermapbox": [
           {
            "marker": {
             "colorbar": {
              "outlinewidth": 0,
              "ticks": ""
             }
            },
            "type": "scattermapbox"
           }
          ],
          "scatterpolar": [
           {
            "marker": {
             "colorbar": {
              "outlinewidth": 0,
              "ticks": ""
             }
            },
            "type": "scatterpolar"
           }
          ],
          "scatterpolargl": [
           {
            "marker": {
             "colorbar": {
              "outlinewidth": 0,
              "ticks": ""
             }
            },
            "type": "scatterpolargl"
           }
          ],
          "scatterternary": [
           {
            "marker": {
             "colorbar": {
              "outlinewidth": 0,
              "ticks": ""
             }
            },
            "type": "scatterternary"
           }
          ],
          "surface": [
           {
            "colorbar": {
             "outlinewidth": 0,
             "ticks": ""
            },
            "colorscale": [
             [
              0,
              "#0d0887"
             ],
             [
              0.1111111111111111,
              "#46039f"
             ],
             [
              0.2222222222222222,
              "#7201a8"
             ],
             [
              0.3333333333333333,
              "#9c179e"
             ],
             [
              0.4444444444444444,
              "#bd3786"
             ],
             [
              0.5555555555555556,
              "#d8576b"
             ],
             [
              0.6666666666666666,
              "#ed7953"
             ],
             [
              0.7777777777777778,
              "#fb9f3a"
             ],
             [
              0.8888888888888888,
              "#fdca26"
             ],
             [
              1,
              "#f0f921"
             ]
            ],
            "type": "surface"
           }
          ],
          "table": [
           {
            "cells": {
             "fill": {
              "color": "#EBF0F8"
             },
             "line": {
              "color": "white"
             }
            },
            "header": {
             "fill": {
              "color": "#C8D4E3"
             },
             "line": {
              "color": "white"
             }
            },
            "type": "table"
           }
          ]
         },
         "layout": {
          "annotationdefaults": {
           "arrowcolor": "#2a3f5f",
           "arrowhead": 0,
           "arrowwidth": 1
          },
          "autotypenumbers": "strict",
          "coloraxis": {
           "colorbar": {
            "outlinewidth": 0,
            "ticks": ""
           }
          },
          "colorscale": {
           "diverging": [
            [
             0,
             "#8e0152"
            ],
            [
             0.1,
             "#c51b7d"
            ],
            [
             0.2,
             "#de77ae"
            ],
            [
             0.3,
             "#f1b6da"
            ],
            [
             0.4,
             "#fde0ef"
            ],
            [
             0.5,
             "#f7f7f7"
            ],
            [
             0.6,
             "#e6f5d0"
            ],
            [
             0.7,
             "#b8e186"
            ],
            [
             0.8,
             "#7fbc41"
            ],
            [
             0.9,
             "#4d9221"
            ],
            [
             1,
             "#276419"
            ]
           ],
           "sequential": [
            [
             0,
             "#0d0887"
            ],
            [
             0.1111111111111111,
             "#46039f"
            ],
            [
             0.2222222222222222,
             "#7201a8"
            ],
            [
             0.3333333333333333,
             "#9c179e"
            ],
            [
             0.4444444444444444,
             "#bd3786"
            ],
            [
             0.5555555555555556,
             "#d8576b"
            ],
            [
             0.6666666666666666,
             "#ed7953"
            ],
            [
             0.7777777777777778,
             "#fb9f3a"
            ],
            [
             0.8888888888888888,
             "#fdca26"
            ],
            [
             1,
             "#f0f921"
            ]
           ],
           "sequentialminus": [
            [
             0,
             "#0d0887"
            ],
            [
             0.1111111111111111,
             "#46039f"
            ],
            [
             0.2222222222222222,
             "#7201a8"
            ],
            [
             0.3333333333333333,
             "#9c179e"
            ],
            [
             0.4444444444444444,
             "#bd3786"
            ],
            [
             0.5555555555555556,
             "#d8576b"
            ],
            [
             0.6666666666666666,
             "#ed7953"
            ],
            [
             0.7777777777777778,
             "#fb9f3a"
            ],
            [
             0.8888888888888888,
             "#fdca26"
            ],
            [
             1,
             "#f0f921"
            ]
           ]
          },
          "colorway": [
           "#636efa",
           "#EF553B",
           "#00cc96",
           "#ab63fa",
           "#FFA15A",
           "#19d3f3",
           "#FF6692",
           "#B6E880",
           "#FF97FF",
           "#FECB52"
          ],
          "font": {
           "color": "#2a3f5f"
          },
          "geo": {
           "bgcolor": "white",
           "lakecolor": "white",
           "landcolor": "#E5ECF6",
           "showlakes": true,
           "showland": true,
           "subunitcolor": "white"
          },
          "hoverlabel": {
           "align": "left"
          },
          "hovermode": "closest",
          "mapbox": {
           "style": "light"
          },
          "paper_bgcolor": "white",
          "plot_bgcolor": "#E5ECF6",
          "polar": {
           "angularaxis": {
            "gridcolor": "white",
            "linecolor": "white",
            "ticks": ""
           },
           "bgcolor": "#E5ECF6",
           "radialaxis": {
            "gridcolor": "white",
            "linecolor": "white",
            "ticks": ""
           }
          },
          "scene": {
           "xaxis": {
            "backgroundcolor": "#E5ECF6",
            "gridcolor": "white",
            "gridwidth": 2,
            "linecolor": "white",
            "showbackground": true,
            "ticks": "",
            "zerolinecolor": "white"
           },
           "yaxis": {
            "backgroundcolor": "#E5ECF6",
            "gridcolor": "white",
            "gridwidth": 2,
            "linecolor": "white",
            "showbackground": true,
            "ticks": "",
            "zerolinecolor": "white"
           },
           "zaxis": {
            "backgroundcolor": "#E5ECF6",
            "gridcolor": "white",
            "gridwidth": 2,
            "linecolor": "white",
            "showbackground": true,
            "ticks": "",
            "zerolinecolor": "white"
           }
          },
          "shapedefaults": {
           "line": {
            "color": "#2a3f5f"
           }
          },
          "ternary": {
           "aaxis": {
            "gridcolor": "white",
            "linecolor": "white",
            "ticks": ""
           },
           "baxis": {
            "gridcolor": "white",
            "linecolor": "white",
            "ticks": ""
           },
           "bgcolor": "#E5ECF6",
           "caxis": {
            "gridcolor": "white",
            "linecolor": "white",
            "ticks": ""
           }
          },
          "title": {
           "x": 0.05
          },
          "xaxis": {
           "automargin": true,
           "gridcolor": "white",
           "linecolor": "white",
           "ticks": "",
           "title": {
            "standoff": 15
           },
           "zerolinecolor": "white",
           "zerolinewidth": 2
          },
          "yaxis": {
           "automargin": true,
           "gridcolor": "white",
           "linecolor": "white",
           "ticks": "",
           "title": {
            "standoff": 15
           },
           "zerolinecolor": "white",
           "zerolinewidth": 2
          }
         }
        },
        "title": {
         "font": {
          "color": "#4D5663"
         }
        },
        "xaxis": {
         "gridcolor": "#E1E5ED",
         "showgrid": true,
         "tickfont": {
          "color": "#4D5663"
         },
         "title": {
          "font": {
           "color": "#4D5663"
          },
          "text": ""
         },
         "zerolinecolor": "#E1E5ED"
        },
        "yaxis": {
         "gridcolor": "#E1E5ED",
         "showgrid": true,
         "tickfont": {
          "color": "#4D5663"
         },
         "title": {
          "font": {
           "color": "#4D5663"
          },
          "text": ""
         },
         "zerolinecolor": "#E1E5ED"
        }
       }
      },
      "text/html": [
       "<div>                            <div id=\"0cd84aee-b5f3-45f0-90ab-472464430fff\" class=\"plotly-graph-div\" style=\"height:525px; width:100%;\"></div>            <script type=\"text/javascript\">                require([\"plotly\"], function(Plotly) {                    window.PLOTLYENV=window.PLOTLYENV || {};\n",
       "                    window.PLOTLYENV.BASE_URL='https://plot.ly';                                    if (document.getElementById(\"0cd84aee-b5f3-45f0-90ab-472464430fff\")) {                    Plotly.newPlot(                        \"0cd84aee-b5f3-45f0-90ab-472464430fff\",                        [{\"colorscale\":[[0.0,\"rgb(165,0,38)\"],[0.1,\"rgb(215,48,39)\"],[0.2,\"rgb(244,109,67)\"],[0.3,\"rgb(253,174,97)\"],[0.4,\"rgb(254,224,144)\"],[0.5,\"rgb(255,255,191)\"],[0.6,\"rgb(224,243,248)\"],[0.7,\"rgb(171,217,233)\"],[0.8,\"rgb(116,173,209)\"],[0.9,\"rgb(69,117,180)\"],[1.0,\"rgb(49,54,149)\"]],\"x\":[0,1,2,3,4],\"y\":[\"x\",\"y\",\"z\"],\"z\":[[11,2,3,40,5],[20,20,30,20,10],[5,4,3,2,1]],\"type\":\"surface\"}],                        {\"legend\":{\"bgcolor\":\"#F5F6F9\",\"font\":{\"color\":\"#4D5663\"}},\"paper_bgcolor\":\"#F5F6F9\",\"plot_bgcolor\":\"#F5F6F9\",\"template\":{\"data\":{\"barpolar\":[{\"marker\":{\"line\":{\"color\":\"#E5ECF6\",\"width\":0.5},\"pattern\":{\"fillmode\":\"overlay\",\"size\":10,\"solidity\":0.2}},\"type\":\"barpolar\"}],\"bar\":[{\"error_x\":{\"color\":\"#2a3f5f\"},\"error_y\":{\"color\":\"#2a3f5f\"},\"marker\":{\"line\":{\"color\":\"#E5ECF6\",\"width\":0.5},\"pattern\":{\"fillmode\":\"overlay\",\"size\":10,\"solidity\":0.2}},\"type\":\"bar\"}],\"carpet\":[{\"aaxis\":{\"endlinecolor\":\"#2a3f5f\",\"gridcolor\":\"white\",\"linecolor\":\"white\",\"minorgridcolor\":\"white\",\"startlinecolor\":\"#2a3f5f\"},\"baxis\":{\"endlinecolor\":\"#2a3f5f\",\"gridcolor\":\"white\",\"linecolor\":\"white\",\"minorgridcolor\":\"white\",\"startlinecolor\":\"#2a3f5f\"},\"type\":\"carpet\"}],\"choropleth\":[{\"colorbar\":{\"outlinewidth\":0,\"ticks\":\"\"},\"type\":\"choropleth\"}],\"contourcarpet\":[{\"colorbar\":{\"outlinewidth\":0,\"ticks\":\"\"},\"type\":\"contourcarpet\"}],\"contour\":[{\"colorbar\":{\"outlinewidth\":0,\"ticks\":\"\"},\"colorscale\":[[0.0,\"#0d0887\"],[0.1111111111111111,\"#46039f\"],[0.2222222222222222,\"#7201a8\"],[0.3333333333333333,\"#9c179e\"],[0.4444444444444444,\"#bd3786\"],[0.5555555555555556,\"#d8576b\"],[0.6666666666666666,\"#ed7953\"],[0.7777777777777778,\"#fb9f3a\"],[0.8888888888888888,\"#fdca26\"],[1.0,\"#f0f921\"]],\"type\":\"contour\"}],\"heatmapgl\":[{\"colorbar\":{\"outlinewidth\":0,\"ticks\":\"\"},\"colorscale\":[[0.0,\"#0d0887\"],[0.1111111111111111,\"#46039f\"],[0.2222222222222222,\"#7201a8\"],[0.3333333333333333,\"#9c179e\"],[0.4444444444444444,\"#bd3786\"],[0.5555555555555556,\"#d8576b\"],[0.6666666666666666,\"#ed7953\"],[0.7777777777777778,\"#fb9f3a\"],[0.8888888888888888,\"#fdca26\"],[1.0,\"#f0f921\"]],\"type\":\"heatmapgl\"}],\"heatmap\":[{\"colorbar\":{\"outlinewidth\":0,\"ticks\":\"\"},\"colorscale\":[[0.0,\"#0d0887\"],[0.1111111111111111,\"#46039f\"],[0.2222222222222222,\"#7201a8\"],[0.3333333333333333,\"#9c179e\"],[0.4444444444444444,\"#bd3786\"],[0.5555555555555556,\"#d8576b\"],[0.6666666666666666,\"#ed7953\"],[0.7777777777777778,\"#fb9f3a\"],[0.8888888888888888,\"#fdca26\"],[1.0,\"#f0f921\"]],\"type\":\"heatmap\"}],\"histogram2dcontour\":[{\"colorbar\":{\"outlinewidth\":0,\"ticks\":\"\"},\"colorscale\":[[0.0,\"#0d0887\"],[0.1111111111111111,\"#46039f\"],[0.2222222222222222,\"#7201a8\"],[0.3333333333333333,\"#9c179e\"],[0.4444444444444444,\"#bd3786\"],[0.5555555555555556,\"#d8576b\"],[0.6666666666666666,\"#ed7953\"],[0.7777777777777778,\"#fb9f3a\"],[0.8888888888888888,\"#fdca26\"],[1.0,\"#f0f921\"]],\"type\":\"histogram2dcontour\"}],\"histogram2d\":[{\"colorbar\":{\"outlinewidth\":0,\"ticks\":\"\"},\"colorscale\":[[0.0,\"#0d0887\"],[0.1111111111111111,\"#46039f\"],[0.2222222222222222,\"#7201a8\"],[0.3333333333333333,\"#9c179e\"],[0.4444444444444444,\"#bd3786\"],[0.5555555555555556,\"#d8576b\"],[0.6666666666666666,\"#ed7953\"],[0.7777777777777778,\"#fb9f3a\"],[0.8888888888888888,\"#fdca26\"],[1.0,\"#f0f921\"]],\"type\":\"histogram2d\"}],\"histogram\":[{\"marker\":{\"pattern\":{\"fillmode\":\"overlay\",\"size\":10,\"solidity\":0.2}},\"type\":\"histogram\"}],\"mesh3d\":[{\"colorbar\":{\"outlinewidth\":0,\"ticks\":\"\"},\"type\":\"mesh3d\"}],\"parcoords\":[{\"line\":{\"colorbar\":{\"outlinewidth\":0,\"ticks\":\"\"}},\"type\":\"parcoords\"}],\"pie\":[{\"automargin\":true,\"type\":\"pie\"}],\"scatter3d\":[{\"line\":{\"colorbar\":{\"outlinewidth\":0,\"ticks\":\"\"}},\"marker\":{\"colorbar\":{\"outlinewidth\":0,\"ticks\":\"\"}},\"type\":\"scatter3d\"}],\"scattercarpet\":[{\"marker\":{\"colorbar\":{\"outlinewidth\":0,\"ticks\":\"\"}},\"type\":\"scattercarpet\"}],\"scattergeo\":[{\"marker\":{\"colorbar\":{\"outlinewidth\":0,\"ticks\":\"\"}},\"type\":\"scattergeo\"}],\"scattergl\":[{\"marker\":{\"colorbar\":{\"outlinewidth\":0,\"ticks\":\"\"}},\"type\":\"scattergl\"}],\"scattermapbox\":[{\"marker\":{\"colorbar\":{\"outlinewidth\":0,\"ticks\":\"\"}},\"type\":\"scattermapbox\"}],\"scatterpolargl\":[{\"marker\":{\"colorbar\":{\"outlinewidth\":0,\"ticks\":\"\"}},\"type\":\"scatterpolargl\"}],\"scatterpolar\":[{\"marker\":{\"colorbar\":{\"outlinewidth\":0,\"ticks\":\"\"}},\"type\":\"scatterpolar\"}],\"scatter\":[{\"fillpattern\":{\"fillmode\":\"overlay\",\"size\":10,\"solidity\":0.2},\"type\":\"scatter\"}],\"scatterternary\":[{\"marker\":{\"colorbar\":{\"outlinewidth\":0,\"ticks\":\"\"}},\"type\":\"scatterternary\"}],\"surface\":[{\"colorbar\":{\"outlinewidth\":0,\"ticks\":\"\"},\"colorscale\":[[0.0,\"#0d0887\"],[0.1111111111111111,\"#46039f\"],[0.2222222222222222,\"#7201a8\"],[0.3333333333333333,\"#9c179e\"],[0.4444444444444444,\"#bd3786\"],[0.5555555555555556,\"#d8576b\"],[0.6666666666666666,\"#ed7953\"],[0.7777777777777778,\"#fb9f3a\"],[0.8888888888888888,\"#fdca26\"],[1.0,\"#f0f921\"]],\"type\":\"surface\"}],\"table\":[{\"cells\":{\"fill\":{\"color\":\"#EBF0F8\"},\"line\":{\"color\":\"white\"}},\"header\":{\"fill\":{\"color\":\"#C8D4E3\"},\"line\":{\"color\":\"white\"}},\"type\":\"table\"}]},\"layout\":{\"annotationdefaults\":{\"arrowcolor\":\"#2a3f5f\",\"arrowhead\":0,\"arrowwidth\":1},\"autotypenumbers\":\"strict\",\"coloraxis\":{\"colorbar\":{\"outlinewidth\":0,\"ticks\":\"\"}},\"colorscale\":{\"diverging\":[[0,\"#8e0152\"],[0.1,\"#c51b7d\"],[0.2,\"#de77ae\"],[0.3,\"#f1b6da\"],[0.4,\"#fde0ef\"],[0.5,\"#f7f7f7\"],[0.6,\"#e6f5d0\"],[0.7,\"#b8e186\"],[0.8,\"#7fbc41\"],[0.9,\"#4d9221\"],[1,\"#276419\"]],\"sequential\":[[0.0,\"#0d0887\"],[0.1111111111111111,\"#46039f\"],[0.2222222222222222,\"#7201a8\"],[0.3333333333333333,\"#9c179e\"],[0.4444444444444444,\"#bd3786\"],[0.5555555555555556,\"#d8576b\"],[0.6666666666666666,\"#ed7953\"],[0.7777777777777778,\"#fb9f3a\"],[0.8888888888888888,\"#fdca26\"],[1.0,\"#f0f921\"]],\"sequentialminus\":[[0.0,\"#0d0887\"],[0.1111111111111111,\"#46039f\"],[0.2222222222222222,\"#7201a8\"],[0.3333333333333333,\"#9c179e\"],[0.4444444444444444,\"#bd3786\"],[0.5555555555555556,\"#d8576b\"],[0.6666666666666666,\"#ed7953\"],[0.7777777777777778,\"#fb9f3a\"],[0.8888888888888888,\"#fdca26\"],[1.0,\"#f0f921\"]]},\"colorway\":[\"#636efa\",\"#EF553B\",\"#00cc96\",\"#ab63fa\",\"#FFA15A\",\"#19d3f3\",\"#FF6692\",\"#B6E880\",\"#FF97FF\",\"#FECB52\"],\"font\":{\"color\":\"#2a3f5f\"},\"geo\":{\"bgcolor\":\"white\",\"lakecolor\":\"white\",\"landcolor\":\"#E5ECF6\",\"showlakes\":true,\"showland\":true,\"subunitcolor\":\"white\"},\"hoverlabel\":{\"align\":\"left\"},\"hovermode\":\"closest\",\"mapbox\":{\"style\":\"light\"},\"paper_bgcolor\":\"white\",\"plot_bgcolor\":\"#E5ECF6\",\"polar\":{\"angularaxis\":{\"gridcolor\":\"white\",\"linecolor\":\"white\",\"ticks\":\"\"},\"bgcolor\":\"#E5ECF6\",\"radialaxis\":{\"gridcolor\":\"white\",\"linecolor\":\"white\",\"ticks\":\"\"}},\"scene\":{\"xaxis\":{\"backgroundcolor\":\"#E5ECF6\",\"gridcolor\":\"white\",\"gridwidth\":2,\"linecolor\":\"white\",\"showbackground\":true,\"ticks\":\"\",\"zerolinecolor\":\"white\"},\"yaxis\":{\"backgroundcolor\":\"#E5ECF6\",\"gridcolor\":\"white\",\"gridwidth\":2,\"linecolor\":\"white\",\"showbackground\":true,\"ticks\":\"\",\"zerolinecolor\":\"white\"},\"zaxis\":{\"backgroundcolor\":\"#E5ECF6\",\"gridcolor\":\"white\",\"gridwidth\":2,\"linecolor\":\"white\",\"showbackground\":true,\"ticks\":\"\",\"zerolinecolor\":\"white\"}},\"shapedefaults\":{\"line\":{\"color\":\"#2a3f5f\"}},\"ternary\":{\"aaxis\":{\"gridcolor\":\"white\",\"linecolor\":\"white\",\"ticks\":\"\"},\"baxis\":{\"gridcolor\":\"white\",\"linecolor\":\"white\",\"ticks\":\"\"},\"bgcolor\":\"#E5ECF6\",\"caxis\":{\"gridcolor\":\"white\",\"linecolor\":\"white\",\"ticks\":\"\"}},\"title\":{\"x\":0.05},\"xaxis\":{\"automargin\":true,\"gridcolor\":\"white\",\"linecolor\":\"white\",\"ticks\":\"\",\"title\":{\"standoff\":15},\"zerolinecolor\":\"white\",\"zerolinewidth\":2},\"yaxis\":{\"automargin\":true,\"gridcolor\":\"white\",\"linecolor\":\"white\",\"ticks\":\"\",\"title\":{\"standoff\":15},\"zerolinecolor\":\"white\",\"zerolinewidth\":2}}},\"title\":{\"font\":{\"color\":\"#4D5663\"}},\"xaxis\":{\"gridcolor\":\"#E1E5ED\",\"showgrid\":true,\"tickfont\":{\"color\":\"#4D5663\"},\"title\":{\"font\":{\"color\":\"#4D5663\"},\"text\":\"\"},\"zerolinecolor\":\"#E1E5ED\"},\"yaxis\":{\"gridcolor\":\"#E1E5ED\",\"showgrid\":true,\"tickfont\":{\"color\":\"#4D5663\"},\"title\":{\"font\":{\"color\":\"#4D5663\"},\"text\":\"\"},\"zerolinecolor\":\"#E1E5ED\"}},                        {\"showLink\": true, \"linkText\": \"Export to plot.ly\", \"plotlyServerURL\": \"https://plot.ly\", \"responsive\": true}                    ).then(function(){\n",
       "                            \n",
       "var gd = document.getElementById('0cd84aee-b5f3-45f0-90ab-472464430fff');\n",
       "var x = new MutationObserver(function (mutations, observer) {{\n",
       "        var display = window.getComputedStyle(gd).display;\n",
       "        if (!display || display === 'none') {{\n",
       "            console.log([gd, 'removed!']);\n",
       "            Plotly.purge(gd);\n",
       "            observer.disconnect();\n",
       "        }}\n",
       "}});\n",
       "\n",
       "// Listen for the removal of the full notebook cells\n",
       "var notebookContainer = gd.closest('#notebook-container');\n",
       "if (notebookContainer) {{\n",
       "    x.observe(notebookContainer, {childList: true});\n",
       "}}\n",
       "\n",
       "// Listen for the clearing of the current output cell\n",
       "var outputEl = gd.closest('.output');\n",
       "if (outputEl) {{\n",
       "    x.observe(outputEl, {childList: true});\n",
       "}}\n",
       "\n",
       "                        })                };                });            </script>        </div>"
      ]
     },
     "metadata": {},
     "output_type": "display_data"
    }
   ],
   "source": [
    "df3 = pd.DataFrame({'x':[11,2,3,40,5],'y':[20,20,30,20,10],'z':[5,4,3,2,1]})\n",
    "df3.iplot(kind='surface',colorscale='rdylbu')"
   ]
  },
  {
   "cell_type": "markdown",
   "metadata": {},
   "source": [
    "## Spread"
   ]
  },
  {
   "cell_type": "code",
   "execution_count": 11,
   "metadata": {},
   "outputs": [
    {
     "name": "stderr",
     "output_type": "stream",
     "text": [
      "C:\\Users\\Lenovo\\anaconda3\\lib\\site-packages\\cufflinks\\plotlytools.py:849: FutureWarning:\n",
      "\n",
      "The pandas.np module is deprecated and will be removed from pandas in a future version. Import numpy directly instead.\n",
      "\n",
      "C:\\Users\\Lenovo\\anaconda3\\lib\\site-packages\\cufflinks\\plotlytools.py:850: FutureWarning:\n",
      "\n",
      "The pandas.np module is deprecated and will be removed from pandas in a future version. Import numpy directly instead.\n",
      "\n"
     ]
    },
    {
     "data": {
      "application/vnd.plotly.v1+json": {
       "config": {
        "linkText": "Export to plot.ly",
        "plotlyServerURL": "https://plot.ly",
        "showLink": true
       },
       "data": [
        {
         "line": {
          "color": "rgba(255, 153, 51, 1.0)",
          "dash": "solid",
          "shape": "linear",
          "width": 1.3
         },
         "mode": "lines",
         "name": "A",
         "text": "",
         "type": "scatter",
         "x": [
          0,
          1,
          2,
          3,
          4,
          5,
          6,
          7,
          8,
          9,
          10,
          11,
          12,
          13,
          14,
          15,
          16,
          17,
          18,
          19,
          20,
          21,
          22,
          23,
          24,
          25,
          26,
          27,
          28,
          29,
          30,
          31,
          32,
          33,
          34,
          35,
          36,
          37,
          38,
          39,
          40,
          41,
          42,
          43,
          44,
          45,
          46,
          47,
          48,
          49,
          50,
          51,
          52,
          53,
          54,
          55,
          56,
          57,
          58,
          59,
          60,
          61,
          62,
          63,
          64,
          65,
          66,
          67,
          68,
          69,
          70,
          71,
          72,
          73,
          74,
          75,
          76,
          77,
          78,
          79,
          80,
          81,
          82,
          83,
          84,
          85,
          86,
          87,
          88,
          89,
          90,
          91,
          92,
          93,
          94,
          95,
          96,
          97,
          98,
          99
         ],
         "y": [
          1.7678515456907136,
          0.5574856580952305,
          -0.21363049583055474,
          -0.004351036570748041,
          1.7767003172794058,
          -0.9334138647986685,
          1.1304808417686179,
          0.6259673962193651,
          -0.32574810228326134,
          -0.1314461917476808,
          -1.026099740614713,
          1.4479027043794217,
          -0.7324036394879013,
          1.3638350653158162,
          0.39630123683757945,
          0.8552727269772812,
          0.556442238768529,
          -0.7228064270996896,
          0.22293755751174835,
          -1.2082858262037768,
          0.9335405006960275,
          -1.2550530627542957,
          0.4467812267087743,
          0.10029132132103305,
          -0.0549413599185377,
          -1.3333184037642272,
          -1.3301680594098622,
          -0.7769596473116724,
          1.0903101769330352,
          -0.8777530739281518,
          0.47434726364288193,
          -0.41172400734401376,
          1.8406953795409298,
          -1.1950680072719775,
          -1.8362013663508012,
          1.179099927241798,
          0.8161597425274931,
          -0.874575413587495,
          -1.5480799123989284,
          0.38698290337957475,
          0.23717793196131678,
          0.19455267577594007,
          -0.8356082236548912,
          -2.2865479585455635,
          0.16634216318820633,
          -0.46122556641627444,
          -2.4094331248490484,
          0.3792702082051058,
          -0.7537096573938259,
          -0.759773123023279,
          0.8266482805597588,
          -1.0505006686540792,
          -0.15248344190761204,
          0.33598820905109306,
          -0.15974082243051765,
          0.8298682402617803,
          2.048597015286573,
          -0.255888630503058,
          -0.3669703838315419,
          -0.7260150403276863,
          1.4830320669622425,
          1.2370722898310813,
          1.6086441137657619,
          -0.45513715595293935,
          0.041818858058306776,
          -0.8630825576383753,
          -0.5510868008972226,
          -1.7331002160136844,
          1.094703385652114,
          0.11953874990716992,
          -0.6683136044821177,
          0.34599573563462505,
          -0.8319700524687987,
          -0.558261484573633,
          0.5030434040002801,
          0.6619721971501331,
          0.7818169444348697,
          -1.0897772248158428,
          -0.26427788527573237,
          -0.872217187223391,
          1.076038386332144,
          0.46941249058773576,
          -1.6653597079445228,
          -0.9531239576661726,
          0.2684194351671944,
          1.2397589831101998,
          -0.007990690617178655,
          -1.321950623693112,
          0.6809604552532404,
          1.2779317283832747,
          0.14449547116258432,
          -0.630375829713827,
          1.3946080794601639,
          -0.40166706464735724,
          0.35770716033720257,
          0.35722053214901406,
          1.0364875764023738,
          2.1454701108264893,
          1.370139380136401,
          -0.38450430586042783
         ]
        },
        {
         "line": {
          "color": "rgba(55, 128, 191, 1.0)",
          "dash": "solid",
          "shape": "linear",
          "width": 1.3
         },
         "mode": "lines",
         "name": "B",
         "text": "",
         "type": "scatter",
         "x": [
          0,
          1,
          2,
          3,
          4,
          5,
          6,
          7,
          8,
          9,
          10,
          11,
          12,
          13,
          14,
          15,
          16,
          17,
          18,
          19,
          20,
          21,
          22,
          23,
          24,
          25,
          26,
          27,
          28,
          29,
          30,
          31,
          32,
          33,
          34,
          35,
          36,
          37,
          38,
          39,
          40,
          41,
          42,
          43,
          44,
          45,
          46,
          47,
          48,
          49,
          50,
          51,
          52,
          53,
          54,
          55,
          56,
          57,
          58,
          59,
          60,
          61,
          62,
          63,
          64,
          65,
          66,
          67,
          68,
          69,
          70,
          71,
          72,
          73,
          74,
          75,
          76,
          77,
          78,
          79,
          80,
          81,
          82,
          83,
          84,
          85,
          86,
          87,
          88,
          89,
          90,
          91,
          92,
          93,
          94,
          95,
          96,
          97,
          98,
          99
         ],
         "y": [
          -0.5044942157545312,
          0.9888079420118232,
          2.9620680407643136,
          -0.8789960931170367,
          -0.5961772819016423,
          0.967688669792416,
          -0.30943339838483885,
          -0.964594537403104,
          -0.836742028077735,
          0.6837214282723483,
          2.1148598036106416,
          1.333928221051847,
          -0.15938807086833995,
          -0.4894942830770963,
          -0.37006575779613216,
          1.1026545609048777,
          0.5630207275529113,
          -1.4192173368675955,
          -0.5480468910450349,
          2.8716050981906327,
          1.2435943906567244,
          0.37357369531247503,
          0.37506127823100743,
          1.6049709934739458,
          -0.47270842030216825,
          0.5239023663911087,
          0.062033033799205,
          0.08291640751423532,
          -0.5829462865942209,
          1.4983306749026488,
          -1.0408969676787778,
          -2.1629858241103914,
          1.6422521446910348,
          -0.15868897935445367,
          0.37357393201209904,
          0.2274780237281322,
          -0.15852313872673549,
          -0.4722233032766944,
          1.0380141282313096,
          1.4264846036211958,
          0.07827925875641766,
          -0.545800770626657,
          0.9845828289203694,
          1.3195592923527997,
          0.5490608948134178,
          -0.1415638073954051,
          -0.6516249038568959,
          -0.7395594895353859,
          -0.6412458750835105,
          -0.25840521061978156,
          1.118167889564803,
          -2.280860698263176,
          -0.8401468839715613,
          -0.04322526654247106,
          -0.07284643005540295,
          0.04391872945696018,
          -2.3001339080663836,
          1.0646541570241572,
          -2.251336395475597,
          -1.3468068532341253,
          -0.3207741538563641,
          0.6305921908091108,
          -0.24008228934501483,
          -0.0022307686225104062,
          1.3895549980239637,
          0.34777396370618113,
          -2.0785013494076794,
          -1.6486984731387868,
          0.8857283314402425,
          0.6833531331085659,
          0.12459556402099713,
          0.0831977004120792,
          1.672604351977852,
          0.14773585534981465,
          -0.7217092256636978,
          0.051001802110237714,
          -0.8384015454027037,
          0.6731042370435385,
          0.17304838753909765,
          -0.8232932608854376,
          0.767028815641581,
          -1.8104429941045004,
          1.8282580189982574,
          -0.523451238059469,
          1.8537992937385805,
          -0.3061469383127988,
          -0.06149910457886894,
          -0.2661031019289138,
          0.5949325643958282,
          -0.7758866651392171,
          0.5112661409862509,
          -1.271072249577671,
          0.7483241333480513,
          1.789665739230297,
          -0.505722738272695,
          1.3412466063005661,
          1.2191913846284896,
          -0.0580815975615273,
          -0.5507407904374377,
          1.5898268484313995
         ]
        },
        {
         "connectgaps": false,
         "fill": "tozeroy",
         "line": {
          "color": "green",
          "dash": "solid",
          "shape": "linear",
          "width": 0.5
         },
         "mode": "lines",
         "name": "Spread",
         "showlegend": false,
         "type": "scatter",
         "x": [
          0,
          1,
          2,
          3,
          4,
          5,
          6,
          7,
          8,
          9,
          10,
          11,
          12,
          13,
          14,
          15,
          16,
          17,
          18,
          19,
          20,
          21,
          22,
          23,
          24,
          25,
          26,
          27,
          28,
          29,
          30,
          31,
          32,
          33,
          34,
          35,
          36,
          37,
          38,
          39,
          40,
          41,
          42,
          43,
          44,
          45,
          46,
          47,
          48,
          49,
          50,
          51,
          52,
          53,
          54,
          55,
          56,
          57,
          58,
          59,
          60,
          61,
          62,
          63,
          64,
          65,
          66,
          67,
          68,
          69,
          70,
          71,
          72,
          73,
          74,
          75,
          76,
          77,
          78,
          79,
          80,
          81,
          82,
          83,
          84,
          85,
          86,
          87,
          88,
          89,
          90,
          91,
          92,
          93,
          94,
          95,
          96,
          97,
          98,
          99
         ],
         "xaxis": "x2",
         "y": [
          2.2723457614452447,
          "",
          "",
          0.8746450565462887,
          2.3728775991810482,
          "",
          1.4399142401534566,
          1.5905619336224692,
          0.5109939257944737,
          "",
          "",
          0.11397448332757465,
          "",
          1.8533293483929125,
          0.7663669946337116,
          "",
          "",
          0.696410909767906,
          0.7709844485567833,
          "",
          "",
          "",
          0.07171994847776686,
          "",
          0.41776706038363054,
          "",
          "",
          "",
          1.673256463527256,
          "",
          1.5152442313216596,
          1.7512618167663776,
          0.198443234849895,
          "",
          "",
          0.9516219035136657,
          0.9746828812542286,
          "",
          "",
          "",
          0.15889867320489914,
          0.740353446402597,
          "",
          "",
          "",
          "",
          "",
          1.1188296977404917,
          "",
          "",
          "",
          1.2303600296090966,
          0.6876634420639494,
          0.3792134755935641,
          "",
          0.7859495108048201,
          4.3487309233529565,
          "",
          1.884366011644055,
          0.620791812906439,
          1.8038062208186068,
          0.6064800990219705,
          1.8487264031107766,
          "",
          "",
          "",
          1.5274145485104569,
          "",
          0.20897505421187146,
          "",
          "",
          0.26279803522254586,
          "",
          "",
          1.224752629663978,
          0.6109703950398954,
          1.6202184898375736,
          "",
          "",
          "",
          0.3090095706905631,
          2.279855484692236,
          "",
          "",
          "",
          1.5459059214229987,
          0.05350841396169028,
          "",
          0.08602789085741225,
          2.0538183935224916,
          "",
          0.640696419863844,
          0.6462839461121126,
          "",
          0.8634298986098976,
          "",
          "",
          2.2035517083880167,
          1.9208801705738388,
          ""
         ],
         "yaxis": "y2"
        },
        {
         "connectgaps": false,
         "fill": "tozeroy",
         "line": {
          "color": "red",
          "dash": "solid",
          "shape": "linear",
          "width": 0.5
         },
         "mode": "lines",
         "name": "Spread",
         "showlegend": false,
         "type": "scatter",
         "x": [
          0,
          1,
          2,
          3,
          4,
          5,
          6,
          7,
          8,
          9,
          10,
          11,
          12,
          13,
          14,
          15,
          16,
          17,
          18,
          19,
          20,
          21,
          22,
          23,
          24,
          25,
          26,
          27,
          28,
          29,
          30,
          31,
          32,
          33,
          34,
          35,
          36,
          37,
          38,
          39,
          40,
          41,
          42,
          43,
          44,
          45,
          46,
          47,
          48,
          49,
          50,
          51,
          52,
          53,
          54,
          55,
          56,
          57,
          58,
          59,
          60,
          61,
          62,
          63,
          64,
          65,
          66,
          67,
          68,
          69,
          70,
          71,
          72,
          73,
          74,
          75,
          76,
          77,
          78,
          79,
          80,
          81,
          82,
          83,
          84,
          85,
          86,
          87,
          88,
          89,
          90,
          91,
          92,
          93,
          94,
          95,
          96,
          97,
          98,
          99
         ],
         "xaxis": "x2",
         "y": [
          "",
          -0.43132228391659266,
          -3.1756985365948682,
          "",
          "",
          -1.9011025345910846,
          "",
          "",
          "",
          -0.8151676200200291,
          -3.1409595442253546,
          "",
          -0.5730155686195614,
          "",
          "",
          -0.2473818339275965,
          -0.006578488784382275,
          "",
          "",
          -4.07989092439441,
          -0.31005388996069694,
          -1.6286267580667708,
          "",
          -1.5046796721529128,
          "",
          -1.8572207701553358,
          -1.3922010932090672,
          -0.8598760548259078,
          "",
          -2.3760837488308004,
          "",
          "",
          "",
          -1.0363790279175238,
          -2.2097752983629,
          "",
          "",
          -0.40235211031080065,
          -2.586094040630238,
          -1.0395017002416211,
          "",
          "",
          -1.8201910525752605,
          -3.606107250898363,
          -0.3827187316252115,
          -0.31966175902086935,
          -1.7578082209921524,
          "",
          -0.1124637823103154,
          -0.5013679124034975,
          -0.29151960900504426,
          "",
          "",
          "",
          -0.0868943923751147,
          "",
          "",
          -1.320542787527215,
          "",
          "",
          "",
          "",
          "",
          -0.45290638733042893,
          -1.3477361399656569,
          -1.2108565213445563,
          "",
          -0.08440174287489755,
          "",
          -0.563814383201396,
          -0.7929091685031149,
          "",
          -2.5045744044466507,
          -0.7059973399234476,
          "",
          "",
          "",
          -1.7628814618593813,
          -0.43732627281483005,
          -0.048923926337953394,
          "",
          "",
          -3.49361772694278,
          -0.4296727196067036,
          -1.585379858571386,
          "",
          "",
          -1.0558475217641983,
          "",
          "",
          -0.3667706698236666,
          "",
          "",
          -2.1913328038776543,
          "",
          -0.9840260741515521,
          -0.18270380822611587,
          "",
          "",
          -1.9743311542918274
         ],
         "yaxis": "y2"
        }
       ],
       "layout": {
        "hovermode": "x",
        "legend": {
         "bgcolor": "#F5F6F9",
         "font": {
          "color": "#4D5663"
         }
        },
        "paper_bgcolor": "#F5F6F9",
        "plot_bgcolor": "#F5F6F9",
        "template": {
         "data": {
          "bar": [
           {
            "error_x": {
             "color": "#2a3f5f"
            },
            "error_y": {
             "color": "#2a3f5f"
            },
            "marker": {
             "line": {
              "color": "#E5ECF6",
              "width": 0.5
             },
             "pattern": {
              "fillmode": "overlay",
              "size": 10,
              "solidity": 0.2
             }
            },
            "type": "bar"
           }
          ],
          "barpolar": [
           {
            "marker": {
             "line": {
              "color": "#E5ECF6",
              "width": 0.5
             },
             "pattern": {
              "fillmode": "overlay",
              "size": 10,
              "solidity": 0.2
             }
            },
            "type": "barpolar"
           }
          ],
          "carpet": [
           {
            "aaxis": {
             "endlinecolor": "#2a3f5f",
             "gridcolor": "white",
             "linecolor": "white",
             "minorgridcolor": "white",
             "startlinecolor": "#2a3f5f"
            },
            "baxis": {
             "endlinecolor": "#2a3f5f",
             "gridcolor": "white",
             "linecolor": "white",
             "minorgridcolor": "white",
             "startlinecolor": "#2a3f5f"
            },
            "type": "carpet"
           }
          ],
          "choropleth": [
           {
            "colorbar": {
             "outlinewidth": 0,
             "ticks": ""
            },
            "type": "choropleth"
           }
          ],
          "contour": [
           {
            "colorbar": {
             "outlinewidth": 0,
             "ticks": ""
            },
            "colorscale": [
             [
              0,
              "#0d0887"
             ],
             [
              0.1111111111111111,
              "#46039f"
             ],
             [
              0.2222222222222222,
              "#7201a8"
             ],
             [
              0.3333333333333333,
              "#9c179e"
             ],
             [
              0.4444444444444444,
              "#bd3786"
             ],
             [
              0.5555555555555556,
              "#d8576b"
             ],
             [
              0.6666666666666666,
              "#ed7953"
             ],
             [
              0.7777777777777778,
              "#fb9f3a"
             ],
             [
              0.8888888888888888,
              "#fdca26"
             ],
             [
              1,
              "#f0f921"
             ]
            ],
            "type": "contour"
           }
          ],
          "contourcarpet": [
           {
            "colorbar": {
             "outlinewidth": 0,
             "ticks": ""
            },
            "type": "contourcarpet"
           }
          ],
          "heatmap": [
           {
            "colorbar": {
             "outlinewidth": 0,
             "ticks": ""
            },
            "colorscale": [
             [
              0,
              "#0d0887"
             ],
             [
              0.1111111111111111,
              "#46039f"
             ],
             [
              0.2222222222222222,
              "#7201a8"
             ],
             [
              0.3333333333333333,
              "#9c179e"
             ],
             [
              0.4444444444444444,
              "#bd3786"
             ],
             [
              0.5555555555555556,
              "#d8576b"
             ],
             [
              0.6666666666666666,
              "#ed7953"
             ],
             [
              0.7777777777777778,
              "#fb9f3a"
             ],
             [
              0.8888888888888888,
              "#fdca26"
             ],
             [
              1,
              "#f0f921"
             ]
            ],
            "type": "heatmap"
           }
          ],
          "heatmapgl": [
           {
            "colorbar": {
             "outlinewidth": 0,
             "ticks": ""
            },
            "colorscale": [
             [
              0,
              "#0d0887"
             ],
             [
              0.1111111111111111,
              "#46039f"
             ],
             [
              0.2222222222222222,
              "#7201a8"
             ],
             [
              0.3333333333333333,
              "#9c179e"
             ],
             [
              0.4444444444444444,
              "#bd3786"
             ],
             [
              0.5555555555555556,
              "#d8576b"
             ],
             [
              0.6666666666666666,
              "#ed7953"
             ],
             [
              0.7777777777777778,
              "#fb9f3a"
             ],
             [
              0.8888888888888888,
              "#fdca26"
             ],
             [
              1,
              "#f0f921"
             ]
            ],
            "type": "heatmapgl"
           }
          ],
          "histogram": [
           {
            "marker": {
             "pattern": {
              "fillmode": "overlay",
              "size": 10,
              "solidity": 0.2
             }
            },
            "type": "histogram"
           }
          ],
          "histogram2d": [
           {
            "colorbar": {
             "outlinewidth": 0,
             "ticks": ""
            },
            "colorscale": [
             [
              0,
              "#0d0887"
             ],
             [
              0.1111111111111111,
              "#46039f"
             ],
             [
              0.2222222222222222,
              "#7201a8"
             ],
             [
              0.3333333333333333,
              "#9c179e"
             ],
             [
              0.4444444444444444,
              "#bd3786"
             ],
             [
              0.5555555555555556,
              "#d8576b"
             ],
             [
              0.6666666666666666,
              "#ed7953"
             ],
             [
              0.7777777777777778,
              "#fb9f3a"
             ],
             [
              0.8888888888888888,
              "#fdca26"
             ],
             [
              1,
              "#f0f921"
             ]
            ],
            "type": "histogram2d"
           }
          ],
          "histogram2dcontour": [
           {
            "colorbar": {
             "outlinewidth": 0,
             "ticks": ""
            },
            "colorscale": [
             [
              0,
              "#0d0887"
             ],
             [
              0.1111111111111111,
              "#46039f"
             ],
             [
              0.2222222222222222,
              "#7201a8"
             ],
             [
              0.3333333333333333,
              "#9c179e"
             ],
             [
              0.4444444444444444,
              "#bd3786"
             ],
             [
              0.5555555555555556,
              "#d8576b"
             ],
             [
              0.6666666666666666,
              "#ed7953"
             ],
             [
              0.7777777777777778,
              "#fb9f3a"
             ],
             [
              0.8888888888888888,
              "#fdca26"
             ],
             [
              1,
              "#f0f921"
             ]
            ],
            "type": "histogram2dcontour"
           }
          ],
          "mesh3d": [
           {
            "colorbar": {
             "outlinewidth": 0,
             "ticks": ""
            },
            "type": "mesh3d"
           }
          ],
          "parcoords": [
           {
            "line": {
             "colorbar": {
              "outlinewidth": 0,
              "ticks": ""
             }
            },
            "type": "parcoords"
           }
          ],
          "pie": [
           {
            "automargin": true,
            "type": "pie"
           }
          ],
          "scatter": [
           {
            "fillpattern": {
             "fillmode": "overlay",
             "size": 10,
             "solidity": 0.2
            },
            "type": "scatter"
           }
          ],
          "scatter3d": [
           {
            "line": {
             "colorbar": {
              "outlinewidth": 0,
              "ticks": ""
             }
            },
            "marker": {
             "colorbar": {
              "outlinewidth": 0,
              "ticks": ""
             }
            },
            "type": "scatter3d"
           }
          ],
          "scattercarpet": [
           {
            "marker": {
             "colorbar": {
              "outlinewidth": 0,
              "ticks": ""
             }
            },
            "type": "scattercarpet"
           }
          ],
          "scattergeo": [
           {
            "marker": {
             "colorbar": {
              "outlinewidth": 0,
              "ticks": ""
             }
            },
            "type": "scattergeo"
           }
          ],
          "scattergl": [
           {
            "marker": {
             "colorbar": {
              "outlinewidth": 0,
              "ticks": ""
             }
            },
            "type": "scattergl"
           }
          ],
          "scattermapbox": [
           {
            "marker": {
             "colorbar": {
              "outlinewidth": 0,
              "ticks": ""
             }
            },
            "type": "scattermapbox"
           }
          ],
          "scatterpolar": [
           {
            "marker": {
             "colorbar": {
              "outlinewidth": 0,
              "ticks": ""
             }
            },
            "type": "scatterpolar"
           }
          ],
          "scatterpolargl": [
           {
            "marker": {
             "colorbar": {
              "outlinewidth": 0,
              "ticks": ""
             }
            },
            "type": "scatterpolargl"
           }
          ],
          "scatterternary": [
           {
            "marker": {
             "colorbar": {
              "outlinewidth": 0,
              "ticks": ""
             }
            },
            "type": "scatterternary"
           }
          ],
          "surface": [
           {
            "colorbar": {
             "outlinewidth": 0,
             "ticks": ""
            },
            "colorscale": [
             [
              0,
              "#0d0887"
             ],
             [
              0.1111111111111111,
              "#46039f"
             ],
             [
              0.2222222222222222,
              "#7201a8"
             ],
             [
              0.3333333333333333,
              "#9c179e"
             ],
             [
              0.4444444444444444,
              "#bd3786"
             ],
             [
              0.5555555555555556,
              "#d8576b"
             ],
             [
              0.6666666666666666,
              "#ed7953"
             ],
             [
              0.7777777777777778,
              "#fb9f3a"
             ],
             [
              0.8888888888888888,
              "#fdca26"
             ],
             [
              1,
              "#f0f921"
             ]
            ],
            "type": "surface"
           }
          ],
          "table": [
           {
            "cells": {
             "fill": {
              "color": "#EBF0F8"
             },
             "line": {
              "color": "white"
             }
            },
            "header": {
             "fill": {
              "color": "#C8D4E3"
             },
             "line": {
              "color": "white"
             }
            },
            "type": "table"
           }
          ]
         },
         "layout": {
          "annotationdefaults": {
           "arrowcolor": "#2a3f5f",
           "arrowhead": 0,
           "arrowwidth": 1
          },
          "autotypenumbers": "strict",
          "coloraxis": {
           "colorbar": {
            "outlinewidth": 0,
            "ticks": ""
           }
          },
          "colorscale": {
           "diverging": [
            [
             0,
             "#8e0152"
            ],
            [
             0.1,
             "#c51b7d"
            ],
            [
             0.2,
             "#de77ae"
            ],
            [
             0.3,
             "#f1b6da"
            ],
            [
             0.4,
             "#fde0ef"
            ],
            [
             0.5,
             "#f7f7f7"
            ],
            [
             0.6,
             "#e6f5d0"
            ],
            [
             0.7,
             "#b8e186"
            ],
            [
             0.8,
             "#7fbc41"
            ],
            [
             0.9,
             "#4d9221"
            ],
            [
             1,
             "#276419"
            ]
           ],
           "sequential": [
            [
             0,
             "#0d0887"
            ],
            [
             0.1111111111111111,
             "#46039f"
            ],
            [
             0.2222222222222222,
             "#7201a8"
            ],
            [
             0.3333333333333333,
             "#9c179e"
            ],
            [
             0.4444444444444444,
             "#bd3786"
            ],
            [
             0.5555555555555556,
             "#d8576b"
            ],
            [
             0.6666666666666666,
             "#ed7953"
            ],
            [
             0.7777777777777778,
             "#fb9f3a"
            ],
            [
             0.8888888888888888,
             "#fdca26"
            ],
            [
             1,
             "#f0f921"
            ]
           ],
           "sequentialminus": [
            [
             0,
             "#0d0887"
            ],
            [
             0.1111111111111111,
             "#46039f"
            ],
            [
             0.2222222222222222,
             "#7201a8"
            ],
            [
             0.3333333333333333,
             "#9c179e"
            ],
            [
             0.4444444444444444,
             "#bd3786"
            ],
            [
             0.5555555555555556,
             "#d8576b"
            ],
            [
             0.6666666666666666,
             "#ed7953"
            ],
            [
             0.7777777777777778,
             "#fb9f3a"
            ],
            [
             0.8888888888888888,
             "#fdca26"
            ],
            [
             1,
             "#f0f921"
            ]
           ]
          },
          "colorway": [
           "#636efa",
           "#EF553B",
           "#00cc96",
           "#ab63fa",
           "#FFA15A",
           "#19d3f3",
           "#FF6692",
           "#B6E880",
           "#FF97FF",
           "#FECB52"
          ],
          "font": {
           "color": "#2a3f5f"
          },
          "geo": {
           "bgcolor": "white",
           "lakecolor": "white",
           "landcolor": "#E5ECF6",
           "showlakes": true,
           "showland": true,
           "subunitcolor": "white"
          },
          "hoverlabel": {
           "align": "left"
          },
          "hovermode": "closest",
          "mapbox": {
           "style": "light"
          },
          "paper_bgcolor": "white",
          "plot_bgcolor": "#E5ECF6",
          "polar": {
           "angularaxis": {
            "gridcolor": "white",
            "linecolor": "white",
            "ticks": ""
           },
           "bgcolor": "#E5ECF6",
           "radialaxis": {
            "gridcolor": "white",
            "linecolor": "white",
            "ticks": ""
           }
          },
          "scene": {
           "xaxis": {
            "backgroundcolor": "#E5ECF6",
            "gridcolor": "white",
            "gridwidth": 2,
            "linecolor": "white",
            "showbackground": true,
            "ticks": "",
            "zerolinecolor": "white"
           },
           "yaxis": {
            "backgroundcolor": "#E5ECF6",
            "gridcolor": "white",
            "gridwidth": 2,
            "linecolor": "white",
            "showbackground": true,
            "ticks": "",
            "zerolinecolor": "white"
           },
           "zaxis": {
            "backgroundcolor": "#E5ECF6",
            "gridcolor": "white",
            "gridwidth": 2,
            "linecolor": "white",
            "showbackground": true,
            "ticks": "",
            "zerolinecolor": "white"
           }
          },
          "shapedefaults": {
           "line": {
            "color": "#2a3f5f"
           }
          },
          "ternary": {
           "aaxis": {
            "gridcolor": "white",
            "linecolor": "white",
            "ticks": ""
           },
           "baxis": {
            "gridcolor": "white",
            "linecolor": "white",
            "ticks": ""
           },
           "bgcolor": "#E5ECF6",
           "caxis": {
            "gridcolor": "white",
            "linecolor": "white",
            "ticks": ""
           }
          },
          "title": {
           "x": 0.05
          },
          "xaxis": {
           "automargin": true,
           "gridcolor": "white",
           "linecolor": "white",
           "ticks": "",
           "title": {
            "standoff": 15
           },
           "zerolinecolor": "white",
           "zerolinewidth": 2
          },
          "yaxis": {
           "automargin": true,
           "gridcolor": "white",
           "linecolor": "white",
           "ticks": "",
           "title": {
            "standoff": 15
           },
           "zerolinecolor": "white",
           "zerolinewidth": 2
          }
         }
        },
        "title": {
         "font": {
          "color": "#4D5663"
         }
        },
        "xaxis": {
         "gridcolor": "#E1E5ED",
         "showgrid": true,
         "tickfont": {
          "color": "#4D5663"
         },
         "title": {
          "font": {
           "color": "#4D5663"
          },
          "text": ""
         },
         "zerolinecolor": "#E1E5ED"
        },
        "xaxis2": {
         "anchor": "y2",
         "gridcolor": "#E1E5ED",
         "showgrid": true,
         "showticklabels": false,
         "tickfont": {
          "color": "#4D5663"
         },
         "title": {
          "font": {
           "color": "#4D5663"
          },
          "text": ""
         },
         "zerolinecolor": "#E1E5ED"
        },
        "yaxis": {
         "domain": [
          0.3,
          1
         ],
         "gridcolor": "#E1E5ED",
         "showgrid": true,
         "tickfont": {
          "color": "#4D5663"
         },
         "title": {
          "font": {
           "color": "#4D5663"
          },
          "text": ""
         },
         "zerolinecolor": "#E1E5ED"
        },
        "yaxis2": {
         "domain": [
          0,
          0.25
         ],
         "gridcolor": "#E1E5ED",
         "showgrid": true,
         "tickfont": {
          "color": "#4D5663"
         },
         "title": {
          "font": {
           "color": "#4D5663"
          },
          "text": "Spread"
         },
         "zerolinecolor": "#E1E5ED"
        }
       }
      },
      "text/html": [
       "<div>                            <div id=\"4819ba0a-8534-445e-9acc-017547ccecf3\" class=\"plotly-graph-div\" style=\"height:525px; width:100%;\"></div>            <script type=\"text/javascript\">                require([\"plotly\"], function(Plotly) {                    window.PLOTLYENV=window.PLOTLYENV || {};\n",
       "                    window.PLOTLYENV.BASE_URL='https://plot.ly';                                    if (document.getElementById(\"4819ba0a-8534-445e-9acc-017547ccecf3\")) {                    Plotly.newPlot(                        \"4819ba0a-8534-445e-9acc-017547ccecf3\",                        [{\"line\":{\"color\":\"rgba(255, 153, 51, 1.0)\",\"dash\":\"solid\",\"shape\":\"linear\",\"width\":1.3},\"mode\":\"lines\",\"name\":\"A\",\"text\":\"\",\"x\":[0,1,2,3,4,5,6,7,8,9,10,11,12,13,14,15,16,17,18,19,20,21,22,23,24,25,26,27,28,29,30,31,32,33,34,35,36,37,38,39,40,41,42,43,44,45,46,47,48,49,50,51,52,53,54,55,56,57,58,59,60,61,62,63,64,65,66,67,68,69,70,71,72,73,74,75,76,77,78,79,80,81,82,83,84,85,86,87,88,89,90,91,92,93,94,95,96,97,98,99],\"y\":[1.7678515456907136,0.5574856580952305,-0.21363049583055474,-0.004351036570748041,1.7767003172794058,-0.9334138647986685,1.1304808417686179,0.6259673962193651,-0.32574810228326134,-0.1314461917476808,-1.026099740614713,1.4479027043794217,-0.7324036394879013,1.3638350653158162,0.39630123683757945,0.8552727269772812,0.556442238768529,-0.7228064270996896,0.22293755751174835,-1.2082858262037768,0.9335405006960275,-1.2550530627542957,0.4467812267087743,0.10029132132103305,-0.0549413599185377,-1.3333184037642272,-1.3301680594098622,-0.7769596473116724,1.0903101769330352,-0.8777530739281518,0.47434726364288193,-0.41172400734401376,1.8406953795409298,-1.1950680072719775,-1.8362013663508012,1.179099927241798,0.8161597425274931,-0.874575413587495,-1.5480799123989284,0.38698290337957475,0.23717793196131678,0.19455267577594007,-0.8356082236548912,-2.2865479585455635,0.16634216318820633,-0.46122556641627444,-2.4094331248490484,0.3792702082051058,-0.7537096573938259,-0.759773123023279,0.8266482805597588,-1.0505006686540792,-0.15248344190761204,0.33598820905109306,-0.15974082243051765,0.8298682402617803,2.048597015286573,-0.255888630503058,-0.3669703838315419,-0.7260150403276863,1.4830320669622425,1.2370722898310813,1.6086441137657619,-0.45513715595293935,0.041818858058306776,-0.8630825576383753,-0.5510868008972226,-1.7331002160136844,1.094703385652114,0.11953874990716992,-0.6683136044821177,0.34599573563462505,-0.8319700524687987,-0.558261484573633,0.5030434040002801,0.6619721971501331,0.7818169444348697,-1.0897772248158428,-0.26427788527573237,-0.872217187223391,1.076038386332144,0.46941249058773576,-1.6653597079445228,-0.9531239576661726,0.2684194351671944,1.2397589831101998,-0.007990690617178655,-1.321950623693112,0.6809604552532404,1.2779317283832747,0.14449547116258432,-0.630375829713827,1.3946080794601639,-0.40166706464735724,0.35770716033720257,0.35722053214901406,1.0364875764023738,2.1454701108264893,1.370139380136401,-0.38450430586042783],\"type\":\"scatter\"},{\"line\":{\"color\":\"rgba(55, 128, 191, 1.0)\",\"dash\":\"solid\",\"shape\":\"linear\",\"width\":1.3},\"mode\":\"lines\",\"name\":\"B\",\"text\":\"\",\"x\":[0,1,2,3,4,5,6,7,8,9,10,11,12,13,14,15,16,17,18,19,20,21,22,23,24,25,26,27,28,29,30,31,32,33,34,35,36,37,38,39,40,41,42,43,44,45,46,47,48,49,50,51,52,53,54,55,56,57,58,59,60,61,62,63,64,65,66,67,68,69,70,71,72,73,74,75,76,77,78,79,80,81,82,83,84,85,86,87,88,89,90,91,92,93,94,95,96,97,98,99],\"y\":[-0.5044942157545312,0.9888079420118232,2.9620680407643136,-0.8789960931170367,-0.5961772819016423,0.967688669792416,-0.30943339838483885,-0.964594537403104,-0.836742028077735,0.6837214282723483,2.1148598036106416,1.333928221051847,-0.15938807086833995,-0.4894942830770963,-0.37006575779613216,1.1026545609048777,0.5630207275529113,-1.4192173368675955,-0.5480468910450349,2.8716050981906327,1.2435943906567244,0.37357369531247503,0.37506127823100743,1.6049709934739458,-0.47270842030216825,0.5239023663911087,0.062033033799205,0.08291640751423532,-0.5829462865942209,1.4983306749026488,-1.0408969676787778,-2.1629858241103914,1.6422521446910348,-0.15868897935445367,0.37357393201209904,0.2274780237281322,-0.15852313872673549,-0.4722233032766944,1.0380141282313096,1.4264846036211958,0.07827925875641766,-0.545800770626657,0.9845828289203694,1.3195592923527997,0.5490608948134178,-0.1415638073954051,-0.6516249038568959,-0.7395594895353859,-0.6412458750835105,-0.25840521061978156,1.118167889564803,-2.280860698263176,-0.8401468839715613,-0.04322526654247106,-0.07284643005540295,0.04391872945696018,-2.3001339080663836,1.0646541570241572,-2.251336395475597,-1.3468068532341253,-0.3207741538563641,0.6305921908091108,-0.24008228934501483,-0.0022307686225104062,1.3895549980239637,0.34777396370618113,-2.0785013494076794,-1.6486984731387868,0.8857283314402425,0.6833531331085659,0.12459556402099713,0.0831977004120792,1.672604351977852,0.14773585534981465,-0.7217092256636978,0.051001802110237714,-0.8384015454027037,0.6731042370435385,0.17304838753909765,-0.8232932608854376,0.767028815641581,-1.8104429941045004,1.8282580189982574,-0.523451238059469,1.8537992937385805,-0.3061469383127988,-0.06149910457886894,-0.2661031019289138,0.5949325643958282,-0.7758866651392171,0.5112661409862509,-1.271072249577671,0.7483241333480513,1.789665739230297,-0.505722738272695,1.3412466063005661,1.2191913846284896,-0.0580815975615273,-0.5507407904374377,1.5898268484313995],\"type\":\"scatter\"},{\"connectgaps\":false,\"fill\":\"tozeroy\",\"line\":{\"color\":\"green\",\"dash\":\"solid\",\"shape\":\"linear\",\"width\":0.5},\"mode\":\"lines\",\"name\":\"Spread\",\"showlegend\":false,\"x\":[0,1,2,3,4,5,6,7,8,9,10,11,12,13,14,15,16,17,18,19,20,21,22,23,24,25,26,27,28,29,30,31,32,33,34,35,36,37,38,39,40,41,42,43,44,45,46,47,48,49,50,51,52,53,54,55,56,57,58,59,60,61,62,63,64,65,66,67,68,69,70,71,72,73,74,75,76,77,78,79,80,81,82,83,84,85,86,87,88,89,90,91,92,93,94,95,96,97,98,99],\"xaxis\":\"x2\",\"y\":[2.2723457614452447,\"\",\"\",0.8746450565462887,2.3728775991810482,\"\",1.4399142401534566,1.5905619336224692,0.5109939257944737,\"\",\"\",0.11397448332757465,\"\",1.8533293483929125,0.7663669946337116,\"\",\"\",0.696410909767906,0.7709844485567833,\"\",\"\",\"\",0.07171994847776686,\"\",0.41776706038363054,\"\",\"\",\"\",1.673256463527256,\"\",1.5152442313216596,1.7512618167663776,0.198443234849895,\"\",\"\",0.9516219035136657,0.9746828812542286,\"\",\"\",\"\",0.15889867320489914,0.740353446402597,\"\",\"\",\"\",\"\",\"\",1.1188296977404917,\"\",\"\",\"\",1.2303600296090966,0.6876634420639494,0.3792134755935641,\"\",0.7859495108048201,4.3487309233529565,\"\",1.884366011644055,0.620791812906439,1.8038062208186068,0.6064800990219705,1.8487264031107766,\"\",\"\",\"\",1.5274145485104569,\"\",0.20897505421187146,\"\",\"\",0.26279803522254586,\"\",\"\",1.224752629663978,0.6109703950398954,1.6202184898375736,\"\",\"\",\"\",0.3090095706905631,2.279855484692236,\"\",\"\",\"\",1.5459059214229987,0.05350841396169028,\"\",0.08602789085741225,2.0538183935224916,\"\",0.640696419863844,0.6462839461121126,\"\",0.8634298986098976,\"\",\"\",2.2035517083880167,1.9208801705738388,\"\"],\"yaxis\":\"y2\",\"type\":\"scatter\"},{\"connectgaps\":false,\"fill\":\"tozeroy\",\"line\":{\"color\":\"red\",\"dash\":\"solid\",\"shape\":\"linear\",\"width\":0.5},\"mode\":\"lines\",\"name\":\"Spread\",\"showlegend\":false,\"x\":[0,1,2,3,4,5,6,7,8,9,10,11,12,13,14,15,16,17,18,19,20,21,22,23,24,25,26,27,28,29,30,31,32,33,34,35,36,37,38,39,40,41,42,43,44,45,46,47,48,49,50,51,52,53,54,55,56,57,58,59,60,61,62,63,64,65,66,67,68,69,70,71,72,73,74,75,76,77,78,79,80,81,82,83,84,85,86,87,88,89,90,91,92,93,94,95,96,97,98,99],\"xaxis\":\"x2\",\"y\":[\"\",-0.43132228391659266,-3.1756985365948682,\"\",\"\",-1.9011025345910846,\"\",\"\",\"\",-0.8151676200200291,-3.1409595442253546,\"\",-0.5730155686195614,\"\",\"\",-0.2473818339275965,-0.006578488784382275,\"\",\"\",-4.07989092439441,-0.31005388996069694,-1.6286267580667708,\"\",-1.5046796721529128,\"\",-1.8572207701553358,-1.3922010932090672,-0.8598760548259078,\"\",-2.3760837488308004,\"\",\"\",\"\",-1.0363790279175238,-2.2097752983629,\"\",\"\",-0.40235211031080065,-2.586094040630238,-1.0395017002416211,\"\",\"\",-1.8201910525752605,-3.606107250898363,-0.3827187316252115,-0.31966175902086935,-1.7578082209921524,\"\",-0.1124637823103154,-0.5013679124034975,-0.29151960900504426,\"\",\"\",\"\",-0.0868943923751147,\"\",\"\",-1.320542787527215,\"\",\"\",\"\",\"\",\"\",-0.45290638733042893,-1.3477361399656569,-1.2108565213445563,\"\",-0.08440174287489755,\"\",-0.563814383201396,-0.7929091685031149,\"\",-2.5045744044466507,-0.7059973399234476,\"\",\"\",\"\",-1.7628814618593813,-0.43732627281483005,-0.048923926337953394,\"\",\"\",-3.49361772694278,-0.4296727196067036,-1.585379858571386,\"\",\"\",-1.0558475217641983,\"\",\"\",-0.3667706698236666,\"\",\"\",-2.1913328038776543,\"\",-0.9840260741515521,-0.18270380822611587,\"\",\"\",-1.9743311542918274],\"yaxis\":\"y2\",\"type\":\"scatter\"}],                        {\"hovermode\":\"x\",\"legend\":{\"bgcolor\":\"#F5F6F9\",\"font\":{\"color\":\"#4D5663\"}},\"paper_bgcolor\":\"#F5F6F9\",\"plot_bgcolor\":\"#F5F6F9\",\"template\":{\"data\":{\"barpolar\":[{\"marker\":{\"line\":{\"color\":\"#E5ECF6\",\"width\":0.5},\"pattern\":{\"fillmode\":\"overlay\",\"size\":10,\"solidity\":0.2}},\"type\":\"barpolar\"}],\"bar\":[{\"error_x\":{\"color\":\"#2a3f5f\"},\"error_y\":{\"color\":\"#2a3f5f\"},\"marker\":{\"line\":{\"color\":\"#E5ECF6\",\"width\":0.5},\"pattern\":{\"fillmode\":\"overlay\",\"size\":10,\"solidity\":0.2}},\"type\":\"bar\"}],\"carpet\":[{\"aaxis\":{\"endlinecolor\":\"#2a3f5f\",\"gridcolor\":\"white\",\"linecolor\":\"white\",\"minorgridcolor\":\"white\",\"startlinecolor\":\"#2a3f5f\"},\"baxis\":{\"endlinecolor\":\"#2a3f5f\",\"gridcolor\":\"white\",\"linecolor\":\"white\",\"minorgridcolor\":\"white\",\"startlinecolor\":\"#2a3f5f\"},\"type\":\"carpet\"}],\"choropleth\":[{\"colorbar\":{\"outlinewidth\":0,\"ticks\":\"\"},\"type\":\"choropleth\"}],\"contourcarpet\":[{\"colorbar\":{\"outlinewidth\":0,\"ticks\":\"\"},\"type\":\"contourcarpet\"}],\"contour\":[{\"colorbar\":{\"outlinewidth\":0,\"ticks\":\"\"},\"colorscale\":[[0.0,\"#0d0887\"],[0.1111111111111111,\"#46039f\"],[0.2222222222222222,\"#7201a8\"],[0.3333333333333333,\"#9c179e\"],[0.4444444444444444,\"#bd3786\"],[0.5555555555555556,\"#d8576b\"],[0.6666666666666666,\"#ed7953\"],[0.7777777777777778,\"#fb9f3a\"],[0.8888888888888888,\"#fdca26\"],[1.0,\"#f0f921\"]],\"type\":\"contour\"}],\"heatmapgl\":[{\"colorbar\":{\"outlinewidth\":0,\"ticks\":\"\"},\"colorscale\":[[0.0,\"#0d0887\"],[0.1111111111111111,\"#46039f\"],[0.2222222222222222,\"#7201a8\"],[0.3333333333333333,\"#9c179e\"],[0.4444444444444444,\"#bd3786\"],[0.5555555555555556,\"#d8576b\"],[0.6666666666666666,\"#ed7953\"],[0.7777777777777778,\"#fb9f3a\"],[0.8888888888888888,\"#fdca26\"],[1.0,\"#f0f921\"]],\"type\":\"heatmapgl\"}],\"heatmap\":[{\"colorbar\":{\"outlinewidth\":0,\"ticks\":\"\"},\"colorscale\":[[0.0,\"#0d0887\"],[0.1111111111111111,\"#46039f\"],[0.2222222222222222,\"#7201a8\"],[0.3333333333333333,\"#9c179e\"],[0.4444444444444444,\"#bd3786\"],[0.5555555555555556,\"#d8576b\"],[0.6666666666666666,\"#ed7953\"],[0.7777777777777778,\"#fb9f3a\"],[0.8888888888888888,\"#fdca26\"],[1.0,\"#f0f921\"]],\"type\":\"heatmap\"}],\"histogram2dcontour\":[{\"colorbar\":{\"outlinewidth\":0,\"ticks\":\"\"},\"colorscale\":[[0.0,\"#0d0887\"],[0.1111111111111111,\"#46039f\"],[0.2222222222222222,\"#7201a8\"],[0.3333333333333333,\"#9c179e\"],[0.4444444444444444,\"#bd3786\"],[0.5555555555555556,\"#d8576b\"],[0.6666666666666666,\"#ed7953\"],[0.7777777777777778,\"#fb9f3a\"],[0.8888888888888888,\"#fdca26\"],[1.0,\"#f0f921\"]],\"type\":\"histogram2dcontour\"}],\"histogram2d\":[{\"colorbar\":{\"outlinewidth\":0,\"ticks\":\"\"},\"colorscale\":[[0.0,\"#0d0887\"],[0.1111111111111111,\"#46039f\"],[0.2222222222222222,\"#7201a8\"],[0.3333333333333333,\"#9c179e\"],[0.4444444444444444,\"#bd3786\"],[0.5555555555555556,\"#d8576b\"],[0.6666666666666666,\"#ed7953\"],[0.7777777777777778,\"#fb9f3a\"],[0.8888888888888888,\"#fdca26\"],[1.0,\"#f0f921\"]],\"type\":\"histogram2d\"}],\"histogram\":[{\"marker\":{\"pattern\":{\"fillmode\":\"overlay\",\"size\":10,\"solidity\":0.2}},\"type\":\"histogram\"}],\"mesh3d\":[{\"colorbar\":{\"outlinewidth\":0,\"ticks\":\"\"},\"type\":\"mesh3d\"}],\"parcoords\":[{\"line\":{\"colorbar\":{\"outlinewidth\":0,\"ticks\":\"\"}},\"type\":\"parcoords\"}],\"pie\":[{\"automargin\":true,\"type\":\"pie\"}],\"scatter3d\":[{\"line\":{\"colorbar\":{\"outlinewidth\":0,\"ticks\":\"\"}},\"marker\":{\"colorbar\":{\"outlinewidth\":0,\"ticks\":\"\"}},\"type\":\"scatter3d\"}],\"scattercarpet\":[{\"marker\":{\"colorbar\":{\"outlinewidth\":0,\"ticks\":\"\"}},\"type\":\"scattercarpet\"}],\"scattergeo\":[{\"marker\":{\"colorbar\":{\"outlinewidth\":0,\"ticks\":\"\"}},\"type\":\"scattergeo\"}],\"scattergl\":[{\"marker\":{\"colorbar\":{\"outlinewidth\":0,\"ticks\":\"\"}},\"type\":\"scattergl\"}],\"scattermapbox\":[{\"marker\":{\"colorbar\":{\"outlinewidth\":0,\"ticks\":\"\"}},\"type\":\"scattermapbox\"}],\"scatterpolargl\":[{\"marker\":{\"colorbar\":{\"outlinewidth\":0,\"ticks\":\"\"}},\"type\":\"scatterpolargl\"}],\"scatterpolar\":[{\"marker\":{\"colorbar\":{\"outlinewidth\":0,\"ticks\":\"\"}},\"type\":\"scatterpolar\"}],\"scatter\":[{\"fillpattern\":{\"fillmode\":\"overlay\",\"size\":10,\"solidity\":0.2},\"type\":\"scatter\"}],\"scatterternary\":[{\"marker\":{\"colorbar\":{\"outlinewidth\":0,\"ticks\":\"\"}},\"type\":\"scatterternary\"}],\"surface\":[{\"colorbar\":{\"outlinewidth\":0,\"ticks\":\"\"},\"colorscale\":[[0.0,\"#0d0887\"],[0.1111111111111111,\"#46039f\"],[0.2222222222222222,\"#7201a8\"],[0.3333333333333333,\"#9c179e\"],[0.4444444444444444,\"#bd3786\"],[0.5555555555555556,\"#d8576b\"],[0.6666666666666666,\"#ed7953\"],[0.7777777777777778,\"#fb9f3a\"],[0.8888888888888888,\"#fdca26\"],[1.0,\"#f0f921\"]],\"type\":\"surface\"}],\"table\":[{\"cells\":{\"fill\":{\"color\":\"#EBF0F8\"},\"line\":{\"color\":\"white\"}},\"header\":{\"fill\":{\"color\":\"#C8D4E3\"},\"line\":{\"color\":\"white\"}},\"type\":\"table\"}]},\"layout\":{\"annotationdefaults\":{\"arrowcolor\":\"#2a3f5f\",\"arrowhead\":0,\"arrowwidth\":1},\"autotypenumbers\":\"strict\",\"coloraxis\":{\"colorbar\":{\"outlinewidth\":0,\"ticks\":\"\"}},\"colorscale\":{\"diverging\":[[0,\"#8e0152\"],[0.1,\"#c51b7d\"],[0.2,\"#de77ae\"],[0.3,\"#f1b6da\"],[0.4,\"#fde0ef\"],[0.5,\"#f7f7f7\"],[0.6,\"#e6f5d0\"],[0.7,\"#b8e186\"],[0.8,\"#7fbc41\"],[0.9,\"#4d9221\"],[1,\"#276419\"]],\"sequential\":[[0.0,\"#0d0887\"],[0.1111111111111111,\"#46039f\"],[0.2222222222222222,\"#7201a8\"],[0.3333333333333333,\"#9c179e\"],[0.4444444444444444,\"#bd3786\"],[0.5555555555555556,\"#d8576b\"],[0.6666666666666666,\"#ed7953\"],[0.7777777777777778,\"#fb9f3a\"],[0.8888888888888888,\"#fdca26\"],[1.0,\"#f0f921\"]],\"sequentialminus\":[[0.0,\"#0d0887\"],[0.1111111111111111,\"#46039f\"],[0.2222222222222222,\"#7201a8\"],[0.3333333333333333,\"#9c179e\"],[0.4444444444444444,\"#bd3786\"],[0.5555555555555556,\"#d8576b\"],[0.6666666666666666,\"#ed7953\"],[0.7777777777777778,\"#fb9f3a\"],[0.8888888888888888,\"#fdca26\"],[1.0,\"#f0f921\"]]},\"colorway\":[\"#636efa\",\"#EF553B\",\"#00cc96\",\"#ab63fa\",\"#FFA15A\",\"#19d3f3\",\"#FF6692\",\"#B6E880\",\"#FF97FF\",\"#FECB52\"],\"font\":{\"color\":\"#2a3f5f\"},\"geo\":{\"bgcolor\":\"white\",\"lakecolor\":\"white\",\"landcolor\":\"#E5ECF6\",\"showlakes\":true,\"showland\":true,\"subunitcolor\":\"white\"},\"hoverlabel\":{\"align\":\"left\"},\"hovermode\":\"closest\",\"mapbox\":{\"style\":\"light\"},\"paper_bgcolor\":\"white\",\"plot_bgcolor\":\"#E5ECF6\",\"polar\":{\"angularaxis\":{\"gridcolor\":\"white\",\"linecolor\":\"white\",\"ticks\":\"\"},\"bgcolor\":\"#E5ECF6\",\"radialaxis\":{\"gridcolor\":\"white\",\"linecolor\":\"white\",\"ticks\":\"\"}},\"scene\":{\"xaxis\":{\"backgroundcolor\":\"#E5ECF6\",\"gridcolor\":\"white\",\"gridwidth\":2,\"linecolor\":\"white\",\"showbackground\":true,\"ticks\":\"\",\"zerolinecolor\":\"white\"},\"yaxis\":{\"backgroundcolor\":\"#E5ECF6\",\"gridcolor\":\"white\",\"gridwidth\":2,\"linecolor\":\"white\",\"showbackground\":true,\"ticks\":\"\",\"zerolinecolor\":\"white\"},\"zaxis\":{\"backgroundcolor\":\"#E5ECF6\",\"gridcolor\":\"white\",\"gridwidth\":2,\"linecolor\":\"white\",\"showbackground\":true,\"ticks\":\"\",\"zerolinecolor\":\"white\"}},\"shapedefaults\":{\"line\":{\"color\":\"#2a3f5f\"}},\"ternary\":{\"aaxis\":{\"gridcolor\":\"white\",\"linecolor\":\"white\",\"ticks\":\"\"},\"baxis\":{\"gridcolor\":\"white\",\"linecolor\":\"white\",\"ticks\":\"\"},\"bgcolor\":\"#E5ECF6\",\"caxis\":{\"gridcolor\":\"white\",\"linecolor\":\"white\",\"ticks\":\"\"}},\"title\":{\"x\":0.05},\"xaxis\":{\"automargin\":true,\"gridcolor\":\"white\",\"linecolor\":\"white\",\"ticks\":\"\",\"title\":{\"standoff\":15},\"zerolinecolor\":\"white\",\"zerolinewidth\":2},\"yaxis\":{\"automargin\":true,\"gridcolor\":\"white\",\"linecolor\":\"white\",\"ticks\":\"\",\"title\":{\"standoff\":15},\"zerolinecolor\":\"white\",\"zerolinewidth\":2}}},\"title\":{\"font\":{\"color\":\"#4D5663\"}},\"xaxis\":{\"gridcolor\":\"#E1E5ED\",\"showgrid\":true,\"tickfont\":{\"color\":\"#4D5663\"},\"title\":{\"font\":{\"color\":\"#4D5663\"},\"text\":\"\"},\"zerolinecolor\":\"#E1E5ED\"},\"yaxis\":{\"domain\":[0.3,1],\"gridcolor\":\"#E1E5ED\",\"showgrid\":true,\"tickfont\":{\"color\":\"#4D5663\"},\"title\":{\"font\":{\"color\":\"#4D5663\"},\"text\":\"\"},\"zerolinecolor\":\"#E1E5ED\"},\"yaxis2\":{\"domain\":[0,0.25],\"gridcolor\":\"#E1E5ED\",\"showgrid\":true,\"tickfont\":{\"color\":\"#4D5663\"},\"title\":{\"font\":{\"color\":\"#4D5663\"},\"text\":\"Spread\"},\"zerolinecolor\":\"#E1E5ED\"},\"xaxis2\":{\"anchor\":\"y2\",\"gridcolor\":\"#E1E5ED\",\"showgrid\":true,\"showticklabels\":false,\"tickfont\":{\"color\":\"#4D5663\"},\"title\":{\"font\":{\"color\":\"#4D5663\"},\"text\":\"\"},\"zerolinecolor\":\"#E1E5ED\"}},                        {\"showLink\": true, \"linkText\": \"Export to plot.ly\", \"plotlyServerURL\": \"https://plot.ly\", \"responsive\": true}                    ).then(function(){\n",
       "                            \n",
       "var gd = document.getElementById('4819ba0a-8534-445e-9acc-017547ccecf3');\n",
       "var x = new MutationObserver(function (mutations, observer) {{\n",
       "        var display = window.getComputedStyle(gd).display;\n",
       "        if (!display || display === 'none') {{\n",
       "            console.log([gd, 'removed!']);\n",
       "            Plotly.purge(gd);\n",
       "            observer.disconnect();\n",
       "        }}\n",
       "}});\n",
       "\n",
       "// Listen for the removal of the full notebook cells\n",
       "var notebookContainer = gd.closest('#notebook-container');\n",
       "if (notebookContainer) {{\n",
       "    x.observe(notebookContainer, {childList: true});\n",
       "}}\n",
       "\n",
       "// Listen for the clearing of the current output cell\n",
       "var outputEl = gd.closest('.output');\n",
       "if (outputEl) {{\n",
       "    x.observe(outputEl, {childList: true});\n",
       "}}\n",
       "\n",
       "                        })                };                });            </script>        </div>"
      ]
     },
     "metadata": {},
     "output_type": "display_data"
    }
   ],
   "source": [
    "df[['A','B']].iplot(kind='spread')"
   ]
  },
  {
   "cell_type": "markdown",
   "metadata": {},
   "source": [
    "## histogram"
   ]
  },
  {
   "cell_type": "code",
   "execution_count": 12,
   "metadata": {},
   "outputs": [
    {
     "data": {
      "application/vnd.plotly.v1+json": {
       "config": {
        "linkText": "Export to plot.ly",
        "plotlyServerURL": "https://plot.ly",
        "showLink": true
       },
       "data": [
        {
         "histfunc": "count",
         "histnorm": "",
         "marker": {
          "color": "rgba(255, 153, 51, 1.0)",
          "line": {
           "color": "#4D5663",
           "width": 1.3
          }
         },
         "name": "A",
         "nbinsx": 25,
         "opacity": 0.8,
         "orientation": "v",
         "type": "histogram",
         "x": [
          1.7678515456907136,
          0.5574856580952305,
          -0.21363049583055474,
          -0.004351036570748041,
          1.7767003172794058,
          -0.9334138647986685,
          1.1304808417686179,
          0.6259673962193651,
          -0.32574810228326134,
          -0.1314461917476808,
          -1.026099740614713,
          1.4479027043794217,
          -0.7324036394879013,
          1.3638350653158162,
          0.39630123683757945,
          0.8552727269772812,
          0.556442238768529,
          -0.7228064270996896,
          0.22293755751174835,
          -1.2082858262037768,
          0.9335405006960275,
          -1.2550530627542957,
          0.4467812267087743,
          0.10029132132103305,
          -0.0549413599185377,
          -1.3333184037642272,
          -1.3301680594098622,
          -0.7769596473116724,
          1.0903101769330352,
          -0.8777530739281518,
          0.47434726364288193,
          -0.41172400734401376,
          1.8406953795409298,
          -1.1950680072719775,
          -1.8362013663508012,
          1.179099927241798,
          0.8161597425274931,
          -0.874575413587495,
          -1.5480799123989284,
          0.38698290337957475,
          0.23717793196131678,
          0.19455267577594007,
          -0.8356082236548912,
          -2.2865479585455635,
          0.16634216318820633,
          -0.46122556641627444,
          -2.4094331248490484,
          0.3792702082051058,
          -0.7537096573938259,
          -0.759773123023279,
          0.8266482805597588,
          -1.0505006686540792,
          -0.15248344190761204,
          0.33598820905109306,
          -0.15974082243051765,
          0.8298682402617803,
          2.048597015286573,
          -0.255888630503058,
          -0.3669703838315419,
          -0.7260150403276863,
          1.4830320669622425,
          1.2370722898310813,
          1.6086441137657619,
          -0.45513715595293935,
          0.041818858058306776,
          -0.8630825576383753,
          -0.5510868008972226,
          -1.7331002160136844,
          1.094703385652114,
          0.11953874990716992,
          -0.6683136044821177,
          0.34599573563462505,
          -0.8319700524687987,
          -0.558261484573633,
          0.5030434040002801,
          0.6619721971501331,
          0.7818169444348697,
          -1.0897772248158428,
          -0.26427788527573237,
          -0.872217187223391,
          1.076038386332144,
          0.46941249058773576,
          -1.6653597079445228,
          -0.9531239576661726,
          0.2684194351671944,
          1.2397589831101998,
          -0.007990690617178655,
          -1.321950623693112,
          0.6809604552532404,
          1.2779317283832747,
          0.14449547116258432,
          -0.630375829713827,
          1.3946080794601639,
          -0.40166706464735724,
          0.35770716033720257,
          0.35722053214901406,
          1.0364875764023738,
          2.1454701108264893,
          1.370139380136401,
          -0.38450430586042783
         ]
        }
       ],
       "layout": {
        "barmode": "overlay",
        "legend": {
         "bgcolor": "#F5F6F9",
         "font": {
          "color": "#4D5663"
         }
        },
        "paper_bgcolor": "#F5F6F9",
        "plot_bgcolor": "#F5F6F9",
        "template": {
         "data": {
          "bar": [
           {
            "error_x": {
             "color": "#2a3f5f"
            },
            "error_y": {
             "color": "#2a3f5f"
            },
            "marker": {
             "line": {
              "color": "#E5ECF6",
              "width": 0.5
             },
             "pattern": {
              "fillmode": "overlay",
              "size": 10,
              "solidity": 0.2
             }
            },
            "type": "bar"
           }
          ],
          "barpolar": [
           {
            "marker": {
             "line": {
              "color": "#E5ECF6",
              "width": 0.5
             },
             "pattern": {
              "fillmode": "overlay",
              "size": 10,
              "solidity": 0.2
             }
            },
            "type": "barpolar"
           }
          ],
          "carpet": [
           {
            "aaxis": {
             "endlinecolor": "#2a3f5f",
             "gridcolor": "white",
             "linecolor": "white",
             "minorgridcolor": "white",
             "startlinecolor": "#2a3f5f"
            },
            "baxis": {
             "endlinecolor": "#2a3f5f",
             "gridcolor": "white",
             "linecolor": "white",
             "minorgridcolor": "white",
             "startlinecolor": "#2a3f5f"
            },
            "type": "carpet"
           }
          ],
          "choropleth": [
           {
            "colorbar": {
             "outlinewidth": 0,
             "ticks": ""
            },
            "type": "choropleth"
           }
          ],
          "contour": [
           {
            "colorbar": {
             "outlinewidth": 0,
             "ticks": ""
            },
            "colorscale": [
             [
              0,
              "#0d0887"
             ],
             [
              0.1111111111111111,
              "#46039f"
             ],
             [
              0.2222222222222222,
              "#7201a8"
             ],
             [
              0.3333333333333333,
              "#9c179e"
             ],
             [
              0.4444444444444444,
              "#bd3786"
             ],
             [
              0.5555555555555556,
              "#d8576b"
             ],
             [
              0.6666666666666666,
              "#ed7953"
             ],
             [
              0.7777777777777778,
              "#fb9f3a"
             ],
             [
              0.8888888888888888,
              "#fdca26"
             ],
             [
              1,
              "#f0f921"
             ]
            ],
            "type": "contour"
           }
          ],
          "contourcarpet": [
           {
            "colorbar": {
             "outlinewidth": 0,
             "ticks": ""
            },
            "type": "contourcarpet"
           }
          ],
          "heatmap": [
           {
            "colorbar": {
             "outlinewidth": 0,
             "ticks": ""
            },
            "colorscale": [
             [
              0,
              "#0d0887"
             ],
             [
              0.1111111111111111,
              "#46039f"
             ],
             [
              0.2222222222222222,
              "#7201a8"
             ],
             [
              0.3333333333333333,
              "#9c179e"
             ],
             [
              0.4444444444444444,
              "#bd3786"
             ],
             [
              0.5555555555555556,
              "#d8576b"
             ],
             [
              0.6666666666666666,
              "#ed7953"
             ],
             [
              0.7777777777777778,
              "#fb9f3a"
             ],
             [
              0.8888888888888888,
              "#fdca26"
             ],
             [
              1,
              "#f0f921"
             ]
            ],
            "type": "heatmap"
           }
          ],
          "heatmapgl": [
           {
            "colorbar": {
             "outlinewidth": 0,
             "ticks": ""
            },
            "colorscale": [
             [
              0,
              "#0d0887"
             ],
             [
              0.1111111111111111,
              "#46039f"
             ],
             [
              0.2222222222222222,
              "#7201a8"
             ],
             [
              0.3333333333333333,
              "#9c179e"
             ],
             [
              0.4444444444444444,
              "#bd3786"
             ],
             [
              0.5555555555555556,
              "#d8576b"
             ],
             [
              0.6666666666666666,
              "#ed7953"
             ],
             [
              0.7777777777777778,
              "#fb9f3a"
             ],
             [
              0.8888888888888888,
              "#fdca26"
             ],
             [
              1,
              "#f0f921"
             ]
            ],
            "type": "heatmapgl"
           }
          ],
          "histogram": [
           {
            "marker": {
             "pattern": {
              "fillmode": "overlay",
              "size": 10,
              "solidity": 0.2
             }
            },
            "type": "histogram"
           }
          ],
          "histogram2d": [
           {
            "colorbar": {
             "outlinewidth": 0,
             "ticks": ""
            },
            "colorscale": [
             [
              0,
              "#0d0887"
             ],
             [
              0.1111111111111111,
              "#46039f"
             ],
             [
              0.2222222222222222,
              "#7201a8"
             ],
             [
              0.3333333333333333,
              "#9c179e"
             ],
             [
              0.4444444444444444,
              "#bd3786"
             ],
             [
              0.5555555555555556,
              "#d8576b"
             ],
             [
              0.6666666666666666,
              "#ed7953"
             ],
             [
              0.7777777777777778,
              "#fb9f3a"
             ],
             [
              0.8888888888888888,
              "#fdca26"
             ],
             [
              1,
              "#f0f921"
             ]
            ],
            "type": "histogram2d"
           }
          ],
          "histogram2dcontour": [
           {
            "colorbar": {
             "outlinewidth": 0,
             "ticks": ""
            },
            "colorscale": [
             [
              0,
              "#0d0887"
             ],
             [
              0.1111111111111111,
              "#46039f"
             ],
             [
              0.2222222222222222,
              "#7201a8"
             ],
             [
              0.3333333333333333,
              "#9c179e"
             ],
             [
              0.4444444444444444,
              "#bd3786"
             ],
             [
              0.5555555555555556,
              "#d8576b"
             ],
             [
              0.6666666666666666,
              "#ed7953"
             ],
             [
              0.7777777777777778,
              "#fb9f3a"
             ],
             [
              0.8888888888888888,
              "#fdca26"
             ],
             [
              1,
              "#f0f921"
             ]
            ],
            "type": "histogram2dcontour"
           }
          ],
          "mesh3d": [
           {
            "colorbar": {
             "outlinewidth": 0,
             "ticks": ""
            },
            "type": "mesh3d"
           }
          ],
          "parcoords": [
           {
            "line": {
             "colorbar": {
              "outlinewidth": 0,
              "ticks": ""
             }
            },
            "type": "parcoords"
           }
          ],
          "pie": [
           {
            "automargin": true,
            "type": "pie"
           }
          ],
          "scatter": [
           {
            "fillpattern": {
             "fillmode": "overlay",
             "size": 10,
             "solidity": 0.2
            },
            "type": "scatter"
           }
          ],
          "scatter3d": [
           {
            "line": {
             "colorbar": {
              "outlinewidth": 0,
              "ticks": ""
             }
            },
            "marker": {
             "colorbar": {
              "outlinewidth": 0,
              "ticks": ""
             }
            },
            "type": "scatter3d"
           }
          ],
          "scattercarpet": [
           {
            "marker": {
             "colorbar": {
              "outlinewidth": 0,
              "ticks": ""
             }
            },
            "type": "scattercarpet"
           }
          ],
          "scattergeo": [
           {
            "marker": {
             "colorbar": {
              "outlinewidth": 0,
              "ticks": ""
             }
            },
            "type": "scattergeo"
           }
          ],
          "scattergl": [
           {
            "marker": {
             "colorbar": {
              "outlinewidth": 0,
              "ticks": ""
             }
            },
            "type": "scattergl"
           }
          ],
          "scattermapbox": [
           {
            "marker": {
             "colorbar": {
              "outlinewidth": 0,
              "ticks": ""
             }
            },
            "type": "scattermapbox"
           }
          ],
          "scatterpolar": [
           {
            "marker": {
             "colorbar": {
              "outlinewidth": 0,
              "ticks": ""
             }
            },
            "type": "scatterpolar"
           }
          ],
          "scatterpolargl": [
           {
            "marker": {
             "colorbar": {
              "outlinewidth": 0,
              "ticks": ""
             }
            },
            "type": "scatterpolargl"
           }
          ],
          "scatterternary": [
           {
            "marker": {
             "colorbar": {
              "outlinewidth": 0,
              "ticks": ""
             }
            },
            "type": "scatterternary"
           }
          ],
          "surface": [
           {
            "colorbar": {
             "outlinewidth": 0,
             "ticks": ""
            },
            "colorscale": [
             [
              0,
              "#0d0887"
             ],
             [
              0.1111111111111111,
              "#46039f"
             ],
             [
              0.2222222222222222,
              "#7201a8"
             ],
             [
              0.3333333333333333,
              "#9c179e"
             ],
             [
              0.4444444444444444,
              "#bd3786"
             ],
             [
              0.5555555555555556,
              "#d8576b"
             ],
             [
              0.6666666666666666,
              "#ed7953"
             ],
             [
              0.7777777777777778,
              "#fb9f3a"
             ],
             [
              0.8888888888888888,
              "#fdca26"
             ],
             [
              1,
              "#f0f921"
             ]
            ],
            "type": "surface"
           }
          ],
          "table": [
           {
            "cells": {
             "fill": {
              "color": "#EBF0F8"
             },
             "line": {
              "color": "white"
             }
            },
            "header": {
             "fill": {
              "color": "#C8D4E3"
             },
             "line": {
              "color": "white"
             }
            },
            "type": "table"
           }
          ]
         },
         "layout": {
          "annotationdefaults": {
           "arrowcolor": "#2a3f5f",
           "arrowhead": 0,
           "arrowwidth": 1
          },
          "autotypenumbers": "strict",
          "coloraxis": {
           "colorbar": {
            "outlinewidth": 0,
            "ticks": ""
           }
          },
          "colorscale": {
           "diverging": [
            [
             0,
             "#8e0152"
            ],
            [
             0.1,
             "#c51b7d"
            ],
            [
             0.2,
             "#de77ae"
            ],
            [
             0.3,
             "#f1b6da"
            ],
            [
             0.4,
             "#fde0ef"
            ],
            [
             0.5,
             "#f7f7f7"
            ],
            [
             0.6,
             "#e6f5d0"
            ],
            [
             0.7,
             "#b8e186"
            ],
            [
             0.8,
             "#7fbc41"
            ],
            [
             0.9,
             "#4d9221"
            ],
            [
             1,
             "#276419"
            ]
           ],
           "sequential": [
            [
             0,
             "#0d0887"
            ],
            [
             0.1111111111111111,
             "#46039f"
            ],
            [
             0.2222222222222222,
             "#7201a8"
            ],
            [
             0.3333333333333333,
             "#9c179e"
            ],
            [
             0.4444444444444444,
             "#bd3786"
            ],
            [
             0.5555555555555556,
             "#d8576b"
            ],
            [
             0.6666666666666666,
             "#ed7953"
            ],
            [
             0.7777777777777778,
             "#fb9f3a"
            ],
            [
             0.8888888888888888,
             "#fdca26"
            ],
            [
             1,
             "#f0f921"
            ]
           ],
           "sequentialminus": [
            [
             0,
             "#0d0887"
            ],
            [
             0.1111111111111111,
             "#46039f"
            ],
            [
             0.2222222222222222,
             "#7201a8"
            ],
            [
             0.3333333333333333,
             "#9c179e"
            ],
            [
             0.4444444444444444,
             "#bd3786"
            ],
            [
             0.5555555555555556,
             "#d8576b"
            ],
            [
             0.6666666666666666,
             "#ed7953"
            ],
            [
             0.7777777777777778,
             "#fb9f3a"
            ],
            [
             0.8888888888888888,
             "#fdca26"
            ],
            [
             1,
             "#f0f921"
            ]
           ]
          },
          "colorway": [
           "#636efa",
           "#EF553B",
           "#00cc96",
           "#ab63fa",
           "#FFA15A",
           "#19d3f3",
           "#FF6692",
           "#B6E880",
           "#FF97FF",
           "#FECB52"
          ],
          "font": {
           "color": "#2a3f5f"
          },
          "geo": {
           "bgcolor": "white",
           "lakecolor": "white",
           "landcolor": "#E5ECF6",
           "showlakes": true,
           "showland": true,
           "subunitcolor": "white"
          },
          "hoverlabel": {
           "align": "left"
          },
          "hovermode": "closest",
          "mapbox": {
           "style": "light"
          },
          "paper_bgcolor": "white",
          "plot_bgcolor": "#E5ECF6",
          "polar": {
           "angularaxis": {
            "gridcolor": "white",
            "linecolor": "white",
            "ticks": ""
           },
           "bgcolor": "#E5ECF6",
           "radialaxis": {
            "gridcolor": "white",
            "linecolor": "white",
            "ticks": ""
           }
          },
          "scene": {
           "xaxis": {
            "backgroundcolor": "#E5ECF6",
            "gridcolor": "white",
            "gridwidth": 2,
            "linecolor": "white",
            "showbackground": true,
            "ticks": "",
            "zerolinecolor": "white"
           },
           "yaxis": {
            "backgroundcolor": "#E5ECF6",
            "gridcolor": "white",
            "gridwidth": 2,
            "linecolor": "white",
            "showbackground": true,
            "ticks": "",
            "zerolinecolor": "white"
           },
           "zaxis": {
            "backgroundcolor": "#E5ECF6",
            "gridcolor": "white",
            "gridwidth": 2,
            "linecolor": "white",
            "showbackground": true,
            "ticks": "",
            "zerolinecolor": "white"
           }
          },
          "shapedefaults": {
           "line": {
            "color": "#2a3f5f"
           }
          },
          "ternary": {
           "aaxis": {
            "gridcolor": "white",
            "linecolor": "white",
            "ticks": ""
           },
           "baxis": {
            "gridcolor": "white",
            "linecolor": "white",
            "ticks": ""
           },
           "bgcolor": "#E5ECF6",
           "caxis": {
            "gridcolor": "white",
            "linecolor": "white",
            "ticks": ""
           }
          },
          "title": {
           "x": 0.05
          },
          "xaxis": {
           "automargin": true,
           "gridcolor": "white",
           "linecolor": "white",
           "ticks": "",
           "title": {
            "standoff": 15
           },
           "zerolinecolor": "white",
           "zerolinewidth": 2
          },
          "yaxis": {
           "automargin": true,
           "gridcolor": "white",
           "linecolor": "white",
           "ticks": "",
           "title": {
            "standoff": 15
           },
           "zerolinecolor": "white",
           "zerolinewidth": 2
          }
         }
        },
        "title": {
         "font": {
          "color": "#4D5663"
         }
        },
        "xaxis": {
         "gridcolor": "#E1E5ED",
         "showgrid": true,
         "tickfont": {
          "color": "#4D5663"
         },
         "title": {
          "font": {
           "color": "#4D5663"
          },
          "text": ""
         },
         "zerolinecolor": "#E1E5ED"
        },
        "yaxis": {
         "gridcolor": "#E1E5ED",
         "showgrid": true,
         "tickfont": {
          "color": "#4D5663"
         },
         "title": {
          "font": {
           "color": "#4D5663"
          },
          "text": ""
         },
         "zerolinecolor": "#E1E5ED"
        }
       }
      },
      "text/html": [
       "<div>                            <div id=\"52d98217-7d19-4a4b-a6f7-2fc56ec90597\" class=\"plotly-graph-div\" style=\"height:525px; width:100%;\"></div>            <script type=\"text/javascript\">                require([\"plotly\"], function(Plotly) {                    window.PLOTLYENV=window.PLOTLYENV || {};\n",
       "                    window.PLOTLYENV.BASE_URL='https://plot.ly';                                    if (document.getElementById(\"52d98217-7d19-4a4b-a6f7-2fc56ec90597\")) {                    Plotly.newPlot(                        \"52d98217-7d19-4a4b-a6f7-2fc56ec90597\",                        [{\"histfunc\":\"count\",\"histnorm\":\"\",\"marker\":{\"color\":\"rgba(255, 153, 51, 1.0)\",\"line\":{\"color\":\"#4D5663\",\"width\":1.3}},\"name\":\"A\",\"nbinsx\":25,\"opacity\":0.8,\"orientation\":\"v\",\"x\":[1.7678515456907136,0.5574856580952305,-0.21363049583055474,-0.004351036570748041,1.7767003172794058,-0.9334138647986685,1.1304808417686179,0.6259673962193651,-0.32574810228326134,-0.1314461917476808,-1.026099740614713,1.4479027043794217,-0.7324036394879013,1.3638350653158162,0.39630123683757945,0.8552727269772812,0.556442238768529,-0.7228064270996896,0.22293755751174835,-1.2082858262037768,0.9335405006960275,-1.2550530627542957,0.4467812267087743,0.10029132132103305,-0.0549413599185377,-1.3333184037642272,-1.3301680594098622,-0.7769596473116724,1.0903101769330352,-0.8777530739281518,0.47434726364288193,-0.41172400734401376,1.8406953795409298,-1.1950680072719775,-1.8362013663508012,1.179099927241798,0.8161597425274931,-0.874575413587495,-1.5480799123989284,0.38698290337957475,0.23717793196131678,0.19455267577594007,-0.8356082236548912,-2.2865479585455635,0.16634216318820633,-0.46122556641627444,-2.4094331248490484,0.3792702082051058,-0.7537096573938259,-0.759773123023279,0.8266482805597588,-1.0505006686540792,-0.15248344190761204,0.33598820905109306,-0.15974082243051765,0.8298682402617803,2.048597015286573,-0.255888630503058,-0.3669703838315419,-0.7260150403276863,1.4830320669622425,1.2370722898310813,1.6086441137657619,-0.45513715595293935,0.041818858058306776,-0.8630825576383753,-0.5510868008972226,-1.7331002160136844,1.094703385652114,0.11953874990716992,-0.6683136044821177,0.34599573563462505,-0.8319700524687987,-0.558261484573633,0.5030434040002801,0.6619721971501331,0.7818169444348697,-1.0897772248158428,-0.26427788527573237,-0.872217187223391,1.076038386332144,0.46941249058773576,-1.6653597079445228,-0.9531239576661726,0.2684194351671944,1.2397589831101998,-0.007990690617178655,-1.321950623693112,0.6809604552532404,1.2779317283832747,0.14449547116258432,-0.630375829713827,1.3946080794601639,-0.40166706464735724,0.35770716033720257,0.35722053214901406,1.0364875764023738,2.1454701108264893,1.370139380136401,-0.38450430586042783],\"type\":\"histogram\"}],                        {\"barmode\":\"overlay\",\"legend\":{\"bgcolor\":\"#F5F6F9\",\"font\":{\"color\":\"#4D5663\"}},\"paper_bgcolor\":\"#F5F6F9\",\"plot_bgcolor\":\"#F5F6F9\",\"template\":{\"data\":{\"barpolar\":[{\"marker\":{\"line\":{\"color\":\"#E5ECF6\",\"width\":0.5},\"pattern\":{\"fillmode\":\"overlay\",\"size\":10,\"solidity\":0.2}},\"type\":\"barpolar\"}],\"bar\":[{\"error_x\":{\"color\":\"#2a3f5f\"},\"error_y\":{\"color\":\"#2a3f5f\"},\"marker\":{\"line\":{\"color\":\"#E5ECF6\",\"width\":0.5},\"pattern\":{\"fillmode\":\"overlay\",\"size\":10,\"solidity\":0.2}},\"type\":\"bar\"}],\"carpet\":[{\"aaxis\":{\"endlinecolor\":\"#2a3f5f\",\"gridcolor\":\"white\",\"linecolor\":\"white\",\"minorgridcolor\":\"white\",\"startlinecolor\":\"#2a3f5f\"},\"baxis\":{\"endlinecolor\":\"#2a3f5f\",\"gridcolor\":\"white\",\"linecolor\":\"white\",\"minorgridcolor\":\"white\",\"startlinecolor\":\"#2a3f5f\"},\"type\":\"carpet\"}],\"choropleth\":[{\"colorbar\":{\"outlinewidth\":0,\"ticks\":\"\"},\"type\":\"choropleth\"}],\"contourcarpet\":[{\"colorbar\":{\"outlinewidth\":0,\"ticks\":\"\"},\"type\":\"contourcarpet\"}],\"contour\":[{\"colorbar\":{\"outlinewidth\":0,\"ticks\":\"\"},\"colorscale\":[[0.0,\"#0d0887\"],[0.1111111111111111,\"#46039f\"],[0.2222222222222222,\"#7201a8\"],[0.3333333333333333,\"#9c179e\"],[0.4444444444444444,\"#bd3786\"],[0.5555555555555556,\"#d8576b\"],[0.6666666666666666,\"#ed7953\"],[0.7777777777777778,\"#fb9f3a\"],[0.8888888888888888,\"#fdca26\"],[1.0,\"#f0f921\"]],\"type\":\"contour\"}],\"heatmapgl\":[{\"colorbar\":{\"outlinewidth\":0,\"ticks\":\"\"},\"colorscale\":[[0.0,\"#0d0887\"],[0.1111111111111111,\"#46039f\"],[0.2222222222222222,\"#7201a8\"],[0.3333333333333333,\"#9c179e\"],[0.4444444444444444,\"#bd3786\"],[0.5555555555555556,\"#d8576b\"],[0.6666666666666666,\"#ed7953\"],[0.7777777777777778,\"#fb9f3a\"],[0.8888888888888888,\"#fdca26\"],[1.0,\"#f0f921\"]],\"type\":\"heatmapgl\"}],\"heatmap\":[{\"colorbar\":{\"outlinewidth\":0,\"ticks\":\"\"},\"colorscale\":[[0.0,\"#0d0887\"],[0.1111111111111111,\"#46039f\"],[0.2222222222222222,\"#7201a8\"],[0.3333333333333333,\"#9c179e\"],[0.4444444444444444,\"#bd3786\"],[0.5555555555555556,\"#d8576b\"],[0.6666666666666666,\"#ed7953\"],[0.7777777777777778,\"#fb9f3a\"],[0.8888888888888888,\"#fdca26\"],[1.0,\"#f0f921\"]],\"type\":\"heatmap\"}],\"histogram2dcontour\":[{\"colorbar\":{\"outlinewidth\":0,\"ticks\":\"\"},\"colorscale\":[[0.0,\"#0d0887\"],[0.1111111111111111,\"#46039f\"],[0.2222222222222222,\"#7201a8\"],[0.3333333333333333,\"#9c179e\"],[0.4444444444444444,\"#bd3786\"],[0.5555555555555556,\"#d8576b\"],[0.6666666666666666,\"#ed7953\"],[0.7777777777777778,\"#fb9f3a\"],[0.8888888888888888,\"#fdca26\"],[1.0,\"#f0f921\"]],\"type\":\"histogram2dcontour\"}],\"histogram2d\":[{\"colorbar\":{\"outlinewidth\":0,\"ticks\":\"\"},\"colorscale\":[[0.0,\"#0d0887\"],[0.1111111111111111,\"#46039f\"],[0.2222222222222222,\"#7201a8\"],[0.3333333333333333,\"#9c179e\"],[0.4444444444444444,\"#bd3786\"],[0.5555555555555556,\"#d8576b\"],[0.6666666666666666,\"#ed7953\"],[0.7777777777777778,\"#fb9f3a\"],[0.8888888888888888,\"#fdca26\"],[1.0,\"#f0f921\"]],\"type\":\"histogram2d\"}],\"histogram\":[{\"marker\":{\"pattern\":{\"fillmode\":\"overlay\",\"size\":10,\"solidity\":0.2}},\"type\":\"histogram\"}],\"mesh3d\":[{\"colorbar\":{\"outlinewidth\":0,\"ticks\":\"\"},\"type\":\"mesh3d\"}],\"parcoords\":[{\"line\":{\"colorbar\":{\"outlinewidth\":0,\"ticks\":\"\"}},\"type\":\"parcoords\"}],\"pie\":[{\"automargin\":true,\"type\":\"pie\"}],\"scatter3d\":[{\"line\":{\"colorbar\":{\"outlinewidth\":0,\"ticks\":\"\"}},\"marker\":{\"colorbar\":{\"outlinewidth\":0,\"ticks\":\"\"}},\"type\":\"scatter3d\"}],\"scattercarpet\":[{\"marker\":{\"colorbar\":{\"outlinewidth\":0,\"ticks\":\"\"}},\"type\":\"scattercarpet\"}],\"scattergeo\":[{\"marker\":{\"colorbar\":{\"outlinewidth\":0,\"ticks\":\"\"}},\"type\":\"scattergeo\"}],\"scattergl\":[{\"marker\":{\"colorbar\":{\"outlinewidth\":0,\"ticks\":\"\"}},\"type\":\"scattergl\"}],\"scattermapbox\":[{\"marker\":{\"colorbar\":{\"outlinewidth\":0,\"ticks\":\"\"}},\"type\":\"scattermapbox\"}],\"scatterpolargl\":[{\"marker\":{\"colorbar\":{\"outlinewidth\":0,\"ticks\":\"\"}},\"type\":\"scatterpolargl\"}],\"scatterpolar\":[{\"marker\":{\"colorbar\":{\"outlinewidth\":0,\"ticks\":\"\"}},\"type\":\"scatterpolar\"}],\"scatter\":[{\"fillpattern\":{\"fillmode\":\"overlay\",\"size\":10,\"solidity\":0.2},\"type\":\"scatter\"}],\"scatterternary\":[{\"marker\":{\"colorbar\":{\"outlinewidth\":0,\"ticks\":\"\"}},\"type\":\"scatterternary\"}],\"surface\":[{\"colorbar\":{\"outlinewidth\":0,\"ticks\":\"\"},\"colorscale\":[[0.0,\"#0d0887\"],[0.1111111111111111,\"#46039f\"],[0.2222222222222222,\"#7201a8\"],[0.3333333333333333,\"#9c179e\"],[0.4444444444444444,\"#bd3786\"],[0.5555555555555556,\"#d8576b\"],[0.6666666666666666,\"#ed7953\"],[0.7777777777777778,\"#fb9f3a\"],[0.8888888888888888,\"#fdca26\"],[1.0,\"#f0f921\"]],\"type\":\"surface\"}],\"table\":[{\"cells\":{\"fill\":{\"color\":\"#EBF0F8\"},\"line\":{\"color\":\"white\"}},\"header\":{\"fill\":{\"color\":\"#C8D4E3\"},\"line\":{\"color\":\"white\"}},\"type\":\"table\"}]},\"layout\":{\"annotationdefaults\":{\"arrowcolor\":\"#2a3f5f\",\"arrowhead\":0,\"arrowwidth\":1},\"autotypenumbers\":\"strict\",\"coloraxis\":{\"colorbar\":{\"outlinewidth\":0,\"ticks\":\"\"}},\"colorscale\":{\"diverging\":[[0,\"#8e0152\"],[0.1,\"#c51b7d\"],[0.2,\"#de77ae\"],[0.3,\"#f1b6da\"],[0.4,\"#fde0ef\"],[0.5,\"#f7f7f7\"],[0.6,\"#e6f5d0\"],[0.7,\"#b8e186\"],[0.8,\"#7fbc41\"],[0.9,\"#4d9221\"],[1,\"#276419\"]],\"sequential\":[[0.0,\"#0d0887\"],[0.1111111111111111,\"#46039f\"],[0.2222222222222222,\"#7201a8\"],[0.3333333333333333,\"#9c179e\"],[0.4444444444444444,\"#bd3786\"],[0.5555555555555556,\"#d8576b\"],[0.6666666666666666,\"#ed7953\"],[0.7777777777777778,\"#fb9f3a\"],[0.8888888888888888,\"#fdca26\"],[1.0,\"#f0f921\"]],\"sequentialminus\":[[0.0,\"#0d0887\"],[0.1111111111111111,\"#46039f\"],[0.2222222222222222,\"#7201a8\"],[0.3333333333333333,\"#9c179e\"],[0.4444444444444444,\"#bd3786\"],[0.5555555555555556,\"#d8576b\"],[0.6666666666666666,\"#ed7953\"],[0.7777777777777778,\"#fb9f3a\"],[0.8888888888888888,\"#fdca26\"],[1.0,\"#f0f921\"]]},\"colorway\":[\"#636efa\",\"#EF553B\",\"#00cc96\",\"#ab63fa\",\"#FFA15A\",\"#19d3f3\",\"#FF6692\",\"#B6E880\",\"#FF97FF\",\"#FECB52\"],\"font\":{\"color\":\"#2a3f5f\"},\"geo\":{\"bgcolor\":\"white\",\"lakecolor\":\"white\",\"landcolor\":\"#E5ECF6\",\"showlakes\":true,\"showland\":true,\"subunitcolor\":\"white\"},\"hoverlabel\":{\"align\":\"left\"},\"hovermode\":\"closest\",\"mapbox\":{\"style\":\"light\"},\"paper_bgcolor\":\"white\",\"plot_bgcolor\":\"#E5ECF6\",\"polar\":{\"angularaxis\":{\"gridcolor\":\"white\",\"linecolor\":\"white\",\"ticks\":\"\"},\"bgcolor\":\"#E5ECF6\",\"radialaxis\":{\"gridcolor\":\"white\",\"linecolor\":\"white\",\"ticks\":\"\"}},\"scene\":{\"xaxis\":{\"backgroundcolor\":\"#E5ECF6\",\"gridcolor\":\"white\",\"gridwidth\":2,\"linecolor\":\"white\",\"showbackground\":true,\"ticks\":\"\",\"zerolinecolor\":\"white\"},\"yaxis\":{\"backgroundcolor\":\"#E5ECF6\",\"gridcolor\":\"white\",\"gridwidth\":2,\"linecolor\":\"white\",\"showbackground\":true,\"ticks\":\"\",\"zerolinecolor\":\"white\"},\"zaxis\":{\"backgroundcolor\":\"#E5ECF6\",\"gridcolor\":\"white\",\"gridwidth\":2,\"linecolor\":\"white\",\"showbackground\":true,\"ticks\":\"\",\"zerolinecolor\":\"white\"}},\"shapedefaults\":{\"line\":{\"color\":\"#2a3f5f\"}},\"ternary\":{\"aaxis\":{\"gridcolor\":\"white\",\"linecolor\":\"white\",\"ticks\":\"\"},\"baxis\":{\"gridcolor\":\"white\",\"linecolor\":\"white\",\"ticks\":\"\"},\"bgcolor\":\"#E5ECF6\",\"caxis\":{\"gridcolor\":\"white\",\"linecolor\":\"white\",\"ticks\":\"\"}},\"title\":{\"x\":0.05},\"xaxis\":{\"automargin\":true,\"gridcolor\":\"white\",\"linecolor\":\"white\",\"ticks\":\"\",\"title\":{\"standoff\":15},\"zerolinecolor\":\"white\",\"zerolinewidth\":2},\"yaxis\":{\"automargin\":true,\"gridcolor\":\"white\",\"linecolor\":\"white\",\"ticks\":\"\",\"title\":{\"standoff\":15},\"zerolinecolor\":\"white\",\"zerolinewidth\":2}}},\"title\":{\"font\":{\"color\":\"#4D5663\"}},\"xaxis\":{\"gridcolor\":\"#E1E5ED\",\"showgrid\":true,\"tickfont\":{\"color\":\"#4D5663\"},\"title\":{\"font\":{\"color\":\"#4D5663\"},\"text\":\"\"},\"zerolinecolor\":\"#E1E5ED\"},\"yaxis\":{\"gridcolor\":\"#E1E5ED\",\"showgrid\":true,\"tickfont\":{\"color\":\"#4D5663\"},\"title\":{\"font\":{\"color\":\"#4D5663\"},\"text\":\"\"},\"zerolinecolor\":\"#E1E5ED\"}},                        {\"showLink\": true, \"linkText\": \"Export to plot.ly\", \"plotlyServerURL\": \"https://plot.ly\", \"responsive\": true}                    ).then(function(){\n",
       "                            \n",
       "var gd = document.getElementById('52d98217-7d19-4a4b-a6f7-2fc56ec90597');\n",
       "var x = new MutationObserver(function (mutations, observer) {{\n",
       "        var display = window.getComputedStyle(gd).display;\n",
       "        if (!display || display === 'none') {{\n",
       "            console.log([gd, 'removed!']);\n",
       "            Plotly.purge(gd);\n",
       "            observer.disconnect();\n",
       "        }}\n",
       "}});\n",
       "\n",
       "// Listen for the removal of the full notebook cells\n",
       "var notebookContainer = gd.closest('#notebook-container');\n",
       "if (notebookContainer) {{\n",
       "    x.observe(notebookContainer, {childList: true});\n",
       "}}\n",
       "\n",
       "// Listen for the clearing of the current output cell\n",
       "var outputEl = gd.closest('.output');\n",
       "if (outputEl) {{\n",
       "    x.observe(outputEl, {childList: true});\n",
       "}}\n",
       "\n",
       "                        })                };                });            </script>        </div>"
      ]
     },
     "metadata": {},
     "output_type": "display_data"
    }
   ],
   "source": [
    "df['A'].iplot(kind='hist',bins=25)"
   ]
  },
  {
   "cell_type": "code",
   "execution_count": 1,
   "metadata": {},
   "outputs": [
    {
     "ename": "NameError",
     "evalue": "name 'df' is not defined",
     "output_type": "error",
     "traceback": [
      "\u001b[1;31m---------------------------------------------------------------------------\u001b[0m",
      "\u001b[1;31mNameError\u001b[0m                                 Traceback (most recent call last)",
      "Cell \u001b[1;32mIn[1], line 1\u001b[0m\n\u001b[1;32m----> 1\u001b[0m \u001b[43mdf\u001b[49m\u001b[38;5;241m.\u001b[39miplot(kind\u001b[38;5;241m=\u001b[39m\u001b[38;5;124m'\u001b[39m\u001b[38;5;124mbubble\u001b[39m\u001b[38;5;124m'\u001b[39m,x\u001b[38;5;241m=\u001b[39m\u001b[38;5;124m'\u001b[39m\u001b[38;5;124mA\u001b[39m\u001b[38;5;124m'\u001b[39m,y\u001b[38;5;241m=\u001b[39m\u001b[38;5;124m'\u001b[39m\u001b[38;5;124mB\u001b[39m\u001b[38;5;124m'\u001b[39m,size\u001b[38;5;241m=\u001b[39m\u001b[38;5;124m'\u001b[39m\u001b[38;5;124mC\u001b[39m\u001b[38;5;124m'\u001b[39m\u001b[38;5;241m+\u001b[39m\u001b[38;5;241m2\u001b[39m)\n",
      "\u001b[1;31mNameError\u001b[0m: name 'df' is not defined"
     ]
    }
   ],
   "source": [
    "df.iplot(kind='bubble',x='A',y='B',size='C'+2)"
   ]
  },
  {
   "cell_type": "markdown",
   "metadata": {},
   "source": [
    "## scatter_matrix()\n",
    "\n",
    "Similar to sns.pairplot()"
   ]
  },
  {
   "cell_type": "code",
   "execution_count": 14,
   "metadata": {},
   "outputs": [
    {
     "data": {
      "application/vnd.plotly.v1+json": {
       "config": {
        "linkText": "Export to plot.ly",
        "plotlyServerURL": "https://plot.ly",
        "showLink": true
       },
       "data": [
        {
         "histfunc": "count",
         "histnorm": "",
         "marker": {
          "color": "rgba(255, 153, 51, 1.0)",
          "line": {
           "color": "#4D5663",
           "width": 1.3
          }
         },
         "name": "A",
         "nbinsx": 10,
         "opacity": 0.8,
         "orientation": "v",
         "type": "histogram",
         "x": [
          1.7678515456907136,
          0.5574856580952305,
          -0.21363049583055474,
          -0.004351036570748041,
          1.7767003172794058,
          -0.9334138647986685,
          1.1304808417686179,
          0.6259673962193651,
          -0.32574810228326134,
          -0.1314461917476808,
          -1.026099740614713,
          1.4479027043794217,
          -0.7324036394879013,
          1.3638350653158162,
          0.39630123683757945,
          0.8552727269772812,
          0.556442238768529,
          -0.7228064270996896,
          0.22293755751174835,
          -1.2082858262037768,
          0.9335405006960275,
          -1.2550530627542957,
          0.4467812267087743,
          0.10029132132103305,
          -0.0549413599185377,
          -1.3333184037642272,
          -1.3301680594098622,
          -0.7769596473116724,
          1.0903101769330352,
          -0.8777530739281518,
          0.47434726364288193,
          -0.41172400734401376,
          1.8406953795409298,
          -1.1950680072719775,
          -1.8362013663508012,
          1.179099927241798,
          0.8161597425274931,
          -0.874575413587495,
          -1.5480799123989284,
          0.38698290337957475,
          0.23717793196131678,
          0.19455267577594007,
          -0.8356082236548912,
          -2.2865479585455635,
          0.16634216318820633,
          -0.46122556641627444,
          -2.4094331248490484,
          0.3792702082051058,
          -0.7537096573938259,
          -0.759773123023279,
          0.8266482805597588,
          -1.0505006686540792,
          -0.15248344190761204,
          0.33598820905109306,
          -0.15974082243051765,
          0.8298682402617803,
          2.048597015286573,
          -0.255888630503058,
          -0.3669703838315419,
          -0.7260150403276863,
          1.4830320669622425,
          1.2370722898310813,
          1.6086441137657619,
          -0.45513715595293935,
          0.041818858058306776,
          -0.8630825576383753,
          -0.5510868008972226,
          -1.7331002160136844,
          1.094703385652114,
          0.11953874990716992,
          -0.6683136044821177,
          0.34599573563462505,
          -0.8319700524687987,
          -0.558261484573633,
          0.5030434040002801,
          0.6619721971501331,
          0.7818169444348697,
          -1.0897772248158428,
          -0.26427788527573237,
          -0.872217187223391,
          1.076038386332144,
          0.46941249058773576,
          -1.6653597079445228,
          -0.9531239576661726,
          0.2684194351671944,
          1.2397589831101998,
          -0.007990690617178655,
          -1.321950623693112,
          0.6809604552532404,
          1.2779317283832747,
          0.14449547116258432,
          -0.630375829713827,
          1.3946080794601639,
          -0.40166706464735724,
          0.35770716033720257,
          0.35722053214901406,
          1.0364875764023738,
          2.1454701108264893,
          1.370139380136401,
          -0.38450430586042783
         ],
         "xaxis": "x",
         "yaxis": "y"
        },
        {
         "line": {
          "color": "rgba(128, 128, 128, 1.0)",
          "dash": "solid",
          "shape": "linear",
          "width": 1.3
         },
         "marker": {
          "size": 2,
          "symbol": "circle"
         },
         "mode": "markers",
         "name": "A",
         "text": "",
         "type": "scatter",
         "x": [
          -0.5044942157545312,
          0.9888079420118232,
          2.9620680407643136,
          -0.8789960931170367,
          -0.5961772819016423,
          0.967688669792416,
          -0.30943339838483885,
          -0.964594537403104,
          -0.836742028077735,
          0.6837214282723483,
          2.1148598036106416,
          1.333928221051847,
          -0.15938807086833995,
          -0.4894942830770963,
          -0.37006575779613216,
          1.1026545609048777,
          0.5630207275529113,
          -1.4192173368675955,
          -0.5480468910450349,
          2.8716050981906327,
          1.2435943906567244,
          0.37357369531247503,
          0.37506127823100743,
          1.6049709934739458,
          -0.47270842030216825,
          0.5239023663911087,
          0.062033033799205,
          0.08291640751423532,
          -0.5829462865942209,
          1.4983306749026488,
          -1.0408969676787778,
          -2.1629858241103914,
          1.6422521446910348,
          -0.15868897935445367,
          0.37357393201209904,
          0.2274780237281322,
          -0.15852313872673549,
          -0.4722233032766944,
          1.0380141282313096,
          1.4264846036211958,
          0.07827925875641766,
          -0.545800770626657,
          0.9845828289203694,
          1.3195592923527997,
          0.5490608948134178,
          -0.1415638073954051,
          -0.6516249038568959,
          -0.7395594895353859,
          -0.6412458750835105,
          -0.25840521061978156,
          1.118167889564803,
          -2.280860698263176,
          -0.8401468839715613,
          -0.04322526654247106,
          -0.07284643005540295,
          0.04391872945696018,
          -2.3001339080663836,
          1.0646541570241572,
          -2.251336395475597,
          -1.3468068532341253,
          -0.3207741538563641,
          0.6305921908091108,
          -0.24008228934501483,
          -0.0022307686225104062,
          1.3895549980239637,
          0.34777396370618113,
          -2.0785013494076794,
          -1.6486984731387868,
          0.8857283314402425,
          0.6833531331085659,
          0.12459556402099713,
          0.0831977004120792,
          1.672604351977852,
          0.14773585534981465,
          -0.7217092256636978,
          0.051001802110237714,
          -0.8384015454027037,
          0.6731042370435385,
          0.17304838753909765,
          -0.8232932608854376,
          0.767028815641581,
          -1.8104429941045004,
          1.8282580189982574,
          -0.523451238059469,
          1.8537992937385805,
          -0.3061469383127988,
          -0.06149910457886894,
          -0.2661031019289138,
          0.5949325643958282,
          -0.7758866651392171,
          0.5112661409862509,
          -1.271072249577671,
          0.7483241333480513,
          1.789665739230297,
          -0.505722738272695,
          1.3412466063005661,
          1.2191913846284896,
          -0.0580815975615273,
          -0.5507407904374377,
          1.5898268484313995
         ],
         "xaxis": "x2",
         "y": [
          1.7678515456907136,
          0.5574856580952305,
          -0.21363049583055474,
          -0.004351036570748041,
          1.7767003172794058,
          -0.9334138647986685,
          1.1304808417686179,
          0.6259673962193651,
          -0.32574810228326134,
          -0.1314461917476808,
          -1.026099740614713,
          1.4479027043794217,
          -0.7324036394879013,
          1.3638350653158162,
          0.39630123683757945,
          0.8552727269772812,
          0.556442238768529,
          -0.7228064270996896,
          0.22293755751174835,
          -1.2082858262037768,
          0.9335405006960275,
          -1.2550530627542957,
          0.4467812267087743,
          0.10029132132103305,
          -0.0549413599185377,
          -1.3333184037642272,
          -1.3301680594098622,
          -0.7769596473116724,
          1.0903101769330352,
          -0.8777530739281518,
          0.47434726364288193,
          -0.41172400734401376,
          1.8406953795409298,
          -1.1950680072719775,
          -1.8362013663508012,
          1.179099927241798,
          0.8161597425274931,
          -0.874575413587495,
          -1.5480799123989284,
          0.38698290337957475,
          0.23717793196131678,
          0.19455267577594007,
          -0.8356082236548912,
          -2.2865479585455635,
          0.16634216318820633,
          -0.46122556641627444,
          -2.4094331248490484,
          0.3792702082051058,
          -0.7537096573938259,
          -0.759773123023279,
          0.8266482805597588,
          -1.0505006686540792,
          -0.15248344190761204,
          0.33598820905109306,
          -0.15974082243051765,
          0.8298682402617803,
          2.048597015286573,
          -0.255888630503058,
          -0.3669703838315419,
          -0.7260150403276863,
          1.4830320669622425,
          1.2370722898310813,
          1.6086441137657619,
          -0.45513715595293935,
          0.041818858058306776,
          -0.8630825576383753,
          -0.5510868008972226,
          -1.7331002160136844,
          1.094703385652114,
          0.11953874990716992,
          -0.6683136044821177,
          0.34599573563462505,
          -0.8319700524687987,
          -0.558261484573633,
          0.5030434040002801,
          0.6619721971501331,
          0.7818169444348697,
          -1.0897772248158428,
          -0.26427788527573237,
          -0.872217187223391,
          1.076038386332144,
          0.46941249058773576,
          -1.6653597079445228,
          -0.9531239576661726,
          0.2684194351671944,
          1.2397589831101998,
          -0.007990690617178655,
          -1.321950623693112,
          0.6809604552532404,
          1.2779317283832747,
          0.14449547116258432,
          -0.630375829713827,
          1.3946080794601639,
          -0.40166706464735724,
          0.35770716033720257,
          0.35722053214901406,
          1.0364875764023738,
          2.1454701108264893,
          1.370139380136401,
          -0.38450430586042783
         ],
         "yaxis": "y2"
        },
        {
         "line": {
          "color": "rgba(128, 128, 128, 1.0)",
          "dash": "solid",
          "shape": "linear",
          "width": 1.3
         },
         "marker": {
          "size": 2,
          "symbol": "circle"
         },
         "mode": "markers",
         "name": "A",
         "text": "",
         "type": "scatter",
         "x": [
          -1.8201913265527303,
          -0.40533667730108597,
          -0.5061076449396962,
          1.1922140171784994,
          -1.2878651814078301,
          -2.0875667102001847,
          1.1359161025340003,
          -0.07975348897386565,
          0.16056033389825844,
          1.124722959228828,
          -1.0760705960481889,
          -0.35840908773828994,
          -0.5897085324218448,
          -1.071805416413214,
          -0.24467585713609044,
          2.8619182220963615,
          0.8179447485176887,
          -0.3651639599408454,
          -1.0514172947895792,
          -0.16632879081565502,
          -0.5023105357432766,
          0.18625466177531907,
          -0.5574087678371401,
          1.0376706639357471,
          1.9600750938572835,
          -0.7639352725337002,
          0.5124698963807007,
          -1.5474971910101507,
          1.0002078982538647,
          -0.4377919098125437,
          1.1031060605395542,
          0.25535981415649517,
          -0.3450852736055648,
          -0.04624154453733395,
          2.6362020496022502,
          1.8598141682965104,
          -1.1681490739797136,
          1.5173724333426744,
          -1.1761600730174717,
          0.2930700147541619,
          0.8101058165963707,
          1.146014689165013,
          -0.10325377444181959,
          1.427681493888483,
          0.5939532894371914,
          -0.39797266930198444,
          0.7802618393107127,
          1.9176420222448844,
          0.2553039738011546,
          -0.9482009983103359,
          1.0107156853545773,
          -0.8678369478973159,
          0.3013044983436712,
          -0.4969682271595119,
          1.1151305873477453,
          -1.2684445322396838,
          -0.2077278129483146,
          1.113546960150091,
          0.9867481245160042,
          -0.4108178571402074,
          1.3766331259618554,
          -0.9821344822529295,
          0.9083785275769809,
          0.9815542389492546,
          0.25954666052048203,
          1.6879036846709607,
          0.7895361058172605,
          -0.6078635133113303,
          -0.6585305793683645,
          -0.3676584629527762,
          0.0640337758872838,
          0.6950945220389215,
          1.5891689293580147,
          -0.573163488272661,
          -0.6411353780052226,
          -0.3384456214766705,
          1.2132745960403493,
          1.52160619121688,
          1.5392895620341296,
          0.6257515304283414,
          -0.694037425090867,
          -2.2471218993382442,
          0.7538425419802119,
          0.34809140715926845,
          0.257122267442059,
          -0.19685369095482094,
          2.247026153566917,
          -0.18492413238763644,
          -0.01643540424867496,
          1.5499300592918965,
          0.578737740126321,
          0.5766895078694938,
          2.313794112427557,
          -0.666123322046375,
          -0.1825573582237236,
          -0.32486405815227387,
          -0.082325109079772,
          0.28171512469617954,
          1.1597411614141633,
          -0.6075210002772761
         ],
         "xaxis": "x3",
         "y": [
          1.7678515456907136,
          0.5574856580952305,
          -0.21363049583055474,
          -0.004351036570748041,
          1.7767003172794058,
          -0.9334138647986685,
          1.1304808417686179,
          0.6259673962193651,
          -0.32574810228326134,
          -0.1314461917476808,
          -1.026099740614713,
          1.4479027043794217,
          -0.7324036394879013,
          1.3638350653158162,
          0.39630123683757945,
          0.8552727269772812,
          0.556442238768529,
          -0.7228064270996896,
          0.22293755751174835,
          -1.2082858262037768,
          0.9335405006960275,
          -1.2550530627542957,
          0.4467812267087743,
          0.10029132132103305,
          -0.0549413599185377,
          -1.3333184037642272,
          -1.3301680594098622,
          -0.7769596473116724,
          1.0903101769330352,
          -0.8777530739281518,
          0.47434726364288193,
          -0.41172400734401376,
          1.8406953795409298,
          -1.1950680072719775,
          -1.8362013663508012,
          1.179099927241798,
          0.8161597425274931,
          -0.874575413587495,
          -1.5480799123989284,
          0.38698290337957475,
          0.23717793196131678,
          0.19455267577594007,
          -0.8356082236548912,
          -2.2865479585455635,
          0.16634216318820633,
          -0.46122556641627444,
          -2.4094331248490484,
          0.3792702082051058,
          -0.7537096573938259,
          -0.759773123023279,
          0.8266482805597588,
          -1.0505006686540792,
          -0.15248344190761204,
          0.33598820905109306,
          -0.15974082243051765,
          0.8298682402617803,
          2.048597015286573,
          -0.255888630503058,
          -0.3669703838315419,
          -0.7260150403276863,
          1.4830320669622425,
          1.2370722898310813,
          1.6086441137657619,
          -0.45513715595293935,
          0.041818858058306776,
          -0.8630825576383753,
          -0.5510868008972226,
          -1.7331002160136844,
          1.094703385652114,
          0.11953874990716992,
          -0.6683136044821177,
          0.34599573563462505,
          -0.8319700524687987,
          -0.558261484573633,
          0.5030434040002801,
          0.6619721971501331,
          0.7818169444348697,
          -1.0897772248158428,
          -0.26427788527573237,
          -0.872217187223391,
          1.076038386332144,
          0.46941249058773576,
          -1.6653597079445228,
          -0.9531239576661726,
          0.2684194351671944,
          1.2397589831101998,
          -0.007990690617178655,
          -1.321950623693112,
          0.6809604552532404,
          1.2779317283832747,
          0.14449547116258432,
          -0.630375829713827,
          1.3946080794601639,
          -0.40166706464735724,
          0.35770716033720257,
          0.35722053214901406,
          1.0364875764023738,
          2.1454701108264893,
          1.370139380136401,
          -0.38450430586042783
         ],
         "yaxis": "y3"
        },
        {
         "line": {
          "color": "rgba(128, 128, 128, 1.0)",
          "dash": "solid",
          "shape": "linear",
          "width": 1.3
         },
         "marker": {
          "size": 2,
          "symbol": "circle"
         },
         "mode": "markers",
         "name": "A",
         "text": "",
         "type": "scatter",
         "x": [
          -1.180735303630515,
          2.335222326905726,
          -1.6197574589979549,
          0.9028352023676829,
          1.6109261896790363,
          -0.7961454704693716,
          0.3720448301600562,
          -1.4434434807718641,
          -0.6119063991100594,
          1.8420214774973167,
          0.2520229457394457,
          0.05093447600310471,
          0.5446210490174672,
          -0.4402609818646418,
          -0.390977953514869,
          -0.07840859523009465,
          -0.1267926849131856,
          -3.374361649058948,
          -0.18009363328860958,
          3.4528280213098403,
          -0.2986607028736644,
          1.0956666525430585,
          -1.7863405706919313,
          1.3677989006774434,
          0.4354441364465162,
          0.13088701411783146,
          0.1553950897623964,
          -0.4925785624969984,
          0.32268461453856545,
          -1.700840271270966,
          0.6440602978278147,
          -0.2251600590361294,
          -0.16032895915867906,
          -0.3852025321126944,
          1.6145178668064544,
          -0.04137131604823876,
          -0.9749076248226239,
          1.3836699813550444,
          0.8982537349204344,
          0.9217283064844051,
          0.23625462017860271,
          -1.2122103871137158,
          -1.9927141415606817,
          -0.2959547598126391,
          -0.33372442818102865,
          -0.22056490650846694,
          0.7465644743865075,
          0.09987623381112562,
          -0.9376320317104025,
          0.20306725021030386,
          1.255015262344124,
          -0.028365486899400074,
          -1.1122577591505516,
          -0.0051746142853209675,
          -0.2256665884980495,
          2.7815061171333353,
          -0.2611876402833877,
          0.08549569945518426,
          -0.49291144393175046,
          -0.876468729067364,
          0.8108862452786229,
          -1.8687400730347454,
          0.5657560477398444,
          -0.21029389114024946,
          2.3890021587185006,
          0.8226474743506555,
          0.3565281349567872,
          -0.23326713943671804,
          0.0025591348298659527,
          -0.7397088567552248,
          -1.8554173584409612,
          -0.32550837085617157,
          0.28839964830935866,
          -0.7798617164656289,
          -0.7109761540827182,
          -0.7172440074028394,
          -0.6593860057595722,
          0.7333444107886511,
          0.5870183475529771,
          -1.9540870348563026,
          -0.1383639409908132,
          -1.3944854052375002,
          -0.3903337256465239,
          0.7562793578027802,
          -0.6870352789240671,
          0.8425270198944845,
          0.7148044492940651,
          -1.647037104244215,
          -0.8649562384137423,
          -0.7176125971028547,
          -0.681051744075285,
          1.1642499810546263,
          0.7491116092930705,
          1.3835618619707477,
          -0.10914937540931671,
          -1.7197130124431566,
          -0.07655706701279717,
          0.39764205850156625,
          -0.4120653423092205,
          0.7072388863918091
         ],
         "xaxis": "x4",
         "y": [
          1.7678515456907136,
          0.5574856580952305,
          -0.21363049583055474,
          -0.004351036570748041,
          1.7767003172794058,
          -0.9334138647986685,
          1.1304808417686179,
          0.6259673962193651,
          -0.32574810228326134,
          -0.1314461917476808,
          -1.026099740614713,
          1.4479027043794217,
          -0.7324036394879013,
          1.3638350653158162,
          0.39630123683757945,
          0.8552727269772812,
          0.556442238768529,
          -0.7228064270996896,
          0.22293755751174835,
          -1.2082858262037768,
          0.9335405006960275,
          -1.2550530627542957,
          0.4467812267087743,
          0.10029132132103305,
          -0.0549413599185377,
          -1.3333184037642272,
          -1.3301680594098622,
          -0.7769596473116724,
          1.0903101769330352,
          -0.8777530739281518,
          0.47434726364288193,
          -0.41172400734401376,
          1.8406953795409298,
          -1.1950680072719775,
          -1.8362013663508012,
          1.179099927241798,
          0.8161597425274931,
          -0.874575413587495,
          -1.5480799123989284,
          0.38698290337957475,
          0.23717793196131678,
          0.19455267577594007,
          -0.8356082236548912,
          -2.2865479585455635,
          0.16634216318820633,
          -0.46122556641627444,
          -2.4094331248490484,
          0.3792702082051058,
          -0.7537096573938259,
          -0.759773123023279,
          0.8266482805597588,
          -1.0505006686540792,
          -0.15248344190761204,
          0.33598820905109306,
          -0.15974082243051765,
          0.8298682402617803,
          2.048597015286573,
          -0.255888630503058,
          -0.3669703838315419,
          -0.7260150403276863,
          1.4830320669622425,
          1.2370722898310813,
          1.6086441137657619,
          -0.45513715595293935,
          0.041818858058306776,
          -0.8630825576383753,
          -0.5510868008972226,
          -1.7331002160136844,
          1.094703385652114,
          0.11953874990716992,
          -0.6683136044821177,
          0.34599573563462505,
          -0.8319700524687987,
          -0.558261484573633,
          0.5030434040002801,
          0.6619721971501331,
          0.7818169444348697,
          -1.0897772248158428,
          -0.26427788527573237,
          -0.872217187223391,
          1.076038386332144,
          0.46941249058773576,
          -1.6653597079445228,
          -0.9531239576661726,
          0.2684194351671944,
          1.2397589831101998,
          -0.007990690617178655,
          -1.321950623693112,
          0.6809604552532404,
          1.2779317283832747,
          0.14449547116258432,
          -0.630375829713827,
          1.3946080794601639,
          -0.40166706464735724,
          0.35770716033720257,
          0.35722053214901406,
          1.0364875764023738,
          2.1454701108264893,
          1.370139380136401,
          -0.38450430586042783
         ],
         "yaxis": "y4"
        },
        {
         "line": {
          "color": "rgba(128, 128, 128, 1.0)",
          "dash": "solid",
          "shape": "linear",
          "width": 1.3
         },
         "marker": {
          "size": 2,
          "symbol": "circle"
         },
         "mode": "markers",
         "name": "B",
         "text": "",
         "type": "scatter",
         "x": [
          1.7678515456907136,
          0.5574856580952305,
          -0.21363049583055474,
          -0.004351036570748041,
          1.7767003172794058,
          -0.9334138647986685,
          1.1304808417686179,
          0.6259673962193651,
          -0.32574810228326134,
          -0.1314461917476808,
          -1.026099740614713,
          1.4479027043794217,
          -0.7324036394879013,
          1.3638350653158162,
          0.39630123683757945,
          0.8552727269772812,
          0.556442238768529,
          -0.7228064270996896,
          0.22293755751174835,
          -1.2082858262037768,
          0.9335405006960275,
          -1.2550530627542957,
          0.4467812267087743,
          0.10029132132103305,
          -0.0549413599185377,
          -1.3333184037642272,
          -1.3301680594098622,
          -0.7769596473116724,
          1.0903101769330352,
          -0.8777530739281518,
          0.47434726364288193,
          -0.41172400734401376,
          1.8406953795409298,
          -1.1950680072719775,
          -1.8362013663508012,
          1.179099927241798,
          0.8161597425274931,
          -0.874575413587495,
          -1.5480799123989284,
          0.38698290337957475,
          0.23717793196131678,
          0.19455267577594007,
          -0.8356082236548912,
          -2.2865479585455635,
          0.16634216318820633,
          -0.46122556641627444,
          -2.4094331248490484,
          0.3792702082051058,
          -0.7537096573938259,
          -0.759773123023279,
          0.8266482805597588,
          -1.0505006686540792,
          -0.15248344190761204,
          0.33598820905109306,
          -0.15974082243051765,
          0.8298682402617803,
          2.048597015286573,
          -0.255888630503058,
          -0.3669703838315419,
          -0.7260150403276863,
          1.4830320669622425,
          1.2370722898310813,
          1.6086441137657619,
          -0.45513715595293935,
          0.041818858058306776,
          -0.8630825576383753,
          -0.5510868008972226,
          -1.7331002160136844,
          1.094703385652114,
          0.11953874990716992,
          -0.6683136044821177,
          0.34599573563462505,
          -0.8319700524687987,
          -0.558261484573633,
          0.5030434040002801,
          0.6619721971501331,
          0.7818169444348697,
          -1.0897772248158428,
          -0.26427788527573237,
          -0.872217187223391,
          1.076038386332144,
          0.46941249058773576,
          -1.6653597079445228,
          -0.9531239576661726,
          0.2684194351671944,
          1.2397589831101998,
          -0.007990690617178655,
          -1.321950623693112,
          0.6809604552532404,
          1.2779317283832747,
          0.14449547116258432,
          -0.630375829713827,
          1.3946080794601639,
          -0.40166706464735724,
          0.35770716033720257,
          0.35722053214901406,
          1.0364875764023738,
          2.1454701108264893,
          1.370139380136401,
          -0.38450430586042783
         ],
         "xaxis": "x5",
         "y": [
          -0.5044942157545312,
          0.9888079420118232,
          2.9620680407643136,
          -0.8789960931170367,
          -0.5961772819016423,
          0.967688669792416,
          -0.30943339838483885,
          -0.964594537403104,
          -0.836742028077735,
          0.6837214282723483,
          2.1148598036106416,
          1.333928221051847,
          -0.15938807086833995,
          -0.4894942830770963,
          -0.37006575779613216,
          1.1026545609048777,
          0.5630207275529113,
          -1.4192173368675955,
          -0.5480468910450349,
          2.8716050981906327,
          1.2435943906567244,
          0.37357369531247503,
          0.37506127823100743,
          1.6049709934739458,
          -0.47270842030216825,
          0.5239023663911087,
          0.062033033799205,
          0.08291640751423532,
          -0.5829462865942209,
          1.4983306749026488,
          -1.0408969676787778,
          -2.1629858241103914,
          1.6422521446910348,
          -0.15868897935445367,
          0.37357393201209904,
          0.2274780237281322,
          -0.15852313872673549,
          -0.4722233032766944,
          1.0380141282313096,
          1.4264846036211958,
          0.07827925875641766,
          -0.545800770626657,
          0.9845828289203694,
          1.3195592923527997,
          0.5490608948134178,
          -0.1415638073954051,
          -0.6516249038568959,
          -0.7395594895353859,
          -0.6412458750835105,
          -0.25840521061978156,
          1.118167889564803,
          -2.280860698263176,
          -0.8401468839715613,
          -0.04322526654247106,
          -0.07284643005540295,
          0.04391872945696018,
          -2.3001339080663836,
          1.0646541570241572,
          -2.251336395475597,
          -1.3468068532341253,
          -0.3207741538563641,
          0.6305921908091108,
          -0.24008228934501483,
          -0.0022307686225104062,
          1.3895549980239637,
          0.34777396370618113,
          -2.0785013494076794,
          -1.6486984731387868,
          0.8857283314402425,
          0.6833531331085659,
          0.12459556402099713,
          0.0831977004120792,
          1.672604351977852,
          0.14773585534981465,
          -0.7217092256636978,
          0.051001802110237714,
          -0.8384015454027037,
          0.6731042370435385,
          0.17304838753909765,
          -0.8232932608854376,
          0.767028815641581,
          -1.8104429941045004,
          1.8282580189982574,
          -0.523451238059469,
          1.8537992937385805,
          -0.3061469383127988,
          -0.06149910457886894,
          -0.2661031019289138,
          0.5949325643958282,
          -0.7758866651392171,
          0.5112661409862509,
          -1.271072249577671,
          0.7483241333480513,
          1.789665739230297,
          -0.505722738272695,
          1.3412466063005661,
          1.2191913846284896,
          -0.0580815975615273,
          -0.5507407904374377,
          1.5898268484313995
         ],
         "yaxis": "y5"
        },
        {
         "histfunc": "count",
         "histnorm": "",
         "marker": {
          "color": "rgba(55, 128, 191, 1.0)",
          "line": {
           "color": "#4D5663",
           "width": 1.3
          }
         },
         "name": "B",
         "nbinsx": 10,
         "opacity": 0.8,
         "orientation": "v",
         "type": "histogram",
         "x": [
          -0.5044942157545312,
          0.9888079420118232,
          2.9620680407643136,
          -0.8789960931170367,
          -0.5961772819016423,
          0.967688669792416,
          -0.30943339838483885,
          -0.964594537403104,
          -0.836742028077735,
          0.6837214282723483,
          2.1148598036106416,
          1.333928221051847,
          -0.15938807086833995,
          -0.4894942830770963,
          -0.37006575779613216,
          1.1026545609048777,
          0.5630207275529113,
          -1.4192173368675955,
          -0.5480468910450349,
          2.8716050981906327,
          1.2435943906567244,
          0.37357369531247503,
          0.37506127823100743,
          1.6049709934739458,
          -0.47270842030216825,
          0.5239023663911087,
          0.062033033799205,
          0.08291640751423532,
          -0.5829462865942209,
          1.4983306749026488,
          -1.0408969676787778,
          -2.1629858241103914,
          1.6422521446910348,
          -0.15868897935445367,
          0.37357393201209904,
          0.2274780237281322,
          -0.15852313872673549,
          -0.4722233032766944,
          1.0380141282313096,
          1.4264846036211958,
          0.07827925875641766,
          -0.545800770626657,
          0.9845828289203694,
          1.3195592923527997,
          0.5490608948134178,
          -0.1415638073954051,
          -0.6516249038568959,
          -0.7395594895353859,
          -0.6412458750835105,
          -0.25840521061978156,
          1.118167889564803,
          -2.280860698263176,
          -0.8401468839715613,
          -0.04322526654247106,
          -0.07284643005540295,
          0.04391872945696018,
          -2.3001339080663836,
          1.0646541570241572,
          -2.251336395475597,
          -1.3468068532341253,
          -0.3207741538563641,
          0.6305921908091108,
          -0.24008228934501483,
          -0.0022307686225104062,
          1.3895549980239637,
          0.34777396370618113,
          -2.0785013494076794,
          -1.6486984731387868,
          0.8857283314402425,
          0.6833531331085659,
          0.12459556402099713,
          0.0831977004120792,
          1.672604351977852,
          0.14773585534981465,
          -0.7217092256636978,
          0.051001802110237714,
          -0.8384015454027037,
          0.6731042370435385,
          0.17304838753909765,
          -0.8232932608854376,
          0.767028815641581,
          -1.8104429941045004,
          1.8282580189982574,
          -0.523451238059469,
          1.8537992937385805,
          -0.3061469383127988,
          -0.06149910457886894,
          -0.2661031019289138,
          0.5949325643958282,
          -0.7758866651392171,
          0.5112661409862509,
          -1.271072249577671,
          0.7483241333480513,
          1.789665739230297,
          -0.505722738272695,
          1.3412466063005661,
          1.2191913846284896,
          -0.0580815975615273,
          -0.5507407904374377,
          1.5898268484313995
         ],
         "xaxis": "x6",
         "yaxis": "y6"
        },
        {
         "line": {
          "color": "rgba(128, 128, 128, 1.0)",
          "dash": "solid",
          "shape": "linear",
          "width": 1.3
         },
         "marker": {
          "size": 2,
          "symbol": "circle"
         },
         "mode": "markers",
         "name": "B",
         "text": "",
         "type": "scatter",
         "x": [
          -1.8201913265527303,
          -0.40533667730108597,
          -0.5061076449396962,
          1.1922140171784994,
          -1.2878651814078301,
          -2.0875667102001847,
          1.1359161025340003,
          -0.07975348897386565,
          0.16056033389825844,
          1.124722959228828,
          -1.0760705960481889,
          -0.35840908773828994,
          -0.5897085324218448,
          -1.071805416413214,
          -0.24467585713609044,
          2.8619182220963615,
          0.8179447485176887,
          -0.3651639599408454,
          -1.0514172947895792,
          -0.16632879081565502,
          -0.5023105357432766,
          0.18625466177531907,
          -0.5574087678371401,
          1.0376706639357471,
          1.9600750938572835,
          -0.7639352725337002,
          0.5124698963807007,
          -1.5474971910101507,
          1.0002078982538647,
          -0.4377919098125437,
          1.1031060605395542,
          0.25535981415649517,
          -0.3450852736055648,
          -0.04624154453733395,
          2.6362020496022502,
          1.8598141682965104,
          -1.1681490739797136,
          1.5173724333426744,
          -1.1761600730174717,
          0.2930700147541619,
          0.8101058165963707,
          1.146014689165013,
          -0.10325377444181959,
          1.427681493888483,
          0.5939532894371914,
          -0.39797266930198444,
          0.7802618393107127,
          1.9176420222448844,
          0.2553039738011546,
          -0.9482009983103359,
          1.0107156853545773,
          -0.8678369478973159,
          0.3013044983436712,
          -0.4969682271595119,
          1.1151305873477453,
          -1.2684445322396838,
          -0.2077278129483146,
          1.113546960150091,
          0.9867481245160042,
          -0.4108178571402074,
          1.3766331259618554,
          -0.9821344822529295,
          0.9083785275769809,
          0.9815542389492546,
          0.25954666052048203,
          1.6879036846709607,
          0.7895361058172605,
          -0.6078635133113303,
          -0.6585305793683645,
          -0.3676584629527762,
          0.0640337758872838,
          0.6950945220389215,
          1.5891689293580147,
          -0.573163488272661,
          -0.6411353780052226,
          -0.3384456214766705,
          1.2132745960403493,
          1.52160619121688,
          1.5392895620341296,
          0.6257515304283414,
          -0.694037425090867,
          -2.2471218993382442,
          0.7538425419802119,
          0.34809140715926845,
          0.257122267442059,
          -0.19685369095482094,
          2.247026153566917,
          -0.18492413238763644,
          -0.01643540424867496,
          1.5499300592918965,
          0.578737740126321,
          0.5766895078694938,
          2.313794112427557,
          -0.666123322046375,
          -0.1825573582237236,
          -0.32486405815227387,
          -0.082325109079772,
          0.28171512469617954,
          1.1597411614141633,
          -0.6075210002772761
         ],
         "xaxis": "x7",
         "y": [
          -0.5044942157545312,
          0.9888079420118232,
          2.9620680407643136,
          -0.8789960931170367,
          -0.5961772819016423,
          0.967688669792416,
          -0.30943339838483885,
          -0.964594537403104,
          -0.836742028077735,
          0.6837214282723483,
          2.1148598036106416,
          1.333928221051847,
          -0.15938807086833995,
          -0.4894942830770963,
          -0.37006575779613216,
          1.1026545609048777,
          0.5630207275529113,
          -1.4192173368675955,
          -0.5480468910450349,
          2.8716050981906327,
          1.2435943906567244,
          0.37357369531247503,
          0.37506127823100743,
          1.6049709934739458,
          -0.47270842030216825,
          0.5239023663911087,
          0.062033033799205,
          0.08291640751423532,
          -0.5829462865942209,
          1.4983306749026488,
          -1.0408969676787778,
          -2.1629858241103914,
          1.6422521446910348,
          -0.15868897935445367,
          0.37357393201209904,
          0.2274780237281322,
          -0.15852313872673549,
          -0.4722233032766944,
          1.0380141282313096,
          1.4264846036211958,
          0.07827925875641766,
          -0.545800770626657,
          0.9845828289203694,
          1.3195592923527997,
          0.5490608948134178,
          -0.1415638073954051,
          -0.6516249038568959,
          -0.7395594895353859,
          -0.6412458750835105,
          -0.25840521061978156,
          1.118167889564803,
          -2.280860698263176,
          -0.8401468839715613,
          -0.04322526654247106,
          -0.07284643005540295,
          0.04391872945696018,
          -2.3001339080663836,
          1.0646541570241572,
          -2.251336395475597,
          -1.3468068532341253,
          -0.3207741538563641,
          0.6305921908091108,
          -0.24008228934501483,
          -0.0022307686225104062,
          1.3895549980239637,
          0.34777396370618113,
          -2.0785013494076794,
          -1.6486984731387868,
          0.8857283314402425,
          0.6833531331085659,
          0.12459556402099713,
          0.0831977004120792,
          1.672604351977852,
          0.14773585534981465,
          -0.7217092256636978,
          0.051001802110237714,
          -0.8384015454027037,
          0.6731042370435385,
          0.17304838753909765,
          -0.8232932608854376,
          0.767028815641581,
          -1.8104429941045004,
          1.8282580189982574,
          -0.523451238059469,
          1.8537992937385805,
          -0.3061469383127988,
          -0.06149910457886894,
          -0.2661031019289138,
          0.5949325643958282,
          -0.7758866651392171,
          0.5112661409862509,
          -1.271072249577671,
          0.7483241333480513,
          1.789665739230297,
          -0.505722738272695,
          1.3412466063005661,
          1.2191913846284896,
          -0.0580815975615273,
          -0.5507407904374377,
          1.5898268484313995
         ],
         "yaxis": "y7"
        },
        {
         "line": {
          "color": "rgba(128, 128, 128, 1.0)",
          "dash": "solid",
          "shape": "linear",
          "width": 1.3
         },
         "marker": {
          "size": 2,
          "symbol": "circle"
         },
         "mode": "markers",
         "name": "B",
         "text": "",
         "type": "scatter",
         "x": [
          -1.180735303630515,
          2.335222326905726,
          -1.6197574589979549,
          0.9028352023676829,
          1.6109261896790363,
          -0.7961454704693716,
          0.3720448301600562,
          -1.4434434807718641,
          -0.6119063991100594,
          1.8420214774973167,
          0.2520229457394457,
          0.05093447600310471,
          0.5446210490174672,
          -0.4402609818646418,
          -0.390977953514869,
          -0.07840859523009465,
          -0.1267926849131856,
          -3.374361649058948,
          -0.18009363328860958,
          3.4528280213098403,
          -0.2986607028736644,
          1.0956666525430585,
          -1.7863405706919313,
          1.3677989006774434,
          0.4354441364465162,
          0.13088701411783146,
          0.1553950897623964,
          -0.4925785624969984,
          0.32268461453856545,
          -1.700840271270966,
          0.6440602978278147,
          -0.2251600590361294,
          -0.16032895915867906,
          -0.3852025321126944,
          1.6145178668064544,
          -0.04137131604823876,
          -0.9749076248226239,
          1.3836699813550444,
          0.8982537349204344,
          0.9217283064844051,
          0.23625462017860271,
          -1.2122103871137158,
          -1.9927141415606817,
          -0.2959547598126391,
          -0.33372442818102865,
          -0.22056490650846694,
          0.7465644743865075,
          0.09987623381112562,
          -0.9376320317104025,
          0.20306725021030386,
          1.255015262344124,
          -0.028365486899400074,
          -1.1122577591505516,
          -0.0051746142853209675,
          -0.2256665884980495,
          2.7815061171333353,
          -0.2611876402833877,
          0.08549569945518426,
          -0.49291144393175046,
          -0.876468729067364,
          0.8108862452786229,
          -1.8687400730347454,
          0.5657560477398444,
          -0.21029389114024946,
          2.3890021587185006,
          0.8226474743506555,
          0.3565281349567872,
          -0.23326713943671804,
          0.0025591348298659527,
          -0.7397088567552248,
          -1.8554173584409612,
          -0.32550837085617157,
          0.28839964830935866,
          -0.7798617164656289,
          -0.7109761540827182,
          -0.7172440074028394,
          -0.6593860057595722,
          0.7333444107886511,
          0.5870183475529771,
          -1.9540870348563026,
          -0.1383639409908132,
          -1.3944854052375002,
          -0.3903337256465239,
          0.7562793578027802,
          -0.6870352789240671,
          0.8425270198944845,
          0.7148044492940651,
          -1.647037104244215,
          -0.8649562384137423,
          -0.7176125971028547,
          -0.681051744075285,
          1.1642499810546263,
          0.7491116092930705,
          1.3835618619707477,
          -0.10914937540931671,
          -1.7197130124431566,
          -0.07655706701279717,
          0.39764205850156625,
          -0.4120653423092205,
          0.7072388863918091
         ],
         "xaxis": "x8",
         "y": [
          -0.5044942157545312,
          0.9888079420118232,
          2.9620680407643136,
          -0.8789960931170367,
          -0.5961772819016423,
          0.967688669792416,
          -0.30943339838483885,
          -0.964594537403104,
          -0.836742028077735,
          0.6837214282723483,
          2.1148598036106416,
          1.333928221051847,
          -0.15938807086833995,
          -0.4894942830770963,
          -0.37006575779613216,
          1.1026545609048777,
          0.5630207275529113,
          -1.4192173368675955,
          -0.5480468910450349,
          2.8716050981906327,
          1.2435943906567244,
          0.37357369531247503,
          0.37506127823100743,
          1.6049709934739458,
          -0.47270842030216825,
          0.5239023663911087,
          0.062033033799205,
          0.08291640751423532,
          -0.5829462865942209,
          1.4983306749026488,
          -1.0408969676787778,
          -2.1629858241103914,
          1.6422521446910348,
          -0.15868897935445367,
          0.37357393201209904,
          0.2274780237281322,
          -0.15852313872673549,
          -0.4722233032766944,
          1.0380141282313096,
          1.4264846036211958,
          0.07827925875641766,
          -0.545800770626657,
          0.9845828289203694,
          1.3195592923527997,
          0.5490608948134178,
          -0.1415638073954051,
          -0.6516249038568959,
          -0.7395594895353859,
          -0.6412458750835105,
          -0.25840521061978156,
          1.118167889564803,
          -2.280860698263176,
          -0.8401468839715613,
          -0.04322526654247106,
          -0.07284643005540295,
          0.04391872945696018,
          -2.3001339080663836,
          1.0646541570241572,
          -2.251336395475597,
          -1.3468068532341253,
          -0.3207741538563641,
          0.6305921908091108,
          -0.24008228934501483,
          -0.0022307686225104062,
          1.3895549980239637,
          0.34777396370618113,
          -2.0785013494076794,
          -1.6486984731387868,
          0.8857283314402425,
          0.6833531331085659,
          0.12459556402099713,
          0.0831977004120792,
          1.672604351977852,
          0.14773585534981465,
          -0.7217092256636978,
          0.051001802110237714,
          -0.8384015454027037,
          0.6731042370435385,
          0.17304838753909765,
          -0.8232932608854376,
          0.767028815641581,
          -1.8104429941045004,
          1.8282580189982574,
          -0.523451238059469,
          1.8537992937385805,
          -0.3061469383127988,
          -0.06149910457886894,
          -0.2661031019289138,
          0.5949325643958282,
          -0.7758866651392171,
          0.5112661409862509,
          -1.271072249577671,
          0.7483241333480513,
          1.789665739230297,
          -0.505722738272695,
          1.3412466063005661,
          1.2191913846284896,
          -0.0580815975615273,
          -0.5507407904374377,
          1.5898268484313995
         ],
         "yaxis": "y8"
        },
        {
         "line": {
          "color": "rgba(128, 128, 128, 1.0)",
          "dash": "solid",
          "shape": "linear",
          "width": 1.3
         },
         "marker": {
          "size": 2,
          "symbol": "circle"
         },
         "mode": "markers",
         "name": "C",
         "text": "",
         "type": "scatter",
         "x": [
          1.7678515456907136,
          0.5574856580952305,
          -0.21363049583055474,
          -0.004351036570748041,
          1.7767003172794058,
          -0.9334138647986685,
          1.1304808417686179,
          0.6259673962193651,
          -0.32574810228326134,
          -0.1314461917476808,
          -1.026099740614713,
          1.4479027043794217,
          -0.7324036394879013,
          1.3638350653158162,
          0.39630123683757945,
          0.8552727269772812,
          0.556442238768529,
          -0.7228064270996896,
          0.22293755751174835,
          -1.2082858262037768,
          0.9335405006960275,
          -1.2550530627542957,
          0.4467812267087743,
          0.10029132132103305,
          -0.0549413599185377,
          -1.3333184037642272,
          -1.3301680594098622,
          -0.7769596473116724,
          1.0903101769330352,
          -0.8777530739281518,
          0.47434726364288193,
          -0.41172400734401376,
          1.8406953795409298,
          -1.1950680072719775,
          -1.8362013663508012,
          1.179099927241798,
          0.8161597425274931,
          -0.874575413587495,
          -1.5480799123989284,
          0.38698290337957475,
          0.23717793196131678,
          0.19455267577594007,
          -0.8356082236548912,
          -2.2865479585455635,
          0.16634216318820633,
          -0.46122556641627444,
          -2.4094331248490484,
          0.3792702082051058,
          -0.7537096573938259,
          -0.759773123023279,
          0.8266482805597588,
          -1.0505006686540792,
          -0.15248344190761204,
          0.33598820905109306,
          -0.15974082243051765,
          0.8298682402617803,
          2.048597015286573,
          -0.255888630503058,
          -0.3669703838315419,
          -0.7260150403276863,
          1.4830320669622425,
          1.2370722898310813,
          1.6086441137657619,
          -0.45513715595293935,
          0.041818858058306776,
          -0.8630825576383753,
          -0.5510868008972226,
          -1.7331002160136844,
          1.094703385652114,
          0.11953874990716992,
          -0.6683136044821177,
          0.34599573563462505,
          -0.8319700524687987,
          -0.558261484573633,
          0.5030434040002801,
          0.6619721971501331,
          0.7818169444348697,
          -1.0897772248158428,
          -0.26427788527573237,
          -0.872217187223391,
          1.076038386332144,
          0.46941249058773576,
          -1.6653597079445228,
          -0.9531239576661726,
          0.2684194351671944,
          1.2397589831101998,
          -0.007990690617178655,
          -1.321950623693112,
          0.6809604552532404,
          1.2779317283832747,
          0.14449547116258432,
          -0.630375829713827,
          1.3946080794601639,
          -0.40166706464735724,
          0.35770716033720257,
          0.35722053214901406,
          1.0364875764023738,
          2.1454701108264893,
          1.370139380136401,
          -0.38450430586042783
         ],
         "xaxis": "x9",
         "y": [
          -1.8201913265527303,
          -0.40533667730108597,
          -0.5061076449396962,
          1.1922140171784994,
          -1.2878651814078301,
          -2.0875667102001847,
          1.1359161025340003,
          -0.07975348897386565,
          0.16056033389825844,
          1.124722959228828,
          -1.0760705960481889,
          -0.35840908773828994,
          -0.5897085324218448,
          -1.071805416413214,
          -0.24467585713609044,
          2.8619182220963615,
          0.8179447485176887,
          -0.3651639599408454,
          -1.0514172947895792,
          -0.16632879081565502,
          -0.5023105357432766,
          0.18625466177531907,
          -0.5574087678371401,
          1.0376706639357471,
          1.9600750938572835,
          -0.7639352725337002,
          0.5124698963807007,
          -1.5474971910101507,
          1.0002078982538647,
          -0.4377919098125437,
          1.1031060605395542,
          0.25535981415649517,
          -0.3450852736055648,
          -0.04624154453733395,
          2.6362020496022502,
          1.8598141682965104,
          -1.1681490739797136,
          1.5173724333426744,
          -1.1761600730174717,
          0.2930700147541619,
          0.8101058165963707,
          1.146014689165013,
          -0.10325377444181959,
          1.427681493888483,
          0.5939532894371914,
          -0.39797266930198444,
          0.7802618393107127,
          1.9176420222448844,
          0.2553039738011546,
          -0.9482009983103359,
          1.0107156853545773,
          -0.8678369478973159,
          0.3013044983436712,
          -0.4969682271595119,
          1.1151305873477453,
          -1.2684445322396838,
          -0.2077278129483146,
          1.113546960150091,
          0.9867481245160042,
          -0.4108178571402074,
          1.3766331259618554,
          -0.9821344822529295,
          0.9083785275769809,
          0.9815542389492546,
          0.25954666052048203,
          1.6879036846709607,
          0.7895361058172605,
          -0.6078635133113303,
          -0.6585305793683645,
          -0.3676584629527762,
          0.0640337758872838,
          0.6950945220389215,
          1.5891689293580147,
          -0.573163488272661,
          -0.6411353780052226,
          -0.3384456214766705,
          1.2132745960403493,
          1.52160619121688,
          1.5392895620341296,
          0.6257515304283414,
          -0.694037425090867,
          -2.2471218993382442,
          0.7538425419802119,
          0.34809140715926845,
          0.257122267442059,
          -0.19685369095482094,
          2.247026153566917,
          -0.18492413238763644,
          -0.01643540424867496,
          1.5499300592918965,
          0.578737740126321,
          0.5766895078694938,
          2.313794112427557,
          -0.666123322046375,
          -0.1825573582237236,
          -0.32486405815227387,
          -0.082325109079772,
          0.28171512469617954,
          1.1597411614141633,
          -0.6075210002772761
         ],
         "yaxis": "y9"
        },
        {
         "line": {
          "color": "rgba(128, 128, 128, 1.0)",
          "dash": "solid",
          "shape": "linear",
          "width": 1.3
         },
         "marker": {
          "size": 2,
          "symbol": "circle"
         },
         "mode": "markers",
         "name": "C",
         "text": "",
         "type": "scatter",
         "x": [
          -0.5044942157545312,
          0.9888079420118232,
          2.9620680407643136,
          -0.8789960931170367,
          -0.5961772819016423,
          0.967688669792416,
          -0.30943339838483885,
          -0.964594537403104,
          -0.836742028077735,
          0.6837214282723483,
          2.1148598036106416,
          1.333928221051847,
          -0.15938807086833995,
          -0.4894942830770963,
          -0.37006575779613216,
          1.1026545609048777,
          0.5630207275529113,
          -1.4192173368675955,
          -0.5480468910450349,
          2.8716050981906327,
          1.2435943906567244,
          0.37357369531247503,
          0.37506127823100743,
          1.6049709934739458,
          -0.47270842030216825,
          0.5239023663911087,
          0.062033033799205,
          0.08291640751423532,
          -0.5829462865942209,
          1.4983306749026488,
          -1.0408969676787778,
          -2.1629858241103914,
          1.6422521446910348,
          -0.15868897935445367,
          0.37357393201209904,
          0.2274780237281322,
          -0.15852313872673549,
          -0.4722233032766944,
          1.0380141282313096,
          1.4264846036211958,
          0.07827925875641766,
          -0.545800770626657,
          0.9845828289203694,
          1.3195592923527997,
          0.5490608948134178,
          -0.1415638073954051,
          -0.6516249038568959,
          -0.7395594895353859,
          -0.6412458750835105,
          -0.25840521061978156,
          1.118167889564803,
          -2.280860698263176,
          -0.8401468839715613,
          -0.04322526654247106,
          -0.07284643005540295,
          0.04391872945696018,
          -2.3001339080663836,
          1.0646541570241572,
          -2.251336395475597,
          -1.3468068532341253,
          -0.3207741538563641,
          0.6305921908091108,
          -0.24008228934501483,
          -0.0022307686225104062,
          1.3895549980239637,
          0.34777396370618113,
          -2.0785013494076794,
          -1.6486984731387868,
          0.8857283314402425,
          0.6833531331085659,
          0.12459556402099713,
          0.0831977004120792,
          1.672604351977852,
          0.14773585534981465,
          -0.7217092256636978,
          0.051001802110237714,
          -0.8384015454027037,
          0.6731042370435385,
          0.17304838753909765,
          -0.8232932608854376,
          0.767028815641581,
          -1.8104429941045004,
          1.8282580189982574,
          -0.523451238059469,
          1.8537992937385805,
          -0.3061469383127988,
          -0.06149910457886894,
          -0.2661031019289138,
          0.5949325643958282,
          -0.7758866651392171,
          0.5112661409862509,
          -1.271072249577671,
          0.7483241333480513,
          1.789665739230297,
          -0.505722738272695,
          1.3412466063005661,
          1.2191913846284896,
          -0.0580815975615273,
          -0.5507407904374377,
          1.5898268484313995
         ],
         "xaxis": "x10",
         "y": [
          -1.8201913265527303,
          -0.40533667730108597,
          -0.5061076449396962,
          1.1922140171784994,
          -1.2878651814078301,
          -2.0875667102001847,
          1.1359161025340003,
          -0.07975348897386565,
          0.16056033389825844,
          1.124722959228828,
          -1.0760705960481889,
          -0.35840908773828994,
          -0.5897085324218448,
          -1.071805416413214,
          -0.24467585713609044,
          2.8619182220963615,
          0.8179447485176887,
          -0.3651639599408454,
          -1.0514172947895792,
          -0.16632879081565502,
          -0.5023105357432766,
          0.18625466177531907,
          -0.5574087678371401,
          1.0376706639357471,
          1.9600750938572835,
          -0.7639352725337002,
          0.5124698963807007,
          -1.5474971910101507,
          1.0002078982538647,
          -0.4377919098125437,
          1.1031060605395542,
          0.25535981415649517,
          -0.3450852736055648,
          -0.04624154453733395,
          2.6362020496022502,
          1.8598141682965104,
          -1.1681490739797136,
          1.5173724333426744,
          -1.1761600730174717,
          0.2930700147541619,
          0.8101058165963707,
          1.146014689165013,
          -0.10325377444181959,
          1.427681493888483,
          0.5939532894371914,
          -0.39797266930198444,
          0.7802618393107127,
          1.9176420222448844,
          0.2553039738011546,
          -0.9482009983103359,
          1.0107156853545773,
          -0.8678369478973159,
          0.3013044983436712,
          -0.4969682271595119,
          1.1151305873477453,
          -1.2684445322396838,
          -0.2077278129483146,
          1.113546960150091,
          0.9867481245160042,
          -0.4108178571402074,
          1.3766331259618554,
          -0.9821344822529295,
          0.9083785275769809,
          0.9815542389492546,
          0.25954666052048203,
          1.6879036846709607,
          0.7895361058172605,
          -0.6078635133113303,
          -0.6585305793683645,
          -0.3676584629527762,
          0.0640337758872838,
          0.6950945220389215,
          1.5891689293580147,
          -0.573163488272661,
          -0.6411353780052226,
          -0.3384456214766705,
          1.2132745960403493,
          1.52160619121688,
          1.5392895620341296,
          0.6257515304283414,
          -0.694037425090867,
          -2.2471218993382442,
          0.7538425419802119,
          0.34809140715926845,
          0.257122267442059,
          -0.19685369095482094,
          2.247026153566917,
          -0.18492413238763644,
          -0.01643540424867496,
          1.5499300592918965,
          0.578737740126321,
          0.5766895078694938,
          2.313794112427557,
          -0.666123322046375,
          -0.1825573582237236,
          -0.32486405815227387,
          -0.082325109079772,
          0.28171512469617954,
          1.1597411614141633,
          -0.6075210002772761
         ],
         "yaxis": "y10"
        },
        {
         "histfunc": "count",
         "histnorm": "",
         "marker": {
          "color": "rgba(50, 171, 96, 1.0)",
          "line": {
           "color": "#4D5663",
           "width": 1.3
          }
         },
         "name": "C",
         "nbinsx": 10,
         "opacity": 0.8,
         "orientation": "v",
         "type": "histogram",
         "x": [
          -1.8201913265527303,
          -0.40533667730108597,
          -0.5061076449396962,
          1.1922140171784994,
          -1.2878651814078301,
          -2.0875667102001847,
          1.1359161025340003,
          -0.07975348897386565,
          0.16056033389825844,
          1.124722959228828,
          -1.0760705960481889,
          -0.35840908773828994,
          -0.5897085324218448,
          -1.071805416413214,
          -0.24467585713609044,
          2.8619182220963615,
          0.8179447485176887,
          -0.3651639599408454,
          -1.0514172947895792,
          -0.16632879081565502,
          -0.5023105357432766,
          0.18625466177531907,
          -0.5574087678371401,
          1.0376706639357471,
          1.9600750938572835,
          -0.7639352725337002,
          0.5124698963807007,
          -1.5474971910101507,
          1.0002078982538647,
          -0.4377919098125437,
          1.1031060605395542,
          0.25535981415649517,
          -0.3450852736055648,
          -0.04624154453733395,
          2.6362020496022502,
          1.8598141682965104,
          -1.1681490739797136,
          1.5173724333426744,
          -1.1761600730174717,
          0.2930700147541619,
          0.8101058165963707,
          1.146014689165013,
          -0.10325377444181959,
          1.427681493888483,
          0.5939532894371914,
          -0.39797266930198444,
          0.7802618393107127,
          1.9176420222448844,
          0.2553039738011546,
          -0.9482009983103359,
          1.0107156853545773,
          -0.8678369478973159,
          0.3013044983436712,
          -0.4969682271595119,
          1.1151305873477453,
          -1.2684445322396838,
          -0.2077278129483146,
          1.113546960150091,
          0.9867481245160042,
          -0.4108178571402074,
          1.3766331259618554,
          -0.9821344822529295,
          0.9083785275769809,
          0.9815542389492546,
          0.25954666052048203,
          1.6879036846709607,
          0.7895361058172605,
          -0.6078635133113303,
          -0.6585305793683645,
          -0.3676584629527762,
          0.0640337758872838,
          0.6950945220389215,
          1.5891689293580147,
          -0.573163488272661,
          -0.6411353780052226,
          -0.3384456214766705,
          1.2132745960403493,
          1.52160619121688,
          1.5392895620341296,
          0.6257515304283414,
          -0.694037425090867,
          -2.2471218993382442,
          0.7538425419802119,
          0.34809140715926845,
          0.257122267442059,
          -0.19685369095482094,
          2.247026153566917,
          -0.18492413238763644,
          -0.01643540424867496,
          1.5499300592918965,
          0.578737740126321,
          0.5766895078694938,
          2.313794112427557,
          -0.666123322046375,
          -0.1825573582237236,
          -0.32486405815227387,
          -0.082325109079772,
          0.28171512469617954,
          1.1597411614141633,
          -0.6075210002772761
         ],
         "xaxis": "x11",
         "yaxis": "y11"
        },
        {
         "line": {
          "color": "rgba(128, 128, 128, 1.0)",
          "dash": "solid",
          "shape": "linear",
          "width": 1.3
         },
         "marker": {
          "size": 2,
          "symbol": "circle"
         },
         "mode": "markers",
         "name": "C",
         "text": "",
         "type": "scatter",
         "x": [
          -1.180735303630515,
          2.335222326905726,
          -1.6197574589979549,
          0.9028352023676829,
          1.6109261896790363,
          -0.7961454704693716,
          0.3720448301600562,
          -1.4434434807718641,
          -0.6119063991100594,
          1.8420214774973167,
          0.2520229457394457,
          0.05093447600310471,
          0.5446210490174672,
          -0.4402609818646418,
          -0.390977953514869,
          -0.07840859523009465,
          -0.1267926849131856,
          -3.374361649058948,
          -0.18009363328860958,
          3.4528280213098403,
          -0.2986607028736644,
          1.0956666525430585,
          -1.7863405706919313,
          1.3677989006774434,
          0.4354441364465162,
          0.13088701411783146,
          0.1553950897623964,
          -0.4925785624969984,
          0.32268461453856545,
          -1.700840271270966,
          0.6440602978278147,
          -0.2251600590361294,
          -0.16032895915867906,
          -0.3852025321126944,
          1.6145178668064544,
          -0.04137131604823876,
          -0.9749076248226239,
          1.3836699813550444,
          0.8982537349204344,
          0.9217283064844051,
          0.23625462017860271,
          -1.2122103871137158,
          -1.9927141415606817,
          -0.2959547598126391,
          -0.33372442818102865,
          -0.22056490650846694,
          0.7465644743865075,
          0.09987623381112562,
          -0.9376320317104025,
          0.20306725021030386,
          1.255015262344124,
          -0.028365486899400074,
          -1.1122577591505516,
          -0.0051746142853209675,
          -0.2256665884980495,
          2.7815061171333353,
          -0.2611876402833877,
          0.08549569945518426,
          -0.49291144393175046,
          -0.876468729067364,
          0.8108862452786229,
          -1.8687400730347454,
          0.5657560477398444,
          -0.21029389114024946,
          2.3890021587185006,
          0.8226474743506555,
          0.3565281349567872,
          -0.23326713943671804,
          0.0025591348298659527,
          -0.7397088567552248,
          -1.8554173584409612,
          -0.32550837085617157,
          0.28839964830935866,
          -0.7798617164656289,
          -0.7109761540827182,
          -0.7172440074028394,
          -0.6593860057595722,
          0.7333444107886511,
          0.5870183475529771,
          -1.9540870348563026,
          -0.1383639409908132,
          -1.3944854052375002,
          -0.3903337256465239,
          0.7562793578027802,
          -0.6870352789240671,
          0.8425270198944845,
          0.7148044492940651,
          -1.647037104244215,
          -0.8649562384137423,
          -0.7176125971028547,
          -0.681051744075285,
          1.1642499810546263,
          0.7491116092930705,
          1.3835618619707477,
          -0.10914937540931671,
          -1.7197130124431566,
          -0.07655706701279717,
          0.39764205850156625,
          -0.4120653423092205,
          0.7072388863918091
         ],
         "xaxis": "x12",
         "y": [
          -1.8201913265527303,
          -0.40533667730108597,
          -0.5061076449396962,
          1.1922140171784994,
          -1.2878651814078301,
          -2.0875667102001847,
          1.1359161025340003,
          -0.07975348897386565,
          0.16056033389825844,
          1.124722959228828,
          -1.0760705960481889,
          -0.35840908773828994,
          -0.5897085324218448,
          -1.071805416413214,
          -0.24467585713609044,
          2.8619182220963615,
          0.8179447485176887,
          -0.3651639599408454,
          -1.0514172947895792,
          -0.16632879081565502,
          -0.5023105357432766,
          0.18625466177531907,
          -0.5574087678371401,
          1.0376706639357471,
          1.9600750938572835,
          -0.7639352725337002,
          0.5124698963807007,
          -1.5474971910101507,
          1.0002078982538647,
          -0.4377919098125437,
          1.1031060605395542,
          0.25535981415649517,
          -0.3450852736055648,
          -0.04624154453733395,
          2.6362020496022502,
          1.8598141682965104,
          -1.1681490739797136,
          1.5173724333426744,
          -1.1761600730174717,
          0.2930700147541619,
          0.8101058165963707,
          1.146014689165013,
          -0.10325377444181959,
          1.427681493888483,
          0.5939532894371914,
          -0.39797266930198444,
          0.7802618393107127,
          1.9176420222448844,
          0.2553039738011546,
          -0.9482009983103359,
          1.0107156853545773,
          -0.8678369478973159,
          0.3013044983436712,
          -0.4969682271595119,
          1.1151305873477453,
          -1.2684445322396838,
          -0.2077278129483146,
          1.113546960150091,
          0.9867481245160042,
          -0.4108178571402074,
          1.3766331259618554,
          -0.9821344822529295,
          0.9083785275769809,
          0.9815542389492546,
          0.25954666052048203,
          1.6879036846709607,
          0.7895361058172605,
          -0.6078635133113303,
          -0.6585305793683645,
          -0.3676584629527762,
          0.0640337758872838,
          0.6950945220389215,
          1.5891689293580147,
          -0.573163488272661,
          -0.6411353780052226,
          -0.3384456214766705,
          1.2132745960403493,
          1.52160619121688,
          1.5392895620341296,
          0.6257515304283414,
          -0.694037425090867,
          -2.2471218993382442,
          0.7538425419802119,
          0.34809140715926845,
          0.257122267442059,
          -0.19685369095482094,
          2.247026153566917,
          -0.18492413238763644,
          -0.01643540424867496,
          1.5499300592918965,
          0.578737740126321,
          0.5766895078694938,
          2.313794112427557,
          -0.666123322046375,
          -0.1825573582237236,
          -0.32486405815227387,
          -0.082325109079772,
          0.28171512469617954,
          1.1597411614141633,
          -0.6075210002772761
         ],
         "yaxis": "y12"
        },
        {
         "line": {
          "color": "rgba(128, 128, 128, 1.0)",
          "dash": "solid",
          "shape": "linear",
          "width": 1.3
         },
         "marker": {
          "size": 2,
          "symbol": "circle"
         },
         "mode": "markers",
         "name": "D",
         "text": "",
         "type": "scatter",
         "x": [
          1.7678515456907136,
          0.5574856580952305,
          -0.21363049583055474,
          -0.004351036570748041,
          1.7767003172794058,
          -0.9334138647986685,
          1.1304808417686179,
          0.6259673962193651,
          -0.32574810228326134,
          -0.1314461917476808,
          -1.026099740614713,
          1.4479027043794217,
          -0.7324036394879013,
          1.3638350653158162,
          0.39630123683757945,
          0.8552727269772812,
          0.556442238768529,
          -0.7228064270996896,
          0.22293755751174835,
          -1.2082858262037768,
          0.9335405006960275,
          -1.2550530627542957,
          0.4467812267087743,
          0.10029132132103305,
          -0.0549413599185377,
          -1.3333184037642272,
          -1.3301680594098622,
          -0.7769596473116724,
          1.0903101769330352,
          -0.8777530739281518,
          0.47434726364288193,
          -0.41172400734401376,
          1.8406953795409298,
          -1.1950680072719775,
          -1.8362013663508012,
          1.179099927241798,
          0.8161597425274931,
          -0.874575413587495,
          -1.5480799123989284,
          0.38698290337957475,
          0.23717793196131678,
          0.19455267577594007,
          -0.8356082236548912,
          -2.2865479585455635,
          0.16634216318820633,
          -0.46122556641627444,
          -2.4094331248490484,
          0.3792702082051058,
          -0.7537096573938259,
          -0.759773123023279,
          0.8266482805597588,
          -1.0505006686540792,
          -0.15248344190761204,
          0.33598820905109306,
          -0.15974082243051765,
          0.8298682402617803,
          2.048597015286573,
          -0.255888630503058,
          -0.3669703838315419,
          -0.7260150403276863,
          1.4830320669622425,
          1.2370722898310813,
          1.6086441137657619,
          -0.45513715595293935,
          0.041818858058306776,
          -0.8630825576383753,
          -0.5510868008972226,
          -1.7331002160136844,
          1.094703385652114,
          0.11953874990716992,
          -0.6683136044821177,
          0.34599573563462505,
          -0.8319700524687987,
          -0.558261484573633,
          0.5030434040002801,
          0.6619721971501331,
          0.7818169444348697,
          -1.0897772248158428,
          -0.26427788527573237,
          -0.872217187223391,
          1.076038386332144,
          0.46941249058773576,
          -1.6653597079445228,
          -0.9531239576661726,
          0.2684194351671944,
          1.2397589831101998,
          -0.007990690617178655,
          -1.321950623693112,
          0.6809604552532404,
          1.2779317283832747,
          0.14449547116258432,
          -0.630375829713827,
          1.3946080794601639,
          -0.40166706464735724,
          0.35770716033720257,
          0.35722053214901406,
          1.0364875764023738,
          2.1454701108264893,
          1.370139380136401,
          -0.38450430586042783
         ],
         "xaxis": "x13",
         "y": [
          -1.180735303630515,
          2.335222326905726,
          -1.6197574589979549,
          0.9028352023676829,
          1.6109261896790363,
          -0.7961454704693716,
          0.3720448301600562,
          -1.4434434807718641,
          -0.6119063991100594,
          1.8420214774973167,
          0.2520229457394457,
          0.05093447600310471,
          0.5446210490174672,
          -0.4402609818646418,
          -0.390977953514869,
          -0.07840859523009465,
          -0.1267926849131856,
          -3.374361649058948,
          -0.18009363328860958,
          3.4528280213098403,
          -0.2986607028736644,
          1.0956666525430585,
          -1.7863405706919313,
          1.3677989006774434,
          0.4354441364465162,
          0.13088701411783146,
          0.1553950897623964,
          -0.4925785624969984,
          0.32268461453856545,
          -1.700840271270966,
          0.6440602978278147,
          -0.2251600590361294,
          -0.16032895915867906,
          -0.3852025321126944,
          1.6145178668064544,
          -0.04137131604823876,
          -0.9749076248226239,
          1.3836699813550444,
          0.8982537349204344,
          0.9217283064844051,
          0.23625462017860271,
          -1.2122103871137158,
          -1.9927141415606817,
          -0.2959547598126391,
          -0.33372442818102865,
          -0.22056490650846694,
          0.7465644743865075,
          0.09987623381112562,
          -0.9376320317104025,
          0.20306725021030386,
          1.255015262344124,
          -0.028365486899400074,
          -1.1122577591505516,
          -0.0051746142853209675,
          -0.2256665884980495,
          2.7815061171333353,
          -0.2611876402833877,
          0.08549569945518426,
          -0.49291144393175046,
          -0.876468729067364,
          0.8108862452786229,
          -1.8687400730347454,
          0.5657560477398444,
          -0.21029389114024946,
          2.3890021587185006,
          0.8226474743506555,
          0.3565281349567872,
          -0.23326713943671804,
          0.0025591348298659527,
          -0.7397088567552248,
          -1.8554173584409612,
          -0.32550837085617157,
          0.28839964830935866,
          -0.7798617164656289,
          -0.7109761540827182,
          -0.7172440074028394,
          -0.6593860057595722,
          0.7333444107886511,
          0.5870183475529771,
          -1.9540870348563026,
          -0.1383639409908132,
          -1.3944854052375002,
          -0.3903337256465239,
          0.7562793578027802,
          -0.6870352789240671,
          0.8425270198944845,
          0.7148044492940651,
          -1.647037104244215,
          -0.8649562384137423,
          -0.7176125971028547,
          -0.681051744075285,
          1.1642499810546263,
          0.7491116092930705,
          1.3835618619707477,
          -0.10914937540931671,
          -1.7197130124431566,
          -0.07655706701279717,
          0.39764205850156625,
          -0.4120653423092205,
          0.7072388863918091
         ],
         "yaxis": "y13"
        },
        {
         "line": {
          "color": "rgba(128, 128, 128, 1.0)",
          "dash": "solid",
          "shape": "linear",
          "width": 1.3
         },
         "marker": {
          "size": 2,
          "symbol": "circle"
         },
         "mode": "markers",
         "name": "D",
         "text": "",
         "type": "scatter",
         "x": [
          -0.5044942157545312,
          0.9888079420118232,
          2.9620680407643136,
          -0.8789960931170367,
          -0.5961772819016423,
          0.967688669792416,
          -0.30943339838483885,
          -0.964594537403104,
          -0.836742028077735,
          0.6837214282723483,
          2.1148598036106416,
          1.333928221051847,
          -0.15938807086833995,
          -0.4894942830770963,
          -0.37006575779613216,
          1.1026545609048777,
          0.5630207275529113,
          -1.4192173368675955,
          -0.5480468910450349,
          2.8716050981906327,
          1.2435943906567244,
          0.37357369531247503,
          0.37506127823100743,
          1.6049709934739458,
          -0.47270842030216825,
          0.5239023663911087,
          0.062033033799205,
          0.08291640751423532,
          -0.5829462865942209,
          1.4983306749026488,
          -1.0408969676787778,
          -2.1629858241103914,
          1.6422521446910348,
          -0.15868897935445367,
          0.37357393201209904,
          0.2274780237281322,
          -0.15852313872673549,
          -0.4722233032766944,
          1.0380141282313096,
          1.4264846036211958,
          0.07827925875641766,
          -0.545800770626657,
          0.9845828289203694,
          1.3195592923527997,
          0.5490608948134178,
          -0.1415638073954051,
          -0.6516249038568959,
          -0.7395594895353859,
          -0.6412458750835105,
          -0.25840521061978156,
          1.118167889564803,
          -2.280860698263176,
          -0.8401468839715613,
          -0.04322526654247106,
          -0.07284643005540295,
          0.04391872945696018,
          -2.3001339080663836,
          1.0646541570241572,
          -2.251336395475597,
          -1.3468068532341253,
          -0.3207741538563641,
          0.6305921908091108,
          -0.24008228934501483,
          -0.0022307686225104062,
          1.3895549980239637,
          0.34777396370618113,
          -2.0785013494076794,
          -1.6486984731387868,
          0.8857283314402425,
          0.6833531331085659,
          0.12459556402099713,
          0.0831977004120792,
          1.672604351977852,
          0.14773585534981465,
          -0.7217092256636978,
          0.051001802110237714,
          -0.8384015454027037,
          0.6731042370435385,
          0.17304838753909765,
          -0.8232932608854376,
          0.767028815641581,
          -1.8104429941045004,
          1.8282580189982574,
          -0.523451238059469,
          1.8537992937385805,
          -0.3061469383127988,
          -0.06149910457886894,
          -0.2661031019289138,
          0.5949325643958282,
          -0.7758866651392171,
          0.5112661409862509,
          -1.271072249577671,
          0.7483241333480513,
          1.789665739230297,
          -0.505722738272695,
          1.3412466063005661,
          1.2191913846284896,
          -0.0580815975615273,
          -0.5507407904374377,
          1.5898268484313995
         ],
         "xaxis": "x14",
         "y": [
          -1.180735303630515,
          2.335222326905726,
          -1.6197574589979549,
          0.9028352023676829,
          1.6109261896790363,
          -0.7961454704693716,
          0.3720448301600562,
          -1.4434434807718641,
          -0.6119063991100594,
          1.8420214774973167,
          0.2520229457394457,
          0.05093447600310471,
          0.5446210490174672,
          -0.4402609818646418,
          -0.390977953514869,
          -0.07840859523009465,
          -0.1267926849131856,
          -3.374361649058948,
          -0.18009363328860958,
          3.4528280213098403,
          -0.2986607028736644,
          1.0956666525430585,
          -1.7863405706919313,
          1.3677989006774434,
          0.4354441364465162,
          0.13088701411783146,
          0.1553950897623964,
          -0.4925785624969984,
          0.32268461453856545,
          -1.700840271270966,
          0.6440602978278147,
          -0.2251600590361294,
          -0.16032895915867906,
          -0.3852025321126944,
          1.6145178668064544,
          -0.04137131604823876,
          -0.9749076248226239,
          1.3836699813550444,
          0.8982537349204344,
          0.9217283064844051,
          0.23625462017860271,
          -1.2122103871137158,
          -1.9927141415606817,
          -0.2959547598126391,
          -0.33372442818102865,
          -0.22056490650846694,
          0.7465644743865075,
          0.09987623381112562,
          -0.9376320317104025,
          0.20306725021030386,
          1.255015262344124,
          -0.028365486899400074,
          -1.1122577591505516,
          -0.0051746142853209675,
          -0.2256665884980495,
          2.7815061171333353,
          -0.2611876402833877,
          0.08549569945518426,
          -0.49291144393175046,
          -0.876468729067364,
          0.8108862452786229,
          -1.8687400730347454,
          0.5657560477398444,
          -0.21029389114024946,
          2.3890021587185006,
          0.8226474743506555,
          0.3565281349567872,
          -0.23326713943671804,
          0.0025591348298659527,
          -0.7397088567552248,
          -1.8554173584409612,
          -0.32550837085617157,
          0.28839964830935866,
          -0.7798617164656289,
          -0.7109761540827182,
          -0.7172440074028394,
          -0.6593860057595722,
          0.7333444107886511,
          0.5870183475529771,
          -1.9540870348563026,
          -0.1383639409908132,
          -1.3944854052375002,
          -0.3903337256465239,
          0.7562793578027802,
          -0.6870352789240671,
          0.8425270198944845,
          0.7148044492940651,
          -1.647037104244215,
          -0.8649562384137423,
          -0.7176125971028547,
          -0.681051744075285,
          1.1642499810546263,
          0.7491116092930705,
          1.3835618619707477,
          -0.10914937540931671,
          -1.7197130124431566,
          -0.07655706701279717,
          0.39764205850156625,
          -0.4120653423092205,
          0.7072388863918091
         ],
         "yaxis": "y14"
        },
        {
         "line": {
          "color": "rgba(128, 128, 128, 1.0)",
          "dash": "solid",
          "shape": "linear",
          "width": 1.3
         },
         "marker": {
          "size": 2,
          "symbol": "circle"
         },
         "mode": "markers",
         "name": "D",
         "text": "",
         "type": "scatter",
         "x": [
          -1.8201913265527303,
          -0.40533667730108597,
          -0.5061076449396962,
          1.1922140171784994,
          -1.2878651814078301,
          -2.0875667102001847,
          1.1359161025340003,
          -0.07975348897386565,
          0.16056033389825844,
          1.124722959228828,
          -1.0760705960481889,
          -0.35840908773828994,
          -0.5897085324218448,
          -1.071805416413214,
          -0.24467585713609044,
          2.8619182220963615,
          0.8179447485176887,
          -0.3651639599408454,
          -1.0514172947895792,
          -0.16632879081565502,
          -0.5023105357432766,
          0.18625466177531907,
          -0.5574087678371401,
          1.0376706639357471,
          1.9600750938572835,
          -0.7639352725337002,
          0.5124698963807007,
          -1.5474971910101507,
          1.0002078982538647,
          -0.4377919098125437,
          1.1031060605395542,
          0.25535981415649517,
          -0.3450852736055648,
          -0.04624154453733395,
          2.6362020496022502,
          1.8598141682965104,
          -1.1681490739797136,
          1.5173724333426744,
          -1.1761600730174717,
          0.2930700147541619,
          0.8101058165963707,
          1.146014689165013,
          -0.10325377444181959,
          1.427681493888483,
          0.5939532894371914,
          -0.39797266930198444,
          0.7802618393107127,
          1.9176420222448844,
          0.2553039738011546,
          -0.9482009983103359,
          1.0107156853545773,
          -0.8678369478973159,
          0.3013044983436712,
          -0.4969682271595119,
          1.1151305873477453,
          -1.2684445322396838,
          -0.2077278129483146,
          1.113546960150091,
          0.9867481245160042,
          -0.4108178571402074,
          1.3766331259618554,
          -0.9821344822529295,
          0.9083785275769809,
          0.9815542389492546,
          0.25954666052048203,
          1.6879036846709607,
          0.7895361058172605,
          -0.6078635133113303,
          -0.6585305793683645,
          -0.3676584629527762,
          0.0640337758872838,
          0.6950945220389215,
          1.5891689293580147,
          -0.573163488272661,
          -0.6411353780052226,
          -0.3384456214766705,
          1.2132745960403493,
          1.52160619121688,
          1.5392895620341296,
          0.6257515304283414,
          -0.694037425090867,
          -2.2471218993382442,
          0.7538425419802119,
          0.34809140715926845,
          0.257122267442059,
          -0.19685369095482094,
          2.247026153566917,
          -0.18492413238763644,
          -0.01643540424867496,
          1.5499300592918965,
          0.578737740126321,
          0.5766895078694938,
          2.313794112427557,
          -0.666123322046375,
          -0.1825573582237236,
          -0.32486405815227387,
          -0.082325109079772,
          0.28171512469617954,
          1.1597411614141633,
          -0.6075210002772761
         ],
         "xaxis": "x15",
         "y": [
          -1.180735303630515,
          2.335222326905726,
          -1.6197574589979549,
          0.9028352023676829,
          1.6109261896790363,
          -0.7961454704693716,
          0.3720448301600562,
          -1.4434434807718641,
          -0.6119063991100594,
          1.8420214774973167,
          0.2520229457394457,
          0.05093447600310471,
          0.5446210490174672,
          -0.4402609818646418,
          -0.390977953514869,
          -0.07840859523009465,
          -0.1267926849131856,
          -3.374361649058948,
          -0.18009363328860958,
          3.4528280213098403,
          -0.2986607028736644,
          1.0956666525430585,
          -1.7863405706919313,
          1.3677989006774434,
          0.4354441364465162,
          0.13088701411783146,
          0.1553950897623964,
          -0.4925785624969984,
          0.32268461453856545,
          -1.700840271270966,
          0.6440602978278147,
          -0.2251600590361294,
          -0.16032895915867906,
          -0.3852025321126944,
          1.6145178668064544,
          -0.04137131604823876,
          -0.9749076248226239,
          1.3836699813550444,
          0.8982537349204344,
          0.9217283064844051,
          0.23625462017860271,
          -1.2122103871137158,
          -1.9927141415606817,
          -0.2959547598126391,
          -0.33372442818102865,
          -0.22056490650846694,
          0.7465644743865075,
          0.09987623381112562,
          -0.9376320317104025,
          0.20306725021030386,
          1.255015262344124,
          -0.028365486899400074,
          -1.1122577591505516,
          -0.0051746142853209675,
          -0.2256665884980495,
          2.7815061171333353,
          -0.2611876402833877,
          0.08549569945518426,
          -0.49291144393175046,
          -0.876468729067364,
          0.8108862452786229,
          -1.8687400730347454,
          0.5657560477398444,
          -0.21029389114024946,
          2.3890021587185006,
          0.8226474743506555,
          0.3565281349567872,
          -0.23326713943671804,
          0.0025591348298659527,
          -0.7397088567552248,
          -1.8554173584409612,
          -0.32550837085617157,
          0.28839964830935866,
          -0.7798617164656289,
          -0.7109761540827182,
          -0.7172440074028394,
          -0.6593860057595722,
          0.7333444107886511,
          0.5870183475529771,
          -1.9540870348563026,
          -0.1383639409908132,
          -1.3944854052375002,
          -0.3903337256465239,
          0.7562793578027802,
          -0.6870352789240671,
          0.8425270198944845,
          0.7148044492940651,
          -1.647037104244215,
          -0.8649562384137423,
          -0.7176125971028547,
          -0.681051744075285,
          1.1642499810546263,
          0.7491116092930705,
          1.3835618619707477,
          -0.10914937540931671,
          -1.7197130124431566,
          -0.07655706701279717,
          0.39764205850156625,
          -0.4120653423092205,
          0.7072388863918091
         ],
         "yaxis": "y15"
        },
        {
         "histfunc": "count",
         "histnorm": "",
         "marker": {
          "color": "rgba(128, 0, 128, 1.0)",
          "line": {
           "color": "#4D5663",
           "width": 1.3
          }
         },
         "name": "D",
         "nbinsx": 10,
         "opacity": 0.8,
         "orientation": "v",
         "type": "histogram",
         "x": [
          -1.180735303630515,
          2.335222326905726,
          -1.6197574589979549,
          0.9028352023676829,
          1.6109261896790363,
          -0.7961454704693716,
          0.3720448301600562,
          -1.4434434807718641,
          -0.6119063991100594,
          1.8420214774973167,
          0.2520229457394457,
          0.05093447600310471,
          0.5446210490174672,
          -0.4402609818646418,
          -0.390977953514869,
          -0.07840859523009465,
          -0.1267926849131856,
          -3.374361649058948,
          -0.18009363328860958,
          3.4528280213098403,
          -0.2986607028736644,
          1.0956666525430585,
          -1.7863405706919313,
          1.3677989006774434,
          0.4354441364465162,
          0.13088701411783146,
          0.1553950897623964,
          -0.4925785624969984,
          0.32268461453856545,
          -1.700840271270966,
          0.6440602978278147,
          -0.2251600590361294,
          -0.16032895915867906,
          -0.3852025321126944,
          1.6145178668064544,
          -0.04137131604823876,
          -0.9749076248226239,
          1.3836699813550444,
          0.8982537349204344,
          0.9217283064844051,
          0.23625462017860271,
          -1.2122103871137158,
          -1.9927141415606817,
          -0.2959547598126391,
          -0.33372442818102865,
          -0.22056490650846694,
          0.7465644743865075,
          0.09987623381112562,
          -0.9376320317104025,
          0.20306725021030386,
          1.255015262344124,
          -0.028365486899400074,
          -1.1122577591505516,
          -0.0051746142853209675,
          -0.2256665884980495,
          2.7815061171333353,
          -0.2611876402833877,
          0.08549569945518426,
          -0.49291144393175046,
          -0.876468729067364,
          0.8108862452786229,
          -1.8687400730347454,
          0.5657560477398444,
          -0.21029389114024946,
          2.3890021587185006,
          0.8226474743506555,
          0.3565281349567872,
          -0.23326713943671804,
          0.0025591348298659527,
          -0.7397088567552248,
          -1.8554173584409612,
          -0.32550837085617157,
          0.28839964830935866,
          -0.7798617164656289,
          -0.7109761540827182,
          -0.7172440074028394,
          -0.6593860057595722,
          0.7333444107886511,
          0.5870183475529771,
          -1.9540870348563026,
          -0.1383639409908132,
          -1.3944854052375002,
          -0.3903337256465239,
          0.7562793578027802,
          -0.6870352789240671,
          0.8425270198944845,
          0.7148044492940651,
          -1.647037104244215,
          -0.8649562384137423,
          -0.7176125971028547,
          -0.681051744075285,
          1.1642499810546263,
          0.7491116092930705,
          1.3835618619707477,
          -0.10914937540931671,
          -1.7197130124431566,
          -0.07655706701279717,
          0.39764205850156625,
          -0.4120653423092205,
          0.7072388863918091
         ],
         "xaxis": "x16",
         "yaxis": "y16"
        }
       ],
       "layout": {
        "bargap": 0.02,
        "legend": {
         "bgcolor": "#F5F6F9",
         "font": {
          "color": "#4D5663"
         }
        },
        "paper_bgcolor": "#F5F6F9",
        "plot_bgcolor": "#F5F6F9",
        "showlegend": false,
        "template": {
         "data": {
          "bar": [
           {
            "error_x": {
             "color": "#2a3f5f"
            },
            "error_y": {
             "color": "#2a3f5f"
            },
            "marker": {
             "line": {
              "color": "#E5ECF6",
              "width": 0.5
             },
             "pattern": {
              "fillmode": "overlay",
              "size": 10,
              "solidity": 0.2
             }
            },
            "type": "bar"
           }
          ],
          "barpolar": [
           {
            "marker": {
             "line": {
              "color": "#E5ECF6",
              "width": 0.5
             },
             "pattern": {
              "fillmode": "overlay",
              "size": 10,
              "solidity": 0.2
             }
            },
            "type": "barpolar"
           }
          ],
          "carpet": [
           {
            "aaxis": {
             "endlinecolor": "#2a3f5f",
             "gridcolor": "white",
             "linecolor": "white",
             "minorgridcolor": "white",
             "startlinecolor": "#2a3f5f"
            },
            "baxis": {
             "endlinecolor": "#2a3f5f",
             "gridcolor": "white",
             "linecolor": "white",
             "minorgridcolor": "white",
             "startlinecolor": "#2a3f5f"
            },
            "type": "carpet"
           }
          ],
          "choropleth": [
           {
            "colorbar": {
             "outlinewidth": 0,
             "ticks": ""
            },
            "type": "choropleth"
           }
          ],
          "contour": [
           {
            "colorbar": {
             "outlinewidth": 0,
             "ticks": ""
            },
            "colorscale": [
             [
              0,
              "#0d0887"
             ],
             [
              0.1111111111111111,
              "#46039f"
             ],
             [
              0.2222222222222222,
              "#7201a8"
             ],
             [
              0.3333333333333333,
              "#9c179e"
             ],
             [
              0.4444444444444444,
              "#bd3786"
             ],
             [
              0.5555555555555556,
              "#d8576b"
             ],
             [
              0.6666666666666666,
              "#ed7953"
             ],
             [
              0.7777777777777778,
              "#fb9f3a"
             ],
             [
              0.8888888888888888,
              "#fdca26"
             ],
             [
              1,
              "#f0f921"
             ]
            ],
            "type": "contour"
           }
          ],
          "contourcarpet": [
           {
            "colorbar": {
             "outlinewidth": 0,
             "ticks": ""
            },
            "type": "contourcarpet"
           }
          ],
          "heatmap": [
           {
            "colorbar": {
             "outlinewidth": 0,
             "ticks": ""
            },
            "colorscale": [
             [
              0,
              "#0d0887"
             ],
             [
              0.1111111111111111,
              "#46039f"
             ],
             [
              0.2222222222222222,
              "#7201a8"
             ],
             [
              0.3333333333333333,
              "#9c179e"
             ],
             [
              0.4444444444444444,
              "#bd3786"
             ],
             [
              0.5555555555555556,
              "#d8576b"
             ],
             [
              0.6666666666666666,
              "#ed7953"
             ],
             [
              0.7777777777777778,
              "#fb9f3a"
             ],
             [
              0.8888888888888888,
              "#fdca26"
             ],
             [
              1,
              "#f0f921"
             ]
            ],
            "type": "heatmap"
           }
          ],
          "heatmapgl": [
           {
            "colorbar": {
             "outlinewidth": 0,
             "ticks": ""
            },
            "colorscale": [
             [
              0,
              "#0d0887"
             ],
             [
              0.1111111111111111,
              "#46039f"
             ],
             [
              0.2222222222222222,
              "#7201a8"
             ],
             [
              0.3333333333333333,
              "#9c179e"
             ],
             [
              0.4444444444444444,
              "#bd3786"
             ],
             [
              0.5555555555555556,
              "#d8576b"
             ],
             [
              0.6666666666666666,
              "#ed7953"
             ],
             [
              0.7777777777777778,
              "#fb9f3a"
             ],
             [
              0.8888888888888888,
              "#fdca26"
             ],
             [
              1,
              "#f0f921"
             ]
            ],
            "type": "heatmapgl"
           }
          ],
          "histogram": [
           {
            "marker": {
             "pattern": {
              "fillmode": "overlay",
              "size": 10,
              "solidity": 0.2
             }
            },
            "type": "histogram"
           }
          ],
          "histogram2d": [
           {
            "colorbar": {
             "outlinewidth": 0,
             "ticks": ""
            },
            "colorscale": [
             [
              0,
              "#0d0887"
             ],
             [
              0.1111111111111111,
              "#46039f"
             ],
             [
              0.2222222222222222,
              "#7201a8"
             ],
             [
              0.3333333333333333,
              "#9c179e"
             ],
             [
              0.4444444444444444,
              "#bd3786"
             ],
             [
              0.5555555555555556,
              "#d8576b"
             ],
             [
              0.6666666666666666,
              "#ed7953"
             ],
             [
              0.7777777777777778,
              "#fb9f3a"
             ],
             [
              0.8888888888888888,
              "#fdca26"
             ],
             [
              1,
              "#f0f921"
             ]
            ],
            "type": "histogram2d"
           }
          ],
          "histogram2dcontour": [
           {
            "colorbar": {
             "outlinewidth": 0,
             "ticks": ""
            },
            "colorscale": [
             [
              0,
              "#0d0887"
             ],
             [
              0.1111111111111111,
              "#46039f"
             ],
             [
              0.2222222222222222,
              "#7201a8"
             ],
             [
              0.3333333333333333,
              "#9c179e"
             ],
             [
              0.4444444444444444,
              "#bd3786"
             ],
             [
              0.5555555555555556,
              "#d8576b"
             ],
             [
              0.6666666666666666,
              "#ed7953"
             ],
             [
              0.7777777777777778,
              "#fb9f3a"
             ],
             [
              0.8888888888888888,
              "#fdca26"
             ],
             [
              1,
              "#f0f921"
             ]
            ],
            "type": "histogram2dcontour"
           }
          ],
          "mesh3d": [
           {
            "colorbar": {
             "outlinewidth": 0,
             "ticks": ""
            },
            "type": "mesh3d"
           }
          ],
          "parcoords": [
           {
            "line": {
             "colorbar": {
              "outlinewidth": 0,
              "ticks": ""
             }
            },
            "type": "parcoords"
           }
          ],
          "pie": [
           {
            "automargin": true,
            "type": "pie"
           }
          ],
          "scatter": [
           {
            "fillpattern": {
             "fillmode": "overlay",
             "size": 10,
             "solidity": 0.2
            },
            "type": "scatter"
           }
          ],
          "scatter3d": [
           {
            "line": {
             "colorbar": {
              "outlinewidth": 0,
              "ticks": ""
             }
            },
            "marker": {
             "colorbar": {
              "outlinewidth": 0,
              "ticks": ""
             }
            },
            "type": "scatter3d"
           }
          ],
          "scattercarpet": [
           {
            "marker": {
             "colorbar": {
              "outlinewidth": 0,
              "ticks": ""
             }
            },
            "type": "scattercarpet"
           }
          ],
          "scattergeo": [
           {
            "marker": {
             "colorbar": {
              "outlinewidth": 0,
              "ticks": ""
             }
            },
            "type": "scattergeo"
           }
          ],
          "scattergl": [
           {
            "marker": {
             "colorbar": {
              "outlinewidth": 0,
              "ticks": ""
             }
            },
            "type": "scattergl"
           }
          ],
          "scattermapbox": [
           {
            "marker": {
             "colorbar": {
              "outlinewidth": 0,
              "ticks": ""
             }
            },
            "type": "scattermapbox"
           }
          ],
          "scatterpolar": [
           {
            "marker": {
             "colorbar": {
              "outlinewidth": 0,
              "ticks": ""
             }
            },
            "type": "scatterpolar"
           }
          ],
          "scatterpolargl": [
           {
            "marker": {
             "colorbar": {
              "outlinewidth": 0,
              "ticks": ""
             }
            },
            "type": "scatterpolargl"
           }
          ],
          "scatterternary": [
           {
            "marker": {
             "colorbar": {
              "outlinewidth": 0,
              "ticks": ""
             }
            },
            "type": "scatterternary"
           }
          ],
          "surface": [
           {
            "colorbar": {
             "outlinewidth": 0,
             "ticks": ""
            },
            "colorscale": [
             [
              0,
              "#0d0887"
             ],
             [
              0.1111111111111111,
              "#46039f"
             ],
             [
              0.2222222222222222,
              "#7201a8"
             ],
             [
              0.3333333333333333,
              "#9c179e"
             ],
             [
              0.4444444444444444,
              "#bd3786"
             ],
             [
              0.5555555555555556,
              "#d8576b"
             ],
             [
              0.6666666666666666,
              "#ed7953"
             ],
             [
              0.7777777777777778,
              "#fb9f3a"
             ],
             [
              0.8888888888888888,
              "#fdca26"
             ],
             [
              1,
              "#f0f921"
             ]
            ],
            "type": "surface"
           }
          ],
          "table": [
           {
            "cells": {
             "fill": {
              "color": "#EBF0F8"
             },
             "line": {
              "color": "white"
             }
            },
            "header": {
             "fill": {
              "color": "#C8D4E3"
             },
             "line": {
              "color": "white"
             }
            },
            "type": "table"
           }
          ]
         },
         "layout": {
          "annotationdefaults": {
           "arrowcolor": "#2a3f5f",
           "arrowhead": 0,
           "arrowwidth": 1
          },
          "autotypenumbers": "strict",
          "coloraxis": {
           "colorbar": {
            "outlinewidth": 0,
            "ticks": ""
           }
          },
          "colorscale": {
           "diverging": [
            [
             0,
             "#8e0152"
            ],
            [
             0.1,
             "#c51b7d"
            ],
            [
             0.2,
             "#de77ae"
            ],
            [
             0.3,
             "#f1b6da"
            ],
            [
             0.4,
             "#fde0ef"
            ],
            [
             0.5,
             "#f7f7f7"
            ],
            [
             0.6,
             "#e6f5d0"
            ],
            [
             0.7,
             "#b8e186"
            ],
            [
             0.8,
             "#7fbc41"
            ],
            [
             0.9,
             "#4d9221"
            ],
            [
             1,
             "#276419"
            ]
           ],
           "sequential": [
            [
             0,
             "#0d0887"
            ],
            [
             0.1111111111111111,
             "#46039f"
            ],
            [
             0.2222222222222222,
             "#7201a8"
            ],
            [
             0.3333333333333333,
             "#9c179e"
            ],
            [
             0.4444444444444444,
             "#bd3786"
            ],
            [
             0.5555555555555556,
             "#d8576b"
            ],
            [
             0.6666666666666666,
             "#ed7953"
            ],
            [
             0.7777777777777778,
             "#fb9f3a"
            ],
            [
             0.8888888888888888,
             "#fdca26"
            ],
            [
             1,
             "#f0f921"
            ]
           ],
           "sequentialminus": [
            [
             0,
             "#0d0887"
            ],
            [
             0.1111111111111111,
             "#46039f"
            ],
            [
             0.2222222222222222,
             "#7201a8"
            ],
            [
             0.3333333333333333,
             "#9c179e"
            ],
            [
             0.4444444444444444,
             "#bd3786"
            ],
            [
             0.5555555555555556,
             "#d8576b"
            ],
            [
             0.6666666666666666,
             "#ed7953"
            ],
            [
             0.7777777777777778,
             "#fb9f3a"
            ],
            [
             0.8888888888888888,
             "#fdca26"
            ],
            [
             1,
             "#f0f921"
            ]
           ]
          },
          "colorway": [
           "#636efa",
           "#EF553B",
           "#00cc96",
           "#ab63fa",
           "#FFA15A",
           "#19d3f3",
           "#FF6692",
           "#B6E880",
           "#FF97FF",
           "#FECB52"
          ],
          "font": {
           "color": "#2a3f5f"
          },
          "geo": {
           "bgcolor": "white",
           "lakecolor": "white",
           "landcolor": "#E5ECF6",
           "showlakes": true,
           "showland": true,
           "subunitcolor": "white"
          },
          "hoverlabel": {
           "align": "left"
          },
          "hovermode": "closest",
          "mapbox": {
           "style": "light"
          },
          "paper_bgcolor": "white",
          "plot_bgcolor": "#E5ECF6",
          "polar": {
           "angularaxis": {
            "gridcolor": "white",
            "linecolor": "white",
            "ticks": ""
           },
           "bgcolor": "#E5ECF6",
           "radialaxis": {
            "gridcolor": "white",
            "linecolor": "white",
            "ticks": ""
           }
          },
          "scene": {
           "xaxis": {
            "backgroundcolor": "#E5ECF6",
            "gridcolor": "white",
            "gridwidth": 2,
            "linecolor": "white",
            "showbackground": true,
            "ticks": "",
            "zerolinecolor": "white"
           },
           "yaxis": {
            "backgroundcolor": "#E5ECF6",
            "gridcolor": "white",
            "gridwidth": 2,
            "linecolor": "white",
            "showbackground": true,
            "ticks": "",
            "zerolinecolor": "white"
           },
           "zaxis": {
            "backgroundcolor": "#E5ECF6",
            "gridcolor": "white",
            "gridwidth": 2,
            "linecolor": "white",
            "showbackground": true,
            "ticks": "",
            "zerolinecolor": "white"
           }
          },
          "shapedefaults": {
           "line": {
            "color": "#2a3f5f"
           }
          },
          "ternary": {
           "aaxis": {
            "gridcolor": "white",
            "linecolor": "white",
            "ticks": ""
           },
           "baxis": {
            "gridcolor": "white",
            "linecolor": "white",
            "ticks": ""
           },
           "bgcolor": "#E5ECF6",
           "caxis": {
            "gridcolor": "white",
            "linecolor": "white",
            "ticks": ""
           }
          },
          "title": {
           "x": 0.05
          },
          "xaxis": {
           "automargin": true,
           "gridcolor": "white",
           "linecolor": "white",
           "ticks": "",
           "title": {
            "standoff": 15
           },
           "zerolinecolor": "white",
           "zerolinewidth": 2
          },
          "yaxis": {
           "automargin": true,
           "gridcolor": "white",
           "linecolor": "white",
           "ticks": "",
           "title": {
            "standoff": 15
           },
           "zerolinecolor": "white",
           "zerolinewidth": 2
          }
         }
        },
        "title": {
         "font": {
          "color": "#4D5663"
         }
        },
        "xaxis": {
         "anchor": "y",
         "domain": [
          0,
          0.2125
         ],
         "gridcolor": "#E1E5ED",
         "showgrid": false,
         "tickfont": {
          "color": "#4D5663"
         },
         "title": {
          "font": {
           "color": "#4D5663"
          },
          "text": ""
         },
         "zerolinecolor": "#E1E5ED"
        },
        "xaxis10": {
         "anchor": "y10",
         "domain": [
          0.2625,
          0.475
         ],
         "gridcolor": "#E1E5ED",
         "showgrid": false,
         "tickfont": {
          "color": "#4D5663"
         },
         "title": {
          "font": {
           "color": "#4D5663"
          },
          "text": ""
         },
         "zerolinecolor": "#E1E5ED"
        },
        "xaxis11": {
         "anchor": "y11",
         "domain": [
          0.525,
          0.7375
         ],
         "gridcolor": "#E1E5ED",
         "showgrid": false,
         "tickfont": {
          "color": "#4D5663"
         },
         "title": {
          "font": {
           "color": "#4D5663"
          },
          "text": ""
         },
         "zerolinecolor": "#E1E5ED"
        },
        "xaxis12": {
         "anchor": "y12",
         "domain": [
          0.7875,
          1
         ],
         "gridcolor": "#E1E5ED",
         "showgrid": false,
         "tickfont": {
          "color": "#4D5663"
         },
         "title": {
          "font": {
           "color": "#4D5663"
          },
          "text": ""
         },
         "zerolinecolor": "#E1E5ED"
        },
        "xaxis13": {
         "anchor": "y13",
         "domain": [
          0,
          0.2125
         ],
         "gridcolor": "#E1E5ED",
         "showgrid": false,
         "tickfont": {
          "color": "#4D5663"
         },
         "title": {
          "font": {
           "color": "#4D5663"
          },
          "text": ""
         },
         "zerolinecolor": "#E1E5ED"
        },
        "xaxis14": {
         "anchor": "y14",
         "domain": [
          0.2625,
          0.475
         ],
         "gridcolor": "#E1E5ED",
         "showgrid": false,
         "tickfont": {
          "color": "#4D5663"
         },
         "title": {
          "font": {
           "color": "#4D5663"
          },
          "text": ""
         },
         "zerolinecolor": "#E1E5ED"
        },
        "xaxis15": {
         "anchor": "y15",
         "domain": [
          0.525,
          0.7375
         ],
         "gridcolor": "#E1E5ED",
         "showgrid": false,
         "tickfont": {
          "color": "#4D5663"
         },
         "title": {
          "font": {
           "color": "#4D5663"
          },
          "text": ""
         },
         "zerolinecolor": "#E1E5ED"
        },
        "xaxis16": {
         "anchor": "y16",
         "domain": [
          0.7875,
          1
         ],
         "gridcolor": "#E1E5ED",
         "showgrid": false,
         "tickfont": {
          "color": "#4D5663"
         },
         "title": {
          "font": {
           "color": "#4D5663"
          },
          "text": ""
         },
         "zerolinecolor": "#E1E5ED"
        },
        "xaxis2": {
         "anchor": "y2",
         "domain": [
          0.2625,
          0.475
         ],
         "gridcolor": "#E1E5ED",
         "showgrid": false,
         "tickfont": {
          "color": "#4D5663"
         },
         "title": {
          "font": {
           "color": "#4D5663"
          },
          "text": ""
         },
         "zerolinecolor": "#E1E5ED"
        },
        "xaxis3": {
         "anchor": "y3",
         "domain": [
          0.525,
          0.7375
         ],
         "gridcolor": "#E1E5ED",
         "showgrid": false,
         "tickfont": {
          "color": "#4D5663"
         },
         "title": {
          "font": {
           "color": "#4D5663"
          },
          "text": ""
         },
         "zerolinecolor": "#E1E5ED"
        },
        "xaxis4": {
         "anchor": "y4",
         "domain": [
          0.7875,
          1
         ],
         "gridcolor": "#E1E5ED",
         "showgrid": false,
         "tickfont": {
          "color": "#4D5663"
         },
         "title": {
          "font": {
           "color": "#4D5663"
          },
          "text": ""
         },
         "zerolinecolor": "#E1E5ED"
        },
        "xaxis5": {
         "anchor": "y5",
         "domain": [
          0,
          0.2125
         ],
         "gridcolor": "#E1E5ED",
         "showgrid": false,
         "tickfont": {
          "color": "#4D5663"
         },
         "title": {
          "font": {
           "color": "#4D5663"
          },
          "text": ""
         },
         "zerolinecolor": "#E1E5ED"
        },
        "xaxis6": {
         "anchor": "y6",
         "domain": [
          0.2625,
          0.475
         ],
         "gridcolor": "#E1E5ED",
         "showgrid": false,
         "tickfont": {
          "color": "#4D5663"
         },
         "title": {
          "font": {
           "color": "#4D5663"
          },
          "text": ""
         },
         "zerolinecolor": "#E1E5ED"
        },
        "xaxis7": {
         "anchor": "y7",
         "domain": [
          0.525,
          0.7375
         ],
         "gridcolor": "#E1E5ED",
         "showgrid": false,
         "tickfont": {
          "color": "#4D5663"
         },
         "title": {
          "font": {
           "color": "#4D5663"
          },
          "text": ""
         },
         "zerolinecolor": "#E1E5ED"
        },
        "xaxis8": {
         "anchor": "y8",
         "domain": [
          0.7875,
          1
         ],
         "gridcolor": "#E1E5ED",
         "showgrid": false,
         "tickfont": {
          "color": "#4D5663"
         },
         "title": {
          "font": {
           "color": "#4D5663"
          },
          "text": ""
         },
         "zerolinecolor": "#E1E5ED"
        },
        "xaxis9": {
         "anchor": "y9",
         "domain": [
          0,
          0.2125
         ],
         "gridcolor": "#E1E5ED",
         "showgrid": false,
         "tickfont": {
          "color": "#4D5663"
         },
         "title": {
          "font": {
           "color": "#4D5663"
          },
          "text": ""
         },
         "zerolinecolor": "#E1E5ED"
        },
        "yaxis": {
         "anchor": "x",
         "domain": [
          0.8025,
          1
         ],
         "gridcolor": "#E1E5ED",
         "showgrid": false,
         "tickfont": {
          "color": "#4D5663"
         },
         "title": {
          "font": {
           "color": "#4D5663"
          },
          "text": ""
         },
         "zerolinecolor": "#E1E5ED"
        },
        "yaxis10": {
         "anchor": "x10",
         "domain": [
          0.2675,
          0.465
         ],
         "gridcolor": "#E1E5ED",
         "showgrid": false,
         "tickfont": {
          "color": "#4D5663"
         },
         "title": {
          "font": {
           "color": "#4D5663"
          },
          "text": ""
         },
         "zerolinecolor": "#E1E5ED"
        },
        "yaxis11": {
         "anchor": "x11",
         "domain": [
          0.2675,
          0.465
         ],
         "gridcolor": "#E1E5ED",
         "showgrid": false,
         "tickfont": {
          "color": "#4D5663"
         },
         "title": {
          "font": {
           "color": "#4D5663"
          },
          "text": ""
         },
         "zerolinecolor": "#E1E5ED"
        },
        "yaxis12": {
         "anchor": "x12",
         "domain": [
          0.2675,
          0.465
         ],
         "gridcolor": "#E1E5ED",
         "showgrid": false,
         "tickfont": {
          "color": "#4D5663"
         },
         "title": {
          "font": {
           "color": "#4D5663"
          },
          "text": ""
         },
         "zerolinecolor": "#E1E5ED"
        },
        "yaxis13": {
         "anchor": "x13",
         "domain": [
          0,
          0.1975
         ],
         "gridcolor": "#E1E5ED",
         "showgrid": false,
         "tickfont": {
          "color": "#4D5663"
         },
         "title": {
          "font": {
           "color": "#4D5663"
          },
          "text": ""
         },
         "zerolinecolor": "#E1E5ED"
        },
        "yaxis14": {
         "anchor": "x14",
         "domain": [
          0,
          0.1975
         ],
         "gridcolor": "#E1E5ED",
         "showgrid": false,
         "tickfont": {
          "color": "#4D5663"
         },
         "title": {
          "font": {
           "color": "#4D5663"
          },
          "text": ""
         },
         "zerolinecolor": "#E1E5ED"
        },
        "yaxis15": {
         "anchor": "x15",
         "domain": [
          0,
          0.1975
         ],
         "gridcolor": "#E1E5ED",
         "showgrid": false,
         "tickfont": {
          "color": "#4D5663"
         },
         "title": {
          "font": {
           "color": "#4D5663"
          },
          "text": ""
         },
         "zerolinecolor": "#E1E5ED"
        },
        "yaxis16": {
         "anchor": "x16",
         "domain": [
          0,
          0.1975
         ],
         "gridcolor": "#E1E5ED",
         "showgrid": false,
         "tickfont": {
          "color": "#4D5663"
         },
         "title": {
          "font": {
           "color": "#4D5663"
          },
          "text": ""
         },
         "zerolinecolor": "#E1E5ED"
        },
        "yaxis2": {
         "anchor": "x2",
         "domain": [
          0.8025,
          1
         ],
         "gridcolor": "#E1E5ED",
         "showgrid": false,
         "tickfont": {
          "color": "#4D5663"
         },
         "title": {
          "font": {
           "color": "#4D5663"
          },
          "text": ""
         },
         "zerolinecolor": "#E1E5ED"
        },
        "yaxis3": {
         "anchor": "x3",
         "domain": [
          0.8025,
          1
         ],
         "gridcolor": "#E1E5ED",
         "showgrid": false,
         "tickfont": {
          "color": "#4D5663"
         },
         "title": {
          "font": {
           "color": "#4D5663"
          },
          "text": ""
         },
         "zerolinecolor": "#E1E5ED"
        },
        "yaxis4": {
         "anchor": "x4",
         "domain": [
          0.8025,
          1
         ],
         "gridcolor": "#E1E5ED",
         "showgrid": false,
         "tickfont": {
          "color": "#4D5663"
         },
         "title": {
          "font": {
           "color": "#4D5663"
          },
          "text": ""
         },
         "zerolinecolor": "#E1E5ED"
        },
        "yaxis5": {
         "anchor": "x5",
         "domain": [
          0.535,
          0.7325
         ],
         "gridcolor": "#E1E5ED",
         "showgrid": false,
         "tickfont": {
          "color": "#4D5663"
         },
         "title": {
          "font": {
           "color": "#4D5663"
          },
          "text": ""
         },
         "zerolinecolor": "#E1E5ED"
        },
        "yaxis6": {
         "anchor": "x6",
         "domain": [
          0.535,
          0.7325
         ],
         "gridcolor": "#E1E5ED",
         "showgrid": false,
         "tickfont": {
          "color": "#4D5663"
         },
         "title": {
          "font": {
           "color": "#4D5663"
          },
          "text": ""
         },
         "zerolinecolor": "#E1E5ED"
        },
        "yaxis7": {
         "anchor": "x7",
         "domain": [
          0.535,
          0.7325
         ],
         "gridcolor": "#E1E5ED",
         "showgrid": false,
         "tickfont": {
          "color": "#4D5663"
         },
         "title": {
          "font": {
           "color": "#4D5663"
          },
          "text": ""
         },
         "zerolinecolor": "#E1E5ED"
        },
        "yaxis8": {
         "anchor": "x8",
         "domain": [
          0.535,
          0.7325
         ],
         "gridcolor": "#E1E5ED",
         "showgrid": false,
         "tickfont": {
          "color": "#4D5663"
         },
         "title": {
          "font": {
           "color": "#4D5663"
          },
          "text": ""
         },
         "zerolinecolor": "#E1E5ED"
        },
        "yaxis9": {
         "anchor": "x9",
         "domain": [
          0.2675,
          0.465
         ],
         "gridcolor": "#E1E5ED",
         "showgrid": false,
         "tickfont": {
          "color": "#4D5663"
         },
         "title": {
          "font": {
           "color": "#4D5663"
          },
          "text": ""
         },
         "zerolinecolor": "#E1E5ED"
        }
       }
      },
      "text/html": [
       "<div>                            <div id=\"9a58b8e1-3cc6-4d2b-b153-a0913dd31c65\" class=\"plotly-graph-div\" style=\"height:525px; width:100%;\"></div>            <script type=\"text/javascript\">                require([\"plotly\"], function(Plotly) {                    window.PLOTLYENV=window.PLOTLYENV || {};\n",
       "                    window.PLOTLYENV.BASE_URL='https://plot.ly';                                    if (document.getElementById(\"9a58b8e1-3cc6-4d2b-b153-a0913dd31c65\")) {                    Plotly.newPlot(                        \"9a58b8e1-3cc6-4d2b-b153-a0913dd31c65\",                        [{\"histfunc\":\"count\",\"histnorm\":\"\",\"marker\":{\"color\":\"rgba(255, 153, 51, 1.0)\",\"line\":{\"color\":\"#4D5663\",\"width\":1.3}},\"name\":\"A\",\"nbinsx\":10,\"opacity\":0.8,\"orientation\":\"v\",\"x\":[1.7678515456907136,0.5574856580952305,-0.21363049583055474,-0.004351036570748041,1.7767003172794058,-0.9334138647986685,1.1304808417686179,0.6259673962193651,-0.32574810228326134,-0.1314461917476808,-1.026099740614713,1.4479027043794217,-0.7324036394879013,1.3638350653158162,0.39630123683757945,0.8552727269772812,0.556442238768529,-0.7228064270996896,0.22293755751174835,-1.2082858262037768,0.9335405006960275,-1.2550530627542957,0.4467812267087743,0.10029132132103305,-0.0549413599185377,-1.3333184037642272,-1.3301680594098622,-0.7769596473116724,1.0903101769330352,-0.8777530739281518,0.47434726364288193,-0.41172400734401376,1.8406953795409298,-1.1950680072719775,-1.8362013663508012,1.179099927241798,0.8161597425274931,-0.874575413587495,-1.5480799123989284,0.38698290337957475,0.23717793196131678,0.19455267577594007,-0.8356082236548912,-2.2865479585455635,0.16634216318820633,-0.46122556641627444,-2.4094331248490484,0.3792702082051058,-0.7537096573938259,-0.759773123023279,0.8266482805597588,-1.0505006686540792,-0.15248344190761204,0.33598820905109306,-0.15974082243051765,0.8298682402617803,2.048597015286573,-0.255888630503058,-0.3669703838315419,-0.7260150403276863,1.4830320669622425,1.2370722898310813,1.6086441137657619,-0.45513715595293935,0.041818858058306776,-0.8630825576383753,-0.5510868008972226,-1.7331002160136844,1.094703385652114,0.11953874990716992,-0.6683136044821177,0.34599573563462505,-0.8319700524687987,-0.558261484573633,0.5030434040002801,0.6619721971501331,0.7818169444348697,-1.0897772248158428,-0.26427788527573237,-0.872217187223391,1.076038386332144,0.46941249058773576,-1.6653597079445228,-0.9531239576661726,0.2684194351671944,1.2397589831101998,-0.007990690617178655,-1.321950623693112,0.6809604552532404,1.2779317283832747,0.14449547116258432,-0.630375829713827,1.3946080794601639,-0.40166706464735724,0.35770716033720257,0.35722053214901406,1.0364875764023738,2.1454701108264893,1.370139380136401,-0.38450430586042783],\"xaxis\":\"x\",\"yaxis\":\"y\",\"type\":\"histogram\"},{\"line\":{\"color\":\"rgba(128, 128, 128, 1.0)\",\"dash\":\"solid\",\"shape\":\"linear\",\"width\":1.3},\"marker\":{\"size\":2,\"symbol\":\"circle\"},\"mode\":\"markers\",\"name\":\"A\",\"text\":\"\",\"x\":[-0.5044942157545312,0.9888079420118232,2.9620680407643136,-0.8789960931170367,-0.5961772819016423,0.967688669792416,-0.30943339838483885,-0.964594537403104,-0.836742028077735,0.6837214282723483,2.1148598036106416,1.333928221051847,-0.15938807086833995,-0.4894942830770963,-0.37006575779613216,1.1026545609048777,0.5630207275529113,-1.4192173368675955,-0.5480468910450349,2.8716050981906327,1.2435943906567244,0.37357369531247503,0.37506127823100743,1.6049709934739458,-0.47270842030216825,0.5239023663911087,0.062033033799205,0.08291640751423532,-0.5829462865942209,1.4983306749026488,-1.0408969676787778,-2.1629858241103914,1.6422521446910348,-0.15868897935445367,0.37357393201209904,0.2274780237281322,-0.15852313872673549,-0.4722233032766944,1.0380141282313096,1.4264846036211958,0.07827925875641766,-0.545800770626657,0.9845828289203694,1.3195592923527997,0.5490608948134178,-0.1415638073954051,-0.6516249038568959,-0.7395594895353859,-0.6412458750835105,-0.25840521061978156,1.118167889564803,-2.280860698263176,-0.8401468839715613,-0.04322526654247106,-0.07284643005540295,0.04391872945696018,-2.3001339080663836,1.0646541570241572,-2.251336395475597,-1.3468068532341253,-0.3207741538563641,0.6305921908091108,-0.24008228934501483,-0.0022307686225104062,1.3895549980239637,0.34777396370618113,-2.0785013494076794,-1.6486984731387868,0.8857283314402425,0.6833531331085659,0.12459556402099713,0.0831977004120792,1.672604351977852,0.14773585534981465,-0.7217092256636978,0.051001802110237714,-0.8384015454027037,0.6731042370435385,0.17304838753909765,-0.8232932608854376,0.767028815641581,-1.8104429941045004,1.8282580189982574,-0.523451238059469,1.8537992937385805,-0.3061469383127988,-0.06149910457886894,-0.2661031019289138,0.5949325643958282,-0.7758866651392171,0.5112661409862509,-1.271072249577671,0.7483241333480513,1.789665739230297,-0.505722738272695,1.3412466063005661,1.2191913846284896,-0.0580815975615273,-0.5507407904374377,1.5898268484313995],\"xaxis\":\"x2\",\"y\":[1.7678515456907136,0.5574856580952305,-0.21363049583055474,-0.004351036570748041,1.7767003172794058,-0.9334138647986685,1.1304808417686179,0.6259673962193651,-0.32574810228326134,-0.1314461917476808,-1.026099740614713,1.4479027043794217,-0.7324036394879013,1.3638350653158162,0.39630123683757945,0.8552727269772812,0.556442238768529,-0.7228064270996896,0.22293755751174835,-1.2082858262037768,0.9335405006960275,-1.2550530627542957,0.4467812267087743,0.10029132132103305,-0.0549413599185377,-1.3333184037642272,-1.3301680594098622,-0.7769596473116724,1.0903101769330352,-0.8777530739281518,0.47434726364288193,-0.41172400734401376,1.8406953795409298,-1.1950680072719775,-1.8362013663508012,1.179099927241798,0.8161597425274931,-0.874575413587495,-1.5480799123989284,0.38698290337957475,0.23717793196131678,0.19455267577594007,-0.8356082236548912,-2.2865479585455635,0.16634216318820633,-0.46122556641627444,-2.4094331248490484,0.3792702082051058,-0.7537096573938259,-0.759773123023279,0.8266482805597588,-1.0505006686540792,-0.15248344190761204,0.33598820905109306,-0.15974082243051765,0.8298682402617803,2.048597015286573,-0.255888630503058,-0.3669703838315419,-0.7260150403276863,1.4830320669622425,1.2370722898310813,1.6086441137657619,-0.45513715595293935,0.041818858058306776,-0.8630825576383753,-0.5510868008972226,-1.7331002160136844,1.094703385652114,0.11953874990716992,-0.6683136044821177,0.34599573563462505,-0.8319700524687987,-0.558261484573633,0.5030434040002801,0.6619721971501331,0.7818169444348697,-1.0897772248158428,-0.26427788527573237,-0.872217187223391,1.076038386332144,0.46941249058773576,-1.6653597079445228,-0.9531239576661726,0.2684194351671944,1.2397589831101998,-0.007990690617178655,-1.321950623693112,0.6809604552532404,1.2779317283832747,0.14449547116258432,-0.630375829713827,1.3946080794601639,-0.40166706464735724,0.35770716033720257,0.35722053214901406,1.0364875764023738,2.1454701108264893,1.370139380136401,-0.38450430586042783],\"yaxis\":\"y2\",\"type\":\"scatter\"},{\"line\":{\"color\":\"rgba(128, 128, 128, 1.0)\",\"dash\":\"solid\",\"shape\":\"linear\",\"width\":1.3},\"marker\":{\"size\":2,\"symbol\":\"circle\"},\"mode\":\"markers\",\"name\":\"A\",\"text\":\"\",\"x\":[-1.8201913265527303,-0.40533667730108597,-0.5061076449396962,1.1922140171784994,-1.2878651814078301,-2.0875667102001847,1.1359161025340003,-0.07975348897386565,0.16056033389825844,1.124722959228828,-1.0760705960481889,-0.35840908773828994,-0.5897085324218448,-1.071805416413214,-0.24467585713609044,2.8619182220963615,0.8179447485176887,-0.3651639599408454,-1.0514172947895792,-0.16632879081565502,-0.5023105357432766,0.18625466177531907,-0.5574087678371401,1.0376706639357471,1.9600750938572835,-0.7639352725337002,0.5124698963807007,-1.5474971910101507,1.0002078982538647,-0.4377919098125437,1.1031060605395542,0.25535981415649517,-0.3450852736055648,-0.04624154453733395,2.6362020496022502,1.8598141682965104,-1.1681490739797136,1.5173724333426744,-1.1761600730174717,0.2930700147541619,0.8101058165963707,1.146014689165013,-0.10325377444181959,1.427681493888483,0.5939532894371914,-0.39797266930198444,0.7802618393107127,1.9176420222448844,0.2553039738011546,-0.9482009983103359,1.0107156853545773,-0.8678369478973159,0.3013044983436712,-0.4969682271595119,1.1151305873477453,-1.2684445322396838,-0.2077278129483146,1.113546960150091,0.9867481245160042,-0.4108178571402074,1.3766331259618554,-0.9821344822529295,0.9083785275769809,0.9815542389492546,0.25954666052048203,1.6879036846709607,0.7895361058172605,-0.6078635133113303,-0.6585305793683645,-0.3676584629527762,0.0640337758872838,0.6950945220389215,1.5891689293580147,-0.573163488272661,-0.6411353780052226,-0.3384456214766705,1.2132745960403493,1.52160619121688,1.5392895620341296,0.6257515304283414,-0.694037425090867,-2.2471218993382442,0.7538425419802119,0.34809140715926845,0.257122267442059,-0.19685369095482094,2.247026153566917,-0.18492413238763644,-0.01643540424867496,1.5499300592918965,0.578737740126321,0.5766895078694938,2.313794112427557,-0.666123322046375,-0.1825573582237236,-0.32486405815227387,-0.082325109079772,0.28171512469617954,1.1597411614141633,-0.6075210002772761],\"xaxis\":\"x3\",\"y\":[1.7678515456907136,0.5574856580952305,-0.21363049583055474,-0.004351036570748041,1.7767003172794058,-0.9334138647986685,1.1304808417686179,0.6259673962193651,-0.32574810228326134,-0.1314461917476808,-1.026099740614713,1.4479027043794217,-0.7324036394879013,1.3638350653158162,0.39630123683757945,0.8552727269772812,0.556442238768529,-0.7228064270996896,0.22293755751174835,-1.2082858262037768,0.9335405006960275,-1.2550530627542957,0.4467812267087743,0.10029132132103305,-0.0549413599185377,-1.3333184037642272,-1.3301680594098622,-0.7769596473116724,1.0903101769330352,-0.8777530739281518,0.47434726364288193,-0.41172400734401376,1.8406953795409298,-1.1950680072719775,-1.8362013663508012,1.179099927241798,0.8161597425274931,-0.874575413587495,-1.5480799123989284,0.38698290337957475,0.23717793196131678,0.19455267577594007,-0.8356082236548912,-2.2865479585455635,0.16634216318820633,-0.46122556641627444,-2.4094331248490484,0.3792702082051058,-0.7537096573938259,-0.759773123023279,0.8266482805597588,-1.0505006686540792,-0.15248344190761204,0.33598820905109306,-0.15974082243051765,0.8298682402617803,2.048597015286573,-0.255888630503058,-0.3669703838315419,-0.7260150403276863,1.4830320669622425,1.2370722898310813,1.6086441137657619,-0.45513715595293935,0.041818858058306776,-0.8630825576383753,-0.5510868008972226,-1.7331002160136844,1.094703385652114,0.11953874990716992,-0.6683136044821177,0.34599573563462505,-0.8319700524687987,-0.558261484573633,0.5030434040002801,0.6619721971501331,0.7818169444348697,-1.0897772248158428,-0.26427788527573237,-0.872217187223391,1.076038386332144,0.46941249058773576,-1.6653597079445228,-0.9531239576661726,0.2684194351671944,1.2397589831101998,-0.007990690617178655,-1.321950623693112,0.6809604552532404,1.2779317283832747,0.14449547116258432,-0.630375829713827,1.3946080794601639,-0.40166706464735724,0.35770716033720257,0.35722053214901406,1.0364875764023738,2.1454701108264893,1.370139380136401,-0.38450430586042783],\"yaxis\":\"y3\",\"type\":\"scatter\"},{\"line\":{\"color\":\"rgba(128, 128, 128, 1.0)\",\"dash\":\"solid\",\"shape\":\"linear\",\"width\":1.3},\"marker\":{\"size\":2,\"symbol\":\"circle\"},\"mode\":\"markers\",\"name\":\"A\",\"text\":\"\",\"x\":[-1.180735303630515,2.335222326905726,-1.6197574589979549,0.9028352023676829,1.6109261896790363,-0.7961454704693716,0.3720448301600562,-1.4434434807718641,-0.6119063991100594,1.8420214774973167,0.2520229457394457,0.05093447600310471,0.5446210490174672,-0.4402609818646418,-0.390977953514869,-0.07840859523009465,-0.1267926849131856,-3.374361649058948,-0.18009363328860958,3.4528280213098403,-0.2986607028736644,1.0956666525430585,-1.7863405706919313,1.3677989006774434,0.4354441364465162,0.13088701411783146,0.1553950897623964,-0.4925785624969984,0.32268461453856545,-1.700840271270966,0.6440602978278147,-0.2251600590361294,-0.16032895915867906,-0.3852025321126944,1.6145178668064544,-0.04137131604823876,-0.9749076248226239,1.3836699813550444,0.8982537349204344,0.9217283064844051,0.23625462017860271,-1.2122103871137158,-1.9927141415606817,-0.2959547598126391,-0.33372442818102865,-0.22056490650846694,0.7465644743865075,0.09987623381112562,-0.9376320317104025,0.20306725021030386,1.255015262344124,-0.028365486899400074,-1.1122577591505516,-0.0051746142853209675,-0.2256665884980495,2.7815061171333353,-0.2611876402833877,0.08549569945518426,-0.49291144393175046,-0.876468729067364,0.8108862452786229,-1.8687400730347454,0.5657560477398444,-0.21029389114024946,2.3890021587185006,0.8226474743506555,0.3565281349567872,-0.23326713943671804,0.0025591348298659527,-0.7397088567552248,-1.8554173584409612,-0.32550837085617157,0.28839964830935866,-0.7798617164656289,-0.7109761540827182,-0.7172440074028394,-0.6593860057595722,0.7333444107886511,0.5870183475529771,-1.9540870348563026,-0.1383639409908132,-1.3944854052375002,-0.3903337256465239,0.7562793578027802,-0.6870352789240671,0.8425270198944845,0.7148044492940651,-1.647037104244215,-0.8649562384137423,-0.7176125971028547,-0.681051744075285,1.1642499810546263,0.7491116092930705,1.3835618619707477,-0.10914937540931671,-1.7197130124431566,-0.07655706701279717,0.39764205850156625,-0.4120653423092205,0.7072388863918091],\"xaxis\":\"x4\",\"y\":[1.7678515456907136,0.5574856580952305,-0.21363049583055474,-0.004351036570748041,1.7767003172794058,-0.9334138647986685,1.1304808417686179,0.6259673962193651,-0.32574810228326134,-0.1314461917476808,-1.026099740614713,1.4479027043794217,-0.7324036394879013,1.3638350653158162,0.39630123683757945,0.8552727269772812,0.556442238768529,-0.7228064270996896,0.22293755751174835,-1.2082858262037768,0.9335405006960275,-1.2550530627542957,0.4467812267087743,0.10029132132103305,-0.0549413599185377,-1.3333184037642272,-1.3301680594098622,-0.7769596473116724,1.0903101769330352,-0.8777530739281518,0.47434726364288193,-0.41172400734401376,1.8406953795409298,-1.1950680072719775,-1.8362013663508012,1.179099927241798,0.8161597425274931,-0.874575413587495,-1.5480799123989284,0.38698290337957475,0.23717793196131678,0.19455267577594007,-0.8356082236548912,-2.2865479585455635,0.16634216318820633,-0.46122556641627444,-2.4094331248490484,0.3792702082051058,-0.7537096573938259,-0.759773123023279,0.8266482805597588,-1.0505006686540792,-0.15248344190761204,0.33598820905109306,-0.15974082243051765,0.8298682402617803,2.048597015286573,-0.255888630503058,-0.3669703838315419,-0.7260150403276863,1.4830320669622425,1.2370722898310813,1.6086441137657619,-0.45513715595293935,0.041818858058306776,-0.8630825576383753,-0.5510868008972226,-1.7331002160136844,1.094703385652114,0.11953874990716992,-0.6683136044821177,0.34599573563462505,-0.8319700524687987,-0.558261484573633,0.5030434040002801,0.6619721971501331,0.7818169444348697,-1.0897772248158428,-0.26427788527573237,-0.872217187223391,1.076038386332144,0.46941249058773576,-1.6653597079445228,-0.9531239576661726,0.2684194351671944,1.2397589831101998,-0.007990690617178655,-1.321950623693112,0.6809604552532404,1.2779317283832747,0.14449547116258432,-0.630375829713827,1.3946080794601639,-0.40166706464735724,0.35770716033720257,0.35722053214901406,1.0364875764023738,2.1454701108264893,1.370139380136401,-0.38450430586042783],\"yaxis\":\"y4\",\"type\":\"scatter\"},{\"line\":{\"color\":\"rgba(128, 128, 128, 1.0)\",\"dash\":\"solid\",\"shape\":\"linear\",\"width\":1.3},\"marker\":{\"size\":2,\"symbol\":\"circle\"},\"mode\":\"markers\",\"name\":\"B\",\"text\":\"\",\"x\":[1.7678515456907136,0.5574856580952305,-0.21363049583055474,-0.004351036570748041,1.7767003172794058,-0.9334138647986685,1.1304808417686179,0.6259673962193651,-0.32574810228326134,-0.1314461917476808,-1.026099740614713,1.4479027043794217,-0.7324036394879013,1.3638350653158162,0.39630123683757945,0.8552727269772812,0.556442238768529,-0.7228064270996896,0.22293755751174835,-1.2082858262037768,0.9335405006960275,-1.2550530627542957,0.4467812267087743,0.10029132132103305,-0.0549413599185377,-1.3333184037642272,-1.3301680594098622,-0.7769596473116724,1.0903101769330352,-0.8777530739281518,0.47434726364288193,-0.41172400734401376,1.8406953795409298,-1.1950680072719775,-1.8362013663508012,1.179099927241798,0.8161597425274931,-0.874575413587495,-1.5480799123989284,0.38698290337957475,0.23717793196131678,0.19455267577594007,-0.8356082236548912,-2.2865479585455635,0.16634216318820633,-0.46122556641627444,-2.4094331248490484,0.3792702082051058,-0.7537096573938259,-0.759773123023279,0.8266482805597588,-1.0505006686540792,-0.15248344190761204,0.33598820905109306,-0.15974082243051765,0.8298682402617803,2.048597015286573,-0.255888630503058,-0.3669703838315419,-0.7260150403276863,1.4830320669622425,1.2370722898310813,1.6086441137657619,-0.45513715595293935,0.041818858058306776,-0.8630825576383753,-0.5510868008972226,-1.7331002160136844,1.094703385652114,0.11953874990716992,-0.6683136044821177,0.34599573563462505,-0.8319700524687987,-0.558261484573633,0.5030434040002801,0.6619721971501331,0.7818169444348697,-1.0897772248158428,-0.26427788527573237,-0.872217187223391,1.076038386332144,0.46941249058773576,-1.6653597079445228,-0.9531239576661726,0.2684194351671944,1.2397589831101998,-0.007990690617178655,-1.321950623693112,0.6809604552532404,1.2779317283832747,0.14449547116258432,-0.630375829713827,1.3946080794601639,-0.40166706464735724,0.35770716033720257,0.35722053214901406,1.0364875764023738,2.1454701108264893,1.370139380136401,-0.38450430586042783],\"xaxis\":\"x5\",\"y\":[-0.5044942157545312,0.9888079420118232,2.9620680407643136,-0.8789960931170367,-0.5961772819016423,0.967688669792416,-0.30943339838483885,-0.964594537403104,-0.836742028077735,0.6837214282723483,2.1148598036106416,1.333928221051847,-0.15938807086833995,-0.4894942830770963,-0.37006575779613216,1.1026545609048777,0.5630207275529113,-1.4192173368675955,-0.5480468910450349,2.8716050981906327,1.2435943906567244,0.37357369531247503,0.37506127823100743,1.6049709934739458,-0.47270842030216825,0.5239023663911087,0.062033033799205,0.08291640751423532,-0.5829462865942209,1.4983306749026488,-1.0408969676787778,-2.1629858241103914,1.6422521446910348,-0.15868897935445367,0.37357393201209904,0.2274780237281322,-0.15852313872673549,-0.4722233032766944,1.0380141282313096,1.4264846036211958,0.07827925875641766,-0.545800770626657,0.9845828289203694,1.3195592923527997,0.5490608948134178,-0.1415638073954051,-0.6516249038568959,-0.7395594895353859,-0.6412458750835105,-0.25840521061978156,1.118167889564803,-2.280860698263176,-0.8401468839715613,-0.04322526654247106,-0.07284643005540295,0.04391872945696018,-2.3001339080663836,1.0646541570241572,-2.251336395475597,-1.3468068532341253,-0.3207741538563641,0.6305921908091108,-0.24008228934501483,-0.0022307686225104062,1.3895549980239637,0.34777396370618113,-2.0785013494076794,-1.6486984731387868,0.8857283314402425,0.6833531331085659,0.12459556402099713,0.0831977004120792,1.672604351977852,0.14773585534981465,-0.7217092256636978,0.051001802110237714,-0.8384015454027037,0.6731042370435385,0.17304838753909765,-0.8232932608854376,0.767028815641581,-1.8104429941045004,1.8282580189982574,-0.523451238059469,1.8537992937385805,-0.3061469383127988,-0.06149910457886894,-0.2661031019289138,0.5949325643958282,-0.7758866651392171,0.5112661409862509,-1.271072249577671,0.7483241333480513,1.789665739230297,-0.505722738272695,1.3412466063005661,1.2191913846284896,-0.0580815975615273,-0.5507407904374377,1.5898268484313995],\"yaxis\":\"y5\",\"type\":\"scatter\"},{\"histfunc\":\"count\",\"histnorm\":\"\",\"marker\":{\"color\":\"rgba(55, 128, 191, 1.0)\",\"line\":{\"color\":\"#4D5663\",\"width\":1.3}},\"name\":\"B\",\"nbinsx\":10,\"opacity\":0.8,\"orientation\":\"v\",\"x\":[-0.5044942157545312,0.9888079420118232,2.9620680407643136,-0.8789960931170367,-0.5961772819016423,0.967688669792416,-0.30943339838483885,-0.964594537403104,-0.836742028077735,0.6837214282723483,2.1148598036106416,1.333928221051847,-0.15938807086833995,-0.4894942830770963,-0.37006575779613216,1.1026545609048777,0.5630207275529113,-1.4192173368675955,-0.5480468910450349,2.8716050981906327,1.2435943906567244,0.37357369531247503,0.37506127823100743,1.6049709934739458,-0.47270842030216825,0.5239023663911087,0.062033033799205,0.08291640751423532,-0.5829462865942209,1.4983306749026488,-1.0408969676787778,-2.1629858241103914,1.6422521446910348,-0.15868897935445367,0.37357393201209904,0.2274780237281322,-0.15852313872673549,-0.4722233032766944,1.0380141282313096,1.4264846036211958,0.07827925875641766,-0.545800770626657,0.9845828289203694,1.3195592923527997,0.5490608948134178,-0.1415638073954051,-0.6516249038568959,-0.7395594895353859,-0.6412458750835105,-0.25840521061978156,1.118167889564803,-2.280860698263176,-0.8401468839715613,-0.04322526654247106,-0.07284643005540295,0.04391872945696018,-2.3001339080663836,1.0646541570241572,-2.251336395475597,-1.3468068532341253,-0.3207741538563641,0.6305921908091108,-0.24008228934501483,-0.0022307686225104062,1.3895549980239637,0.34777396370618113,-2.0785013494076794,-1.6486984731387868,0.8857283314402425,0.6833531331085659,0.12459556402099713,0.0831977004120792,1.672604351977852,0.14773585534981465,-0.7217092256636978,0.051001802110237714,-0.8384015454027037,0.6731042370435385,0.17304838753909765,-0.8232932608854376,0.767028815641581,-1.8104429941045004,1.8282580189982574,-0.523451238059469,1.8537992937385805,-0.3061469383127988,-0.06149910457886894,-0.2661031019289138,0.5949325643958282,-0.7758866651392171,0.5112661409862509,-1.271072249577671,0.7483241333480513,1.789665739230297,-0.505722738272695,1.3412466063005661,1.2191913846284896,-0.0580815975615273,-0.5507407904374377,1.5898268484313995],\"xaxis\":\"x6\",\"yaxis\":\"y6\",\"type\":\"histogram\"},{\"line\":{\"color\":\"rgba(128, 128, 128, 1.0)\",\"dash\":\"solid\",\"shape\":\"linear\",\"width\":1.3},\"marker\":{\"size\":2,\"symbol\":\"circle\"},\"mode\":\"markers\",\"name\":\"B\",\"text\":\"\",\"x\":[-1.8201913265527303,-0.40533667730108597,-0.5061076449396962,1.1922140171784994,-1.2878651814078301,-2.0875667102001847,1.1359161025340003,-0.07975348897386565,0.16056033389825844,1.124722959228828,-1.0760705960481889,-0.35840908773828994,-0.5897085324218448,-1.071805416413214,-0.24467585713609044,2.8619182220963615,0.8179447485176887,-0.3651639599408454,-1.0514172947895792,-0.16632879081565502,-0.5023105357432766,0.18625466177531907,-0.5574087678371401,1.0376706639357471,1.9600750938572835,-0.7639352725337002,0.5124698963807007,-1.5474971910101507,1.0002078982538647,-0.4377919098125437,1.1031060605395542,0.25535981415649517,-0.3450852736055648,-0.04624154453733395,2.6362020496022502,1.8598141682965104,-1.1681490739797136,1.5173724333426744,-1.1761600730174717,0.2930700147541619,0.8101058165963707,1.146014689165013,-0.10325377444181959,1.427681493888483,0.5939532894371914,-0.39797266930198444,0.7802618393107127,1.9176420222448844,0.2553039738011546,-0.9482009983103359,1.0107156853545773,-0.8678369478973159,0.3013044983436712,-0.4969682271595119,1.1151305873477453,-1.2684445322396838,-0.2077278129483146,1.113546960150091,0.9867481245160042,-0.4108178571402074,1.3766331259618554,-0.9821344822529295,0.9083785275769809,0.9815542389492546,0.25954666052048203,1.6879036846709607,0.7895361058172605,-0.6078635133113303,-0.6585305793683645,-0.3676584629527762,0.0640337758872838,0.6950945220389215,1.5891689293580147,-0.573163488272661,-0.6411353780052226,-0.3384456214766705,1.2132745960403493,1.52160619121688,1.5392895620341296,0.6257515304283414,-0.694037425090867,-2.2471218993382442,0.7538425419802119,0.34809140715926845,0.257122267442059,-0.19685369095482094,2.247026153566917,-0.18492413238763644,-0.01643540424867496,1.5499300592918965,0.578737740126321,0.5766895078694938,2.313794112427557,-0.666123322046375,-0.1825573582237236,-0.32486405815227387,-0.082325109079772,0.28171512469617954,1.1597411614141633,-0.6075210002772761],\"xaxis\":\"x7\",\"y\":[-0.5044942157545312,0.9888079420118232,2.9620680407643136,-0.8789960931170367,-0.5961772819016423,0.967688669792416,-0.30943339838483885,-0.964594537403104,-0.836742028077735,0.6837214282723483,2.1148598036106416,1.333928221051847,-0.15938807086833995,-0.4894942830770963,-0.37006575779613216,1.1026545609048777,0.5630207275529113,-1.4192173368675955,-0.5480468910450349,2.8716050981906327,1.2435943906567244,0.37357369531247503,0.37506127823100743,1.6049709934739458,-0.47270842030216825,0.5239023663911087,0.062033033799205,0.08291640751423532,-0.5829462865942209,1.4983306749026488,-1.0408969676787778,-2.1629858241103914,1.6422521446910348,-0.15868897935445367,0.37357393201209904,0.2274780237281322,-0.15852313872673549,-0.4722233032766944,1.0380141282313096,1.4264846036211958,0.07827925875641766,-0.545800770626657,0.9845828289203694,1.3195592923527997,0.5490608948134178,-0.1415638073954051,-0.6516249038568959,-0.7395594895353859,-0.6412458750835105,-0.25840521061978156,1.118167889564803,-2.280860698263176,-0.8401468839715613,-0.04322526654247106,-0.07284643005540295,0.04391872945696018,-2.3001339080663836,1.0646541570241572,-2.251336395475597,-1.3468068532341253,-0.3207741538563641,0.6305921908091108,-0.24008228934501483,-0.0022307686225104062,1.3895549980239637,0.34777396370618113,-2.0785013494076794,-1.6486984731387868,0.8857283314402425,0.6833531331085659,0.12459556402099713,0.0831977004120792,1.672604351977852,0.14773585534981465,-0.7217092256636978,0.051001802110237714,-0.8384015454027037,0.6731042370435385,0.17304838753909765,-0.8232932608854376,0.767028815641581,-1.8104429941045004,1.8282580189982574,-0.523451238059469,1.8537992937385805,-0.3061469383127988,-0.06149910457886894,-0.2661031019289138,0.5949325643958282,-0.7758866651392171,0.5112661409862509,-1.271072249577671,0.7483241333480513,1.789665739230297,-0.505722738272695,1.3412466063005661,1.2191913846284896,-0.0580815975615273,-0.5507407904374377,1.5898268484313995],\"yaxis\":\"y7\",\"type\":\"scatter\"},{\"line\":{\"color\":\"rgba(128, 128, 128, 1.0)\",\"dash\":\"solid\",\"shape\":\"linear\",\"width\":1.3},\"marker\":{\"size\":2,\"symbol\":\"circle\"},\"mode\":\"markers\",\"name\":\"B\",\"text\":\"\",\"x\":[-1.180735303630515,2.335222326905726,-1.6197574589979549,0.9028352023676829,1.6109261896790363,-0.7961454704693716,0.3720448301600562,-1.4434434807718641,-0.6119063991100594,1.8420214774973167,0.2520229457394457,0.05093447600310471,0.5446210490174672,-0.4402609818646418,-0.390977953514869,-0.07840859523009465,-0.1267926849131856,-3.374361649058948,-0.18009363328860958,3.4528280213098403,-0.2986607028736644,1.0956666525430585,-1.7863405706919313,1.3677989006774434,0.4354441364465162,0.13088701411783146,0.1553950897623964,-0.4925785624969984,0.32268461453856545,-1.700840271270966,0.6440602978278147,-0.2251600590361294,-0.16032895915867906,-0.3852025321126944,1.6145178668064544,-0.04137131604823876,-0.9749076248226239,1.3836699813550444,0.8982537349204344,0.9217283064844051,0.23625462017860271,-1.2122103871137158,-1.9927141415606817,-0.2959547598126391,-0.33372442818102865,-0.22056490650846694,0.7465644743865075,0.09987623381112562,-0.9376320317104025,0.20306725021030386,1.255015262344124,-0.028365486899400074,-1.1122577591505516,-0.0051746142853209675,-0.2256665884980495,2.7815061171333353,-0.2611876402833877,0.08549569945518426,-0.49291144393175046,-0.876468729067364,0.8108862452786229,-1.8687400730347454,0.5657560477398444,-0.21029389114024946,2.3890021587185006,0.8226474743506555,0.3565281349567872,-0.23326713943671804,0.0025591348298659527,-0.7397088567552248,-1.8554173584409612,-0.32550837085617157,0.28839964830935866,-0.7798617164656289,-0.7109761540827182,-0.7172440074028394,-0.6593860057595722,0.7333444107886511,0.5870183475529771,-1.9540870348563026,-0.1383639409908132,-1.3944854052375002,-0.3903337256465239,0.7562793578027802,-0.6870352789240671,0.8425270198944845,0.7148044492940651,-1.647037104244215,-0.8649562384137423,-0.7176125971028547,-0.681051744075285,1.1642499810546263,0.7491116092930705,1.3835618619707477,-0.10914937540931671,-1.7197130124431566,-0.07655706701279717,0.39764205850156625,-0.4120653423092205,0.7072388863918091],\"xaxis\":\"x8\",\"y\":[-0.5044942157545312,0.9888079420118232,2.9620680407643136,-0.8789960931170367,-0.5961772819016423,0.967688669792416,-0.30943339838483885,-0.964594537403104,-0.836742028077735,0.6837214282723483,2.1148598036106416,1.333928221051847,-0.15938807086833995,-0.4894942830770963,-0.37006575779613216,1.1026545609048777,0.5630207275529113,-1.4192173368675955,-0.5480468910450349,2.8716050981906327,1.2435943906567244,0.37357369531247503,0.37506127823100743,1.6049709934739458,-0.47270842030216825,0.5239023663911087,0.062033033799205,0.08291640751423532,-0.5829462865942209,1.4983306749026488,-1.0408969676787778,-2.1629858241103914,1.6422521446910348,-0.15868897935445367,0.37357393201209904,0.2274780237281322,-0.15852313872673549,-0.4722233032766944,1.0380141282313096,1.4264846036211958,0.07827925875641766,-0.545800770626657,0.9845828289203694,1.3195592923527997,0.5490608948134178,-0.1415638073954051,-0.6516249038568959,-0.7395594895353859,-0.6412458750835105,-0.25840521061978156,1.118167889564803,-2.280860698263176,-0.8401468839715613,-0.04322526654247106,-0.07284643005540295,0.04391872945696018,-2.3001339080663836,1.0646541570241572,-2.251336395475597,-1.3468068532341253,-0.3207741538563641,0.6305921908091108,-0.24008228934501483,-0.0022307686225104062,1.3895549980239637,0.34777396370618113,-2.0785013494076794,-1.6486984731387868,0.8857283314402425,0.6833531331085659,0.12459556402099713,0.0831977004120792,1.672604351977852,0.14773585534981465,-0.7217092256636978,0.051001802110237714,-0.8384015454027037,0.6731042370435385,0.17304838753909765,-0.8232932608854376,0.767028815641581,-1.8104429941045004,1.8282580189982574,-0.523451238059469,1.8537992937385805,-0.3061469383127988,-0.06149910457886894,-0.2661031019289138,0.5949325643958282,-0.7758866651392171,0.5112661409862509,-1.271072249577671,0.7483241333480513,1.789665739230297,-0.505722738272695,1.3412466063005661,1.2191913846284896,-0.0580815975615273,-0.5507407904374377,1.5898268484313995],\"yaxis\":\"y8\",\"type\":\"scatter\"},{\"line\":{\"color\":\"rgba(128, 128, 128, 1.0)\",\"dash\":\"solid\",\"shape\":\"linear\",\"width\":1.3},\"marker\":{\"size\":2,\"symbol\":\"circle\"},\"mode\":\"markers\",\"name\":\"C\",\"text\":\"\",\"x\":[1.7678515456907136,0.5574856580952305,-0.21363049583055474,-0.004351036570748041,1.7767003172794058,-0.9334138647986685,1.1304808417686179,0.6259673962193651,-0.32574810228326134,-0.1314461917476808,-1.026099740614713,1.4479027043794217,-0.7324036394879013,1.3638350653158162,0.39630123683757945,0.8552727269772812,0.556442238768529,-0.7228064270996896,0.22293755751174835,-1.2082858262037768,0.9335405006960275,-1.2550530627542957,0.4467812267087743,0.10029132132103305,-0.0549413599185377,-1.3333184037642272,-1.3301680594098622,-0.7769596473116724,1.0903101769330352,-0.8777530739281518,0.47434726364288193,-0.41172400734401376,1.8406953795409298,-1.1950680072719775,-1.8362013663508012,1.179099927241798,0.8161597425274931,-0.874575413587495,-1.5480799123989284,0.38698290337957475,0.23717793196131678,0.19455267577594007,-0.8356082236548912,-2.2865479585455635,0.16634216318820633,-0.46122556641627444,-2.4094331248490484,0.3792702082051058,-0.7537096573938259,-0.759773123023279,0.8266482805597588,-1.0505006686540792,-0.15248344190761204,0.33598820905109306,-0.15974082243051765,0.8298682402617803,2.048597015286573,-0.255888630503058,-0.3669703838315419,-0.7260150403276863,1.4830320669622425,1.2370722898310813,1.6086441137657619,-0.45513715595293935,0.041818858058306776,-0.8630825576383753,-0.5510868008972226,-1.7331002160136844,1.094703385652114,0.11953874990716992,-0.6683136044821177,0.34599573563462505,-0.8319700524687987,-0.558261484573633,0.5030434040002801,0.6619721971501331,0.7818169444348697,-1.0897772248158428,-0.26427788527573237,-0.872217187223391,1.076038386332144,0.46941249058773576,-1.6653597079445228,-0.9531239576661726,0.2684194351671944,1.2397589831101998,-0.007990690617178655,-1.321950623693112,0.6809604552532404,1.2779317283832747,0.14449547116258432,-0.630375829713827,1.3946080794601639,-0.40166706464735724,0.35770716033720257,0.35722053214901406,1.0364875764023738,2.1454701108264893,1.370139380136401,-0.38450430586042783],\"xaxis\":\"x9\",\"y\":[-1.8201913265527303,-0.40533667730108597,-0.5061076449396962,1.1922140171784994,-1.2878651814078301,-2.0875667102001847,1.1359161025340003,-0.07975348897386565,0.16056033389825844,1.124722959228828,-1.0760705960481889,-0.35840908773828994,-0.5897085324218448,-1.071805416413214,-0.24467585713609044,2.8619182220963615,0.8179447485176887,-0.3651639599408454,-1.0514172947895792,-0.16632879081565502,-0.5023105357432766,0.18625466177531907,-0.5574087678371401,1.0376706639357471,1.9600750938572835,-0.7639352725337002,0.5124698963807007,-1.5474971910101507,1.0002078982538647,-0.4377919098125437,1.1031060605395542,0.25535981415649517,-0.3450852736055648,-0.04624154453733395,2.6362020496022502,1.8598141682965104,-1.1681490739797136,1.5173724333426744,-1.1761600730174717,0.2930700147541619,0.8101058165963707,1.146014689165013,-0.10325377444181959,1.427681493888483,0.5939532894371914,-0.39797266930198444,0.7802618393107127,1.9176420222448844,0.2553039738011546,-0.9482009983103359,1.0107156853545773,-0.8678369478973159,0.3013044983436712,-0.4969682271595119,1.1151305873477453,-1.2684445322396838,-0.2077278129483146,1.113546960150091,0.9867481245160042,-0.4108178571402074,1.3766331259618554,-0.9821344822529295,0.9083785275769809,0.9815542389492546,0.25954666052048203,1.6879036846709607,0.7895361058172605,-0.6078635133113303,-0.6585305793683645,-0.3676584629527762,0.0640337758872838,0.6950945220389215,1.5891689293580147,-0.573163488272661,-0.6411353780052226,-0.3384456214766705,1.2132745960403493,1.52160619121688,1.5392895620341296,0.6257515304283414,-0.694037425090867,-2.2471218993382442,0.7538425419802119,0.34809140715926845,0.257122267442059,-0.19685369095482094,2.247026153566917,-0.18492413238763644,-0.01643540424867496,1.5499300592918965,0.578737740126321,0.5766895078694938,2.313794112427557,-0.666123322046375,-0.1825573582237236,-0.32486405815227387,-0.082325109079772,0.28171512469617954,1.1597411614141633,-0.6075210002772761],\"yaxis\":\"y9\",\"type\":\"scatter\"},{\"line\":{\"color\":\"rgba(128, 128, 128, 1.0)\",\"dash\":\"solid\",\"shape\":\"linear\",\"width\":1.3},\"marker\":{\"size\":2,\"symbol\":\"circle\"},\"mode\":\"markers\",\"name\":\"C\",\"text\":\"\",\"x\":[-0.5044942157545312,0.9888079420118232,2.9620680407643136,-0.8789960931170367,-0.5961772819016423,0.967688669792416,-0.30943339838483885,-0.964594537403104,-0.836742028077735,0.6837214282723483,2.1148598036106416,1.333928221051847,-0.15938807086833995,-0.4894942830770963,-0.37006575779613216,1.1026545609048777,0.5630207275529113,-1.4192173368675955,-0.5480468910450349,2.8716050981906327,1.2435943906567244,0.37357369531247503,0.37506127823100743,1.6049709934739458,-0.47270842030216825,0.5239023663911087,0.062033033799205,0.08291640751423532,-0.5829462865942209,1.4983306749026488,-1.0408969676787778,-2.1629858241103914,1.6422521446910348,-0.15868897935445367,0.37357393201209904,0.2274780237281322,-0.15852313872673549,-0.4722233032766944,1.0380141282313096,1.4264846036211958,0.07827925875641766,-0.545800770626657,0.9845828289203694,1.3195592923527997,0.5490608948134178,-0.1415638073954051,-0.6516249038568959,-0.7395594895353859,-0.6412458750835105,-0.25840521061978156,1.118167889564803,-2.280860698263176,-0.8401468839715613,-0.04322526654247106,-0.07284643005540295,0.04391872945696018,-2.3001339080663836,1.0646541570241572,-2.251336395475597,-1.3468068532341253,-0.3207741538563641,0.6305921908091108,-0.24008228934501483,-0.0022307686225104062,1.3895549980239637,0.34777396370618113,-2.0785013494076794,-1.6486984731387868,0.8857283314402425,0.6833531331085659,0.12459556402099713,0.0831977004120792,1.672604351977852,0.14773585534981465,-0.7217092256636978,0.051001802110237714,-0.8384015454027037,0.6731042370435385,0.17304838753909765,-0.8232932608854376,0.767028815641581,-1.8104429941045004,1.8282580189982574,-0.523451238059469,1.8537992937385805,-0.3061469383127988,-0.06149910457886894,-0.2661031019289138,0.5949325643958282,-0.7758866651392171,0.5112661409862509,-1.271072249577671,0.7483241333480513,1.789665739230297,-0.505722738272695,1.3412466063005661,1.2191913846284896,-0.0580815975615273,-0.5507407904374377,1.5898268484313995],\"xaxis\":\"x10\",\"y\":[-1.8201913265527303,-0.40533667730108597,-0.5061076449396962,1.1922140171784994,-1.2878651814078301,-2.0875667102001847,1.1359161025340003,-0.07975348897386565,0.16056033389825844,1.124722959228828,-1.0760705960481889,-0.35840908773828994,-0.5897085324218448,-1.071805416413214,-0.24467585713609044,2.8619182220963615,0.8179447485176887,-0.3651639599408454,-1.0514172947895792,-0.16632879081565502,-0.5023105357432766,0.18625466177531907,-0.5574087678371401,1.0376706639357471,1.9600750938572835,-0.7639352725337002,0.5124698963807007,-1.5474971910101507,1.0002078982538647,-0.4377919098125437,1.1031060605395542,0.25535981415649517,-0.3450852736055648,-0.04624154453733395,2.6362020496022502,1.8598141682965104,-1.1681490739797136,1.5173724333426744,-1.1761600730174717,0.2930700147541619,0.8101058165963707,1.146014689165013,-0.10325377444181959,1.427681493888483,0.5939532894371914,-0.39797266930198444,0.7802618393107127,1.9176420222448844,0.2553039738011546,-0.9482009983103359,1.0107156853545773,-0.8678369478973159,0.3013044983436712,-0.4969682271595119,1.1151305873477453,-1.2684445322396838,-0.2077278129483146,1.113546960150091,0.9867481245160042,-0.4108178571402074,1.3766331259618554,-0.9821344822529295,0.9083785275769809,0.9815542389492546,0.25954666052048203,1.6879036846709607,0.7895361058172605,-0.6078635133113303,-0.6585305793683645,-0.3676584629527762,0.0640337758872838,0.6950945220389215,1.5891689293580147,-0.573163488272661,-0.6411353780052226,-0.3384456214766705,1.2132745960403493,1.52160619121688,1.5392895620341296,0.6257515304283414,-0.694037425090867,-2.2471218993382442,0.7538425419802119,0.34809140715926845,0.257122267442059,-0.19685369095482094,2.247026153566917,-0.18492413238763644,-0.01643540424867496,1.5499300592918965,0.578737740126321,0.5766895078694938,2.313794112427557,-0.666123322046375,-0.1825573582237236,-0.32486405815227387,-0.082325109079772,0.28171512469617954,1.1597411614141633,-0.6075210002772761],\"yaxis\":\"y10\",\"type\":\"scatter\"},{\"histfunc\":\"count\",\"histnorm\":\"\",\"marker\":{\"color\":\"rgba(50, 171, 96, 1.0)\",\"line\":{\"color\":\"#4D5663\",\"width\":1.3}},\"name\":\"C\",\"nbinsx\":10,\"opacity\":0.8,\"orientation\":\"v\",\"x\":[-1.8201913265527303,-0.40533667730108597,-0.5061076449396962,1.1922140171784994,-1.2878651814078301,-2.0875667102001847,1.1359161025340003,-0.07975348897386565,0.16056033389825844,1.124722959228828,-1.0760705960481889,-0.35840908773828994,-0.5897085324218448,-1.071805416413214,-0.24467585713609044,2.8619182220963615,0.8179447485176887,-0.3651639599408454,-1.0514172947895792,-0.16632879081565502,-0.5023105357432766,0.18625466177531907,-0.5574087678371401,1.0376706639357471,1.9600750938572835,-0.7639352725337002,0.5124698963807007,-1.5474971910101507,1.0002078982538647,-0.4377919098125437,1.1031060605395542,0.25535981415649517,-0.3450852736055648,-0.04624154453733395,2.6362020496022502,1.8598141682965104,-1.1681490739797136,1.5173724333426744,-1.1761600730174717,0.2930700147541619,0.8101058165963707,1.146014689165013,-0.10325377444181959,1.427681493888483,0.5939532894371914,-0.39797266930198444,0.7802618393107127,1.9176420222448844,0.2553039738011546,-0.9482009983103359,1.0107156853545773,-0.8678369478973159,0.3013044983436712,-0.4969682271595119,1.1151305873477453,-1.2684445322396838,-0.2077278129483146,1.113546960150091,0.9867481245160042,-0.4108178571402074,1.3766331259618554,-0.9821344822529295,0.9083785275769809,0.9815542389492546,0.25954666052048203,1.6879036846709607,0.7895361058172605,-0.6078635133113303,-0.6585305793683645,-0.3676584629527762,0.0640337758872838,0.6950945220389215,1.5891689293580147,-0.573163488272661,-0.6411353780052226,-0.3384456214766705,1.2132745960403493,1.52160619121688,1.5392895620341296,0.6257515304283414,-0.694037425090867,-2.2471218993382442,0.7538425419802119,0.34809140715926845,0.257122267442059,-0.19685369095482094,2.247026153566917,-0.18492413238763644,-0.01643540424867496,1.5499300592918965,0.578737740126321,0.5766895078694938,2.313794112427557,-0.666123322046375,-0.1825573582237236,-0.32486405815227387,-0.082325109079772,0.28171512469617954,1.1597411614141633,-0.6075210002772761],\"xaxis\":\"x11\",\"yaxis\":\"y11\",\"type\":\"histogram\"},{\"line\":{\"color\":\"rgba(128, 128, 128, 1.0)\",\"dash\":\"solid\",\"shape\":\"linear\",\"width\":1.3},\"marker\":{\"size\":2,\"symbol\":\"circle\"},\"mode\":\"markers\",\"name\":\"C\",\"text\":\"\",\"x\":[-1.180735303630515,2.335222326905726,-1.6197574589979549,0.9028352023676829,1.6109261896790363,-0.7961454704693716,0.3720448301600562,-1.4434434807718641,-0.6119063991100594,1.8420214774973167,0.2520229457394457,0.05093447600310471,0.5446210490174672,-0.4402609818646418,-0.390977953514869,-0.07840859523009465,-0.1267926849131856,-3.374361649058948,-0.18009363328860958,3.4528280213098403,-0.2986607028736644,1.0956666525430585,-1.7863405706919313,1.3677989006774434,0.4354441364465162,0.13088701411783146,0.1553950897623964,-0.4925785624969984,0.32268461453856545,-1.700840271270966,0.6440602978278147,-0.2251600590361294,-0.16032895915867906,-0.3852025321126944,1.6145178668064544,-0.04137131604823876,-0.9749076248226239,1.3836699813550444,0.8982537349204344,0.9217283064844051,0.23625462017860271,-1.2122103871137158,-1.9927141415606817,-0.2959547598126391,-0.33372442818102865,-0.22056490650846694,0.7465644743865075,0.09987623381112562,-0.9376320317104025,0.20306725021030386,1.255015262344124,-0.028365486899400074,-1.1122577591505516,-0.0051746142853209675,-0.2256665884980495,2.7815061171333353,-0.2611876402833877,0.08549569945518426,-0.49291144393175046,-0.876468729067364,0.8108862452786229,-1.8687400730347454,0.5657560477398444,-0.21029389114024946,2.3890021587185006,0.8226474743506555,0.3565281349567872,-0.23326713943671804,0.0025591348298659527,-0.7397088567552248,-1.8554173584409612,-0.32550837085617157,0.28839964830935866,-0.7798617164656289,-0.7109761540827182,-0.7172440074028394,-0.6593860057595722,0.7333444107886511,0.5870183475529771,-1.9540870348563026,-0.1383639409908132,-1.3944854052375002,-0.3903337256465239,0.7562793578027802,-0.6870352789240671,0.8425270198944845,0.7148044492940651,-1.647037104244215,-0.8649562384137423,-0.7176125971028547,-0.681051744075285,1.1642499810546263,0.7491116092930705,1.3835618619707477,-0.10914937540931671,-1.7197130124431566,-0.07655706701279717,0.39764205850156625,-0.4120653423092205,0.7072388863918091],\"xaxis\":\"x12\",\"y\":[-1.8201913265527303,-0.40533667730108597,-0.5061076449396962,1.1922140171784994,-1.2878651814078301,-2.0875667102001847,1.1359161025340003,-0.07975348897386565,0.16056033389825844,1.124722959228828,-1.0760705960481889,-0.35840908773828994,-0.5897085324218448,-1.071805416413214,-0.24467585713609044,2.8619182220963615,0.8179447485176887,-0.3651639599408454,-1.0514172947895792,-0.16632879081565502,-0.5023105357432766,0.18625466177531907,-0.5574087678371401,1.0376706639357471,1.9600750938572835,-0.7639352725337002,0.5124698963807007,-1.5474971910101507,1.0002078982538647,-0.4377919098125437,1.1031060605395542,0.25535981415649517,-0.3450852736055648,-0.04624154453733395,2.6362020496022502,1.8598141682965104,-1.1681490739797136,1.5173724333426744,-1.1761600730174717,0.2930700147541619,0.8101058165963707,1.146014689165013,-0.10325377444181959,1.427681493888483,0.5939532894371914,-0.39797266930198444,0.7802618393107127,1.9176420222448844,0.2553039738011546,-0.9482009983103359,1.0107156853545773,-0.8678369478973159,0.3013044983436712,-0.4969682271595119,1.1151305873477453,-1.2684445322396838,-0.2077278129483146,1.113546960150091,0.9867481245160042,-0.4108178571402074,1.3766331259618554,-0.9821344822529295,0.9083785275769809,0.9815542389492546,0.25954666052048203,1.6879036846709607,0.7895361058172605,-0.6078635133113303,-0.6585305793683645,-0.3676584629527762,0.0640337758872838,0.6950945220389215,1.5891689293580147,-0.573163488272661,-0.6411353780052226,-0.3384456214766705,1.2132745960403493,1.52160619121688,1.5392895620341296,0.6257515304283414,-0.694037425090867,-2.2471218993382442,0.7538425419802119,0.34809140715926845,0.257122267442059,-0.19685369095482094,2.247026153566917,-0.18492413238763644,-0.01643540424867496,1.5499300592918965,0.578737740126321,0.5766895078694938,2.313794112427557,-0.666123322046375,-0.1825573582237236,-0.32486405815227387,-0.082325109079772,0.28171512469617954,1.1597411614141633,-0.6075210002772761],\"yaxis\":\"y12\",\"type\":\"scatter\"},{\"line\":{\"color\":\"rgba(128, 128, 128, 1.0)\",\"dash\":\"solid\",\"shape\":\"linear\",\"width\":1.3},\"marker\":{\"size\":2,\"symbol\":\"circle\"},\"mode\":\"markers\",\"name\":\"D\",\"text\":\"\",\"x\":[1.7678515456907136,0.5574856580952305,-0.21363049583055474,-0.004351036570748041,1.7767003172794058,-0.9334138647986685,1.1304808417686179,0.6259673962193651,-0.32574810228326134,-0.1314461917476808,-1.026099740614713,1.4479027043794217,-0.7324036394879013,1.3638350653158162,0.39630123683757945,0.8552727269772812,0.556442238768529,-0.7228064270996896,0.22293755751174835,-1.2082858262037768,0.9335405006960275,-1.2550530627542957,0.4467812267087743,0.10029132132103305,-0.0549413599185377,-1.3333184037642272,-1.3301680594098622,-0.7769596473116724,1.0903101769330352,-0.8777530739281518,0.47434726364288193,-0.41172400734401376,1.8406953795409298,-1.1950680072719775,-1.8362013663508012,1.179099927241798,0.8161597425274931,-0.874575413587495,-1.5480799123989284,0.38698290337957475,0.23717793196131678,0.19455267577594007,-0.8356082236548912,-2.2865479585455635,0.16634216318820633,-0.46122556641627444,-2.4094331248490484,0.3792702082051058,-0.7537096573938259,-0.759773123023279,0.8266482805597588,-1.0505006686540792,-0.15248344190761204,0.33598820905109306,-0.15974082243051765,0.8298682402617803,2.048597015286573,-0.255888630503058,-0.3669703838315419,-0.7260150403276863,1.4830320669622425,1.2370722898310813,1.6086441137657619,-0.45513715595293935,0.041818858058306776,-0.8630825576383753,-0.5510868008972226,-1.7331002160136844,1.094703385652114,0.11953874990716992,-0.6683136044821177,0.34599573563462505,-0.8319700524687987,-0.558261484573633,0.5030434040002801,0.6619721971501331,0.7818169444348697,-1.0897772248158428,-0.26427788527573237,-0.872217187223391,1.076038386332144,0.46941249058773576,-1.6653597079445228,-0.9531239576661726,0.2684194351671944,1.2397589831101998,-0.007990690617178655,-1.321950623693112,0.6809604552532404,1.2779317283832747,0.14449547116258432,-0.630375829713827,1.3946080794601639,-0.40166706464735724,0.35770716033720257,0.35722053214901406,1.0364875764023738,2.1454701108264893,1.370139380136401,-0.38450430586042783],\"xaxis\":\"x13\",\"y\":[-1.180735303630515,2.335222326905726,-1.6197574589979549,0.9028352023676829,1.6109261896790363,-0.7961454704693716,0.3720448301600562,-1.4434434807718641,-0.6119063991100594,1.8420214774973167,0.2520229457394457,0.05093447600310471,0.5446210490174672,-0.4402609818646418,-0.390977953514869,-0.07840859523009465,-0.1267926849131856,-3.374361649058948,-0.18009363328860958,3.4528280213098403,-0.2986607028736644,1.0956666525430585,-1.7863405706919313,1.3677989006774434,0.4354441364465162,0.13088701411783146,0.1553950897623964,-0.4925785624969984,0.32268461453856545,-1.700840271270966,0.6440602978278147,-0.2251600590361294,-0.16032895915867906,-0.3852025321126944,1.6145178668064544,-0.04137131604823876,-0.9749076248226239,1.3836699813550444,0.8982537349204344,0.9217283064844051,0.23625462017860271,-1.2122103871137158,-1.9927141415606817,-0.2959547598126391,-0.33372442818102865,-0.22056490650846694,0.7465644743865075,0.09987623381112562,-0.9376320317104025,0.20306725021030386,1.255015262344124,-0.028365486899400074,-1.1122577591505516,-0.0051746142853209675,-0.2256665884980495,2.7815061171333353,-0.2611876402833877,0.08549569945518426,-0.49291144393175046,-0.876468729067364,0.8108862452786229,-1.8687400730347454,0.5657560477398444,-0.21029389114024946,2.3890021587185006,0.8226474743506555,0.3565281349567872,-0.23326713943671804,0.0025591348298659527,-0.7397088567552248,-1.8554173584409612,-0.32550837085617157,0.28839964830935866,-0.7798617164656289,-0.7109761540827182,-0.7172440074028394,-0.6593860057595722,0.7333444107886511,0.5870183475529771,-1.9540870348563026,-0.1383639409908132,-1.3944854052375002,-0.3903337256465239,0.7562793578027802,-0.6870352789240671,0.8425270198944845,0.7148044492940651,-1.647037104244215,-0.8649562384137423,-0.7176125971028547,-0.681051744075285,1.1642499810546263,0.7491116092930705,1.3835618619707477,-0.10914937540931671,-1.7197130124431566,-0.07655706701279717,0.39764205850156625,-0.4120653423092205,0.7072388863918091],\"yaxis\":\"y13\",\"type\":\"scatter\"},{\"line\":{\"color\":\"rgba(128, 128, 128, 1.0)\",\"dash\":\"solid\",\"shape\":\"linear\",\"width\":1.3},\"marker\":{\"size\":2,\"symbol\":\"circle\"},\"mode\":\"markers\",\"name\":\"D\",\"text\":\"\",\"x\":[-0.5044942157545312,0.9888079420118232,2.9620680407643136,-0.8789960931170367,-0.5961772819016423,0.967688669792416,-0.30943339838483885,-0.964594537403104,-0.836742028077735,0.6837214282723483,2.1148598036106416,1.333928221051847,-0.15938807086833995,-0.4894942830770963,-0.37006575779613216,1.1026545609048777,0.5630207275529113,-1.4192173368675955,-0.5480468910450349,2.8716050981906327,1.2435943906567244,0.37357369531247503,0.37506127823100743,1.6049709934739458,-0.47270842030216825,0.5239023663911087,0.062033033799205,0.08291640751423532,-0.5829462865942209,1.4983306749026488,-1.0408969676787778,-2.1629858241103914,1.6422521446910348,-0.15868897935445367,0.37357393201209904,0.2274780237281322,-0.15852313872673549,-0.4722233032766944,1.0380141282313096,1.4264846036211958,0.07827925875641766,-0.545800770626657,0.9845828289203694,1.3195592923527997,0.5490608948134178,-0.1415638073954051,-0.6516249038568959,-0.7395594895353859,-0.6412458750835105,-0.25840521061978156,1.118167889564803,-2.280860698263176,-0.8401468839715613,-0.04322526654247106,-0.07284643005540295,0.04391872945696018,-2.3001339080663836,1.0646541570241572,-2.251336395475597,-1.3468068532341253,-0.3207741538563641,0.6305921908091108,-0.24008228934501483,-0.0022307686225104062,1.3895549980239637,0.34777396370618113,-2.0785013494076794,-1.6486984731387868,0.8857283314402425,0.6833531331085659,0.12459556402099713,0.0831977004120792,1.672604351977852,0.14773585534981465,-0.7217092256636978,0.051001802110237714,-0.8384015454027037,0.6731042370435385,0.17304838753909765,-0.8232932608854376,0.767028815641581,-1.8104429941045004,1.8282580189982574,-0.523451238059469,1.8537992937385805,-0.3061469383127988,-0.06149910457886894,-0.2661031019289138,0.5949325643958282,-0.7758866651392171,0.5112661409862509,-1.271072249577671,0.7483241333480513,1.789665739230297,-0.505722738272695,1.3412466063005661,1.2191913846284896,-0.0580815975615273,-0.5507407904374377,1.5898268484313995],\"xaxis\":\"x14\",\"y\":[-1.180735303630515,2.335222326905726,-1.6197574589979549,0.9028352023676829,1.6109261896790363,-0.7961454704693716,0.3720448301600562,-1.4434434807718641,-0.6119063991100594,1.8420214774973167,0.2520229457394457,0.05093447600310471,0.5446210490174672,-0.4402609818646418,-0.390977953514869,-0.07840859523009465,-0.1267926849131856,-3.374361649058948,-0.18009363328860958,3.4528280213098403,-0.2986607028736644,1.0956666525430585,-1.7863405706919313,1.3677989006774434,0.4354441364465162,0.13088701411783146,0.1553950897623964,-0.4925785624969984,0.32268461453856545,-1.700840271270966,0.6440602978278147,-0.2251600590361294,-0.16032895915867906,-0.3852025321126944,1.6145178668064544,-0.04137131604823876,-0.9749076248226239,1.3836699813550444,0.8982537349204344,0.9217283064844051,0.23625462017860271,-1.2122103871137158,-1.9927141415606817,-0.2959547598126391,-0.33372442818102865,-0.22056490650846694,0.7465644743865075,0.09987623381112562,-0.9376320317104025,0.20306725021030386,1.255015262344124,-0.028365486899400074,-1.1122577591505516,-0.0051746142853209675,-0.2256665884980495,2.7815061171333353,-0.2611876402833877,0.08549569945518426,-0.49291144393175046,-0.876468729067364,0.8108862452786229,-1.8687400730347454,0.5657560477398444,-0.21029389114024946,2.3890021587185006,0.8226474743506555,0.3565281349567872,-0.23326713943671804,0.0025591348298659527,-0.7397088567552248,-1.8554173584409612,-0.32550837085617157,0.28839964830935866,-0.7798617164656289,-0.7109761540827182,-0.7172440074028394,-0.6593860057595722,0.7333444107886511,0.5870183475529771,-1.9540870348563026,-0.1383639409908132,-1.3944854052375002,-0.3903337256465239,0.7562793578027802,-0.6870352789240671,0.8425270198944845,0.7148044492940651,-1.647037104244215,-0.8649562384137423,-0.7176125971028547,-0.681051744075285,1.1642499810546263,0.7491116092930705,1.3835618619707477,-0.10914937540931671,-1.7197130124431566,-0.07655706701279717,0.39764205850156625,-0.4120653423092205,0.7072388863918091],\"yaxis\":\"y14\",\"type\":\"scatter\"},{\"line\":{\"color\":\"rgba(128, 128, 128, 1.0)\",\"dash\":\"solid\",\"shape\":\"linear\",\"width\":1.3},\"marker\":{\"size\":2,\"symbol\":\"circle\"},\"mode\":\"markers\",\"name\":\"D\",\"text\":\"\",\"x\":[-1.8201913265527303,-0.40533667730108597,-0.5061076449396962,1.1922140171784994,-1.2878651814078301,-2.0875667102001847,1.1359161025340003,-0.07975348897386565,0.16056033389825844,1.124722959228828,-1.0760705960481889,-0.35840908773828994,-0.5897085324218448,-1.071805416413214,-0.24467585713609044,2.8619182220963615,0.8179447485176887,-0.3651639599408454,-1.0514172947895792,-0.16632879081565502,-0.5023105357432766,0.18625466177531907,-0.5574087678371401,1.0376706639357471,1.9600750938572835,-0.7639352725337002,0.5124698963807007,-1.5474971910101507,1.0002078982538647,-0.4377919098125437,1.1031060605395542,0.25535981415649517,-0.3450852736055648,-0.04624154453733395,2.6362020496022502,1.8598141682965104,-1.1681490739797136,1.5173724333426744,-1.1761600730174717,0.2930700147541619,0.8101058165963707,1.146014689165013,-0.10325377444181959,1.427681493888483,0.5939532894371914,-0.39797266930198444,0.7802618393107127,1.9176420222448844,0.2553039738011546,-0.9482009983103359,1.0107156853545773,-0.8678369478973159,0.3013044983436712,-0.4969682271595119,1.1151305873477453,-1.2684445322396838,-0.2077278129483146,1.113546960150091,0.9867481245160042,-0.4108178571402074,1.3766331259618554,-0.9821344822529295,0.9083785275769809,0.9815542389492546,0.25954666052048203,1.6879036846709607,0.7895361058172605,-0.6078635133113303,-0.6585305793683645,-0.3676584629527762,0.0640337758872838,0.6950945220389215,1.5891689293580147,-0.573163488272661,-0.6411353780052226,-0.3384456214766705,1.2132745960403493,1.52160619121688,1.5392895620341296,0.6257515304283414,-0.694037425090867,-2.2471218993382442,0.7538425419802119,0.34809140715926845,0.257122267442059,-0.19685369095482094,2.247026153566917,-0.18492413238763644,-0.01643540424867496,1.5499300592918965,0.578737740126321,0.5766895078694938,2.313794112427557,-0.666123322046375,-0.1825573582237236,-0.32486405815227387,-0.082325109079772,0.28171512469617954,1.1597411614141633,-0.6075210002772761],\"xaxis\":\"x15\",\"y\":[-1.180735303630515,2.335222326905726,-1.6197574589979549,0.9028352023676829,1.6109261896790363,-0.7961454704693716,0.3720448301600562,-1.4434434807718641,-0.6119063991100594,1.8420214774973167,0.2520229457394457,0.05093447600310471,0.5446210490174672,-0.4402609818646418,-0.390977953514869,-0.07840859523009465,-0.1267926849131856,-3.374361649058948,-0.18009363328860958,3.4528280213098403,-0.2986607028736644,1.0956666525430585,-1.7863405706919313,1.3677989006774434,0.4354441364465162,0.13088701411783146,0.1553950897623964,-0.4925785624969984,0.32268461453856545,-1.700840271270966,0.6440602978278147,-0.2251600590361294,-0.16032895915867906,-0.3852025321126944,1.6145178668064544,-0.04137131604823876,-0.9749076248226239,1.3836699813550444,0.8982537349204344,0.9217283064844051,0.23625462017860271,-1.2122103871137158,-1.9927141415606817,-0.2959547598126391,-0.33372442818102865,-0.22056490650846694,0.7465644743865075,0.09987623381112562,-0.9376320317104025,0.20306725021030386,1.255015262344124,-0.028365486899400074,-1.1122577591505516,-0.0051746142853209675,-0.2256665884980495,2.7815061171333353,-0.2611876402833877,0.08549569945518426,-0.49291144393175046,-0.876468729067364,0.8108862452786229,-1.8687400730347454,0.5657560477398444,-0.21029389114024946,2.3890021587185006,0.8226474743506555,0.3565281349567872,-0.23326713943671804,0.0025591348298659527,-0.7397088567552248,-1.8554173584409612,-0.32550837085617157,0.28839964830935866,-0.7798617164656289,-0.7109761540827182,-0.7172440074028394,-0.6593860057595722,0.7333444107886511,0.5870183475529771,-1.9540870348563026,-0.1383639409908132,-1.3944854052375002,-0.3903337256465239,0.7562793578027802,-0.6870352789240671,0.8425270198944845,0.7148044492940651,-1.647037104244215,-0.8649562384137423,-0.7176125971028547,-0.681051744075285,1.1642499810546263,0.7491116092930705,1.3835618619707477,-0.10914937540931671,-1.7197130124431566,-0.07655706701279717,0.39764205850156625,-0.4120653423092205,0.7072388863918091],\"yaxis\":\"y15\",\"type\":\"scatter\"},{\"histfunc\":\"count\",\"histnorm\":\"\",\"marker\":{\"color\":\"rgba(128, 0, 128, 1.0)\",\"line\":{\"color\":\"#4D5663\",\"width\":1.3}},\"name\":\"D\",\"nbinsx\":10,\"opacity\":0.8,\"orientation\":\"v\",\"x\":[-1.180735303630515,2.335222326905726,-1.6197574589979549,0.9028352023676829,1.6109261896790363,-0.7961454704693716,0.3720448301600562,-1.4434434807718641,-0.6119063991100594,1.8420214774973167,0.2520229457394457,0.05093447600310471,0.5446210490174672,-0.4402609818646418,-0.390977953514869,-0.07840859523009465,-0.1267926849131856,-3.374361649058948,-0.18009363328860958,3.4528280213098403,-0.2986607028736644,1.0956666525430585,-1.7863405706919313,1.3677989006774434,0.4354441364465162,0.13088701411783146,0.1553950897623964,-0.4925785624969984,0.32268461453856545,-1.700840271270966,0.6440602978278147,-0.2251600590361294,-0.16032895915867906,-0.3852025321126944,1.6145178668064544,-0.04137131604823876,-0.9749076248226239,1.3836699813550444,0.8982537349204344,0.9217283064844051,0.23625462017860271,-1.2122103871137158,-1.9927141415606817,-0.2959547598126391,-0.33372442818102865,-0.22056490650846694,0.7465644743865075,0.09987623381112562,-0.9376320317104025,0.20306725021030386,1.255015262344124,-0.028365486899400074,-1.1122577591505516,-0.0051746142853209675,-0.2256665884980495,2.7815061171333353,-0.2611876402833877,0.08549569945518426,-0.49291144393175046,-0.876468729067364,0.8108862452786229,-1.8687400730347454,0.5657560477398444,-0.21029389114024946,2.3890021587185006,0.8226474743506555,0.3565281349567872,-0.23326713943671804,0.0025591348298659527,-0.7397088567552248,-1.8554173584409612,-0.32550837085617157,0.28839964830935866,-0.7798617164656289,-0.7109761540827182,-0.7172440074028394,-0.6593860057595722,0.7333444107886511,0.5870183475529771,-1.9540870348563026,-0.1383639409908132,-1.3944854052375002,-0.3903337256465239,0.7562793578027802,-0.6870352789240671,0.8425270198944845,0.7148044492940651,-1.647037104244215,-0.8649562384137423,-0.7176125971028547,-0.681051744075285,1.1642499810546263,0.7491116092930705,1.3835618619707477,-0.10914937540931671,-1.7197130124431566,-0.07655706701279717,0.39764205850156625,-0.4120653423092205,0.7072388863918091],\"xaxis\":\"x16\",\"yaxis\":\"y16\",\"type\":\"histogram\"}],                        {\"bargap\":0.02,\"legend\":{\"bgcolor\":\"#F5F6F9\",\"font\":{\"color\":\"#4D5663\"}},\"paper_bgcolor\":\"#F5F6F9\",\"plot_bgcolor\":\"#F5F6F9\",\"showlegend\":false,\"template\":{\"data\":{\"barpolar\":[{\"marker\":{\"line\":{\"color\":\"#E5ECF6\",\"width\":0.5},\"pattern\":{\"fillmode\":\"overlay\",\"size\":10,\"solidity\":0.2}},\"type\":\"barpolar\"}],\"bar\":[{\"error_x\":{\"color\":\"#2a3f5f\"},\"error_y\":{\"color\":\"#2a3f5f\"},\"marker\":{\"line\":{\"color\":\"#E5ECF6\",\"width\":0.5},\"pattern\":{\"fillmode\":\"overlay\",\"size\":10,\"solidity\":0.2}},\"type\":\"bar\"}],\"carpet\":[{\"aaxis\":{\"endlinecolor\":\"#2a3f5f\",\"gridcolor\":\"white\",\"linecolor\":\"white\",\"minorgridcolor\":\"white\",\"startlinecolor\":\"#2a3f5f\"},\"baxis\":{\"endlinecolor\":\"#2a3f5f\",\"gridcolor\":\"white\",\"linecolor\":\"white\",\"minorgridcolor\":\"white\",\"startlinecolor\":\"#2a3f5f\"},\"type\":\"carpet\"}],\"choropleth\":[{\"colorbar\":{\"outlinewidth\":0,\"ticks\":\"\"},\"type\":\"choropleth\"}],\"contourcarpet\":[{\"colorbar\":{\"outlinewidth\":0,\"ticks\":\"\"},\"type\":\"contourcarpet\"}],\"contour\":[{\"colorbar\":{\"outlinewidth\":0,\"ticks\":\"\"},\"colorscale\":[[0.0,\"#0d0887\"],[0.1111111111111111,\"#46039f\"],[0.2222222222222222,\"#7201a8\"],[0.3333333333333333,\"#9c179e\"],[0.4444444444444444,\"#bd3786\"],[0.5555555555555556,\"#d8576b\"],[0.6666666666666666,\"#ed7953\"],[0.7777777777777778,\"#fb9f3a\"],[0.8888888888888888,\"#fdca26\"],[1.0,\"#f0f921\"]],\"type\":\"contour\"}],\"heatmapgl\":[{\"colorbar\":{\"outlinewidth\":0,\"ticks\":\"\"},\"colorscale\":[[0.0,\"#0d0887\"],[0.1111111111111111,\"#46039f\"],[0.2222222222222222,\"#7201a8\"],[0.3333333333333333,\"#9c179e\"],[0.4444444444444444,\"#bd3786\"],[0.5555555555555556,\"#d8576b\"],[0.6666666666666666,\"#ed7953\"],[0.7777777777777778,\"#fb9f3a\"],[0.8888888888888888,\"#fdca26\"],[1.0,\"#f0f921\"]],\"type\":\"heatmapgl\"}],\"heatmap\":[{\"colorbar\":{\"outlinewidth\":0,\"ticks\":\"\"},\"colorscale\":[[0.0,\"#0d0887\"],[0.1111111111111111,\"#46039f\"],[0.2222222222222222,\"#7201a8\"],[0.3333333333333333,\"#9c179e\"],[0.4444444444444444,\"#bd3786\"],[0.5555555555555556,\"#d8576b\"],[0.6666666666666666,\"#ed7953\"],[0.7777777777777778,\"#fb9f3a\"],[0.8888888888888888,\"#fdca26\"],[1.0,\"#f0f921\"]],\"type\":\"heatmap\"}],\"histogram2dcontour\":[{\"colorbar\":{\"outlinewidth\":0,\"ticks\":\"\"},\"colorscale\":[[0.0,\"#0d0887\"],[0.1111111111111111,\"#46039f\"],[0.2222222222222222,\"#7201a8\"],[0.3333333333333333,\"#9c179e\"],[0.4444444444444444,\"#bd3786\"],[0.5555555555555556,\"#d8576b\"],[0.6666666666666666,\"#ed7953\"],[0.7777777777777778,\"#fb9f3a\"],[0.8888888888888888,\"#fdca26\"],[1.0,\"#f0f921\"]],\"type\":\"histogram2dcontour\"}],\"histogram2d\":[{\"colorbar\":{\"outlinewidth\":0,\"ticks\":\"\"},\"colorscale\":[[0.0,\"#0d0887\"],[0.1111111111111111,\"#46039f\"],[0.2222222222222222,\"#7201a8\"],[0.3333333333333333,\"#9c179e\"],[0.4444444444444444,\"#bd3786\"],[0.5555555555555556,\"#d8576b\"],[0.6666666666666666,\"#ed7953\"],[0.7777777777777778,\"#fb9f3a\"],[0.8888888888888888,\"#fdca26\"],[1.0,\"#f0f921\"]],\"type\":\"histogram2d\"}],\"histogram\":[{\"marker\":{\"pattern\":{\"fillmode\":\"overlay\",\"size\":10,\"solidity\":0.2}},\"type\":\"histogram\"}],\"mesh3d\":[{\"colorbar\":{\"outlinewidth\":0,\"ticks\":\"\"},\"type\":\"mesh3d\"}],\"parcoords\":[{\"line\":{\"colorbar\":{\"outlinewidth\":0,\"ticks\":\"\"}},\"type\":\"parcoords\"}],\"pie\":[{\"automargin\":true,\"type\":\"pie\"}],\"scatter3d\":[{\"line\":{\"colorbar\":{\"outlinewidth\":0,\"ticks\":\"\"}},\"marker\":{\"colorbar\":{\"outlinewidth\":0,\"ticks\":\"\"}},\"type\":\"scatter3d\"}],\"scattercarpet\":[{\"marker\":{\"colorbar\":{\"outlinewidth\":0,\"ticks\":\"\"}},\"type\":\"scattercarpet\"}],\"scattergeo\":[{\"marker\":{\"colorbar\":{\"outlinewidth\":0,\"ticks\":\"\"}},\"type\":\"scattergeo\"}],\"scattergl\":[{\"marker\":{\"colorbar\":{\"outlinewidth\":0,\"ticks\":\"\"}},\"type\":\"scattergl\"}],\"scattermapbox\":[{\"marker\":{\"colorbar\":{\"outlinewidth\":0,\"ticks\":\"\"}},\"type\":\"scattermapbox\"}],\"scatterpolargl\":[{\"marker\":{\"colorbar\":{\"outlinewidth\":0,\"ticks\":\"\"}},\"type\":\"scatterpolargl\"}],\"scatterpolar\":[{\"marker\":{\"colorbar\":{\"outlinewidth\":0,\"ticks\":\"\"}},\"type\":\"scatterpolar\"}],\"scatter\":[{\"fillpattern\":{\"fillmode\":\"overlay\",\"size\":10,\"solidity\":0.2},\"type\":\"scatter\"}],\"scatterternary\":[{\"marker\":{\"colorbar\":{\"outlinewidth\":0,\"ticks\":\"\"}},\"type\":\"scatterternary\"}],\"surface\":[{\"colorbar\":{\"outlinewidth\":0,\"ticks\":\"\"},\"colorscale\":[[0.0,\"#0d0887\"],[0.1111111111111111,\"#46039f\"],[0.2222222222222222,\"#7201a8\"],[0.3333333333333333,\"#9c179e\"],[0.4444444444444444,\"#bd3786\"],[0.5555555555555556,\"#d8576b\"],[0.6666666666666666,\"#ed7953\"],[0.7777777777777778,\"#fb9f3a\"],[0.8888888888888888,\"#fdca26\"],[1.0,\"#f0f921\"]],\"type\":\"surface\"}],\"table\":[{\"cells\":{\"fill\":{\"color\":\"#EBF0F8\"},\"line\":{\"color\":\"white\"}},\"header\":{\"fill\":{\"color\":\"#C8D4E3\"},\"line\":{\"color\":\"white\"}},\"type\":\"table\"}]},\"layout\":{\"annotationdefaults\":{\"arrowcolor\":\"#2a3f5f\",\"arrowhead\":0,\"arrowwidth\":1},\"autotypenumbers\":\"strict\",\"coloraxis\":{\"colorbar\":{\"outlinewidth\":0,\"ticks\":\"\"}},\"colorscale\":{\"diverging\":[[0,\"#8e0152\"],[0.1,\"#c51b7d\"],[0.2,\"#de77ae\"],[0.3,\"#f1b6da\"],[0.4,\"#fde0ef\"],[0.5,\"#f7f7f7\"],[0.6,\"#e6f5d0\"],[0.7,\"#b8e186\"],[0.8,\"#7fbc41\"],[0.9,\"#4d9221\"],[1,\"#276419\"]],\"sequential\":[[0.0,\"#0d0887\"],[0.1111111111111111,\"#46039f\"],[0.2222222222222222,\"#7201a8\"],[0.3333333333333333,\"#9c179e\"],[0.4444444444444444,\"#bd3786\"],[0.5555555555555556,\"#d8576b\"],[0.6666666666666666,\"#ed7953\"],[0.7777777777777778,\"#fb9f3a\"],[0.8888888888888888,\"#fdca26\"],[1.0,\"#f0f921\"]],\"sequentialminus\":[[0.0,\"#0d0887\"],[0.1111111111111111,\"#46039f\"],[0.2222222222222222,\"#7201a8\"],[0.3333333333333333,\"#9c179e\"],[0.4444444444444444,\"#bd3786\"],[0.5555555555555556,\"#d8576b\"],[0.6666666666666666,\"#ed7953\"],[0.7777777777777778,\"#fb9f3a\"],[0.8888888888888888,\"#fdca26\"],[1.0,\"#f0f921\"]]},\"colorway\":[\"#636efa\",\"#EF553B\",\"#00cc96\",\"#ab63fa\",\"#FFA15A\",\"#19d3f3\",\"#FF6692\",\"#B6E880\",\"#FF97FF\",\"#FECB52\"],\"font\":{\"color\":\"#2a3f5f\"},\"geo\":{\"bgcolor\":\"white\",\"lakecolor\":\"white\",\"landcolor\":\"#E5ECF6\",\"showlakes\":true,\"showland\":true,\"subunitcolor\":\"white\"},\"hoverlabel\":{\"align\":\"left\"},\"hovermode\":\"closest\",\"mapbox\":{\"style\":\"light\"},\"paper_bgcolor\":\"white\",\"plot_bgcolor\":\"#E5ECF6\",\"polar\":{\"angularaxis\":{\"gridcolor\":\"white\",\"linecolor\":\"white\",\"ticks\":\"\"},\"bgcolor\":\"#E5ECF6\",\"radialaxis\":{\"gridcolor\":\"white\",\"linecolor\":\"white\",\"ticks\":\"\"}},\"scene\":{\"xaxis\":{\"backgroundcolor\":\"#E5ECF6\",\"gridcolor\":\"white\",\"gridwidth\":2,\"linecolor\":\"white\",\"showbackground\":true,\"ticks\":\"\",\"zerolinecolor\":\"white\"},\"yaxis\":{\"backgroundcolor\":\"#E5ECF6\",\"gridcolor\":\"white\",\"gridwidth\":2,\"linecolor\":\"white\",\"showbackground\":true,\"ticks\":\"\",\"zerolinecolor\":\"white\"},\"zaxis\":{\"backgroundcolor\":\"#E5ECF6\",\"gridcolor\":\"white\",\"gridwidth\":2,\"linecolor\":\"white\",\"showbackground\":true,\"ticks\":\"\",\"zerolinecolor\":\"white\"}},\"shapedefaults\":{\"line\":{\"color\":\"#2a3f5f\"}},\"ternary\":{\"aaxis\":{\"gridcolor\":\"white\",\"linecolor\":\"white\",\"ticks\":\"\"},\"baxis\":{\"gridcolor\":\"white\",\"linecolor\":\"white\",\"ticks\":\"\"},\"bgcolor\":\"#E5ECF6\",\"caxis\":{\"gridcolor\":\"white\",\"linecolor\":\"white\",\"ticks\":\"\"}},\"title\":{\"x\":0.05},\"xaxis\":{\"automargin\":true,\"gridcolor\":\"white\",\"linecolor\":\"white\",\"ticks\":\"\",\"title\":{\"standoff\":15},\"zerolinecolor\":\"white\",\"zerolinewidth\":2},\"yaxis\":{\"automargin\":true,\"gridcolor\":\"white\",\"linecolor\":\"white\",\"ticks\":\"\",\"title\":{\"standoff\":15},\"zerolinecolor\":\"white\",\"zerolinewidth\":2}}},\"title\":{\"font\":{\"color\":\"#4D5663\"}},\"xaxis\":{\"anchor\":\"y\",\"domain\":[0.0,0.2125],\"gridcolor\":\"#E1E5ED\",\"showgrid\":false,\"tickfont\":{\"color\":\"#4D5663\"},\"title\":{\"font\":{\"color\":\"#4D5663\"},\"text\":\"\"},\"zerolinecolor\":\"#E1E5ED\"},\"yaxis\":{\"anchor\":\"x\",\"domain\":[0.8025,1.0],\"gridcolor\":\"#E1E5ED\",\"showgrid\":false,\"tickfont\":{\"color\":\"#4D5663\"},\"title\":{\"font\":{\"color\":\"#4D5663\"},\"text\":\"\"},\"zerolinecolor\":\"#E1E5ED\"},\"xaxis2\":{\"anchor\":\"y2\",\"domain\":[0.2625,0.475],\"gridcolor\":\"#E1E5ED\",\"showgrid\":false,\"tickfont\":{\"color\":\"#4D5663\"},\"title\":{\"font\":{\"color\":\"#4D5663\"},\"text\":\"\"},\"zerolinecolor\":\"#E1E5ED\"},\"yaxis2\":{\"anchor\":\"x2\",\"domain\":[0.8025,1.0],\"gridcolor\":\"#E1E5ED\",\"showgrid\":false,\"tickfont\":{\"color\":\"#4D5663\"},\"title\":{\"font\":{\"color\":\"#4D5663\"},\"text\":\"\"},\"zerolinecolor\":\"#E1E5ED\"},\"xaxis3\":{\"anchor\":\"y3\",\"domain\":[0.525,0.7375],\"gridcolor\":\"#E1E5ED\",\"showgrid\":false,\"tickfont\":{\"color\":\"#4D5663\"},\"title\":{\"font\":{\"color\":\"#4D5663\"},\"text\":\"\"},\"zerolinecolor\":\"#E1E5ED\"},\"yaxis3\":{\"anchor\":\"x3\",\"domain\":[0.8025,1.0],\"gridcolor\":\"#E1E5ED\",\"showgrid\":false,\"tickfont\":{\"color\":\"#4D5663\"},\"title\":{\"font\":{\"color\":\"#4D5663\"},\"text\":\"\"},\"zerolinecolor\":\"#E1E5ED\"},\"xaxis4\":{\"anchor\":\"y4\",\"domain\":[0.7875,1.0],\"gridcolor\":\"#E1E5ED\",\"showgrid\":false,\"tickfont\":{\"color\":\"#4D5663\"},\"title\":{\"font\":{\"color\":\"#4D5663\"},\"text\":\"\"},\"zerolinecolor\":\"#E1E5ED\"},\"yaxis4\":{\"anchor\":\"x4\",\"domain\":[0.8025,1.0],\"gridcolor\":\"#E1E5ED\",\"showgrid\":false,\"tickfont\":{\"color\":\"#4D5663\"},\"title\":{\"font\":{\"color\":\"#4D5663\"},\"text\":\"\"},\"zerolinecolor\":\"#E1E5ED\"},\"xaxis5\":{\"anchor\":\"y5\",\"domain\":[0.0,0.2125],\"gridcolor\":\"#E1E5ED\",\"showgrid\":false,\"tickfont\":{\"color\":\"#4D5663\"},\"title\":{\"font\":{\"color\":\"#4D5663\"},\"text\":\"\"},\"zerolinecolor\":\"#E1E5ED\"},\"yaxis5\":{\"anchor\":\"x5\",\"domain\":[0.535,0.7325],\"gridcolor\":\"#E1E5ED\",\"showgrid\":false,\"tickfont\":{\"color\":\"#4D5663\"},\"title\":{\"font\":{\"color\":\"#4D5663\"},\"text\":\"\"},\"zerolinecolor\":\"#E1E5ED\"},\"xaxis6\":{\"anchor\":\"y6\",\"domain\":[0.2625,0.475],\"gridcolor\":\"#E1E5ED\",\"showgrid\":false,\"tickfont\":{\"color\":\"#4D5663\"},\"title\":{\"font\":{\"color\":\"#4D5663\"},\"text\":\"\"},\"zerolinecolor\":\"#E1E5ED\"},\"yaxis6\":{\"anchor\":\"x6\",\"domain\":[0.535,0.7325],\"gridcolor\":\"#E1E5ED\",\"showgrid\":false,\"tickfont\":{\"color\":\"#4D5663\"},\"title\":{\"font\":{\"color\":\"#4D5663\"},\"text\":\"\"},\"zerolinecolor\":\"#E1E5ED\"},\"xaxis7\":{\"anchor\":\"y7\",\"domain\":[0.525,0.7375],\"gridcolor\":\"#E1E5ED\",\"showgrid\":false,\"tickfont\":{\"color\":\"#4D5663\"},\"title\":{\"font\":{\"color\":\"#4D5663\"},\"text\":\"\"},\"zerolinecolor\":\"#E1E5ED\"},\"yaxis7\":{\"anchor\":\"x7\",\"domain\":[0.535,0.7325],\"gridcolor\":\"#E1E5ED\",\"showgrid\":false,\"tickfont\":{\"color\":\"#4D5663\"},\"title\":{\"font\":{\"color\":\"#4D5663\"},\"text\":\"\"},\"zerolinecolor\":\"#E1E5ED\"},\"xaxis8\":{\"anchor\":\"y8\",\"domain\":[0.7875,1.0],\"gridcolor\":\"#E1E5ED\",\"showgrid\":false,\"tickfont\":{\"color\":\"#4D5663\"},\"title\":{\"font\":{\"color\":\"#4D5663\"},\"text\":\"\"},\"zerolinecolor\":\"#E1E5ED\"},\"yaxis8\":{\"anchor\":\"x8\",\"domain\":[0.535,0.7325],\"gridcolor\":\"#E1E5ED\",\"showgrid\":false,\"tickfont\":{\"color\":\"#4D5663\"},\"title\":{\"font\":{\"color\":\"#4D5663\"},\"text\":\"\"},\"zerolinecolor\":\"#E1E5ED\"},\"xaxis9\":{\"anchor\":\"y9\",\"domain\":[0.0,0.2125],\"gridcolor\":\"#E1E5ED\",\"showgrid\":false,\"tickfont\":{\"color\":\"#4D5663\"},\"title\":{\"font\":{\"color\":\"#4D5663\"},\"text\":\"\"},\"zerolinecolor\":\"#E1E5ED\"},\"yaxis9\":{\"anchor\":\"x9\",\"domain\":[0.2675,0.465],\"gridcolor\":\"#E1E5ED\",\"showgrid\":false,\"tickfont\":{\"color\":\"#4D5663\"},\"title\":{\"font\":{\"color\":\"#4D5663\"},\"text\":\"\"},\"zerolinecolor\":\"#E1E5ED\"},\"xaxis10\":{\"anchor\":\"y10\",\"domain\":[0.2625,0.475],\"gridcolor\":\"#E1E5ED\",\"showgrid\":false,\"tickfont\":{\"color\":\"#4D5663\"},\"title\":{\"font\":{\"color\":\"#4D5663\"},\"text\":\"\"},\"zerolinecolor\":\"#E1E5ED\"},\"yaxis10\":{\"anchor\":\"x10\",\"domain\":[0.2675,0.465],\"gridcolor\":\"#E1E5ED\",\"showgrid\":false,\"tickfont\":{\"color\":\"#4D5663\"},\"title\":{\"font\":{\"color\":\"#4D5663\"},\"text\":\"\"},\"zerolinecolor\":\"#E1E5ED\"},\"xaxis11\":{\"anchor\":\"y11\",\"domain\":[0.525,0.7375],\"gridcolor\":\"#E1E5ED\",\"showgrid\":false,\"tickfont\":{\"color\":\"#4D5663\"},\"title\":{\"font\":{\"color\":\"#4D5663\"},\"text\":\"\"},\"zerolinecolor\":\"#E1E5ED\"},\"yaxis11\":{\"anchor\":\"x11\",\"domain\":[0.2675,0.465],\"gridcolor\":\"#E1E5ED\",\"showgrid\":false,\"tickfont\":{\"color\":\"#4D5663\"},\"title\":{\"font\":{\"color\":\"#4D5663\"},\"text\":\"\"},\"zerolinecolor\":\"#E1E5ED\"},\"xaxis12\":{\"anchor\":\"y12\",\"domain\":[0.7875,1.0],\"gridcolor\":\"#E1E5ED\",\"showgrid\":false,\"tickfont\":{\"color\":\"#4D5663\"},\"title\":{\"font\":{\"color\":\"#4D5663\"},\"text\":\"\"},\"zerolinecolor\":\"#E1E5ED\"},\"yaxis12\":{\"anchor\":\"x12\",\"domain\":[0.2675,0.465],\"gridcolor\":\"#E1E5ED\",\"showgrid\":false,\"tickfont\":{\"color\":\"#4D5663\"},\"title\":{\"font\":{\"color\":\"#4D5663\"},\"text\":\"\"},\"zerolinecolor\":\"#E1E5ED\"},\"xaxis13\":{\"anchor\":\"y13\",\"domain\":[0.0,0.2125],\"gridcolor\":\"#E1E5ED\",\"showgrid\":false,\"tickfont\":{\"color\":\"#4D5663\"},\"title\":{\"font\":{\"color\":\"#4D5663\"},\"text\":\"\"},\"zerolinecolor\":\"#E1E5ED\"},\"yaxis13\":{\"anchor\":\"x13\",\"domain\":[0.0,0.1975],\"gridcolor\":\"#E1E5ED\",\"showgrid\":false,\"tickfont\":{\"color\":\"#4D5663\"},\"title\":{\"font\":{\"color\":\"#4D5663\"},\"text\":\"\"},\"zerolinecolor\":\"#E1E5ED\"},\"xaxis14\":{\"anchor\":\"y14\",\"domain\":[0.2625,0.475],\"gridcolor\":\"#E1E5ED\",\"showgrid\":false,\"tickfont\":{\"color\":\"#4D5663\"},\"title\":{\"font\":{\"color\":\"#4D5663\"},\"text\":\"\"},\"zerolinecolor\":\"#E1E5ED\"},\"yaxis14\":{\"anchor\":\"x14\",\"domain\":[0.0,0.1975],\"gridcolor\":\"#E1E5ED\",\"showgrid\":false,\"tickfont\":{\"color\":\"#4D5663\"},\"title\":{\"font\":{\"color\":\"#4D5663\"},\"text\":\"\"},\"zerolinecolor\":\"#E1E5ED\"},\"xaxis15\":{\"anchor\":\"y15\",\"domain\":[0.525,0.7375],\"gridcolor\":\"#E1E5ED\",\"showgrid\":false,\"tickfont\":{\"color\":\"#4D5663\"},\"title\":{\"font\":{\"color\":\"#4D5663\"},\"text\":\"\"},\"zerolinecolor\":\"#E1E5ED\"},\"yaxis15\":{\"anchor\":\"x15\",\"domain\":[0.0,0.1975],\"gridcolor\":\"#E1E5ED\",\"showgrid\":false,\"tickfont\":{\"color\":\"#4D5663\"},\"title\":{\"font\":{\"color\":\"#4D5663\"},\"text\":\"\"},\"zerolinecolor\":\"#E1E5ED\"},\"xaxis16\":{\"anchor\":\"y16\",\"domain\":[0.7875,1.0],\"gridcolor\":\"#E1E5ED\",\"showgrid\":false,\"tickfont\":{\"color\":\"#4D5663\"},\"title\":{\"font\":{\"color\":\"#4D5663\"},\"text\":\"\"},\"zerolinecolor\":\"#E1E5ED\"},\"yaxis16\":{\"anchor\":\"x16\",\"domain\":[0.0,0.1975],\"gridcolor\":\"#E1E5ED\",\"showgrid\":false,\"tickfont\":{\"color\":\"#4D5663\"},\"title\":{\"font\":{\"color\":\"#4D5663\"},\"text\":\"\"},\"zerolinecolor\":\"#E1E5ED\"}},                        {\"showLink\": true, \"linkText\": \"Export to plot.ly\", \"plotlyServerURL\": \"https://plot.ly\", \"responsive\": true}                    ).then(function(){\n",
       "                            \n",
       "var gd = document.getElementById('9a58b8e1-3cc6-4d2b-b153-a0913dd31c65');\n",
       "var x = new MutationObserver(function (mutations, observer) {{\n",
       "        var display = window.getComputedStyle(gd).display;\n",
       "        if (!display || display === 'none') {{\n",
       "            console.log([gd, 'removed!']);\n",
       "            Plotly.purge(gd);\n",
       "            observer.disconnect();\n",
       "        }}\n",
       "}});\n",
       "\n",
       "// Listen for the removal of the full notebook cells\n",
       "var notebookContainer = gd.closest('#notebook-container');\n",
       "if (notebookContainer) {{\n",
       "    x.observe(notebookContainer, {childList: true});\n",
       "}}\n",
       "\n",
       "// Listen for the clearing of the current output cell\n",
       "var outputEl = gd.closest('.output');\n",
       "if (outputEl) {{\n",
       "    x.observe(outputEl, {childList: true});\n",
       "}}\n",
       "\n",
       "                        })                };                });            </script>        </div>"
      ]
     },
     "metadata": {},
     "output_type": "display_data"
    }
   ],
   "source": [
    "df.scatter_matrix()"
   ]
  },
  {
   "cell_type": "markdown",
   "metadata": {
    "collapsed": true
   },
   "source": [
    "# Great Job!"
   ]
  }
 ],
 "metadata": {
  "kernelspec": {
   "display_name": "Python 3 (ipykernel)",
   "language": "python",
   "name": "python3"
  },
  "language_info": {
   "codemirror_mode": {
    "name": "ipython",
    "version": 3
   },
   "file_extension": ".py",
   "mimetype": "text/x-python",
   "name": "python",
   "nbconvert_exporter": "python",
   "pygments_lexer": "ipython3",
   "version": "3.10.9"
  }
 },
 "nbformat": 4,
 "nbformat_minor": 1
}
