{
 "cells": [
  {
   "cell_type": "code",
   "execution_count": 74,
   "id": "1c5a817c",
   "metadata": {},
   "outputs": [],
   "source": [
    "import numpy as np\n",
    "import pandas as pd\n",
    "import seaborn as sns\n",
    "import matplotlib.pyplot as plt\n",
    "from sklearn.model_selection import train_test_split\n",
    "from sklearn.linear_model import LinearRegression\n",
    "from sklearn import metrics"
   ]
  },
  {
   "cell_type": "code",
   "execution_count": 34,
   "id": "51184b65",
   "metadata": {},
   "outputs": [
    {
     "data": {
      "text/plain": [
       "Index(['Avg. Session Length', 'Time on App', 'Time on Website',\n",
       "       'Length of Membership', 'Yearly Amount Spent'],\n",
       "      dtype='object')"
      ]
     },
     "execution_count": 34,
     "metadata": {},
     "output_type": "execute_result"
    }
   ],
   "source": [
    "df.columns"
   ]
  },
  {
   "cell_type": "code",
   "execution_count": 90,
   "id": "01029e1d",
   "metadata": {
    "scrolled": false
   },
   "outputs": [
    {
     "data": {
      "text/plain": [
       "<Axes: xlabel='Res', ylabel='Count'>"
      ]
     },
     "execution_count": 90,
     "metadata": {},
     "output_type": "execute_result"
    },
    {
     "data": {
      "image/png": "[encoded data removed]",
      "text/plain": [
       "<Figure size 640x480 with 1 Axes>"
      ]
     },
     "metadata": {},
     "output_type": "display_data"
    }
   ],
   "source": [
    "df = pd.read_csv('Ecommerce Customers')\n",
    "df.drop(['Email','Address','Avatar'], axis= 1, inplace= True)\n",
    "\n",
    "\n",
    "X = df[['Avg. Session Length', 'Time on App', 'Time on Website',\n",
    "       'Length of Membership']]\n",
    "y = df[['Yearly Amount Spent']]\n",
    "\n",
    "X_train, X_test, y_train, y_test = train_test_split(X, y, test_size=0.3, random_state=101)\n",
    "\n",
    "lm = LinearRegression()\n",
    "\n",
    "lm.fit(X_train,y_train)\n",
    "\n",
    "predect = pd.DataFrame(lm.predict(X_test), columns= ['predect'])\n",
    "\n",
    "predect['actual'] = y_test.reset_index(drop = True)\n",
    "\n",
    "\n",
    "predect['Res'] = -predect['predect'] + predect['actual']\n",
    "\n",
    "sns.histplot(predect['Res'], bins = 30)"
   ]
  },
  {
   "cell_type": "code",
   "execution_count": 79,
   "id": "802eed81",
   "metadata": {},
   "outputs": [
    {
     "data": {
      "text/html": [
       "<div>\n",
       "<style scoped>\n",
       "    .dataframe tbody tr th:only-of-type {\n",
       "        vertical-align: middle;\n",
       "    }\n",
       "\n",
       "    .dataframe tbody tr th {\n",
       "        vertical-align: top;\n",
       "    }\n",
       "\n",
       "    .dataframe thead th {\n",
       "        text-align: right;\n",
       "    }\n",
       "</style>\n",
       "<table border=\"1\" class=\"dataframe\">\n",
       "  <thead>\n",
       "    <tr style=\"text-align: right;\">\n",
       "      <th></th>\n",
       "      <th>Avg. Session Length</th>\n",
       "      <th>Time on App</th>\n",
       "      <th>Time on Website</th>\n",
       "      <th>Length of Membership</th>\n",
       "      <th>Yearly Amount Spent</th>\n",
       "    </tr>\n",
       "  </thead>\n",
       "  <tbody>\n",
       "    <tr>\n",
       "      <th>0</th>\n",
       "      <td>34.497268</td>\n",
       "      <td>12.655651</td>\n",
       "      <td>39.577668</td>\n",
       "      <td>4.082621</td>\n",
       "      <td>587.951054</td>\n",
       "    </tr>\n",
       "  </tbody>\n",
       "</table>\n",
       "</div>"
      ],
      "text/plain": [
       "   Avg. Session Length  Time on App  Time on Website  Length of Membership  \\\n",
       "0            34.497268    12.655651        39.577668              4.082621   \n",
       "\n",
       "   Yearly Amount Spent  \n",
       "0           587.951054  "
      ]
     },
     "execution_count": 79,
     "metadata": {},
     "output_type": "execute_result"
    }
   ],
   "source": [
    "df.head(1)"
   ]
  },
  {
   "cell_type": "code",
   "execution_count": 83,
   "id": "0ae5dfa8",
   "metadata": {},
   "outputs": [
    {
     "name": "stdout",
     "output_type": "stream",
     "text": [
      "7.228148653430838\n",
      "79.81305165097451\n",
      "8.933815066978637\n",
      "R Squared:  0.9887793678920465\n"
     ]
    }
   ],
   "source": [
    "print(metrics.mean_absolute_error(predect['predect'], predect['actual']))\n",
    "print(metrics.mean_squared_error(predect['predect'], predect['actual']))\n",
    "print(metrics.mean_squared_error(predect['predect'], predect['actual'])**0.5)\n",
    "\n",
    "\n",
    "#R squered how much of the variance are explaned\n",
    "\n",
    "print('R Squared: ',metrics.explained_variance_score(predect['predect'], predect['actual']))"
   ]
  },
  {
   "cell_type": "code",
   "execution_count": null,
   "id": "070d7e40",
   "metadata": {},
   "outputs": [],
   "source": []
  },
  {
   "cell_type": "code",
   "execution_count": null,
   "id": "2c1a40fb",
   "metadata": {},
   "outputs": [],
   "source": []
  }
 ],
 "metadata": {
  "kernelspec": {
   "display_name": "Python 3 (ipykernel)",
   "language": "python",
   "name": "python3"
  },
  "language_info": {
   "codemirror_mode": {
    "name": "ipython",
    "version": 3
   },
   "file_extension": ".py",
   "mimetype": "text/x-python",
   "name": "python",
   "nbconvert_exporter": "python",
   "pygments_lexer": "ipython3",
   "version": "3.10.9"
  }
 },
 "nbformat": 4,
 "nbformat_minor": 5
}
