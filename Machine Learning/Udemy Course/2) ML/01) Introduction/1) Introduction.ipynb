{
 "cells": [
  {
   "cell_type": "markdown",
   "id": "373f10a1",
   "metadata": {},
   "source": [
    "### Classification for classification ML models"
   ]
  },
  {
   "cell_type": "markdown",
   "id": "8ab88a33",
   "metadata": {},
   "source": [
    "Classification task find an animal type given a picture\n",
    "\n",
    "or know a house in what country given features and colors and pictures"
   ]
  },
  {
   "cell_type": "markdown",
   "id": "1cf2c3d3",
   "metadata": {},
   "source": [
    "train model using training model 70% then test it on 30% of the data\n",
    "\n",
    "evaluate through performance classification metrics:\n",
    "\n",
    "\n",
    "* Accuracy = correct predictions/total predictions,,,,,, usfull when target classes are balanced #dogs = #cats\n",
    "\n",
    "* Recall: ability to find all the relevent cases in the model,   Recall = True +ve / (True +ve + False -ve) عدم إفتلات إللي عندو مرض \n",
    "\n",
    "* Precision: ability to find only relevant data points,    Precision = True +ve / (True +ve + False +ve)  \n",
    "\n",
    "* F1-Score: = 2*(Precision*Recall) / (Precision+Recall)       harmonic mean\n",
    "\n",
    "\n",
    "\n"
   ]
  },
  {
   "cell_type": "markdown",
   "id": "a956c127",
   "metadata": {},
   "source": [
    " "
   ]
  },
  {
   "cell_type": "markdown",
   "id": "4dbaff45",
   "metadata": {},
   "source": [
    "binary classification: there are 2 options for a model either being (Correct) or being (Incorrect)\n",
    "\n"
   ]
  },
  {
   "cell_type": "markdown",
   "id": "ca5c611d",
   "metadata": {},
   "source": [
    "### Classification for continuous numerical applications such as regression models"
   ]
  },
  {
   "cell_type": "markdown",
   "id": "313086f4",
   "metadata": {},
   "source": [
    "Regression tasks ===> such as predicting a house price given its features\n",
    "\n",
    "Here we need other metrics ==>\n",
    "\n",
    "* Mean absolote Error\n",
    "\n",
    "* Mean Squared Error\n",
    "\n",
    "* Root Mean Squared Error"
   ]
  },
  {
   "cell_type": "code",
   "execution_count": 3,
   "id": "fa72a3f4",
   "metadata": {},
   "outputs": [],
   "source": [
    "from sklearn.linear_model import LinearRegression\n",
    "import numpy as np"
   ]
  },
  {
   "cell_type": "code",
   "execution_count": 24,
   "id": "e1693c00",
   "metadata": {},
   "outputs": [],
   "source": [
    "model  = LinearRegression(positive=True)"
   ]
  },
  {
   "cell_type": "code",
   "execution_count": 35,
   "id": "ecd95329",
   "metadata": {},
   "outputs": [],
   "source": [
    "x,y = np.arange(10).reshape(5,2),np.arange(5)"
   ]
  }
 ],
 "metadata": {
  "kernelspec": {
   "display_name": "Python 3 (ipykernel)",
   "language": "python",
   "name": "python3"
  },
  "language_info": {
   "codemirror_mode": {
    "name": "ipython",
    "version": 3
   },
   "file_extension": ".py",
   "mimetype": "text/x-python",
   "name": "python",
   "nbconvert_exporter": "python",
   "pygments_lexer": "ipython3",
   "version": "3.10.9"
  }
 },
 "nbformat": 4,
 "nbformat_minor": 5
}
