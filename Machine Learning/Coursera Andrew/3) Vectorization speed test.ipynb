{
 "cells": [
  {
   "cell_type": "code",
   "execution_count": 6,
   "id": "936ff946",
   "metadata": {
    "scrolled": true
   },
   "outputs": [
    {
     "name": "stdout",
     "output_type": "stream",
     "text": [
      "Time for dot_product_using_for_loops is:  18.89567804336548\n",
      "Time for dot_product_using_vectorization is:  0.0\n"
     ]
    }
   ],
   "source": [
    "import numpy as np\n",
    "from time import time\n",
    "\n",
    "\n",
    "#Segmoid function\n",
    "def g(x):\n",
    "    y = 1/(1+ np.exp(-x))\n",
    "    return y\n",
    "    \n",
    "    \n",
    "def performance(func):\n",
    "    def wrapper(*arg,**kwarg):\n",
    "        t1 = time()\n",
    "        result = func(*arg,**kwarg)\n",
    "        t2 = time()\n",
    "        print(f'Time for {func.__name__} is: ',t2-t1)\n",
    "        return result\n",
    "    return wrapper\n",
    "\n",
    "\n",
    "@performance\n",
    "def dot_product_using_vectorization(a,x):\n",
    "    pass\n",
    "\n",
    "\n",
    "\n",
    "@performance\n",
    "def dot_product_using_for_loops(a,x):\n",
    "    result = 0\n",
    "    for i in range(len(a)):\n",
    "        result+=a[i]*x[i]\n",
    "        \n",
    "    \n",
    "    \n",
    "    \n",
    "np.random.seed(42)\n",
    "npy_range = np.random.randint(-100,100,40000000)\n",
    "a = g(npy_range)\n",
    "x = npy_range\n",
    "\n",
    "dot_product_using_for_loops(a,x)\n",
    "dot_product_using_vectorization(a,x)\n"
   ]
  }
 ],
 "metadata": {
  "kernelspec": {
   "display_name": "Python 3 (ipykernel)",
   "language": "python",
   "name": "python3"
  },
  "language_info": {
   "codemirror_mode": {
    "name": "ipython",
    "version": 3
   },
   "file_extension": ".py",
   "mimetype": "text/x-python",
   "name": "python",
   "nbconvert_exporter": "python",
   "pygments_lexer": "ipython3",
   "version": "3.10.9"
  }
 },
 "nbformat": 4,
 "nbformat_minor": 5
}
