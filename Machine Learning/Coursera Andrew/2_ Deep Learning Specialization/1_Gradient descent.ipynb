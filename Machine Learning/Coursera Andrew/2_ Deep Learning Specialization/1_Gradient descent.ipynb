{
 "cells": [
  {
   "cell_type": "code",
   "execution_count": 1,
   "id": "737b2bbd",
   "metadata": {
    "scrolled": false
   },
   "outputs": [
    {
     "name": "stdout",
     "output_type": "stream",
     "text": [
      "y = [0. 1. 1.]\n",
      "\n",
      "Weights and biases = [ 1. -1. -1.] + 0.0\n",
      "y_hat = [0.99 0.26 0.11]\n",
      "Loss is = 2.8\n",
      "\n",
      "\n",
      "Results after 1000 Iterations => \n",
      "\n",
      "Weights and biases = [-0.25 -0.02  0.97] + 0.32\n",
      "y_hat = [0.   0.73 0.85]\n",
      "Loss is = 0.1\n"
     ]
    }
   ],
   "source": [
    "import matplotlib.pyplot as plt\n",
    "import tensorflow as tf\n",
    "import numpy as np\n",
    "\n",
    "\n",
    "class Sigmoid():\n",
    "    def __init__(self,w,b):\n",
    "        self.w = w\n",
    "        self.b = b\n",
    "        \n",
    "    def set_param(self,w,b):\n",
    "        self.w = w\n",
    "        self.b = b\n",
    "        \n",
    "    def predict(self,x):\n",
    "        return 1/(1+np.exp(-(np.dot(x,self.w)+self.b)))\n",
    "\n",
    "    @staticmethod\n",
    "    def loss(y,y_hat):\n",
    "        return -(y*np.log(y_hat)+(1-y)*np.log(1-y_hat))\n",
    "    \n",
    "\n",
    "def display_results(): \n",
    "    print(f'Weights and biases = {W*100//1/100} + {b*100//1/100}')\n",
    "    print(f'y_hat = {y_hat*100//1/100}')\n",
    "    print(f'Loss is = {loss*10//1/10}')\n",
    "    \n",
    "    \n",
    "def trainning_iterate(sigmoid):\n",
    "    global W\n",
    "    global y_hat\n",
    "    global loss\n",
    "    global y\n",
    "    global b\n",
    "    y_hat = sigmoid.predict(X)\n",
    "    loss = np.mean(sigmoid.loss(y,y_hat))\n",
    "    W -= alpha*np.dot(X,(y_hat-y))\n",
    "    b -= alpha*np.mean(y_hat-y)\n",
    "    sigmoid.set_param(W,b)    \n",
    "\n",
    "    \n",
    "X = np.array([[5,5,-5],[1,1,1],[2,2,2]])\n",
    "W = np.array([1,-1.,-1])\n",
    "\n",
    "y = np.array([0,1,1])\n",
    "b = 0\n",
    "sigmoid = Sigmoid(W,b)\n",
    "sigmoid.set_param(W,b)\n",
    "\n",
    "alpha = 0.001\n",
    "\n",
    "y_hat = sigmoid.predict(X)\n",
    "loss = sigmoid.loss(y,y_hat).mean()\n",
    "\n",
    "\n",
    "print(f'y = {y*100//1/100}',end='\\n\\n')\n",
    "\n",
    "display_results()\n",
    "I = 1000\n",
    "for i in range(I):\n",
    "    trainning_iterate(sigmoid)\n",
    "    \n",
    "print(f'\\n\\nResults after {I} Iterations => \\n')\n",
    "display_results()\n"
   ]
  },
  {
   "cell_type": "markdown",
   "id": "6267c9e8",
   "metadata": {},
   "source": [
    "## Forward propagation in multi input examples:\n",
    "- In below example we will try to define a random neural network with 2 layers 4,1 neurons in inside the layers.\n",
    "- 3 testing samples will be calculated at once using Vectorization techniques"
   ]
  },
  {
   "cell_type": "code",
   "execution_count": 2,
   "id": "71f392a3",
   "metadata": {},
   "outputs": [
    {
     "data": {
      "text/plain": [
       "<tf.Tensor: shape=(3, 1), dtype=float64, numpy=\n",
       "array([[ 1.5 ],\n",
       "       [-0.04],\n",
       "       [ 1.  ]])>"
      ]
     },
     "execution_count": 2,
     "metadata": {},
     "output_type": "execute_result"
    }
   ],
   "source": [
    "\n",
    "def sigmoid(z):\n",
    "    return 1/(1+np.exp(-z))\n",
    "\n",
    "def relu(z):\n",
    "    return tf.math.maximum(z,np.zeros(z.shape))\n",
    "\n",
    "def leaky_relu(z):\n",
    "    return tf.math.maximum(0.01*z,z)\n",
    "\n",
    "def linear(z):\n",
    "    return z\n",
    "\n",
    "\n",
    "def forward_prob(X,W,b,activation=sigmoid):\n",
    "    b = b.reshape((W.shape[0],)+(1,))\n",
    "    z = np.dot(X,W.T)+b.T\n",
    "    a = activation(z)\n",
    "    return a\n",
    "\n",
    "\n",
    "X = np.array([[-5,1,-0.5],\n",
    "              [1,1,1],\n",
    "              [-5,-5,-5]])\n",
    "\n",
    "W1 = np.array([[5,1,1],\n",
    "               [0,0,0],\n",
    "               [0,1,1],\n",
    "               [0,0,0]])\n",
    "\n",
    "W2 = np.array([[-1,0,1,0]])\n",
    "\n",
    "b1 = np.array([0,1,0,0])\n",
    "\n",
    "b2 = np.array([1])\n",
    "\n",
    "\n",
    "a1 = forward_prob(X,W1,b1, activation = relu)\n",
    "a2 = forward_prob(a1,W2,b2,activation=leaky_relu)\n",
    "a2"
   ]
  },
  {
   "cell_type": "markdown",
   "id": "3ee6a865",
   "metadata": {},
   "source": [
    "## Trainning Neural Network using Backward Propagation with multiple trainning examples."
   ]
  },
  {
   "cell_type": "code",
   "execution_count": 3,
   "id": "7f658a8a",
   "metadata": {},
   "outputs": [
    {
     "data": {
      "image/png": "[encoded data removed]",
      "text/plain": [
       "<Figure size 1100x400 with 1 Axes>"
      ]
     },
     "metadata": {},
     "output_type": "display_data"
    }
   ],
   "source": [
    "# Visualize our data points\n",
    "\n",
    "def g(X):\n",
    "    return X*2+1\n",
    "\n",
    "X = np.linspace(2,7,10)\n",
    "y = g(X)\n",
    "\n",
    "z = np.linspace(-5,7,100)\n",
    "\n",
    "\n",
    "plt.figure(figsize=(11,4))\n",
    "plt.scatter(X,y)\n",
    "plt.plot(z,relu(g(z)), c='k')\n",
    "plt.show()"
   ]
  },
  {
   "cell_type": "code",
   "execution_count": 69,
   "id": "1d38106c",
   "metadata": {},
   "outputs": [],
   "source": [
    "class Layer():\n",
    "    def __init__(self,units=1,activation=relu):\n",
    "        self.units = units\n",
    "        self.activation = activation\n",
    "        \n",
    "    def fit(self,X,y,epochs=5):\n",
    "        n_features = X.shape[1]\n",
    "        W = np.random.rand(self.units,n_features)\n",
    "        b = np.random.rand(self.units)\n",
    "        \n",
    "        for _ in range(epochs):\n",
    "            z = np.dot(X,W.T)+b        \n",
    "            a = self.activation(z)\n",
    "            y = y.reshape(a.shape)\n",
    "            dw = ((a-y)*X).mean(axis=0)\n",
    "            db = ((a-y)).mean(axis=0)\n",
    "            W = W - 0.01*dw\n",
    "            b = b - 0.01*db\n",
    "        \n",
    "        self.W = W\n",
    "        self.b = b\n",
    "        \n",
    "        \n",
    "    def predict(X):\n",
    "        pass\n",
    "    \n",
    "    @staticmethod\n",
    "    def loss(X,y):\n",
    "        return \n",
    "        \n",
    "X = np.expand_dims(np.linspace(2,7,10),1)\n",
    "X = np.concatenate((X,X),axis=1)\n",
    "y = g(X).mean(axis=1)\n",
    "\n",
    "model = Layer(1,sigmoid)\n",
    "model.fit(X,y,epochs=5) "
   ]
  },
  {
   "cell_type": "code",
   "execution_count": null,
   "id": "2166c37a",
   "metadata": {},
   "outputs": [],
   "source": []
  }
 ],
 "metadata": {
  "kernelspec": {
   "display_name": "Python 3 (ipykernel)",
   "language": "python",
   "name": "python3"
  },
  "language_info": {
   "codemirror_mode": {
    "name": "ipython",
    "version": 3
   },
   "file_extension": ".py",
   "mimetype": "text/x-python",
   "name": "python",
   "nbconvert_exporter": "python",
   "pygments_lexer": "ipython3",
   "version": "3.10.9"
  }
 },
 "nbformat": 4,
 "nbformat_minor": 5
}
