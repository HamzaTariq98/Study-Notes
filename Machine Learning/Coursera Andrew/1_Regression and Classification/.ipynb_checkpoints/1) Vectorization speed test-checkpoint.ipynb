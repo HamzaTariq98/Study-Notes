{
 "cells": [
  {
   "cell_type": "code",
   "execution_count": 12,
   "id": "936ff946",
   "metadata": {
    "scrolled": true
   },
   "outputs": [
    {
     "name": "stdout",
     "output_type": "stream",
     "text": [
      "Time for dot_product_using_vectorization is:  0.03118276596069336\n",
      "Time for dot_product_using_for_loops is: 5.738085508346558\n",
      "\n",
      "\n",
      "Time for mat_multipication_using_vectorization is:  0.0\n",
      "Time for mat_multipication_using_for_loops is:  2.8737406730651855\n"
     ]
    }
   ],
   "source": [
    "import numpy as np\n",
    "from time import time\n",
    "\n",
    "\n",
    "#Segmoid function\n",
    "def g(x):\n",
    "    y = 1/(1+ np.exp(-x))\n",
    "    return y\n",
    "    \n",
    "    \n",
    "def performance(func):\n",
    "    def wrapper(*arg,**kwarg):\n",
    "        t1 = time()\n",
    "        result = func(*arg,**kwarg)\n",
    "        t2 = time()\n",
    "        print(f'Time for {func.__name__} is: ',t2-t1)\n",
    "        return result\n",
    "    return wrapper\n",
    "\n",
    "\n",
    "@performance\n",
    "def dot_product_using_vectorization(a,x,b=0):\n",
    "    return np.dot(a,x)+b\n",
    "\n",
    "\n",
    "def dot_product_using_for_loops_performance(*args, **kwargs):\n",
    "    t1 = time()\n",
    "    result = dot_product_using_for_loops(*args, **kwargs)\n",
    "    t2 = time()\n",
    "    print(f'Time for dot_product_using_for_loops is: {t2 - t1}')\n",
    "    return result\n",
    "\n",
    "\n",
    "def dot_product_using_for_loops(a,x,b=0):\n",
    "    result = 0\n",
    "    for i in range(len(a)):\n",
    "        result+=a[i]*x[i]\n",
    "    return result+b\n",
    "        \n",
    "    \n",
    "@performance\n",
    "def mat_multipication_using_vectorization(x,y):\n",
    "    xt = x.transpose()\n",
    "    return np.matmul(xt,y)\n",
    "\n",
    "\n",
    "@performance\n",
    "def mat_multipication_using_for_loops(x,y):\n",
    "    xt = x.transpose()\n",
    "    c1 = xt.shape[0]\n",
    "    c2 = y.shape[1]\n",
    "    c = np.zeros((c1,c2))\n",
    "    for i in range(c1):\n",
    "        for j in range(c2):\n",
    "            c[i][j] = for_loop(xt[i],y[:,j])\n",
    "    return c\n",
    "     \n",
    "    \n",
    "    \n",
    "np.random.seed(42)\n",
    "npy_range = np.random.randint(-100,100,10000000)\n",
    "a = g(npy_range)\n",
    "x = npy_range\n",
    "b = 10\n",
    "\n",
    "dot_product_using_vectorization(a,x,b)\n",
    "dot_product_using_for_loops_performance(a,x,b)\n",
    "\n",
    "# Create x,y 2D arrays with size of (size)\n",
    "size = 200\n",
    "x =np.ones((size,size))\n",
    "y =5*np.ones((size,size))\n",
    "print('\\n')\n",
    "\n",
    "# Applying matrix multipication using Vectorized and for loops\n",
    "mat_multipication_using_vectorization(x,y)\n",
    "mat_multipication_using_for_loops(x,y)\n",
    "print(end = '')"
   ]
  },
  {
   "cell_type": "code",
   "execution_count": null,
   "id": "45b4f072",
   "metadata": {},
   "outputs": [],
   "source": []
  }
 ],
 "metadata": {
  "kernelspec": {
   "display_name": "Python 3 (ipykernel)",
   "language": "python",
   "name": "python3"
  },
  "language_info": {
   "codemirror_mode": {
    "name": "ipython",
    "version": 3
   },
   "file_extension": ".py",
   "mimetype": "text/x-python",
   "name": "python",
   "nbconvert_exporter": "python",
   "pygments_lexer": "ipython3",
   "version": "3.10.9"
  }
 },
 "nbformat": 4,
 "nbformat_minor": 5
}
