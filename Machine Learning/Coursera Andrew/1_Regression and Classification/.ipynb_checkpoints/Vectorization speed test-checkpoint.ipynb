{
 "cells": [
  {
   "cell_type": "code",
   "execution_count": 117,
   "id": "936ff946",
   "metadata": {},
   "outputs": [
    {
     "name": "stdout",
     "output_type": "stream",
     "text": [
      "Time for vectorize is:  0.5206069946289062\n",
      "Time for for_loop is:  46.451247453689575\n"
     ]
    },
    {
     "data": {
      "text/plain": [
       "2474171935.217903"
      ]
     },
     "execution_count": 117,
     "metadata": {},
     "output_type": "execute_result"
    }
   ],
   "source": [
    "import numpy as np\n",
    "from time import time\n",
    "\n",
    "\n",
    "def g(x):\n",
    "    y = 1/(1+ np.exp(-x))\n",
    "    return y\n",
    "    \n",
    "    \n",
    "def performance(func):\n",
    "    def wrapper(*arg,**kwarg):\n",
    "        t1 = time()\n",
    "        result = func(*arg,**kwarg)\n",
    "        t2 = time()\n",
    "        print(f'Time for {func.__name__} is: ',t2-t1)\n",
    "        return result\n",
    "    return wrapper\n",
    "\n",
    "\n",
    "@performance\n",
    "def vectorize(a,x,b=0):\n",
    "    return np.dot(a,x)+b\n",
    "\n",
    "\n",
    "@performance\n",
    "def for_loop(a,x,b=0):\n",
    "    result = 0\n",
    "    for i in range(len(a)):\n",
    "        result+=a[i]*x[i]\n",
    "    return result+b\n",
    "        \n",
    "np.random.seed(42)\n",
    "npy_range = np.random.randint(-100,100,100000000)\n",
    "a = g(npy_range)\n",
    "x = npy_range\n",
    "b = 10\n",
    "\n",
    "vectorize(a,x,b)\n",
    "for_loop(a,x,b)"
   ]
  },
  {
   "cell_type": "code",
   "execution_count": null,
   "id": "e7d26014",
   "metadata": {},
   "outputs": [],
   "source": []
  }
 ],
 "metadata": {
  "kernelspec": {
   "display_name": "Python 3 (ipykernel)",
   "language": "python",
   "name": "python3"
  },
  "language_info": {
   "codemirror_mode": {
    "name": "ipython",
    "version": 3
   },
   "file_extension": ".py",
   "mimetype": "text/x-python",
   "name": "python",
   "nbconvert_exporter": "python",
   "pygments_lexer": "ipython3",
   "version": "3.10.9"
  }
 },
 "nbformat": 4,
 "nbformat_minor": 5
}
