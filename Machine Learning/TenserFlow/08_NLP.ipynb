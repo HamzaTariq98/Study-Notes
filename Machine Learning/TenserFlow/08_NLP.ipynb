{
  "nbformat": 4,
  "nbformat_minor": 0,
  "metadata": {
    "colab": {
      "provenance": []
    },
    "kernelspec": {
      "name": "python3",
      "display_name": "Python 3"
    },
    "language_info": {
      "name": "python"
    }
  },
  "cells": [
    {
      "cell_type": "markdown",
      "source": [
        "## NLP"
      ],
      "metadata": {
        "id": "eUYOR-fFmVbu"
      }
    },
    {
      "cell_type": "code",
      "execution_count": 30,
      "metadata": {
        "colab": {
          "base_uri": "https://localhost:8080/"
        },
        "id": "26BB4pa3z2DF",
        "outputId": "dd3fcfb7-e447-4f23-c64e-3aa840cecebd"
      },
      "outputs": [
        {
          "output_type": "stream",
          "name": "stdout",
          "text": [
            "--2024-01-26 11:04:50--  https://raw.githubusercontent.com/mrdbourke/tensorflow-deep-learning/main/extras/helper_functions.py\n",
            "Resolving raw.githubusercontent.com (raw.githubusercontent.com)... 185.199.108.133, 185.199.109.133, 185.199.110.133, ...\n",
            "Connecting to raw.githubusercontent.com (raw.githubusercontent.com)|185.199.108.133|:443... connected.\n",
            "HTTP request sent, awaiting response... 200 OK\n",
            "Length: 10246 (10K) [text/plain]\n",
            "Saving to: ‘helper_functions.py.1’\n",
            "\n",
            "\rhelper_functions.py   0%[                    ]       0  --.-KB/s               \rhelper_functions.py 100%[===================>]  10.01K  --.-KB/s    in 0s      \n",
            "\n",
            "2024-01-26 11:04:50 (78.3 MB/s) - ‘helper_functions.py.1’ saved [10246/10246]\n",
            "\n"
          ]
        }
      ],
      "source": [
        "import tensorflow as tf\n",
        "\n",
        "\n",
        "\n",
        "!wget https://raw.githubusercontent.com/mrdbourke/tensorflow-deep-learning/main/extras/helper_functions.py"
      ]
    },
    {
      "cell_type": "code",
      "source": [
        "import helper_functions as hlp"
      ],
      "metadata": {
        "id": "D1x0fvxb5UMO"
      },
      "execution_count": 31,
      "outputs": []
    },
    {
      "cell_type": "code",
      "source": [
        "!wget https://storage.googleapis.com/ztm_tf_course/nlp_getting_started.zip"
      ],
      "metadata": {
        "colab": {
          "base_uri": "https://localhost:8080/"
        },
        "id": "6HWRTEsw67wH",
        "outputId": "f605b5c1-1702-4db0-a7d2-3149af177847"
      },
      "execution_count": 32,
      "outputs": [
        {
          "output_type": "stream",
          "name": "stdout",
          "text": [
            "--2024-01-26 11:04:51--  https://storage.googleapis.com/ztm_tf_course/nlp_getting_started.zip\n",
            "Resolving storage.googleapis.com (storage.googleapis.com)... 209.85.147.207, 142.250.125.207, 142.250.136.207, ...\n",
            "Connecting to storage.googleapis.com (storage.googleapis.com)|209.85.147.207|:443... connected.\n",
            "HTTP request sent, awaiting response... 200 OK\n",
            "Length: 607343 (593K) [application/zip]\n",
            "Saving to: ‘nlp_getting_started.zip.1’\n",
            "\n",
            "\r          nlp_getti   0%[                    ]       0  --.-KB/s               \rnlp_getting_started 100%[===================>] 593.11K  --.-KB/s    in 0.004s  \n",
            "\n",
            "2024-01-26 11:04:51 (153 MB/s) - ‘nlp_getting_started.zip.1’ saved [607343/607343]\n",
            "\n"
          ]
        }
      ]
    },
    {
      "cell_type": "code",
      "source": [
        "hlp.unzip_data('nlp_getting_started.zip')"
      ],
      "metadata": {
        "id": "KflBUcgz8YNo"
      },
      "execution_count": 33,
      "outputs": []
    },
    {
      "cell_type": "code",
      "source": [
        "# Visualize text data !!\n",
        "\n",
        "import pandas as pd\n",
        "\n",
        "train_df = pd.read_csv('train.csv')\n",
        "test_df = pd.read_csv('test.csv')"
      ],
      "metadata": {
        "id": "Ea2-4lRR8cVN"
      },
      "execution_count": 34,
      "outputs": []
    },
    {
      "cell_type": "code",
      "source": [
        "train_df_shuffled = train_df.sample(frac=1,random_state=42)\n",
        "\n",
        "train_df_shuffled"
      ],
      "metadata": {
        "colab": {
          "base_uri": "https://localhost:8080/",
          "height": 423
        },
        "id": "XdZ1GgFG90eE",
        "outputId": "60e77aba-d6ec-450a-a0c7-2d64b6ca4021"
      },
      "execution_count": 35,
      "outputs": [
        {
          "output_type": "execute_result",
          "data": {
            "text/plain": [
              "         id       keyword                        location  \\\n",
              "2644   3796   destruction                             NaN   \n",
              "2227   3185        deluge                             NaN   \n",
              "5448   7769        police                              UK   \n",
              "132     191    aftershock                             NaN   \n",
              "6845   9810        trauma           Montgomery County, MD   \n",
              "...     ...           ...                             ...   \n",
              "5226   7470  obliteration                         Merica!   \n",
              "5390   7691         panic                             NaN   \n",
              "860    1242         blood                             NaN   \n",
              "7603  10862           NaN                             NaN   \n",
              "7270  10409     whirlwind  Stamford & Cork (& Shropshire)   \n",
              "\n",
              "                                                   text  target  \n",
              "2644  So you have a new weapon that can cause un-ima...       1  \n",
              "2227  The f$&amp;@ing things I do for #GISHWHES Just...       0  \n",
              "5448  DT @georgegalloway: RT @Galloway4Mayor: ÛÏThe...       1  \n",
              "132   Aftershock back to school kick off was great. ...       0  \n",
              "6845  in response to trauma Children of Addicts deve...       0  \n",
              "...                                                 ...     ...  \n",
              "5226  @Eganator2000 There aren't many Obliteration s...       0  \n",
              "5390  just had a panic attack bc I don't have enough...       0  \n",
              "860   Omron HEM-712C Automatic Blood Pressure Monito...       0  \n",
              "7603  Officials say a quarantine is in place at an A...       1  \n",
              "7270  I moved to England five years ago today. What ...       1  \n",
              "\n",
              "[7613 rows x 5 columns]"
            ],
            "text/html": [
              "\n",
              "  <div id=\"df-bb541747-e519-4fd2-aac7-ee08be8405d3\" class=\"colab-df-container\">\n",
              "    <div>\n",
              "<style scoped>\n",
              "    .dataframe tbody tr th:only-of-type {\n",
              "        vertical-align: middle;\n",
              "    }\n",
              "\n",
              "    .dataframe tbody tr th {\n",
              "        vertical-align: top;\n",
              "    }\n",
              "\n",
              "    .dataframe thead th {\n",
              "        text-align: right;\n",
              "    }\n",
              "</style>\n",
              "<table border=\"1\" class=\"dataframe\">\n",
              "  <thead>\n",
              "    <tr style=\"text-align: right;\">\n",
              "      <th></th>\n",
              "      <th>id</th>\n",
              "      <th>keyword</th>\n",
              "      <th>location</th>\n",
              "      <th>text</th>\n",
              "      <th>target</th>\n",
              "    </tr>\n",
              "  </thead>\n",
              "  <tbody>\n",
              "    <tr>\n",
              "      <th>2644</th>\n",
              "      <td>3796</td>\n",
              "      <td>destruction</td>\n",
              "      <td>NaN</td>\n",
              "      <td>So you have a new weapon that can cause un-ima...</td>\n",
              "      <td>1</td>\n",
              "    </tr>\n",
              "    <tr>\n",
              "      <th>2227</th>\n",
              "      <td>3185</td>\n",
              "      <td>deluge</td>\n",
              "      <td>NaN</td>\n",
              "      <td>The f$&amp;amp;@ing things I do for #GISHWHES Just...</td>\n",
              "      <td>0</td>\n",
              "    </tr>\n",
              "    <tr>\n",
              "      <th>5448</th>\n",
              "      <td>7769</td>\n",
              "      <td>police</td>\n",
              "      <td>UK</td>\n",
              "      <td>DT @georgegalloway: RT @Galloway4Mayor: ÛÏThe...</td>\n",
              "      <td>1</td>\n",
              "    </tr>\n",
              "    <tr>\n",
              "      <th>132</th>\n",
              "      <td>191</td>\n",
              "      <td>aftershock</td>\n",
              "      <td>NaN</td>\n",
              "      <td>Aftershock back to school kick off was great. ...</td>\n",
              "      <td>0</td>\n",
              "    </tr>\n",
              "    <tr>\n",
              "      <th>6845</th>\n",
              "      <td>9810</td>\n",
              "      <td>trauma</td>\n",
              "      <td>Montgomery County, MD</td>\n",
              "      <td>in response to trauma Children of Addicts deve...</td>\n",
              "      <td>0</td>\n",
              "    </tr>\n",
              "    <tr>\n",
              "      <th>...</th>\n",
              "      <td>...</td>\n",
              "      <td>...</td>\n",
              "      <td>...</td>\n",
              "      <td>...</td>\n",
              "      <td>...</td>\n",
              "    </tr>\n",
              "    <tr>\n",
              "      <th>5226</th>\n",
              "      <td>7470</td>\n",
              "      <td>obliteration</td>\n",
              "      <td>Merica!</td>\n",
              "      <td>@Eganator2000 There aren't many Obliteration s...</td>\n",
              "      <td>0</td>\n",
              "    </tr>\n",
              "    <tr>\n",
              "      <th>5390</th>\n",
              "      <td>7691</td>\n",
              "      <td>panic</td>\n",
              "      <td>NaN</td>\n",
              "      <td>just had a panic attack bc I don't have enough...</td>\n",
              "      <td>0</td>\n",
              "    </tr>\n",
              "    <tr>\n",
              "      <th>860</th>\n",
              "      <td>1242</td>\n",
              "      <td>blood</td>\n",
              "      <td>NaN</td>\n",
              "      <td>Omron HEM-712C Automatic Blood Pressure Monito...</td>\n",
              "      <td>0</td>\n",
              "    </tr>\n",
              "    <tr>\n",
              "      <th>7603</th>\n",
              "      <td>10862</td>\n",
              "      <td>NaN</td>\n",
              "      <td>NaN</td>\n",
              "      <td>Officials say a quarantine is in place at an A...</td>\n",
              "      <td>1</td>\n",
              "    </tr>\n",
              "    <tr>\n",
              "      <th>7270</th>\n",
              "      <td>10409</td>\n",
              "      <td>whirlwind</td>\n",
              "      <td>Stamford &amp; Cork (&amp; Shropshire)</td>\n",
              "      <td>I moved to England five years ago today. What ...</td>\n",
              "      <td>1</td>\n",
              "    </tr>\n",
              "  </tbody>\n",
              "</table>\n",
              "<p>7613 rows × 5 columns</p>\n",
              "</div>\n",
              "    <div class=\"colab-df-buttons\">\n",
              "\n",
              "  <div class=\"colab-df-container\">\n",
              "    <button class=\"colab-df-convert\" onclick=\"convertToInteractive('df-bb541747-e519-4fd2-aac7-ee08be8405d3')\"\n",
              "            title=\"Convert this dataframe to an interactive table.\"\n",
              "            style=\"display:none;\">\n",
              "\n",
              "  <svg xmlns=\"http://www.w3.org/2000/svg\" height=\"24px\" viewBox=\"0 -960 960 960\">\n",
              "    <path d=\"M120-120v-720h720v720H120Zm60-500h600v-160H180v160Zm220 220h160v-160H400v160Zm0 220h160v-160H400v160ZM180-400h160v-160H180v160Zm440 0h160v-160H620v160ZM180-180h160v-160H180v160Zm440 0h160v-160H620v160Z\"/>\n",
              "  </svg>\n",
              "    </button>\n",
              "\n",
              "  <style>\n",
              "    .colab-df-container {\n",
              "      display:flex;\n",
              "      gap: 12px;\n",
              "    }\n",
              "\n",
              "    .colab-df-convert {\n",
              "      background-color: #E8F0FE;\n",
              "      border: none;\n",
              "      border-radius: 50%;\n",
              "      cursor: pointer;\n",
              "      display: none;\n",
              "      fill: #1967D2;\n",
              "      height: 32px;\n",
              "      padding: 0 0 0 0;\n",
              "      width: 32px;\n",
              "    }\n",
              "\n",
              "    .colab-df-convert:hover {\n",
              "      background-color: #E2EBFA;\n",
              "      box-shadow: 0px 1px 2px rgba(60, 64, 67, 0.3), 0px 1px 3px 1px rgba(60, 64, 67, 0.15);\n",
              "      fill: #174EA6;\n",
              "    }\n",
              "\n",
              "    .colab-df-buttons div {\n",
              "      margin-bottom: 4px;\n",
              "    }\n",
              "\n",
              "    [theme=dark] .colab-df-convert {\n",
              "      background-color: #3B4455;\n",
              "      fill: #D2E3FC;\n",
              "    }\n",
              "\n",
              "    [theme=dark] .colab-df-convert:hover {\n",
              "      background-color: #434B5C;\n",
              "      box-shadow: 0px 1px 3px 1px rgba(0, 0, 0, 0.15);\n",
              "      filter: drop-shadow(0px 1px 2px rgba(0, 0, 0, 0.3));\n",
              "      fill: #FFFFFF;\n",
              "    }\n",
              "  </style>\n",
              "\n",
              "    <script>\n",
              "      const buttonEl =\n",
              "        document.querySelector('#df-bb541747-e519-4fd2-aac7-ee08be8405d3 button.colab-df-convert');\n",
              "      buttonEl.style.display =\n",
              "        google.colab.kernel.accessAllowed ? 'block' : 'none';\n",
              "\n",
              "      async function convertToInteractive(key) {\n",
              "        const element = document.querySelector('#df-bb541747-e519-4fd2-aac7-ee08be8405d3');\n",
              "        const dataTable =\n",
              "          await google.colab.kernel.invokeFunction('convertToInteractive',\n",
              "                                                    [key], {});\n",
              "        if (!dataTable) return;\n",
              "\n",
              "        const docLinkHtml = 'Like what you see? Visit the ' +\n",
              "          '<a target=\"_blank\" href=https://colab.research.google.com/notebooks/data_table.ipynb>data table notebook</a>'\n",
              "          + ' to learn more about interactive tables.';\n",
              "        element.innerHTML = '';\n",
              "        dataTable['output_type'] = 'display_data';\n",
              "        await google.colab.output.renderOutput(dataTable, element);\n",
              "        const docLink = document.createElement('div');\n",
              "        docLink.innerHTML = docLinkHtml;\n",
              "        element.appendChild(docLink);\n",
              "      }\n",
              "    </script>\n",
              "  </div>\n",
              "\n",
              "\n",
              "<div id=\"df-ae79d7cf-bd67-412e-a9e2-debeb37b5955\">\n",
              "  <button class=\"colab-df-quickchart\" onclick=\"quickchart('df-ae79d7cf-bd67-412e-a9e2-debeb37b5955')\"\n",
              "            title=\"Suggest charts\"\n",
              "            style=\"display:none;\">\n",
              "\n",
              "<svg xmlns=\"http://www.w3.org/2000/svg\" height=\"24px\"viewBox=\"0 0 24 24\"\n",
              "     width=\"24px\">\n",
              "    <g>\n",
              "        <path d=\"M19 3H5c-1.1 0-2 .9-2 2v14c0 1.1.9 2 2 2h14c1.1 0 2-.9 2-2V5c0-1.1-.9-2-2-2zM9 17H7v-7h2v7zm4 0h-2V7h2v10zm4 0h-2v-4h2v4z\"/>\n",
              "    </g>\n",
              "</svg>\n",
              "  </button>\n",
              "\n",
              "<style>\n",
              "  .colab-df-quickchart {\n",
              "      --bg-color: #E8F0FE;\n",
              "      --fill-color: #1967D2;\n",
              "      --hover-bg-color: #E2EBFA;\n",
              "      --hover-fill-color: #174EA6;\n",
              "      --disabled-fill-color: #AAA;\n",
              "      --disabled-bg-color: #DDD;\n",
              "  }\n",
              "\n",
              "  [theme=dark] .colab-df-quickchart {\n",
              "      --bg-color: #3B4455;\n",
              "      --fill-color: #D2E3FC;\n",
              "      --hover-bg-color: #434B5C;\n",
              "      --hover-fill-color: #FFFFFF;\n",
              "      --disabled-bg-color: #3B4455;\n",
              "      --disabled-fill-color: #666;\n",
              "  }\n",
              "\n",
              "  .colab-df-quickchart {\n",
              "    background-color: var(--bg-color);\n",
              "    border: none;\n",
              "    border-radius: 50%;\n",
              "    cursor: pointer;\n",
              "    display: none;\n",
              "    fill: var(--fill-color);\n",
              "    height: 32px;\n",
              "    padding: 0;\n",
              "    width: 32px;\n",
              "  }\n",
              "\n",
              "  .colab-df-quickchart:hover {\n",
              "    background-color: var(--hover-bg-color);\n",
              "    box-shadow: 0 1px 2px rgba(60, 64, 67, 0.3), 0 1px 3px 1px rgba(60, 64, 67, 0.15);\n",
              "    fill: var(--button-hover-fill-color);\n",
              "  }\n",
              "\n",
              "  .colab-df-quickchart-complete:disabled,\n",
              "  .colab-df-quickchart-complete:disabled:hover {\n",
              "    background-color: var(--disabled-bg-color);\n",
              "    fill: var(--disabled-fill-color);\n",
              "    box-shadow: none;\n",
              "  }\n",
              "\n",
              "  .colab-df-spinner {\n",
              "    border: 2px solid var(--fill-color);\n",
              "    border-color: transparent;\n",
              "    border-bottom-color: var(--fill-color);\n",
              "    animation:\n",
              "      spin 1s steps(1) infinite;\n",
              "  }\n",
              "\n",
              "  @keyframes spin {\n",
              "    0% {\n",
              "      border-color: transparent;\n",
              "      border-bottom-color: var(--fill-color);\n",
              "      border-left-color: var(--fill-color);\n",
              "    }\n",
              "    20% {\n",
              "      border-color: transparent;\n",
              "      border-left-color: var(--fill-color);\n",
              "      border-top-color: var(--fill-color);\n",
              "    }\n",
              "    30% {\n",
              "      border-color: transparent;\n",
              "      border-left-color: var(--fill-color);\n",
              "      border-top-color: var(--fill-color);\n",
              "      border-right-color: var(--fill-color);\n",
              "    }\n",
              "    40% {\n",
              "      border-color: transparent;\n",
              "      border-right-color: var(--fill-color);\n",
              "      border-top-color: var(--fill-color);\n",
              "    }\n",
              "    60% {\n",
              "      border-color: transparent;\n",
              "      border-right-color: var(--fill-color);\n",
              "    }\n",
              "    80% {\n",
              "      border-color: transparent;\n",
              "      border-right-color: var(--fill-color);\n",
              "      border-bottom-color: var(--fill-color);\n",
              "    }\n",
              "    90% {\n",
              "      border-color: transparent;\n",
              "      border-bottom-color: var(--fill-color);\n",
              "    }\n",
              "  }\n",
              "</style>\n",
              "\n",
              "  <script>\n",
              "    async function quickchart(key) {\n",
              "      const quickchartButtonEl =\n",
              "        document.querySelector('#' + key + ' button');\n",
              "      quickchartButtonEl.disabled = true;  // To prevent multiple clicks.\n",
              "      quickchartButtonEl.classList.add('colab-df-spinner');\n",
              "      try {\n",
              "        const charts = await google.colab.kernel.invokeFunction(\n",
              "            'suggestCharts', [key], {});\n",
              "      } catch (error) {\n",
              "        console.error('Error during call to suggestCharts:', error);\n",
              "      }\n",
              "      quickchartButtonEl.classList.remove('colab-df-spinner');\n",
              "      quickchartButtonEl.classList.add('colab-df-quickchart-complete');\n",
              "    }\n",
              "    (() => {\n",
              "      let quickchartButtonEl =\n",
              "        document.querySelector('#df-ae79d7cf-bd67-412e-a9e2-debeb37b5955 button');\n",
              "      quickchartButtonEl.style.display =\n",
              "        google.colab.kernel.accessAllowed ? 'block' : 'none';\n",
              "    })();\n",
              "  </script>\n",
              "</div>\n",
              "\n",
              "  <div id=\"id_e74fce73-ad25-4654-9dbf-3e6ac3a22e80\">\n",
              "    <style>\n",
              "      .colab-df-generate {\n",
              "        background-color: #E8F0FE;\n",
              "        border: none;\n",
              "        border-radius: 50%;\n",
              "        cursor: pointer;\n",
              "        display: none;\n",
              "        fill: #1967D2;\n",
              "        height: 32px;\n",
              "        padding: 0 0 0 0;\n",
              "        width: 32px;\n",
              "      }\n",
              "\n",
              "      .colab-df-generate:hover {\n",
              "        background-color: #E2EBFA;\n",
              "        box-shadow: 0px 1px 2px rgba(60, 64, 67, 0.3), 0px 1px 3px 1px rgba(60, 64, 67, 0.15);\n",
              "        fill: #174EA6;\n",
              "      }\n",
              "\n",
              "      [theme=dark] .colab-df-generate {\n",
              "        background-color: #3B4455;\n",
              "        fill: #D2E3FC;\n",
              "      }\n",
              "\n",
              "      [theme=dark] .colab-df-generate:hover {\n",
              "        background-color: #434B5C;\n",
              "        box-shadow: 0px 1px 3px 1px rgba(0, 0, 0, 0.15);\n",
              "        filter: drop-shadow(0px 1px 2px rgba(0, 0, 0, 0.3));\n",
              "        fill: #FFFFFF;\n",
              "      }\n",
              "    </style>\n",
              "    <button class=\"colab-df-generate\" onclick=\"generateWithVariable('train_df_shuffled')\"\n",
              "            title=\"Generate code using this dataframe.\"\n",
              "            style=\"display:none;\">\n",
              "\n",
              "  <svg xmlns=\"http://www.w3.org/2000/svg\" height=\"24px\"viewBox=\"0 0 24 24\"\n",
              "       width=\"24px\">\n",
              "    <path d=\"M7,19H8.4L18.45,9,17,7.55,7,17.6ZM5,21V16.75L18.45,3.32a2,2,0,0,1,2.83,0l1.4,1.43a1.91,1.91,0,0,1,.58,1.4,1.91,1.91,0,0,1-.58,1.4L9.25,21ZM18.45,9,17,7.55Zm-12,3A5.31,5.31,0,0,0,4.9,8.1,5.31,5.31,0,0,0,1,6.5,5.31,5.31,0,0,0,4.9,4.9,5.31,5.31,0,0,0,6.5,1,5.31,5.31,0,0,0,8.1,4.9,5.31,5.31,0,0,0,12,6.5,5.46,5.46,0,0,0,6.5,12Z\"/>\n",
              "  </svg>\n",
              "    </button>\n",
              "    <script>\n",
              "      (() => {\n",
              "      const buttonEl =\n",
              "        document.querySelector('#id_e74fce73-ad25-4654-9dbf-3e6ac3a22e80 button.colab-df-generate');\n",
              "      buttonEl.style.display =\n",
              "        google.colab.kernel.accessAllowed ? 'block' : 'none';\n",
              "\n",
              "      buttonEl.onclick = () => {\n",
              "        google.colab.notebook.generateWithVariable('train_df_shuffled');\n",
              "      }\n",
              "      })();\n",
              "    </script>\n",
              "  </div>\n",
              "\n",
              "    </div>\n",
              "  </div>\n"
            ]
          },
          "metadata": {},
          "execution_count": 35
        }
      ]
    },
    {
      "cell_type": "code",
      "source": [
        "# Visualize our text data :D\n",
        "\n",
        "labels = ['Non disaster','disaster']\n",
        "for index,text,target in train_df_shuffled.sample(5)[['text','target']].itertuples():\n",
        "  print(f'{labels[target]}\\n{text}\\n\\n')"
      ],
      "metadata": {
        "colab": {
          "base_uri": "https://localhost:8080/"
        },
        "id": "yMgjhyuf_xAp",
        "outputId": "8a0d356e-dc70-4c4c-e78e-809f92c44b15"
      },
      "execution_count": 36,
      "outputs": [
        {
          "output_type": "stream",
          "name": "stdout",
          "text": [
            "Non disaster\n",
            "@ZachLowe_NBA there are a few reasons for that but one of them is the constant Drake inundation.  Extremely annoying.  If Drake lands us a\n",
            "\n",
            "\n",
            "disaster\n",
            "Udhampur terror attack: Militants attack police post 2 SPOs injured: Suspected militants tonight attacked a p... http://t.co/FPhFESemyJ\n",
            "\n",
            "\n",
            "Non disaster\n",
            "@Calum5SOS I need to stop doing this to myself???? @s_casualty\n",
            "\n",
            "\n",
            "disaster\n",
            "Wildfire Burns On California U.s. China Economic Net Û_ : http://t.co/U2dO2mC2ri  http://t.co/3oM3xw6CZ8\n",
            "\n",
            "\n",
            "disaster\n",
            "Refugio oil spill may have been costlier bigger than projected http://t.co/7L6bHeXIXv | https://t.co/eMOSrMUvQa\n",
            "\n",
            "\n"
          ]
        }
      ]
    },
    {
      "cell_type": "code",
      "source": [
        "from sklearn.model_selection import train_test_split\n",
        "\n",
        "X = train_df_shuffled['text'].to_numpy()\n",
        "y = train_df_shuffled['target'].to_numpy()\n",
        "X_train, X_test, y_train, y_test = train_test_split(X, y, test_size=0.1, random_state=42)"
      ],
      "metadata": {
        "id": "rV1XM24cESl9"
      },
      "execution_count": 37,
      "outputs": []
    },
    {
      "cell_type": "markdown",
      "source": [
        "### Tokinaization !"
      ],
      "metadata": {
        "id": "BxeyuNy6mNHL"
      }
    },
    {
      "cell_type": "code",
      "source": [
        "# Creating the vobac of size 10000 manually !!!\n",
        "\n",
        "from collections import Counter\n",
        "\n",
        "arr = []\n",
        "for text in X_train:\n",
        "  arr.extend(text.split())\n",
        "\n",
        "\n",
        "values_count = dict(Counter(arr))\n",
        "values_count = pd.DataFrame({\n",
        "    'word': values_count.keys(),\n",
        "    'count': values_count.values()\n",
        "})\n",
        "\n",
        "vocab = values_count.sort_values('count',ascending=False).reset_index(drop=True)[:10000]\n",
        "vocab\n"
      ],
      "metadata": {
        "colab": {
          "base_uri": "https://localhost:8080/",
          "height": 423
        },
        "id": "56elyhaZeVO1",
        "outputId": "cb3a8e90-4696-4ffe-bd92-c128404ba0ba"
      },
      "execution_count": 38,
      "outputs": [
        {
          "output_type": "execute_result",
          "data": {
            "text/plain": [
              "                        word  count\n",
              "0                        the   2359\n",
              "1                          a   1656\n",
              "2                         to   1622\n",
              "3                         in   1581\n",
              "4                         of   1555\n",
              "...                      ...    ...\n",
              "9995                   SAHIB      1\n",
              "9996            Electrocuted      1\n",
              "9997                  SAHIB:      1\n",
              "9998               electr...      1\n",
              "9999  http://t.co/UxcfBJ3mzx      1\n",
              "\n",
              "[10000 rows x 2 columns]"
            ],
            "text/html": [
              "\n",
              "  <div id=\"df-c1d5fe86-a817-4064-bfd2-05e86c5e77b8\" class=\"colab-df-container\">\n",
              "    <div>\n",
              "<style scoped>\n",
              "    .dataframe tbody tr th:only-of-type {\n",
              "        vertical-align: middle;\n",
              "    }\n",
              "\n",
              "    .dataframe tbody tr th {\n",
              "        vertical-align: top;\n",
              "    }\n",
              "\n",
              "    .dataframe thead th {\n",
              "        text-align: right;\n",
              "    }\n",
              "</style>\n",
              "<table border=\"1\" class=\"dataframe\">\n",
              "  <thead>\n",
              "    <tr style=\"text-align: right;\">\n",
              "      <th></th>\n",
              "      <th>word</th>\n",
              "      <th>count</th>\n",
              "    </tr>\n",
              "  </thead>\n",
              "  <tbody>\n",
              "    <tr>\n",
              "      <th>0</th>\n",
              "      <td>the</td>\n",
              "      <td>2359</td>\n",
              "    </tr>\n",
              "    <tr>\n",
              "      <th>1</th>\n",
              "      <td>a</td>\n",
              "      <td>1656</td>\n",
              "    </tr>\n",
              "    <tr>\n",
              "      <th>2</th>\n",
              "      <td>to</td>\n",
              "      <td>1622</td>\n",
              "    </tr>\n",
              "    <tr>\n",
              "      <th>3</th>\n",
              "      <td>in</td>\n",
              "      <td>1581</td>\n",
              "    </tr>\n",
              "    <tr>\n",
              "      <th>4</th>\n",
              "      <td>of</td>\n",
              "      <td>1555</td>\n",
              "    </tr>\n",
              "    <tr>\n",
              "      <th>...</th>\n",
              "      <td>...</td>\n",
              "      <td>...</td>\n",
              "    </tr>\n",
              "    <tr>\n",
              "      <th>9995</th>\n",
              "      <td>SAHIB</td>\n",
              "      <td>1</td>\n",
              "    </tr>\n",
              "    <tr>\n",
              "      <th>9996</th>\n",
              "      <td>Electrocuted</td>\n",
              "      <td>1</td>\n",
              "    </tr>\n",
              "    <tr>\n",
              "      <th>9997</th>\n",
              "      <td>SAHIB:</td>\n",
              "      <td>1</td>\n",
              "    </tr>\n",
              "    <tr>\n",
              "      <th>9998</th>\n",
              "      <td>electr...</td>\n",
              "      <td>1</td>\n",
              "    </tr>\n",
              "    <tr>\n",
              "      <th>9999</th>\n",
              "      <td>http://t.co/UxcfBJ3mzx</td>\n",
              "      <td>1</td>\n",
              "    </tr>\n",
              "  </tbody>\n",
              "</table>\n",
              "<p>10000 rows × 2 columns</p>\n",
              "</div>\n",
              "    <div class=\"colab-df-buttons\">\n",
              "\n",
              "  <div class=\"colab-df-container\">\n",
              "    <button class=\"colab-df-convert\" onclick=\"convertToInteractive('df-c1d5fe86-a817-4064-bfd2-05e86c5e77b8')\"\n",
              "            title=\"Convert this dataframe to an interactive table.\"\n",
              "            style=\"display:none;\">\n",
              "\n",
              "  <svg xmlns=\"http://www.w3.org/2000/svg\" height=\"24px\" viewBox=\"0 -960 960 960\">\n",
              "    <path d=\"M120-120v-720h720v720H120Zm60-500h600v-160H180v160Zm220 220h160v-160H400v160Zm0 220h160v-160H400v160ZM180-400h160v-160H180v160Zm440 0h160v-160H620v160ZM180-180h160v-160H180v160Zm440 0h160v-160H620v160Z\"/>\n",
              "  </svg>\n",
              "    </button>\n",
              "\n",
              "  <style>\n",
              "    .colab-df-container {\n",
              "      display:flex;\n",
              "      gap: 12px;\n",
              "    }\n",
              "\n",
              "    .colab-df-convert {\n",
              "      background-color: #E8F0FE;\n",
              "      border: none;\n",
              "      border-radius: 50%;\n",
              "      cursor: pointer;\n",
              "      display: none;\n",
              "      fill: #1967D2;\n",
              "      height: 32px;\n",
              "      padding: 0 0 0 0;\n",
              "      width: 32px;\n",
              "    }\n",
              "\n",
              "    .colab-df-convert:hover {\n",
              "      background-color: #E2EBFA;\n",
              "      box-shadow: 0px 1px 2px rgba(60, 64, 67, 0.3), 0px 1px 3px 1px rgba(60, 64, 67, 0.15);\n",
              "      fill: #174EA6;\n",
              "    }\n",
              "\n",
              "    .colab-df-buttons div {\n",
              "      margin-bottom: 4px;\n",
              "    }\n",
              "\n",
              "    [theme=dark] .colab-df-convert {\n",
              "      background-color: #3B4455;\n",
              "      fill: #D2E3FC;\n",
              "    }\n",
              "\n",
              "    [theme=dark] .colab-df-convert:hover {\n",
              "      background-color: #434B5C;\n",
              "      box-shadow: 0px 1px 3px 1px rgba(0, 0, 0, 0.15);\n",
              "      filter: drop-shadow(0px 1px 2px rgba(0, 0, 0, 0.3));\n",
              "      fill: #FFFFFF;\n",
              "    }\n",
              "  </style>\n",
              "\n",
              "    <script>\n",
              "      const buttonEl =\n",
              "        document.querySelector('#df-c1d5fe86-a817-4064-bfd2-05e86c5e77b8 button.colab-df-convert');\n",
              "      buttonEl.style.display =\n",
              "        google.colab.kernel.accessAllowed ? 'block' : 'none';\n",
              "\n",
              "      async function convertToInteractive(key) {\n",
              "        const element = document.querySelector('#df-c1d5fe86-a817-4064-bfd2-05e86c5e77b8');\n",
              "        const dataTable =\n",
              "          await google.colab.kernel.invokeFunction('convertToInteractive',\n",
              "                                                    [key], {});\n",
              "        if (!dataTable) return;\n",
              "\n",
              "        const docLinkHtml = 'Like what you see? Visit the ' +\n",
              "          '<a target=\"_blank\" href=https://colab.research.google.com/notebooks/data_table.ipynb>data table notebook</a>'\n",
              "          + ' to learn more about interactive tables.';\n",
              "        element.innerHTML = '';\n",
              "        dataTable['output_type'] = 'display_data';\n",
              "        await google.colab.output.renderOutput(dataTable, element);\n",
              "        const docLink = document.createElement('div');\n",
              "        docLink.innerHTML = docLinkHtml;\n",
              "        element.appendChild(docLink);\n",
              "      }\n",
              "    </script>\n",
              "  </div>\n",
              "\n",
              "\n",
              "<div id=\"df-c6e81caa-46e6-4b54-b5c1-c75f55038d7b\">\n",
              "  <button class=\"colab-df-quickchart\" onclick=\"quickchart('df-c6e81caa-46e6-4b54-b5c1-c75f55038d7b')\"\n",
              "            title=\"Suggest charts\"\n",
              "            style=\"display:none;\">\n",
              "\n",
              "<svg xmlns=\"http://www.w3.org/2000/svg\" height=\"24px\"viewBox=\"0 0 24 24\"\n",
              "     width=\"24px\">\n",
              "    <g>\n",
              "        <path d=\"M19 3H5c-1.1 0-2 .9-2 2v14c0 1.1.9 2 2 2h14c1.1 0 2-.9 2-2V5c0-1.1-.9-2-2-2zM9 17H7v-7h2v7zm4 0h-2V7h2v10zm4 0h-2v-4h2v4z\"/>\n",
              "    </g>\n",
              "</svg>\n",
              "  </button>\n",
              "\n",
              "<style>\n",
              "  .colab-df-quickchart {\n",
              "      --bg-color: #E8F0FE;\n",
              "      --fill-color: #1967D2;\n",
              "      --hover-bg-color: #E2EBFA;\n",
              "      --hover-fill-color: #174EA6;\n",
              "      --disabled-fill-color: #AAA;\n",
              "      --disabled-bg-color: #DDD;\n",
              "  }\n",
              "\n",
              "  [theme=dark] .colab-df-quickchart {\n",
              "      --bg-color: #3B4455;\n",
              "      --fill-color: #D2E3FC;\n",
              "      --hover-bg-color: #434B5C;\n",
              "      --hover-fill-color: #FFFFFF;\n",
              "      --disabled-bg-color: #3B4455;\n",
              "      --disabled-fill-color: #666;\n",
              "  }\n",
              "\n",
              "  .colab-df-quickchart {\n",
              "    background-color: var(--bg-color);\n",
              "    border: none;\n",
              "    border-radius: 50%;\n",
              "    cursor: pointer;\n",
              "    display: none;\n",
              "    fill: var(--fill-color);\n",
              "    height: 32px;\n",
              "    padding: 0;\n",
              "    width: 32px;\n",
              "  }\n",
              "\n",
              "  .colab-df-quickchart:hover {\n",
              "    background-color: var(--hover-bg-color);\n",
              "    box-shadow: 0 1px 2px rgba(60, 64, 67, 0.3), 0 1px 3px 1px rgba(60, 64, 67, 0.15);\n",
              "    fill: var(--button-hover-fill-color);\n",
              "  }\n",
              "\n",
              "  .colab-df-quickchart-complete:disabled,\n",
              "  .colab-df-quickchart-complete:disabled:hover {\n",
              "    background-color: var(--disabled-bg-color);\n",
              "    fill: var(--disabled-fill-color);\n",
              "    box-shadow: none;\n",
              "  }\n",
              "\n",
              "  .colab-df-spinner {\n",
              "    border: 2px solid var(--fill-color);\n",
              "    border-color: transparent;\n",
              "    border-bottom-color: var(--fill-color);\n",
              "    animation:\n",
              "      spin 1s steps(1) infinite;\n",
              "  }\n",
              "\n",
              "  @keyframes spin {\n",
              "    0% {\n",
              "      border-color: transparent;\n",
              "      border-bottom-color: var(--fill-color);\n",
              "      border-left-color: var(--fill-color);\n",
              "    }\n",
              "    20% {\n",
              "      border-color: transparent;\n",
              "      border-left-color: var(--fill-color);\n",
              "      border-top-color: var(--fill-color);\n",
              "    }\n",
              "    30% {\n",
              "      border-color: transparent;\n",
              "      border-left-color: var(--fill-color);\n",
              "      border-top-color: var(--fill-color);\n",
              "      border-right-color: var(--fill-color);\n",
              "    }\n",
              "    40% {\n",
              "      border-color: transparent;\n",
              "      border-right-color: var(--fill-color);\n",
              "      border-top-color: var(--fill-color);\n",
              "    }\n",
              "    60% {\n",
              "      border-color: transparent;\n",
              "      border-right-color: var(--fill-color);\n",
              "    }\n",
              "    80% {\n",
              "      border-color: transparent;\n",
              "      border-right-color: var(--fill-color);\n",
              "      border-bottom-color: var(--fill-color);\n",
              "    }\n",
              "    90% {\n",
              "      border-color: transparent;\n",
              "      border-bottom-color: var(--fill-color);\n",
              "    }\n",
              "  }\n",
              "</style>\n",
              "\n",
              "  <script>\n",
              "    async function quickchart(key) {\n",
              "      const quickchartButtonEl =\n",
              "        document.querySelector('#' + key + ' button');\n",
              "      quickchartButtonEl.disabled = true;  // To prevent multiple clicks.\n",
              "      quickchartButtonEl.classList.add('colab-df-spinner');\n",
              "      try {\n",
              "        const charts = await google.colab.kernel.invokeFunction(\n",
              "            'suggestCharts', [key], {});\n",
              "      } catch (error) {\n",
              "        console.error('Error during call to suggestCharts:', error);\n",
              "      }\n",
              "      quickchartButtonEl.classList.remove('colab-df-spinner');\n",
              "      quickchartButtonEl.classList.add('colab-df-quickchart-complete');\n",
              "    }\n",
              "    (() => {\n",
              "      let quickchartButtonEl =\n",
              "        document.querySelector('#df-c6e81caa-46e6-4b54-b5c1-c75f55038d7b button');\n",
              "      quickchartButtonEl.style.display =\n",
              "        google.colab.kernel.accessAllowed ? 'block' : 'none';\n",
              "    })();\n",
              "  </script>\n",
              "</div>\n",
              "\n",
              "  <div id=\"id_4516353b-ec00-47fc-9492-38fa24990a36\">\n",
              "    <style>\n",
              "      .colab-df-generate {\n",
              "        background-color: #E8F0FE;\n",
              "        border: none;\n",
              "        border-radius: 50%;\n",
              "        cursor: pointer;\n",
              "        display: none;\n",
              "        fill: #1967D2;\n",
              "        height: 32px;\n",
              "        padding: 0 0 0 0;\n",
              "        width: 32px;\n",
              "      }\n",
              "\n",
              "      .colab-df-generate:hover {\n",
              "        background-color: #E2EBFA;\n",
              "        box-shadow: 0px 1px 2px rgba(60, 64, 67, 0.3), 0px 1px 3px 1px rgba(60, 64, 67, 0.15);\n",
              "        fill: #174EA6;\n",
              "      }\n",
              "\n",
              "      [theme=dark] .colab-df-generate {\n",
              "        background-color: #3B4455;\n",
              "        fill: #D2E3FC;\n",
              "      }\n",
              "\n",
              "      [theme=dark] .colab-df-generate:hover {\n",
              "        background-color: #434B5C;\n",
              "        box-shadow: 0px 1px 3px 1px rgba(0, 0, 0, 0.15);\n",
              "        filter: drop-shadow(0px 1px 2px rgba(0, 0, 0, 0.3));\n",
              "        fill: #FFFFFF;\n",
              "      }\n",
              "    </style>\n",
              "    <button class=\"colab-df-generate\" onclick=\"generateWithVariable('vocab')\"\n",
              "            title=\"Generate code using this dataframe.\"\n",
              "            style=\"display:none;\">\n",
              "\n",
              "  <svg xmlns=\"http://www.w3.org/2000/svg\" height=\"24px\"viewBox=\"0 0 24 24\"\n",
              "       width=\"24px\">\n",
              "    <path d=\"M7,19H8.4L18.45,9,17,7.55,7,17.6ZM5,21V16.75L18.45,3.32a2,2,0,0,1,2.83,0l1.4,1.43a1.91,1.91,0,0,1,.58,1.4,1.91,1.91,0,0,1-.58,1.4L9.25,21ZM18.45,9,17,7.55Zm-12,3A5.31,5.31,0,0,0,4.9,8.1,5.31,5.31,0,0,0,1,6.5,5.31,5.31,0,0,0,4.9,4.9,5.31,5.31,0,0,0,6.5,1,5.31,5.31,0,0,0,8.1,4.9,5.31,5.31,0,0,0,12,6.5,5.46,5.46,0,0,0,6.5,12Z\"/>\n",
              "  </svg>\n",
              "    </button>\n",
              "    <script>\n",
              "      (() => {\n",
              "      const buttonEl =\n",
              "        document.querySelector('#id_4516353b-ec00-47fc-9492-38fa24990a36 button.colab-df-generate');\n",
              "      buttonEl.style.display =\n",
              "        google.colab.kernel.accessAllowed ? 'block' : 'none';\n",
              "\n",
              "      buttonEl.onclick = () => {\n",
              "        google.colab.notebook.generateWithVariable('vocab');\n",
              "      }\n",
              "      })();\n",
              "    </script>\n",
              "  </div>\n",
              "\n",
              "    </div>\n",
              "  </div>\n"
            ]
          },
          "metadata": {},
          "execution_count": 38
        }
      ]
    },
    {
      "cell_type": "code",
      "source": [
        "vocab[['count']][(vocab[['count']]<50)].plot.hist(bins=50)"
      ],
      "metadata": {
        "colab": {
          "base_uri": "https://localhost:8080/",
          "height": 448
        },
        "id": "3frQN0GBeX5C",
        "outputId": "724132be-a412-49ac-ae80-38c2e9f5c582"
      },
      "execution_count": 39,
      "outputs": [
        {
          "output_type": "execute_result",
          "data": {
            "text/plain": [
              "<Axes: ylabel='Frequency'>"
            ]
          },
          "metadata": {},
          "execution_count": 39
        },
        {
          "output_type": "display_data",
          "data": {
            "text/plain": [
              "<Figure size 640x480 with 1 Axes>"
            ],
            "image/png": "[encoded data removed]"
          },
          "metadata": {}
        }
      ]
    },
    {
      "cell_type": "code",
      "source": [
        "import numpy as np\n",
        "np.array([len(i.split()) for i in X_train]).mean()"
      ],
      "metadata": {
        "colab": {
          "base_uri": "https://localhost:8080/"
        },
        "id": "Lz7tWpf_WxZW",
        "outputId": "bca3d768-d5f9-4e8b-8e75-77e9d63e0b73"
      },
      "execution_count": 40,
      "outputs": [
        {
          "output_type": "execute_result",
          "data": {
            "text/plain": [
              "14.901036345059115"
            ]
          },
          "metadata": {},
          "execution_count": 40
        }
      ]
    },
    {
      "cell_type": "code",
      "source": [
        "\n",
        "text_vectorizer = tf.keras.layers.experimental.preprocessing.TextVectorization(max_tokens=10000, #if outside on token voc will replace tokin with <OOV> out of voc\n",
        "                                                                               standardize='lower_and_strip_punctuation',\n",
        "                                                                               split='whitespace',\n",
        "                                                                               ngrams=None, # Make a group of n words\n",
        "                                                                               output_mode='int', # How to map tokenz into numbers\n",
        "                                                                               output_sequence_length = 10, # if None length equal to length of largest training sample..\n",
        "                                                                               pad_to_max_tokens = False)\n",
        "\n",
        "text_vectorizer.adapt(X_train)\n",
        "\n"
      ],
      "metadata": {
        "id": "xAzlApNtGC-U"
      },
      "execution_count": 41,
      "outputs": []
    },
    {
      "cell_type": "code",
      "source": [
        "sample_text = \"there's a flood in my street!\"\n",
        "print(sample_text)\n",
        "text_vectorizer([sample_text])"
      ],
      "metadata": {
        "colab": {
          "base_uri": "https://localhost:8080/"
        },
        "id": "kP7EhPcwcHhX",
        "outputId": "1aa891f2-f8f1-4cee-890a-2bdea4e5f029"
      },
      "execution_count": 42,
      "outputs": [
        {
          "output_type": "stream",
          "name": "stdout",
          "text": [
            "there's a flood in my street!\n"
          ]
        },
        {
          "output_type": "execute_result",
          "data": {
            "text/plain": [
              "<tf.Tensor: shape=(1, 10), dtype=int64, numpy=array([[264,   3, 232,   4,  13, 698,   0,   0,   0,   0]])>"
            ]
          },
          "metadata": {},
          "execution_count": 42
        }
      ]
    },
    {
      "cell_type": "markdown",
      "source": [
        "### Embedding !!"
      ],
      "metadata": {
        "id": "yIECTEtnmtIs"
      }
    },
    {
      "cell_type": "code",
      "source": [
        "embedding = tf.keras.layers.Embedding(input_dim=10000, # same as vocabolary size\n",
        "                                      output_dim = 128,\n",
        "                                      input_length= 10 # How long each input\n",
        "                                      )\n"
      ],
      "metadata": {
        "id": "6eWYsPQMepXT"
      },
      "execution_count": 43,
      "outputs": []
    },
    {
      "cell_type": "code",
      "source": [
        "embedding(text_vectorizer([X[0]]))"
      ],
      "metadata": {
        "colab": {
          "base_uri": "https://localhost:8080/"
        },
        "id": "yWEPqWWFtYv8",
        "outputId": "040903f6-de8f-4429-d7cc-12494e3ce58f"
      },
      "execution_count": 44,
      "outputs": [
        {
          "output_type": "execute_result",
          "data": {
            "text/plain": [
              "<tf.Tensor: shape=(1, 10, 128), dtype=float32, numpy=\n",
              "array([[[ 0.03622519, -0.03258227,  0.00268725, ..., -0.02563161,\n",
              "         -0.03621142, -0.04858364],\n",
              "        [ 0.00785338,  0.04634884,  0.01356197, ..., -0.04331946,\n",
              "          0.02787825,  0.00413143],\n",
              "        [ 0.01151016,  0.01231118,  0.00491732, ..., -0.0050966 ,\n",
              "         -0.04380012,  0.04566245],\n",
              "        ...,\n",
              "        [ 0.04431139, -0.03777505,  0.01040529, ...,  0.03978917,\n",
              "          0.01410602, -0.0012937 ],\n",
              "        [ 0.0111152 , -0.02863989, -0.03818476, ...,  0.02276595,\n",
              "         -0.01387655,  0.01378861],\n",
              "        [ 0.02702286,  0.03242195, -0.00592231, ...,  0.04289088,\n",
              "          0.03318829,  0.02785764]]], dtype=float32)>"
            ]
          },
          "metadata": {},
          "execution_count": 44
        }
      ]
    },
    {
      "cell_type": "code",
      "source": [
        "embedding(text_vectorizer(X_train)).shape"
      ],
      "metadata": {
        "colab": {
          "base_uri": "https://localhost:8080/"
        },
        "id": "q67cFUK_Bj6K",
        "outputId": "3af84b47-687c-49c2-a4a9-da30c7fea069"
      },
      "execution_count": 45,
      "outputs": [
        {
          "output_type": "execute_result",
          "data": {
            "text/plain": [
              "TensorShape([6851, 10, 128])"
            ]
          },
          "metadata": {},
          "execution_count": 45
        }
      ]
    },
    {
      "cell_type": "code",
      "source": [
        "text_vectorizer(X_train).shape"
      ],
      "metadata": {
        "colab": {
          "base_uri": "https://localhost:8080/"
        },
        "id": "tdqepjqhEGvP",
        "outputId": "857646b7-c49d-454c-9f3e-366a1d79c07e"
      },
      "execution_count": 46,
      "outputs": [
        {
          "output_type": "execute_result",
          "data": {
            "text/plain": [
              "TensorShape([6851, 10])"
            ]
          },
          "metadata": {},
          "execution_count": 46
        }
      ]
    },
    {
      "cell_type": "code",
      "source": [
        "X_train_vectorized = embedding(text_vectorizer(X_train))\n",
        "# X_train_vectorized_flatten = tf.reshape(X_train_vectorized,shape=(X_train_vectorized.shape[0],-1))\n",
        "X_train_vectorized_flatten = text_vectorizer(X_train)\n",
        "\n",
        "X_test_vectorized = embedding(text_vectorizer(X_test))\n",
        "# X_test_vectorized_flatten = tf.reshape(X_test_vectorized,shape=(X_test_vectorized.shape[0],-1))\n",
        "X_test_vectorized_flatten = text_vectorizer(X_test)"
      ],
      "metadata": {
        "id": "83faYQpIvZWV"
      },
      "execution_count": 47,
      "outputs": []
    },
    {
      "cell_type": "markdown",
      "source": [
        "## Models (Test Classification)"
      ],
      "metadata": {
        "id": "Lm1VyQtDK09f"
      }
    },
    {
      "cell_type": "markdown",
      "source": [
        "### Random forest, Naive Bayes"
      ],
      "metadata": {
        "id": "odpjf5sS9mLy"
      }
    },
    {
      "cell_type": "code",
      "source": [
        "# Random Forest with TFidf Vectorizer\n",
        "from sklearn.feature_extraction.text import TfidfVectorizer\n",
        "from sklearn.metrics import classification_report,confusion_matrix\n",
        "from sklearn.ensemble import RandomForestClassifier\n",
        "\n",
        "\n",
        "vectorizer = TfidfVectorizer()\n",
        "\n",
        "X_train_vectorized_TFidf = vectorizer.fit_transform(X_train).toarray()\n",
        "X_test_vectorized_TFidf = vectorizer.transform(X_test).toarray()\n",
        "\n",
        "\n",
        "model_0 = RandomForestClassifier()\n",
        "\n",
        "model_0.fit(X_train_vectorized_TFidf,y_train)\n",
        "predictions = model_0.predict(X_test_vectorized_TFidf)\n",
        "print(classification_report(y_test,predictions))\n",
        "print(confusion_matrix(y_test,predictions))"
      ],
      "metadata": {
        "colab": {
          "base_uri": "https://localhost:8080/"
        },
        "id": "lofk2cs39lxh",
        "outputId": "490f6a82-012b-45ca-833e-9ebfcba9eb49"
      },
      "execution_count": 48,
      "outputs": [
        {
          "output_type": "stream",
          "name": "stdout",
          "text": [
            "              precision    recall  f1-score   support\n",
            "\n",
            "           0       0.73      0.93      0.81       414\n",
            "           1       0.87      0.58      0.70       348\n",
            "\n",
            "    accuracy                           0.77       762\n",
            "   macro avg       0.80      0.76      0.76       762\n",
            "weighted avg       0.79      0.77      0.76       762\n",
            "\n",
            "[[384  30]\n",
            " [145 203]]\n"
          ]
        }
      ]
    },
    {
      "cell_type": "code",
      "source": [
        "# Naive Bayes\n",
        "\n",
        "from sklearn.naive_bayes import MultinomialNB\n",
        "\n",
        "model_00 = MultinomialNB()\n",
        "\n",
        "model_00.fit(X_train_vectorized_TFidf,y_train)\n",
        "predictions = model_00.predict(X_test_vectorized_TFidf)\n",
        "\n",
        "print(classification_report(y_test,predictions))\n",
        "print(confusion_matrix(y_test,predictions))"
      ],
      "metadata": {
        "colab": {
          "base_uri": "https://localhost:8080/"
        },
        "id": "k9enicoTEzbO",
        "outputId": "6129d434-2487-4c38-e44c-353b640aae44"
      },
      "execution_count": 49,
      "outputs": [
        {
          "output_type": "stream",
          "name": "stdout",
          "text": [
            "              precision    recall  f1-score   support\n",
            "\n",
            "           0       0.75      0.93      0.83       414\n",
            "           1       0.89      0.63      0.73       348\n",
            "\n",
            "    accuracy                           0.79       762\n",
            "   macro avg       0.82      0.78      0.78       762\n",
            "weighted avg       0.81      0.79      0.79       762\n",
            "\n",
            "[[386  28]\n",
            " [130 218]]\n"
          ]
        }
      ]
    },
    {
      "cell_type": "markdown",
      "source": [
        "### Traditional NN"
      ],
      "metadata": {
        "id": "hUZn3SKhOgtO"
      }
    },
    {
      "cell_type": "code",
      "source": [
        "embedding(text_vectorizer(['hello']))"
      ],
      "metadata": {
        "colab": {
          "base_uri": "https://localhost:8080/"
        },
        "id": "h75NecUick54",
        "outputId": "4c487cfe-8acf-46ab-99e4-faa1e3ea383d"
      },
      "execution_count": 50,
      "outputs": [
        {
          "output_type": "execute_result",
          "data": {
            "text/plain": [
              "<tf.Tensor: shape=(1, 10, 128), dtype=float32, numpy=\n",
              "array([[[-0.00294392,  0.01712425,  0.00450368, ...,  0.01158799,\n",
              "         -0.04502733, -0.02948659],\n",
              "        [ 0.03533825, -0.00114501,  0.01856271, ...,  0.04892525,\n",
              "          0.00844435, -0.02191135],\n",
              "        [ 0.03533825, -0.00114501,  0.01856271, ...,  0.04892525,\n",
              "          0.00844435, -0.02191135],\n",
              "        ...,\n",
              "        [ 0.03533825, -0.00114501,  0.01856271, ...,  0.04892525,\n",
              "          0.00844435, -0.02191135],\n",
              "        [ 0.03533825, -0.00114501,  0.01856271, ...,  0.04892525,\n",
              "          0.00844435, -0.02191135],\n",
              "        [ 0.03533825, -0.00114501,  0.01856271, ...,  0.04892525,\n",
              "          0.00844435, -0.02191135]]], dtype=float32)>"
            ]
          },
          "metadata": {},
          "execution_count": 50
        }
      ]
    },
    {
      "cell_type": "code",
      "source": [
        "\n",
        "input = tf.keras.layers.Input((1,),dtype=tf.string)\n",
        "x = text_vectorizer(input)\n",
        "x = embedding(x)\n",
        "# x = tf.keras.layers.Flatten()(x)   # Global Avg pooling performed better !!\n",
        "x = tf.keras.layers.GlobalAveragePooling1D()(x)\n",
        "x = tf.keras.layers.Dense(50,activation='relu')(x)\n",
        "x = tf.keras.layers.Dense(50,activation='relu')(x)\n",
        "output = tf.keras.layers.Dense(1,activation='sigmoid')(x)\n",
        "model_1 = tf.keras.models.Model(input,output)\n",
        "model_1.compile(loss='binary_crossentropy', optimizer='adam',metrics=['accuracy'])\n",
        "\n",
        "model_1.fit(X_train,y_train,epochs=1,\n",
        "            validation_data=(X_test,y_test))\n"
      ],
      "metadata": {
        "colab": {
          "base_uri": "https://localhost:8080/"
        },
        "id": "1QdZRXbWLBmP",
        "outputId": "e6736534-f126-4955-d88a-ec50520806cf"
      },
      "execution_count": 51,
      "outputs": [
        {
          "output_type": "stream",
          "name": "stdout",
          "text": [
            "Epoch 1/10\n",
            "215/215 [==============================] - 8s 30ms/step - loss: 0.5448 - accuracy: 0.7205 - val_loss: 0.4838 - val_accuracy: 0.7756\n",
            "Epoch 2/10\n",
            "215/215 [==============================] - 10s 44ms/step - loss: 0.3383 - accuracy: 0.8609 - val_loss: 0.5047 - val_accuracy: 0.7664\n",
            "Epoch 3/10\n",
            "215/215 [==============================] - 11s 52ms/step - loss: 0.2305 - accuracy: 0.9127 - val_loss: 0.5775 - val_accuracy: 0.7598\n",
            "Epoch 4/10\n",
            "215/215 [==============================] - 16s 74ms/step - loss: 0.1613 - accuracy: 0.9364 - val_loss: 0.7453 - val_accuracy: 0.7677\n",
            "Epoch 5/10\n",
            "215/215 [==============================] - 6s 28ms/step - loss: 0.1154 - accuracy: 0.9504 - val_loss: 0.8880 - val_accuracy: 0.7520\n",
            "Epoch 6/10\n",
            "215/215 [==============================] - 7s 31ms/step - loss: 0.0911 - accuracy: 0.9555 - val_loss: 1.0769 - val_accuracy: 0.7480\n",
            "Epoch 7/10\n",
            "215/215 [==============================] - 5s 25ms/step - loss: 0.0764 - accuracy: 0.9619 - val_loss: 1.2147 - val_accuracy: 0.7388\n",
            "Epoch 8/10\n",
            "215/215 [==============================] - 6s 30ms/step - loss: 0.0714 - accuracy: 0.9658 - val_loss: 1.4185 - val_accuracy: 0.7480\n",
            "Epoch 9/10\n",
            "215/215 [==============================] - 6s 28ms/step - loss: 0.0647 - accuracy: 0.9675 - val_loss: 1.4624 - val_accuracy: 0.7349\n",
            "Epoch 10/10\n",
            "215/215 [==============================] - 8s 37ms/step - loss: 0.0550 - accuracy: 0.9743 - val_loss: 1.7334 - val_accuracy: 0.7336\n"
          ]
        },
        {
          "output_type": "execute_result",
          "data": {
            "text/plain": [
              "<keras.src.callbacks.History at 0x7d66f5500940>"
            ]
          },
          "metadata": {},
          "execution_count": 51
        }
      ]
    },
    {
      "cell_type": "code",
      "source": [
        "model_1.summary()"
      ],
      "metadata": {
        "colab": {
          "base_uri": "https://localhost:8080/"
        },
        "id": "0wL_buF4XrE1",
        "outputId": "1e282d97-bd0a-475b-dfa4-3ad9a2ee4347"
      },
      "execution_count": 52,
      "outputs": [
        {
          "output_type": "stream",
          "name": "stdout",
          "text": [
            "Model: \"model_2\"\n",
            "_________________________________________________________________\n",
            " Layer (type)                Output Shape              Param #   \n",
            "=================================================================\n",
            " input_3 (InputLayer)        [(None, 1)]               0         \n",
            "                                                                 \n",
            " text_vectorization_2 (Text  (None, 10)                0         \n",
            " Vectorization)                                                  \n",
            "                                                                 \n",
            " embedding_2 (Embedding)     (None, 10, 128)           1280000   \n",
            "                                                                 \n",
            " global_average_pooling1d_2  (None, 128)               0         \n",
            "  (GlobalAveragePooling1D)                                       \n",
            "                                                                 \n",
            " dense_6 (Dense)             (None, 50)                6450      \n",
            "                                                                 \n",
            " dense_7 (Dense)             (None, 50)                2550      \n",
            "                                                                 \n",
            " dense_8 (Dense)             (None, 1)                 51        \n",
            "                                                                 \n",
            "=================================================================\n",
            "Total params: 1289051 (4.92 MB)\n",
            "Trainable params: 1289051 (4.92 MB)\n",
            "Non-trainable params: 0 (0.00 Byte)\n",
            "_________________________________________________________________\n"
          ]
        }
      ]
    },
    {
      "cell_type": "code",
      "source": [
        "predictions = model_1.predict(X_test)\n",
        "predictions = tf.reshape(predictions,(predictions.shape[0])).numpy()\n",
        "print(classification_report(y_test,np.round(predictions)))\n",
        "print(confusion_matrix(y_test,np.round(predictions)))"
      ],
      "metadata": {
        "colab": {
          "base_uri": "https://localhost:8080/"
        },
        "id": "PQzbuwS5P1-t",
        "outputId": "0745bb02-8d8f-45a5-a3e9-6978d920c175"
      },
      "execution_count": 53,
      "outputs": [
        {
          "output_type": "stream",
          "name": "stdout",
          "text": [
            "24/24 [==============================] - 0s 8ms/step\n",
            "              precision    recall  f1-score   support\n",
            "\n",
            "           0       0.75      0.76      0.76       414\n",
            "           1       0.71      0.70      0.71       348\n",
            "\n",
            "    accuracy                           0.73       762\n",
            "   macro avg       0.73      0.73      0.73       762\n",
            "weighted avg       0.73      0.73      0.73       762\n",
            "\n",
            "[[314 100]\n",
            " [103 245]]\n"
          ]
        }
      ]
    },
    {
      "cell_type": "code",
      "source": [
        "print('%',model_1.predict(['my young brother loves toy cars'],verbose=0)[0][0]*1000//1/10)"
      ],
      "metadata": {
        "colab": {
          "base_uri": "https://localhost:8080/"
        },
        "id": "drQH-LO_IDvG",
        "outputId": "8548570f-481a-492b-88f2-32c20e82368b"
      },
      "execution_count": 54,
      "outputs": [
        {
          "output_type": "stream",
          "name": "stdout",
          "text": [
            "% 89.0\n"
          ]
        }
      ]
    },
    {
      "cell_type": "code",
      "source": [
        "embedding(text_vectorizer(['hello']))"
      ],
      "metadata": {
        "id": "Z_EXFxwfP-K_",
        "colab": {
          "base_uri": "https://localhost:8080/"
        },
        "outputId": "23279cac-6b06-4a52-f7b3-3d443c3a6f89"
      },
      "execution_count": 55,
      "outputs": [
        {
          "output_type": "execute_result",
          "data": {
            "text/plain": [
              "<tf.Tensor: shape=(1, 10, 128), dtype=float32, numpy=\n",
              "array([[[-0.02081699,  0.04304214, -0.01091111, ...,  0.0292802 ,\n",
              "         -0.028917  , -0.06014417],\n",
              "        [ 0.02731986,  0.01032973,  0.02118909, ...,  0.04890683,\n",
              "          0.00125785, -0.01054836],\n",
              "        [ 0.02731986,  0.01032973,  0.02118909, ...,  0.04890683,\n",
              "          0.00125785, -0.01054836],\n",
              "        ...,\n",
              "        [ 0.02731986,  0.01032973,  0.02118909, ...,  0.04890683,\n",
              "          0.00125785, -0.01054836],\n",
              "        [ 0.02731986,  0.01032973,  0.02118909, ...,  0.04890683,\n",
              "          0.00125785, -0.01054836],\n",
              "        [ 0.02731986,  0.01032973,  0.02118909, ...,  0.04890683,\n",
              "          0.00125785, -0.01054836]]], dtype=float32)>"
            ]
          },
          "metadata": {},
          "execution_count": 55
        }
      ]
    },
    {
      "cell_type": "code",
      "source": [
        "# Visualize word embeddings\n",
        "\n",
        "from sklearn.decomposition import PCA\n",
        "import matplotlib.pyplot as plt\n",
        "\n",
        "def visualize_embedings(words,tokinizer,embedder):\n",
        "  \"\"\"\n",
        "  words: 1D of words as list or array\n",
        "  tokinizer: vectorizer turning words into tokins\n",
        "  embedder: turning tokins into embedding vectors\n",
        "  \"\"\"\n",
        "  emb = words\n",
        "  words = emb\n",
        "  emb = embedder(tokinizer(emb)).numpy()\n",
        "  emb = np.reshape(emb,(emb.shape[0],-1))\n",
        "\n",
        "  pca = PCA(2)\n",
        "  projected_emb = pca.fit_transform(emb)\n",
        "\n",
        "\n",
        "  plt.figure(figsize=(15,10))\n",
        "  plt.scatter(projected_emb.T[0],\n",
        "              projected_emb.T[1])\n",
        "\n",
        "  for i, word in enumerate(words):\n",
        "      plt.annotate(word, (projected_emb[i, 0], projected_emb[i, 1]), textcoords=\"offset points\", xytext=(0, 5), ha='center')\n",
        "\n",
        "  plt.show()\n",
        "\n",
        "visualize_embedings(vocab[100:150]['word'],text_vectorizer,embedding)"
      ],
      "metadata": {
        "colab": {
          "base_uri": "https://localhost:8080/",
          "height": 708
        },
        "id": "124Qq97_dyWN",
        "outputId": "e2eaf6fb-9cfc-4f27-b9ef-6c98973b94b7"
      },
      "execution_count": 56,
      "outputs": [
        {
          "output_type": "display_data",
          "data": {
            "text/plain": [
              "<Figure size 1500x1000 with 1 Axes>"
            ],
            "image/png": "[encoded data removed]"
          },
          "metadata": {}
        }
      ]
    },
    {
      "cell_type": "code",
      "source": [
        "model_1.summary()"
      ],
      "metadata": {
        "colab": {
          "base_uri": "https://localhost:8080/"
        },
        "id": "5n7LnRKpsQmR",
        "outputId": "204cd9d5-3868-49b2-db15-5549226f261e"
      },
      "execution_count": 57,
      "outputs": [
        {
          "output_type": "stream",
          "name": "stdout",
          "text": [
            "Model: \"model_2\"\n",
            "_________________________________________________________________\n",
            " Layer (type)                Output Shape              Param #   \n",
            "=================================================================\n",
            " input_3 (InputLayer)        [(None, 1)]               0         \n",
            "                                                                 \n",
            " text_vectorization_2 (Text  (None, 10)                0         \n",
            " Vectorization)                                                  \n",
            "                                                                 \n",
            " embedding_2 (Embedding)     (None, 10, 128)           1280000   \n",
            "                                                                 \n",
            " global_average_pooling1d_2  (None, 128)               0         \n",
            "  (GlobalAveragePooling1D)                                       \n",
            "                                                                 \n",
            " dense_6 (Dense)             (None, 50)                6450      \n",
            "                                                                 \n",
            " dense_7 (Dense)             (None, 50)                2550      \n",
            "                                                                 \n",
            " dense_8 (Dense)             (None, 1)                 51        \n",
            "                                                                 \n",
            "=================================================================\n",
            "Total params: 1289051 (4.92 MB)\n",
            "Trainable params: 1289051 (4.92 MB)\n",
            "Non-trainable params: 0 (0.00 Byte)\n",
            "_________________________________________________________________\n"
          ]
        }
      ]
    },
    {
      "cell_type": "markdown",
      "source": [
        "### RNN (LSTM)\n"
      ],
      "metadata": {
        "id": "uGJdfQ7On0nr"
      }
    },
    {
      "cell_type": "code",
      "source": [
        "seq_length = 20\n",
        "\n",
        "vectorizer = tf.keras.layers.experimental.preprocessing.TextVectorization(max_tokens = 1000,output_sequence_length=seq_length)\n",
        "vectorizer.adapt(X_train)\n",
        "\n",
        "input = tf.keras.layers.Input(shape=(1,),dtype=tf.string)\n",
        "x = vectorizer(input)\n",
        "x = tf.keras.layers.Embedding(input_dim = 1000,output_dim = 100,input_length = seq_length)(x)\n",
        "\n",
        "x = tf.keras.layers.LSTM(64,return_sequences=True)(x) # return_sequenses so we allow to stack multiple RNNs layers\n",
        "# x = tf.keras.layers.LSTM(64)(x)\n",
        "x = tf.keras.layers.GlobalAvgPool1D()(x)\n",
        "# x = tf.keras.layers.Flatten()(x)\n",
        "\n",
        "x = tf.keras.layers.Dense(64,activation='relu')(x)\n",
        "x = tf.keras.layers.Dense(32,activation='relu')(x)\n",
        "output = tf.keras.layers.Dense(1,activation='sigmoid')(x)\n",
        "model_2 = tf.keras.models.Model(input,output)\n",
        "model_2.compile(loss = 'binary_crossentropy',optimizer = 'adam',metrics=['accuracy'])\n",
        "\n",
        "model_2.fit(X_train,y_train,epochs=1,validation_data=(X_test,y_test))"
      ],
      "metadata": {
        "colab": {
          "base_uri": "https://localhost:8080/"
        },
        "id": "FTuDOtc1xu19",
        "outputId": "bd7da237-4140-459c-9079-ae6a4507f2ec"
      },
      "execution_count": 58,
      "outputs": [
        {
          "output_type": "stream",
          "name": "stdout",
          "text": [
            "215/215 [==============================] - 10s 31ms/step - loss: 0.5407 - accuracy: 0.7306 - val_loss: 0.4859 - val_accuracy: 0.7730\n"
          ]
        },
        {
          "output_type": "execute_result",
          "data": {
            "text/plain": [
              "<keras.src.callbacks.History at 0x7d66e96ae5f0>"
            ]
          },
          "metadata": {},
          "execution_count": 58
        }
      ]
    },
    {
      "cell_type": "code",
      "source": [
        "model_2.summary()"
      ],
      "metadata": {
        "colab": {
          "base_uri": "https://localhost:8080/"
        },
        "id": "Ih3jPwVbOhxZ",
        "outputId": "b3f92b73-4776-42b3-9f0e-61be55f4b1be"
      },
      "execution_count": 59,
      "outputs": [
        {
          "output_type": "stream",
          "name": "stdout",
          "text": [
            "Model: \"model_3\"\n",
            "_________________________________________________________________\n",
            " Layer (type)                Output Shape              Param #   \n",
            "=================================================================\n",
            " input_4 (InputLayer)        [(None, 1)]               0         \n",
            "                                                                 \n",
            " text_vectorization_3 (Text  (None, 20)                0         \n",
            " Vectorization)                                                  \n",
            "                                                                 \n",
            " embedding_3 (Embedding)     (None, 20, 100)           100000    \n",
            "                                                                 \n",
            " lstm_1 (LSTM)               (None, 20, 64)            42240     \n",
            "                                                                 \n",
            " global_average_pooling1d_3  (None, 64)                0         \n",
            "  (GlobalAveragePooling1D)                                       \n",
            "                                                                 \n",
            " dense_9 (Dense)             (None, 64)                4160      \n",
            "                                                                 \n",
            " dense_10 (Dense)            (None, 32)                2080      \n",
            "                                                                 \n",
            " dense_11 (Dense)            (None, 1)                 33        \n",
            "                                                                 \n",
            "=================================================================\n",
            "Total params: 148513 (580.13 KB)\n",
            "Trainable params: 148513 (580.13 KB)\n",
            "Non-trainable params: 0 (0.00 Byte)\n",
            "_________________________________________________________________\n"
          ]
        }
      ]
    },
    {
      "cell_type": "code",
      "source": [
        "def model_result(model,X_test,y_test):\n",
        "  predictions = model.predict(X_test,verbose=0)\n",
        "  predictions = tf.reshape(predictions,(predictions.shape[0])).numpy()\n",
        "  print(classification_report(y_test,np.round(predictions)))\n",
        "  print(confusion_matrix(y_test,np.round(predictions)))\n",
        "\n",
        "model_result(model_2,X_test,y_test)"
      ],
      "metadata": {
        "colab": {
          "base_uri": "https://localhost:8080/"
        },
        "id": "EtZ_ZdzBLuBj",
        "outputId": "57314ed2-2184-45a2-d34a-99ace22e50ea"
      },
      "execution_count": 60,
      "outputs": [
        {
          "output_type": "stream",
          "name": "stdout",
          "text": [
            "              precision    recall  f1-score   support\n",
            "\n",
            "           0       0.73      0.91      0.81       414\n",
            "           1       0.85      0.61      0.71       348\n",
            "\n",
            "    accuracy                           0.77       762\n",
            "   macro avg       0.79      0.76      0.76       762\n",
            "weighted avg       0.79      0.77      0.77       762\n",
            "\n",
            "[[378  36]\n",
            " [137 211]]\n"
          ]
        }
      ]
    },
    {
      "cell_type": "code",
      "source": [
        "def model_tial(model,text):\n",
        "  print(\"'\",text,\"' =>\",' %',int(model.predict([text],verbose=0)[0][0]*100), 'chance to be disaster')\n",
        "\n",
        "# Test being joking in the tweet\n",
        "\n",
        "model_tial(model_2,'there is a flood in our street')\n",
        "model_tial(model_2,'there is a flood in our street, haha kidding') # Still considered as disaster due to unidirected model\n",
        "model_tial(model_2,'haha kidding, there is a flood in our street')"
      ],
      "metadata": {
        "colab": {
          "base_uri": "https://localhost:8080/"
        },
        "id": "76KBaSHZOFQD",
        "outputId": "441ecd76-de16-4b2a-9c89-b61951991b76"
      },
      "execution_count": 61,
      "outputs": [
        {
          "output_type": "stream",
          "name": "stdout",
          "text": [
            "' there is a flood in our street ' =>  % 71 chance to be disaster\n",
            "' there is a flood in our street, haha kidding ' =>  % 61 chance to be disaster\n",
            "' haha kidding, there is a flood in our street ' =>  % 45 chance to be disaster\n"
          ]
        }
      ]
    },
    {
      "cell_type": "code",
      "source": [
        "# Test the \"not\"\n",
        "\n",
        "model_tial(model_2,'there is a flood in our street')\n",
        "model_tial(model_2,'there is no flood in our street')"
      ],
      "metadata": {
        "colab": {
          "base_uri": "https://localhost:8080/"
        },
        "id": "UMXtw5ILSdMs",
        "outputId": "59bb36c1-ce66-4fd8-b0c7-7cd3209c2698"
      },
      "execution_count": 62,
      "outputs": [
        {
          "output_type": "stream",
          "name": "stdout",
          "text": [
            "' there is a flood in our street ' =>  % 71 chance to be disaster\n",
            "' there is no flood in our street ' =>  % 66 chance to be disaster\n"
          ]
        }
      ]
    },
    {
      "cell_type": "markdown",
      "source": [
        "### RNN (GRU)"
      ],
      "metadata": {
        "id": "a1IkBVaRUfYk"
      }
    },
    {
      "cell_type": "code",
      "source": [
        "seq_length = 20\n",
        "\n",
        "vectorizer = tf.keras.layers.experimental.preprocessing.TextVectorization(max_tokens = 1000,output_sequence_length=seq_length)\n",
        "vectorizer.adapt(X_train)\n",
        "\n",
        "input = tf.keras.layers.Input(shape=(1,),dtype=tf.string)\n",
        "x = vectorizer(input)\n",
        "x = tf.keras.layers.Embedding(input_dim = 1000,output_dim = 100,input_length = seq_length)(x)\n",
        "\n",
        "x = tf.keras.layers.GRU(64,return_sequences=True)(x)\n",
        "x = tf.keras.layers.GlobalAvgPool1D()(x)\n",
        "# x = tf.keras.layers.Flatten()(x)\n",
        "\n",
        "x = tf.keras.layers.Dense(64,activation='relu')(x)\n",
        "x = tf.keras.layers.Dense(32,activation='relu')(x)\n",
        "output = tf.keras.layers.Dense(1,activation='sigmoid')(x)\n",
        "model_3 = tf.keras.models.Model(input,output)\n",
        "model_3.compile(loss = 'binary_crossentropy',optimizer = 'adam',metrics=['accuracy'])\n",
        "\n",
        "model_3.fit(X_train,y_train,epochs=1,validation_data=(X_test,y_test))"
      ],
      "metadata": {
        "colab": {
          "base_uri": "https://localhost:8080/"
        },
        "id": "xCVLc0jjUhRc",
        "outputId": "00ca5c44-e471-4b3b-aacb-69df8d92fbbb"
      },
      "execution_count": 63,
      "outputs": [
        {
          "output_type": "stream",
          "name": "stdout",
          "text": [
            "215/215 [==============================] - 10s 30ms/step - loss: 0.5330 - accuracy: 0.7275 - val_loss: 0.4848 - val_accuracy: 0.7559\n"
          ]
        },
        {
          "output_type": "execute_result",
          "data": {
            "text/plain": [
              "<keras.src.callbacks.History at 0x7d668c8ee290>"
            ]
          },
          "metadata": {},
          "execution_count": 63
        }
      ]
    },
    {
      "cell_type": "code",
      "source": [
        "model_result(model_3,X_test,y_test)"
      ],
      "metadata": {
        "colab": {
          "base_uri": "https://localhost:8080/"
        },
        "id": "7MCwMHS9UuWS",
        "outputId": "01f3fd1a-eff7-489d-8be9-08f6fd733b37"
      },
      "execution_count": 64,
      "outputs": [
        {
          "output_type": "stream",
          "name": "stdout",
          "text": [
            "              precision    recall  f1-score   support\n",
            "\n",
            "           0       0.72      0.90      0.80       414\n",
            "           1       0.83      0.58      0.69       348\n",
            "\n",
            "    accuracy                           0.76       762\n",
            "   macro avg       0.78      0.74      0.74       762\n",
            "weighted avg       0.77      0.76      0.75       762\n",
            "\n",
            "[[373  41]\n",
            " [145 203]]\n"
          ]
        }
      ]
    },
    {
      "cell_type": "code",
      "source": [
        "# GRU fails to detect the joke !!\n",
        "model_tial(model_3,'there is a flood in our street')\n",
        "model_tial(model_3,'there is a flood in our street, haha kidding')\n",
        "model_tial(model_3,'haha kidding, there is a flood in our street')"
      ],
      "metadata": {
        "colab": {
          "base_uri": "https://localhost:8080/"
        },
        "id": "1xtTaBQ0VWu5",
        "outputId": "c9218208-9151-46ca-9221-0b93d6bdfd4d"
      },
      "execution_count": 65,
      "outputs": [
        {
          "output_type": "stream",
          "name": "stdout",
          "text": [
            "' there is a flood in our street ' =>  % 61 chance to be disaster\n",
            "' there is a flood in our street, haha kidding ' =>  % 47 chance to be disaster\n",
            "' haha kidding, there is a flood in our street ' =>  % 41 chance to be disaster\n"
          ]
        }
      ]
    },
    {
      "cell_type": "code",
      "source": [
        "# Also failed to detect the negation\n",
        "\n",
        "model_tial(model_3,'there is a flood in our street')\n",
        "model_tial(model_3,'there is no flood in our street')"
      ],
      "metadata": {
        "colab": {
          "base_uri": "https://localhost:8080/"
        },
        "id": "KVKq2PmzVhDA",
        "outputId": "39bddbe8-2f05-4b4c-d84b-63a886838d7d"
      },
      "execution_count": 66,
      "outputs": [
        {
          "output_type": "stream",
          "name": "stdout",
          "text": [
            "' there is a flood in our street ' =>  % 61 chance to be disaster\n",
            "' there is no flood in our street ' =>  % 60 chance to be disaster\n"
          ]
        }
      ]
    },
    {
      "cell_type": "markdown",
      "source": [
        "### RNN (Bidirectional)"
      ],
      "metadata": {
        "id": "Icrvz18BV6AL"
      }
    },
    {
      "cell_type": "code",
      "source": [
        "seq_length = 20\n",
        "\n",
        "vectorizer = tf.keras.layers.experimental.preprocessing.TextVectorization(max_tokens = 1000,output_sequence_length=seq_length)\n",
        "vectorizer.adapt(X_train)\n",
        "\n",
        "input = tf.keras.layers.Input(shape=(1,),dtype=tf.string)\n",
        "x = vectorizer(input)\n",
        "x = tf.keras.layers.Embedding(input_dim = 1000,output_dim = 100,input_length = seq_length)(x)\n",
        "\n",
        "x = tf.keras.layers.Bidirectional( tf.keras.layers.LSTM(64,return_sequences=True))(x)\n",
        "x = tf.keras.layers.Bidirectional( tf.keras.layers.LSTM(32))(x)\n",
        "\n",
        "\n",
        "x = tf.keras.layers.Dense(64,activation='relu')(x)\n",
        "x = tf.keras.layers.Dense(32,activation='relu')(x)\n",
        "output = tf.keras.layers.Dense(1,activation='sigmoid')(x)\n",
        "model_4 = tf.keras.models.Model(input,output)\n",
        "model_4.compile(loss = 'binary_crossentropy',optimizer = 'adam',metrics=['accuracy'])\n",
        "\n",
        "model_4.fit(X_train,y_train,epochs=1,validation_data=(X_test,y_test))"
      ],
      "metadata": {
        "colab": {
          "base_uri": "https://localhost:8080/"
        },
        "id": "cqi0cKjXV8ox",
        "outputId": "4997169c-a620-4c0e-b00c-9441c5120190"
      },
      "execution_count": 67,
      "outputs": [
        {
          "output_type": "stream",
          "name": "stdout",
          "text": [
            "215/215 [==============================] - 25s 71ms/step - loss: 0.5279 - accuracy: 0.7332 - val_loss: 0.4761 - val_accuracy: 0.7730\n"
          ]
        },
        {
          "output_type": "execute_result",
          "data": {
            "text/plain": [
              "<keras.src.callbacks.History at 0x7d66e354b4f0>"
            ]
          },
          "metadata": {},
          "execution_count": 67
        }
      ]
    },
    {
      "cell_type": "code",
      "source": [
        "model_result(model_4,X_test,y_test)"
      ],
      "metadata": {
        "colab": {
          "base_uri": "https://localhost:8080/"
        },
        "id": "7dsEFX2kaHu1",
        "outputId": "3c324bc5-6f18-42dc-b0c5-493d384e2bf2"
      },
      "execution_count": 68,
      "outputs": [
        {
          "output_type": "stream",
          "name": "stdout",
          "text": [
            "              precision    recall  f1-score   support\n",
            "\n",
            "           0       0.74      0.89      0.81       414\n",
            "           1       0.83      0.63      0.72       348\n",
            "\n",
            "    accuracy                           0.77       762\n",
            "   macro avg       0.79      0.76      0.76       762\n",
            "weighted avg       0.78      0.77      0.77       762\n",
            "\n",
            "[[370  44]\n",
            " [129 219]]\n"
          ]
        }
      ]
    },
    {
      "cell_type": "code",
      "source": [
        "# Joke detect test\n",
        "model_tial(model_4,'there is a flood in our street')\n",
        "model_tial(model_4,'there is a flood in our street, haha kidding')\n",
        "model_tial(model_4,'haha kidding, there is a flood in our street')\n",
        "\n",
        "print('\\n\\n')\n",
        "# Negation detect test\n",
        "\n",
        "model_tial(model_4,'there is a flood in our street')\n",
        "model_tial(model_4,'there is no flood in our street')"
      ],
      "metadata": {
        "colab": {
          "base_uri": "https://localhost:8080/"
        },
        "outputId": "d3dd59db-9521-42b5-ec93-b93b5ba7fa1d",
        "id": "PLw0zHXLaCcV"
      },
      "execution_count": 69,
      "outputs": [
        {
          "output_type": "stream",
          "name": "stdout",
          "text": [
            "' there is a flood in our street ' =>  % 66 chance to be disaster\n",
            "' there is a flood in our street, haha kidding ' =>  % 65 chance to be disaster\n",
            "' haha kidding, there is a flood in our street ' =>  % 63 chance to be disaster\n",
            "\n",
            "\n",
            "\n",
            "' there is a flood in our street ' =>  % 66 chance to be disaster\n",
            "' there is no flood in our street ' =>  % 73 chance to be disaster\n"
          ]
        }
      ]
    },
    {
      "cell_type": "markdown",
      "source": [
        "### CNN Conv1D"
      ],
      "metadata": {
        "id": "ke3CTo2AfR9O"
      }
    },
    {
      "cell_type": "code",
      "source": [
        "seq_length = 20\n",
        "\n",
        "vectorizer = tf.keras.layers.experimental.preprocessing.TextVectorization(max_tokens = 1000,output_sequence_length=seq_length)\n",
        "vectorizer.adapt(X_train)\n",
        "\n",
        "input = tf.keras.layers.Input(shape=(1,),dtype=tf.string)\n",
        "x = vectorizer(input)\n",
        "x = tf.keras.layers.Embedding(input_dim = 1000,output_dim = 100,input_length = seq_length)(x)\n",
        "\n",
        "\n",
        "x = tf.keras.layers.Conv1D(64,7,padding='same')(x)\n",
        "x = tf.keras.layers.Conv1D(64,7,padding='same')(x)\n",
        "x = tf.keras.layers.MaxPool1D()(x)\n",
        "x = tf.keras.layers.Conv1D(64,7,padding='same')(x)\n",
        "x = tf.keras.layers.Conv1D(64,7,padding='same')(x)\n",
        "\n",
        "x = tf.keras.layers.Bidirectional(tf.keras.layers.LSTM(64,return_sequences=True))(x)\n",
        "x = tf.keras.layers.GlobalAveragePooling1D()(x)\n",
        "\n",
        "output = tf.keras.layers.Dense(1,activation='sigmoid')(x)\n",
        "model_5 = tf.keras.models.Model(input,output)\n",
        "model_5.compile(loss = 'binary_crossentropy',optimizer = 'adam',metrics=['accuracy'])\n",
        "\n",
        "model_5.summary()"
      ],
      "metadata": {
        "colab": {
          "base_uri": "https://localhost:8080/"
        },
        "id": "CrCXOKUGbO3c",
        "outputId": "a07ad4ef-8488-41d1-a9c4-a14cf9c153cf"
      },
      "execution_count": 70,
      "outputs": [
        {
          "output_type": "stream",
          "name": "stdout",
          "text": [
            "Model: \"model_6\"\n",
            "_________________________________________________________________\n",
            " Layer (type)                Output Shape              Param #   \n",
            "=================================================================\n",
            " input_7 (InputLayer)        [(None, 1)]               0         \n",
            "                                                                 \n",
            " text_vectorization_6 (Text  (None, 20)                0         \n",
            " Vectorization)                                                  \n",
            "                                                                 \n",
            " embedding_6 (Embedding)     (None, 20, 100)           100000    \n",
            "                                                                 \n",
            " conv1d (Conv1D)             (None, 20, 64)            44864     \n",
            "                                                                 \n",
            " conv1d_1 (Conv1D)           (None, 20, 64)            28736     \n",
            "                                                                 \n",
            " max_pooling1d (MaxPooling1  (None, 10, 64)            0         \n",
            " D)                                                              \n",
            "                                                                 \n",
            " conv1d_2 (Conv1D)           (None, 10, 64)            28736     \n",
            "                                                                 \n",
            " conv1d_3 (Conv1D)           (None, 10, 64)            28736     \n",
            "                                                                 \n",
            " bidirectional_2 (Bidirecti  (None, 10, 128)           66048     \n",
            " onal)                                                           \n",
            "                                                                 \n",
            " global_average_pooling1d_5  (None, 128)               0         \n",
            "  (GlobalAveragePooling1D)                                       \n",
            "                                                                 \n",
            " dense_18 (Dense)            (None, 1)                 129       \n",
            "                                                                 \n",
            "=================================================================\n",
            "Total params: 297249 (1.13 MB)\n",
            "Trainable params: 297249 (1.13 MB)\n",
            "Non-trainable params: 0 (0.00 Byte)\n",
            "_________________________________________________________________\n"
          ]
        }
      ]
    },
    {
      "cell_type": "code",
      "source": [
        "model_5.fit(X_train,y_train,epochs=1,validation_data=(X_test,y_test))"
      ],
      "metadata": {
        "colab": {
          "base_uri": "https://localhost:8080/"
        },
        "id": "tAhJwQMAijh1",
        "outputId": "915c5b81-62e7-4632-c21b-0d85f05e8abc"
      },
      "execution_count": 71,
      "outputs": [
        {
          "output_type": "stream",
          "name": "stdout",
          "text": [
            "215/215 [==============================] - 16s 41ms/step - loss: 0.5215 - accuracy: 0.7416 - val_loss: 0.4866 - val_accuracy: 0.7703\n"
          ]
        },
        {
          "output_type": "execute_result",
          "data": {
            "text/plain": [
              "<keras.src.callbacks.History at 0x7d66d4e0f400>"
            ]
          },
          "metadata": {},
          "execution_count": 71
        }
      ]
    },
    {
      "cell_type": "code",
      "source": [
        "model_result(model_5,X_test,y_test)"
      ],
      "metadata": {
        "colab": {
          "base_uri": "https://localhost:8080/"
        },
        "id": "d-FcSVFWgLiG",
        "outputId": "0e4de696-4cd2-49a4-9731-a01139b4fcac"
      },
      "execution_count": 72,
      "outputs": [
        {
          "output_type": "stream",
          "name": "stdout",
          "text": [
            "              precision    recall  f1-score   support\n",
            "\n",
            "           0       0.74      0.90      0.81       414\n",
            "           1       0.84      0.62      0.71       348\n",
            "\n",
            "    accuracy                           0.77       762\n",
            "   macro avg       0.79      0.76      0.76       762\n",
            "weighted avg       0.78      0.77      0.76       762\n",
            "\n",
            "[[372  42]\n",
            " [133 215]]\n"
          ]
        }
      ]
    },
    {
      "cell_type": "code",
      "source": [
        "# Joke detect test\n",
        "model_tial(model_5,'there is a flood in our street')\n",
        "model_tial(model_5,'there is a flood in our street, haha kidding')\n",
        "model_tial(model_5,'haha kidding, there is a flood in our street')\n",
        "\n",
        "print('\\n\\n')\n",
        "# Negation detect test\n",
        "\n",
        "model_tial(model_5,'there is a flood in our street')\n",
        "model_tial(model_5,'there is no flood in our street')"
      ],
      "metadata": {
        "colab": {
          "base_uri": "https://localhost:8080/"
        },
        "id": "oNW2verVgBvD",
        "outputId": "1c7e51c0-0c4c-43e5-ed9b-ec42b1071800"
      },
      "execution_count": 73,
      "outputs": [
        {
          "output_type": "stream",
          "name": "stdout",
          "text": [
            "' there is a flood in our street ' =>  % 59 chance to be disaster\n",
            "' there is a flood in our street, haha kidding ' =>  % 47 chance to be disaster\n",
            "' haha kidding, there is a flood in our street ' =>  % 47 chance to be disaster\n",
            "\n",
            "\n",
            "\n",
            "' there is a flood in our street ' =>  % 59 chance to be disaster\n",
            "' there is no flood in our street ' =>  % 66 chance to be disaster\n"
          ]
        }
      ]
    },
    {
      "cell_type": "markdown",
      "source": [
        "### Pretrained Embeddings"
      ],
      "metadata": {
        "id": "kLdFNEzBgdbX"
      }
    },
    {
      "cell_type": "code",
      "source": [
        "import tensorflow_hub as hub\n",
        "import tensorflow as tf\n",
        "\n",
        "embed = hub.KerasLayer(\"https://tfhub.dev/google/universal-sentence-encoder/4\",\n",
        "                       input_shape=[],\n",
        "                       dtype=tf.string,\n",
        "                       trainable = False)\n"
      ],
      "metadata": {
        "id": "cKI3lES9o1zg"
      },
      "execution_count": 74,
      "outputs": []
    },
    {
      "cell_type": "code",
      "source": [
        "seq_length = 20\n",
        "\n",
        "\n",
        "\n",
        "model_6 = tf.keras.models.Sequential([\n",
        "    embed,\n",
        "    # tf.keras.layers.LSTM(64,return_sequences=True),\n",
        "    # tf.keras.layers.GlobalAvgPool1D(),\n",
        "    tf.keras.layers.Dense(64,activation='relu'),\n",
        "    tf.keras.layers.Dense(32,activation='relu'),\n",
        "    tf.keras.layers.Dense(1,activation='sigmoid')\n",
        "])\n",
        "\n",
        "model_6.compile(loss = 'binary_crossentropy',optimizer = 'adam',metrics=['accuracy'])\n",
        "\n",
        "model_6.summary()\n",
        "model_6.fit(X_train,y_train,epochs=10,validation_data=(X_test,y_test))"
      ],
      "metadata": {
        "colab": {
          "base_uri": "https://localhost:8080/"
        },
        "id": "GJ5VlD-MxQEX",
        "outputId": "8bf56fb2-c483-4d72-93e0-d6be86b14e01"
      },
      "execution_count": 78,
      "outputs": [
        {
          "output_type": "stream",
          "name": "stdout",
          "text": [
            "Model: \"sequential_1\"\n",
            "_________________________________________________________________\n",
            " Layer (type)                Output Shape              Param #   \n",
            "=================================================================\n",
            " keras_layer (KerasLayer)    (None, 512)               256797824 \n",
            "                                                                 \n",
            " dense_22 (Dense)            (None, 64)                32832     \n",
            "                                                                 \n",
            " dense_23 (Dense)            (None, 32)                2080      \n",
            "                                                                 \n",
            " dense_24 (Dense)            (None, 1)                 33        \n",
            "                                                                 \n",
            "=================================================================\n",
            "Total params: 256832769 (979.74 MB)\n",
            "Trainable params: 34945 (136.50 KB)\n",
            "Non-trainable params: 256797824 (979.61 MB)\n",
            "_________________________________________________________________\n",
            "Epoch 1/10\n",
            "215/215 [==============================] - 14s 38ms/step - loss: 0.4894 - accuracy: 0.7884 - val_loss: 0.4462 - val_accuracy: 0.7927\n",
            "Epoch 2/10\n",
            "215/215 [==============================] - 4s 17ms/step - loss: 0.4039 - accuracy: 0.8224 - val_loss: 0.4295 - val_accuracy: 0.8071\n",
            "Epoch 3/10\n",
            "215/215 [==============================] - 3s 15ms/step - loss: 0.3853 - accuracy: 0.8318 - val_loss: 0.4238 - val_accuracy: 0.8110\n",
            "Epoch 4/10\n",
            "215/215 [==============================] - 3s 15ms/step - loss: 0.3685 - accuracy: 0.8415 - val_loss: 0.4244 - val_accuracy: 0.8189\n",
            "Epoch 5/10\n",
            "215/215 [==============================] - 4s 19ms/step - loss: 0.3468 - accuracy: 0.8501 - val_loss: 0.4224 - val_accuracy: 0.8255\n",
            "Epoch 6/10\n",
            "215/215 [==============================] - 3s 15ms/step - loss: 0.3206 - accuracy: 0.8662 - val_loss: 0.4424 - val_accuracy: 0.8150\n",
            "Epoch 7/10\n",
            "215/215 [==============================] - 3s 15ms/step - loss: 0.2926 - accuracy: 0.8829 - val_loss: 0.4764 - val_accuracy: 0.8097\n",
            "Epoch 8/10\n",
            "215/215 [==============================] - 4s 16ms/step - loss: 0.2646 - accuracy: 0.8951 - val_loss: 0.4770 - val_accuracy: 0.8202\n",
            "Epoch 9/10\n",
            "215/215 [==============================] - 4s 18ms/step - loss: 0.2357 - accuracy: 0.9096 - val_loss: 0.4910 - val_accuracy: 0.8071\n",
            "Epoch 10/10\n",
            "215/215 [==============================] - 3s 15ms/step - loss: 0.2016 - accuracy: 0.9261 - val_loss: 0.5301 - val_accuracy: 0.8136\n"
          ]
        },
        {
          "output_type": "execute_result",
          "data": {
            "text/plain": [
              "<keras.src.callbacks.History at 0x7d66e360db40>"
            ]
          },
          "metadata": {},
          "execution_count": 78
        }
      ]
    },
    {
      "cell_type": "code",
      "source": [
        "model_result(model_6,X_test,y_test)"
      ],
      "metadata": {
        "colab": {
          "base_uri": "https://localhost:8080/"
        },
        "outputId": "c99858b7-4c3c-4541-ed05-0bfe4fbe431c",
        "id": "Ki8OQq4r5pSe"
      },
      "execution_count": 79,
      "outputs": [
        {
          "output_type": "stream",
          "name": "stdout",
          "text": [
            "              precision    recall  f1-score   support\n",
            "\n",
            "           0       0.79      0.90      0.84       414\n",
            "           1       0.86      0.71      0.78       348\n",
            "\n",
            "    accuracy                           0.81       762\n",
            "   macro avg       0.82      0.81      0.81       762\n",
            "weighted avg       0.82      0.81      0.81       762\n",
            "\n",
            "[[372  42]\n",
            " [100 248]]\n"
          ]
        }
      ]
    },
    {
      "cell_type": "code",
      "source": [
        "# Joke detect test\n",
        "model_tial(model_6,'there is a flood in our street')\n",
        "model_tial(model_6,'there is a flood in our street, haha kidding')\n",
        "model_tial(model_6,'haha kidding, there is a flood in our street')\n",
        "\n",
        "print('\\n\\n')\n",
        "# Negation detect test\n",
        "\n",
        "model_tial(model_6,'there is a flood in our street')\n",
        "model_tial(model_6,'there is no flood in our street')"
      ],
      "metadata": {
        "colab": {
          "base_uri": "https://localhost:8080/"
        },
        "outputId": "774b7e99-79ad-48ef-9cf9-992036a1fe5f",
        "id": "193eJmwb5pSf"
      },
      "execution_count": 80,
      "outputs": [
        {
          "output_type": "stream",
          "name": "stdout",
          "text": [
            "' there is a flood in our street ' =>  % 49 chance to be disaster\n",
            "' there is a flood in our street, haha kidding ' =>  % 23 chance to be disaster\n",
            "' haha kidding, there is a flood in our street ' =>  % 7 chance to be disaster\n",
            "\n",
            "\n",
            "\n",
            "' there is a flood in our street ' =>  % 49 chance to be disaster\n",
            "' there is no flood in our street ' =>  % 42 chance to be disaster\n"
          ]
        }
      ]
    },
    {
      "cell_type": "code",
      "source": [
        "import os\n",
        "\n",
        "model_6.save('my_model.keras')\n",
        "print(f'File size: {os.path.getsize(\"my_model.keras\") / (1024 * 1024):.2f} MB')"
      ],
      "metadata": {
        "colab": {
          "base_uri": "https://localhost:8080/"
        },
        "id": "p7byGTe_5wjV",
        "outputId": "a82e82e3-40d2-4061-c5fb-f7d1242e9fc5"
      },
      "execution_count": 114,
      "outputs": [
        {
          "output_type": "stream",
          "name": "stdout",
          "text": [
            "File size: 980.10 MB\n"
          ]
        }
      ]
    },
    {
      "cell_type": "code",
      "source": [
        "model_6.predict(['help the city on fire'])"
      ],
      "metadata": {
        "colab": {
          "base_uri": "https://localhost:8080/"
        },
        "id": "VrIBKEY1g1NQ",
        "outputId": "999af208-51f3-4334-d839-c5b73a351764"
      },
      "execution_count": 115,
      "outputs": [
        {
          "output_type": "stream",
          "name": "stdout",
          "text": [
            "1/1 [==============================] - 0s 145ms/step\n"
          ]
        },
        {
          "output_type": "execute_result",
          "data": {
            "text/plain": [
              "array([[0.70996684]], dtype=float32)"
            ]
          },
          "metadata": {},
          "execution_count": 115
        }
      ]
    }
  ]
}