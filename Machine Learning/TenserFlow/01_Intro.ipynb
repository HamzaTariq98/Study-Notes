{
  "nbformat": 4,
  "nbformat_minor": 0,
  "metadata": {
    "colab": {
      "provenance": [],
      "gpuType": "T4"
    },
    "kernelspec": {
      "name": "python3",
      "display_name": "Python 3"
    },
    "language_info": {
      "name": "python"
    },
    "accelerator": "GPU"
  },
  "cells": [
    {
      "cell_type": "code",
      "source": [
        "import numpy as np\n",
        "import tensorflow as tf\n",
        "tf.__version__\n",
        "\n",
        "vector = tf.constant([[4,6,8],[5,8,99]], dtype='float32')\n",
        "vector\n",
        "\n",
        "\n",
        "tensor = tf.Variable([[[4,5],[5,6]],\n",
        "                      [[4,6],[9,8]],\n",
        "                      [[8,8],[9,4]]])\n",
        "tensor[0].assign([[100,9],[5,6]])\n",
        "\n",
        "random = tf.random.Generator.from_seed(42)\n",
        "random.normal(shape=(3,2))\n",
        "\n",
        "\n",
        "\n",
        "\n",
        "random = tf.random.Generator.from_seed(42)\n",
        "random.normal(shape=(3,2))\n",
        "\n",
        "# Shuffle a tensor\n",
        "tf.random.set_seed(51)  # Global Seed\n",
        "tf.random.shuffle(tensor,seed = 2)  # Operational Seed\n",
        "\n",
        "\n",
        "tf.zeros((2,2))\n",
        "\n",
        "tensor = tf.constant(np.arange(0,120),shape=(2, 3, 4, 5))\n",
        "\n",
        "\n",
        "# Attributes\n",
        "tensor.shape\n",
        "tensor.ndim\n",
        "tensor[:,0]\n",
        "tf.size(tensor).numpy()\n",
        "\n",
        "\n",
        "tensor\n",
        "tensor[:,:,0,]\n",
        "\n",
        "### rank up\n",
        "rank_2_tensor = tf.constant(np.arange(0,24),shape = (2,12))\n",
        "\n",
        "# Increase tensor's rank !\n",
        "rank_2_tensor[...,tf.newaxis]\n",
        "# or by\n",
        "tf.expand_dims(rank_2_tensor,axis=-1)\n",
        "\n",
        "### Matrix multiplication\n",
        "\n",
        "tensor_1 = tf.constant([[1,2,5],[7,2,1],[3,3,3]])\n",
        "tensor_2 = tf.constant([[3,5],[6,7],[1,8]])\n",
        "tf.linalg.matmul(tensor_1,tensor_2)\n",
        "# or\n",
        "tensor_1 @ tensor_2\n",
        "\n",
        "### Reshape b4 mat mul\n",
        "\n",
        "tensor_3 = tf.constant([[1,2],[7,2],[3,3]])\n",
        "tensor_3 @ tf.transpose(tensor_3) # Transpose rearrange the axises\n",
        "# or\n",
        "tensor_3 @ tf.reshape(tensor_3,(2,3)) # Shuffles out and rearrages the items\n",
        "\n",
        "\n",
        "# Change dtype using tf.cast\n",
        "tf.cast(tensor,dtype = np.int64)\n",
        "\n",
        "# Aggregation\n",
        "D = tf.constant([[[[[-4,5,4],[8,9,1.0],[-8,9,0]]]]])\n",
        "D,D.shape\n",
        "tf.abs(D)\n",
        "\n",
        "tf.reduce_max(D, axis = 1)\n",
        "tf.reduce_min(D, axis = 1)\n",
        "tf.reduce_mean(D, axis = 1)\n",
        "tf.reduce_sum(D, axis = 1)\n",
        "tf.math.reduce_std(D, axis=1)\n",
        "\n",
        "tf.math.argmin(D, axis=1)\n",
        "tf.math.argmax(D, axis=1)\n",
        "\n",
        "\n",
        "# Squeeze a tensor, (remove all 1 dimension ranks)\n",
        "tf.squeeze(D),tf.squeeze(D).shape\n",
        "\n",
        "\n",
        "# OneHot Encoding\n",
        "\n",
        "a_list = [0,1,2,3]\n",
        "tf.one_hot(a_list,4, on_value=1, off_value=0)"
      ],
      "metadata": {
        "colab": {
          "base_uri": "https://localhost:8080/"
        },
        "id": "rqP_uElQl3Yx",
        "outputId": "9969e752-2805-4a90-fdec-f12b001d45df"
      },
      "execution_count": 5,
      "outputs": [
        {
          "output_type": "execute_result",
          "data": {
            "text/plain": [
              "<tf.Tensor: shape=(4, 4), dtype=int32, numpy=\n",
              "array([[1, 0, 0, 0],\n",
              "       [0, 1, 0, 0],\n",
              "       [0, 0, 1, 0],\n",
              "       [0, 0, 0, 1]], dtype=int32)>"
            ]
          },
          "metadata": {},
          "execution_count": 5
        }
      ]
    },
    {
      "cell_type": "code",
      "source": [
        "# Check pysical devise processing unit\n",
        "tf.config.list_physical_devices()\n",
        "\n",
        "!nvidia-smi"
      ],
      "metadata": {
        "colab": {
          "base_uri": "https://localhost:8080/"
        },
        "id": "8GpZnl-pf1wG",
        "outputId": "9adab1d9-f71c-49b0-df63-71d3b0050185"
      },
      "execution_count": 6,
      "outputs": [
        {
          "output_type": "stream",
          "name": "stdout",
          "text": [
            "Fri Dec  8 08:51:22 2023       \n",
            "+-----------------------------------------------------------------------------+\n",
            "| NVIDIA-SMI 525.105.17   Driver Version: 525.105.17   CUDA Version: 12.0     |\n",
            "|-------------------------------+----------------------+----------------------+\n",
            "| GPU  Name        Persistence-M| Bus-Id        Disp.A | Volatile Uncorr. ECC |\n",
            "| Fan  Temp  Perf  Pwr:Usage/Cap|         Memory-Usage | GPU-Util  Compute M. |\n",
            "|                               |                      |               MIG M. |\n",
            "|===============================+======================+======================|\n",
            "|   0  Tesla T4            Off  | 00000000:00:04.0 Off |                    0 |\n",
            "| N/A   57C    P0    29W /  70W |    311MiB / 15360MiB |      0%      Default |\n",
            "|                               |                      |                  N/A |\n",
            "+-------------------------------+----------------------+----------------------+\n",
            "                                                                               \n",
            "+-----------------------------------------------------------------------------+\n",
            "| Processes:                                                                  |\n",
            "|  GPU   GI   CI        PID   Type   Process name                  GPU Memory |\n",
            "|        ID   ID                                                   Usage      |\n",
            "|=============================================================================|\n",
            "+-----------------------------------------------------------------------------+\n"
          ]
        }
      ]
    },
    {
      "cell_type": "code",
      "source": [],
      "metadata": {
        "id": "8_4NLQejn4n6"
      },
      "execution_count": null,
      "outputs": []
    }
  ]
}