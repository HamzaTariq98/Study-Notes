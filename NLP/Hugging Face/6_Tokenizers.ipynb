{
  "nbformat": 4,
  "nbformat_minor": 0,
  "metadata": {
    "colab": {
      "provenance": []
    },
    "kernelspec": {
      "name": "python3",
      "display_name": "Python 3"
    },
    "language_info": {
      "name": "python"
    },
    "widgets": {
      "application/vnd.jupyter.widget-state+json": {
        "3d92200d806547b7b4b7ca7def79311c": {
          "model_module": "@jupyter-widgets/controls",
          "model_name": "HBoxModel",
          "model_module_version": "1.5.0",
          "state": {
            "_dom_classes": [],
            "_model_module": "@jupyter-widgets/controls",
            "_model_module_version": "1.5.0",
            "_model_name": "HBoxModel",
            "_view_count": null,
            "_view_module": "@jupyter-widgets/controls",
            "_view_module_version": "1.5.0",
            "_view_name": "HBoxView",
            "box_style": "",
            "children": [
              "IPY_MODEL_95accefcaeb94d94a525b2ca7d3fde1a",
              "IPY_MODEL_4cc8f4b100a047c38bcb998134276820",
              "IPY_MODEL_4fc247018873427c85e3c4cc01c44b4c"
            ],
            "layout": "IPY_MODEL_e3fc2c67ceda454b83be1b9a7c9a9db7"
          }
        },
        "95accefcaeb94d94a525b2ca7d3fde1a": {
          "model_module": "@jupyter-widgets/controls",
          "model_name": "HTMLModel",
          "model_module_version": "1.5.0",
          "state": {
            "_dom_classes": [],
            "_model_module": "@jupyter-widgets/controls",
            "_model_module_version": "1.5.0",
            "_model_name": "HTMLModel",
            "_view_count": null,
            "_view_module": "@jupyter-widgets/controls",
            "_view_module_version": "1.5.0",
            "_view_name": "HTMLView",
            "description": "",
            "description_tooltip": null,
            "layout": "IPY_MODEL_f4923f6c1e3348dea801907f83bb62a4",
            "placeholder": "​",
            "style": "IPY_MODEL_25e73b2a50a0484b9ac2f5db45d801eb",
            "value": "Generating train split: 100%"
          }
        },
        "4cc8f4b100a047c38bcb998134276820": {
          "model_module": "@jupyter-widgets/controls",
          "model_name": "FloatProgressModel",
          "model_module_version": "1.5.0",
          "state": {
            "_dom_classes": [],
            "_model_module": "@jupyter-widgets/controls",
            "_model_module_version": "1.5.0",
            "_model_name": "FloatProgressModel",
            "_view_count": null,
            "_view_module": "@jupyter-widgets/controls",
            "_view_module_version": "1.5.0",
            "_view_name": "ProgressView",
            "bar_style": "success",
            "description": "",
            "description_tooltip": null,
            "layout": "IPY_MODEL_c555329c217a4c9fbaf65691fb83cf44",
            "max": 412178,
            "min": 0,
            "orientation": "horizontal",
            "style": "IPY_MODEL_693791001cf54c84b3a6a6acd9c3b800",
            "value": 412178
          }
        },
        "4fc247018873427c85e3c4cc01c44b4c": {
          "model_module": "@jupyter-widgets/controls",
          "model_name": "HTMLModel",
          "model_module_version": "1.5.0",
          "state": {
            "_dom_classes": [],
            "_model_module": "@jupyter-widgets/controls",
            "_model_module_version": "1.5.0",
            "_model_name": "HTMLModel",
            "_view_count": null,
            "_view_module": "@jupyter-widgets/controls",
            "_view_module_version": "1.5.0",
            "_view_name": "HTMLView",
            "description": "",
            "description_tooltip": null,
            "layout": "IPY_MODEL_068f03e7e75d4bf0b816f71aaa3f62b2",
            "placeholder": "​",
            "style": "IPY_MODEL_99f59ae962c542738cd1aa6cc5933c2a",
            "value": " 412178/412178 [04:15&lt;00:00, 1730.68 examples/s]"
          }
        },
        "e3fc2c67ceda454b83be1b9a7c9a9db7": {
          "model_module": "@jupyter-widgets/base",
          "model_name": "LayoutModel",
          "model_module_version": "1.2.0",
          "state": {
            "_model_module": "@jupyter-widgets/base",
            "_model_module_version": "1.2.0",
            "_model_name": "LayoutModel",
            "_view_count": null,
            "_view_module": "@jupyter-widgets/base",
            "_view_module_version": "1.2.0",
            "_view_name": "LayoutView",
            "align_content": null,
            "align_items": null,
            "align_self": null,
            "border": null,
            "bottom": null,
            "display": null,
            "flex": null,
            "flex_flow": null,
            "grid_area": null,
            "grid_auto_columns": null,
            "grid_auto_flow": null,
            "grid_auto_rows": null,
            "grid_column": null,
            "grid_gap": null,
            "grid_row": null,
            "grid_template_areas": null,
            "grid_template_columns": null,
            "grid_template_rows": null,
            "height": null,
            "justify_content": null,
            "justify_items": null,
            "left": null,
            "margin": null,
            "max_height": null,
            "max_width": null,
            "min_height": null,
            "min_width": null,
            "object_fit": null,
            "object_position": null,
            "order": null,
            "overflow": null,
            "overflow_x": null,
            "overflow_y": null,
            "padding": null,
            "right": null,
            "top": null,
            "visibility": null,
            "width": null
          }
        },
        "f4923f6c1e3348dea801907f83bb62a4": {
          "model_module": "@jupyter-widgets/base",
          "model_name": "LayoutModel",
          "model_module_version": "1.2.0",
          "state": {
            "_model_module": "@jupyter-widgets/base",
            "_model_module_version": "1.2.0",
            "_model_name": "LayoutModel",
            "_view_count": null,
            "_view_module": "@jupyter-widgets/base",
            "_view_module_version": "1.2.0",
            "_view_name": "LayoutView",
            "align_content": null,
            "align_items": null,
            "align_self": null,
            "border": null,
            "bottom": null,
            "display": null,
            "flex": null,
            "flex_flow": null,
            "grid_area": null,
            "grid_auto_columns": null,
            "grid_auto_flow": null,
            "grid_auto_rows": null,
            "grid_column": null,
            "grid_gap": null,
            "grid_row": null,
            "grid_template_areas": null,
            "grid_template_columns": null,
            "grid_template_rows": null,
            "height": null,
            "justify_content": null,
            "justify_items": null,
            "left": null,
            "margin": null,
            "max_height": null,
            "max_width": null,
            "min_height": null,
            "min_width": null,
            "object_fit": null,
            "object_position": null,
            "order": null,
            "overflow": null,
            "overflow_x": null,
            "overflow_y": null,
            "padding": null,
            "right": null,
            "top": null,
            "visibility": null,
            "width": null
          }
        },
        "25e73b2a50a0484b9ac2f5db45d801eb": {
          "model_module": "@jupyter-widgets/controls",
          "model_name": "DescriptionStyleModel",
          "model_module_version": "1.5.0",
          "state": {
            "_model_module": "@jupyter-widgets/controls",
            "_model_module_version": "1.5.0",
            "_model_name": "DescriptionStyleModel",
            "_view_count": null,
            "_view_module": "@jupyter-widgets/base",
            "_view_module_version": "1.2.0",
            "_view_name": "StyleView",
            "description_width": ""
          }
        },
        "c555329c217a4c9fbaf65691fb83cf44": {
          "model_module": "@jupyter-widgets/base",
          "model_name": "LayoutModel",
          "model_module_version": "1.2.0",
          "state": {
            "_model_module": "@jupyter-widgets/base",
            "_model_module_version": "1.2.0",
            "_model_name": "LayoutModel",
            "_view_count": null,
            "_view_module": "@jupyter-widgets/base",
            "_view_module_version": "1.2.0",
            "_view_name": "LayoutView",
            "align_content": null,
            "align_items": null,
            "align_self": null,
            "border": null,
            "bottom": null,
            "display": null,
            "flex": null,
            "flex_flow": null,
            "grid_area": null,
            "grid_auto_columns": null,
            "grid_auto_flow": null,
            "grid_auto_rows": null,
            "grid_column": null,
            "grid_gap": null,
            "grid_row": null,
            "grid_template_areas": null,
            "grid_template_columns": null,
            "grid_template_rows": null,
            "height": null,
            "justify_content": null,
            "justify_items": null,
            "left": null,
            "margin": null,
            "max_height": null,
            "max_width": null,
            "min_height": null,
            "min_width": null,
            "object_fit": null,
            "object_position": null,
            "order": null,
            "overflow": null,
            "overflow_x": null,
            "overflow_y": null,
            "padding": null,
            "right": null,
            "top": null,
            "visibility": null,
            "width": null
          }
        },
        "693791001cf54c84b3a6a6acd9c3b800": {
          "model_module": "@jupyter-widgets/controls",
          "model_name": "ProgressStyleModel",
          "model_module_version": "1.5.0",
          "state": {
            "_model_module": "@jupyter-widgets/controls",
            "_model_module_version": "1.5.0",
            "_model_name": "ProgressStyleModel",
            "_view_count": null,
            "_view_module": "@jupyter-widgets/base",
            "_view_module_version": "1.2.0",
            "_view_name": "StyleView",
            "bar_color": null,
            "description_width": ""
          }
        },
        "068f03e7e75d4bf0b816f71aaa3f62b2": {
          "model_module": "@jupyter-widgets/base",
          "model_name": "LayoutModel",
          "model_module_version": "1.2.0",
          "state": {
            "_model_module": "@jupyter-widgets/base",
            "_model_module_version": "1.2.0",
            "_model_name": "LayoutModel",
            "_view_count": null,
            "_view_module": "@jupyter-widgets/base",
            "_view_module_version": "1.2.0",
            "_view_name": "LayoutView",
            "align_content": null,
            "align_items": null,
            "align_self": null,
            "border": null,
            "bottom": null,
            "display": null,
            "flex": null,
            "flex_flow": null,
            "grid_area": null,
            "grid_auto_columns": null,
            "grid_auto_flow": null,
            "grid_auto_rows": null,
            "grid_column": null,
            "grid_gap": null,
            "grid_row": null,
            "grid_template_areas": null,
            "grid_template_columns": null,
            "grid_template_rows": null,
            "height": null,
            "justify_content": null,
            "justify_items": null,
            "left": null,
            "margin": null,
            "max_height": null,
            "max_width": null,
            "min_height": null,
            "min_width": null,
            "object_fit": null,
            "object_position": null,
            "order": null,
            "overflow": null,
            "overflow_x": null,
            "overflow_y": null,
            "padding": null,
            "right": null,
            "top": null,
            "visibility": null,
            "width": null
          }
        },
        "99f59ae962c542738cd1aa6cc5933c2a": {
          "model_module": "@jupyter-widgets/controls",
          "model_name": "DescriptionStyleModel",
          "model_module_version": "1.5.0",
          "state": {
            "_model_module": "@jupyter-widgets/controls",
            "_model_module_version": "1.5.0",
            "_model_name": "DescriptionStyleModel",
            "_view_count": null,
            "_view_module": "@jupyter-widgets/base",
            "_view_module_version": "1.2.0",
            "_view_name": "StyleView",
            "description_width": ""
          }
        },
        "247c02e481414cce8b8589e5be2d5797": {
          "model_module": "@jupyter-widgets/controls",
          "model_name": "HBoxModel",
          "model_module_version": "1.5.0",
          "state": {
            "_dom_classes": [],
            "_model_module": "@jupyter-widgets/controls",
            "_model_module_version": "1.5.0",
            "_model_name": "HBoxModel",
            "_view_count": null,
            "_view_module": "@jupyter-widgets/controls",
            "_view_module_version": "1.5.0",
            "_view_name": "HBoxView",
            "box_style": "",
            "children": [
              "IPY_MODEL_0e21f2b4e444433d8355e0512593bebd",
              "IPY_MODEL_9574420f73514589ba7c1727dfb2872a",
              "IPY_MODEL_cc144741e08548dcbaf7361d6abc838d"
            ],
            "layout": "IPY_MODEL_7cd350a115f845fb99b6fcb40ea9ec57"
          }
        },
        "0e21f2b4e444433d8355e0512593bebd": {
          "model_module": "@jupyter-widgets/controls",
          "model_name": "HTMLModel",
          "model_module_version": "1.5.0",
          "state": {
            "_dom_classes": [],
            "_model_module": "@jupyter-widgets/controls",
            "_model_module_version": "1.5.0",
            "_model_name": "HTMLModel",
            "_view_count": null,
            "_view_module": "@jupyter-widgets/controls",
            "_view_module_version": "1.5.0",
            "_view_name": "HTMLView",
            "description": "",
            "description_tooltip": null,
            "layout": "IPY_MODEL_7a4f5a5fc22f42b4b7204bdbb579f658",
            "placeholder": "​",
            "style": "IPY_MODEL_b414e86bd9134add8e8d32e6c95355b8",
            "value": "Generating test split: 100%"
          }
        },
        "9574420f73514589ba7c1727dfb2872a": {
          "model_module": "@jupyter-widgets/controls",
          "model_name": "FloatProgressModel",
          "model_module_version": "1.5.0",
          "state": {
            "_dom_classes": [],
            "_model_module": "@jupyter-widgets/controls",
            "_model_module_version": "1.5.0",
            "_model_name": "FloatProgressModel",
            "_view_count": null,
            "_view_module": "@jupyter-widgets/controls",
            "_view_module_version": "1.5.0",
            "_view_name": "ProgressView",
            "bar_style": "success",
            "description": "",
            "description_tooltip": null,
            "layout": "IPY_MODEL_435312f3a44e43d18fb14323d0bfcc32",
            "max": 22176,
            "min": 0,
            "orientation": "horizontal",
            "style": "IPY_MODEL_74d7204be2404a08aee8987bb4d91792",
            "value": 22176
          }
        },
        "cc144741e08548dcbaf7361d6abc838d": {
          "model_module": "@jupyter-widgets/controls",
          "model_name": "HTMLModel",
          "model_module_version": "1.5.0",
          "state": {
            "_dom_classes": [],
            "_model_module": "@jupyter-widgets/controls",
            "_model_module_version": "1.5.0",
            "_model_name": "HTMLModel",
            "_view_count": null,
            "_view_module": "@jupyter-widgets/controls",
            "_view_module_version": "1.5.0",
            "_view_name": "HTMLView",
            "description": "",
            "description_tooltip": null,
            "layout": "IPY_MODEL_130384f19cdb47489c1d0f80fb59dd84",
            "placeholder": "​",
            "style": "IPY_MODEL_b08faecdaba64d2bbb1311256d4ffc3f",
            "value": " 22176/22176 [00:14&lt;00:00, 1708.24 examples/s]"
          }
        },
        "7cd350a115f845fb99b6fcb40ea9ec57": {
          "model_module": "@jupyter-widgets/base",
          "model_name": "LayoutModel",
          "model_module_version": "1.2.0",
          "state": {
            "_model_module": "@jupyter-widgets/base",
            "_model_module_version": "1.2.0",
            "_model_name": "LayoutModel",
            "_view_count": null,
            "_view_module": "@jupyter-widgets/base",
            "_view_module_version": "1.2.0",
            "_view_name": "LayoutView",
            "align_content": null,
            "align_items": null,
            "align_self": null,
            "border": null,
            "bottom": null,
            "display": null,
            "flex": null,
            "flex_flow": null,
            "grid_area": null,
            "grid_auto_columns": null,
            "grid_auto_flow": null,
            "grid_auto_rows": null,
            "grid_column": null,
            "grid_gap": null,
            "grid_row": null,
            "grid_template_areas": null,
            "grid_template_columns": null,
            "grid_template_rows": null,
            "height": null,
            "justify_content": null,
            "justify_items": null,
            "left": null,
            "margin": null,
            "max_height": null,
            "max_width": null,
            "min_height": null,
            "min_width": null,
            "object_fit": null,
            "object_position": null,
            "order": null,
            "overflow": null,
            "overflow_x": null,
            "overflow_y": null,
            "padding": null,
            "right": null,
            "top": null,
            "visibility": null,
            "width": null
          }
        },
        "7a4f5a5fc22f42b4b7204bdbb579f658": {
          "model_module": "@jupyter-widgets/base",
          "model_name": "LayoutModel",
          "model_module_version": "1.2.0",
          "state": {
            "_model_module": "@jupyter-widgets/base",
            "_model_module_version": "1.2.0",
            "_model_name": "LayoutModel",
            "_view_count": null,
            "_view_module": "@jupyter-widgets/base",
            "_view_module_version": "1.2.0",
            "_view_name": "LayoutView",
            "align_content": null,
            "align_items": null,
            "align_self": null,
            "border": null,
            "bottom": null,
            "display": null,
            "flex": null,
            "flex_flow": null,
            "grid_area": null,
            "grid_auto_columns": null,
            "grid_auto_flow": null,
            "grid_auto_rows": null,
            "grid_column": null,
            "grid_gap": null,
            "grid_row": null,
            "grid_template_areas": null,
            "grid_template_columns": null,
            "grid_template_rows": null,
            "height": null,
            "justify_content": null,
            "justify_items": null,
            "left": null,
            "margin": null,
            "max_height": null,
            "max_width": null,
            "min_height": null,
            "min_width": null,
            "object_fit": null,
            "object_position": null,
            "order": null,
            "overflow": null,
            "overflow_x": null,
            "overflow_y": null,
            "padding": null,
            "right": null,
            "top": null,
            "visibility": null,
            "width": null
          }
        },
        "b414e86bd9134add8e8d32e6c95355b8": {
          "model_module": "@jupyter-widgets/controls",
          "model_name": "DescriptionStyleModel",
          "model_module_version": "1.5.0",
          "state": {
            "_model_module": "@jupyter-widgets/controls",
            "_model_module_version": "1.5.0",
            "_model_name": "DescriptionStyleModel",
            "_view_count": null,
            "_view_module": "@jupyter-widgets/base",
            "_view_module_version": "1.2.0",
            "_view_name": "StyleView",
            "description_width": ""
          }
        },
        "435312f3a44e43d18fb14323d0bfcc32": {
          "model_module": "@jupyter-widgets/base",
          "model_name": "LayoutModel",
          "model_module_version": "1.2.0",
          "state": {
            "_model_module": "@jupyter-widgets/base",
            "_model_module_version": "1.2.0",
            "_model_name": "LayoutModel",
            "_view_count": null,
            "_view_module": "@jupyter-widgets/base",
            "_view_module_version": "1.2.0",
            "_view_name": "LayoutView",
            "align_content": null,
            "align_items": null,
            "align_self": null,
            "border": null,
            "bottom": null,
            "display": null,
            "flex": null,
            "flex_flow": null,
            "grid_area": null,
            "grid_auto_columns": null,
            "grid_auto_flow": null,
            "grid_auto_rows": null,
            "grid_column": null,
            "grid_gap": null,
            "grid_row": null,
            "grid_template_areas": null,
            "grid_template_columns": null,
            "grid_template_rows": null,
            "height": null,
            "justify_content": null,
            "justify_items": null,
            "left": null,
            "margin": null,
            "max_height": null,
            "max_width": null,
            "min_height": null,
            "min_width": null,
            "object_fit": null,
            "object_position": null,
            "order": null,
            "overflow": null,
            "overflow_x": null,
            "overflow_y": null,
            "padding": null,
            "right": null,
            "top": null,
            "visibility": null,
            "width": null
          }
        },
        "74d7204be2404a08aee8987bb4d91792": {
          "model_module": "@jupyter-widgets/controls",
          "model_name": "ProgressStyleModel",
          "model_module_version": "1.5.0",
          "state": {
            "_model_module": "@jupyter-widgets/controls",
            "_model_module_version": "1.5.0",
            "_model_name": "ProgressStyleModel",
            "_view_count": null,
            "_view_module": "@jupyter-widgets/base",
            "_view_module_version": "1.2.0",
            "_view_name": "StyleView",
            "bar_color": null,
            "description_width": ""
          }
        },
        "130384f19cdb47489c1d0f80fb59dd84": {
          "model_module": "@jupyter-widgets/base",
          "model_name": "LayoutModel",
          "model_module_version": "1.2.0",
          "state": {
            "_model_module": "@jupyter-widgets/base",
            "_model_module_version": "1.2.0",
            "_model_name": "LayoutModel",
            "_view_count": null,
            "_view_module": "@jupyter-widgets/base",
            "_view_module_version": "1.2.0",
            "_view_name": "LayoutView",
            "align_content": null,
            "align_items": null,
            "align_self": null,
            "border": null,
            "bottom": null,
            "display": null,
            "flex": null,
            "flex_flow": null,
            "grid_area": null,
            "grid_auto_columns": null,
            "grid_auto_flow": null,
            "grid_auto_rows": null,
            "grid_column": null,
            "grid_gap": null,
            "grid_row": null,
            "grid_template_areas": null,
            "grid_template_columns": null,
            "grid_template_rows": null,
            "height": null,
            "justify_content": null,
            "justify_items": null,
            "left": null,
            "margin": null,
            "max_height": null,
            "max_width": null,
            "min_height": null,
            "min_width": null,
            "object_fit": null,
            "object_position": null,
            "order": null,
            "overflow": null,
            "overflow_x": null,
            "overflow_y": null,
            "padding": null,
            "right": null,
            "top": null,
            "visibility": null,
            "width": null
          }
        },
        "b08faecdaba64d2bbb1311256d4ffc3f": {
          "model_module": "@jupyter-widgets/controls",
          "model_name": "DescriptionStyleModel",
          "model_module_version": "1.5.0",
          "state": {
            "_model_module": "@jupyter-widgets/controls",
            "_model_module_version": "1.5.0",
            "_model_name": "DescriptionStyleModel",
            "_view_count": null,
            "_view_module": "@jupyter-widgets/base",
            "_view_module_version": "1.2.0",
            "_view_name": "StyleView",
            "description_width": ""
          }
        },
        "f383913159c6405092420aaeadb783eb": {
          "model_module": "@jupyter-widgets/controls",
          "model_name": "HBoxModel",
          "model_module_version": "1.5.0",
          "state": {
            "_dom_classes": [],
            "_model_module": "@jupyter-widgets/controls",
            "_model_module_version": "1.5.0",
            "_model_name": "HBoxModel",
            "_view_count": null,
            "_view_module": "@jupyter-widgets/controls",
            "_view_module_version": "1.5.0",
            "_view_name": "HBoxView",
            "box_style": "",
            "children": [
              "IPY_MODEL_db9ce4c15aeb409d96b991f5e66f8e38",
              "IPY_MODEL_fc7b94b125b048b6a9b5c8a2239a91e2",
              "IPY_MODEL_4644f964025a4317ace3efb1ff566d7e"
            ],
            "layout": "IPY_MODEL_40679b4cf4e24b2d98d5310e62f12ef2"
          }
        },
        "db9ce4c15aeb409d96b991f5e66f8e38": {
          "model_module": "@jupyter-widgets/controls",
          "model_name": "HTMLModel",
          "model_module_version": "1.5.0",
          "state": {
            "_dom_classes": [],
            "_model_module": "@jupyter-widgets/controls",
            "_model_module_version": "1.5.0",
            "_model_name": "HTMLModel",
            "_view_count": null,
            "_view_module": "@jupyter-widgets/controls",
            "_view_module_version": "1.5.0",
            "_view_name": "HTMLView",
            "description": "",
            "description_tooltip": null,
            "layout": "IPY_MODEL_3632b9cb9b4d430f89e4ef9e03dc8bb1",
            "placeholder": "​",
            "style": "IPY_MODEL_4320065173c744ec9a6ad4b228f4abae",
            "value": "Generating validation split: 100%"
          }
        },
        "fc7b94b125b048b6a9b5c8a2239a91e2": {
          "model_module": "@jupyter-widgets/controls",
          "model_name": "FloatProgressModel",
          "model_module_version": "1.5.0",
          "state": {
            "_dom_classes": [],
            "_model_module": "@jupyter-widgets/controls",
            "_model_module_version": "1.5.0",
            "_model_name": "FloatProgressModel",
            "_view_count": null,
            "_view_module": "@jupyter-widgets/controls",
            "_view_module_version": "1.5.0",
            "_view_name": "ProgressView",
            "bar_style": "success",
            "description": "",
            "description_tooltip": null,
            "layout": "IPY_MODEL_40f60f081ca045d6b218553000e8b5f7",
            "max": 23107,
            "min": 0,
            "orientation": "horizontal",
            "style": "IPY_MODEL_af63d23b515248688a0b6a1231055ae1",
            "value": 23107
          }
        },
        "4644f964025a4317ace3efb1ff566d7e": {
          "model_module": "@jupyter-widgets/controls",
          "model_name": "HTMLModel",
          "model_module_version": "1.5.0",
          "state": {
            "_dom_classes": [],
            "_model_module": "@jupyter-widgets/controls",
            "_model_module_version": "1.5.0",
            "_model_name": "HTMLModel",
            "_view_count": null,
            "_view_module": "@jupyter-widgets/controls",
            "_view_module_version": "1.5.0",
            "_view_name": "HTMLView",
            "description": "",
            "description_tooltip": null,
            "layout": "IPY_MODEL_5efc051a2c014c7a9403190ce7cea131",
            "placeholder": "​",
            "style": "IPY_MODEL_f0061773914446f8ac30c1cab2c36c17",
            "value": " 23107/23107 [00:15&lt;00:00, 1852.98 examples/s]"
          }
        },
        "40679b4cf4e24b2d98d5310e62f12ef2": {
          "model_module": "@jupyter-widgets/base",
          "model_name": "LayoutModel",
          "model_module_version": "1.2.0",
          "state": {
            "_model_module": "@jupyter-widgets/base",
            "_model_module_version": "1.2.0",
            "_model_name": "LayoutModel",
            "_view_count": null,
            "_view_module": "@jupyter-widgets/base",
            "_view_module_version": "1.2.0",
            "_view_name": "LayoutView",
            "align_content": null,
            "align_items": null,
            "align_self": null,
            "border": null,
            "bottom": null,
            "display": null,
            "flex": null,
            "flex_flow": null,
            "grid_area": null,
            "grid_auto_columns": null,
            "grid_auto_flow": null,
            "grid_auto_rows": null,
            "grid_column": null,
            "grid_gap": null,
            "grid_row": null,
            "grid_template_areas": null,
            "grid_template_columns": null,
            "grid_template_rows": null,
            "height": null,
            "justify_content": null,
            "justify_items": null,
            "left": null,
            "margin": null,
            "max_height": null,
            "max_width": null,
            "min_height": null,
            "min_width": null,
            "object_fit": null,
            "object_position": null,
            "order": null,
            "overflow": null,
            "overflow_x": null,
            "overflow_y": null,
            "padding": null,
            "right": null,
            "top": null,
            "visibility": null,
            "width": null
          }
        },
        "3632b9cb9b4d430f89e4ef9e03dc8bb1": {
          "model_module": "@jupyter-widgets/base",
          "model_name": "LayoutModel",
          "model_module_version": "1.2.0",
          "state": {
            "_model_module": "@jupyter-widgets/base",
            "_model_module_version": "1.2.0",
            "_model_name": "LayoutModel",
            "_view_count": null,
            "_view_module": "@jupyter-widgets/base",
            "_view_module_version": "1.2.0",
            "_view_name": "LayoutView",
            "align_content": null,
            "align_items": null,
            "align_self": null,
            "border": null,
            "bottom": null,
            "display": null,
            "flex": null,
            "flex_flow": null,
            "grid_area": null,
            "grid_auto_columns": null,
            "grid_auto_flow": null,
            "grid_auto_rows": null,
            "grid_column": null,
            "grid_gap": null,
            "grid_row": null,
            "grid_template_areas": null,
            "grid_template_columns": null,
            "grid_template_rows": null,
            "height": null,
            "justify_content": null,
            "justify_items": null,
            "left": null,
            "margin": null,
            "max_height": null,
            "max_width": null,
            "min_height": null,
            "min_width": null,
            "object_fit": null,
            "object_position": null,
            "order": null,
            "overflow": null,
            "overflow_x": null,
            "overflow_y": null,
            "padding": null,
            "right": null,
            "top": null,
            "visibility": null,
            "width": null
          }
        },
        "4320065173c744ec9a6ad4b228f4abae": {
          "model_module": "@jupyter-widgets/controls",
          "model_name": "DescriptionStyleModel",
          "model_module_version": "1.5.0",
          "state": {
            "_model_module": "@jupyter-widgets/controls",
            "_model_module_version": "1.5.0",
            "_model_name": "DescriptionStyleModel",
            "_view_count": null,
            "_view_module": "@jupyter-widgets/base",
            "_view_module_version": "1.2.0",
            "_view_name": "StyleView",
            "description_width": ""
          }
        },
        "40f60f081ca045d6b218553000e8b5f7": {
          "model_module": "@jupyter-widgets/base",
          "model_name": "LayoutModel",
          "model_module_version": "1.2.0",
          "state": {
            "_model_module": "@jupyter-widgets/base",
            "_model_module_version": "1.2.0",
            "_model_name": "LayoutModel",
            "_view_count": null,
            "_view_module": "@jupyter-widgets/base",
            "_view_module_version": "1.2.0",
            "_view_name": "LayoutView",
            "align_content": null,
            "align_items": null,
            "align_self": null,
            "border": null,
            "bottom": null,
            "display": null,
            "flex": null,
            "flex_flow": null,
            "grid_area": null,
            "grid_auto_columns": null,
            "grid_auto_flow": null,
            "grid_auto_rows": null,
            "grid_column": null,
            "grid_gap": null,
            "grid_row": null,
            "grid_template_areas": null,
            "grid_template_columns": null,
            "grid_template_rows": null,
            "height": null,
            "justify_content": null,
            "justify_items": null,
            "left": null,
            "margin": null,
            "max_height": null,
            "max_width": null,
            "min_height": null,
            "min_width": null,
            "object_fit": null,
            "object_position": null,
            "order": null,
            "overflow": null,
            "overflow_x": null,
            "overflow_y": null,
            "padding": null,
            "right": null,
            "top": null,
            "visibility": null,
            "width": null
          }
        },
        "af63d23b515248688a0b6a1231055ae1": {
          "model_module": "@jupyter-widgets/controls",
          "model_name": "ProgressStyleModel",
          "model_module_version": "1.5.0",
          "state": {
            "_model_module": "@jupyter-widgets/controls",
            "_model_module_version": "1.5.0",
            "_model_name": "ProgressStyleModel",
            "_view_count": null,
            "_view_module": "@jupyter-widgets/base",
            "_view_module_version": "1.2.0",
            "_view_name": "StyleView",
            "bar_color": null,
            "description_width": ""
          }
        },
        "5efc051a2c014c7a9403190ce7cea131": {
          "model_module": "@jupyter-widgets/base",
          "model_name": "LayoutModel",
          "model_module_version": "1.2.0",
          "state": {
            "_model_module": "@jupyter-widgets/base",
            "_model_module_version": "1.2.0",
            "_model_name": "LayoutModel",
            "_view_count": null,
            "_view_module": "@jupyter-widgets/base",
            "_view_module_version": "1.2.0",
            "_view_name": "LayoutView",
            "align_content": null,
            "align_items": null,
            "align_self": null,
            "border": null,
            "bottom": null,
            "display": null,
            "flex": null,
            "flex_flow": null,
            "grid_area": null,
            "grid_auto_columns": null,
            "grid_auto_flow": null,
            "grid_auto_rows": null,
            "grid_column": null,
            "grid_gap": null,
            "grid_row": null,
            "grid_template_areas": null,
            "grid_template_columns": null,
            "grid_template_rows": null,
            "height": null,
            "justify_content": null,
            "justify_items": null,
            "left": null,
            "margin": null,
            "max_height": null,
            "max_width": null,
            "min_height": null,
            "min_width": null,
            "object_fit": null,
            "object_position": null,
            "order": null,
            "overflow": null,
            "overflow_x": null,
            "overflow_y": null,
            "padding": null,
            "right": null,
            "top": null,
            "visibility": null,
            "width": null
          }
        },
        "f0061773914446f8ac30c1cab2c36c17": {
          "model_module": "@jupyter-widgets/controls",
          "model_name": "DescriptionStyleModel",
          "model_module_version": "1.5.0",
          "state": {
            "_model_module": "@jupyter-widgets/controls",
            "_model_module_version": "1.5.0",
            "_model_name": "DescriptionStyleModel",
            "_view_count": null,
            "_view_module": "@jupyter-widgets/base",
            "_view_module_version": "1.2.0",
            "_view_name": "StyleView",
            "description_width": ""
          }
        },
        "27a8e11905c649d9854f7d6016ea5a3c": {
          "model_module": "@jupyter-widgets/controls",
          "model_name": "VBoxModel",
          "model_module_version": "1.5.0",
          "state": {
            "_dom_classes": [],
            "_model_module": "@jupyter-widgets/controls",
            "_model_module_version": "1.5.0",
            "_model_name": "VBoxModel",
            "_view_count": null,
            "_view_module": "@jupyter-widgets/controls",
            "_view_module_version": "1.5.0",
            "_view_name": "VBoxView",
            "box_style": "",
            "children": [
              "IPY_MODEL_d295f1d946094fa88820c06125c4b796",
              "IPY_MODEL_542e15928c524434b70d78d74675a060",
              "IPY_MODEL_5dc6bc88494c4c6b85fa5ffa4560db58",
              "IPY_MODEL_898bb6efb3394235a5376ac2b61d8e70"
            ],
            "layout": "IPY_MODEL_e35fae1760b24ba2b02f11d357138e49"
          }
        },
        "8dc2a860ee53477a8248cc070d2d4ba8": {
          "model_module": "@jupyter-widgets/controls",
          "model_name": "HTMLModel",
          "model_module_version": "1.5.0",
          "state": {
            "_dom_classes": [],
            "_model_module": "@jupyter-widgets/controls",
            "_model_module_version": "1.5.0",
            "_model_name": "HTMLModel",
            "_view_count": null,
            "_view_module": "@jupyter-widgets/controls",
            "_view_module_version": "1.5.0",
            "_view_name": "HTMLView",
            "description": "",
            "description_tooltip": null,
            "layout": "IPY_MODEL_701a326077bc44a9ab7b4c76eb83e70d",
            "placeholder": "​",
            "style": "IPY_MODEL_177ec5dc4355445394777da92dcc4d70",
            "value": "<center> <img\nsrc=https://huggingface.co/front/assets/huggingface_logo-noborder.svg\nalt='Hugging Face'> <br> Copy a token from <a\nhref=\"https://huggingface.co/settings/tokens\" target=\"_blank\">your Hugging Face\ntokens page</a> and paste it below. <br> Immediately click login after copying\nyour token or it might be stored in plain text in this notebook file. </center>"
          }
        },
        "8f906ddd5d48457499a46a6c269e4393": {
          "model_module": "@jupyter-widgets/controls",
          "model_name": "PasswordModel",
          "model_module_version": "1.5.0",
          "state": {
            "_dom_classes": [],
            "_model_module": "@jupyter-widgets/controls",
            "_model_module_version": "1.5.0",
            "_model_name": "PasswordModel",
            "_view_count": null,
            "_view_module": "@jupyter-widgets/controls",
            "_view_module_version": "1.5.0",
            "_view_name": "PasswordView",
            "continuous_update": true,
            "description": "Token:",
            "description_tooltip": null,
            "disabled": false,
            "layout": "IPY_MODEL_7e4d81205f864f8bb13486d42aba3ea2",
            "placeholder": "​",
            "style": "IPY_MODEL_aa4e42d79fb440c6b27735d6ca6fab75",
            "value": ""
          }
        },
        "ee3b57a59aa6482e8bfe973b475c8153": {
          "model_module": "@jupyter-widgets/controls",
          "model_name": "CheckboxModel",
          "model_module_version": "1.5.0",
          "state": {
            "_dom_classes": [],
            "_model_module": "@jupyter-widgets/controls",
            "_model_module_version": "1.5.0",
            "_model_name": "CheckboxModel",
            "_view_count": null,
            "_view_module": "@jupyter-widgets/controls",
            "_view_module_version": "1.5.0",
            "_view_name": "CheckboxView",
            "description": "Add token as git credential?",
            "description_tooltip": null,
            "disabled": false,
            "indent": true,
            "layout": "IPY_MODEL_a7799145afae40258dd6a23178229ee8",
            "style": "IPY_MODEL_3bf898598e3d49959701633662781f08",
            "value": true
          }
        },
        "a8641b4776344471b2504776b0cbeb88": {
          "model_module": "@jupyter-widgets/controls",
          "model_name": "ButtonModel",
          "model_module_version": "1.5.0",
          "state": {
            "_dom_classes": [],
            "_model_module": "@jupyter-widgets/controls",
            "_model_module_version": "1.5.0",
            "_model_name": "ButtonModel",
            "_view_count": null,
            "_view_module": "@jupyter-widgets/controls",
            "_view_module_version": "1.5.0",
            "_view_name": "ButtonView",
            "button_style": "",
            "description": "Login",
            "disabled": false,
            "icon": "",
            "layout": "IPY_MODEL_ccdef277f97e4388bb9aeddb4ebbb505",
            "style": "IPY_MODEL_330dab0f13f44c65995b7e5bd8cc6c48",
            "tooltip": ""
          }
        },
        "7f498b241e1f4994bcd06ecd1cef8cb3": {
          "model_module": "@jupyter-widgets/controls",
          "model_name": "HTMLModel",
          "model_module_version": "1.5.0",
          "state": {
            "_dom_classes": [],
            "_model_module": "@jupyter-widgets/controls",
            "_model_module_version": "1.5.0",
            "_model_name": "HTMLModel",
            "_view_count": null,
            "_view_module": "@jupyter-widgets/controls",
            "_view_module_version": "1.5.0",
            "_view_name": "HTMLView",
            "description": "",
            "description_tooltip": null,
            "layout": "IPY_MODEL_57c7b2cbf8424024ba5c390ff156f8d3",
            "placeholder": "​",
            "style": "IPY_MODEL_2f7c726974aa423a969cc1763d2f2792",
            "value": "\n<b>Pro Tip:</b> If you don't already have one, you can create a dedicated\n'notebooks' token with 'write' access, that you can then easily reuse for all\nnotebooks. </center>"
          }
        },
        "e35fae1760b24ba2b02f11d357138e49": {
          "model_module": "@jupyter-widgets/base",
          "model_name": "LayoutModel",
          "model_module_version": "1.2.0",
          "state": {
            "_model_module": "@jupyter-widgets/base",
            "_model_module_version": "1.2.0",
            "_model_name": "LayoutModel",
            "_view_count": null,
            "_view_module": "@jupyter-widgets/base",
            "_view_module_version": "1.2.0",
            "_view_name": "LayoutView",
            "align_content": null,
            "align_items": "center",
            "align_self": null,
            "border": null,
            "bottom": null,
            "display": "flex",
            "flex": null,
            "flex_flow": "column",
            "grid_area": null,
            "grid_auto_columns": null,
            "grid_auto_flow": null,
            "grid_auto_rows": null,
            "grid_column": null,
            "grid_gap": null,
            "grid_row": null,
            "grid_template_areas": null,
            "grid_template_columns": null,
            "grid_template_rows": null,
            "height": null,
            "justify_content": null,
            "justify_items": null,
            "left": null,
            "margin": null,
            "max_height": null,
            "max_width": null,
            "min_height": null,
            "min_width": null,
            "object_fit": null,
            "object_position": null,
            "order": null,
            "overflow": null,
            "overflow_x": null,
            "overflow_y": null,
            "padding": null,
            "right": null,
            "top": null,
            "visibility": null,
            "width": "50%"
          }
        },
        "701a326077bc44a9ab7b4c76eb83e70d": {
          "model_module": "@jupyter-widgets/base",
          "model_name": "LayoutModel",
          "model_module_version": "1.2.0",
          "state": {
            "_model_module": "@jupyter-widgets/base",
            "_model_module_version": "1.2.0",
            "_model_name": "LayoutModel",
            "_view_count": null,
            "_view_module": "@jupyter-widgets/base",
            "_view_module_version": "1.2.0",
            "_view_name": "LayoutView",
            "align_content": null,
            "align_items": null,
            "align_self": null,
            "border": null,
            "bottom": null,
            "display": null,
            "flex": null,
            "flex_flow": null,
            "grid_area": null,
            "grid_auto_columns": null,
            "grid_auto_flow": null,
            "grid_auto_rows": null,
            "grid_column": null,
            "grid_gap": null,
            "grid_row": null,
            "grid_template_areas": null,
            "grid_template_columns": null,
            "grid_template_rows": null,
            "height": null,
            "justify_content": null,
            "justify_items": null,
            "left": null,
            "margin": null,
            "max_height": null,
            "max_width": null,
            "min_height": null,
            "min_width": null,
            "object_fit": null,
            "object_position": null,
            "order": null,
            "overflow": null,
            "overflow_x": null,
            "overflow_y": null,
            "padding": null,
            "right": null,
            "top": null,
            "visibility": null,
            "width": null
          }
        },
        "177ec5dc4355445394777da92dcc4d70": {
          "model_module": "@jupyter-widgets/controls",
          "model_name": "DescriptionStyleModel",
          "model_module_version": "1.5.0",
          "state": {
            "_model_module": "@jupyter-widgets/controls",
            "_model_module_version": "1.5.0",
            "_model_name": "DescriptionStyleModel",
            "_view_count": null,
            "_view_module": "@jupyter-widgets/base",
            "_view_module_version": "1.2.0",
            "_view_name": "StyleView",
            "description_width": ""
          }
        },
        "7e4d81205f864f8bb13486d42aba3ea2": {
          "model_module": "@jupyter-widgets/base",
          "model_name": "LayoutModel",
          "model_module_version": "1.2.0",
          "state": {
            "_model_module": "@jupyter-widgets/base",
            "_model_module_version": "1.2.0",
            "_model_name": "LayoutModel",
            "_view_count": null,
            "_view_module": "@jupyter-widgets/base",
            "_view_module_version": "1.2.0",
            "_view_name": "LayoutView",
            "align_content": null,
            "align_items": null,
            "align_self": null,
            "border": null,
            "bottom": null,
            "display": null,
            "flex": null,
            "flex_flow": null,
            "grid_area": null,
            "grid_auto_columns": null,
            "grid_auto_flow": null,
            "grid_auto_rows": null,
            "grid_column": null,
            "grid_gap": null,
            "grid_row": null,
            "grid_template_areas": null,
            "grid_template_columns": null,
            "grid_template_rows": null,
            "height": null,
            "justify_content": null,
            "justify_items": null,
            "left": null,
            "margin": null,
            "max_height": null,
            "max_width": null,
            "min_height": null,
            "min_width": null,
            "object_fit": null,
            "object_position": null,
            "order": null,
            "overflow": null,
            "overflow_x": null,
            "overflow_y": null,
            "padding": null,
            "right": null,
            "top": null,
            "visibility": null,
            "width": null
          }
        },
        "aa4e42d79fb440c6b27735d6ca6fab75": {
          "model_module": "@jupyter-widgets/controls",
          "model_name": "DescriptionStyleModel",
          "model_module_version": "1.5.0",
          "state": {
            "_model_module": "@jupyter-widgets/controls",
            "_model_module_version": "1.5.0",
            "_model_name": "DescriptionStyleModel",
            "_view_count": null,
            "_view_module": "@jupyter-widgets/base",
            "_view_module_version": "1.2.0",
            "_view_name": "StyleView",
            "description_width": ""
          }
        },
        "a7799145afae40258dd6a23178229ee8": {
          "model_module": "@jupyter-widgets/base",
          "model_name": "LayoutModel",
          "model_module_version": "1.2.0",
          "state": {
            "_model_module": "@jupyter-widgets/base",
            "_model_module_version": "1.2.0",
            "_model_name": "LayoutModel",
            "_view_count": null,
            "_view_module": "@jupyter-widgets/base",
            "_view_module_version": "1.2.0",
            "_view_name": "LayoutView",
            "align_content": null,
            "align_items": null,
            "align_self": null,
            "border": null,
            "bottom": null,
            "display": null,
            "flex": null,
            "flex_flow": null,
            "grid_area": null,
            "grid_auto_columns": null,
            "grid_auto_flow": null,
            "grid_auto_rows": null,
            "grid_column": null,
            "grid_gap": null,
            "grid_row": null,
            "grid_template_areas": null,
            "grid_template_columns": null,
            "grid_template_rows": null,
            "height": null,
            "justify_content": null,
            "justify_items": null,
            "left": null,
            "margin": null,
            "max_height": null,
            "max_width": null,
            "min_height": null,
            "min_width": null,
            "object_fit": null,
            "object_position": null,
            "order": null,
            "overflow": null,
            "overflow_x": null,
            "overflow_y": null,
            "padding": null,
            "right": null,
            "top": null,
            "visibility": null,
            "width": null
          }
        },
        "3bf898598e3d49959701633662781f08": {
          "model_module": "@jupyter-widgets/controls",
          "model_name": "DescriptionStyleModel",
          "model_module_version": "1.5.0",
          "state": {
            "_model_module": "@jupyter-widgets/controls",
            "_model_module_version": "1.5.0",
            "_model_name": "DescriptionStyleModel",
            "_view_count": null,
            "_view_module": "@jupyter-widgets/base",
            "_view_module_version": "1.2.0",
            "_view_name": "StyleView",
            "description_width": ""
          }
        },
        "ccdef277f97e4388bb9aeddb4ebbb505": {
          "model_module": "@jupyter-widgets/base",
          "model_name": "LayoutModel",
          "model_module_version": "1.2.0",
          "state": {
            "_model_module": "@jupyter-widgets/base",
            "_model_module_version": "1.2.0",
            "_model_name": "LayoutModel",
            "_view_count": null,
            "_view_module": "@jupyter-widgets/base",
            "_view_module_version": "1.2.0",
            "_view_name": "LayoutView",
            "align_content": null,
            "align_items": null,
            "align_self": null,
            "border": null,
            "bottom": null,
            "display": null,
            "flex": null,
            "flex_flow": null,
            "grid_area": null,
            "grid_auto_columns": null,
            "grid_auto_flow": null,
            "grid_auto_rows": null,
            "grid_column": null,
            "grid_gap": null,
            "grid_row": null,
            "grid_template_areas": null,
            "grid_template_columns": null,
            "grid_template_rows": null,
            "height": null,
            "justify_content": null,
            "justify_items": null,
            "left": null,
            "margin": null,
            "max_height": null,
            "max_width": null,
            "min_height": null,
            "min_width": null,
            "object_fit": null,
            "object_position": null,
            "order": null,
            "overflow": null,
            "overflow_x": null,
            "overflow_y": null,
            "padding": null,
            "right": null,
            "top": null,
            "visibility": null,
            "width": null
          }
        },
        "330dab0f13f44c65995b7e5bd8cc6c48": {
          "model_module": "@jupyter-widgets/controls",
          "model_name": "ButtonStyleModel",
          "model_module_version": "1.5.0",
          "state": {
            "_model_module": "@jupyter-widgets/controls",
            "_model_module_version": "1.5.0",
            "_model_name": "ButtonStyleModel",
            "_view_count": null,
            "_view_module": "@jupyter-widgets/base",
            "_view_module_version": "1.2.0",
            "_view_name": "StyleView",
            "button_color": null,
            "font_weight": ""
          }
        },
        "57c7b2cbf8424024ba5c390ff156f8d3": {
          "model_module": "@jupyter-widgets/base",
          "model_name": "LayoutModel",
          "model_module_version": "1.2.0",
          "state": {
            "_model_module": "@jupyter-widgets/base",
            "_model_module_version": "1.2.0",
            "_model_name": "LayoutModel",
            "_view_count": null,
            "_view_module": "@jupyter-widgets/base",
            "_view_module_version": "1.2.0",
            "_view_name": "LayoutView",
            "align_content": null,
            "align_items": null,
            "align_self": null,
            "border": null,
            "bottom": null,
            "display": null,
            "flex": null,
            "flex_flow": null,
            "grid_area": null,
            "grid_auto_columns": null,
            "grid_auto_flow": null,
            "grid_auto_rows": null,
            "grid_column": null,
            "grid_gap": null,
            "grid_row": null,
            "grid_template_areas": null,
            "grid_template_columns": null,
            "grid_template_rows": null,
            "height": null,
            "justify_content": null,
            "justify_items": null,
            "left": null,
            "margin": null,
            "max_height": null,
            "max_width": null,
            "min_height": null,
            "min_width": null,
            "object_fit": null,
            "object_position": null,
            "order": null,
            "overflow": null,
            "overflow_x": null,
            "overflow_y": null,
            "padding": null,
            "right": null,
            "top": null,
            "visibility": null,
            "width": null
          }
        },
        "2f7c726974aa423a969cc1763d2f2792": {
          "model_module": "@jupyter-widgets/controls",
          "model_name": "DescriptionStyleModel",
          "model_module_version": "1.5.0",
          "state": {
            "_model_module": "@jupyter-widgets/controls",
            "_model_module_version": "1.5.0",
            "_model_name": "DescriptionStyleModel",
            "_view_count": null,
            "_view_module": "@jupyter-widgets/base",
            "_view_module_version": "1.2.0",
            "_view_name": "StyleView",
            "description_width": ""
          }
        },
        "1ce8fd4ab64a43c9ad0f5036131f3a20": {
          "model_module": "@jupyter-widgets/controls",
          "model_name": "LabelModel",
          "model_module_version": "1.5.0",
          "state": {
            "_dom_classes": [],
            "_model_module": "@jupyter-widgets/controls",
            "_model_module_version": "1.5.0",
            "_model_name": "LabelModel",
            "_view_count": null,
            "_view_module": "@jupyter-widgets/controls",
            "_view_module_version": "1.5.0",
            "_view_name": "LabelView",
            "description": "",
            "description_tooltip": null,
            "layout": "IPY_MODEL_6a9f4d11a68549ba961a5e25c7aa7c72",
            "placeholder": "​",
            "style": "IPY_MODEL_9f3abfa0f4da49e988baa2ab55f4408c",
            "value": "Connecting..."
          }
        },
        "6a9f4d11a68549ba961a5e25c7aa7c72": {
          "model_module": "@jupyter-widgets/base",
          "model_name": "LayoutModel",
          "model_module_version": "1.2.0",
          "state": {
            "_model_module": "@jupyter-widgets/base",
            "_model_module_version": "1.2.0",
            "_model_name": "LayoutModel",
            "_view_count": null,
            "_view_module": "@jupyter-widgets/base",
            "_view_module_version": "1.2.0",
            "_view_name": "LayoutView",
            "align_content": null,
            "align_items": null,
            "align_self": null,
            "border": null,
            "bottom": null,
            "display": null,
            "flex": null,
            "flex_flow": null,
            "grid_area": null,
            "grid_auto_columns": null,
            "grid_auto_flow": null,
            "grid_auto_rows": null,
            "grid_column": null,
            "grid_gap": null,
            "grid_row": null,
            "grid_template_areas": null,
            "grid_template_columns": null,
            "grid_template_rows": null,
            "height": null,
            "justify_content": null,
            "justify_items": null,
            "left": null,
            "margin": null,
            "max_height": null,
            "max_width": null,
            "min_height": null,
            "min_width": null,
            "object_fit": null,
            "object_position": null,
            "order": null,
            "overflow": null,
            "overflow_x": null,
            "overflow_y": null,
            "padding": null,
            "right": null,
            "top": null,
            "visibility": null,
            "width": null
          }
        },
        "9f3abfa0f4da49e988baa2ab55f4408c": {
          "model_module": "@jupyter-widgets/controls",
          "model_name": "DescriptionStyleModel",
          "model_module_version": "1.5.0",
          "state": {
            "_model_module": "@jupyter-widgets/controls",
            "_model_module_version": "1.5.0",
            "_model_name": "DescriptionStyleModel",
            "_view_count": null,
            "_view_module": "@jupyter-widgets/base",
            "_view_module_version": "1.2.0",
            "_view_name": "StyleView",
            "description_width": ""
          }
        },
        "d295f1d946094fa88820c06125c4b796": {
          "model_module": "@jupyter-widgets/controls",
          "model_name": "LabelModel",
          "model_module_version": "1.5.0",
          "state": {
            "_dom_classes": [],
            "_model_module": "@jupyter-widgets/controls",
            "_model_module_version": "1.5.0",
            "_model_name": "LabelModel",
            "_view_count": null,
            "_view_module": "@jupyter-widgets/controls",
            "_view_module_version": "1.5.0",
            "_view_name": "LabelView",
            "description": "",
            "description_tooltip": null,
            "layout": "IPY_MODEL_1efd973e2b5945b6b06a49ea4baefa27",
            "placeholder": "​",
            "style": "IPY_MODEL_56cb70a841e649c280248838b0db2a95",
            "value": "Token is valid (permission: write)."
          }
        },
        "542e15928c524434b70d78d74675a060": {
          "model_module": "@jupyter-widgets/controls",
          "model_name": "LabelModel",
          "model_module_version": "1.5.0",
          "state": {
            "_dom_classes": [],
            "_model_module": "@jupyter-widgets/controls",
            "_model_module_version": "1.5.0",
            "_model_name": "LabelModel",
            "_view_count": null,
            "_view_module": "@jupyter-widgets/controls",
            "_view_module_version": "1.5.0",
            "_view_name": "LabelView",
            "description": "",
            "description_tooltip": null,
            "layout": "IPY_MODEL_aabbb6114751494297ca224131b91417",
            "placeholder": "​",
            "style": "IPY_MODEL_c540be2ea9944469a3990489f93a7ac0",
            "value": "Your token has been saved in your configured git credential helpers (store)."
          }
        },
        "5dc6bc88494c4c6b85fa5ffa4560db58": {
          "model_module": "@jupyter-widgets/controls",
          "model_name": "LabelModel",
          "model_module_version": "1.5.0",
          "state": {
            "_dom_classes": [],
            "_model_module": "@jupyter-widgets/controls",
            "_model_module_version": "1.5.0",
            "_model_name": "LabelModel",
            "_view_count": null,
            "_view_module": "@jupyter-widgets/controls",
            "_view_module_version": "1.5.0",
            "_view_name": "LabelView",
            "description": "",
            "description_tooltip": null,
            "layout": "IPY_MODEL_4b28cf56688c43958d7143d0875dca59",
            "placeholder": "​",
            "style": "IPY_MODEL_5abd2b59cb854b528363e34766d7b699",
            "value": "Your token has been saved to /root/.cache/huggingface/token"
          }
        },
        "898bb6efb3394235a5376ac2b61d8e70": {
          "model_module": "@jupyter-widgets/controls",
          "model_name": "LabelModel",
          "model_module_version": "1.5.0",
          "state": {
            "_dom_classes": [],
            "_model_module": "@jupyter-widgets/controls",
            "_model_module_version": "1.5.0",
            "_model_name": "LabelModel",
            "_view_count": null,
            "_view_module": "@jupyter-widgets/controls",
            "_view_module_version": "1.5.0",
            "_view_name": "LabelView",
            "description": "",
            "description_tooltip": null,
            "layout": "IPY_MODEL_c08cfdb9768c45619f5c436074cf3734",
            "placeholder": "​",
            "style": "IPY_MODEL_f0898162f9d641a3adf390dabc47f230",
            "value": "Login successful"
          }
        },
        "1efd973e2b5945b6b06a49ea4baefa27": {
          "model_module": "@jupyter-widgets/base",
          "model_name": "LayoutModel",
          "model_module_version": "1.2.0",
          "state": {
            "_model_module": "@jupyter-widgets/base",
            "_model_module_version": "1.2.0",
            "_model_name": "LayoutModel",
            "_view_count": null,
            "_view_module": "@jupyter-widgets/base",
            "_view_module_version": "1.2.0",
            "_view_name": "LayoutView",
            "align_content": null,
            "align_items": null,
            "align_self": null,
            "border": null,
            "bottom": null,
            "display": null,
            "flex": null,
            "flex_flow": null,
            "grid_area": null,
            "grid_auto_columns": null,
            "grid_auto_flow": null,
            "grid_auto_rows": null,
            "grid_column": null,
            "grid_gap": null,
            "grid_row": null,
            "grid_template_areas": null,
            "grid_template_columns": null,
            "grid_template_rows": null,
            "height": null,
            "justify_content": null,
            "justify_items": null,
            "left": null,
            "margin": null,
            "max_height": null,
            "max_width": null,
            "min_height": null,
            "min_width": null,
            "object_fit": null,
            "object_position": null,
            "order": null,
            "overflow": null,
            "overflow_x": null,
            "overflow_y": null,
            "padding": null,
            "right": null,
            "top": null,
            "visibility": null,
            "width": null
          }
        },
        "56cb70a841e649c280248838b0db2a95": {
          "model_module": "@jupyter-widgets/controls",
          "model_name": "DescriptionStyleModel",
          "model_module_version": "1.5.0",
          "state": {
            "_model_module": "@jupyter-widgets/controls",
            "_model_module_version": "1.5.0",
            "_model_name": "DescriptionStyleModel",
            "_view_count": null,
            "_view_module": "@jupyter-widgets/base",
            "_view_module_version": "1.2.0",
            "_view_name": "StyleView",
            "description_width": ""
          }
        },
        "aabbb6114751494297ca224131b91417": {
          "model_module": "@jupyter-widgets/base",
          "model_name": "LayoutModel",
          "model_module_version": "1.2.0",
          "state": {
            "_model_module": "@jupyter-widgets/base",
            "_model_module_version": "1.2.0",
            "_model_name": "LayoutModel",
            "_view_count": null,
            "_view_module": "@jupyter-widgets/base",
            "_view_module_version": "1.2.0",
            "_view_name": "LayoutView",
            "align_content": null,
            "align_items": null,
            "align_self": null,
            "border": null,
            "bottom": null,
            "display": null,
            "flex": null,
            "flex_flow": null,
            "grid_area": null,
            "grid_auto_columns": null,
            "grid_auto_flow": null,
            "grid_auto_rows": null,
            "grid_column": null,
            "grid_gap": null,
            "grid_row": null,
            "grid_template_areas": null,
            "grid_template_columns": null,
            "grid_template_rows": null,
            "height": null,
            "justify_content": null,
            "justify_items": null,
            "left": null,
            "margin": null,
            "max_height": null,
            "max_width": null,
            "min_height": null,
            "min_width": null,
            "object_fit": null,
            "object_position": null,
            "order": null,
            "overflow": null,
            "overflow_x": null,
            "overflow_y": null,
            "padding": null,
            "right": null,
            "top": null,
            "visibility": null,
            "width": null
          }
        },
        "c540be2ea9944469a3990489f93a7ac0": {
          "model_module": "@jupyter-widgets/controls",
          "model_name": "DescriptionStyleModel",
          "model_module_version": "1.5.0",
          "state": {
            "_model_module": "@jupyter-widgets/controls",
            "_model_module_version": "1.5.0",
            "_model_name": "DescriptionStyleModel",
            "_view_count": null,
            "_view_module": "@jupyter-widgets/base",
            "_view_module_version": "1.2.0",
            "_view_name": "StyleView",
            "description_width": ""
          }
        },
        "4b28cf56688c43958d7143d0875dca59": {
          "model_module": "@jupyter-widgets/base",
          "model_name": "LayoutModel",
          "model_module_version": "1.2.0",
          "state": {
            "_model_module": "@jupyter-widgets/base",
            "_model_module_version": "1.2.0",
            "_model_name": "LayoutModel",
            "_view_count": null,
            "_view_module": "@jupyter-widgets/base",
            "_view_module_version": "1.2.0",
            "_view_name": "LayoutView",
            "align_content": null,
            "align_items": null,
            "align_self": null,
            "border": null,
            "bottom": null,
            "display": null,
            "flex": null,
            "flex_flow": null,
            "grid_area": null,
            "grid_auto_columns": null,
            "grid_auto_flow": null,
            "grid_auto_rows": null,
            "grid_column": null,
            "grid_gap": null,
            "grid_row": null,
            "grid_template_areas": null,
            "grid_template_columns": null,
            "grid_template_rows": null,
            "height": null,
            "justify_content": null,
            "justify_items": null,
            "left": null,
            "margin": null,
            "max_height": null,
            "max_width": null,
            "min_height": null,
            "min_width": null,
            "object_fit": null,
            "object_position": null,
            "order": null,
            "overflow": null,
            "overflow_x": null,
            "overflow_y": null,
            "padding": null,
            "right": null,
            "top": null,
            "visibility": null,
            "width": null
          }
        },
        "5abd2b59cb854b528363e34766d7b699": {
          "model_module": "@jupyter-widgets/controls",
          "model_name": "DescriptionStyleModel",
          "model_module_version": "1.5.0",
          "state": {
            "_model_module": "@jupyter-widgets/controls",
            "_model_module_version": "1.5.0",
            "_model_name": "DescriptionStyleModel",
            "_view_count": null,
            "_view_module": "@jupyter-widgets/base",
            "_view_module_version": "1.2.0",
            "_view_name": "StyleView",
            "description_width": ""
          }
        },
        "c08cfdb9768c45619f5c436074cf3734": {
          "model_module": "@jupyter-widgets/base",
          "model_name": "LayoutModel",
          "model_module_version": "1.2.0",
          "state": {
            "_model_module": "@jupyter-widgets/base",
            "_model_module_version": "1.2.0",
            "_model_name": "LayoutModel",
            "_view_count": null,
            "_view_module": "@jupyter-widgets/base",
            "_view_module_version": "1.2.0",
            "_view_name": "LayoutView",
            "align_content": null,
            "align_items": null,
            "align_self": null,
            "border": null,
            "bottom": null,
            "display": null,
            "flex": null,
            "flex_flow": null,
            "grid_area": null,
            "grid_auto_columns": null,
            "grid_auto_flow": null,
            "grid_auto_rows": null,
            "grid_column": null,
            "grid_gap": null,
            "grid_row": null,
            "grid_template_areas": null,
            "grid_template_columns": null,
            "grid_template_rows": null,
            "height": null,
            "justify_content": null,
            "justify_items": null,
            "left": null,
            "margin": null,
            "max_height": null,
            "max_width": null,
            "min_height": null,
            "min_width": null,
            "object_fit": null,
            "object_position": null,
            "order": null,
            "overflow": null,
            "overflow_x": null,
            "overflow_y": null,
            "padding": null,
            "right": null,
            "top": null,
            "visibility": null,
            "width": null
          }
        },
        "f0898162f9d641a3adf390dabc47f230": {
          "model_module": "@jupyter-widgets/controls",
          "model_name": "DescriptionStyleModel",
          "model_module_version": "1.5.0",
          "state": {
            "_model_module": "@jupyter-widgets/controls",
            "_model_module_version": "1.5.0",
            "_model_name": "DescriptionStyleModel",
            "_view_count": null,
            "_view_module": "@jupyter-widgets/base",
            "_view_module_version": "1.2.0",
            "_view_name": "StyleView",
            "description_width": ""
          }
        },
        "b8e75b01036b4c3bbc478173ed1a0eb3": {
          "model_module": "@jupyter-widgets/controls",
          "model_name": "HBoxModel",
          "model_module_version": "1.5.0",
          "state": {
            "_dom_classes": [],
            "_model_module": "@jupyter-widgets/controls",
            "_model_module_version": "1.5.0",
            "_model_name": "HBoxModel",
            "_view_count": null,
            "_view_module": "@jupyter-widgets/controls",
            "_view_module_version": "1.5.0",
            "_view_name": "HBoxView",
            "box_style": "",
            "children": [
              "IPY_MODEL_56b738a9a27c4a798d420b23de95d82b",
              "IPY_MODEL_d0b761e262804b3a894ab334abd59886",
              "IPY_MODEL_621a1338227a4d42baf2b60d6e32dbcf"
            ],
            "layout": "IPY_MODEL_a87f393a4e384a0da5864bd1c6827752"
          }
        },
        "56b738a9a27c4a798d420b23de95d82b": {
          "model_module": "@jupyter-widgets/controls",
          "model_name": "HTMLModel",
          "model_module_version": "1.5.0",
          "state": {
            "_dom_classes": [],
            "_model_module": "@jupyter-widgets/controls",
            "_model_module_version": "1.5.0",
            "_model_name": "HTMLModel",
            "_view_count": null,
            "_view_module": "@jupyter-widgets/controls",
            "_view_module_version": "1.5.0",
            "_view_name": "HTMLView",
            "description": "",
            "description_tooltip": null,
            "layout": "IPY_MODEL_7826bae128874aa99b9d9d0e8b28f340",
            "placeholder": "​",
            "style": "IPY_MODEL_d7f1c4358e6d40799d3f24e4299b0140",
            "value": "tokenizer_config.json: 100%"
          }
        },
        "d0b761e262804b3a894ab334abd59886": {
          "model_module": "@jupyter-widgets/controls",
          "model_name": "FloatProgressModel",
          "model_module_version": "1.5.0",
          "state": {
            "_dom_classes": [],
            "_model_module": "@jupyter-widgets/controls",
            "_model_module_version": "1.5.0",
            "_model_name": "FloatProgressModel",
            "_view_count": null,
            "_view_module": "@jupyter-widgets/controls",
            "_view_module_version": "1.5.0",
            "_view_name": "ProgressView",
            "bar_style": "success",
            "description": "",
            "description_tooltip": null,
            "layout": "IPY_MODEL_6f02e4c18ae44db6b1a8c5e2eb94b8b9",
            "max": 49,
            "min": 0,
            "orientation": "horizontal",
            "style": "IPY_MODEL_62050829fb1f4d26bb9838b68b1c730e",
            "value": 49
          }
        },
        "621a1338227a4d42baf2b60d6e32dbcf": {
          "model_module": "@jupyter-widgets/controls",
          "model_name": "HTMLModel",
          "model_module_version": "1.5.0",
          "state": {
            "_dom_classes": [],
            "_model_module": "@jupyter-widgets/controls",
            "_model_module_version": "1.5.0",
            "_model_name": "HTMLModel",
            "_view_count": null,
            "_view_module": "@jupyter-widgets/controls",
            "_view_module_version": "1.5.0",
            "_view_name": "HTMLView",
            "description": "",
            "description_tooltip": null,
            "layout": "IPY_MODEL_ab01a2a35e854006bbb88ccfb100322f",
            "placeholder": "​",
            "style": "IPY_MODEL_35c0e99526424a2a9b933e80a9c61231",
            "value": " 49.0/49.0 [00:00&lt;00:00, 1.49kB/s]"
          }
        },
        "a87f393a4e384a0da5864bd1c6827752": {
          "model_module": "@jupyter-widgets/base",
          "model_name": "LayoutModel",
          "model_module_version": "1.2.0",
          "state": {
            "_model_module": "@jupyter-widgets/base",
            "_model_module_version": "1.2.0",
            "_model_name": "LayoutModel",
            "_view_count": null,
            "_view_module": "@jupyter-widgets/base",
            "_view_module_version": "1.2.0",
            "_view_name": "LayoutView",
            "align_content": null,
            "align_items": null,
            "align_self": null,
            "border": null,
            "bottom": null,
            "display": null,
            "flex": null,
            "flex_flow": null,
            "grid_area": null,
            "grid_auto_columns": null,
            "grid_auto_flow": null,
            "grid_auto_rows": null,
            "grid_column": null,
            "grid_gap": null,
            "grid_row": null,
            "grid_template_areas": null,
            "grid_template_columns": null,
            "grid_template_rows": null,
            "height": null,
            "justify_content": null,
            "justify_items": null,
            "left": null,
            "margin": null,
            "max_height": null,
            "max_width": null,
            "min_height": null,
            "min_width": null,
            "object_fit": null,
            "object_position": null,
            "order": null,
            "overflow": null,
            "overflow_x": null,
            "overflow_y": null,
            "padding": null,
            "right": null,
            "top": null,
            "visibility": null,
            "width": null
          }
        },
        "7826bae128874aa99b9d9d0e8b28f340": {
          "model_module": "@jupyter-widgets/base",
          "model_name": "LayoutModel",
          "model_module_version": "1.2.0",
          "state": {
            "_model_module": "@jupyter-widgets/base",
            "_model_module_version": "1.2.0",
            "_model_name": "LayoutModel",
            "_view_count": null,
            "_view_module": "@jupyter-widgets/base",
            "_view_module_version": "1.2.0",
            "_view_name": "LayoutView",
            "align_content": null,
            "align_items": null,
            "align_self": null,
            "border": null,
            "bottom": null,
            "display": null,
            "flex": null,
            "flex_flow": null,
            "grid_area": null,
            "grid_auto_columns": null,
            "grid_auto_flow": null,
            "grid_auto_rows": null,
            "grid_column": null,
            "grid_gap": null,
            "grid_row": null,
            "grid_template_areas": null,
            "grid_template_columns": null,
            "grid_template_rows": null,
            "height": null,
            "justify_content": null,
            "justify_items": null,
            "left": null,
            "margin": null,
            "max_height": null,
            "max_width": null,
            "min_height": null,
            "min_width": null,
            "object_fit": null,
            "object_position": null,
            "order": null,
            "overflow": null,
            "overflow_x": null,
            "overflow_y": null,
            "padding": null,
            "right": null,
            "top": null,
            "visibility": null,
            "width": null
          }
        },
        "d7f1c4358e6d40799d3f24e4299b0140": {
          "model_module": "@jupyter-widgets/controls",
          "model_name": "DescriptionStyleModel",
          "model_module_version": "1.5.0",
          "state": {
            "_model_module": "@jupyter-widgets/controls",
            "_model_module_version": "1.5.0",
            "_model_name": "DescriptionStyleModel",
            "_view_count": null,
            "_view_module": "@jupyter-widgets/base",
            "_view_module_version": "1.2.0",
            "_view_name": "StyleView",
            "description_width": ""
          }
        },
        "6f02e4c18ae44db6b1a8c5e2eb94b8b9": {
          "model_module": "@jupyter-widgets/base",
          "model_name": "LayoutModel",
          "model_module_version": "1.2.0",
          "state": {
            "_model_module": "@jupyter-widgets/base",
            "_model_module_version": "1.2.0",
            "_model_name": "LayoutModel",
            "_view_count": null,
            "_view_module": "@jupyter-widgets/base",
            "_view_module_version": "1.2.0",
            "_view_name": "LayoutView",
            "align_content": null,
            "align_items": null,
            "align_self": null,
            "border": null,
            "bottom": null,
            "display": null,
            "flex": null,
            "flex_flow": null,
            "grid_area": null,
            "grid_auto_columns": null,
            "grid_auto_flow": null,
            "grid_auto_rows": null,
            "grid_column": null,
            "grid_gap": null,
            "grid_row": null,
            "grid_template_areas": null,
            "grid_template_columns": null,
            "grid_template_rows": null,
            "height": null,
            "justify_content": null,
            "justify_items": null,
            "left": null,
            "margin": null,
            "max_height": null,
            "max_width": null,
            "min_height": null,
            "min_width": null,
            "object_fit": null,
            "object_position": null,
            "order": null,
            "overflow": null,
            "overflow_x": null,
            "overflow_y": null,
            "padding": null,
            "right": null,
            "top": null,
            "visibility": null,
            "width": null
          }
        },
        "62050829fb1f4d26bb9838b68b1c730e": {
          "model_module": "@jupyter-widgets/controls",
          "model_name": "ProgressStyleModel",
          "model_module_version": "1.5.0",
          "state": {
            "_model_module": "@jupyter-widgets/controls",
            "_model_module_version": "1.5.0",
            "_model_name": "ProgressStyleModel",
            "_view_count": null,
            "_view_module": "@jupyter-widgets/base",
            "_view_module_version": "1.2.0",
            "_view_name": "StyleView",
            "bar_color": null,
            "description_width": ""
          }
        },
        "ab01a2a35e854006bbb88ccfb100322f": {
          "model_module": "@jupyter-widgets/base",
          "model_name": "LayoutModel",
          "model_module_version": "1.2.0",
          "state": {
            "_model_module": "@jupyter-widgets/base",
            "_model_module_version": "1.2.0",
            "_model_name": "LayoutModel",
            "_view_count": null,
            "_view_module": "@jupyter-widgets/base",
            "_view_module_version": "1.2.0",
            "_view_name": "LayoutView",
            "align_content": null,
            "align_items": null,
            "align_self": null,
            "border": null,
            "bottom": null,
            "display": null,
            "flex": null,
            "flex_flow": null,
            "grid_area": null,
            "grid_auto_columns": null,
            "grid_auto_flow": null,
            "grid_auto_rows": null,
            "grid_column": null,
            "grid_gap": null,
            "grid_row": null,
            "grid_template_areas": null,
            "grid_template_columns": null,
            "grid_template_rows": null,
            "height": null,
            "justify_content": null,
            "justify_items": null,
            "left": null,
            "margin": null,
            "max_height": null,
            "max_width": null,
            "min_height": null,
            "min_width": null,
            "object_fit": null,
            "object_position": null,
            "order": null,
            "overflow": null,
            "overflow_x": null,
            "overflow_y": null,
            "padding": null,
            "right": null,
            "top": null,
            "visibility": null,
            "width": null
          }
        },
        "35c0e99526424a2a9b933e80a9c61231": {
          "model_module": "@jupyter-widgets/controls",
          "model_name": "DescriptionStyleModel",
          "model_module_version": "1.5.0",
          "state": {
            "_model_module": "@jupyter-widgets/controls",
            "_model_module_version": "1.5.0",
            "_model_name": "DescriptionStyleModel",
            "_view_count": null,
            "_view_module": "@jupyter-widgets/base",
            "_view_module_version": "1.2.0",
            "_view_name": "StyleView",
            "description_width": ""
          }
        },
        "6aa6b7cee93a4780be82c6e9005e3a1d": {
          "model_module": "@jupyter-widgets/controls",
          "model_name": "HBoxModel",
          "model_module_version": "1.5.0",
          "state": {
            "_dom_classes": [],
            "_model_module": "@jupyter-widgets/controls",
            "_model_module_version": "1.5.0",
            "_model_name": "HBoxModel",
            "_view_count": null,
            "_view_module": "@jupyter-widgets/controls",
            "_view_module_version": "1.5.0",
            "_view_name": "HBoxView",
            "box_style": "",
            "children": [
              "IPY_MODEL_fb39f1b3657b44c185de56a1af0c4173",
              "IPY_MODEL_705c3d2e5d624b4e91841f9bf3f41111",
              "IPY_MODEL_9d4b0a46434849cd85ea0f8c2fcddf95"
            ],
            "layout": "IPY_MODEL_92ccc674a899483081d5a8a11476da07"
          }
        },
        "fb39f1b3657b44c185de56a1af0c4173": {
          "model_module": "@jupyter-widgets/controls",
          "model_name": "HTMLModel",
          "model_module_version": "1.5.0",
          "state": {
            "_dom_classes": [],
            "_model_module": "@jupyter-widgets/controls",
            "_model_module_version": "1.5.0",
            "_model_name": "HTMLModel",
            "_view_count": null,
            "_view_module": "@jupyter-widgets/controls",
            "_view_module_version": "1.5.0",
            "_view_name": "HTMLView",
            "description": "",
            "description_tooltip": null,
            "layout": "IPY_MODEL_18978ae84c1141b299d0c8a50dcd66df",
            "placeholder": "​",
            "style": "IPY_MODEL_714b239ea69b47ec852a128bbac48c89",
            "value": "config.json: 100%"
          }
        },
        "705c3d2e5d624b4e91841f9bf3f41111": {
          "model_module": "@jupyter-widgets/controls",
          "model_name": "FloatProgressModel",
          "model_module_version": "1.5.0",
          "state": {
            "_dom_classes": [],
            "_model_module": "@jupyter-widgets/controls",
            "_model_module_version": "1.5.0",
            "_model_name": "FloatProgressModel",
            "_view_count": null,
            "_view_module": "@jupyter-widgets/controls",
            "_view_module_version": "1.5.0",
            "_view_name": "ProgressView",
            "bar_style": "success",
            "description": "",
            "description_tooltip": null,
            "layout": "IPY_MODEL_aa470edfd8f1455d8ccc73a8c5fbd894",
            "max": 570,
            "min": 0,
            "orientation": "horizontal",
            "style": "IPY_MODEL_3be3bb2d13a341078e3eaa0d3a173b5a",
            "value": 570
          }
        },
        "9d4b0a46434849cd85ea0f8c2fcddf95": {
          "model_module": "@jupyter-widgets/controls",
          "model_name": "HTMLModel",
          "model_module_version": "1.5.0",
          "state": {
            "_dom_classes": [],
            "_model_module": "@jupyter-widgets/controls",
            "_model_module_version": "1.5.0",
            "_model_name": "HTMLModel",
            "_view_count": null,
            "_view_module": "@jupyter-widgets/controls",
            "_view_module_version": "1.5.0",
            "_view_name": "HTMLView",
            "description": "",
            "description_tooltip": null,
            "layout": "IPY_MODEL_0d7a6cbba1bb420bb409f8963ee3c58b",
            "placeholder": "​",
            "style": "IPY_MODEL_a0eda08954a14b4eacfc3dbebf1cc347",
            "value": " 570/570 [00:00&lt;00:00, 11.2kB/s]"
          }
        },
        "92ccc674a899483081d5a8a11476da07": {
          "model_module": "@jupyter-widgets/base",
          "model_name": "LayoutModel",
          "model_module_version": "1.2.0",
          "state": {
            "_model_module": "@jupyter-widgets/base",
            "_model_module_version": "1.2.0",
            "_model_name": "LayoutModel",
            "_view_count": null,
            "_view_module": "@jupyter-widgets/base",
            "_view_module_version": "1.2.0",
            "_view_name": "LayoutView",
            "align_content": null,
            "align_items": null,
            "align_self": null,
            "border": null,
            "bottom": null,
            "display": null,
            "flex": null,
            "flex_flow": null,
            "grid_area": null,
            "grid_auto_columns": null,
            "grid_auto_flow": null,
            "grid_auto_rows": null,
            "grid_column": null,
            "grid_gap": null,
            "grid_row": null,
            "grid_template_areas": null,
            "grid_template_columns": null,
            "grid_template_rows": null,
            "height": null,
            "justify_content": null,
            "justify_items": null,
            "left": null,
            "margin": null,
            "max_height": null,
            "max_width": null,
            "min_height": null,
            "min_width": null,
            "object_fit": null,
            "object_position": null,
            "order": null,
            "overflow": null,
            "overflow_x": null,
            "overflow_y": null,
            "padding": null,
            "right": null,
            "top": null,
            "visibility": null,
            "width": null
          }
        },
        "18978ae84c1141b299d0c8a50dcd66df": {
          "model_module": "@jupyter-widgets/base",
          "model_name": "LayoutModel",
          "model_module_version": "1.2.0",
          "state": {
            "_model_module": "@jupyter-widgets/base",
            "_model_module_version": "1.2.0",
            "_model_name": "LayoutModel",
            "_view_count": null,
            "_view_module": "@jupyter-widgets/base",
            "_view_module_version": "1.2.0",
            "_view_name": "LayoutView",
            "align_content": null,
            "align_items": null,
            "align_self": null,
            "border": null,
            "bottom": null,
            "display": null,
            "flex": null,
            "flex_flow": null,
            "grid_area": null,
            "grid_auto_columns": null,
            "grid_auto_flow": null,
            "grid_auto_rows": null,
            "grid_column": null,
            "grid_gap": null,
            "grid_row": null,
            "grid_template_areas": null,
            "grid_template_columns": null,
            "grid_template_rows": null,
            "height": null,
            "justify_content": null,
            "justify_items": null,
            "left": null,
            "margin": null,
            "max_height": null,
            "max_width": null,
            "min_height": null,
            "min_width": null,
            "object_fit": null,
            "object_position": null,
            "order": null,
            "overflow": null,
            "overflow_x": null,
            "overflow_y": null,
            "padding": null,
            "right": null,
            "top": null,
            "visibility": null,
            "width": null
          }
        },
        "714b239ea69b47ec852a128bbac48c89": {
          "model_module": "@jupyter-widgets/controls",
          "model_name": "DescriptionStyleModel",
          "model_module_version": "1.5.0",
          "state": {
            "_model_module": "@jupyter-widgets/controls",
            "_model_module_version": "1.5.0",
            "_model_name": "DescriptionStyleModel",
            "_view_count": null,
            "_view_module": "@jupyter-widgets/base",
            "_view_module_version": "1.2.0",
            "_view_name": "StyleView",
            "description_width": ""
          }
        },
        "aa470edfd8f1455d8ccc73a8c5fbd894": {
          "model_module": "@jupyter-widgets/base",
          "model_name": "LayoutModel",
          "model_module_version": "1.2.0",
          "state": {
            "_model_module": "@jupyter-widgets/base",
            "_model_module_version": "1.2.0",
            "_model_name": "LayoutModel",
            "_view_count": null,
            "_view_module": "@jupyter-widgets/base",
            "_view_module_version": "1.2.0",
            "_view_name": "LayoutView",
            "align_content": null,
            "align_items": null,
            "align_self": null,
            "border": null,
            "bottom": null,
            "display": null,
            "flex": null,
            "flex_flow": null,
            "grid_area": null,
            "grid_auto_columns": null,
            "grid_auto_flow": null,
            "grid_auto_rows": null,
            "grid_column": null,
            "grid_gap": null,
            "grid_row": null,
            "grid_template_areas": null,
            "grid_template_columns": null,
            "grid_template_rows": null,
            "height": null,
            "justify_content": null,
            "justify_items": null,
            "left": null,
            "margin": null,
            "max_height": null,
            "max_width": null,
            "min_height": null,
            "min_width": null,
            "object_fit": null,
            "object_position": null,
            "order": null,
            "overflow": null,
            "overflow_x": null,
            "overflow_y": null,
            "padding": null,
            "right": null,
            "top": null,
            "visibility": null,
            "width": null
          }
        },
        "3be3bb2d13a341078e3eaa0d3a173b5a": {
          "model_module": "@jupyter-widgets/controls",
          "model_name": "ProgressStyleModel",
          "model_module_version": "1.5.0",
          "state": {
            "_model_module": "@jupyter-widgets/controls",
            "_model_module_version": "1.5.0",
            "_model_name": "ProgressStyleModel",
            "_view_count": null,
            "_view_module": "@jupyter-widgets/base",
            "_view_module_version": "1.2.0",
            "_view_name": "StyleView",
            "bar_color": null,
            "description_width": ""
          }
        },
        "0d7a6cbba1bb420bb409f8963ee3c58b": {
          "model_module": "@jupyter-widgets/base",
          "model_name": "LayoutModel",
          "model_module_version": "1.2.0",
          "state": {
            "_model_module": "@jupyter-widgets/base",
            "_model_module_version": "1.2.0",
            "_model_name": "LayoutModel",
            "_view_count": null,
            "_view_module": "@jupyter-widgets/base",
            "_view_module_version": "1.2.0",
            "_view_name": "LayoutView",
            "align_content": null,
            "align_items": null,
            "align_self": null,
            "border": null,
            "bottom": null,
            "display": null,
            "flex": null,
            "flex_flow": null,
            "grid_area": null,
            "grid_auto_columns": null,
            "grid_auto_flow": null,
            "grid_auto_rows": null,
            "grid_column": null,
            "grid_gap": null,
            "grid_row": null,
            "grid_template_areas": null,
            "grid_template_columns": null,
            "grid_template_rows": null,
            "height": null,
            "justify_content": null,
            "justify_items": null,
            "left": null,
            "margin": null,
            "max_height": null,
            "max_width": null,
            "min_height": null,
            "min_width": null,
            "object_fit": null,
            "object_position": null,
            "order": null,
            "overflow": null,
            "overflow_x": null,
            "overflow_y": null,
            "padding": null,
            "right": null,
            "top": null,
            "visibility": null,
            "width": null
          }
        },
        "a0eda08954a14b4eacfc3dbebf1cc347": {
          "model_module": "@jupyter-widgets/controls",
          "model_name": "DescriptionStyleModel",
          "model_module_version": "1.5.0",
          "state": {
            "_model_module": "@jupyter-widgets/controls",
            "_model_module_version": "1.5.0",
            "_model_name": "DescriptionStyleModel",
            "_view_count": null,
            "_view_module": "@jupyter-widgets/base",
            "_view_module_version": "1.2.0",
            "_view_name": "StyleView",
            "description_width": ""
          }
        },
        "79e2078eeff9467e9708eaa547631aa9": {
          "model_module": "@jupyter-widgets/controls",
          "model_name": "HBoxModel",
          "model_module_version": "1.5.0",
          "state": {
            "_dom_classes": [],
            "_model_module": "@jupyter-widgets/controls",
            "_model_module_version": "1.5.0",
            "_model_name": "HBoxModel",
            "_view_count": null,
            "_view_module": "@jupyter-widgets/controls",
            "_view_module_version": "1.5.0",
            "_view_name": "HBoxView",
            "box_style": "",
            "children": [
              "IPY_MODEL_85c4edb2988049079c7664a568e91a74",
              "IPY_MODEL_827a9372f56d4388aa0d73922e341f16",
              "IPY_MODEL_830da61ec72c457c90d223be4655f350"
            ],
            "layout": "IPY_MODEL_c295456a0d074e3e95fb773b4c10be00"
          }
        },
        "85c4edb2988049079c7664a568e91a74": {
          "model_module": "@jupyter-widgets/controls",
          "model_name": "HTMLModel",
          "model_module_version": "1.5.0",
          "state": {
            "_dom_classes": [],
            "_model_module": "@jupyter-widgets/controls",
            "_model_module_version": "1.5.0",
            "_model_name": "HTMLModel",
            "_view_count": null,
            "_view_module": "@jupyter-widgets/controls",
            "_view_module_version": "1.5.0",
            "_view_name": "HTMLView",
            "description": "",
            "description_tooltip": null,
            "layout": "IPY_MODEL_5333aed9cdf84c05a8d63d5cb24e00e2",
            "placeholder": "​",
            "style": "IPY_MODEL_cae53a6c681f404a810d32061be66bf3",
            "value": "vocab.txt: 100%"
          }
        },
        "827a9372f56d4388aa0d73922e341f16": {
          "model_module": "@jupyter-widgets/controls",
          "model_name": "FloatProgressModel",
          "model_module_version": "1.5.0",
          "state": {
            "_dom_classes": [],
            "_model_module": "@jupyter-widgets/controls",
            "_model_module_version": "1.5.0",
            "_model_name": "FloatProgressModel",
            "_view_count": null,
            "_view_module": "@jupyter-widgets/controls",
            "_view_module_version": "1.5.0",
            "_view_name": "ProgressView",
            "bar_style": "success",
            "description": "",
            "description_tooltip": null,
            "layout": "IPY_MODEL_d7e129bc486345c8ae8591af27c87af3",
            "max": 213450,
            "min": 0,
            "orientation": "horizontal",
            "style": "IPY_MODEL_548043b07b5b4eec9fa7c8456634a7aa",
            "value": 213450
          }
        },
        "830da61ec72c457c90d223be4655f350": {
          "model_module": "@jupyter-widgets/controls",
          "model_name": "HTMLModel",
          "model_module_version": "1.5.0",
          "state": {
            "_dom_classes": [],
            "_model_module": "@jupyter-widgets/controls",
            "_model_module_version": "1.5.0",
            "_model_name": "HTMLModel",
            "_view_count": null,
            "_view_module": "@jupyter-widgets/controls",
            "_view_module_version": "1.5.0",
            "_view_name": "HTMLView",
            "description": "",
            "description_tooltip": null,
            "layout": "IPY_MODEL_6422b967978448c1a5ecee2722ec84c2",
            "placeholder": "​",
            "style": "IPY_MODEL_f58b21250dc849b1b99cba0b31952167",
            "value": " 213k/213k [00:00&lt;00:00, 2.02MB/s]"
          }
        },
        "c295456a0d074e3e95fb773b4c10be00": {
          "model_module": "@jupyter-widgets/base",
          "model_name": "LayoutModel",
          "model_module_version": "1.2.0",
          "state": {
            "_model_module": "@jupyter-widgets/base",
            "_model_module_version": "1.2.0",
            "_model_name": "LayoutModel",
            "_view_count": null,
            "_view_module": "@jupyter-widgets/base",
            "_view_module_version": "1.2.0",
            "_view_name": "LayoutView",
            "align_content": null,
            "align_items": null,
            "align_self": null,
            "border": null,
            "bottom": null,
            "display": null,
            "flex": null,
            "flex_flow": null,
            "grid_area": null,
            "grid_auto_columns": null,
            "grid_auto_flow": null,
            "grid_auto_rows": null,
            "grid_column": null,
            "grid_gap": null,
            "grid_row": null,
            "grid_template_areas": null,
            "grid_template_columns": null,
            "grid_template_rows": null,
            "height": null,
            "justify_content": null,
            "justify_items": null,
            "left": null,
            "margin": null,
            "max_height": null,
            "max_width": null,
            "min_height": null,
            "min_width": null,
            "object_fit": null,
            "object_position": null,
            "order": null,
            "overflow": null,
            "overflow_x": null,
            "overflow_y": null,
            "padding": null,
            "right": null,
            "top": null,
            "visibility": null,
            "width": null
          }
        },
        "5333aed9cdf84c05a8d63d5cb24e00e2": {
          "model_module": "@jupyter-widgets/base",
          "model_name": "LayoutModel",
          "model_module_version": "1.2.0",
          "state": {
            "_model_module": "@jupyter-widgets/base",
            "_model_module_version": "1.2.0",
            "_model_name": "LayoutModel",
            "_view_count": null,
            "_view_module": "@jupyter-widgets/base",
            "_view_module_version": "1.2.0",
            "_view_name": "LayoutView",
            "align_content": null,
            "align_items": null,
            "align_self": null,
            "border": null,
            "bottom": null,
            "display": null,
            "flex": null,
            "flex_flow": null,
            "grid_area": null,
            "grid_auto_columns": null,
            "grid_auto_flow": null,
            "grid_auto_rows": null,
            "grid_column": null,
            "grid_gap": null,
            "grid_row": null,
            "grid_template_areas": null,
            "grid_template_columns": null,
            "grid_template_rows": null,
            "height": null,
            "justify_content": null,
            "justify_items": null,
            "left": null,
            "margin": null,
            "max_height": null,
            "max_width": null,
            "min_height": null,
            "min_width": null,
            "object_fit": null,
            "object_position": null,
            "order": null,
            "overflow": null,
            "overflow_x": null,
            "overflow_y": null,
            "padding": null,
            "right": null,
            "top": null,
            "visibility": null,
            "width": null
          }
        },
        "cae53a6c681f404a810d32061be66bf3": {
          "model_module": "@jupyter-widgets/controls",
          "model_name": "DescriptionStyleModel",
          "model_module_version": "1.5.0",
          "state": {
            "_model_module": "@jupyter-widgets/controls",
            "_model_module_version": "1.5.0",
            "_model_name": "DescriptionStyleModel",
            "_view_count": null,
            "_view_module": "@jupyter-widgets/base",
            "_view_module_version": "1.2.0",
            "_view_name": "StyleView",
            "description_width": ""
          }
        },
        "d7e129bc486345c8ae8591af27c87af3": {
          "model_module": "@jupyter-widgets/base",
          "model_name": "LayoutModel",
          "model_module_version": "1.2.0",
          "state": {
            "_model_module": "@jupyter-widgets/base",
            "_model_module_version": "1.2.0",
            "_model_name": "LayoutModel",
            "_view_count": null,
            "_view_module": "@jupyter-widgets/base",
            "_view_module_version": "1.2.0",
            "_view_name": "LayoutView",
            "align_content": null,
            "align_items": null,
            "align_self": null,
            "border": null,
            "bottom": null,
            "display": null,
            "flex": null,
            "flex_flow": null,
            "grid_area": null,
            "grid_auto_columns": null,
            "grid_auto_flow": null,
            "grid_auto_rows": null,
            "grid_column": null,
            "grid_gap": null,
            "grid_row": null,
            "grid_template_areas": null,
            "grid_template_columns": null,
            "grid_template_rows": null,
            "height": null,
            "justify_content": null,
            "justify_items": null,
            "left": null,
            "margin": null,
            "max_height": null,
            "max_width": null,
            "min_height": null,
            "min_width": null,
            "object_fit": null,
            "object_position": null,
            "order": null,
            "overflow": null,
            "overflow_x": null,
            "overflow_y": null,
            "padding": null,
            "right": null,
            "top": null,
            "visibility": null,
            "width": null
          }
        },
        "548043b07b5b4eec9fa7c8456634a7aa": {
          "model_module": "@jupyter-widgets/controls",
          "model_name": "ProgressStyleModel",
          "model_module_version": "1.5.0",
          "state": {
            "_model_module": "@jupyter-widgets/controls",
            "_model_module_version": "1.5.0",
            "_model_name": "ProgressStyleModel",
            "_view_count": null,
            "_view_module": "@jupyter-widgets/base",
            "_view_module_version": "1.2.0",
            "_view_name": "StyleView",
            "bar_color": null,
            "description_width": ""
          }
        },
        "6422b967978448c1a5ecee2722ec84c2": {
          "model_module": "@jupyter-widgets/base",
          "model_name": "LayoutModel",
          "model_module_version": "1.2.0",
          "state": {
            "_model_module": "@jupyter-widgets/base",
            "_model_module_version": "1.2.0",
            "_model_name": "LayoutModel",
            "_view_count": null,
            "_view_module": "@jupyter-widgets/base",
            "_view_module_version": "1.2.0",
            "_view_name": "LayoutView",
            "align_content": null,
            "align_items": null,
            "align_self": null,
            "border": null,
            "bottom": null,
            "display": null,
            "flex": null,
            "flex_flow": null,
            "grid_area": null,
            "grid_auto_columns": null,
            "grid_auto_flow": null,
            "grid_auto_rows": null,
            "grid_column": null,
            "grid_gap": null,
            "grid_row": null,
            "grid_template_areas": null,
            "grid_template_columns": null,
            "grid_template_rows": null,
            "height": null,
            "justify_content": null,
            "justify_items": null,
            "left": null,
            "margin": null,
            "max_height": null,
            "max_width": null,
            "min_height": null,
            "min_width": null,
            "object_fit": null,
            "object_position": null,
            "order": null,
            "overflow": null,
            "overflow_x": null,
            "overflow_y": null,
            "padding": null,
            "right": null,
            "top": null,
            "visibility": null,
            "width": null
          }
        },
        "f58b21250dc849b1b99cba0b31952167": {
          "model_module": "@jupyter-widgets/controls",
          "model_name": "DescriptionStyleModel",
          "model_module_version": "1.5.0",
          "state": {
            "_model_module": "@jupyter-widgets/controls",
            "_model_module_version": "1.5.0",
            "_model_name": "DescriptionStyleModel",
            "_view_count": null,
            "_view_module": "@jupyter-widgets/base",
            "_view_module_version": "1.2.0",
            "_view_name": "StyleView",
            "description_width": ""
          }
        },
        "326d40324f4a47b48ae9c7f67a068db3": {
          "model_module": "@jupyter-widgets/controls",
          "model_name": "HBoxModel",
          "model_module_version": "1.5.0",
          "state": {
            "_dom_classes": [],
            "_model_module": "@jupyter-widgets/controls",
            "_model_module_version": "1.5.0",
            "_model_name": "HBoxModel",
            "_view_count": null,
            "_view_module": "@jupyter-widgets/controls",
            "_view_module_version": "1.5.0",
            "_view_name": "HBoxView",
            "box_style": "",
            "children": [
              "IPY_MODEL_7a290f8e121d4e25b8f3755b29c174ba",
              "IPY_MODEL_cb600561d22a4481bc9c8c909de3cea6",
              "IPY_MODEL_f64df031d2c94b32be07f18e4be27322"
            ],
            "layout": "IPY_MODEL_d0086a37769340c88910442c8e64b567"
          }
        },
        "7a290f8e121d4e25b8f3755b29c174ba": {
          "model_module": "@jupyter-widgets/controls",
          "model_name": "HTMLModel",
          "model_module_version": "1.5.0",
          "state": {
            "_dom_classes": [],
            "_model_module": "@jupyter-widgets/controls",
            "_model_module_version": "1.5.0",
            "_model_name": "HTMLModel",
            "_view_count": null,
            "_view_module": "@jupyter-widgets/controls",
            "_view_module_version": "1.5.0",
            "_view_name": "HTMLView",
            "description": "",
            "description_tooltip": null,
            "layout": "IPY_MODEL_e53d0464d15e41fcbdf356f5909b98f3",
            "placeholder": "​",
            "style": "IPY_MODEL_7697baf715884a8699c9ad32cf181209",
            "value": "tokenizer.json: 100%"
          }
        },
        "cb600561d22a4481bc9c8c909de3cea6": {
          "model_module": "@jupyter-widgets/controls",
          "model_name": "FloatProgressModel",
          "model_module_version": "1.5.0",
          "state": {
            "_dom_classes": [],
            "_model_module": "@jupyter-widgets/controls",
            "_model_module_version": "1.5.0",
            "_model_name": "FloatProgressModel",
            "_view_count": null,
            "_view_module": "@jupyter-widgets/controls",
            "_view_module_version": "1.5.0",
            "_view_name": "ProgressView",
            "bar_style": "success",
            "description": "",
            "description_tooltip": null,
            "layout": "IPY_MODEL_ad92659b1be1476aa37c5277159f611d",
            "max": 435797,
            "min": 0,
            "orientation": "horizontal",
            "style": "IPY_MODEL_b9497bcd1b2d46a2a142f68fc027d1f4",
            "value": 435797
          }
        },
        "f64df031d2c94b32be07f18e4be27322": {
          "model_module": "@jupyter-widgets/controls",
          "model_name": "HTMLModel",
          "model_module_version": "1.5.0",
          "state": {
            "_dom_classes": [],
            "_model_module": "@jupyter-widgets/controls",
            "_model_module_version": "1.5.0",
            "_model_name": "HTMLModel",
            "_view_count": null,
            "_view_module": "@jupyter-widgets/controls",
            "_view_module_version": "1.5.0",
            "_view_name": "HTMLView",
            "description": "",
            "description_tooltip": null,
            "layout": "IPY_MODEL_5a62227e089742488c320f84335e237d",
            "placeholder": "​",
            "style": "IPY_MODEL_9fb5c69b55934c9b9ffb0694f4f4b327",
            "value": " 436k/436k [00:00&lt;00:00, 7.45MB/s]"
          }
        },
        "d0086a37769340c88910442c8e64b567": {
          "model_module": "@jupyter-widgets/base",
          "model_name": "LayoutModel",
          "model_module_version": "1.2.0",
          "state": {
            "_model_module": "@jupyter-widgets/base",
            "_model_module_version": "1.2.0",
            "_model_name": "LayoutModel",
            "_view_count": null,
            "_view_module": "@jupyter-widgets/base",
            "_view_module_version": "1.2.0",
            "_view_name": "LayoutView",
            "align_content": null,
            "align_items": null,
            "align_self": null,
            "border": null,
            "bottom": null,
            "display": null,
            "flex": null,
            "flex_flow": null,
            "grid_area": null,
            "grid_auto_columns": null,
            "grid_auto_flow": null,
            "grid_auto_rows": null,
            "grid_column": null,
            "grid_gap": null,
            "grid_row": null,
            "grid_template_areas": null,
            "grid_template_columns": null,
            "grid_template_rows": null,
            "height": null,
            "justify_content": null,
            "justify_items": null,
            "left": null,
            "margin": null,
            "max_height": null,
            "max_width": null,
            "min_height": null,
            "min_width": null,
            "object_fit": null,
            "object_position": null,
            "order": null,
            "overflow": null,
            "overflow_x": null,
            "overflow_y": null,
            "padding": null,
            "right": null,
            "top": null,
            "visibility": null,
            "width": null
          }
        },
        "e53d0464d15e41fcbdf356f5909b98f3": {
          "model_module": "@jupyter-widgets/base",
          "model_name": "LayoutModel",
          "model_module_version": "1.2.0",
          "state": {
            "_model_module": "@jupyter-widgets/base",
            "_model_module_version": "1.2.0",
            "_model_name": "LayoutModel",
            "_view_count": null,
            "_view_module": "@jupyter-widgets/base",
            "_view_module_version": "1.2.0",
            "_view_name": "LayoutView",
            "align_content": null,
            "align_items": null,
            "align_self": null,
            "border": null,
            "bottom": null,
            "display": null,
            "flex": null,
            "flex_flow": null,
            "grid_area": null,
            "grid_auto_columns": null,
            "grid_auto_flow": null,
            "grid_auto_rows": null,
            "grid_column": null,
            "grid_gap": null,
            "grid_row": null,
            "grid_template_areas": null,
            "grid_template_columns": null,
            "grid_template_rows": null,
            "height": null,
            "justify_content": null,
            "justify_items": null,
            "left": null,
            "margin": null,
            "max_height": null,
            "max_width": null,
            "min_height": null,
            "min_width": null,
            "object_fit": null,
            "object_position": null,
            "order": null,
            "overflow": null,
            "overflow_x": null,
            "overflow_y": null,
            "padding": null,
            "right": null,
            "top": null,
            "visibility": null,
            "width": null
          }
        },
        "7697baf715884a8699c9ad32cf181209": {
          "model_module": "@jupyter-widgets/controls",
          "model_name": "DescriptionStyleModel",
          "model_module_version": "1.5.0",
          "state": {
            "_model_module": "@jupyter-widgets/controls",
            "_model_module_version": "1.5.0",
            "_model_name": "DescriptionStyleModel",
            "_view_count": null,
            "_view_module": "@jupyter-widgets/base",
            "_view_module_version": "1.2.0",
            "_view_name": "StyleView",
            "description_width": ""
          }
        },
        "ad92659b1be1476aa37c5277159f611d": {
          "model_module": "@jupyter-widgets/base",
          "model_name": "LayoutModel",
          "model_module_version": "1.2.0",
          "state": {
            "_model_module": "@jupyter-widgets/base",
            "_model_module_version": "1.2.0",
            "_model_name": "LayoutModel",
            "_view_count": null,
            "_view_module": "@jupyter-widgets/base",
            "_view_module_version": "1.2.0",
            "_view_name": "LayoutView",
            "align_content": null,
            "align_items": null,
            "align_self": null,
            "border": null,
            "bottom": null,
            "display": null,
            "flex": null,
            "flex_flow": null,
            "grid_area": null,
            "grid_auto_columns": null,
            "grid_auto_flow": null,
            "grid_auto_rows": null,
            "grid_column": null,
            "grid_gap": null,
            "grid_row": null,
            "grid_template_areas": null,
            "grid_template_columns": null,
            "grid_template_rows": null,
            "height": null,
            "justify_content": null,
            "justify_items": null,
            "left": null,
            "margin": null,
            "max_height": null,
            "max_width": null,
            "min_height": null,
            "min_width": null,
            "object_fit": null,
            "object_position": null,
            "order": null,
            "overflow": null,
            "overflow_x": null,
            "overflow_y": null,
            "padding": null,
            "right": null,
            "top": null,
            "visibility": null,
            "width": null
          }
        },
        "b9497bcd1b2d46a2a142f68fc027d1f4": {
          "model_module": "@jupyter-widgets/controls",
          "model_name": "ProgressStyleModel",
          "model_module_version": "1.5.0",
          "state": {
            "_model_module": "@jupyter-widgets/controls",
            "_model_module_version": "1.5.0",
            "_model_name": "ProgressStyleModel",
            "_view_count": null,
            "_view_module": "@jupyter-widgets/base",
            "_view_module_version": "1.2.0",
            "_view_name": "StyleView",
            "bar_color": null,
            "description_width": ""
          }
        },
        "5a62227e089742488c320f84335e237d": {
          "model_module": "@jupyter-widgets/base",
          "model_name": "LayoutModel",
          "model_module_version": "1.2.0",
          "state": {
            "_model_module": "@jupyter-widgets/base",
            "_model_module_version": "1.2.0",
            "_model_name": "LayoutModel",
            "_view_count": null,
            "_view_module": "@jupyter-widgets/base",
            "_view_module_version": "1.2.0",
            "_view_name": "LayoutView",
            "align_content": null,
            "align_items": null,
            "align_self": null,
            "border": null,
            "bottom": null,
            "display": null,
            "flex": null,
            "flex_flow": null,
            "grid_area": null,
            "grid_auto_columns": null,
            "grid_auto_flow": null,
            "grid_auto_rows": null,
            "grid_column": null,
            "grid_gap": null,
            "grid_row": null,
            "grid_template_areas": null,
            "grid_template_columns": null,
            "grid_template_rows": null,
            "height": null,
            "justify_content": null,
            "justify_items": null,
            "left": null,
            "margin": null,
            "max_height": null,
            "max_width": null,
            "min_height": null,
            "min_width": null,
            "object_fit": null,
            "object_position": null,
            "order": null,
            "overflow": null,
            "overflow_x": null,
            "overflow_y": null,
            "padding": null,
            "right": null,
            "top": null,
            "visibility": null,
            "width": null
          }
        },
        "9fb5c69b55934c9b9ffb0694f4f4b327": {
          "model_module": "@jupyter-widgets/controls",
          "model_name": "DescriptionStyleModel",
          "model_module_version": "1.5.0",
          "state": {
            "_model_module": "@jupyter-widgets/controls",
            "_model_module_version": "1.5.0",
            "_model_name": "DescriptionStyleModel",
            "_view_count": null,
            "_view_module": "@jupyter-widgets/base",
            "_view_module_version": "1.2.0",
            "_view_name": "StyleView",
            "description_width": ""
          }
        },
        "75397ac2b79c4c95b24b241cbaee511f": {
          "model_module": "@jupyter-widgets/controls",
          "model_name": "HBoxModel",
          "model_module_version": "1.5.0",
          "state": {
            "_dom_classes": [],
            "_model_module": "@jupyter-widgets/controls",
            "_model_module_version": "1.5.0",
            "_model_name": "HBoxModel",
            "_view_count": null,
            "_view_module": "@jupyter-widgets/controls",
            "_view_module_version": "1.5.0",
            "_view_name": "HBoxView",
            "box_style": "",
            "children": [
              "IPY_MODEL_315c9d51df904ce689c74b015b192f62",
              "IPY_MODEL_f061ddbf74fc4957a1a5cfcfc9020d52",
              "IPY_MODEL_e7c64f4d7c1c406dabacac0ad2f5740c"
            ],
            "layout": "IPY_MODEL_740c4b78f0f14a439a28f3978d9704b0"
          }
        },
        "315c9d51df904ce689c74b015b192f62": {
          "model_module": "@jupyter-widgets/controls",
          "model_name": "HTMLModel",
          "model_module_version": "1.5.0",
          "state": {
            "_dom_classes": [],
            "_model_module": "@jupyter-widgets/controls",
            "_model_module_version": "1.5.0",
            "_model_name": "HTMLModel",
            "_view_count": null,
            "_view_module": "@jupyter-widgets/controls",
            "_view_module_version": "1.5.0",
            "_view_name": "HTMLView",
            "description": "",
            "description_tooltip": null,
            "layout": "IPY_MODEL_4664461faf96466ba5e7759f529b17b5",
            "placeholder": "​",
            "style": "IPY_MODEL_ec631d26f2b2439293daba8e349a7b8c",
            "value": "tokenizer_config.json: 100%"
          }
        },
        "f061ddbf74fc4957a1a5cfcfc9020d52": {
          "model_module": "@jupyter-widgets/controls",
          "model_name": "FloatProgressModel",
          "model_module_version": "1.5.0",
          "state": {
            "_dom_classes": [],
            "_model_module": "@jupyter-widgets/controls",
            "_model_module_version": "1.5.0",
            "_model_name": "FloatProgressModel",
            "_view_count": null,
            "_view_module": "@jupyter-widgets/controls",
            "_view_module_version": "1.5.0",
            "_view_name": "ProgressView",
            "bar_style": "success",
            "description": "",
            "description_tooltip": null,
            "layout": "IPY_MODEL_2c0cadfa58a24cc3a30997846e82fcb3",
            "max": 48,
            "min": 0,
            "orientation": "horizontal",
            "style": "IPY_MODEL_009d0a553a5f466f9ef10a61c13bba10",
            "value": 48
          }
        },
        "e7c64f4d7c1c406dabacac0ad2f5740c": {
          "model_module": "@jupyter-widgets/controls",
          "model_name": "HTMLModel",
          "model_module_version": "1.5.0",
          "state": {
            "_dom_classes": [],
            "_model_module": "@jupyter-widgets/controls",
            "_model_module_version": "1.5.0",
            "_model_name": "HTMLModel",
            "_view_count": null,
            "_view_module": "@jupyter-widgets/controls",
            "_view_module_version": "1.5.0",
            "_view_name": "HTMLView",
            "description": "",
            "description_tooltip": null,
            "layout": "IPY_MODEL_b2162afdc60d457390c2fe1f4cf4da16",
            "placeholder": "​",
            "style": "IPY_MODEL_711a05eea326449d90264d8cc7ef865c",
            "value": " 48.0/48.0 [00:00&lt;00:00, 734B/s]"
          }
        },
        "740c4b78f0f14a439a28f3978d9704b0": {
          "model_module": "@jupyter-widgets/base",
          "model_name": "LayoutModel",
          "model_module_version": "1.2.0",
          "state": {
            "_model_module": "@jupyter-widgets/base",
            "_model_module_version": "1.2.0",
            "_model_name": "LayoutModel",
            "_view_count": null,
            "_view_module": "@jupyter-widgets/base",
            "_view_module_version": "1.2.0",
            "_view_name": "LayoutView",
            "align_content": null,
            "align_items": null,
            "align_self": null,
            "border": null,
            "bottom": null,
            "display": null,
            "flex": null,
            "flex_flow": null,
            "grid_area": null,
            "grid_auto_columns": null,
            "grid_auto_flow": null,
            "grid_auto_rows": null,
            "grid_column": null,
            "grid_gap": null,
            "grid_row": null,
            "grid_template_areas": null,
            "grid_template_columns": null,
            "grid_template_rows": null,
            "height": null,
            "justify_content": null,
            "justify_items": null,
            "left": null,
            "margin": null,
            "max_height": null,
            "max_width": null,
            "min_height": null,
            "min_width": null,
            "object_fit": null,
            "object_position": null,
            "order": null,
            "overflow": null,
            "overflow_x": null,
            "overflow_y": null,
            "padding": null,
            "right": null,
            "top": null,
            "visibility": null,
            "width": null
          }
        },
        "4664461faf96466ba5e7759f529b17b5": {
          "model_module": "@jupyter-widgets/base",
          "model_name": "LayoutModel",
          "model_module_version": "1.2.0",
          "state": {
            "_model_module": "@jupyter-widgets/base",
            "_model_module_version": "1.2.0",
            "_model_name": "LayoutModel",
            "_view_count": null,
            "_view_module": "@jupyter-widgets/base",
            "_view_module_version": "1.2.0",
            "_view_name": "LayoutView",
            "align_content": null,
            "align_items": null,
            "align_self": null,
            "border": null,
            "bottom": null,
            "display": null,
            "flex": null,
            "flex_flow": null,
            "grid_area": null,
            "grid_auto_columns": null,
            "grid_auto_flow": null,
            "grid_auto_rows": null,
            "grid_column": null,
            "grid_gap": null,
            "grid_row": null,
            "grid_template_areas": null,
            "grid_template_columns": null,
            "grid_template_rows": null,
            "height": null,
            "justify_content": null,
            "justify_items": null,
            "left": null,
            "margin": null,
            "max_height": null,
            "max_width": null,
            "min_height": null,
            "min_width": null,
            "object_fit": null,
            "object_position": null,
            "order": null,
            "overflow": null,
            "overflow_x": null,
            "overflow_y": null,
            "padding": null,
            "right": null,
            "top": null,
            "visibility": null,
            "width": null
          }
        },
        "ec631d26f2b2439293daba8e349a7b8c": {
          "model_module": "@jupyter-widgets/controls",
          "model_name": "DescriptionStyleModel",
          "model_module_version": "1.5.0",
          "state": {
            "_model_module": "@jupyter-widgets/controls",
            "_model_module_version": "1.5.0",
            "_model_name": "DescriptionStyleModel",
            "_view_count": null,
            "_view_module": "@jupyter-widgets/base",
            "_view_module_version": "1.2.0",
            "_view_name": "StyleView",
            "description_width": ""
          }
        },
        "2c0cadfa58a24cc3a30997846e82fcb3": {
          "model_module": "@jupyter-widgets/base",
          "model_name": "LayoutModel",
          "model_module_version": "1.2.0",
          "state": {
            "_model_module": "@jupyter-widgets/base",
            "_model_module_version": "1.2.0",
            "_model_name": "LayoutModel",
            "_view_count": null,
            "_view_module": "@jupyter-widgets/base",
            "_view_module_version": "1.2.0",
            "_view_name": "LayoutView",
            "align_content": null,
            "align_items": null,
            "align_self": null,
            "border": null,
            "bottom": null,
            "display": null,
            "flex": null,
            "flex_flow": null,
            "grid_area": null,
            "grid_auto_columns": null,
            "grid_auto_flow": null,
            "grid_auto_rows": null,
            "grid_column": null,
            "grid_gap": null,
            "grid_row": null,
            "grid_template_areas": null,
            "grid_template_columns": null,
            "grid_template_rows": null,
            "height": null,
            "justify_content": null,
            "justify_items": null,
            "left": null,
            "margin": null,
            "max_height": null,
            "max_width": null,
            "min_height": null,
            "min_width": null,
            "object_fit": null,
            "object_position": null,
            "order": null,
            "overflow": null,
            "overflow_x": null,
            "overflow_y": null,
            "padding": null,
            "right": null,
            "top": null,
            "visibility": null,
            "width": null
          }
        },
        "009d0a553a5f466f9ef10a61c13bba10": {
          "model_module": "@jupyter-widgets/controls",
          "model_name": "ProgressStyleModel",
          "model_module_version": "1.5.0",
          "state": {
            "_model_module": "@jupyter-widgets/controls",
            "_model_module_version": "1.5.0",
            "_model_name": "ProgressStyleModel",
            "_view_count": null,
            "_view_module": "@jupyter-widgets/base",
            "_view_module_version": "1.2.0",
            "_view_name": "StyleView",
            "bar_color": null,
            "description_width": ""
          }
        },
        "b2162afdc60d457390c2fe1f4cf4da16": {
          "model_module": "@jupyter-widgets/base",
          "model_name": "LayoutModel",
          "model_module_version": "1.2.0",
          "state": {
            "_model_module": "@jupyter-widgets/base",
            "_model_module_version": "1.2.0",
            "_model_name": "LayoutModel",
            "_view_count": null,
            "_view_module": "@jupyter-widgets/base",
            "_view_module_version": "1.2.0",
            "_view_name": "LayoutView",
            "align_content": null,
            "align_items": null,
            "align_self": null,
            "border": null,
            "bottom": null,
            "display": null,
            "flex": null,
            "flex_flow": null,
            "grid_area": null,
            "grid_auto_columns": null,
            "grid_auto_flow": null,
            "grid_auto_rows": null,
            "grid_column": null,
            "grid_gap": null,
            "grid_row": null,
            "grid_template_areas": null,
            "grid_template_columns": null,
            "grid_template_rows": null,
            "height": null,
            "justify_content": null,
            "justify_items": null,
            "left": null,
            "margin": null,
            "max_height": null,
            "max_width": null,
            "min_height": null,
            "min_width": null,
            "object_fit": null,
            "object_position": null,
            "order": null,
            "overflow": null,
            "overflow_x": null,
            "overflow_y": null,
            "padding": null,
            "right": null,
            "top": null,
            "visibility": null,
            "width": null
          }
        },
        "711a05eea326449d90264d8cc7ef865c": {
          "model_module": "@jupyter-widgets/controls",
          "model_name": "DescriptionStyleModel",
          "model_module_version": "1.5.0",
          "state": {
            "_model_module": "@jupyter-widgets/controls",
            "_model_module_version": "1.5.0",
            "_model_name": "DescriptionStyleModel",
            "_view_count": null,
            "_view_module": "@jupyter-widgets/base",
            "_view_module_version": "1.2.0",
            "_view_name": "StyleView",
            "description_width": ""
          }
        },
        "c688c19ec60b469492b3e4688d63b3a5": {
          "model_module": "@jupyter-widgets/controls",
          "model_name": "HBoxModel",
          "model_module_version": "1.5.0",
          "state": {
            "_dom_classes": [],
            "_model_module": "@jupyter-widgets/controls",
            "_model_module_version": "1.5.0",
            "_model_name": "HBoxModel",
            "_view_count": null,
            "_view_module": "@jupyter-widgets/controls",
            "_view_module_version": "1.5.0",
            "_view_name": "HBoxView",
            "box_style": "",
            "children": [
              "IPY_MODEL_c69a96d085c846e8a36f958897b25ee1",
              "IPY_MODEL_243342c2e4624caaa84ee6fb7a76db5f",
              "IPY_MODEL_e5cc86a0bd634753b4d3a9aa4d4cb10d"
            ],
            "layout": "IPY_MODEL_9551083b8eff4f269a0fbda1c2653999"
          }
        },
        "c69a96d085c846e8a36f958897b25ee1": {
          "model_module": "@jupyter-widgets/controls",
          "model_name": "HTMLModel",
          "model_module_version": "1.5.0",
          "state": {
            "_dom_classes": [],
            "_model_module": "@jupyter-widgets/controls",
            "_model_module_version": "1.5.0",
            "_model_name": "HTMLModel",
            "_view_count": null,
            "_view_module": "@jupyter-widgets/controls",
            "_view_module_version": "1.5.0",
            "_view_name": "HTMLView",
            "description": "",
            "description_tooltip": null,
            "layout": "IPY_MODEL_f986047efc944688a99a954dff28464f",
            "placeholder": "​",
            "style": "IPY_MODEL_f33cef89b426434d95eaaefa29a381cb",
            "value": "config.json: 100%"
          }
        },
        "243342c2e4624caaa84ee6fb7a76db5f": {
          "model_module": "@jupyter-widgets/controls",
          "model_name": "FloatProgressModel",
          "model_module_version": "1.5.0",
          "state": {
            "_dom_classes": [],
            "_model_module": "@jupyter-widgets/controls",
            "_model_module_version": "1.5.0",
            "_model_name": "FloatProgressModel",
            "_view_count": null,
            "_view_module": "@jupyter-widgets/controls",
            "_view_module_version": "1.5.0",
            "_view_name": "ProgressView",
            "bar_style": "success",
            "description": "",
            "description_tooltip": null,
            "layout": "IPY_MODEL_65319c36ad5340da8fad743e1523dae0",
            "max": 570,
            "min": 0,
            "orientation": "horizontal",
            "style": "IPY_MODEL_0a229fb847514bd0b8b64f2ad6f7c283",
            "value": 570
          }
        },
        "e5cc86a0bd634753b4d3a9aa4d4cb10d": {
          "model_module": "@jupyter-widgets/controls",
          "model_name": "HTMLModel",
          "model_module_version": "1.5.0",
          "state": {
            "_dom_classes": [],
            "_model_module": "@jupyter-widgets/controls",
            "_model_module_version": "1.5.0",
            "_model_name": "HTMLModel",
            "_view_count": null,
            "_view_module": "@jupyter-widgets/controls",
            "_view_module_version": "1.5.0",
            "_view_name": "HTMLView",
            "description": "",
            "description_tooltip": null,
            "layout": "IPY_MODEL_58947ebb62e74c1d9b715428cc12556a",
            "placeholder": "​",
            "style": "IPY_MODEL_03fdae0778d54f7289661ebb3e6e9d51",
            "value": " 570/570 [00:00&lt;00:00, 11.6kB/s]"
          }
        },
        "9551083b8eff4f269a0fbda1c2653999": {
          "model_module": "@jupyter-widgets/base",
          "model_name": "LayoutModel",
          "model_module_version": "1.2.0",
          "state": {
            "_model_module": "@jupyter-widgets/base",
            "_model_module_version": "1.2.0",
            "_model_name": "LayoutModel",
            "_view_count": null,
            "_view_module": "@jupyter-widgets/base",
            "_view_module_version": "1.2.0",
            "_view_name": "LayoutView",
            "align_content": null,
            "align_items": null,
            "align_self": null,
            "border": null,
            "bottom": null,
            "display": null,
            "flex": null,
            "flex_flow": null,
            "grid_area": null,
            "grid_auto_columns": null,
            "grid_auto_flow": null,
            "grid_auto_rows": null,
            "grid_column": null,
            "grid_gap": null,
            "grid_row": null,
            "grid_template_areas": null,
            "grid_template_columns": null,
            "grid_template_rows": null,
            "height": null,
            "justify_content": null,
            "justify_items": null,
            "left": null,
            "margin": null,
            "max_height": null,
            "max_width": null,
            "min_height": null,
            "min_width": null,
            "object_fit": null,
            "object_position": null,
            "order": null,
            "overflow": null,
            "overflow_x": null,
            "overflow_y": null,
            "padding": null,
            "right": null,
            "top": null,
            "visibility": null,
            "width": null
          }
        },
        "f986047efc944688a99a954dff28464f": {
          "model_module": "@jupyter-widgets/base",
          "model_name": "LayoutModel",
          "model_module_version": "1.2.0",
          "state": {
            "_model_module": "@jupyter-widgets/base",
            "_model_module_version": "1.2.0",
            "_model_name": "LayoutModel",
            "_view_count": null,
            "_view_module": "@jupyter-widgets/base",
            "_view_module_version": "1.2.0",
            "_view_name": "LayoutView",
            "align_content": null,
            "align_items": null,
            "align_self": null,
            "border": null,
            "bottom": null,
            "display": null,
            "flex": null,
            "flex_flow": null,
            "grid_area": null,
            "grid_auto_columns": null,
            "grid_auto_flow": null,
            "grid_auto_rows": null,
            "grid_column": null,
            "grid_gap": null,
            "grid_row": null,
            "grid_template_areas": null,
            "grid_template_columns": null,
            "grid_template_rows": null,
            "height": null,
            "justify_content": null,
            "justify_items": null,
            "left": null,
            "margin": null,
            "max_height": null,
            "max_width": null,
            "min_height": null,
            "min_width": null,
            "object_fit": null,
            "object_position": null,
            "order": null,
            "overflow": null,
            "overflow_x": null,
            "overflow_y": null,
            "padding": null,
            "right": null,
            "top": null,
            "visibility": null,
            "width": null
          }
        },
        "f33cef89b426434d95eaaefa29a381cb": {
          "model_module": "@jupyter-widgets/controls",
          "model_name": "DescriptionStyleModel",
          "model_module_version": "1.5.0",
          "state": {
            "_model_module": "@jupyter-widgets/controls",
            "_model_module_version": "1.5.0",
            "_model_name": "DescriptionStyleModel",
            "_view_count": null,
            "_view_module": "@jupyter-widgets/base",
            "_view_module_version": "1.2.0",
            "_view_name": "StyleView",
            "description_width": ""
          }
        },
        "65319c36ad5340da8fad743e1523dae0": {
          "model_module": "@jupyter-widgets/base",
          "model_name": "LayoutModel",
          "model_module_version": "1.2.0",
          "state": {
            "_model_module": "@jupyter-widgets/base",
            "_model_module_version": "1.2.0",
            "_model_name": "LayoutModel",
            "_view_count": null,
            "_view_module": "@jupyter-widgets/base",
            "_view_module_version": "1.2.0",
            "_view_name": "LayoutView",
            "align_content": null,
            "align_items": null,
            "align_self": null,
            "border": null,
            "bottom": null,
            "display": null,
            "flex": null,
            "flex_flow": null,
            "grid_area": null,
            "grid_auto_columns": null,
            "grid_auto_flow": null,
            "grid_auto_rows": null,
            "grid_column": null,
            "grid_gap": null,
            "grid_row": null,
            "grid_template_areas": null,
            "grid_template_columns": null,
            "grid_template_rows": null,
            "height": null,
            "justify_content": null,
            "justify_items": null,
            "left": null,
            "margin": null,
            "max_height": null,
            "max_width": null,
            "min_height": null,
            "min_width": null,
            "object_fit": null,
            "object_position": null,
            "order": null,
            "overflow": null,
            "overflow_x": null,
            "overflow_y": null,
            "padding": null,
            "right": null,
            "top": null,
            "visibility": null,
            "width": null
          }
        },
        "0a229fb847514bd0b8b64f2ad6f7c283": {
          "model_module": "@jupyter-widgets/controls",
          "model_name": "ProgressStyleModel",
          "model_module_version": "1.5.0",
          "state": {
            "_model_module": "@jupyter-widgets/controls",
            "_model_module_version": "1.5.0",
            "_model_name": "ProgressStyleModel",
            "_view_count": null,
            "_view_module": "@jupyter-widgets/base",
            "_view_module_version": "1.2.0",
            "_view_name": "StyleView",
            "bar_color": null,
            "description_width": ""
          }
        },
        "58947ebb62e74c1d9b715428cc12556a": {
          "model_module": "@jupyter-widgets/base",
          "model_name": "LayoutModel",
          "model_module_version": "1.2.0",
          "state": {
            "_model_module": "@jupyter-widgets/base",
            "_model_module_version": "1.2.0",
            "_model_name": "LayoutModel",
            "_view_count": null,
            "_view_module": "@jupyter-widgets/base",
            "_view_module_version": "1.2.0",
            "_view_name": "LayoutView",
            "align_content": null,
            "align_items": null,
            "align_self": null,
            "border": null,
            "bottom": null,
            "display": null,
            "flex": null,
            "flex_flow": null,
            "grid_area": null,
            "grid_auto_columns": null,
            "grid_auto_flow": null,
            "grid_auto_rows": null,
            "grid_column": null,
            "grid_gap": null,
            "grid_row": null,
            "grid_template_areas": null,
            "grid_template_columns": null,
            "grid_template_rows": null,
            "height": null,
            "justify_content": null,
            "justify_items": null,
            "left": null,
            "margin": null,
            "max_height": null,
            "max_width": null,
            "min_height": null,
            "min_width": null,
            "object_fit": null,
            "object_position": null,
            "order": null,
            "overflow": null,
            "overflow_x": null,
            "overflow_y": null,
            "padding": null,
            "right": null,
            "top": null,
            "visibility": null,
            "width": null
          }
        },
        "03fdae0778d54f7289661ebb3e6e9d51": {
          "model_module": "@jupyter-widgets/controls",
          "model_name": "DescriptionStyleModel",
          "model_module_version": "1.5.0",
          "state": {
            "_model_module": "@jupyter-widgets/controls",
            "_model_module_version": "1.5.0",
            "_model_name": "DescriptionStyleModel",
            "_view_count": null,
            "_view_module": "@jupyter-widgets/base",
            "_view_module_version": "1.2.0",
            "_view_name": "StyleView",
            "description_width": ""
          }
        },
        "7c4583968e254a99af70c091400a7172": {
          "model_module": "@jupyter-widgets/controls",
          "model_name": "HBoxModel",
          "model_module_version": "1.5.0",
          "state": {
            "_dom_classes": [],
            "_model_module": "@jupyter-widgets/controls",
            "_model_module_version": "1.5.0",
            "_model_name": "HBoxModel",
            "_view_count": null,
            "_view_module": "@jupyter-widgets/controls",
            "_view_module_version": "1.5.0",
            "_view_name": "HBoxView",
            "box_style": "",
            "children": [
              "IPY_MODEL_a3851cd9b7d041e9acf2c097798b4e0a",
              "IPY_MODEL_351ba6bbc5fc49c6817d55446167f41f",
              "IPY_MODEL_fb74b35be0634306bbadfa508040d659"
            ],
            "layout": "IPY_MODEL_ddc5abc0d0084bb399b8604aed3db4b9"
          }
        },
        "a3851cd9b7d041e9acf2c097798b4e0a": {
          "model_module": "@jupyter-widgets/controls",
          "model_name": "HTMLModel",
          "model_module_version": "1.5.0",
          "state": {
            "_dom_classes": [],
            "_model_module": "@jupyter-widgets/controls",
            "_model_module_version": "1.5.0",
            "_model_name": "HTMLModel",
            "_view_count": null,
            "_view_module": "@jupyter-widgets/controls",
            "_view_module_version": "1.5.0",
            "_view_name": "HTMLView",
            "description": "",
            "description_tooltip": null,
            "layout": "IPY_MODEL_b65de5626def4adeb0c9e02d1250e8d1",
            "placeholder": "​",
            "style": "IPY_MODEL_97c53ec71c5b457c8d13529031b04bec",
            "value": "vocab.txt: 100%"
          }
        },
        "351ba6bbc5fc49c6817d55446167f41f": {
          "model_module": "@jupyter-widgets/controls",
          "model_name": "FloatProgressModel",
          "model_module_version": "1.5.0",
          "state": {
            "_dom_classes": [],
            "_model_module": "@jupyter-widgets/controls",
            "_model_module_version": "1.5.0",
            "_model_name": "FloatProgressModel",
            "_view_count": null,
            "_view_module": "@jupyter-widgets/controls",
            "_view_module_version": "1.5.0",
            "_view_name": "ProgressView",
            "bar_style": "success",
            "description": "",
            "description_tooltip": null,
            "layout": "IPY_MODEL_b62264bbdcea4c6c8185c9ee28fcc15f",
            "max": 231508,
            "min": 0,
            "orientation": "horizontal",
            "style": "IPY_MODEL_75f6deb3629b4ddcb972c2ba7bf871c5",
            "value": 231508
          }
        },
        "fb74b35be0634306bbadfa508040d659": {
          "model_module": "@jupyter-widgets/controls",
          "model_name": "HTMLModel",
          "model_module_version": "1.5.0",
          "state": {
            "_dom_classes": [],
            "_model_module": "@jupyter-widgets/controls",
            "_model_module_version": "1.5.0",
            "_model_name": "HTMLModel",
            "_view_count": null,
            "_view_module": "@jupyter-widgets/controls",
            "_view_module_version": "1.5.0",
            "_view_name": "HTMLView",
            "description": "",
            "description_tooltip": null,
            "layout": "IPY_MODEL_c6096c8437a14204ab90e37c96c49f5f",
            "placeholder": "​",
            "style": "IPY_MODEL_b94730aee19546e380eda99c1ac8d666",
            "value": " 232k/232k [00:00&lt;00:00, 4.56MB/s]"
          }
        },
        "ddc5abc0d0084bb399b8604aed3db4b9": {
          "model_module": "@jupyter-widgets/base",
          "model_name": "LayoutModel",
          "model_module_version": "1.2.0",
          "state": {
            "_model_module": "@jupyter-widgets/base",
            "_model_module_version": "1.2.0",
            "_model_name": "LayoutModel",
            "_view_count": null,
            "_view_module": "@jupyter-widgets/base",
            "_view_module_version": "1.2.0",
            "_view_name": "LayoutView",
            "align_content": null,
            "align_items": null,
            "align_self": null,
            "border": null,
            "bottom": null,
            "display": null,
            "flex": null,
            "flex_flow": null,
            "grid_area": null,
            "grid_auto_columns": null,
            "grid_auto_flow": null,
            "grid_auto_rows": null,
            "grid_column": null,
            "grid_gap": null,
            "grid_row": null,
            "grid_template_areas": null,
            "grid_template_columns": null,
            "grid_template_rows": null,
            "height": null,
            "justify_content": null,
            "justify_items": null,
            "left": null,
            "margin": null,
            "max_height": null,
            "max_width": null,
            "min_height": null,
            "min_width": null,
            "object_fit": null,
            "object_position": null,
            "order": null,
            "overflow": null,
            "overflow_x": null,
            "overflow_y": null,
            "padding": null,
            "right": null,
            "top": null,
            "visibility": null,
            "width": null
          }
        },
        "b65de5626def4adeb0c9e02d1250e8d1": {
          "model_module": "@jupyter-widgets/base",
          "model_name": "LayoutModel",
          "model_module_version": "1.2.0",
          "state": {
            "_model_module": "@jupyter-widgets/base",
            "_model_module_version": "1.2.0",
            "_model_name": "LayoutModel",
            "_view_count": null,
            "_view_module": "@jupyter-widgets/base",
            "_view_module_version": "1.2.0",
            "_view_name": "LayoutView",
            "align_content": null,
            "align_items": null,
            "align_self": null,
            "border": null,
            "bottom": null,
            "display": null,
            "flex": null,
            "flex_flow": null,
            "grid_area": null,
            "grid_auto_columns": null,
            "grid_auto_flow": null,
            "grid_auto_rows": null,
            "grid_column": null,
            "grid_gap": null,
            "grid_row": null,
            "grid_template_areas": null,
            "grid_template_columns": null,
            "grid_template_rows": null,
            "height": null,
            "justify_content": null,
            "justify_items": null,
            "left": null,
            "margin": null,
            "max_height": null,
            "max_width": null,
            "min_height": null,
            "min_width": null,
            "object_fit": null,
            "object_position": null,
            "order": null,
            "overflow": null,
            "overflow_x": null,
            "overflow_y": null,
            "padding": null,
            "right": null,
            "top": null,
            "visibility": null,
            "width": null
          }
        },
        "97c53ec71c5b457c8d13529031b04bec": {
          "model_module": "@jupyter-widgets/controls",
          "model_name": "DescriptionStyleModel",
          "model_module_version": "1.5.0",
          "state": {
            "_model_module": "@jupyter-widgets/controls",
            "_model_module_version": "1.5.0",
            "_model_name": "DescriptionStyleModel",
            "_view_count": null,
            "_view_module": "@jupyter-widgets/base",
            "_view_module_version": "1.2.0",
            "_view_name": "StyleView",
            "description_width": ""
          }
        },
        "b62264bbdcea4c6c8185c9ee28fcc15f": {
          "model_module": "@jupyter-widgets/base",
          "model_name": "LayoutModel",
          "model_module_version": "1.2.0",
          "state": {
            "_model_module": "@jupyter-widgets/base",
            "_model_module_version": "1.2.0",
            "_model_name": "LayoutModel",
            "_view_count": null,
            "_view_module": "@jupyter-widgets/base",
            "_view_module_version": "1.2.0",
            "_view_name": "LayoutView",
            "align_content": null,
            "align_items": null,
            "align_self": null,
            "border": null,
            "bottom": null,
            "display": null,
            "flex": null,
            "flex_flow": null,
            "grid_area": null,
            "grid_auto_columns": null,
            "grid_auto_flow": null,
            "grid_auto_rows": null,
            "grid_column": null,
            "grid_gap": null,
            "grid_row": null,
            "grid_template_areas": null,
            "grid_template_columns": null,
            "grid_template_rows": null,
            "height": null,
            "justify_content": null,
            "justify_items": null,
            "left": null,
            "margin": null,
            "max_height": null,
            "max_width": null,
            "min_height": null,
            "min_width": null,
            "object_fit": null,
            "object_position": null,
            "order": null,
            "overflow": null,
            "overflow_x": null,
            "overflow_y": null,
            "padding": null,
            "right": null,
            "top": null,
            "visibility": null,
            "width": null
          }
        },
        "75f6deb3629b4ddcb972c2ba7bf871c5": {
          "model_module": "@jupyter-widgets/controls",
          "model_name": "ProgressStyleModel",
          "model_module_version": "1.5.0",
          "state": {
            "_model_module": "@jupyter-widgets/controls",
            "_model_module_version": "1.5.0",
            "_model_name": "ProgressStyleModel",
            "_view_count": null,
            "_view_module": "@jupyter-widgets/base",
            "_view_module_version": "1.2.0",
            "_view_name": "StyleView",
            "bar_color": null,
            "description_width": ""
          }
        },
        "c6096c8437a14204ab90e37c96c49f5f": {
          "model_module": "@jupyter-widgets/base",
          "model_name": "LayoutModel",
          "model_module_version": "1.2.0",
          "state": {
            "_model_module": "@jupyter-widgets/base",
            "_model_module_version": "1.2.0",
            "_model_name": "LayoutModel",
            "_view_count": null,
            "_view_module": "@jupyter-widgets/base",
            "_view_module_version": "1.2.0",
            "_view_name": "LayoutView",
            "align_content": null,
            "align_items": null,
            "align_self": null,
            "border": null,
            "bottom": null,
            "display": null,
            "flex": null,
            "flex_flow": null,
            "grid_area": null,
            "grid_auto_columns": null,
            "grid_auto_flow": null,
            "grid_auto_rows": null,
            "grid_column": null,
            "grid_gap": null,
            "grid_row": null,
            "grid_template_areas": null,
            "grid_template_columns": null,
            "grid_template_rows": null,
            "height": null,
            "justify_content": null,
            "justify_items": null,
            "left": null,
            "margin": null,
            "max_height": null,
            "max_width": null,
            "min_height": null,
            "min_width": null,
            "object_fit": null,
            "object_position": null,
            "order": null,
            "overflow": null,
            "overflow_x": null,
            "overflow_y": null,
            "padding": null,
            "right": null,
            "top": null,
            "visibility": null,
            "width": null
          }
        },
        "b94730aee19546e380eda99c1ac8d666": {
          "model_module": "@jupyter-widgets/controls",
          "model_name": "DescriptionStyleModel",
          "model_module_version": "1.5.0",
          "state": {
            "_model_module": "@jupyter-widgets/controls",
            "_model_module_version": "1.5.0",
            "_model_name": "DescriptionStyleModel",
            "_view_count": null,
            "_view_module": "@jupyter-widgets/base",
            "_view_module_version": "1.2.0",
            "_view_name": "StyleView",
            "description_width": ""
          }
        },
        "eaf353fe72f54ceab2da6b8ec1a973f5": {
          "model_module": "@jupyter-widgets/controls",
          "model_name": "HBoxModel",
          "model_module_version": "1.5.0",
          "state": {
            "_dom_classes": [],
            "_model_module": "@jupyter-widgets/controls",
            "_model_module_version": "1.5.0",
            "_model_name": "HBoxModel",
            "_view_count": null,
            "_view_module": "@jupyter-widgets/controls",
            "_view_module_version": "1.5.0",
            "_view_name": "HBoxView",
            "box_style": "",
            "children": [
              "IPY_MODEL_564d8d59d8844d038842121b5971300c",
              "IPY_MODEL_b9023b03bc344c11bae5ac88271294f4",
              "IPY_MODEL_9e22b020867c4da0be1139ba739dad09"
            ],
            "layout": "IPY_MODEL_aba7a38831584de5a11e20d4ab7fc0c5"
          }
        },
        "564d8d59d8844d038842121b5971300c": {
          "model_module": "@jupyter-widgets/controls",
          "model_name": "HTMLModel",
          "model_module_version": "1.5.0",
          "state": {
            "_dom_classes": [],
            "_model_module": "@jupyter-widgets/controls",
            "_model_module_version": "1.5.0",
            "_model_name": "HTMLModel",
            "_view_count": null,
            "_view_module": "@jupyter-widgets/controls",
            "_view_module_version": "1.5.0",
            "_view_name": "HTMLView",
            "description": "",
            "description_tooltip": null,
            "layout": "IPY_MODEL_e5526c9f66f7422bb20bc5b3827da270",
            "placeholder": "​",
            "style": "IPY_MODEL_7328ed9b5be64c39b6ae81510ac7d8d1",
            "value": "tokenizer.json: 100%"
          }
        },
        "b9023b03bc344c11bae5ac88271294f4": {
          "model_module": "@jupyter-widgets/controls",
          "model_name": "FloatProgressModel",
          "model_module_version": "1.5.0",
          "state": {
            "_dom_classes": [],
            "_model_module": "@jupyter-widgets/controls",
            "_model_module_version": "1.5.0",
            "_model_name": "FloatProgressModel",
            "_view_count": null,
            "_view_module": "@jupyter-widgets/controls",
            "_view_module_version": "1.5.0",
            "_view_name": "ProgressView",
            "bar_style": "success",
            "description": "",
            "description_tooltip": null,
            "layout": "IPY_MODEL_15df884e04b04c39b5d2c8db80ae1dd6",
            "max": 466062,
            "min": 0,
            "orientation": "horizontal",
            "style": "IPY_MODEL_dfa146bfc2f342d49e6cf5614ab8753e",
            "value": 466062
          }
        },
        "9e22b020867c4da0be1139ba739dad09": {
          "model_module": "@jupyter-widgets/controls",
          "model_name": "HTMLModel",
          "model_module_version": "1.5.0",
          "state": {
            "_dom_classes": [],
            "_model_module": "@jupyter-widgets/controls",
            "_model_module_version": "1.5.0",
            "_model_name": "HTMLModel",
            "_view_count": null,
            "_view_module": "@jupyter-widgets/controls",
            "_view_module_version": "1.5.0",
            "_view_name": "HTMLView",
            "description": "",
            "description_tooltip": null,
            "layout": "IPY_MODEL_80fea0cfb963427e9e40c2b67ab0d497",
            "placeholder": "​",
            "style": "IPY_MODEL_9dd6cfaa0b064728a85d14089f3c36af",
            "value": " 466k/466k [00:00&lt;00:00, 8.63MB/s]"
          }
        },
        "aba7a38831584de5a11e20d4ab7fc0c5": {
          "model_module": "@jupyter-widgets/base",
          "model_name": "LayoutModel",
          "model_module_version": "1.2.0",
          "state": {
            "_model_module": "@jupyter-widgets/base",
            "_model_module_version": "1.2.0",
            "_model_name": "LayoutModel",
            "_view_count": null,
            "_view_module": "@jupyter-widgets/base",
            "_view_module_version": "1.2.0",
            "_view_name": "LayoutView",
            "align_content": null,
            "align_items": null,
            "align_self": null,
            "border": null,
            "bottom": null,
            "display": null,
            "flex": null,
            "flex_flow": null,
            "grid_area": null,
            "grid_auto_columns": null,
            "grid_auto_flow": null,
            "grid_auto_rows": null,
            "grid_column": null,
            "grid_gap": null,
            "grid_row": null,
            "grid_template_areas": null,
            "grid_template_columns": null,
            "grid_template_rows": null,
            "height": null,
            "justify_content": null,
            "justify_items": null,
            "left": null,
            "margin": null,
            "max_height": null,
            "max_width": null,
            "min_height": null,
            "min_width": null,
            "object_fit": null,
            "object_position": null,
            "order": null,
            "overflow": null,
            "overflow_x": null,
            "overflow_y": null,
            "padding": null,
            "right": null,
            "top": null,
            "visibility": null,
            "width": null
          }
        },
        "e5526c9f66f7422bb20bc5b3827da270": {
          "model_module": "@jupyter-widgets/base",
          "model_name": "LayoutModel",
          "model_module_version": "1.2.0",
          "state": {
            "_model_module": "@jupyter-widgets/base",
            "_model_module_version": "1.2.0",
            "_model_name": "LayoutModel",
            "_view_count": null,
            "_view_module": "@jupyter-widgets/base",
            "_view_module_version": "1.2.0",
            "_view_name": "LayoutView",
            "align_content": null,
            "align_items": null,
            "align_self": null,
            "border": null,
            "bottom": null,
            "display": null,
            "flex": null,
            "flex_flow": null,
            "grid_area": null,
            "grid_auto_columns": null,
            "grid_auto_flow": null,
            "grid_auto_rows": null,
            "grid_column": null,
            "grid_gap": null,
            "grid_row": null,
            "grid_template_areas": null,
            "grid_template_columns": null,
            "grid_template_rows": null,
            "height": null,
            "justify_content": null,
            "justify_items": null,
            "left": null,
            "margin": null,
            "max_height": null,
            "max_width": null,
            "min_height": null,
            "min_width": null,
            "object_fit": null,
            "object_position": null,
            "order": null,
            "overflow": null,
            "overflow_x": null,
            "overflow_y": null,
            "padding": null,
            "right": null,
            "top": null,
            "visibility": null,
            "width": null
          }
        },
        "7328ed9b5be64c39b6ae81510ac7d8d1": {
          "model_module": "@jupyter-widgets/controls",
          "model_name": "DescriptionStyleModel",
          "model_module_version": "1.5.0",
          "state": {
            "_model_module": "@jupyter-widgets/controls",
            "_model_module_version": "1.5.0",
            "_model_name": "DescriptionStyleModel",
            "_view_count": null,
            "_view_module": "@jupyter-widgets/base",
            "_view_module_version": "1.2.0",
            "_view_name": "StyleView",
            "description_width": ""
          }
        },
        "15df884e04b04c39b5d2c8db80ae1dd6": {
          "model_module": "@jupyter-widgets/base",
          "model_name": "LayoutModel",
          "model_module_version": "1.2.0",
          "state": {
            "_model_module": "@jupyter-widgets/base",
            "_model_module_version": "1.2.0",
            "_model_name": "LayoutModel",
            "_view_count": null,
            "_view_module": "@jupyter-widgets/base",
            "_view_module_version": "1.2.0",
            "_view_name": "LayoutView",
            "align_content": null,
            "align_items": null,
            "align_self": null,
            "border": null,
            "bottom": null,
            "display": null,
            "flex": null,
            "flex_flow": null,
            "grid_area": null,
            "grid_auto_columns": null,
            "grid_auto_flow": null,
            "grid_auto_rows": null,
            "grid_column": null,
            "grid_gap": null,
            "grid_row": null,
            "grid_template_areas": null,
            "grid_template_columns": null,
            "grid_template_rows": null,
            "height": null,
            "justify_content": null,
            "justify_items": null,
            "left": null,
            "margin": null,
            "max_height": null,
            "max_width": null,
            "min_height": null,
            "min_width": null,
            "object_fit": null,
            "object_position": null,
            "order": null,
            "overflow": null,
            "overflow_x": null,
            "overflow_y": null,
            "padding": null,
            "right": null,
            "top": null,
            "visibility": null,
            "width": null
          }
        },
        "dfa146bfc2f342d49e6cf5614ab8753e": {
          "model_module": "@jupyter-widgets/controls",
          "model_name": "ProgressStyleModel",
          "model_module_version": "1.5.0",
          "state": {
            "_model_module": "@jupyter-widgets/controls",
            "_model_module_version": "1.5.0",
            "_model_name": "ProgressStyleModel",
            "_view_count": null,
            "_view_module": "@jupyter-widgets/base",
            "_view_module_version": "1.2.0",
            "_view_name": "StyleView",
            "bar_color": null,
            "description_width": ""
          }
        },
        "80fea0cfb963427e9e40c2b67ab0d497": {
          "model_module": "@jupyter-widgets/base",
          "model_name": "LayoutModel",
          "model_module_version": "1.2.0",
          "state": {
            "_model_module": "@jupyter-widgets/base",
            "_model_module_version": "1.2.0",
            "_model_name": "LayoutModel",
            "_view_count": null,
            "_view_module": "@jupyter-widgets/base",
            "_view_module_version": "1.2.0",
            "_view_name": "LayoutView",
            "align_content": null,
            "align_items": null,
            "align_self": null,
            "border": null,
            "bottom": null,
            "display": null,
            "flex": null,
            "flex_flow": null,
            "grid_area": null,
            "grid_auto_columns": null,
            "grid_auto_flow": null,
            "grid_auto_rows": null,
            "grid_column": null,
            "grid_gap": null,
            "grid_row": null,
            "grid_template_areas": null,
            "grid_template_columns": null,
            "grid_template_rows": null,
            "height": null,
            "justify_content": null,
            "justify_items": null,
            "left": null,
            "margin": null,
            "max_height": null,
            "max_width": null,
            "min_height": null,
            "min_width": null,
            "object_fit": null,
            "object_position": null,
            "order": null,
            "overflow": null,
            "overflow_x": null,
            "overflow_y": null,
            "padding": null,
            "right": null,
            "top": null,
            "visibility": null,
            "width": null
          }
        },
        "9dd6cfaa0b064728a85d14089f3c36af": {
          "model_module": "@jupyter-widgets/controls",
          "model_name": "DescriptionStyleModel",
          "model_module_version": "1.5.0",
          "state": {
            "_model_module": "@jupyter-widgets/controls",
            "_model_module_version": "1.5.0",
            "_model_name": "DescriptionStyleModel",
            "_view_count": null,
            "_view_module": "@jupyter-widgets/base",
            "_view_module_version": "1.2.0",
            "_view_name": "StyleView",
            "description_width": ""
          }
        }
      }
    }
  },
  "cells": [
    {
      "cell_type": "code",
      "source": [
        "!pip install datasets==2.16.1"
      ],
      "metadata": {
        "colab": {
          "base_uri": "https://localhost:8080/"
        },
        "id": "6Ml-zNK5gcyf",
        "outputId": "6dfbbc12-e3cf-4fe1-8f19-500c07e5a585"
      },
      "execution_count": null,
      "outputs": [
        {
          "output_type": "stream",
          "name": "stdout",
          "text": [
            "Collecting datasets==2.16.1\n",
            "  Downloading datasets-2.16.1-py3-none-any.whl.metadata (20 kB)\n",
            "Requirement already satisfied: filelock in /usr/local/lib/python3.10/dist-packages (from datasets==2.16.1) (3.15.4)\n",
            "Requirement already satisfied: numpy>=1.17 in /usr/local/lib/python3.10/dist-packages (from datasets==2.16.1) (1.26.4)\n",
            "Requirement already satisfied: pyarrow>=8.0.0 in /usr/local/lib/python3.10/dist-packages (from datasets==2.16.1) (14.0.2)\n",
            "Requirement already satisfied: pyarrow-hotfix in /usr/local/lib/python3.10/dist-packages (from datasets==2.16.1) (0.6)\n",
            "Collecting dill<0.3.8,>=0.3.0 (from datasets==2.16.1)\n",
            "  Downloading dill-0.3.7-py3-none-any.whl.metadata (9.9 kB)\n",
            "Requirement already satisfied: pandas in /usr/local/lib/python3.10/dist-packages (from datasets==2.16.1) (2.1.4)\n",
            "Requirement already satisfied: requests>=2.19.0 in /usr/local/lib/python3.10/dist-packages (from datasets==2.16.1) (2.31.0)\n",
            "Requirement already satisfied: tqdm>=4.62.1 in /usr/local/lib/python3.10/dist-packages (from datasets==2.16.1) (4.66.4)\n",
            "Collecting xxhash (from datasets==2.16.1)\n",
            "  Downloading xxhash-3.4.1-cp310-cp310-manylinux_2_17_x86_64.manylinux2014_x86_64.whl.metadata (12 kB)\n",
            "Collecting multiprocess (from datasets==2.16.1)\n",
            "  Downloading multiprocess-0.70.16-py310-none-any.whl.metadata (7.2 kB)\n",
            "Collecting fsspec<=2023.10.0,>=2023.1.0 (from fsspec[http]<=2023.10.0,>=2023.1.0->datasets==2.16.1)\n",
            "  Downloading fsspec-2023.10.0-py3-none-any.whl.metadata (6.8 kB)\n",
            "Requirement already satisfied: aiohttp in /usr/local/lib/python3.10/dist-packages (from datasets==2.16.1) (3.9.5)\n",
            "Requirement already satisfied: huggingface-hub>=0.19.4 in /usr/local/lib/python3.10/dist-packages (from datasets==2.16.1) (0.23.5)\n",
            "Requirement already satisfied: packaging in /usr/local/lib/python3.10/dist-packages (from datasets==2.16.1) (24.1)\n",
            "Requirement already satisfied: pyyaml>=5.1 in /usr/local/lib/python3.10/dist-packages (from datasets==2.16.1) (6.0.1)\n",
            "Requirement already satisfied: aiosignal>=1.1.2 in /usr/local/lib/python3.10/dist-packages (from aiohttp->datasets==2.16.1) (1.3.1)\n",
            "Requirement already satisfied: attrs>=17.3.0 in /usr/local/lib/python3.10/dist-packages (from aiohttp->datasets==2.16.1) (23.2.0)\n",
            "Requirement already satisfied: frozenlist>=1.1.1 in /usr/local/lib/python3.10/dist-packages (from aiohttp->datasets==2.16.1) (1.4.1)\n",
            "Requirement already satisfied: multidict<7.0,>=4.5 in /usr/local/lib/python3.10/dist-packages (from aiohttp->datasets==2.16.1) (6.0.5)\n",
            "Requirement already satisfied: yarl<2.0,>=1.0 in /usr/local/lib/python3.10/dist-packages (from aiohttp->datasets==2.16.1) (1.9.4)\n",
            "Requirement already satisfied: async-timeout<5.0,>=4.0 in /usr/local/lib/python3.10/dist-packages (from aiohttp->datasets==2.16.1) (4.0.3)\n",
            "Requirement already satisfied: typing-extensions>=3.7.4.3 in /usr/local/lib/python3.10/dist-packages (from huggingface-hub>=0.19.4->datasets==2.16.1) (4.12.2)\n",
            "Requirement already satisfied: charset-normalizer<4,>=2 in /usr/local/lib/python3.10/dist-packages (from requests>=2.19.0->datasets==2.16.1) (3.3.2)\n",
            "Requirement already satisfied: idna<4,>=2.5 in /usr/local/lib/python3.10/dist-packages (from requests>=2.19.0->datasets==2.16.1) (3.7)\n",
            "Requirement already satisfied: urllib3<3,>=1.21.1 in /usr/local/lib/python3.10/dist-packages (from requests>=2.19.0->datasets==2.16.1) (2.0.7)\n",
            "Requirement already satisfied: certifi>=2017.4.17 in /usr/local/lib/python3.10/dist-packages (from requests>=2.19.0->datasets==2.16.1) (2024.7.4)\n",
            "INFO: pip is looking at multiple versions of multiprocess to determine which version is compatible with other requirements. This could take a while.\n",
            "Collecting multiprocess (from datasets==2.16.1)\n",
            "  Downloading multiprocess-0.70.15-py310-none-any.whl.metadata (7.2 kB)\n",
            "Requirement already satisfied: python-dateutil>=2.8.2 in /usr/local/lib/python3.10/dist-packages (from pandas->datasets==2.16.1) (2.8.2)\n",
            "Requirement already satisfied: pytz>=2020.1 in /usr/local/lib/python3.10/dist-packages (from pandas->datasets==2.16.1) (2024.1)\n",
            "Requirement already satisfied: tzdata>=2022.1 in /usr/local/lib/python3.10/dist-packages (from pandas->datasets==2.16.1) (2024.1)\n",
            "Requirement already satisfied: six>=1.5 in /usr/local/lib/python3.10/dist-packages (from python-dateutil>=2.8.2->pandas->datasets==2.16.1) (1.16.0)\n",
            "Downloading datasets-2.16.1-py3-none-any.whl (507 kB)\n",
            "\u001b[2K   \u001b[90m━━━━━━━━━━━━━━━━━━━━━━━━━━━━━━━━━━━━━━━━\u001b[0m \u001b[32m507.1/507.1 kB\u001b[0m \u001b[31m9.2 MB/s\u001b[0m eta \u001b[36m0:00:00\u001b[0m\n",
            "\u001b[?25hDownloading dill-0.3.7-py3-none-any.whl (115 kB)\n",
            "\u001b[2K   \u001b[90m━━━━━━━━━━━━━━━━━━━━━━━━━━━━━━━━━━━━━━━━\u001b[0m \u001b[32m115.3/115.3 kB\u001b[0m \u001b[31m9.1 MB/s\u001b[0m eta \u001b[36m0:00:00\u001b[0m\n",
            "\u001b[?25hDownloading fsspec-2023.10.0-py3-none-any.whl (166 kB)\n",
            "\u001b[2K   \u001b[90m━━━━━━━━━━━━━━━━━━━━━━━━━━━━━━━━━━━━━━━━\u001b[0m \u001b[32m166.4/166.4 kB\u001b[0m \u001b[31m12.4 MB/s\u001b[0m eta \u001b[36m0:00:00\u001b[0m\n",
            "\u001b[?25hDownloading multiprocess-0.70.15-py310-none-any.whl (134 kB)\n",
            "\u001b[2K   \u001b[90m━━━━━━━━━━━━━━━━━━━━━━━━━━━━━━━━━━━━━━━━\u001b[0m \u001b[32m134.8/134.8 kB\u001b[0m \u001b[31m10.6 MB/s\u001b[0m eta \u001b[36m0:00:00\u001b[0m\n",
            "\u001b[?25hDownloading xxhash-3.4.1-cp310-cp310-manylinux_2_17_x86_64.manylinux2014_x86_64.whl (194 kB)\n",
            "\u001b[2K   \u001b[90m━━━━━━━━━━━━━━━━━━━━━━━━━━━━━━━━━━━━━━━━\u001b[0m \u001b[32m194.1/194.1 kB\u001b[0m \u001b[31m11.7 MB/s\u001b[0m eta \u001b[36m0:00:00\u001b[0m\n",
            "\u001b[?25hInstalling collected packages: xxhash, fsspec, dill, multiprocess, datasets\n",
            "  Attempting uninstall: fsspec\n",
            "    Found existing installation: fsspec 2024.6.1\n",
            "    Uninstalling fsspec-2024.6.1:\n",
            "      Successfully uninstalled fsspec-2024.6.1\n",
            "\u001b[31mERROR: pip's dependency resolver does not currently take into account all the packages that are installed. This behaviour is the source of the following dependency conflicts.\n",
            "torch 2.3.1+cu121 requires nvidia-cublas-cu12==12.1.3.1; platform_system == \"Linux\" and platform_machine == \"x86_64\", which is not installed.\n",
            "torch 2.3.1+cu121 requires nvidia-cuda-cupti-cu12==12.1.105; platform_system == \"Linux\" and platform_machine == \"x86_64\", which is not installed.\n",
            "torch 2.3.1+cu121 requires nvidia-cuda-nvrtc-cu12==12.1.105; platform_system == \"Linux\" and platform_machine == \"x86_64\", which is not installed.\n",
            "torch 2.3.1+cu121 requires nvidia-cuda-runtime-cu12==12.1.105; platform_system == \"Linux\" and platform_machine == \"x86_64\", which is not installed.\n",
            "torch 2.3.1+cu121 requires nvidia-cudnn-cu12==8.9.2.26; platform_system == \"Linux\" and platform_machine == \"x86_64\", which is not installed.\n",
            "torch 2.3.1+cu121 requires nvidia-cufft-cu12==11.0.2.54; platform_system == \"Linux\" and platform_machine == \"x86_64\", which is not installed.\n",
            "torch 2.3.1+cu121 requires nvidia-curand-cu12==10.3.2.106; platform_system == \"Linux\" and platform_machine == \"x86_64\", which is not installed.\n",
            "torch 2.3.1+cu121 requires nvidia-cusolver-cu12==11.4.5.107; platform_system == \"Linux\" and platform_machine == \"x86_64\", which is not installed.\n",
            "torch 2.3.1+cu121 requires nvidia-cusparse-cu12==12.1.0.106; platform_system == \"Linux\" and platform_machine == \"x86_64\", which is not installed.\n",
            "torch 2.3.1+cu121 requires nvidia-nccl-cu12==2.20.5; platform_system == \"Linux\" and platform_machine == \"x86_64\", which is not installed.\n",
            "torch 2.3.1+cu121 requires nvidia-nvtx-cu12==12.1.105; platform_system == \"Linux\" and platform_machine == \"x86_64\", which is not installed.\n",
            "gcsfs 2024.6.1 requires fsspec==2024.6.1, but you have fsspec 2023.10.0 which is incompatible.\u001b[0m\u001b[31m\n",
            "\u001b[0mSuccessfully installed datasets-2.16.1 dill-0.3.7 fsspec-2023.10.0 multiprocess-0.70.15 xxhash-3.4.1\n"
          ]
        }
      ]
    },
    {
      "cell_type": "code",
      "execution_count": null,
      "metadata": {
        "colab": {
          "base_uri": "https://localhost:8080/",
          "height": 183
        },
        "id": "ZMRHNx3Cf8Qv",
        "outputId": "8ddfe47f-c0e6-4246-cd77-f125928018a4"
      },
      "outputs": [
        {
          "output_type": "error",
          "ename": "AttributeError",
          "evalue": "type object 'AutoTokenizer' has no attribute 'train_new_from_iterator'",
          "traceback": [
            "\u001b[0;31m---------------------------------------------------------------------------\u001b[0m",
            "\u001b[0;31mAttributeError\u001b[0m                            Traceback (most recent call last)",
            "\u001b[0;32m<ipython-input-5-211929d733a0>\u001b[0m in \u001b[0;36m<cell line: 3>\u001b[0;34m()\u001b[0m\n\u001b[1;32m      1\u001b[0m \u001b[0;32mfrom\u001b[0m \u001b[0mtransformers\u001b[0m \u001b[0;32mimport\u001b[0m \u001b[0mAutoTokenizer\u001b[0m\u001b[0;34m\u001b[0m\u001b[0;34m\u001b[0m\u001b[0m\n\u001b[1;32m      2\u001b[0m \u001b[0;34m\u001b[0m\u001b[0m\n\u001b[0;32m----> 3\u001b[0;31m \u001b[0mAutoTokenizer\u001b[0m\u001b[0;34m.\u001b[0m\u001b[0mtrain_new_from_iterator\u001b[0m\u001b[0;34m(\u001b[0m\u001b[0;34m)\u001b[0m\u001b[0;34m\u001b[0m\u001b[0;34m\u001b[0m\u001b[0m\n\u001b[0m",
            "\u001b[0;31mAttributeError\u001b[0m: type object 'AutoTokenizer' has no attribute 'train_new_from_iterator'"
          ]
        }
      ],
      "source": [
        "from transformers import AutoTokenizer"
      ]
    },
    {
      "cell_type": "code",
      "source": [
        "from datasets import load_dataset\n",
        "data = load_dataset('code-search-net/code_search_net','python')"
      ],
      "metadata": {
        "colab": {
          "base_uri": "https://localhost:8080/",
          "height": 206,
          "referenced_widgets": [
            "3d92200d806547b7b4b7ca7def79311c",
            "95accefcaeb94d94a525b2ca7d3fde1a",
            "4cc8f4b100a047c38bcb998134276820",
            "4fc247018873427c85e3c4cc01c44b4c",
            "e3fc2c67ceda454b83be1b9a7c9a9db7",
            "f4923f6c1e3348dea801907f83bb62a4",
            "25e73b2a50a0484b9ac2f5db45d801eb",
            "c555329c217a4c9fbaf65691fb83cf44",
            "693791001cf54c84b3a6a6acd9c3b800",
            "068f03e7e75d4bf0b816f71aaa3f62b2",
            "99f59ae962c542738cd1aa6cc5933c2a",
            "247c02e481414cce8b8589e5be2d5797",
            "0e21f2b4e444433d8355e0512593bebd",
            "9574420f73514589ba7c1727dfb2872a",
            "cc144741e08548dcbaf7361d6abc838d",
            "7cd350a115f845fb99b6fcb40ea9ec57",
            "7a4f5a5fc22f42b4b7204bdbb579f658",
            "b414e86bd9134add8e8d32e6c95355b8",
            "435312f3a44e43d18fb14323d0bfcc32",
            "74d7204be2404a08aee8987bb4d91792",
            "130384f19cdb47489c1d0f80fb59dd84",
            "b08faecdaba64d2bbb1311256d4ffc3f",
            "f383913159c6405092420aaeadb783eb",
            "db9ce4c15aeb409d96b991f5e66f8e38",
            "fc7b94b125b048b6a9b5c8a2239a91e2",
            "4644f964025a4317ace3efb1ff566d7e",
            "40679b4cf4e24b2d98d5310e62f12ef2",
            "3632b9cb9b4d430f89e4ef9e03dc8bb1",
            "4320065173c744ec9a6ad4b228f4abae",
            "40f60f081ca045d6b218553000e8b5f7",
            "af63d23b515248688a0b6a1231055ae1",
            "5efc051a2c014c7a9403190ce7cea131",
            "f0061773914446f8ac30c1cab2c36c17"
          ]
        },
        "id": "XeEVbj8hgZ_h",
        "outputId": "efb3a308-7ab6-4be9-82e3-d724a2bd34e3"
      },
      "execution_count": null,
      "outputs": [
        {
          "output_type": "stream",
          "name": "stderr",
          "text": [
            "/usr/local/lib/python3.10/dist-packages/datasets/load.py:1429: FutureWarning: The repository for code-search-net/code_search_net contains custom code which must be executed to correctly load the dataset. You can inspect the repository content at https://hf.co/datasets/code-search-net/code_search_net\n",
            "You can avoid this message in future by passing the argument `trust_remote_code=True`.\n",
            "Passing `trust_remote_code=True` will be mandatory to load this dataset from the next major release of `datasets`.\n",
            "  warnings.warn(\n"
          ]
        },
        {
          "output_type": "display_data",
          "data": {
            "text/plain": [
              "Generating train split:   0%|          | 0/412178 [00:00<?, ? examples/s]"
            ],
            "application/vnd.jupyter.widget-view+json": {
              "version_major": 2,
              "version_minor": 0,
              "model_id": "3d92200d806547b7b4b7ca7def79311c"
            }
          },
          "metadata": {}
        },
        {
          "output_type": "display_data",
          "data": {
            "text/plain": [
              "Generating test split:   0%|          | 0/22176 [00:00<?, ? examples/s]"
            ],
            "application/vnd.jupyter.widget-view+json": {
              "version_major": 2,
              "version_minor": 0,
              "model_id": "247c02e481414cce8b8589e5be2d5797"
            }
          },
          "metadata": {}
        },
        {
          "output_type": "display_data",
          "data": {
            "text/plain": [
              "Generating validation split:   0%|          | 0/23107 [00:00<?, ? examples/s]"
            ],
            "application/vnd.jupyter.widget-view+json": {
              "version_major": 2,
              "version_minor": 0,
              "model_id": "f383913159c6405092420aaeadb783eb"
            }
          },
          "metadata": {}
        }
      ]
    },
    {
      "cell_type": "code",
      "source": [
        "data"
      ],
      "metadata": {
        "colab": {
          "base_uri": "https://localhost:8080/"
        },
        "id": "Bm6Ccapzk50f",
        "outputId": "8bbec01e-e194-4002-9fdf-a4801cfb285b"
      },
      "execution_count": null,
      "outputs": [
        {
          "output_type": "execute_result",
          "data": {
            "text/plain": [
              "DatasetDict({\n",
              "    train: Dataset({\n",
              "        features: ['repository_name', 'func_path_in_repository', 'func_name', 'whole_func_string', 'language', 'func_code_string', 'func_code_tokens', 'func_documentation_string', 'func_documentation_tokens', 'split_name', 'func_code_url'],\n",
              "        num_rows: 412178\n",
              "    })\n",
              "    test: Dataset({\n",
              "        features: ['repository_name', 'func_path_in_repository', 'func_name', 'whole_func_string', 'language', 'func_code_string', 'func_code_tokens', 'func_documentation_string', 'func_documentation_tokens', 'split_name', 'func_code_url'],\n",
              "        num_rows: 22176\n",
              "    })\n",
              "    validation: Dataset({\n",
              "        features: ['repository_name', 'func_path_in_repository', 'func_name', 'whole_func_string', 'language', 'func_code_string', 'func_code_tokens', 'func_documentation_string', 'func_documentation_tokens', 'split_name', 'func_code_url'],\n",
              "        num_rows: 23107\n",
              "    })\n",
              "})"
            ]
          },
          "metadata": {},
          "execution_count": 9
        }
      ]
    },
    {
      "cell_type": "code",
      "source": [
        "def text_gen(data_split):\n",
        "  for i in range(0,len(data_split),1000):\n",
        "    yield data_split[i:i+1000]['whole_func_string']\n",
        "\n",
        "corpus = text_gen(data['train'])"
      ],
      "metadata": {
        "id": "xRl42ykc1Ek4"
      },
      "execution_count": null,
      "outputs": []
    },
    {
      "cell_type": "code",
      "source": [
        "old_tokenizer = AutoTokenizer.from_pretrained('gpt2')\n"
      ],
      "metadata": {
        "id": "fl2XWScyw5dd"
      },
      "execution_count": null,
      "outputs": []
    },
    {
      "cell_type": "code",
      "source": [
        "new_tokenizer = old_tokenizer.train_new_from_iterator(corpus,50000)"
      ],
      "metadata": {
        "id": "6Z8L-SbW2Ph_"
      },
      "execution_count": null,
      "outputs": []
    },
    {
      "cell_type": "code",
      "source": [
        "import numpy as np\n",
        "example = \"\"\"\n",
        "class potatos(Model):\n",
        "  def __init__(self,x):\n",
        "    super().__init__()\n",
        "    self.x = x\n",
        "    self.y = x**2\n",
        "\"\"\"\n",
        "\n",
        "print(np.array([old_tokenizer.decode(token) for token in old_tokenizer(example)['input_ids']]))\n",
        "print('\\n\\n')\n",
        "print(np.array([new_tokenizer.decode(token) for token in new_tokenizer(example)['input_ids']]))"
      ],
      "metadata": {
        "colab": {
          "base_uri": "https://localhost:8080/"
        },
        "id": "sWinm9gR4SIr",
        "outputId": "69fd3246-5d1f-4143-aa72-6e5ee38f0a63"
      },
      "execution_count": null,
      "outputs": [
        {
          "output_type": "stream",
          "name": "stdout",
          "text": [
            "['\\n' 'class' ' pot' 'atos' '(' 'Model' '):' '\\n' ' ' ' def' ' __' 'init'\n",
            " '__' '(' 'self' ',' 'x' '):' '\\n' ' ' ' ' ' ' ' super' '().' '__' 'init'\n",
            " '__' '()' '\\n' ' ' ' ' ' ' ' self' '.' 'x' ' =' ' x' '\\n' ' ' ' ' ' '\n",
            " ' self' '.' 'y' ' =' ' x' '**' '2' '\\n']\n",
            "\n",
            "\n",
            "\n",
            "['\\n' 'class' ' pot' 'at' 'os' '(' 'Model' '):' '\\n ' ' def' ' __' 'init'\n",
            " '__(' 'self' ',' 'x' '):' '\\n   ' ' super' '().__' 'init' '__()' '\\n   '\n",
            " ' self' '.' 'x' ' =' ' x' '\\n   ' ' self' '.' 'y' ' =' ' x' '**' '2' '\\n']\n"
          ]
        }
      ]
    },
    {
      "cell_type": "code",
      "source": [
        "from huggingface_hub import notebook_login\n",
        "\n",
        "notebook_login()"
      ],
      "metadata": {
        "colab": {
          "base_uri": "https://localhost:8080/",
          "height": 159,
          "referenced_widgets": [
            "27a8e11905c649d9854f7d6016ea5a3c",
            "8dc2a860ee53477a8248cc070d2d4ba8",
            "8f906ddd5d48457499a46a6c269e4393",
            "ee3b57a59aa6482e8bfe973b475c8153",
            "a8641b4776344471b2504776b0cbeb88",
            "7f498b241e1f4994bcd06ecd1cef8cb3",
            "e35fae1760b24ba2b02f11d357138e49",
            "701a326077bc44a9ab7b4c76eb83e70d",
            "177ec5dc4355445394777da92dcc4d70",
            "7e4d81205f864f8bb13486d42aba3ea2",
            "aa4e42d79fb440c6b27735d6ca6fab75",
            "a7799145afae40258dd6a23178229ee8",
            "3bf898598e3d49959701633662781f08",
            "ccdef277f97e4388bb9aeddb4ebbb505",
            "330dab0f13f44c65995b7e5bd8cc6c48",
            "57c7b2cbf8424024ba5c390ff156f8d3",
            "2f7c726974aa423a969cc1763d2f2792",
            "1ce8fd4ab64a43c9ad0f5036131f3a20",
            "6a9f4d11a68549ba961a5e25c7aa7c72",
            "9f3abfa0f4da49e988baa2ab55f4408c",
            "d295f1d946094fa88820c06125c4b796",
            "542e15928c524434b70d78d74675a060",
            "5dc6bc88494c4c6b85fa5ffa4560db58",
            "898bb6efb3394235a5376ac2b61d8e70",
            "1efd973e2b5945b6b06a49ea4baefa27",
            "56cb70a841e649c280248838b0db2a95",
            "aabbb6114751494297ca224131b91417",
            "c540be2ea9944469a3990489f93a7ac0",
            "4b28cf56688c43958d7143d0875dca59",
            "5abd2b59cb854b528363e34766d7b699",
            "c08cfdb9768c45619f5c436074cf3734",
            "f0898162f9d641a3adf390dabc47f230"
          ]
        },
        "id": "GwcHvGbS2baO",
        "outputId": "46e64624-ea48-45e1-cddc-0fa18ff1b8f6"
      },
      "execution_count": null,
      "outputs": [
        {
          "output_type": "display_data",
          "data": {
            "text/plain": [
              "VBox(children=(HTML(value='<center> <img\\nsrc=https://huggingface.co/front/assets/huggingface_logo-noborder.sv…"
            ],
            "application/vnd.jupyter.widget-view+json": {
              "version_major": 2,
              "version_minor": 0,
              "model_id": "27a8e11905c649d9854f7d6016ea5a3c"
            }
          },
          "metadata": {}
        }
      ]
    },
    {
      "cell_type": "code",
      "source": [
        "new_tokenizer.push_to_hub('HamzaNaser/my_first_tokenizer')"
      ],
      "metadata": {
        "colab": {
          "base_uri": "https://localhost:8080/",
          "height": 110
        },
        "id": "VCMEOiav3SS0",
        "outputId": "df7d6963-f81a-4e07-f43f-b0bbdee68bbb"
      },
      "execution_count": null,
      "outputs": [
        {
          "output_type": "execute_result",
          "data": {
            "text/plain": [
              "CommitInfo(commit_url='https://huggingface.co/HamzaNaser/my_first_tokenizer/commit/ed54c03004ad937b29026a96f26fec596b952910', commit_message='Upload tokenizer', commit_description='', oid='ed54c03004ad937b29026a96f26fec596b952910', pr_url=None, pr_revision=None, pr_num=None)"
            ],
            "application/vnd.google.colaboratory.intrinsic+json": {
              "type": "string"
            }
          },
          "metadata": {},
          "execution_count": 94
        }
      ]
    },
    {
      "cell_type": "code",
      "source": [],
      "metadata": {
        "id": "6SaUsyebKYOJ"
      },
      "execution_count": null,
      "outputs": []
    },
    {
      "cell_type": "code",
      "source": [
        "from transformers import AutoTokenizer\n",
        "from datasets import load_dataset\n",
        "\n",
        "data = load_dataset('glue','mnli')\n",
        "data"
      ],
      "metadata": {
        "colab": {
          "base_uri": "https://localhost:8080/"
        },
        "id": "Xb82zucy-sYp",
        "outputId": "e5423c75-76d0-476b-f9f0-0e65d014c7a9"
      },
      "execution_count": null,
      "outputs": [
        {
          "output_type": "execute_result",
          "data": {
            "text/plain": [
              "DatasetDict({\n",
              "    train: Dataset({\n",
              "        features: ['premise', 'hypothesis', 'label', 'idx'],\n",
              "        num_rows: 392702\n",
              "    })\n",
              "    validation_matched: Dataset({\n",
              "        features: ['premise', 'hypothesis', 'label', 'idx'],\n",
              "        num_rows: 9815\n",
              "    })\n",
              "    validation_mismatched: Dataset({\n",
              "        features: ['premise', 'hypothesis', 'label', 'idx'],\n",
              "        num_rows: 9832\n",
              "    })\n",
              "    test_matched: Dataset({\n",
              "        features: ['premise', 'hypothesis', 'label', 'idx'],\n",
              "        num_rows: 9796\n",
              "    })\n",
              "    test_mismatched: Dataset({\n",
              "        features: ['premise', 'hypothesis', 'label', 'idx'],\n",
              "        num_rows: 9847\n",
              "    })\n",
              "})"
            ]
          },
          "metadata": {},
          "execution_count": 89
        }
      ]
    },
    {
      "cell_type": "code",
      "source": [
        "fast_tokenizer = AutoTokenizer.from_pretrained('bert-base-cased')\n",
        "slow_tokenizer = AutoTokenizer.from_pretrained('bert-base-cased',use_fast=False)\n",
        "\n",
        "\n",
        "tokenizer = fast_tokenizer"
      ],
      "metadata": {
        "id": "P1XnobymKhxb"
      },
      "execution_count": null,
      "outputs": []
    },
    {
      "cell_type": "code",
      "source": [
        "text = 'hello my name is Hamza'\n",
        "tokenizer = fast_tokenizer\n",
        "\n",
        "tokens = tokenizer(text)\n",
        "tokens.tokens(),tokens.is_fast,tokens.word_ids()"
      ],
      "metadata": {
        "colab": {
          "base_uri": "https://localhost:8080/"
        },
        "id": "FFgutkqsQXtU",
        "outputId": "011fb728-5f9d-432c-9c03-dc56bb44d6f2"
      },
      "execution_count": null,
      "outputs": [
        {
          "output_type": "execute_result",
          "data": {
            "text/plain": [
              "(['[CLS]', 'hello', 'my', 'name', 'is', 'Ham', '##za', '[SEP]'],\n",
              " True,\n",
              " [None, 0, 1, 2, 3, 4, 4, None])"
            ]
          },
          "metadata": {},
          "execution_count": 96
        }
      ]
    },
    {
      "cell_type": "markdown",
      "source": [
        "How word_ids is useful??\n",
        "\n",
        "![image.png](data:image/png;base64,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)"
      ],
      "metadata": {
        "id": "Jl9vXn2GRMZy"
      }
    },
    {
      "cell_type": "code",
      "source": [
        "from transformers import pipeline\n",
        "\n",
        "token_classifier = pipeline(\"token-classification\")"
      ],
      "metadata": {
        "id": "8IGREUedbPxl"
      },
      "execution_count": null,
      "outputs": []
    },
    {
      "cell_type": "code",
      "source": [
        "text = 'Hamza visited Mohammad in Petra-Jordan last month.'\n",
        "# text2 = \"Don't look at the bird.\"\n",
        "\n",
        "encoding = tokenizer(text)"
      ],
      "metadata": {
        "id": "1cZYOlXpXCxp"
      },
      "execution_count": null,
      "outputs": []
    },
    {
      "cell_type": "code",
      "source": [
        "encoding.tokens()"
      ],
      "metadata": {
        "colab": {
          "base_uri": "https://localhost:8080/"
        },
        "id": "ilqS_iboYdif",
        "outputId": "71414373-2dc2-48c7-9084-b2a1fd14a675"
      },
      "execution_count": null,
      "outputs": [
        {
          "output_type": "execute_result",
          "data": {
            "text/plain": [
              "['[CLS]',\n",
              " 'Ham',\n",
              " '##za',\n",
              " 'visited',\n",
              " 'Mohammad',\n",
              " 'in',\n",
              " 'Petra',\n",
              " '-',\n",
              " 'Jordan',\n",
              " 'last',\n",
              " 'month',\n",
              " '.',\n",
              " '[SEP]']"
            ]
          },
          "metadata": {},
          "execution_count": 141
        }
      ]
    },
    {
      "cell_type": "code",
      "source": [
        "encoding.word_ids()"
      ],
      "metadata": {
        "colab": {
          "base_uri": "https://localhost:8080/"
        },
        "id": "NIfHIXIqYGDy",
        "outputId": "4c1c7512-951a-4a26-a42a-1cff12b870c1"
      },
      "execution_count": null,
      "outputs": [
        {
          "output_type": "execute_result",
          "data": {
            "text/plain": [
              "[None, 0, 0, 1, 2, 3, 4, 5, 6, 7, 8, 9, None]"
            ]
          },
          "metadata": {},
          "execution_count": 142
        }
      ]
    },
    {
      "cell_type": "code",
      "source": [
        "start,end = encoding.word_to_chars(0)\n",
        "text[start:end]"
      ],
      "metadata": {
        "colab": {
          "base_uri": "https://localhost:8080/",
          "height": 36
        },
        "id": "j_oLx4X2b4hc",
        "outputId": "552452f8-7d35-4674-8ee0-e2f01c45392a"
      },
      "execution_count": null,
      "outputs": [
        {
          "output_type": "execute_result",
          "data": {
            "text/plain": [
              "'Hamza'"
            ],
            "application/vnd.google.colaboratory.intrinsic+json": {
              "type": "string"
            }
          },
          "metadata": {},
          "execution_count": 148
        }
      ]
    },
    {
      "cell_type": "code",
      "source": [
        "token_classifier(text)"
      ],
      "metadata": {
        "colab": {
          "base_uri": "https://localhost:8080/"
        },
        "id": "ScUA0J56Zbp2",
        "outputId": "d5e6f3e2-dc1f-4b70-ac2e-d70a2206595d"
      },
      "execution_count": null,
      "outputs": [
        {
          "output_type": "execute_result",
          "data": {
            "text/plain": [
              "[{'entity': 'I-PER',\n",
              "  'score': 0.9990533,\n",
              "  'index': 1,\n",
              "  'word': 'Ham',\n",
              "  'start': 0,\n",
              "  'end': 3},\n",
              " {'entity': 'I-PER',\n",
              "  'score': 0.985501,\n",
              "  'index': 2,\n",
              "  'word': '##za',\n",
              "  'start': 3,\n",
              "  'end': 5},\n",
              " {'entity': 'I-PER',\n",
              "  'score': 0.9996705,\n",
              "  'index': 4,\n",
              "  'word': 'Mohammad',\n",
              "  'start': 14,\n",
              "  'end': 22},\n",
              " {'entity': 'I-LOC',\n",
              "  'score': 0.97291493,\n",
              "  'index': 6,\n",
              "  'word': 'Petra',\n",
              "  'start': 26,\n",
              "  'end': 31},\n",
              " {'entity': 'I-LOC',\n",
              "  'score': 0.9994906,\n",
              "  'index': 8,\n",
              "  'word': 'Jordan',\n",
              "  'start': 32,\n",
              "  'end': 38}]"
            ]
          },
          "metadata": {},
          "execution_count": 144
        }
      ]
    },
    {
      "cell_type": "code",
      "source": [
        "token_classifier = pipeline(\"token-classification\",aggregation_strategy='simple')"
      ],
      "metadata": {
        "colab": {
          "base_uri": "https://localhost:8080/"
        },
        "id": "LNa1n-A0aVk7",
        "outputId": "568989b1-d6cb-4210-abd9-57ca1da10834"
      },
      "execution_count": null,
      "outputs": [
        {
          "output_type": "stream",
          "name": "stderr",
          "text": [
            "No model was supplied, defaulted to dbmdz/bert-large-cased-finetuned-conll03-english and revision f2482bf (https://huggingface.co/dbmdz/bert-large-cased-finetuned-conll03-english).\n",
            "Using a pipeline without specifying a model name and revision in production is not recommended.\n",
            "Some weights of the model checkpoint at dbmdz/bert-large-cased-finetuned-conll03-english were not used when initializing BertForTokenClassification: ['bert.pooler.dense.bias', 'bert.pooler.dense.weight']\n",
            "- This IS expected if you are initializing BertForTokenClassification from the checkpoint of a model trained on another task or with another architecture (e.g. initializing a BertForSequenceClassification model from a BertForPreTraining model).\n",
            "- This IS NOT expected if you are initializing BertForTokenClassification from the checkpoint of a model that you expect to be exactly identical (initializing a BertForSequenceClassification model from a BertForSequenceClassification model).\n"
          ]
        }
      ]
    },
    {
      "cell_type": "code",
      "source": [
        "token_classifier(text)"
      ],
      "metadata": {
        "colab": {
          "base_uri": "https://localhost:8080/"
        },
        "id": "VpHQ4Yc5czbZ",
        "outputId": "e07c8746-8b35-4c80-c08e-99fa37dc724e"
      },
      "execution_count": null,
      "outputs": [
        {
          "output_type": "execute_result",
          "data": {
            "text/plain": [
              "[{'entity_group': 'PER',\n",
              "  'score': 0.99227715,\n",
              "  'word': 'Hamza',\n",
              "  'start': 0,\n",
              "  'end': 5},\n",
              " {'entity_group': 'PER',\n",
              "  'score': 0.9996705,\n",
              "  'word': 'Mohammad',\n",
              "  'start': 14,\n",
              "  'end': 22},\n",
              " {'entity_group': 'LOC',\n",
              "  'score': 0.97291493,\n",
              "  'word': 'Petra',\n",
              "  'start': 26,\n",
              "  'end': 31},\n",
              " {'entity_group': 'LOC',\n",
              "  'score': 0.9994906,\n",
              "  'word': 'Jordan',\n",
              "  'start': 32,\n",
              "  'end': 38}]"
            ]
          },
          "metadata": {},
          "execution_count": 153
        }
      ]
    },
    {
      "cell_type": "code",
      "source": [
        "from transformers import AutoTokenizer, AutoModelForTokenClassification\n",
        "model_checkpoint = \"dbmdz/bert-large-cased-finetuned-conll03-english\"\n",
        "\n",
        "\n",
        "model = AutoModelForTokenClassification.from_pretrained(model_checkpoint)\n",
        "tokenizer = AutoTokenizer.from_pretrained(model_checkpoint)"
      ],
      "metadata": {
        "colab": {
          "base_uri": "https://localhost:8080/"
        },
        "id": "0I-58ekGdIip",
        "outputId": "bc3b6eb1-e420-4adf-f245-819fbeb5f584"
      },
      "execution_count": null,
      "outputs": [
        {
          "output_type": "stream",
          "name": "stderr",
          "text": [
            "Some weights of the model checkpoint at dbmdz/bert-large-cased-finetuned-conll03-english were not used when initializing BertForTokenClassification: ['bert.pooler.dense.bias', 'bert.pooler.dense.weight']\n",
            "- This IS expected if you are initializing BertForTokenClassification from the checkpoint of a model trained on another task or with another architecture (e.g. initializing a BertForSequenceClassification model from a BertForPreTraining model).\n",
            "- This IS NOT expected if you are initializing BertForTokenClassification from the checkpoint of a model that you expect to be exactly identical (initializing a BertForSequenceClassification model from a BertForSequenceClassification model).\n"
          ]
        }
      ]
    },
    {
      "cell_type": "code",
      "source": [
        "encoding = tokenizer(text,return_tensors='pt')\n",
        "encoding"
      ],
      "metadata": {
        "colab": {
          "base_uri": "https://localhost:8080/"
        },
        "id": "-boNRG83dfNe",
        "outputId": "babc07b7-6d07-4f01-a88d-c5c4e23083af"
      },
      "execution_count": null,
      "outputs": [
        {
          "output_type": "execute_result",
          "data": {
            "text/plain": [
              "{'input_ids': tensor([[  101, 13030,  3293,  3891, 12460,  1107, 23424,   118,  4421,  1314,\n",
              "          2370,   119,   102]]), 'token_type_ids': tensor([[0, 0, 0, 0, 0, 0, 0, 0, 0, 0, 0, 0, 0]]), 'attention_mask': tensor([[1, 1, 1, 1, 1, 1, 1, 1, 1, 1, 1, 1, 1]])}"
            ]
          },
          "metadata": {},
          "execution_count": 159
        }
      ]
    },
    {
      "cell_type": "code",
      "source": [
        "encoding.tokens()"
      ],
      "metadata": {
        "colab": {
          "base_uri": "https://localhost:8080/"
        },
        "id": "HlQsEAAgd-g_",
        "outputId": "d20d8fd6-d6d2-4fc4-b378-2a8b1b2348ed"
      },
      "execution_count": null,
      "outputs": [
        {
          "output_type": "execute_result",
          "data": {
            "text/plain": [
              "['[CLS]',\n",
              " 'Ham',\n",
              " '##za',\n",
              " 'visited',\n",
              " 'Mohammad',\n",
              " 'in',\n",
              " 'Petra',\n",
              " '-',\n",
              " 'Jordan',\n",
              " 'last',\n",
              " 'month',\n",
              " '.',\n",
              " '[SEP]']"
            ]
          },
          "metadata": {},
          "execution_count": 170
        }
      ]
    },
    {
      "cell_type": "code",
      "source": [
        "model(**encoding).logits[0].softmax(-1)"
      ],
      "metadata": {
        "colab": {
          "base_uri": "https://localhost:8080/"
        },
        "id": "pwBoSLOeeOzG",
        "outputId": "214d4eb7-efb2-4e33-d38b-421c08a2e2c3"
      },
      "execution_count": null,
      "outputs": [
        {
          "output_type": "execute_result",
          "data": {
            "text/plain": [
              "tensor([[9.9962e-01, 7.8356e-06, 2.5773e-05, 1.0864e-05, 4.5653e-05, 1.3050e-05,\n",
              "         3.6395e-05, 1.1398e-05, 2.3223e-04],\n",
              "        [2.3005e-04, 3.6249e-05, 1.2077e-04, 2.8359e-05, 9.9905e-01, 2.5633e-05,\n",
              "         1.1036e-04, 2.9610e-05, 3.6574e-04],\n",
              "        [7.9588e-03, 3.1795e-04, 8.4933e-04, 8.2278e-05, 9.8550e-01, 2.4893e-04,\n",
              "         2.9353e-03, 3.0919e-04, 1.7972e-03],\n",
              "        [9.9997e-01, 1.4441e-06, 3.0231e-06, 8.6892e-07, 4.6751e-06, 1.6743e-06,\n",
              "         8.6182e-06, 1.5790e-06, 4.9995e-06],\n",
              "        [9.0004e-05, 1.8485e-05, 4.7105e-05, 8.7433e-06, 9.9967e-01, 1.3374e-05,\n",
              "         6.3476e-05, 6.6851e-06, 8.1627e-05],\n",
              "        [9.9997e-01, 1.3184e-06, 4.6330e-06, 8.5631e-07, 3.2209e-06, 2.0191e-06,\n",
              "         1.0683e-05, 1.8381e-06, 8.4337e-06],\n",
              "        [2.8043e-03, 7.2468e-04, 5.8188e-03, 1.8386e-04, 2.7859e-03, 3.5717e-04,\n",
              "         1.4123e-02, 2.8686e-04, 9.7292e-01],\n",
              "        [9.9650e-01, 5.3448e-05, 4.8861e-04, 2.2281e-05, 1.1359e-04, 1.0367e-04,\n",
              "         1.1185e-03, 5.3081e-05, 1.5428e-03],\n",
              "        [3.6936e-05, 2.5112e-05, 8.5860e-05, 1.1451e-05, 6.3804e-05, 1.7902e-05,\n",
              "         2.2385e-04, 4.4464e-05, 9.9949e-01],\n",
              "        [9.9997e-01, 1.3273e-06, 3.3031e-06, 9.0928e-07, 3.3325e-06, 1.4270e-06,\n",
              "         8.3691e-06, 1.7827e-06, 6.6420e-06],\n",
              "        [9.9998e-01, 1.2366e-06, 3.3712e-06, 9.4047e-07, 2.8297e-06, 1.6293e-06,\n",
              "         7.4622e-06, 1.6911e-06, 5.4041e-06],\n",
              "        [9.9962e-01, 7.8358e-06, 2.5773e-05, 1.0864e-05, 4.5655e-05, 1.3050e-05,\n",
              "         3.6396e-05, 1.1399e-05, 2.3223e-04],\n",
              "        [9.9962e-01, 7.8356e-06, 2.5773e-05, 1.0864e-05, 4.5653e-05, 1.3050e-05,\n",
              "         3.6395e-05, 1.1398e-05, 2.3223e-04]], grad_fn=<SoftmaxBackward0>)"
            ]
          },
          "metadata": {},
          "execution_count": 169
        }
      ]
    },
    {
      "cell_type": "code",
      "source": [
        "result_labels = model(**encoding).logits[0].argmax(dim=-1)\n",
        "result_labels"
      ],
      "metadata": {
        "colab": {
          "base_uri": "https://localhost:8080/"
        },
        "id": "YA5F4dYydouG",
        "outputId": "6da8e6a3-b982-446b-ee11-71a4286eb499"
      },
      "execution_count": null,
      "outputs": [
        {
          "output_type": "execute_result",
          "data": {
            "text/plain": [
              "tensor([0, 4, 4, 0, 4, 0, 8, 0, 8, 0, 0, 0, 0])"
            ]
          },
          "metadata": {},
          "execution_count": 191
        }
      ]
    },
    {
      "cell_type": "code",
      "source": [
        "encoding_with_offset = tokenizer(text,return_offsets_mapping=True)"
      ],
      "metadata": {
        "id": "W9OU07AGf8bE"
      },
      "execution_count": null,
      "outputs": []
    },
    {
      "cell_type": "code",
      "source": [
        "result = []\n",
        "encoding.tokens()\n",
        "for i,token in enumerate(encoding.tokens()):\n",
        "  class_ = int(result_labels[i].numpy())\n",
        "  if class_:\n",
        "    entity_group = model.config.id2label[class_]\n",
        "    word = token\n",
        "    start, end = encoding_with_offset['offset_mapping'][i]\n",
        "    append_result = {\n",
        "        'entity_group':entity_group,\n",
        "        'word': word,\n",
        "        'start': start,\n",
        "        'end':end\n",
        "    }\n",
        "    result.append(append_result)\n",
        "    print(append_result)"
      ],
      "metadata": {
        "colab": {
          "base_uri": "https://localhost:8080/"
        },
        "id": "iCR1FzPke2_X",
        "outputId": "2123d779-cc64-4e03-d135-2e3df019d22a"
      },
      "execution_count": null,
      "outputs": [
        {
          "output_type": "stream",
          "name": "stdout",
          "text": [
            "{'entity_group': 'I-PER', 'word': 'Ham', 'start': 0, 'end': 3}\n",
            "{'entity_group': 'I-PER', 'word': '##za', 'start': 3, 'end': 5}\n",
            "{'entity_group': 'I-PER', 'word': 'Mohammad', 'start': 14, 'end': 22}\n",
            "{'entity_group': 'I-LOC', 'word': 'Petra', 'start': 26, 'end': 31}\n",
            "{'entity_group': 'I-LOC', 'word': 'Jordan', 'start': 32, 'end': 38}\n"
          ]
        }
      ]
    },
    {
      "cell_type": "code",
      "source": [
        "result"
      ],
      "metadata": {
        "colab": {
          "base_uri": "https://localhost:8080/"
        },
        "id": "wlNdEMx5hNDL",
        "outputId": "a345e5b5-3baf-47cc-dc18-b41d6904e795"
      },
      "execution_count": null,
      "outputs": [
        {
          "output_type": "execute_result",
          "data": {
            "text/plain": [
              "[{'entity_group': 'I-PER', 'word': 'Ham', 'start': 0, 'end': 3},\n",
              " {'entity_group': 'I-PER', 'word': '##za', 'start': 3, 'end': 5},\n",
              " {'entity_group': 'I-PER', 'word': 'Mohammad', 'start': 14, 'end': 22},\n",
              " {'entity_group': 'I-LOC', 'word': 'Petra', 'start': 26, 'end': 31},\n",
              " {'entity_group': 'I-LOC', 'word': 'Jordan', 'start': 32, 'end': 38}]"
            ]
          },
          "metadata": {},
          "execution_count": 194
        }
      ]
    },
    {
      "cell_type": "code",
      "source": [
        "from transformers import AutoTokenizer\n",
        "\n",
        "tokenizer_cased = AutoTokenizer.from_pretrained('bert-base-cased')\n",
        "tokenizer_uncased = AutoTokenizer.from_pretrained('bert-base-uncased')"
      ],
      "metadata": {
        "colab": {
          "base_uri": "https://localhost:8080/",
          "height": 273,
          "referenced_widgets": [
            "b8e75b01036b4c3bbc478173ed1a0eb3",
            "56b738a9a27c4a798d420b23de95d82b",
            "d0b761e262804b3a894ab334abd59886",
            "621a1338227a4d42baf2b60d6e32dbcf",
            "a87f393a4e384a0da5864bd1c6827752",
            "7826bae128874aa99b9d9d0e8b28f340",
            "d7f1c4358e6d40799d3f24e4299b0140",
            "6f02e4c18ae44db6b1a8c5e2eb94b8b9",
            "62050829fb1f4d26bb9838b68b1c730e",
            "ab01a2a35e854006bbb88ccfb100322f",
            "35c0e99526424a2a9b933e80a9c61231",
            "6aa6b7cee93a4780be82c6e9005e3a1d",
            "fb39f1b3657b44c185de56a1af0c4173",
            "705c3d2e5d624b4e91841f9bf3f41111",
            "9d4b0a46434849cd85ea0f8c2fcddf95",
            "92ccc674a899483081d5a8a11476da07",
            "18978ae84c1141b299d0c8a50dcd66df",
            "714b239ea69b47ec852a128bbac48c89",
            "aa470edfd8f1455d8ccc73a8c5fbd894",
            "3be3bb2d13a341078e3eaa0d3a173b5a",
            "0d7a6cbba1bb420bb409f8963ee3c58b",
            "a0eda08954a14b4eacfc3dbebf1cc347",
            "79e2078eeff9467e9708eaa547631aa9",
            "85c4edb2988049079c7664a568e91a74",
            "827a9372f56d4388aa0d73922e341f16",
            "830da61ec72c457c90d223be4655f350",
            "c295456a0d074e3e95fb773b4c10be00",
            "5333aed9cdf84c05a8d63d5cb24e00e2",
            "cae53a6c681f404a810d32061be66bf3",
            "d7e129bc486345c8ae8591af27c87af3",
            "548043b07b5b4eec9fa7c8456634a7aa",
            "6422b967978448c1a5ecee2722ec84c2",
            "f58b21250dc849b1b99cba0b31952167",
            "326d40324f4a47b48ae9c7f67a068db3",
            "7a290f8e121d4e25b8f3755b29c174ba",
            "cb600561d22a4481bc9c8c909de3cea6",
            "f64df031d2c94b32be07f18e4be27322",
            "d0086a37769340c88910442c8e64b567",
            "e53d0464d15e41fcbdf356f5909b98f3",
            "7697baf715884a8699c9ad32cf181209",
            "ad92659b1be1476aa37c5277159f611d",
            "b9497bcd1b2d46a2a142f68fc027d1f4",
            "5a62227e089742488c320f84335e237d",
            "9fb5c69b55934c9b9ffb0694f4f4b327",
            "75397ac2b79c4c95b24b241cbaee511f",
            "315c9d51df904ce689c74b015b192f62",
            "f061ddbf74fc4957a1a5cfcfc9020d52",
            "e7c64f4d7c1c406dabacac0ad2f5740c",
            "740c4b78f0f14a439a28f3978d9704b0",
            "4664461faf96466ba5e7759f529b17b5",
            "ec631d26f2b2439293daba8e349a7b8c",
            "2c0cadfa58a24cc3a30997846e82fcb3",
            "009d0a553a5f466f9ef10a61c13bba10",
            "b2162afdc60d457390c2fe1f4cf4da16",
            "711a05eea326449d90264d8cc7ef865c",
            "c688c19ec60b469492b3e4688d63b3a5",
            "c69a96d085c846e8a36f958897b25ee1",
            "243342c2e4624caaa84ee6fb7a76db5f",
            "e5cc86a0bd634753b4d3a9aa4d4cb10d",
            "9551083b8eff4f269a0fbda1c2653999",
            "f986047efc944688a99a954dff28464f",
            "f33cef89b426434d95eaaefa29a381cb",
            "65319c36ad5340da8fad743e1523dae0",
            "0a229fb847514bd0b8b64f2ad6f7c283",
            "58947ebb62e74c1d9b715428cc12556a",
            "03fdae0778d54f7289661ebb3e6e9d51",
            "7c4583968e254a99af70c091400a7172",
            "a3851cd9b7d041e9acf2c097798b4e0a",
            "351ba6bbc5fc49c6817d55446167f41f",
            "fb74b35be0634306bbadfa508040d659",
            "ddc5abc0d0084bb399b8604aed3db4b9",
            "b65de5626def4adeb0c9e02d1250e8d1",
            "97c53ec71c5b457c8d13529031b04bec",
            "b62264bbdcea4c6c8185c9ee28fcc15f",
            "75f6deb3629b4ddcb972c2ba7bf871c5",
            "c6096c8437a14204ab90e37c96c49f5f",
            "b94730aee19546e380eda99c1ac8d666",
            "eaf353fe72f54ceab2da6b8ec1a973f5",
            "564d8d59d8844d038842121b5971300c",
            "b9023b03bc344c11bae5ac88271294f4",
            "9e22b020867c4da0be1139ba739dad09",
            "aba7a38831584de5a11e20d4ab7fc0c5",
            "e5526c9f66f7422bb20bc5b3827da270",
            "7328ed9b5be64c39b6ae81510ac7d8d1",
            "15df884e04b04c39b5d2c8db80ae1dd6",
            "dfa146bfc2f342d49e6cf5614ab8753e",
            "80fea0cfb963427e9e40c2b67ab0d497",
            "9dd6cfaa0b064728a85d14089f3c36af"
          ]
        },
        "id": "x14g64sKBuRL",
        "outputId": "9b37fbff-5592-4982-c41b-e5934fda846c"
      },
      "execution_count": null,
      "outputs": [
        {
          "output_type": "display_data",
          "data": {
            "text/plain": [
              "tokenizer_config.json:   0%|          | 0.00/49.0 [00:00<?, ?B/s]"
            ],
            "application/vnd.jupyter.widget-view+json": {
              "version_major": 2,
              "version_minor": 0,
              "model_id": "b8e75b01036b4c3bbc478173ed1a0eb3"
            }
          },
          "metadata": {}
        },
        {
          "output_type": "display_data",
          "data": {
            "text/plain": [
              "config.json:   0%|          | 0.00/570 [00:00<?, ?B/s]"
            ],
            "application/vnd.jupyter.widget-view+json": {
              "version_major": 2,
              "version_minor": 0,
              "model_id": "6aa6b7cee93a4780be82c6e9005e3a1d"
            }
          },
          "metadata": {}
        },
        {
          "output_type": "display_data",
          "data": {
            "text/plain": [
              "vocab.txt:   0%|          | 0.00/213k [00:00<?, ?B/s]"
            ],
            "application/vnd.jupyter.widget-view+json": {
              "version_major": 2,
              "version_minor": 0,
              "model_id": "79e2078eeff9467e9708eaa547631aa9"
            }
          },
          "metadata": {}
        },
        {
          "output_type": "display_data",
          "data": {
            "text/plain": [
              "tokenizer.json:   0%|          | 0.00/436k [00:00<?, ?B/s]"
            ],
            "application/vnd.jupyter.widget-view+json": {
              "version_major": 2,
              "version_minor": 0,
              "model_id": "326d40324f4a47b48ae9c7f67a068db3"
            }
          },
          "metadata": {}
        },
        {
          "output_type": "display_data",
          "data": {
            "text/plain": [
              "tokenizer_config.json:   0%|          | 0.00/48.0 [00:00<?, ?B/s]"
            ],
            "application/vnd.jupyter.widget-view+json": {
              "version_major": 2,
              "version_minor": 0,
              "model_id": "75397ac2b79c4c95b24b241cbaee511f"
            }
          },
          "metadata": {}
        },
        {
          "output_type": "display_data",
          "data": {
            "text/plain": [
              "config.json:   0%|          | 0.00/570 [00:00<?, ?B/s]"
            ],
            "application/vnd.jupyter.widget-view+json": {
              "version_major": 2,
              "version_minor": 0,
              "model_id": "c688c19ec60b469492b3e4688d63b3a5"
            }
          },
          "metadata": {}
        },
        {
          "output_type": "display_data",
          "data": {
            "text/plain": [
              "vocab.txt:   0%|          | 0.00/232k [00:00<?, ?B/s]"
            ],
            "application/vnd.jupyter.widget-view+json": {
              "version_major": 2,
              "version_minor": 0,
              "model_id": "7c4583968e254a99af70c091400a7172"
            }
          },
          "metadata": {}
        },
        {
          "output_type": "display_data",
          "data": {
            "text/plain": [
              "tokenizer.json:   0%|          | 0.00/466k [00:00<?, ?B/s]"
            ],
            "application/vnd.jupyter.widget-view+json": {
              "version_major": 2,
              "version_minor": 0,
              "model_id": "eaf353fe72f54ceab2da6b8ec1a973f5"
            }
          },
          "metadata": {}
        }
      ]
    },
    {
      "cell_type": "code",
      "source": [
        "text = 'Hello My name IS   HAMZA'\n",
        "tokenizer_cased(text).tokens(),tokenizer_uncased(text).tokens()"
      ],
      "metadata": {
        "colab": {
          "base_uri": "https://localhost:8080/"
        },
        "id": "1Y1Z0UNBCEL_",
        "outputId": "f207414c-a497-4c68-a68b-18e6039ef575"
      },
      "execution_count": null,
      "outputs": [
        {
          "output_type": "execute_result",
          "data": {
            "text/plain": [
              "(['[CLS]', 'Hello', 'My', 'name', 'IS', 'H', '##AM', '##Z', '##A', '[SEP]'],\n",
              " ['[CLS]', 'hello', 'my', 'name', 'is', 'ham', '##za', '[SEP]'])"
            ]
          },
          "metadata": {},
          "execution_count": 16
        }
      ]
    },
    {
      "cell_type": "code",
      "source": [
        "\n",
        "text = 'السّلامُ عَلَيْكُمْ'\n",
        "print(tokenizer_cased.backend_tokenizer.normalizer.normalize_str(text))\n",
        "print(tokenizer_uncased.backend_tokenizer.normalizer.normalize_str(text))"
      ],
      "metadata": {
        "colab": {
          "base_uri": "https://localhost:8080/"
        },
        "id": "-X1AqRJpDOXU",
        "outputId": "d3d638b0-e13a-47bf-8258-60cee319e975"
      },
      "execution_count": null,
      "outputs": [
        {
          "output_type": "stream",
          "name": "stdout",
          "text": [
            "السّلامُ عَلَيْكُمْ\n",
            "السلام عليكم\n"
          ]
        }
      ]
    },
    {
      "cell_type": "code",
      "source": [
        "text = 'السّلامُ عَلَيْكُمْ.'\n",
        "print(tokenizer_cased.backend_tokenizer.pre_tokenizer.pre_tokenize_str(text))\n",
        "print(tokenizer_uncased.backend_tokenizer.pre_tokenizer.pre_tokenize_str(text))"
      ],
      "metadata": {
        "colab": {
          "base_uri": "https://localhost:8080/"
        },
        "id": "D7T2WjhADlQn",
        "outputId": "da13ba03-6dba-4f40-e717-55c327d13d93"
      },
      "execution_count": null,
      "outputs": [
        {
          "output_type": "stream",
          "name": "stdout",
          "text": [
            "[('السّلامُ', (0, 8)), ('عَلَيْكُمْ', (9, 19)), ('.', (19, 20))]\n",
            "[('السّلامُ', (0, 8)), ('عَلَيْكُمْ', (9, 19)), ('.', (19, 20))]\n"
          ]
        }
      ]
    },
    {
      "cell_type": "code",
      "source": [
        "text = 'How are  you!'\n",
        "tokenizer = AutoTokenizer.from_pretrained('gpt2')\n",
        "tokenizer.backend_tokenizer.pre_tokenizer.pre_tokenize_str(text)"
      ],
      "metadata": {
        "colab": {
          "base_uri": "https://localhost:8080/"
        },
        "id": "hGbm4FoTG73N",
        "outputId": "309dc50a-d34a-48a5-a3a6-3b21b986d146"
      },
      "execution_count": null,
      "outputs": [
        {
          "output_type": "execute_result",
          "data": {
            "text/plain": [
              "[('How', (0, 3)),\n",
              " ('Ġare', (3, 7)),\n",
              " ('Ġ', (7, 8)),\n",
              " ('Ġyou', (8, 12)),\n",
              " ('!', (12, 13))]"
            ]
          },
          "metadata": {},
          "execution_count": 40
        }
      ]
    },
    {
      "cell_type": "code",
      "source": [
        "tokenizer(text)"
      ],
      "metadata": {
        "colab": {
          "base_uri": "https://localhost:8080/"
        },
        "id": "ihT8ACRtH51u",
        "outputId": "bc5fb79b-bb59-4890-dea2-8f8989466934"
      },
      "execution_count": null,
      "outputs": [
        {
          "output_type": "execute_result",
          "data": {
            "text/plain": [
              "['How', 'Ġare', 'Ġ', 'Ġyou', '!']"
            ]
          },
          "metadata": {},
          "execution_count": 41
        }
      ]
    },
    {
      "cell_type": "markdown",
      "source": [
        "### Tokenizers from scratch"
      ],
      "metadata": {
        "id": "r9AdMptSWPSS"
      }
    },
    {
      "cell_type": "markdown",
      "source": [
        "#### BERT un-cased"
      ],
      "metadata": {
        "id": "Fry9PmYIZ9KD"
      }
    },
    {
      "cell_type": "code",
      "source": [
        "from tokenizers import decoders, models, normalizers,pre_tokenizers, processors, trainers, Tokenizer\n",
        "from tokenizers import Regex\n",
        "from datasets import load_dataset\n",
        "import re"
      ],
      "metadata": {
        "id": "C6k7-M9TYsu-"
      },
      "execution_count": null,
      "outputs": []
    },
    {
      "cell_type": "code",
      "source": [
        "\n",
        "data = load_dataset('wikitext','wikitext-2-raw-v1',split='train')\n",
        "def get_corpus():\n",
        "  for i in range(0,len(data),1000):\n",
        "    yield data['text'][i:i+1000]"
      ],
      "metadata": {
        "id": "5pBgtOa7WRaT"
      },
      "execution_count": null,
      "outputs": []
    },
    {
      "cell_type": "code",
      "source": [
        "\n",
        "# 1) Build Tokenizer\n",
        "tokenizer = Tokenizer(models.WordPiece(unk_token='[UNK]'))\n",
        "\n",
        "\n",
        "# 2) Build Normalizer\n",
        "# tokenizer.normalizer = normalizers.BertNormalizer(lowercase = True)\n",
        "tokenizer.normalizer = normalizers.Sequence([\n",
        "    normalizers.Replace(Regex(r\"[`']\"),''),\n",
        "    normalizers.NFD(),  # Unicode normalizer will help StipAccents normalizer to recognize accented charachters so it can strip them\n",
        "    normalizers.Lowercase(),\n",
        "    normalizers.StripAccents()\n",
        "])\n",
        "\n",
        "\n",
        "# 3) Build Pre-Tokenizer\n",
        "# tokenizer.pre_tokenizer = pre_tokenizers.BertPreTokenizer()\n",
        "tokenizer.pre_tokenizer = pre_tokenizers.Whitespace()\n",
        "\n",
        "# or\n",
        "tokenizer.pre_tokenizer = pre_tokenizers.Sequence([\n",
        "    pre_tokenizers.WhitespaceSplit(),\n",
        "    pre_tokenizers.Punctuation()\n",
        "])\n",
        "\n",
        "\n",
        "# 4) Build Trainer\n",
        "special_tokens = [\"[UNK]\",\"[PAD]\",\"[SEP]\",\"[CLS]\",\"[MASK]\"]\n",
        "trainer = trainers.WordPieceTrainer(vocab_size=25000,special_tokens = special_tokens)\n"
      ],
      "metadata": {
        "id": "j3fLBBd6ZAEv"
      },
      "execution_count": null,
      "outputs": []
    },
    {
      "cell_type": "code",
      "source": [
        "# test normalizer\n",
        "text = \"I'll come to my friend's home. He came from the U.S.A\"\n",
        "normalized_text = tokenizer.normalizer.normalize_str(text)\n",
        "print(normalized_text)\n",
        "\n",
        "# test pre_tokenizer\n",
        "pre_tokenized_text = tokenizer.pre_tokenizer.pre_tokenize_str(normalized_text)\n",
        "print(pre_tokenized_text)"
      ],
      "metadata": {
        "colab": {
          "base_uri": "https://localhost:8080/"
        },
        "id": "ajivPfCfbRpa",
        "outputId": "28fad8b4-ee3d-4eae-afe4-2df8cca33d4a"
      },
      "execution_count": null,
      "outputs": [
        {
          "output_type": "stream",
          "name": "stdout",
          "text": [
            "ill come to my friends home. he came from the u.s.a\n",
            "[('ill', (0, 3)), ('come', (4, 8)), ('to', (9, 11)), ('my', (12, 14)), ('friends', (15, 22)), ('home', (23, 27)), ('.', (27, 28)), ('he', (29, 31)), ('came', (32, 36)), ('from', (37, 41)), ('the', (42, 45)), ('u', (46, 47)), ('.', (47, 48)), ('s', (48, 49)), ('.', (49, 50)), ('a', (50, 51))]\n"
          ]
        }
      ]
    },
    {
      "cell_type": "code",
      "source": [
        "# 5) Traning\n",
        "tokenizer.train_from_iterator(get_corpus(),trainer=trainer)"
      ],
      "metadata": {
        "id": "EV3RqSx1bgBC"
      },
      "execution_count": null,
      "outputs": []
    },
    {
      "cell_type": "code",
      "source": [
        "tokenizer.encode(\"Let's test this\").tokens"
      ],
      "metadata": {
        "colab": {
          "base_uri": "https://localhost:8080/"
        },
        "id": "vNZgOTUig5yb",
        "outputId": "23a2ddf0-8fd3-4711-cfa9-5562f7d4e55b"
      },
      "execution_count": null,
      "outputs": [
        {
          "output_type": "execute_result",
          "data": {
            "text/plain": [
              "['let', '##s', 'test', 'this']"
            ]
          },
          "metadata": {},
          "execution_count": 99
        }
      ]
    },
    {
      "cell_type": "code",
      "source": [
        "# 6) Set up [CLS] and [SEP] tokens and pair sequence logic to make BERT like tokenizers\n",
        "\n",
        "print(tokenizer.token_to_id(\"[CLS]\"),tokenizer.token_to_id(\"[SEP]\"))\n",
        "\n",
        "tokenizer.post_processor = processors.TemplateProcessing(\n",
        "    single = f\"[CLS]:0 $A:0 [SEP]:0\",\n",
        "    pair = f\"[CLS]:0 $A:0 [SEP]:0 $B:1 [SEP]:1\",\n",
        "    special_tokens = [(\"[CLS]\",3),(\"[SEP]\",2)]\n",
        ")"
      ],
      "metadata": {
        "colab": {
          "base_uri": "https://localhost:8080/"
        },
        "id": "PxMBe8_5iqjG",
        "outputId": "9ee1f463-f890-4ed7-bf6d-8ca248997841"
      },
      "execution_count": null,
      "outputs": [
        {
          "output_type": "stream",
          "name": "stdout",
          "text": [
            "3 2\n"
          ]
        }
      ]
    },
    {
      "cell_type": "code",
      "source": [
        "result = tokenizer.encode('Hello Hamza','hi    hamza')"
      ],
      "metadata": {
        "id": "0rOQ1jLhjjSC"
      },
      "execution_count": null,
      "outputs": []
    },
    {
      "cell_type": "code",
      "source": [
        "result.tokens"
      ],
      "metadata": {
        "colab": {
          "base_uri": "https://localhost:8080/"
        },
        "id": "7wwp4ZTolJFo",
        "outputId": "19a28589-8459-4d62-ae04-60a126b04c97"
      },
      "execution_count": null,
      "outputs": [
        {
          "output_type": "execute_result",
          "data": {
            "text/plain": [
              "['[CLS]', 'hell', '##o', 'ham', '##za', '[SEP]', 'hi', 'ham', '##za', '[SEP]']"
            ]
          },
          "metadata": {},
          "execution_count": 134
        }
      ]
    },
    {
      "cell_type": "code",
      "source": [
        "from transformers import PreTrainedTokenizerFast, BertTokenizerFast\n",
        "\n",
        "# 7) Set up decoder\n",
        "tokenizer.decoder = decoders.WordPiece(prefix='##')\n",
        "\n",
        "tokenizer.save('tokenizer.json')\n",
        "# 8) wrap to FastTokenizer object\n",
        "wrapped_tokenizer = PreTrainedTokenizerFast(\n",
        "    tokenizer_object = tokenizer,\n",
        "    unk_token=\"[UNK]\",\n",
        "    pad_token=\"[PAD]\",\n",
        "    cls_token=\"[CLS]\",\n",
        "    sep_token=\"[SEP]\",\n",
        "    mask_token=\"[MASK]\",\n",
        ")\n",
        "\n",
        "\n",
        "# or\n",
        "wrapped_tokenizer = BertTokenizerFast(\n",
        "    tokenizer_object = tokenizer\n",
        ")\n",
        "\n"
      ],
      "metadata": {
        "id": "l2uv62ucl-Vt"
      },
      "execution_count": null,
      "outputs": []
    },
    {
      "cell_type": "code",
      "source": [
        "wrapped_tokenizer('hello','hi')"
      ],
      "metadata": {
        "colab": {
          "base_uri": "https://localhost:8080/"
        },
        "id": "JS7WYy_Vmrqm",
        "outputId": "b6ecdc85-e328-450b-8329-7c481ce93a17"
      },
      "execution_count": null,
      "outputs": [
        {
          "output_type": "execute_result",
          "data": {
            "text/plain": [
              "{'input_ids': [3, 6008, 793, 2, 7602, 2], 'token_type_ids': [0, 0, 0, 0, 1, 1], 'attention_mask': [1, 1, 1, 1, 1, 1]}"
            ]
          },
          "metadata": {},
          "execution_count": 159
        }
      ]
    },
    {
      "cell_type": "markdown",
      "source": [
        "#### BPE"
      ],
      "metadata": {
        "id": "fATdeQC1rnP2"
      }
    },
    {
      "cell_type": "code",
      "source": [
        "!wget https://raw.githubusercontent.com/dariusk/harpooneers/master/corpus.txt"
      ],
      "metadata": {
        "colab": {
          "base_uri": "https://localhost:8080/"
        },
        "id": "_wduJV_82KdS",
        "outputId": "9c4a90c6-81ad-4e01-d551-a3a54d962544"
      },
      "execution_count": null,
      "outputs": [
        {
          "output_type": "stream",
          "name": "stdout",
          "text": [
            "--2024-08-04 05:24:33--  https://raw.githubusercontent.com/dariusk/harpooneers/master/corpus.txt\n",
            "Resolving raw.githubusercontent.com (raw.githubusercontent.com)... 185.199.111.133, 185.199.109.133, 185.199.108.133, ...\n",
            "Connecting to raw.githubusercontent.com (raw.githubusercontent.com)|185.199.111.133|:443... connected.\n",
            "HTTP request sent, awaiting response... 200 OK\n",
            "Length: 18314868 (17M) [text/plain]\n",
            "Saving to: ‘corpus.txt’\n",
            "\n",
            "corpus.txt          100%[===================>]  17.47M  80.5MB/s    in 0.2s    \n",
            "\n",
            "2024-08-04 05:24:33 (80.5 MB/s) - ‘corpus.txt’ saved [18314868/18314868]\n",
            "\n"
          ]
        }
      ]
    },
    {
      "cell_type": "code",
      "source": [
        "from tokenizers import Tokenizer, models, normalizers, pre_tokenizers, trainers, processors, decoders\n",
        "\n",
        "def text_corpus():\n",
        "  with open(\"/content/corpus.txt\",'r') as f:\n",
        "    for line in f:\n",
        "      yield line\n",
        "\n",
        "\n",
        "tokenizer = Tokenizer(model=models.BPE())\n",
        "\n",
        "tokenizer.pre_tokenizer = pre_tokenizers.ByteLevel(add_prefix_space=False)\n",
        "\n",
        "\n",
        "trainer = trainers.BpeTrainer(vocab_size=25000,special_tokens=[\"<|endoftext|>\"])\n",
        "\n",
        "tokenizer.train_from_iterator(text_corpus(),trainer=trainer)"
      ],
      "metadata": {
        "id": "I4mJpAPgrpBk"
      },
      "execution_count": null,
      "outputs": []
    },
    {
      "cell_type": "code",
      "source": [
        "tokenizer.encode('hello my name is hamza').tokens"
      ],
      "metadata": {
        "colab": {
          "base_uri": "https://localhost:8080/"
        },
        "id": "VZ3dOpDezJ8d",
        "outputId": "7200565e-a24f-4cbf-d9a1-a6dc6e5404fc"
      },
      "execution_count": null,
      "outputs": [
        {
          "output_type": "execute_result",
          "data": {
            "text/plain": [
              "['he', 'llo', 'Ġmy', 'Ġname', 'Ġis', 'Ġham', 'za']"
            ]
          },
          "metadata": {},
          "execution_count": 269
        }
      ]
    },
    {
      "cell_type": "code",
      "source": [
        "tokenizer.token_to_id(\"<|endoftext|>\")"
      ],
      "metadata": {
        "colab": {
          "base_uri": "https://localhost:8080/"
        },
        "id": "hnABSFQj-QL3",
        "outputId": "73bc2893-570e-4915-e1d9-883e9f456901"
      },
      "execution_count": null,
      "outputs": [
        {
          "output_type": "execute_result",
          "data": {
            "text/plain": [
              "0"
            ]
          },
          "metadata": {},
          "execution_count": 270
        }
      ]
    },
    {
      "cell_type": "code",
      "source": [
        "from transformers import PreTrainedTokenizerFast, GPT2TokenizerFast\n",
        "# tokenizer.post_processor = processors.TemplateProcessing(\n",
        "#     single= f'$A:0 <|endoftext|>:0',\n",
        "#     special_tokens = [(\"<|endoftext|>\",0)]\n",
        "# )\n",
        "\n",
        "tokenizer.post_processor = processors.ByteLevel(trim_offsets=False)\n",
        "tokenizer.decoder = decoders.ByteLevel()\n",
        "\n",
        "wraped_tokenizer = PreTrainedTokenizerFast(\n",
        "    tokenizer_object = tokenizer,\n",
        "    bos_token = \"<|endoftext|>\",\n",
        "    eos_token = \"<|endoftext|>\"\n",
        ")\n",
        "# or\n",
        "\n",
        "wraped_tokeznier = GPT2TokenizerFast(tokenizer_object = tokenizer)"
      ],
      "metadata": {
        "id": "SyR3gVuV3q1w"
      },
      "execution_count": null,
      "outputs": []
    },
    {
      "cell_type": "code",
      "source": [
        "wraped_tokeznier('Hello my name is      hamza').tokens()"
      ],
      "metadata": {
        "colab": {
          "base_uri": "https://localhost:8080/"
        },
        "id": "NKSeOkWL-pl8",
        "outputId": "13d74736-9785-47f4-a2fa-6e3a10576cad"
      },
      "execution_count": null,
      "outputs": [
        {
          "output_type": "execute_result",
          "data": {
            "text/plain": [
              "['Hello', 'Ġmy', 'Ġname', 'Ġis', 'ĠĠĠĠĠ', 'Ġham', 'za']"
            ]
          },
          "metadata": {},
          "execution_count": 272
        }
      ]
    },
    {
      "cell_type": "markdown",
      "source": [
        "#### Unigram Tokenizer"
      ],
      "metadata": {
        "id": "Sri6PM7sBqsj"
      }
    },
    {
      "cell_type": "code",
      "source": [
        "tokenzier = Tokenizer(models.Unigram())\n",
        "\n",
        "from tokenizers import Regex\n",
        "\n",
        "tokenizer.normalizer = normalizers.Sequence(\n",
        "    [\n",
        "        normalizers.Replace(\"``\", '\"'),\n",
        "        normalizers.Replace(\"''\", '\"'),\n",
        "        normalizers.NFKD(),\n",
        "        normalizers.StripAccents(),\n",
        "        normalizers.Replace(Regex(\" {2,}\"), \" \"),\n",
        "    ]\n",
        ")\n",
        "\n",
        "tokenizer.pre_tokenizer = pre_tokenizers.Metaspace()\n"
      ],
      "metadata": {
        "id": "QYYMvytPAx9V"
      },
      "execution_count": null,
      "outputs": []
    },
    {
      "cell_type": "code",
      "source": [
        "tokenizer.normalizer.normalize_str(\"''my name is hamza\")"
      ],
      "metadata": {
        "colab": {
          "base_uri": "https://localhost:8080/",
          "height": 35
        },
        "id": "JvZNdNVKIgwn",
        "outputId": "1df76f5b-c7fd-4db1-b3db-8a0d85d58b68"
      },
      "execution_count": null,
      "outputs": [
        {
          "output_type": "execute_result",
          "data": {
            "text/plain": [
              "'\"my name is hamza'"
            ],
            "application/vnd.google.colaboratory.intrinsic+json": {
              "type": "string"
            }
          },
          "metadata": {},
          "execution_count": 283
        }
      ]
    },
    {
      "cell_type": "code",
      "source": [
        "special_tokens = [\"<cls>\", \"<sep>\", \"<unk>\", \"<pad>\", \"<mask>\", \"<s>\", \"</s>\"]\n",
        "trainer = trainers.UnigramTrainer(\n",
        "    vocab_size=25000, special_tokens=special_tokens, unk_token=\"<unk>\"\n",
        ")\n",
        "tokenizer.model = models.Unigram()\n",
        "tokenizer.train_from_iterator(text_corpus(), trainer=trainer)\n"
      ],
      "metadata": {
        "id": "ehL9kLenJK6D"
      },
      "execution_count": null,
      "outputs": []
    },
    {
      "cell_type": "code",
      "source": [
        "cls_token_id = tokenizer.token_to_id(\"<cls>\")\n",
        "sep_token_id = tokenizer.token_to_id(\"<sep>\")\n",
        "print(cls_token_id, sep_token_id)"
      ],
      "metadata": {
        "colab": {
          "base_uri": "https://localhost:8080/"
        },
        "id": "Z2YJ7zEDJQk9",
        "outputId": "9d86e755-9038-434c-a034-13862ce51c54"
      },
      "execution_count": null,
      "outputs": [
        {
          "output_type": "stream",
          "name": "stdout",
          "text": [
            "0 1\n"
          ]
        }
      ]
    },
    {
      "cell_type": "code",
      "source": [
        "tokenizer.post_processor = processors.TemplateProcessing(\n",
        "    single=\"$A:0 <sep>:0 <cls>:2\",\n",
        "    pair=\"$A:0 <sep>:0 $B:1 <sep>:1 <cls>:2\",\n",
        "    special_tokens=[(\"<sep>\", sep_token_id), (\"<cls>\", cls_token_id)],\n",
        ")"
      ],
      "metadata": {
        "id": "1zNVAXlWJf2F"
      },
      "execution_count": null,
      "outputs": []
    },
    {
      "cell_type": "code",
      "source": [
        "tokenizer.decoder = decoders.Metaspace()"
      ],
      "metadata": {
        "id": "jhZ6BbRoJkLM"
      },
      "execution_count": null,
      "outputs": []
    },
    {
      "cell_type": "code",
      "source": [
        "from transformers import PreTrainedTokenizerFast\n",
        "\n",
        "wrapped_tokenizer = PreTrainedTokenizerFast(\n",
        "    tokenizer_object=tokenizer,\n",
        "    bos_token=\"<s>\",\n",
        "    eos_token=\"</s>\",\n",
        "    unk_token=\"<unk>\",\n",
        "    pad_token=\"<pad>\",\n",
        "    cls_token=\"<cls>\",\n",
        "    sep_token=\"<sep>\",\n",
        "    mask_token=\"<mask>\",\n",
        "    padding_side=\"left\",\n",
        ")\n",
        "\n",
        "# Or\n",
        "\n",
        "from transformers import XLNetTokenizerFast\n",
        "\n",
        "wrapped_tokenizer = XLNetTokenizerFast(tokenizer_object=tokenizer)"
      ],
      "metadata": {
        "id": "5lltskqlJxoG"
      },
      "execution_count": null,
      "outputs": []
    },
    {
      "cell_type": "code",
      "source": [
        "text = 'hello hamza'\n",
        "[text[map[0]:map[1]] if map != (0,0) else '<SP>'for map in wrapped_tokenizer(text,return_offsets_mapping=True)['offset_mapping']]"
      ],
      "metadata": {
        "colab": {
          "base_uri": "https://localhost:8080/"
        },
        "id": "d2oeijhwJ0r3",
        "outputId": "e3b905cc-b28d-4c7a-dfa1-d7c05618f971"
      },
      "execution_count": null,
      "outputs": [
        {
          "output_type": "execute_result",
          "data": {
            "text/plain": [
              "['hell', 'o', ' ham', 'za', '<SP>', '<SP>']"
            ]
          },
          "metadata": {},
          "execution_count": 309
        }
      ]
    },
    {
      "cell_type": "code",
      "source": [],
      "metadata": {
        "id": "7nTO8MptLxdU"
      },
      "execution_count": null,
      "outputs": []
    }
  ]
}