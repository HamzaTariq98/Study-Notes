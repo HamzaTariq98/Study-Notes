{
  "cells": [
    {
      "cell_type": "code",
      "execution_count": 1,
      "metadata": {},
      "outputs": [
        {
          "name": "stdout",
          "output_type": "stream",
          "text": [
            "الله\n",
            "بسم الله الرحمن الرحيم\n",
            "محمد\n",
            "ﷺ 1\n",
            "صلى الله عليه وسلم 18\n"
          ]
        }
      ],
      "source": [
        "# Unicode Normalize\n",
        "\n",
        "from camel_tools.utils.normalize import normalize_unicode\n",
        "\n",
        "\n",
        "print(normalize_unicode('ﷲ'))\n",
        "print(normalize_unicode('﷽'))\n",
        "print(normalize_unicode('ﷴ'))\n",
        "code = 'ﷺ'\n",
        "norm_code = normalize_unicode(code)\n",
        "print(code,len(code))\n",
        "print(norm_code,len(norm_code))\n",
        "\n"
      ]
    },
    {
      "cell_type": "code",
      "execution_count": 2,
      "metadata": {},
      "outputs": [],
      "source": [
        "# Normalize\n",
        "\n",
        "from camel_tools.utils.normalize import normalize_alef_ar\n",
        "from camel_tools.utils.normalize import normalize_alef_maksura_ar\n",
        "from camel_tools.utils.normalize import normalize_teh_marbuta_ar"
      ]
    },
    {
      "cell_type": "code",
      "execution_count": 3,
      "metadata": {},
      "outputs": [
        {
          "name": "stdout",
          "output_type": "stream",
          "text": [
            "فإلى الله المشتكى, إنا لله و إنا إليه راجعون. إلي | لعبوا | طالبة\n",
            "فإلي الله المشتكي, إنا لله و إنا إليه راجعون. إلي | لعبوا | طالبة\n",
            "فإلي الله المشتكي, إنا لله و إنا إليه راجعون. إلي | لعبوا | طالبه\n",
            "فالي الله المشتكي, انا لله و انا اليه راجعون. الي | لعبوا | طالبه\n"
          ]
        }
      ],
      "source": [
        "text = 'فإلى الله المشتكى, إنا لله و إنا إليه راجعون. إلي | لعبوا | طالبة'\n",
        "\n",
        "\n",
        "print(text)\n",
        "\n",
        "\n",
        "\n",
        "norm_text = normalize_alef_maksura_ar(text)\n",
        "print(norm_text)\n",
        "\n",
        "norm_text = normalize_teh_marbuta_ar(norm_text)\n",
        "print(norm_text)\n",
        "\n",
        "norm_text = normalize_alef_ar(norm_text)\n",
        "print(norm_text)\n"
      ]
    },
    {
      "cell_type": "code",
      "execution_count": 4,
      "metadata": {},
      "outputs": [
        {
          "name": "stdout",
          "output_type": "stream",
          "text": [
            "ألم ألم ألم ألم\n",
            "ل\n"
          ]
        }
      ],
      "source": [
        "# Dediacritization\n",
        "\n",
        "from camel_tools.utils.dediac import dediac_ar\n",
        "\n",
        "print(dediac_ar('أُلَمُ أَلَمٍ أَلُمْ أَلِمِ'))\n",
        "print(dediac_ar('لًًًَََُُُُ'))\n"
      ]
    },
    {
      "cell_type": "code",
      "execution_count": 5,
      "metadata": {},
      "outputs": [
        {
          "data": {
            "text/plain": [
              "['السلام', 'عليكم', 'كيف', 'الحل', 'يا', 'خال', '؟']"
            ]
          },
          "execution_count": 5,
          "metadata": {},
          "output_type": "execute_result"
        }
      ],
      "source": [
        "# Tokenization\n",
        "\n",
        "from camel_tools.tokenizers.word import simple_word_tokenize\n",
        "\n",
        "simple_word_tokenize('السلام عليكم كيف الحل يا خال؟')"
      ]
    },
    {
      "cell_type": "code",
      "execution_count": 6,
      "metadata": {},
      "outputs": [
        {
          "data": {
            "text/plain": [
              "'>hlFA bkm'"
            ]
          },
          "execution_count": 6,
          "metadata": {},
          "output_type": "execute_result"
        }
      ],
      "source": [
        "# Transliteration\n",
        "\n",
        "from camel_tools.utils.charmap import CharMapper\n",
        "\n",
        "arabeze = CharMapper.builtin_mapper('ar2bw')\n",
        "\n",
        "arabeze('أهلًا بكم')"
      ]
    },
    {
      "cell_type": "code",
      "execution_count": 85,
      "metadata": {},
      "outputs": [
        {
          "data": {
            "text/plain": [
              "{'diac': 'الطَبِيب',\n",
              " 'lex': 'طَبِيب',\n",
              " 'bw': 'ال/DET+طَبِيب/NOUN',\n",
              " 'gloss': 'the+physician;doctor',\n",
              " 'pos': 'noun',\n",
              " 'prc3': '0',\n",
              " 'prc2': '0',\n",
              " 'prc1': '0',\n",
              " 'prc0': 'Al_det',\n",
              " 'per': 'na',\n",
              " 'asp': 'na',\n",
              " 'vox': 'na',\n",
              " 'mod': 'na',\n",
              " 'stt': 'd',\n",
              " 'cas': 'u',\n",
              " 'enc0': '0',\n",
              " 'rat': 'r',\n",
              " 'source': 'lex',\n",
              " 'form_gen': 'm',\n",
              " 'form_num': 's',\n",
              " 'd3seg': 'ال+_طَّبِيب',\n",
              " 'caphi': '2_a_t._t._a_b_ii_b',\n",
              " 'd1tok': 'الطَّبِيب',\n",
              " 'd2tok': 'الطَّبِيب',\n",
              " 'pos_logprob': -0.4344233,\n",
              " 'd3tok': 'ال+_طَبِيب',\n",
              " 'd2seg': 'الطَّبِيب',\n",
              " 'pos_lex_logprob': -4.183067,\n",
              " 'num': 's',\n",
              " 'ud': 'NOUN',\n",
              " 'gen': 'm',\n",
              " 'catib6': 'NOM',\n",
              " 'root': 'ط.ب.ب',\n",
              " 'bwtok': 'ال+_طَبِيب',\n",
              " 'pattern': 'ال1َ2ِي3',\n",
              " 'lex_logprob': -4.183067,\n",
              " 'atbtok': 'الطَّبِيب',\n",
              " 'atbseg': 'الطَّبِيب',\n",
              " 'd1seg': 'الطَّبِيب',\n",
              " 'stem': 'طَبِيب',\n",
              " 'stemgloss': 'physician;doctor',\n",
              " 'stemcat': 'N/ap'}"
            ]
          },
          "execution_count": 85,
          "metadata": {},
          "output_type": "execute_result"
        }
      ],
      "source": [
        "# Morphological Analysis\n",
        "\n",
        "from camel_tools.morphology.database import MorphologyDB\n",
        "from camel_tools.morphology.analyzer import Analyzer\n",
        "db = MorphologyDB.builtin_db()\n",
        "analyzer = Analyzer(db)\n",
        "\n",
        "text = \"الطبيب\"\n",
        "analyzer.analyze(text)[0]\n",
        "\n"
      ]
    },
    {
      "cell_type": "code",
      "execution_count": 114,
      "metadata": {},
      "outputs": [],
      "source": [
        "# Morphological Generation\n",
        "\n",
        "from camel_tools.morphology.database import MorphologyDB\n",
        "from camel_tools.morphology.generator import Generator\n",
        "\n",
        "\n",
        "db = MorphologyDB.builtin_db(flags='g')\n",
        "generator = Generator(db)\n",
        "\n",
        "\n"
      ]
    },
    {
      "cell_type": "code",
      "execution_count": 115,
      "metadata": {},
      "outputs": [],
      "source": [
        "lemma = 'مُوَظَّف'\n",
        "\n",
        "features = {\n",
        "    'pos': 'noun',\n",
        "    'gen': 'm',\n",
        "    'num': 'p'\n",
        "}\n",
        "\n",
        "\n",
        "analysis = generator.generate(lemma,features)\n",
        "for diac in set(a['diac'] for a in analysis):\n",
        "    print(diac)"
      ]
    },
    {
      "cell_type": "code",
      "execution_count": 116,
      "metadata": {},
      "outputs": [],
      "source": [
        "# Morphological Reinflection\n",
        "\n",
        "from camel_tools.morphology.database import MorphologyDB\n",
        "from camel_tools.morphology.reinflector import Reinflector\n",
        "\n",
        "db = MorphologyDB.builtin_db(flags='r')\n",
        "reinflector = Reinflector(db)\n",
        "\n"
      ]
    },
    {
      "cell_type": "code",
      "execution_count": 120,
      "metadata": {},
      "outputs": [
        {
          "name": "stdout",
          "output_type": "stream",
          "text": [
            "بِشارِعٍ\n",
            "بِشارِع\n",
            "بِشارِعِ\n"
          ]
        }
      ],
      "source": [
        "word = 'شوارع'\n",
        "\n",
        "features = {\n",
        "    'num': 's',\n",
        "    'prc1': 'bi_prep'\n",
        "}\n",
        "\n",
        "analysis = reinflector.reinflect(word,features)\n",
        "for diac in set(a['diac'] for a in analysis):\n",
        "    print(diac)"
      ]
    },
    {
      "cell_type": "code",
      "execution_count": 123,
      "metadata": {},
      "outputs": [
        {
          "name": "stdout",
          "output_type": "stream",
          "text": [
            "('نَجَحَ', 'verb', 'نَجَح')\n",
            "('بايدين', 'noun_prop', 'بايدين')\n",
            "('فِي', 'prep', 'فِي')\n",
            "('الاِنْتِخاباتِ', 'noun', 'ٱِنْتِخاب')\n"
          ]
        }
      ],
      "source": [
        "# Morphological Disambiguation\n",
        "\n",
        "from camel_tools.disambig.mle import MLEDisambiguator\n",
        "\n",
        "mle = MLEDisambiguator.pretrained()\n",
        "sentence = 'نجح بايدين في الانتخابات'.split()\n",
        "\n",
        "disambig = mle.disambiguate(sentence)\n",
        "\n",
        "diacritized = [d.analyses[0].analysis['diac'] for d in disambig]\n",
        "pos_tags = [d.analyses[0].analysis['pos'] for d in disambig]\n",
        "lemmas = [d.analyses[0].analysis['lex'] for d in disambig]\n",
        "\n",
        "for triplet in zip(diacritized, pos_tags, lemmas):\n",
        "    print(triplet)\n"
      ]
    },
    {
      "cell_type": "code",
      "execution_count": 131,
      "metadata": {},
      "outputs": [
        {
          "data": {
            "text/plain": [
              "(['نَجَحَ', 'بايدين', 'فِي', 'الاِنْتِخاباتِ'],\n",
              " ['نَجَح', 'بايدين', 'فِي', 'ٱِنْتِخاب'],\n",
              " ['verb', 'noun_prop', 'prep', 'noun'])"
            ]
          },
          "execution_count": 131,
          "metadata": {},
          "output_type": "execute_result"
        }
      ],
      "source": [
        "diacritized,lemmas,pos_tags"
      ]
    },
    {
      "cell_type": "code",
      "execution_count": 136,
      "metadata": {},
      "outputs": [
        {
          "data": {
            "text/plain": [
              "['إ', 'ل', 'س', 'ل', 'إ', 'م', ' ', 'ع', 'ل', 'ي', 'ك', 'م']"
            ]
          },
          "execution_count": 136,
          "metadata": {},
          "output_type": "execute_result"
        }
      ],
      "source": [
        "# Morphological Tokenizer\n",
        "\n",
        "from camel_tools.disambig.mle import MLEDisambiguator\n",
        "from camel_tools.tokenizers.morphological import MorphologicalTokenizer\n",
        "\n",
        "mled = MLEDisambiguator.pretrained('calima-msa-r13')\n",
        "\n",
        "\n",
        "\n"
      ]
    },
    {
      "cell_type": "code",
      "execution_count": 153,
      "metadata": {},
      "outputs": [
        {
          "name": "stdout",
          "output_type": "stream",
          "text": [
            "['ف+_قال', 'ال+_غلام', 'أين', 'أنتم']\n",
            "['ف+', 'قال', 'ال+', 'غلام', 'أين', 'أنتم']\n",
            "['فَ+', 'قالَ', 'ال+', 'غُلام', 'أَيْنَ', 'أَنْتُم']\n"
          ]
        }
      ],
      "source": [
        "sentence = 'فقال الغلام أين أنتم'\n",
        "sentence = sentence.split()\n",
        "\n",
        "tokenizer = MorphologicalTokenizer(disambiguator=mled,scheme='d3tok')\n",
        "print(tokenizer.tokenize(sentence))\n",
        "\n",
        "\n",
        "tokenizer = MorphologicalTokenizer(disambiguator=mled,scheme='d3tok',split=True)\n",
        "print(tokenizer.tokenize(sentence))\n",
        "\n",
        "\n",
        "tokenizer = MorphologicalTokenizer(disambiguator=mled,scheme='d3tok',split=True,diac=True)\n",
        "print(tokenizer.tokenize(sentence))\n",
        "\n"
      ]
    },
    {
      "cell_type": "code",
      "execution_count": 157,
      "metadata": {},
      "outputs": [
        {
          "ename": "PretrainedModelError",
          "evalue": "No pretrained model for current Python version found.",
          "output_type": "error",
          "traceback": [
            "\u001b[0;31m---------------------------------------------------------------------------\u001b[0m",
            "\u001b[0;31mPretrainedModelError\u001b[0m                      Traceback (most recent call last)",
            "Cell \u001b[0;32mIn[157], line 5\u001b[0m\n\u001b[1;32m      1\u001b[0m \u001b[38;5;66;03m# Dialect Identification\u001b[39;00m\n\u001b[1;32m      3\u001b[0m \u001b[38;5;28;01mfrom\u001b[39;00m \u001b[38;5;21;01mcamel_tools\u001b[39;00m\u001b[38;5;21;01m.\u001b[39;00m\u001b[38;5;21;01mdialectid\u001b[39;00m \u001b[38;5;28;01mimport\u001b[39;00m DialectIdentifier\n\u001b[0;32m----> 5\u001b[0m did \u001b[38;5;241m=\u001b[39m \u001b[43mDialectIdentifier\u001b[49m\u001b[38;5;241;43m.\u001b[39;49m\u001b[43mpretrained\u001b[49m\u001b[43m(\u001b[49m\u001b[43m)\u001b[49m\n\u001b[1;32m      7\u001b[0m sentences \u001b[38;5;241m=\u001b[39m [\n\u001b[1;32m      8\u001b[0m     \u001b[38;5;124m'\u001b[39m\u001b[38;5;124mسال الهوى و مالي شكون اللي جابني ليك ما كنت ناويا نف قلبي بلاو بيك\u001b[39m\u001b[38;5;124m'\u001b[39m,\n\u001b[1;32m      9\u001b[0m     \u001b[38;5;124m'\u001b[39m\u001b[38;5;124mبيدي دوب قلبي قلبي بجنون بحبك أنا مجنون ما بنسا حبك يوم\u001b[39m\u001b[38;5;124m'\u001b[39m\n\u001b[1;32m     10\u001b[0m ]\n\u001b[1;32m     12\u001b[0m predictions \u001b[38;5;241m=\u001b[39m did\u001b[38;5;241m.\u001b[39mpredict(sentences, \u001b[38;5;124m'\u001b[39m\u001b[38;5;124mcity\u001b[39m\u001b[38;5;124m'\u001b[39m)\n",
            "File \u001b[0;32m~/anaconda3/envs/torch/lib/python3.11/site-packages/camel_tools/dialectid/__init__.py:615\u001b[0m, in \u001b[0;36mDialectIdentifier.pretrained\u001b[0;34m()\u001b[0m\n\u001b[1;32m    612\u001b[0m model_path \u001b[38;5;241m=\u001b[39m Path(_DATA_DIR, model_file_name)\n\u001b[1;32m    614\u001b[0m \u001b[38;5;28;01mif\u001b[39;00m \u001b[38;5;129;01mnot\u001b[39;00m model_path\u001b[38;5;241m.\u001b[39mis_file():\n\u001b[0;32m--> 615\u001b[0m     \u001b[38;5;28;01mraise\u001b[39;00m PretrainedModelError(\n\u001b[1;32m    616\u001b[0m         \u001b[38;5;124m'\u001b[39m\u001b[38;5;124mNo pretrained model for current Python version found.\u001b[39m\u001b[38;5;124m'\u001b[39m)\n\u001b[1;32m    618\u001b[0m \u001b[38;5;28;01mwith\u001b[39;00m model_path\u001b[38;5;241m.\u001b[39mopen(\u001b[38;5;124m'\u001b[39m\u001b[38;5;124mrb\u001b[39m\u001b[38;5;124m'\u001b[39m) \u001b[38;5;28;01mas\u001b[39;00m model_fp:\n\u001b[1;32m    619\u001b[0m     model \u001b[38;5;241m=\u001b[39m dill\u001b[38;5;241m.\u001b[39mload(model_fp)\n",
            "\u001b[0;31mPretrainedModelError\u001b[0m: No pretrained model for current Python version found."
          ]
        }
      ],
      "source": [
        "# Dialect Identification\n",
        "\n",
        "from camel_tools.dialectid import DialectIdentifier\n",
        "\n",
        "did = DialectIdentifier.pretrained()\n",
        "\n",
        "sentences = [\n",
        "    'سال الهوى و مالي شكون اللي جابني ليك ما كنت ناويا نف قلبي بلاو بيك',\n",
        "    'بيدي دوب قلبي قلبي بجنون بحبك أنا مجنون ما بنسا حبك يوم'\n",
        "]\n",
        "\n",
        "predictions = did.predict(sentences, 'city')\n",
        "print([p.top for p in predictions])\n",
        "\n",
        "predictions = did.predict(sentences, 'country')\n",
        "print([p.top for p in predictions])\n",
        "\n",
        "predictions = did.predict(sentences, 'region')\n",
        "print([p.top for p in predictions])\n"
      ]
    }
  ],
  "metadata": {
    "accelerator": "GPU",
    "colab": {
      "gpuType": "T4",
      "provenance": []
    },
    "kernelspec": {
      "display_name": "Python 3",
      "name": "python3"
    },
    "language_info": {
      "codemirror_mode": {
        "name": "ipython",
        "version": 3
      },
      "file_extension": ".py",
      "mimetype": "text/x-python",
      "name": "python",
      "nbconvert_exporter": "python",
      "pygments_lexer": "ipython3",
      "version": "3.11.7"
    }
  },
  "nbformat": 4,
  "nbformat_minor": 0
}
