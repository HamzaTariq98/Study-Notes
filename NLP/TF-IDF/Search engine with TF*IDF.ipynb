{
  "cells": [
    {
      "cell_type": "code",
      "execution_count": 8,
      "metadata": {},
      "outputs": [],
      "source": [
        "import os\n",
        "from sklearn.feature_extraction.text import TfidfVectorizer"
      ]
    },
    {
      "cell_type": "code",
      "execution_count": 9,
      "metadata": {},
      "outputs": [],
      "source": [
        "corpus = [\n",
        "    'A straightforward way to make a search engine is using a vector space model (VSM). In this post, let’s look at the concept of VSM and implement it in Python 3 using Numpy, Pandas and Scikit-Learn.',\n",
        "    'GRU or Gated recurrent unit is an advancement of the standard RNN i.e recurrent neural network. It was introduced by Kyunghyun Cho et al in the year 2014. GRUs are very similar to Long Short Term Memory(LSTM). Just like LSTM, GRU uses gates to control the flow of information.',\n",
        "    'CAMeL Tools is a suite of Arabic natural language processing tools developed by the CAMeL Lab at New York University Abu Dhabi.',\n",
        "    'Whether it’s Bill Gates at Microsoft, who became CEO after founding the company in 1975; Mark Zuckerberg at Facebook, who went from Harvard student to CEO in just six years; or any of the other countless CEOs who have made it to the top, their success is something many of us aspire to achieve. The path to becoming a CEO, however, is not as straightforward as many people might think. While some may choose to start their own companies, for most, the only way to reach the pinnacle of success is to climb the corporate ladder one rung at a time.',\n",
        "    '''Apples are healthy, tasty, and among the most popular fruits in the world.\n",
        "Although they are not particularly rich in vitamins and minerals, they’re a good source of fibers and antioxidants.\n",
        "Apples may have several benefits, including improved heart health and a lower risk of cancer and diabetes. They may also aid weight loss.\n",
        "If you want to eat healthy, apples are an excellent choice.'''\n",
        "]\n",
        "\n",
        "urls = [\n",
        "    'https://medium.com/@kartheek_akella/implementing-the-tf-idf-search-engine-5e9a42b1d30b',\n",
        "    'https://www.analyticsvidhya.com/blog/2021/03/introduction-to-gated-recurrent-unit-gru/#:~:text=GRU%20or%20Gated%20recurrent%20unit,control%20the%20flow%20of%20information.',\n",
        "    'https://camel-tools.readthedocs.io/en/latest/overview.html#about',\n",
        "    'https://crummer.rollins.edu/resources/how-to-become-a-ceo/',\n",
        "    'https://www.healthline.com/nutrition/foods/apples#bottom-line'\n",
        "]"
      ]
    },
    {
      "cell_type": "code",
      "execution_count": 10,
      "metadata": {},
      "outputs": [
        {
          "data": {
            "text/plain": [
              "(5, 5)"
            ]
          },
          "execution_count": 10,
          "metadata": {},
          "output_type": "execute_result"
        }
      ],
      "source": [
        "len(corpus),len(urls)"
      ]
    },
    {
      "cell_type": "code",
      "execution_count": 11,
      "metadata": {},
      "outputs": [],
      "source": [
        "\n",
        "vectorizer = TfidfVectorizer()\n",
        "corpus_vectorized = vectorizer.fit_transform(corpus)"
      ]
    },
    {
      "cell_type": "code",
      "execution_count": 45,
      "metadata": {},
      "outputs": [
        {
          "name": "stdout",
          "output_type": "stream",
          "text": [
            "14.0 \t https://www.analyticsvidhya.com/blog/2021/03/introduction-to-gated-recurrent-unit-gru/#:~:text=GRU%20or%20Gated%20recurrent%20unit,control%20the%20flow%20of%20information.\n",
            "0.0 \t https://medium.com/@kartheek_akella/implementing-the-tf-idf-search-engine-5e9a42b1d30b\n",
            "0.0 \t https://camel-tools.readthedocs.io/en/latest/overview.html#about\n",
            "0.0 \t https://crummer.rollins.edu/resources/how-to-become-a-ceo/\n",
            "0.0 \t https://www.healthline.com/nutrition/foods/apples#bottom-line\n"
          ]
        }
      ],
      "source": [
        "import numpy as np\n",
        "from torch import softmax\n",
        "import torch\n",
        "\n",
        "def search(text,vectorizer,corpus_vectorized):\n",
        "\n",
        "    vector1 = vectorizer.transform([text]).toarray().reshape(-1)\n",
        "    distances = []\n",
        "    for index,vector in enumerate(corpus_vectorized):\n",
        "        vector2 = vector.toarray().reshape(-1)\n",
        "        cosine_similarity = np.dot(vector1, vector2) / (np.linalg.norm(vector1) * np.linalg.norm(vector2))\n",
        "        distances.append((cosine_similarity*100//1,corpus[index],urls[index]))\n",
        "\n",
        "    distances.sort(key= lambda x:x[0],reverse=True)\n",
        "    return distances\n",
        "\n",
        "\n",
        "text = 'deep learning with rnn'\n",
        "\n",
        "for prob,text,url in search(text,vectorizer=vectorizer,corpus_vectorized=corpus_vectorized):\n",
        "    print(prob,'\\t',url)"
      ]
    },
    {
      "cell_type": "code",
      "execution_count": null,
      "metadata": {},
      "outputs": [],
      "source": []
    }
  ],
  "metadata": {
    "accelerator": "GPU",
    "colab": {
      "gpuType": "T4",
      "provenance": []
    },
    "kernelspec": {
      "display_name": "Python 3",
      "name": "python3"
    },
    "language_info": {
      "codemirror_mode": {
        "name": "ipython",
        "version": 3
      },
      "file_extension": ".py",
      "mimetype": "text/x-python",
      "name": "python",
      "nbconvert_exporter": "python",
      "pygments_lexer": "ipython3",
      "version": "3.11.7"
    }
  },
  "nbformat": 4,
  "nbformat_minor": 0
}
