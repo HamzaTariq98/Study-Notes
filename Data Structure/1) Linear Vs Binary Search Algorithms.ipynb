{
 "cells": [
  {
   "cell_type": "markdown",
   "id": "3da5ef55",
   "metadata": {},
   "source": [
    "## Linear Search"
   ]
  },
  {
   "cell_type": "code",
   "execution_count": 27,
   "id": "02148fe9",
   "metadata": {
    "scrolled": true
   },
   "outputs": [],
   "source": [
    "import time\n",
    "import pandas as pd\n",
    "import matplotlib.pyplot as plt\n",
    "\n",
    "def Lin_Search(text,x):\n",
    "    iterations = 0\n",
    "    for i in range(len(text)):\n",
    "        iterations = iterations + 1\n",
    "        if x == text[i]:\n",
    "            return i,iterations\n",
    "    return -1,iterations\n",
    "\n",
    "\n",
    "def Bin_Search(text,x):\n",
    "    iterations = 0\n",
    "    while len(text) != 1:\n",
    "        index = len(text)//2\n",
    "        iterations = iterations + 1\n",
    "        if text[index] == x:\n",
    "            return index,iterations\n",
    "        else:\n",
    "            if x>text[index]:\n",
    "                text = text[index+1:]\n",
    "            else:\n",
    "                text = text[0:index]\n",
    "    index = len(text)//2\n",
    "    if text[index]==x:\n",
    "        return index,iterations\n",
    "    else:\n",
    "        return -1,iterations\n",
    "                \n",
    "\n",
    "\n",
    "\n",
    "\n",
    "result_metric = pd.DataFrame({}, columns= ['text len','Bin_eff','Lin_eff'])\n",
    "\n",
    "for i in range(10,1000,10):\n",
    "    text = range(i)\n",
    "    x = i-1\n",
    "    result,iterations_bin = Bin_Search(text,x)\n",
    "    result,iterations_lin = Lin_Search(text,x)\n",
    "    \n",
    "    new_row = pd.DataFrame({'text len': [i], 'Bin_eff': [iterations_bin], 'Lin_eff': [iterations_lin]})\n",
    "    result_metric = pd.concat([result_metric, new_row], ignore_index=True)\n",
    "    "
   ]
  },
  {
   "cell_type": "code",
   "execution_count": 28,
   "id": "b04df181",
   "metadata": {},
   "outputs": [
    {
     "data": {
      "text/html": [
       "<div>\n",
       "<style scoped>\n",
       "    .dataframe tbody tr th:only-of-type {\n",
       "        vertical-align: middle;\n",
       "    }\n",
       "\n",
       "    .dataframe tbody tr th {\n",
       "        vertical-align: top;\n",
       "    }\n",
       "\n",
       "    .dataframe thead th {\n",
       "        text-align: right;\n",
       "    }\n",
       "</style>\n",
       "<table border=\"1\" class=\"dataframe\">\n",
       "  <thead>\n",
       "    <tr style=\"text-align: right;\">\n",
       "      <th></th>\n",
       "      <th>text len</th>\n",
       "      <th>Bin_eff</th>\n",
       "      <th>Lin_eff</th>\n",
       "    </tr>\n",
       "  </thead>\n",
       "  <tbody>\n",
       "    <tr>\n",
       "      <th>0</th>\n",
       "      <td>10</td>\n",
       "      <td>2</td>\n",
       "      <td>10</td>\n",
       "    </tr>\n",
       "    <tr>\n",
       "      <th>1</th>\n",
       "      <td>20</td>\n",
       "      <td>3</td>\n",
       "      <td>20</td>\n",
       "    </tr>\n",
       "    <tr>\n",
       "      <th>2</th>\n",
       "      <td>30</td>\n",
       "      <td>4</td>\n",
       "      <td>30</td>\n",
       "    </tr>\n",
       "    <tr>\n",
       "      <th>3</th>\n",
       "      <td>40</td>\n",
       "      <td>4</td>\n",
       "      <td>40</td>\n",
       "    </tr>\n",
       "    <tr>\n",
       "      <th>4</th>\n",
       "      <td>50</td>\n",
       "      <td>5</td>\n",
       "      <td>50</td>\n",
       "    </tr>\n",
       "    <tr>\n",
       "      <th>...</th>\n",
       "      <td>...</td>\n",
       "      <td>...</td>\n",
       "      <td>...</td>\n",
       "    </tr>\n",
       "    <tr>\n",
       "      <th>94</th>\n",
       "      <td>950</td>\n",
       "      <td>9</td>\n",
       "      <td>950</td>\n",
       "    </tr>\n",
       "    <tr>\n",
       "      <th>95</th>\n",
       "      <td>960</td>\n",
       "      <td>9</td>\n",
       "      <td>960</td>\n",
       "    </tr>\n",
       "    <tr>\n",
       "      <th>96</th>\n",
       "      <td>970</td>\n",
       "      <td>9</td>\n",
       "      <td>970</td>\n",
       "    </tr>\n",
       "    <tr>\n",
       "      <th>97</th>\n",
       "      <td>980</td>\n",
       "      <td>9</td>\n",
       "      <td>980</td>\n",
       "    </tr>\n",
       "    <tr>\n",
       "      <th>98</th>\n",
       "      <td>990</td>\n",
       "      <td>9</td>\n",
       "      <td>990</td>\n",
       "    </tr>\n",
       "  </tbody>\n",
       "</table>\n",
       "<p>99 rows × 3 columns</p>\n",
       "</div>"
      ],
      "text/plain": [
       "   text len Bin_eff Lin_eff\n",
       "0        10       2      10\n",
       "1        20       3      20\n",
       "2        30       4      30\n",
       "3        40       4      40\n",
       "4        50       5      50\n",
       "..      ...     ...     ...\n",
       "94      950       9     950\n",
       "95      960       9     960\n",
       "96      970       9     970\n",
       "97      980       9     980\n",
       "98      990       9     990\n",
       "\n",
       "[99 rows x 3 columns]"
      ]
     },
     "execution_count": 28,
     "metadata": {},
     "output_type": "execute_result"
    }
   ],
   "source": [
    "# This metric shown the text len vs #Iterations it took both Linear and binary algorithms to search for the x value in the text\n",
    "result_metric"
   ]
  },
  {
   "cell_type": "code",
   "execution_count": 29,
   "id": "d611614c",
   "metadata": {},
   "outputs": [
    {
     "data": {
      "image/png": "[encoded data removed]",
      "text/plain": [
       "<Figure size 640x480 with 1 Axes>"
      ]
     },
     "metadata": {},
     "output_type": "display_data"
    }
   ],
   "source": [
    "plt.plot(result_metric['text len'],result_metric['Bin_eff'])\n",
    "plt.show()"
   ]
  }
 ],
 "metadata": {
  "kernelspec": {
   "display_name": "Python 3 (ipykernel)",
   "language": "python",
   "name": "python3"
  },
  "language_info": {
   "codemirror_mode": {
    "name": "ipython",
    "version": 3
   },
   "file_extension": ".py",
   "mimetype": "text/x-python",
   "name": "python",
   "nbconvert_exporter": "python",
   "pygments_lexer": "ipython3",
   "version": "3.10.9"
  }
 },
 "nbformat": 4,
 "nbformat_minor": 5
}
