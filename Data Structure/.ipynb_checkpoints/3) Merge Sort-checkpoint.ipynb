{
 "cells": [
  {
   "cell_type": "markdown",
   "id": "a39d854d",
   "metadata": {},
   "source": [
    "### Divide and conquer:\n",
    "Devide the problem into sub emelemnts which make solving it easier and faster"
   ]
  },
  {
   "cell_type": "code",
   "execution_count": 1,
   "id": "55a6f40a",
   "metadata": {},
   "outputs": [],
   "source": [
    "def merge_sort(list):\n",
    "    pass\n",
    "\n"
   ]
  },
  {
   "cell_type": "code",
   "execution_count": null,
   "id": "181f3d1b",
   "metadata": {},
   "outputs": [],
   "source": []
  }
 ],
 "metadata": {
  "kernelspec": {
   "display_name": "Python 3 (ipykernel)",
   "language": "python",
   "name": "python3"
  },
  "language_info": {
   "codemirror_mode": {
    "name": "ipython",
    "version": 3
   },
   "file_extension": ".py",
   "mimetype": "text/x-python",
   "name": "python",
   "nbconvert_exporter": "python",
   "pygments_lexer": "ipython3",
   "version": "3.10.9"
  }
 },
 "nbformat": 4,
 "nbformat_minor": 5
}
